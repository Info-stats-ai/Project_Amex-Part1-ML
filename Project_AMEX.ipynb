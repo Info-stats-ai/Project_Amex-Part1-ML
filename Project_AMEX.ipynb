{
  "cells": [
    {
      "cell_type": "markdown",
      "metadata": {
        "id": "xifGPPvxjQv2"
      },
      "source": [
        " STEPS INVOLVED(Tentative):\n",
        "\n",
        " 1. DATA CLEANING:-\n",
        "\n",
        "  * Remove Duplicate\n",
        "  * Error Handling\n",
        "  * Data Validation\n",
        " 2. DATA PREPROCESSING:-\n",
        "  * Filling NaN values and Missing Values\n",
        "  * Format check all every single column.\n",
        "  * Dimensionality Reduction techniques like PCA , T-SNE\n",
        "  * Feature importance\n",
        "  * Feature selection\n",
        " 3. EDA\n",
        " 4. Feature Engineering\n",
        " 5. Train different ML and DL Models.\n",
        " 6. Hyperparameter tuning for the best model fit and minimizing the the required loss function.\n",
        "\n",
        "\n"
      ]
    },
    {
      "cell_type": "markdown",
      "metadata": {
        "id": "Mrl5mOoRj6JJ"
      },
      "source": [
        "#### Location of the dataset api :- kaggle competitions download -c amex-default-prediction\n",
        "\n",
        "#### Link for the dataset :- https://www.kaggle.com/competitions/amex-default-prediction/data"
      ]
    },
    {
      "cell_type": "markdown",
      "metadata": {
        "id": "_xbcZg6igBzZ"
      },
      "source": [
        "### Project part II\n",
        "\n",
        "\n",
        "\n",
        "\n",
        "1. The column names of the feature(s) you plan to use for the final project, and the target outcome you plan to determine using these features.\n",
        "\n",
        "  The dataset contains features regarding customer profile at each statement date. Features are anonymized and the fall in these categories :-\n",
        "\n",
        "  Delinquency (D_*), Spend (S_*), Payment (P_*), Balance (B_*), and Risk (R_*).\n",
        "  We will be using these features for the final project. Along the process we will drop features which are less relevant, thus keeping only important features.\n",
        "\n",
        "  The target is a binary variable, and it tells us whether a customer has paid or has not paid his due amount in 120 days after their latest statement, therefore we will predict this target variable using the features.\n",
        "\n",
        "\n",
        "2.  Your initial plan for any feature engineering (e.g. adding a Boolean for weekend vs. weekday or taking the ratio of two other features).\n",
        "\n",
        "  For the American Express Default Prediction, the initial approach will involve:\n",
        "\n",
        "\n",
        "\n",
        "*   Categorical columns:\n",
        "  * Apply one-hot encoding for nominal categories and  for cardinal data.\n",
        "  * Use frequency or target encoding with smoothing to capture relationships with the target variables.\n",
        "\n",
        "\n",
        "*   Numerical columns:\n",
        "  * Handle missing data using KNN imputation or Missing Value imputation using ML models.\n",
        "  * Scale features and create meaningful interactions (ratios, differences).\n",
        "  * Apply PCA  or  LDA to reduce dimensionality.\n",
        "\n",
        "\n",
        "*   Time-based columns (date columns):\n",
        "  * Create lagged features and rolling windows to capture customer behavior over time.\n",
        "\n",
        "\n",
        "*   Aggregation:\n",
        "  * Aggregate transaction-level data to customer-level using statistics like mean, sum, and standard deviation.\n",
        "\n",
        "\n",
        "*   Feature selection:\n",
        "  * Apply techniques to retain the most important features for model refinement.\n",
        "\n",
        "\n",
        "\n",
        "\n",
        "\n",
        "3. If you plan to use any sort of method for dealing with imbalanced data, detail your overall approach (e.g. \"will oversample class XYZ\", or \"will create synthetic data using SMOTE\"). If you do not intend to use any techniques to deal with imbalanced data, explain why it is not necessary (e.g. \"all features are at worst imbalanced 7:3\").\n",
        "\n",
        "  Based on the initial data analysis we saw that % data for people who default is less as compared to people who have paid. To handle this situation we are planning to use different methods, and will see which one works best for us. Also we know that credit defaults are typically rare events, often comprising less %age of the dataset.\n",
        "\n",
        "  * **Oversampling the minority class:** We'll use techniques like SMOTE (Synthetic Minority Over-sampling Technique) to create synthetic examples of the minority class. This will help balance the dataset without simply duplicating existing data points.\n",
        "\n",
        "  * **Undersampling the majority class:** We'll carefully undersample the majority class (non-defaulters) using methods like Random Under Sampling or Tomek links to remove some of the majority instances while maintaining the dataset's quality.\n",
        "\n",
        "  * **Ensemble methods:** We'll use ensemble techniques like BalancedRandomForestClassifier or EasyEnsembleClassifier, which are designed to handle imbalanced datasets effectively.\n",
        "\n",
        "  * **Class-weight adjustment:** Assign higher weights to the minority class in algorithms like Random Forest, XGBoost, or Logistic Regression making the model more sensitive to defaults.\n",
        "\n",
        "  Here are some initial techniques that we are planning to use. Along the process if we find more useful techniques we will use them as well, and then we will carefully monitor performance metrics to see which methods are more effective to give us more accurate results.\n",
        "\n"
      ]
    },
    {
      "cell_type": "markdown",
      "source": [
        "#### Importing all the necessary libraries"
      ],
      "metadata": {
        "id": "zxiLY8onHNq9"
      }
    },
    {
      "cell_type": "code",
      "execution_count": null,
      "metadata": {
        "id": "1Mr7z6wYh9JU"
      },
      "outputs": [],
      "source": []
    },
    {
      "cell_type": "code",
      "execution_count": null,
      "metadata": {
        "id": "Kev7gKQ5_D8F"
      },
      "outputs": [],
      "source": [
        "import numpy as np\n",
        "import pandas as pd\n",
        "import seaborn as sns\n",
        "import matplotlib.pyplot as plt\n",
        "import matplotlib.colors\n",
        "import plotly.express as px\n",
        "import plotly.graph_objects as go\n",
        "from plotly.subplots import make_subplots\n",
        "from plotly.offline import init_notebook_mode\n",
        "from sklearn.preprocessing import LabelEncoder\n",
        "from sklearn.model_selection import StratifiedKFold\n",
        "from sklearn.metrics import roc_auc_score, roc_curve, auc\n",
        "\n",
        "import warnings, gc\n",
        "from sklearn.model_selection import train_test_split\n",
        "from sklearn.linear_model import LogisticRegression\n",
        "from sklearn.tree import DecisionTreeClassifier\n",
        "from sklearn.ensemble import RandomForestClassifier\n",
        "from sklearn.metrics import accuracy_score\n",
        "import gc\n",
        "from sklearn.preprocessing import LabelEncoder\n",
        "warnings.filterwarnings('ignore')"
      ]
    },
    {
      "cell_type": "code",
      "execution_count": null,
      "metadata": {
        "id": "Z10FcTYXhyBW"
      },
      "outputs": [],
      "source": []
    },
    {
      "cell_type": "markdown",
      "metadata": {
        "id": "NsN6wye0Aeyp"
      },
      "source": [
        "### Reading the dataset"
      ]
    },
    {
      "cell_type": "markdown",
      "metadata": {
        "id": "vmjdVa-Iqz7Y"
      },
      "source": [
        "Reading the dataset.\n",
        "\n",
        "Data preprocessing.\n",
        "\n",
        "Data analysis\n",
        "\n",
        "Feature Engineering\n",
        "\n",
        "Model training - For classification tasks this entails comparing logistic regression (with or without regularization) to a classification tree or any type of classification forest.\n",
        "Discuss the accuracy of your methods, both on testing and training data. Is any method clearly superior? What does this say about the linear nature of your data?"
      ]
    },
    {
      "cell_type": "code",
      "execution_count": null,
      "metadata": {
        "id": "mfUD4Y0GVoDQ"
      },
      "outputs": [],
      "source": []
    },
    {
      "cell_type": "markdown",
      "source": [
        "#### Data preprocessing"
      ],
      "metadata": {
        "id": "tdq53vyDH0MY"
      }
    },
    {
      "cell_type": "code",
      "execution_count": null,
      "metadata": {
        "id": "RmQOYWr1rCyI",
        "colab": {
          "base_uri": "https://localhost:8080/"
        },
        "outputId": "6eb8d831-c859-4a9f-fe4e-bc44aa9408cc"
      },
      "outputs": [
        {
          "output_type": "stream",
          "name": "stdout",
          "text": [
            "Mounted at /content/drive\n",
            "Memory usage of dataframe is 2052.06 MB\n",
            "Memory usage after optimization is: 2013.66 MB\n",
            "Decreased by 1.9%\n"
          ]
        }
      ],
      "source": [
        "# Reduce memory usage by downcasting numerical features\n",
        "def reduce_mem_usage(df):\n",
        "    \"\"\"Iterate through all the columns of a dataframe and modify the data type\n",
        "    to reduce memory usage.\n",
        "    \"\"\"\n",
        "    start_mem = df.memory_usage().sum() / 1024**2\n",
        "    print('Memory usage of dataframe is {:.2f} MB'.format(start_mem))\n",
        "\n",
        "    for col in df.columns:\n",
        "        col_type = df[col].dtype\n",
        "\n",
        "        if col_type != object and pd.api.types.is_numeric_dtype(col_type): # Check if column is numeric\n",
        "            c_min = df[col].min()\n",
        "            c_max = df[col].max()\n",
        "            if str(col_type)[:3] == 'int':\n",
        "                if c_min > np.iinfo(np.int8).min and c_max < np.iinfo(np.int8).max:\n",
        "                    df[col] = df[col].astype(np.int8)\n",
        "                elif c_min > np.iinfo(np.int16).min and c_max < np.iinfo(np.int16).max:\n",
        "                    df[col] = df[col].astype(np.int16)\n",
        "                elif c_min > np.iinfo(np.int32).min and c_max < np.iinfo(np.int32).max:\n",
        "                    df[col] = df[col].astype(np.int32)\n",
        "                elif c_min > np.iinfo(np.int64).min and c_max < np.iinfo(np.int64).max:\n",
        "                    df[col] = df[col].astype(np.int64)\n",
        "            else:\n",
        "                if c_min > np.finfo(np.float16).min and c_max < np.finfo(np.float16).max:\n",
        "                    df[col] = df[col].astype(np.float16)\n",
        "                elif c_min > np.finfo(np.float32).min and c_max < np.finfo(np.float32).max:\n",
        "                    df[col] = df[col].astype(np.float32)\n",
        "                else:\n",
        "                    df[col] = df[col].astype(np.float64)\n",
        "        else:\n",
        "            # Keep timestamp and object columns as they are, or handle separately\n",
        "            if col_type == 'object':\n",
        "                df[col] = df[col].astype('category') #This part was also updated to accommodate the fact that timestamps will not be treated as objects\n",
        "\n",
        "    end_mem = df.memory_usage().sum() / 1024**2\n",
        "    print('Memory usage after optimization is: {:.2f} MB'.format(end_mem))\n",
        "    print('Decreased by {:.1f}%'.format(100 * (start_mem - end_mem) / start_mem))\n",
        "\n",
        "    return df\n",
        "\n",
        "\n",
        "# Read the dataset\n",
        "from google.colab import drive\n",
        "drive.mount('/content/drive')\n",
        "data_df = pd.read_feather('/content/drive/MyDrive/train_data.ftr')\n",
        "data_df = reduce_mem_usage(data_df)  # Apply memory optimization"
      ]
    },
    {
      "cell_type": "code",
      "execution_count": null,
      "metadata": {
        "id": "tgdVyfdbFXd8",
        "colab": {
          "base_uri": "https://localhost:8080/",
          "height": 342
        },
        "outputId": "2fad30e7-2815-49ab-9966-028b37adb303"
      },
      "outputs": [
        {
          "output_type": "execute_result",
          "data": {
            "text/plain": [
              "                                         customer_ID        S_2       P_2  \\\n",
              "0  0000099d6bd597052cdcda90ffabf56573fe9d7c79be5f... 2017-03-09  0.938477   \n",
              "1  0000099d6bd597052cdcda90ffabf56573fe9d7c79be5f... 2017-04-07  0.936523   \n",
              "2  0000099d6bd597052cdcda90ffabf56573fe9d7c79be5f... 2017-05-28  0.954102   \n",
              "3  0000099d6bd597052cdcda90ffabf56573fe9d7c79be5f... 2017-06-13  0.960449   \n",
              "4  0000099d6bd597052cdcda90ffabf56573fe9d7c79be5f... 2017-07-16  0.947266   \n",
              "\n",
              "       D_39       B_1       B_2       R_1       S_3      D_41       B_3  ...  \\\n",
              "0  0.001734  0.008728  1.006836  0.009224  0.124023  0.008774  0.004707  ...   \n",
              "1  0.005775  0.004925  1.000977  0.006153  0.126709  0.000798  0.002714  ...   \n",
              "2  0.091492  0.021652  1.009766  0.006817  0.123962  0.007599  0.009422  ...   \n",
              "3  0.002455  0.013687  1.002930  0.001372  0.117188  0.000685  0.005531  ...   \n",
              "4  0.002483  0.015190  1.000977  0.007607  0.117310  0.004654  0.009308  ...   \n",
              "\n",
              "   D_137  D_138     D_139     D_140     D_141  D_142     D_143     D_144  \\\n",
              "0    NaN    NaN  0.002426  0.003706  0.003819    NaN  0.000569  0.000610   \n",
              "1    NaN    NaN  0.003956  0.003166  0.005032    NaN  0.009575  0.005493   \n",
              "2    NaN    NaN  0.003269  0.007328  0.000427    NaN  0.003429  0.006985   \n",
              "3    NaN    NaN  0.006119  0.004517  0.003201    NaN  0.008423  0.006527   \n",
              "4    NaN    NaN  0.003672  0.004944  0.008888    NaN  0.001670  0.008125   \n",
              "\n",
              "      D_145  target  \n",
              "0  0.002674       0  \n",
              "1  0.009216       0  \n",
              "2  0.002604       0  \n",
              "3  0.009598       0  \n",
              "4  0.009827       0  \n",
              "\n",
              "[5 rows x 191 columns]"
            ],
            "text/html": [
              "\n",
              "  <div id=\"df-7e120339-6186-45f8-93a8-be8d23e7d710\" class=\"colab-df-container\">\n",
              "    <div>\n",
              "<style scoped>\n",
              "    .dataframe tbody tr th:only-of-type {\n",
              "        vertical-align: middle;\n",
              "    }\n",
              "\n",
              "    .dataframe tbody tr th {\n",
              "        vertical-align: top;\n",
              "    }\n",
              "\n",
              "    .dataframe thead th {\n",
              "        text-align: right;\n",
              "    }\n",
              "</style>\n",
              "<table border=\"1\" class=\"dataframe\">\n",
              "  <thead>\n",
              "    <tr style=\"text-align: right;\">\n",
              "      <th></th>\n",
              "      <th>customer_ID</th>\n",
              "      <th>S_2</th>\n",
              "      <th>P_2</th>\n",
              "      <th>D_39</th>\n",
              "      <th>B_1</th>\n",
              "      <th>B_2</th>\n",
              "      <th>R_1</th>\n",
              "      <th>S_3</th>\n",
              "      <th>D_41</th>\n",
              "      <th>B_3</th>\n",
              "      <th>...</th>\n",
              "      <th>D_137</th>\n",
              "      <th>D_138</th>\n",
              "      <th>D_139</th>\n",
              "      <th>D_140</th>\n",
              "      <th>D_141</th>\n",
              "      <th>D_142</th>\n",
              "      <th>D_143</th>\n",
              "      <th>D_144</th>\n",
              "      <th>D_145</th>\n",
              "      <th>target</th>\n",
              "    </tr>\n",
              "  </thead>\n",
              "  <tbody>\n",
              "    <tr>\n",
              "      <th>0</th>\n",
              "      <td>0000099d6bd597052cdcda90ffabf56573fe9d7c79be5f...</td>\n",
              "      <td>2017-03-09</td>\n",
              "      <td>0.938477</td>\n",
              "      <td>0.001734</td>\n",
              "      <td>0.008728</td>\n",
              "      <td>1.006836</td>\n",
              "      <td>0.009224</td>\n",
              "      <td>0.124023</td>\n",
              "      <td>0.008774</td>\n",
              "      <td>0.004707</td>\n",
              "      <td>...</td>\n",
              "      <td>NaN</td>\n",
              "      <td>NaN</td>\n",
              "      <td>0.002426</td>\n",
              "      <td>0.003706</td>\n",
              "      <td>0.003819</td>\n",
              "      <td>NaN</td>\n",
              "      <td>0.000569</td>\n",
              "      <td>0.000610</td>\n",
              "      <td>0.002674</td>\n",
              "      <td>0</td>\n",
              "    </tr>\n",
              "    <tr>\n",
              "      <th>1</th>\n",
              "      <td>0000099d6bd597052cdcda90ffabf56573fe9d7c79be5f...</td>\n",
              "      <td>2017-04-07</td>\n",
              "      <td>0.936523</td>\n",
              "      <td>0.005775</td>\n",
              "      <td>0.004925</td>\n",
              "      <td>1.000977</td>\n",
              "      <td>0.006153</td>\n",
              "      <td>0.126709</td>\n",
              "      <td>0.000798</td>\n",
              "      <td>0.002714</td>\n",
              "      <td>...</td>\n",
              "      <td>NaN</td>\n",
              "      <td>NaN</td>\n",
              "      <td>0.003956</td>\n",
              "      <td>0.003166</td>\n",
              "      <td>0.005032</td>\n",
              "      <td>NaN</td>\n",
              "      <td>0.009575</td>\n",
              "      <td>0.005493</td>\n",
              "      <td>0.009216</td>\n",
              "      <td>0</td>\n",
              "    </tr>\n",
              "    <tr>\n",
              "      <th>2</th>\n",
              "      <td>0000099d6bd597052cdcda90ffabf56573fe9d7c79be5f...</td>\n",
              "      <td>2017-05-28</td>\n",
              "      <td>0.954102</td>\n",
              "      <td>0.091492</td>\n",
              "      <td>0.021652</td>\n",
              "      <td>1.009766</td>\n",
              "      <td>0.006817</td>\n",
              "      <td>0.123962</td>\n",
              "      <td>0.007599</td>\n",
              "      <td>0.009422</td>\n",
              "      <td>...</td>\n",
              "      <td>NaN</td>\n",
              "      <td>NaN</td>\n",
              "      <td>0.003269</td>\n",
              "      <td>0.007328</td>\n",
              "      <td>0.000427</td>\n",
              "      <td>NaN</td>\n",
              "      <td>0.003429</td>\n",
              "      <td>0.006985</td>\n",
              "      <td>0.002604</td>\n",
              "      <td>0</td>\n",
              "    </tr>\n",
              "    <tr>\n",
              "      <th>3</th>\n",
              "      <td>0000099d6bd597052cdcda90ffabf56573fe9d7c79be5f...</td>\n",
              "      <td>2017-06-13</td>\n",
              "      <td>0.960449</td>\n",
              "      <td>0.002455</td>\n",
              "      <td>0.013687</td>\n",
              "      <td>1.002930</td>\n",
              "      <td>0.001372</td>\n",
              "      <td>0.117188</td>\n",
              "      <td>0.000685</td>\n",
              "      <td>0.005531</td>\n",
              "      <td>...</td>\n",
              "      <td>NaN</td>\n",
              "      <td>NaN</td>\n",
              "      <td>0.006119</td>\n",
              "      <td>0.004517</td>\n",
              "      <td>0.003201</td>\n",
              "      <td>NaN</td>\n",
              "      <td>0.008423</td>\n",
              "      <td>0.006527</td>\n",
              "      <td>0.009598</td>\n",
              "      <td>0</td>\n",
              "    </tr>\n",
              "    <tr>\n",
              "      <th>4</th>\n",
              "      <td>0000099d6bd597052cdcda90ffabf56573fe9d7c79be5f...</td>\n",
              "      <td>2017-07-16</td>\n",
              "      <td>0.947266</td>\n",
              "      <td>0.002483</td>\n",
              "      <td>0.015190</td>\n",
              "      <td>1.000977</td>\n",
              "      <td>0.007607</td>\n",
              "      <td>0.117310</td>\n",
              "      <td>0.004654</td>\n",
              "      <td>0.009308</td>\n",
              "      <td>...</td>\n",
              "      <td>NaN</td>\n",
              "      <td>NaN</td>\n",
              "      <td>0.003672</td>\n",
              "      <td>0.004944</td>\n",
              "      <td>0.008888</td>\n",
              "      <td>NaN</td>\n",
              "      <td>0.001670</td>\n",
              "      <td>0.008125</td>\n",
              "      <td>0.009827</td>\n",
              "      <td>0</td>\n",
              "    </tr>\n",
              "  </tbody>\n",
              "</table>\n",
              "<p>5 rows × 191 columns</p>\n",
              "</div>\n",
              "    <div class=\"colab-df-buttons\">\n",
              "\n",
              "  <div class=\"colab-df-container\">\n",
              "    <button class=\"colab-df-convert\" onclick=\"convertToInteractive('df-7e120339-6186-45f8-93a8-be8d23e7d710')\"\n",
              "            title=\"Convert this dataframe to an interactive table.\"\n",
              "            style=\"display:none;\">\n",
              "\n",
              "  <svg xmlns=\"http://www.w3.org/2000/svg\" height=\"24px\" viewBox=\"0 -960 960 960\">\n",
              "    <path d=\"M120-120v-720h720v720H120Zm60-500h600v-160H180v160Zm220 220h160v-160H400v160Zm0 220h160v-160H400v160ZM180-400h160v-160H180v160Zm440 0h160v-160H620v160ZM180-180h160v-160H180v160Zm440 0h160v-160H620v160Z\"/>\n",
              "  </svg>\n",
              "    </button>\n",
              "\n",
              "  <style>\n",
              "    .colab-df-container {\n",
              "      display:flex;\n",
              "      gap: 12px;\n",
              "    }\n",
              "\n",
              "    .colab-df-convert {\n",
              "      background-color: #E8F0FE;\n",
              "      border: none;\n",
              "      border-radius: 50%;\n",
              "      cursor: pointer;\n",
              "      display: none;\n",
              "      fill: #1967D2;\n",
              "      height: 32px;\n",
              "      padding: 0 0 0 0;\n",
              "      width: 32px;\n",
              "    }\n",
              "\n",
              "    .colab-df-convert:hover {\n",
              "      background-color: #E2EBFA;\n",
              "      box-shadow: 0px 1px 2px rgba(60, 64, 67, 0.3), 0px 1px 3px 1px rgba(60, 64, 67, 0.15);\n",
              "      fill: #174EA6;\n",
              "    }\n",
              "\n",
              "    .colab-df-buttons div {\n",
              "      margin-bottom: 4px;\n",
              "    }\n",
              "\n",
              "    [theme=dark] .colab-df-convert {\n",
              "      background-color: #3B4455;\n",
              "      fill: #D2E3FC;\n",
              "    }\n",
              "\n",
              "    [theme=dark] .colab-df-convert:hover {\n",
              "      background-color: #434B5C;\n",
              "      box-shadow: 0px 1px 3px 1px rgba(0, 0, 0, 0.15);\n",
              "      filter: drop-shadow(0px 1px 2px rgba(0, 0, 0, 0.3));\n",
              "      fill: #FFFFFF;\n",
              "    }\n",
              "  </style>\n",
              "\n",
              "    <script>\n",
              "      const buttonEl =\n",
              "        document.querySelector('#df-7e120339-6186-45f8-93a8-be8d23e7d710 button.colab-df-convert');\n",
              "      buttonEl.style.display =\n",
              "        google.colab.kernel.accessAllowed ? 'block' : 'none';\n",
              "\n",
              "      async function convertToInteractive(key) {\n",
              "        const element = document.querySelector('#df-7e120339-6186-45f8-93a8-be8d23e7d710');\n",
              "        const dataTable =\n",
              "          await google.colab.kernel.invokeFunction('convertToInteractive',\n",
              "                                                    [key], {});\n",
              "        if (!dataTable) return;\n",
              "\n",
              "        const docLinkHtml = 'Like what you see? Visit the ' +\n",
              "          '<a target=\"_blank\" href=https://colab.research.google.com/notebooks/data_table.ipynb>data table notebook</a>'\n",
              "          + ' to learn more about interactive tables.';\n",
              "        element.innerHTML = '';\n",
              "        dataTable['output_type'] = 'display_data';\n",
              "        await google.colab.output.renderOutput(dataTable, element);\n",
              "        const docLink = document.createElement('div');\n",
              "        docLink.innerHTML = docLinkHtml;\n",
              "        element.appendChild(docLink);\n",
              "      }\n",
              "    </script>\n",
              "  </div>\n",
              "\n",
              "\n",
              "<div id=\"df-2a6874c2-66c2-4c33-a99b-d8dd51fd6b0a\">\n",
              "  <button class=\"colab-df-quickchart\" onclick=\"quickchart('df-2a6874c2-66c2-4c33-a99b-d8dd51fd6b0a')\"\n",
              "            title=\"Suggest charts\"\n",
              "            style=\"display:none;\">\n",
              "\n",
              "<svg xmlns=\"http://www.w3.org/2000/svg\" height=\"24px\"viewBox=\"0 0 24 24\"\n",
              "     width=\"24px\">\n",
              "    <g>\n",
              "        <path d=\"M19 3H5c-1.1 0-2 .9-2 2v14c0 1.1.9 2 2 2h14c1.1 0 2-.9 2-2V5c0-1.1-.9-2-2-2zM9 17H7v-7h2v7zm4 0h-2V7h2v10zm4 0h-2v-4h2v4z\"/>\n",
              "    </g>\n",
              "</svg>\n",
              "  </button>\n",
              "\n",
              "<style>\n",
              "  .colab-df-quickchart {\n",
              "      --bg-color: #E8F0FE;\n",
              "      --fill-color: #1967D2;\n",
              "      --hover-bg-color: #E2EBFA;\n",
              "      --hover-fill-color: #174EA6;\n",
              "      --disabled-fill-color: #AAA;\n",
              "      --disabled-bg-color: #DDD;\n",
              "  }\n",
              "\n",
              "  [theme=dark] .colab-df-quickchart {\n",
              "      --bg-color: #3B4455;\n",
              "      --fill-color: #D2E3FC;\n",
              "      --hover-bg-color: #434B5C;\n",
              "      --hover-fill-color: #FFFFFF;\n",
              "      --disabled-bg-color: #3B4455;\n",
              "      --disabled-fill-color: #666;\n",
              "  }\n",
              "\n",
              "  .colab-df-quickchart {\n",
              "    background-color: var(--bg-color);\n",
              "    border: none;\n",
              "    border-radius: 50%;\n",
              "    cursor: pointer;\n",
              "    display: none;\n",
              "    fill: var(--fill-color);\n",
              "    height: 32px;\n",
              "    padding: 0;\n",
              "    width: 32px;\n",
              "  }\n",
              "\n",
              "  .colab-df-quickchart:hover {\n",
              "    background-color: var(--hover-bg-color);\n",
              "    box-shadow: 0 1px 2px rgba(60, 64, 67, 0.3), 0 1px 3px 1px rgba(60, 64, 67, 0.15);\n",
              "    fill: var(--button-hover-fill-color);\n",
              "  }\n",
              "\n",
              "  .colab-df-quickchart-complete:disabled,\n",
              "  .colab-df-quickchart-complete:disabled:hover {\n",
              "    background-color: var(--disabled-bg-color);\n",
              "    fill: var(--disabled-fill-color);\n",
              "    box-shadow: none;\n",
              "  }\n",
              "\n",
              "  .colab-df-spinner {\n",
              "    border: 2px solid var(--fill-color);\n",
              "    border-color: transparent;\n",
              "    border-bottom-color: var(--fill-color);\n",
              "    animation:\n",
              "      spin 1s steps(1) infinite;\n",
              "  }\n",
              "\n",
              "  @keyframes spin {\n",
              "    0% {\n",
              "      border-color: transparent;\n",
              "      border-bottom-color: var(--fill-color);\n",
              "      border-left-color: var(--fill-color);\n",
              "    }\n",
              "    20% {\n",
              "      border-color: transparent;\n",
              "      border-left-color: var(--fill-color);\n",
              "      border-top-color: var(--fill-color);\n",
              "    }\n",
              "    30% {\n",
              "      border-color: transparent;\n",
              "      border-left-color: var(--fill-color);\n",
              "      border-top-color: var(--fill-color);\n",
              "      border-right-color: var(--fill-color);\n",
              "    }\n",
              "    40% {\n",
              "      border-color: transparent;\n",
              "      border-right-color: var(--fill-color);\n",
              "      border-top-color: var(--fill-color);\n",
              "    }\n",
              "    60% {\n",
              "      border-color: transparent;\n",
              "      border-right-color: var(--fill-color);\n",
              "    }\n",
              "    80% {\n",
              "      border-color: transparent;\n",
              "      border-right-color: var(--fill-color);\n",
              "      border-bottom-color: var(--fill-color);\n",
              "    }\n",
              "    90% {\n",
              "      border-color: transparent;\n",
              "      border-bottom-color: var(--fill-color);\n",
              "    }\n",
              "  }\n",
              "</style>\n",
              "\n",
              "  <script>\n",
              "    async function quickchart(key) {\n",
              "      const quickchartButtonEl =\n",
              "        document.querySelector('#' + key + ' button');\n",
              "      quickchartButtonEl.disabled = true;  // To prevent multiple clicks.\n",
              "      quickchartButtonEl.classList.add('colab-df-spinner');\n",
              "      try {\n",
              "        const charts = await google.colab.kernel.invokeFunction(\n",
              "            'suggestCharts', [key], {});\n",
              "      } catch (error) {\n",
              "        console.error('Error during call to suggestCharts:', error);\n",
              "      }\n",
              "      quickchartButtonEl.classList.remove('colab-df-spinner');\n",
              "      quickchartButtonEl.classList.add('colab-df-quickchart-complete');\n",
              "    }\n",
              "    (() => {\n",
              "      let quickchartButtonEl =\n",
              "        document.querySelector('#df-2a6874c2-66c2-4c33-a99b-d8dd51fd6b0a button');\n",
              "      quickchartButtonEl.style.display =\n",
              "        google.colab.kernel.accessAllowed ? 'block' : 'none';\n",
              "    })();\n",
              "  </script>\n",
              "</div>\n",
              "\n",
              "    </div>\n",
              "  </div>\n"
            ],
            "application/vnd.google.colaboratory.intrinsic+json": {
              "type": "dataframe",
              "variable_name": "data_df"
            }
          },
          "metadata": {},
          "execution_count": 4
        }
      ],
      "source": [
        "data_df.head()"
      ]
    },
    {
      "cell_type": "code",
      "execution_count": null,
      "metadata": {
        "id": "t72mQ3Bus435",
        "colab": {
          "base_uri": "https://localhost:8080/"
        },
        "outputId": "49f12d29-1778-4d9b-ef15-c09915a57230"
      },
      "outputs": [
        {
          "output_type": "stream",
          "name": "stdout",
          "text": [
            "Original DataFrame size: (5531451, 191)\n",
            "Reduced DataFrame size: (55315, 191)\n"
          ]
        }
      ],
      "source": [
        "# : Reduce the data size to 30% so that we can work with less data and have\n",
        "# some memory free\n",
        "\n",
        "import pandas as pd\n",
        "\n",
        "# Reduce the size by selecting a random subset of rows\n",
        "# data_df_reduced = data_df.sample(frac=0.3, random_state=42)  # Adjust 'frac' as needed\n",
        "\n",
        "data_df_reduced = data_df.sample(frac=0.01, random_state=42)  # Adjust 'frac' as needed\n",
        "\n",
        "# Print the size before and after reduction\n",
        "print(f\"Original DataFrame size: {data_df.shape}\")\n",
        "print(f\"Reduced DataFrame size: {data_df_reduced.shape}\")\n",
        "\n",
        "# Now you can work with 'data_df_reduced' instead of 'data_df'"
      ]
    },
    {
      "cell_type": "code",
      "execution_count": null,
      "metadata": {
        "id": "jgHpw0jes5I2",
        "colab": {
          "base_uri": "https://localhost:8080/"
        },
        "outputId": "36e5a81f-9804-4b7b-a188-c0915be66d27"
      },
      "outputs": [
        {
          "output_type": "execute_result",
          "data": {
            "text/plain": [
              "0"
            ]
          },
          "metadata": {},
          "execution_count": 6
        }
      ],
      "source": [
        "data_df = data_df_reduced\n",
        "data_df_reduced = pd.DataFrame()\n",
        "gc.collect()"
      ]
    },
    {
      "cell_type": "code",
      "execution_count": null,
      "metadata": {
        "id": "s2Q79GtXRH6w",
        "colab": {
          "base_uri": "https://localhost:8080/"
        },
        "outputId": "eff71eaa-aa23-4ad6-afb8-bf9fd9a47b26"
      },
      "outputs": [
        {
          "output_type": "stream",
          "name": "stdout",
          "text": [
            "Training data shape: (44252, 191)\n",
            "Testing data shape: (11063, 191)\n"
          ]
        },
        {
          "output_type": "execute_result",
          "data": {
            "text/plain": [
              "0"
            ]
          },
          "metadata": {},
          "execution_count": 7
        }
      ],
      "source": [
        "# Splitting the data\n",
        "\n",
        "from sklearn.model_selection import train_test_split\n",
        "\n",
        "# Replace 'target_variable' with your actual target column name\n",
        "\n",
        "# Split the data into training and testing sets\n",
        "train_df, test_df = train_test_split(\n",
        "    data_df, test_size=0.2, random_state=42\n",
        ")  # Adjust test_size and random_state as needed\n",
        "\n",
        "print(\"Training data shape:\", train_df.shape)\n",
        "print(\"Testing data shape:\", test_df.shape)\n",
        "\n",
        "# Removing the data_df to free up some memory\n",
        "\n",
        "del data_df\n",
        "gc.collect()"
      ]
    },
    {
      "cell_type": "code",
      "execution_count": null,
      "metadata": {
        "id": "iRB3msUo7DpL",
        "colab": {
          "base_uri": "https://localhost:8080/"
        },
        "outputId": "5d753ba3-fc06-498f-b7a6-40e01a2b3b08"
      },
      "outputs": [
        {
          "output_type": "stream",
          "name": "stdout",
          "text": [
            "Training data shape before dropping the duplicates  (44252, 191)\n",
            "Testing data shape before dropping the duplicates  (11063, 191)\n",
            "Training data shape after dropping the duplicates  (44252, 191)\n",
            "Testing data shape after dropping the duplicates  (11063, 191)\n"
          ]
        }
      ],
      "source": [
        "print(\"Training data shape before dropping the duplicates \", train_df.shape)\n",
        "print(\"Testing data shape before dropping the duplicates \", test_df.shape)\n",
        "\n",
        "train_df = train_df.drop_duplicates()\n",
        "test_df = test_df.drop_duplicates()\n",
        "\n",
        "print(\"Training data shape after dropping the duplicates \", train_df.shape)\n",
        "print(\"Testing data shape after dropping the duplicates \", test_df.shape)"
      ]
    },
    {
      "cell_type": "code",
      "execution_count": null,
      "metadata": {
        "id": "mWLiFz8D7DrY",
        "colab": {
          "base_uri": "https://localhost:8080/"
        },
        "outputId": "083bab63-8bfa-4b52-a628-b03f71d5e8ce"
      },
      "outputs": [
        {
          "output_type": "stream",
          "name": "stdout",
          "text": [
            "\n",
            "Missing Values in Training data:\n",
            "customer_ID        0\n",
            "S_2                0\n",
            "P_2              376\n",
            "D_39               0\n",
            "B_1                0\n",
            "               ...  \n",
            "D_142          36563\n",
            "D_143            788\n",
            "D_144            295\n",
            "D_145            788\n",
            "target             0\n",
            "Length: 191, dtype: int64\n",
            "\n",
            "Missing Values in Test data:\n",
            "customer_ID       0\n",
            "S_2               0\n",
            "P_2              95\n",
            "D_39              0\n",
            "B_1               0\n",
            "               ... \n",
            "D_142          9171\n",
            "D_143           194\n",
            "D_144            77\n",
            "D_145           194\n",
            "target            0\n",
            "Length: 191, dtype: int64\n"
          ]
        }
      ],
      "source": [
        "print(\"\\nMissing Values in Training data:\")\n",
        "print(train_df.isnull().sum())\n",
        "\n",
        "print(\"\\nMissing Values in Test data:\")\n",
        "print(test_df.isnull().sum())"
      ]
    },
    {
      "cell_type": "code",
      "execution_count": null,
      "metadata": {
        "id": "pnGvD9WgrwFW"
      },
      "outputs": [],
      "source": [
        "categorical_features = ['B_30', 'B_38', 'D_114', 'D_116', 'D_117',\n",
        "                        'D_120', 'D_126', 'D_63', 'D_64', 'D_66', 'D_68']\n"
      ]
    },
    {
      "cell_type": "code",
      "execution_count": null,
      "metadata": {
        "id": "uztm972CuB3P",
        "colab": {
          "base_uri": "https://localhost:8080/"
        },
        "outputId": "3a98cf72-5434-4629-b697-99d29bfc4bea"
      },
      "outputs": [
        {
          "output_type": "execute_result",
          "data": {
            "text/plain": [
              "array([0, 1], dtype=int8)"
            ]
          },
          "metadata": {},
          "execution_count": 11
        }
      ],
      "source": [
        "train_df['target'].unique()"
      ]
    },
    {
      "cell_type": "code",
      "execution_count": null,
      "metadata": {
        "id": "pk4BCL4WCL4u",
        "colab": {
          "base_uri": "https://localhost:8080/"
        },
        "outputId": "b6e529dd-d964-4c2b-f62a-718eb58c8c59"
      },
      "outputs": [
        {
          "output_type": "execute_result",
          "data": {
            "text/plain": [
              "Index(['customer_ID', 'S_2', 'P_2', 'D_39', 'B_1', 'B_2', 'R_1', 'S_3', 'D_41',\n",
              "       'B_3',\n",
              "       ...\n",
              "       'D_137', 'D_138', 'D_139', 'D_140', 'D_141', 'D_142', 'D_143', 'D_144',\n",
              "       'D_145', 'target'],\n",
              "      dtype='object', length=191)"
            ]
          },
          "metadata": {},
          "execution_count": 12
        }
      ],
      "source": [
        "train_df.columns"
      ]
    },
    {
      "cell_type": "code",
      "execution_count": null,
      "metadata": {
        "id": "eXaSwpb8CQkB",
        "colab": {
          "base_uri": "https://localhost:8080/",
          "height": 542
        },
        "outputId": "bd87c869-830e-42a1-d188-266c45f24717"
      },
      "outputs": [
        {
          "output_type": "display_data",
          "data": {
            "text/html": [
              "<html>\n",
              "<head><meta charset=\"utf-8\" /></head>\n",
              "<body>\n",
              "    <div>            <script src=\"https://cdnjs.cloudflare.com/ajax/libs/mathjax/2.7.5/MathJax.js?config=TeX-AMS-MML_SVG\"></script><script type=\"text/javascript\">if (window.MathJax && window.MathJax.Hub && window.MathJax.Hub.Config) {window.MathJax.Hub.Config({SVG: {font: \"STIX-Web\"}});}</script>                <script type=\"text/javascript\">window.PlotlyConfig = {MathJaxConfig: 'local'};</script>\n",
              "        <script charset=\"utf-8\" src=\"https://cdn.plot.ly/plotly-2.35.2.min.js\"></script>                <div id=\"e5d8e6c0-cc52-48f8-b90d-bea7ae250577\" class=\"plotly-graph-div\" style=\"height:525px; width:100%;\"></div>            <script type=\"text/javascript\">                                    window.PLOTLYENV=window.PLOTLYENV || {};                                    if (document.getElementById(\"e5d8e6c0-cc52-48f8-b90d-bea7ae250577\")) {                    Plotly.newPlot(                        \"e5d8e6c0-cc52-48f8-b90d-bea7ae250577\",                        [{\"marker\":{\"color\":\"#FF4C4C\"},\"name\":\"Not Paid\",\"x\":[\"2018-02-28\",\"2018-03-01\",\"2018-03-02\",\"2018-03-03\",\"2018-03-04\",\"2018-03-05\",\"2018-03-06\",\"2018-03-07\",\"2018-03-08\",\"2018-03-09\",\"2018-03-10\",\"2018-03-11\",\"2018-03-12\",\"2018-03-13\",\"2018-03-14\",\"2018-03-15\",\"2018-03-16\",\"2018-03-17\",\"2018-03-18\",\"2018-03-19\",\"2018-03-20\",\"2018-03-21\",\"2018-03-22\",\"2018-03-23\",\"2018-03-24\",\"2018-03-25\",\"2018-03-26\",\"2018-03-27\",\"2018-03-28\",\"2018-03-29\",\"2018-03-30\",\"2018-03-31\"],\"y\":[23.893805309734514,33.0,20.454545454545457,27.225130890052355,14.754098360655737,26.96629213483146,21.978021978021978,24.418604651162788,17.796610169491526,21.666666666666668,25.301204819277107,27.77777777777778,21.379310344827587,32.231404958677686,28.78787878787879,22.30769230769231,32.33082706766917,26.035502958579883,18.571428571428573,28.92561983471074,19.696969696969695,32.8125,31.132075471698112,25.925925925925924,27.322404371584703,26.08695652173913,25.0,24.81203007518797,27.810650887573964,28.440366972477065,18.439716312056735,23.333333333333332],\"type\":\"bar\"},{\"marker\":{\"color\":\"#4C9AFF\"},\"name\":\"Paid\",\"x\":[\"2018-02-28\",\"2018-03-01\",\"2018-03-02\",\"2018-03-03\",\"2018-03-04\",\"2018-03-05\",\"2018-03-06\",\"2018-03-07\",\"2018-03-08\",\"2018-03-09\",\"2018-03-10\",\"2018-03-11\",\"2018-03-12\",\"2018-03-13\",\"2018-03-14\",\"2018-03-15\",\"2018-03-16\",\"2018-03-17\",\"2018-03-18\",\"2018-03-19\",\"2018-03-20\",\"2018-03-21\",\"2018-03-22\",\"2018-03-23\",\"2018-03-24\",\"2018-03-25\",\"2018-03-26\",\"2018-03-27\",\"2018-03-28\",\"2018-03-29\",\"2018-03-30\",\"2018-03-31\"],\"y\":[76.10619469026548,67.0,79.54545454545455,72.77486910994764,85.24590163934425,73.03370786516854,78.02197802197803,75.5813953488372,82.20338983050848,78.33333333333333,74.69879518072288,72.22222222222221,78.62068965517241,67.76859504132231,71.21212121212122,77.6923076923077,67.66917293233082,73.96449704142012,81.42857142857143,71.07438016528926,80.3030303030303,67.1875,68.86792452830188,74.07407407407408,72.6775956284153,73.91304347826086,75.0,75.18796992481202,72.18934911242604,71.55963302752293,81.56028368794325,76.66666666666667],\"type\":\"bar\"}],                        {\"template\":{\"data\":{\"histogram2dcontour\":[{\"type\":\"histogram2dcontour\",\"colorbar\":{\"outlinewidth\":0,\"ticks\":\"\"},\"colorscale\":[[0.0,\"#0d0887\"],[0.1111111111111111,\"#46039f\"],[0.2222222222222222,\"#7201a8\"],[0.3333333333333333,\"#9c179e\"],[0.4444444444444444,\"#bd3786\"],[0.5555555555555556,\"#d8576b\"],[0.6666666666666666,\"#ed7953\"],[0.7777777777777778,\"#fb9f3a\"],[0.8888888888888888,\"#fdca26\"],[1.0,\"#f0f921\"]]}],\"choropleth\":[{\"type\":\"choropleth\",\"colorbar\":{\"outlinewidth\":0,\"ticks\":\"\"}}],\"histogram2d\":[{\"type\":\"histogram2d\",\"colorbar\":{\"outlinewidth\":0,\"ticks\":\"\"},\"colorscale\":[[0.0,\"#0d0887\"],[0.1111111111111111,\"#46039f\"],[0.2222222222222222,\"#7201a8\"],[0.3333333333333333,\"#9c179e\"],[0.4444444444444444,\"#bd3786\"],[0.5555555555555556,\"#d8576b\"],[0.6666666666666666,\"#ed7953\"],[0.7777777777777778,\"#fb9f3a\"],[0.8888888888888888,\"#fdca26\"],[1.0,\"#f0f921\"]]}],\"heatmap\":[{\"type\":\"heatmap\",\"colorbar\":{\"outlinewidth\":0,\"ticks\":\"\"},\"colorscale\":[[0.0,\"#0d0887\"],[0.1111111111111111,\"#46039f\"],[0.2222222222222222,\"#7201a8\"],[0.3333333333333333,\"#9c179e\"],[0.4444444444444444,\"#bd3786\"],[0.5555555555555556,\"#d8576b\"],[0.6666666666666666,\"#ed7953\"],[0.7777777777777778,\"#fb9f3a\"],[0.8888888888888888,\"#fdca26\"],[1.0,\"#f0f921\"]]}],\"heatmapgl\":[{\"type\":\"heatmapgl\",\"colorbar\":{\"outlinewidth\":0,\"ticks\":\"\"},\"colorscale\":[[0.0,\"#0d0887\"],[0.1111111111111111,\"#46039f\"],[0.2222222222222222,\"#7201a8\"],[0.3333333333333333,\"#9c179e\"],[0.4444444444444444,\"#bd3786\"],[0.5555555555555556,\"#d8576b\"],[0.6666666666666666,\"#ed7953\"],[0.7777777777777778,\"#fb9f3a\"],[0.8888888888888888,\"#fdca26\"],[1.0,\"#f0f921\"]]}],\"contourcarpet\":[{\"type\":\"contourcarpet\",\"colorbar\":{\"outlinewidth\":0,\"ticks\":\"\"}}],\"contour\":[{\"type\":\"contour\",\"colorbar\":{\"outlinewidth\":0,\"ticks\":\"\"},\"colorscale\":[[0.0,\"#0d0887\"],[0.1111111111111111,\"#46039f\"],[0.2222222222222222,\"#7201a8\"],[0.3333333333333333,\"#9c179e\"],[0.4444444444444444,\"#bd3786\"],[0.5555555555555556,\"#d8576b\"],[0.6666666666666666,\"#ed7953\"],[0.7777777777777778,\"#fb9f3a\"],[0.8888888888888888,\"#fdca26\"],[1.0,\"#f0f921\"]]}],\"surface\":[{\"type\":\"surface\",\"colorbar\":{\"outlinewidth\":0,\"ticks\":\"\"},\"colorscale\":[[0.0,\"#0d0887\"],[0.1111111111111111,\"#46039f\"],[0.2222222222222222,\"#7201a8\"],[0.3333333333333333,\"#9c179e\"],[0.4444444444444444,\"#bd3786\"],[0.5555555555555556,\"#d8576b\"],[0.6666666666666666,\"#ed7953\"],[0.7777777777777778,\"#fb9f3a\"],[0.8888888888888888,\"#fdca26\"],[1.0,\"#f0f921\"]]}],\"mesh3d\":[{\"type\":\"mesh3d\",\"colorbar\":{\"outlinewidth\":0,\"ticks\":\"\"}}],\"scatter\":[{\"fillpattern\":{\"fillmode\":\"overlay\",\"size\":10,\"solidity\":0.2},\"type\":\"scatter\"}],\"parcoords\":[{\"type\":\"parcoords\",\"line\":{\"colorbar\":{\"outlinewidth\":0,\"ticks\":\"\"}}}],\"scatterpolargl\":[{\"type\":\"scatterpolargl\",\"marker\":{\"colorbar\":{\"outlinewidth\":0,\"ticks\":\"\"}}}],\"bar\":[{\"error_x\":{\"color\":\"#2a3f5f\"},\"error_y\":{\"color\":\"#2a3f5f\"},\"marker\":{\"line\":{\"color\":\"#E5ECF6\",\"width\":0.5},\"pattern\":{\"fillmode\":\"overlay\",\"size\":10,\"solidity\":0.2}},\"type\":\"bar\"}],\"scattergeo\":[{\"type\":\"scattergeo\",\"marker\":{\"colorbar\":{\"outlinewidth\":0,\"ticks\":\"\"}}}],\"scatterpolar\":[{\"type\":\"scatterpolar\",\"marker\":{\"colorbar\":{\"outlinewidth\":0,\"ticks\":\"\"}}}],\"histogram\":[{\"marker\":{\"pattern\":{\"fillmode\":\"overlay\",\"size\":10,\"solidity\":0.2}},\"type\":\"histogram\"}],\"scattergl\":[{\"type\":\"scattergl\",\"marker\":{\"colorbar\":{\"outlinewidth\":0,\"ticks\":\"\"}}}],\"scatter3d\":[{\"type\":\"scatter3d\",\"line\":{\"colorbar\":{\"outlinewidth\":0,\"ticks\":\"\"}},\"marker\":{\"colorbar\":{\"outlinewidth\":0,\"ticks\":\"\"}}}],\"scattermapbox\":[{\"type\":\"scattermapbox\",\"marker\":{\"colorbar\":{\"outlinewidth\":0,\"ticks\":\"\"}}}],\"scatterternary\":[{\"type\":\"scatterternary\",\"marker\":{\"colorbar\":{\"outlinewidth\":0,\"ticks\":\"\"}}}],\"scattercarpet\":[{\"type\":\"scattercarpet\",\"marker\":{\"colorbar\":{\"outlinewidth\":0,\"ticks\":\"\"}}}],\"carpet\":[{\"aaxis\":{\"endlinecolor\":\"#2a3f5f\",\"gridcolor\":\"white\",\"linecolor\":\"white\",\"minorgridcolor\":\"white\",\"startlinecolor\":\"#2a3f5f\"},\"baxis\":{\"endlinecolor\":\"#2a3f5f\",\"gridcolor\":\"white\",\"linecolor\":\"white\",\"minorgridcolor\":\"white\",\"startlinecolor\":\"#2a3f5f\"},\"type\":\"carpet\"}],\"table\":[{\"cells\":{\"fill\":{\"color\":\"#EBF0F8\"},\"line\":{\"color\":\"white\"}},\"header\":{\"fill\":{\"color\":\"#C8D4E3\"},\"line\":{\"color\":\"white\"}},\"type\":\"table\"}],\"barpolar\":[{\"marker\":{\"line\":{\"color\":\"#E5ECF6\",\"width\":0.5},\"pattern\":{\"fillmode\":\"overlay\",\"size\":10,\"solidity\":0.2}},\"type\":\"barpolar\"}],\"pie\":[{\"automargin\":true,\"type\":\"pie\"}]},\"layout\":{\"autotypenumbers\":\"strict\",\"colorway\":[\"#636efa\",\"#EF553B\",\"#00cc96\",\"#ab63fa\",\"#FFA15A\",\"#19d3f3\",\"#FF6692\",\"#B6E880\",\"#FF97FF\",\"#FECB52\"],\"font\":{\"color\":\"#2a3f5f\"},\"hovermode\":\"closest\",\"hoverlabel\":{\"align\":\"left\"},\"paper_bgcolor\":\"white\",\"plot_bgcolor\":\"#E5ECF6\",\"polar\":{\"bgcolor\":\"#E5ECF6\",\"angularaxis\":{\"gridcolor\":\"white\",\"linecolor\":\"white\",\"ticks\":\"\"},\"radialaxis\":{\"gridcolor\":\"white\",\"linecolor\":\"white\",\"ticks\":\"\"}},\"ternary\":{\"bgcolor\":\"#E5ECF6\",\"aaxis\":{\"gridcolor\":\"white\",\"linecolor\":\"white\",\"ticks\":\"\"},\"baxis\":{\"gridcolor\":\"white\",\"linecolor\":\"white\",\"ticks\":\"\"},\"caxis\":{\"gridcolor\":\"white\",\"linecolor\":\"white\",\"ticks\":\"\"}},\"coloraxis\":{\"colorbar\":{\"outlinewidth\":0,\"ticks\":\"\"}},\"colorscale\":{\"sequential\":[[0.0,\"#0d0887\"],[0.1111111111111111,\"#46039f\"],[0.2222222222222222,\"#7201a8\"],[0.3333333333333333,\"#9c179e\"],[0.4444444444444444,\"#bd3786\"],[0.5555555555555556,\"#d8576b\"],[0.6666666666666666,\"#ed7953\"],[0.7777777777777778,\"#fb9f3a\"],[0.8888888888888888,\"#fdca26\"],[1.0,\"#f0f921\"]],\"sequentialminus\":[[0.0,\"#0d0887\"],[0.1111111111111111,\"#46039f\"],[0.2222222222222222,\"#7201a8\"],[0.3333333333333333,\"#9c179e\"],[0.4444444444444444,\"#bd3786\"],[0.5555555555555556,\"#d8576b\"],[0.6666666666666666,\"#ed7953\"],[0.7777777777777778,\"#fb9f3a\"],[0.8888888888888888,\"#fdca26\"],[1.0,\"#f0f921\"]],\"diverging\":[[0,\"#8e0152\"],[0.1,\"#c51b7d\"],[0.2,\"#de77ae\"],[0.3,\"#f1b6da\"],[0.4,\"#fde0ef\"],[0.5,\"#f7f7f7\"],[0.6,\"#e6f5d0\"],[0.7,\"#b8e186\"],[0.8,\"#7fbc41\"],[0.9,\"#4d9221\"],[1,\"#276419\"]]},\"xaxis\":{\"gridcolor\":\"white\",\"linecolor\":\"white\",\"ticks\":\"\",\"title\":{\"standoff\":15},\"zerolinecolor\":\"white\",\"automargin\":true,\"zerolinewidth\":2},\"yaxis\":{\"gridcolor\":\"white\",\"linecolor\":\"white\",\"ticks\":\"\",\"title\":{\"standoff\":15},\"zerolinecolor\":\"white\",\"automargin\":true,\"zerolinewidth\":2},\"scene\":{\"xaxis\":{\"backgroundcolor\":\"#E5ECF6\",\"gridcolor\":\"white\",\"linecolor\":\"white\",\"showbackground\":true,\"ticks\":\"\",\"zerolinecolor\":\"white\",\"gridwidth\":2},\"yaxis\":{\"backgroundcolor\":\"#E5ECF6\",\"gridcolor\":\"white\",\"linecolor\":\"white\",\"showbackground\":true,\"ticks\":\"\",\"zerolinecolor\":\"white\",\"gridwidth\":2},\"zaxis\":{\"backgroundcolor\":\"#E5ECF6\",\"gridcolor\":\"white\",\"linecolor\":\"white\",\"showbackground\":true,\"ticks\":\"\",\"zerolinecolor\":\"white\",\"gridwidth\":2}},\"shapedefaults\":{\"line\":{\"color\":\"#2a3f5f\"}},\"annotationdefaults\":{\"arrowcolor\":\"#2a3f5f\",\"arrowhead\":0,\"arrowwidth\":1},\"geo\":{\"bgcolor\":\"white\",\"landcolor\":\"#E5ECF6\",\"subunitcolor\":\"white\",\"showland\":true,\"showlakes\":true,\"lakecolor\":\"white\"},\"title\":{\"x\":0.05},\"mapbox\":{\"style\":\"light\"}}},\"barmode\":\"group\",\"xaxis\":{\"title\":{\"text\":\"Day\"}},\"yaxis\":{\"title\":{\"text\":\"Percentage\"}},\"title\":{\"text\":\"Percentage of Paid and Not Paid Defaults in the Last Month\"}},                        {\"responsive\": true}                    ).then(function(){\n",
              "                            \n",
              "var gd = document.getElementById('e5d8e6c0-cc52-48f8-b90d-bea7ae250577');\n",
              "var x = new MutationObserver(function (mutations, observer) {{\n",
              "        var display = window.getComputedStyle(gd).display;\n",
              "        if (!display || display === 'none') {{\n",
              "            console.log([gd, 'removed!']);\n",
              "            Plotly.purge(gd);\n",
              "            observer.disconnect();\n",
              "        }}\n",
              "}});\n",
              "\n",
              "// Listen for the removal of the full notebook cells\n",
              "var notebookContainer = gd.closest('#notebook-container');\n",
              "if (notebookContainer) {{\n",
              "    x.observe(notebookContainer, {childList: true});\n",
              "}}\n",
              "\n",
              "// Listen for the clearing of the current output cell\n",
              "var outputEl = gd.closest('.output');\n",
              "if (outputEl) {{\n",
              "    x.observe(outputEl, {childList: true});\n",
              "}}\n",
              "\n",
              "                        })                };                            </script>        </div>\n",
              "</body>\n",
              "</html>"
            ]
          },
          "metadata": {}
        }
      ],
      "source": [
        "# : Based S_2 plot a bar graph showing the percentage of paid and not paid\n",
        "# default aka the target varaible for the last one month for each day in plotly\n",
        "\n",
        "\n",
        "# Convert 'S_2' to datetime if it's not already\n",
        "train_df['S_2'] = pd.to_datetime(train_df['S_2'])\n",
        "\n",
        "# Filter data for the last one month\n",
        "last_month = train_df['S_2'].max() - pd.DateOffset(months=1)\n",
        "last_month_data = train_df[train_df['S_2'] >= last_month]\n",
        "\n",
        "# Group by day and calculate the percentage of paid and not paid defaults\n",
        "daily_default_percentage = last_month_data.groupby([train_df['S_2'].dt.date, 'target'])['target'].count().unstack().fillna(0)\n",
        "\n",
        "daily_default_percentage['Total'] = daily_default_percentage[0] + daily_default_percentage[1]\n",
        "daily_default_percentage['Paid_Percentage'] = (daily_default_percentage[0] / daily_default_percentage['Total']) * 100\n",
        "daily_default_percentage['Not_Paid_Percentage'] = (daily_default_percentage[1] / daily_default_percentage['Total']) * 100\n",
        "\n",
        "\n",
        "# Create the bar graph using Plotly\n",
        "fig = go.Figure(data=[\n",
        "    go.Bar(\n",
        "        name='Not Paid',\n",
        "        x=daily_default_percentage.index,\n",
        "        y=daily_default_percentage['Not_Paid_Percentage'],\n",
        "        marker=dict(color='#FF4C4C')  # Set color to red\n",
        "    ),\n",
        "    go.Bar(\n",
        "        name='Paid',\n",
        "        x=daily_default_percentage.index,\n",
        "        y=daily_default_percentage['Paid_Percentage'],\n",
        "        marker=dict(color='#4C9AFF')\n",
        "    )\n",
        "])\n",
        "\n",
        "fig.update_layout(\n",
        "    barmode='group',\n",
        "    xaxis_title='Day',\n",
        "    yaxis_title='Percentage',\n",
        "    title='Percentage of Paid and Not Paid Defaults in the Last Month'\n",
        ")\n",
        "\n",
        "fig.show()\n"
      ]
    },
    {
      "cell_type": "code",
      "execution_count": null,
      "metadata": {
        "id": "cQpnnBHBGXvG",
        "colab": {
          "base_uri": "https://localhost:8080/"
        },
        "outputId": "5849a5bb-c85d-49c3-a6ee-ca0294e6d6e4"
      },
      "outputs": [
        {
          "output_type": "stream",
          "name": "stdout",
          "text": [
            "\n",
            "Missing Values in Training data:\n",
            "customer_ID        0\n",
            "S_2                0\n",
            "P_2              376\n",
            "D_39               0\n",
            "B_1                0\n",
            "               ...  \n",
            "D_142          36563\n",
            "D_143            788\n",
            "D_144            295\n",
            "D_145            788\n",
            "target             0\n",
            "Length: 191, dtype: int64\n",
            "\n",
            "Missing Values in Test data:\n",
            "customer_ID       0\n",
            "S_2               0\n",
            "P_2              95\n",
            "D_39              0\n",
            "B_1               0\n",
            "               ... \n",
            "D_142          9171\n",
            "D_143           194\n",
            "D_144            77\n",
            "D_145           194\n",
            "target            0\n",
            "Length: 191, dtype: int64\n"
          ]
        }
      ],
      "source": [
        "print(\"\\nMissing Values in Training data:\")\n",
        "print(train_df.isnull().sum())\n",
        "\n",
        "print(\"\\nMissing Values in Test data:\")\n",
        "print(test_df.isnull().sum())"
      ]
    },
    {
      "cell_type": "code",
      "execution_count": null,
      "metadata": {
        "id": "A6vL-fSVGbBj"
      },
      "outputs": [],
      "source": [
        "categorical_features = ['B_30', 'B_38', 'D_114', 'D_116', 'D_117',\n",
        "                        'D_120', 'D_126', 'D_63', 'D_64', 'D_66', 'D_68']\n"
      ]
    },
    {
      "cell_type": "code",
      "execution_count": null,
      "metadata": {
        "id": "O87HdMVmGhxC",
        "colab": {
          "base_uri": "https://localhost:8080/"
        },
        "outputId": "9b113035-15ff-461c-c844-70f99ada85ae"
      },
      "outputs": [
        {
          "output_type": "stream",
          "name": "stdout",
          "text": [
            "Columns dropped: ['D_42', 'D_49', 'D_53', 'D_66', 'D_73', 'D_76', 'R_9', 'D_82', 'B_29', 'D_87', 'D_88', 'D_106', 'R_26', 'D_108', 'D_110', 'D_111', 'B_39', 'B_42', 'D_132', 'D_134', 'D_135', 'D_136', 'D_137', 'D_138', 'D_142']\n",
            "New training data shape: (44252, 166)\n",
            "New testing data shape: (11063, 166)\n"
          ]
        }
      ],
      "source": [
        "# Checking the null values in columns in train_df and wherever the percentage\n",
        "# of null values are more that 70% drop those columns in both train_df and\n",
        "# test_df\n",
        "\n",
        "# Calculate the percentage of null values for each column in train_df\n",
        "null_percentage = train_df.isnull().mean() * 100\n",
        "\n",
        "# Identify columns with more than 70% null values\n",
        "columns_to_drop = null_percentage[null_percentage > 70].index.tolist()\n",
        "\n",
        "# Drop the identified columns from both train_df and test_df\n",
        "train_df = train_df.drop(columns=columns_to_drop)\n",
        "test_df = test_df.drop(columns=columns_to_drop)\n",
        "\n",
        "print(\"Columns dropped:\", columns_to_drop)\n",
        "print(\"New training data shape:\", train_df.shape)\n",
        "print(\"New testing data shape:\", test_df.shape)"
      ]
    },
    {
      "cell_type": "code",
      "execution_count": null,
      "metadata": {
        "id": "ooYXORFtHs2R",
        "colab": {
          "base_uri": "https://localhost:8080/"
        },
        "outputId": "410f58a8-6067-41ca-d288-1f38db47842d"
      },
      "outputs": [
        {
          "output_type": "stream",
          "name": "stdout",
          "text": [
            "\n",
            "Missing Values in Training data:\n",
            "customer_ID      0\n",
            "S_2              0\n",
            "P_2            376\n",
            "D_39             0\n",
            "B_1              0\n",
            "              ... \n",
            "D_141          788\n",
            "D_143          788\n",
            "D_144          295\n",
            "D_145          788\n",
            "target           0\n",
            "Length: 166, dtype: int64\n",
            "\n",
            "Missing Values in Test data:\n",
            "customer_ID      0\n",
            "S_2              0\n",
            "P_2             95\n",
            "D_39             0\n",
            "B_1              0\n",
            "              ... \n",
            "D_141          194\n",
            "D_143          194\n",
            "D_144           77\n",
            "D_145          194\n",
            "target           0\n",
            "Length: 166, dtype: int64\n"
          ]
        }
      ],
      "source": [
        "print(\"\\nMissing Values in Training data:\")\n",
        "print(train_df.isnull().sum())\n",
        "\n",
        "print(\"\\nMissing Values in Test data:\")\n",
        "print(test_df.isnull().sum())"
      ]
    },
    {
      "cell_type": "code",
      "execution_count": null,
      "metadata": {
        "id": "5LF81KUZ90RA",
        "colab": {
          "base_uri": "https://localhost:8080/"
        },
        "outputId": "2cd99d79-edfb-43b4-e8bf-edbe6120b788"
      },
      "outputs": [
        {
          "output_type": "stream",
          "name": "stdout",
          "text": [
            "\n",
            "Missing Values in Training data after handling:\n",
            "customer_ID    0\n",
            "S_2            0\n",
            "P_2            0\n",
            "D_39           0\n",
            "B_1            0\n",
            "              ..\n",
            "D_141          0\n",
            "D_143          0\n",
            "D_144          0\n",
            "D_145          0\n",
            "target         0\n",
            "Length: 166, dtype: int64\n",
            "\n",
            "Missing Values in Test data after handling:\n",
            "customer_ID    0\n",
            "S_2            0\n",
            "P_2            0\n",
            "D_39           0\n",
            "B_1            0\n",
            "              ..\n",
            "D_141          0\n",
            "D_143          0\n",
            "D_144          0\n",
            "D_145          0\n",
            "target         0\n",
            "Length: 166, dtype: int64\n"
          ]
        }
      ],
      "source": [
        "# Function to handle missing values\n",
        "def handle_missing_values(df, categorical_features):\n",
        "  \"\"\"Handles missing values in a DataFrame.\n",
        "\n",
        "  Args:\n",
        "      df: Pandas DataFrame.\n",
        "      categorical_features: List of categorical feature names.\n",
        "\n",
        "  Returns:\n",
        "      Pandas DataFrame with missing values handled.\n",
        "  \"\"\"\n",
        "  for column in df.columns:\n",
        "    if column in categorical_features:\n",
        "      # Add 'Unknown' to the categories if it's not already present\n",
        "      if 'Unknown' not in df[column].cat.categories:\n",
        "        df[column] = df[column].cat.add_categories(['Unknown'])\n",
        "      df[column].fillna('Unknown', inplace=True)  # Fill with 'Unknown' for categorical\n",
        "    else:\n",
        "      # Check if the column is numeric before calculating median\n",
        "      if pd.api.types.is_numeric_dtype(df[column]):\n",
        "        # Fill with median for numerical\n",
        "        df[column].fillna(df[column].median(), inplace=True)\n",
        "      else:\n",
        "        # Handle non-numeric columns (e.g., fill with mode or a specific value)\n",
        "        # For demonstration, filling with the most frequent value (mode)\n",
        "        # Add 'Unknown' to the categories if it's not already present and the column is categorical\n",
        "        if pd.api.types.is_categorical_dtype(df[column]) and 'Unknown' not in df[column].cat.categories:\n",
        "          df[column] = df[column].cat.add_categories(['Unknown'])\n",
        "        df[column].fillna('Unknown', inplace=True)\n",
        "  return df\n",
        "\n",
        "\n",
        "# Handle missing values in train_df and test_df\n",
        "train_df = handle_missing_values(train_df, categorical_features)\n",
        "test_df = handle_missing_values(test_df, categorical_features)\n",
        "\n",
        "print(\"\\nMissing Values in Training data after handling:\")\n",
        "print(train_df.isnull().sum())\n",
        "\n",
        "print(\"\\nMissing Values in Test data after handling:\")\n",
        "print(test_df.isnull().sum())"
      ]
    },
    {
      "cell_type": "code",
      "source": [
        "# Plot for the percentage of lables / target for both the classes\n",
        "\n",
        "import plotly.graph_objects as go\n",
        "\n",
        "def plot_target_percentage_donut(df, target_column):\n",
        "  \"\"\"Plots a donut chart showing the percentage of each class in the target column.\n",
        "\n",
        "  Args:\n",
        "      df: Pandas DataFrame containing the target column.\n",
        "      target_column: Name of the target column.\n",
        "  \"\"\"\n",
        "\n",
        "  target_counts = df[target_column].value_counts()\n",
        "  labels = target_counts.index.tolist()\n",
        "  values = target_counts.values.tolist()\n",
        "\n",
        "  # Create the donut chart\n",
        "  fig = go.Figure(data=[go.Pie(labels=labels, values=values, hole=.4)])\n",
        "\n",
        "  # Customize the chart\n",
        "  fig.update_traces(\n",
        "      marker=dict(\n",
        "          colors=['lightgreen', 'lightblue'],\n",
        "          line=dict(color='#000000', width=2)\n",
        "      )\n",
        "  )\n",
        "\n",
        "  fig.update_layout(\n",
        "      title_text=\"Percentage of Target Classes\",\n",
        "      title_font_size=20,\n",
        "      width=600,\n",
        "      height=400,\n",
        "      showlegend=True,\n",
        "      annotations=[\n",
        "          dict(text='Target Distribution', x=0.5, y=0.5, font_size=16, showarrow=False)\n",
        "      ]\n",
        "  )\n",
        "\n",
        "  fig.show()\n",
        "\n",
        "plot_target_percentage_donut(train_df, 'target')"
      ],
      "metadata": {
        "colab": {
          "base_uri": "https://localhost:8080/",
          "height": 417
        },
        "id": "mkAUmmvoeZDo",
        "outputId": "91977e87-0985-4727-823b-4720604e85dd"
      },
      "execution_count": null,
      "outputs": [
        {
          "output_type": "display_data",
          "data": {
            "text/html": [
              "<html>\n",
              "<head><meta charset=\"utf-8\" /></head>\n",
              "<body>\n",
              "    <div>            <script src=\"https://cdnjs.cloudflare.com/ajax/libs/mathjax/2.7.5/MathJax.js?config=TeX-AMS-MML_SVG\"></script><script type=\"text/javascript\">if (window.MathJax && window.MathJax.Hub && window.MathJax.Hub.Config) {window.MathJax.Hub.Config({SVG: {font: \"STIX-Web\"}});}</script>                <script type=\"text/javascript\">window.PlotlyConfig = {MathJaxConfig: 'local'};</script>\n",
              "        <script charset=\"utf-8\" src=\"https://cdn.plot.ly/plotly-2.35.2.min.js\"></script>                <div id=\"e49de5a4-664a-4baa-b7a6-495cf581ed44\" class=\"plotly-graph-div\" style=\"height:400px; width:600px;\"></div>            <script type=\"text/javascript\">                                    window.PLOTLYENV=window.PLOTLYENV || {};                                    if (document.getElementById(\"e49de5a4-664a-4baa-b7a6-495cf581ed44\")) {                    Plotly.newPlot(                        \"e49de5a4-664a-4baa-b7a6-495cf581ed44\",                        [{\"hole\":0.4,\"labels\":[0,1],\"values\":[33451,10801],\"type\":\"pie\",\"marker\":{\"line\":{\"color\":\"#000000\",\"width\":2},\"colors\":[\"lightgreen\",\"lightblue\"]}}],                        {\"template\":{\"data\":{\"histogram2dcontour\":[{\"type\":\"histogram2dcontour\",\"colorbar\":{\"outlinewidth\":0,\"ticks\":\"\"},\"colorscale\":[[0.0,\"#0d0887\"],[0.1111111111111111,\"#46039f\"],[0.2222222222222222,\"#7201a8\"],[0.3333333333333333,\"#9c179e\"],[0.4444444444444444,\"#bd3786\"],[0.5555555555555556,\"#d8576b\"],[0.6666666666666666,\"#ed7953\"],[0.7777777777777778,\"#fb9f3a\"],[0.8888888888888888,\"#fdca26\"],[1.0,\"#f0f921\"]]}],\"choropleth\":[{\"type\":\"choropleth\",\"colorbar\":{\"outlinewidth\":0,\"ticks\":\"\"}}],\"histogram2d\":[{\"type\":\"histogram2d\",\"colorbar\":{\"outlinewidth\":0,\"ticks\":\"\"},\"colorscale\":[[0.0,\"#0d0887\"],[0.1111111111111111,\"#46039f\"],[0.2222222222222222,\"#7201a8\"],[0.3333333333333333,\"#9c179e\"],[0.4444444444444444,\"#bd3786\"],[0.5555555555555556,\"#d8576b\"],[0.6666666666666666,\"#ed7953\"],[0.7777777777777778,\"#fb9f3a\"],[0.8888888888888888,\"#fdca26\"],[1.0,\"#f0f921\"]]}],\"heatmap\":[{\"type\":\"heatmap\",\"colorbar\":{\"outlinewidth\":0,\"ticks\":\"\"},\"colorscale\":[[0.0,\"#0d0887\"],[0.1111111111111111,\"#46039f\"],[0.2222222222222222,\"#7201a8\"],[0.3333333333333333,\"#9c179e\"],[0.4444444444444444,\"#bd3786\"],[0.5555555555555556,\"#d8576b\"],[0.6666666666666666,\"#ed7953\"],[0.7777777777777778,\"#fb9f3a\"],[0.8888888888888888,\"#fdca26\"],[1.0,\"#f0f921\"]]}],\"heatmapgl\":[{\"type\":\"heatmapgl\",\"colorbar\":{\"outlinewidth\":0,\"ticks\":\"\"},\"colorscale\":[[0.0,\"#0d0887\"],[0.1111111111111111,\"#46039f\"],[0.2222222222222222,\"#7201a8\"],[0.3333333333333333,\"#9c179e\"],[0.4444444444444444,\"#bd3786\"],[0.5555555555555556,\"#d8576b\"],[0.6666666666666666,\"#ed7953\"],[0.7777777777777778,\"#fb9f3a\"],[0.8888888888888888,\"#fdca26\"],[1.0,\"#f0f921\"]]}],\"contourcarpet\":[{\"type\":\"contourcarpet\",\"colorbar\":{\"outlinewidth\":0,\"ticks\":\"\"}}],\"contour\":[{\"type\":\"contour\",\"colorbar\":{\"outlinewidth\":0,\"ticks\":\"\"},\"colorscale\":[[0.0,\"#0d0887\"],[0.1111111111111111,\"#46039f\"],[0.2222222222222222,\"#7201a8\"],[0.3333333333333333,\"#9c179e\"],[0.4444444444444444,\"#bd3786\"],[0.5555555555555556,\"#d8576b\"],[0.6666666666666666,\"#ed7953\"],[0.7777777777777778,\"#fb9f3a\"],[0.8888888888888888,\"#fdca26\"],[1.0,\"#f0f921\"]]}],\"surface\":[{\"type\":\"surface\",\"colorbar\":{\"outlinewidth\":0,\"ticks\":\"\"},\"colorscale\":[[0.0,\"#0d0887\"],[0.1111111111111111,\"#46039f\"],[0.2222222222222222,\"#7201a8\"],[0.3333333333333333,\"#9c179e\"],[0.4444444444444444,\"#bd3786\"],[0.5555555555555556,\"#d8576b\"],[0.6666666666666666,\"#ed7953\"],[0.7777777777777778,\"#fb9f3a\"],[0.8888888888888888,\"#fdca26\"],[1.0,\"#f0f921\"]]}],\"mesh3d\":[{\"type\":\"mesh3d\",\"colorbar\":{\"outlinewidth\":0,\"ticks\":\"\"}}],\"scatter\":[{\"fillpattern\":{\"fillmode\":\"overlay\",\"size\":10,\"solidity\":0.2},\"type\":\"scatter\"}],\"parcoords\":[{\"type\":\"parcoords\",\"line\":{\"colorbar\":{\"outlinewidth\":0,\"ticks\":\"\"}}}],\"scatterpolargl\":[{\"type\":\"scatterpolargl\",\"marker\":{\"colorbar\":{\"outlinewidth\":0,\"ticks\":\"\"}}}],\"bar\":[{\"error_x\":{\"color\":\"#2a3f5f\"},\"error_y\":{\"color\":\"#2a3f5f\"},\"marker\":{\"line\":{\"color\":\"#E5ECF6\",\"width\":0.5},\"pattern\":{\"fillmode\":\"overlay\",\"size\":10,\"solidity\":0.2}},\"type\":\"bar\"}],\"scattergeo\":[{\"type\":\"scattergeo\",\"marker\":{\"colorbar\":{\"outlinewidth\":0,\"ticks\":\"\"}}}],\"scatterpolar\":[{\"type\":\"scatterpolar\",\"marker\":{\"colorbar\":{\"outlinewidth\":0,\"ticks\":\"\"}}}],\"histogram\":[{\"marker\":{\"pattern\":{\"fillmode\":\"overlay\",\"size\":10,\"solidity\":0.2}},\"type\":\"histogram\"}],\"scattergl\":[{\"type\":\"scattergl\",\"marker\":{\"colorbar\":{\"outlinewidth\":0,\"ticks\":\"\"}}}],\"scatter3d\":[{\"type\":\"scatter3d\",\"line\":{\"colorbar\":{\"outlinewidth\":0,\"ticks\":\"\"}},\"marker\":{\"colorbar\":{\"outlinewidth\":0,\"ticks\":\"\"}}}],\"scattermapbox\":[{\"type\":\"scattermapbox\",\"marker\":{\"colorbar\":{\"outlinewidth\":0,\"ticks\":\"\"}}}],\"scatterternary\":[{\"type\":\"scatterternary\",\"marker\":{\"colorbar\":{\"outlinewidth\":0,\"ticks\":\"\"}}}],\"scattercarpet\":[{\"type\":\"scattercarpet\",\"marker\":{\"colorbar\":{\"outlinewidth\":0,\"ticks\":\"\"}}}],\"carpet\":[{\"aaxis\":{\"endlinecolor\":\"#2a3f5f\",\"gridcolor\":\"white\",\"linecolor\":\"white\",\"minorgridcolor\":\"white\",\"startlinecolor\":\"#2a3f5f\"},\"baxis\":{\"endlinecolor\":\"#2a3f5f\",\"gridcolor\":\"white\",\"linecolor\":\"white\",\"minorgridcolor\":\"white\",\"startlinecolor\":\"#2a3f5f\"},\"type\":\"carpet\"}],\"table\":[{\"cells\":{\"fill\":{\"color\":\"#EBF0F8\"},\"line\":{\"color\":\"white\"}},\"header\":{\"fill\":{\"color\":\"#C8D4E3\"},\"line\":{\"color\":\"white\"}},\"type\":\"table\"}],\"barpolar\":[{\"marker\":{\"line\":{\"color\":\"#E5ECF6\",\"width\":0.5},\"pattern\":{\"fillmode\":\"overlay\",\"size\":10,\"solidity\":0.2}},\"type\":\"barpolar\"}],\"pie\":[{\"automargin\":true,\"type\":\"pie\"}]},\"layout\":{\"autotypenumbers\":\"strict\",\"colorway\":[\"#636efa\",\"#EF553B\",\"#00cc96\",\"#ab63fa\",\"#FFA15A\",\"#19d3f3\",\"#FF6692\",\"#B6E880\",\"#FF97FF\",\"#FECB52\"],\"font\":{\"color\":\"#2a3f5f\"},\"hovermode\":\"closest\",\"hoverlabel\":{\"align\":\"left\"},\"paper_bgcolor\":\"white\",\"plot_bgcolor\":\"#E5ECF6\",\"polar\":{\"bgcolor\":\"#E5ECF6\",\"angularaxis\":{\"gridcolor\":\"white\",\"linecolor\":\"white\",\"ticks\":\"\"},\"radialaxis\":{\"gridcolor\":\"white\",\"linecolor\":\"white\",\"ticks\":\"\"}},\"ternary\":{\"bgcolor\":\"#E5ECF6\",\"aaxis\":{\"gridcolor\":\"white\",\"linecolor\":\"white\",\"ticks\":\"\"},\"baxis\":{\"gridcolor\":\"white\",\"linecolor\":\"white\",\"ticks\":\"\"},\"caxis\":{\"gridcolor\":\"white\",\"linecolor\":\"white\",\"ticks\":\"\"}},\"coloraxis\":{\"colorbar\":{\"outlinewidth\":0,\"ticks\":\"\"}},\"colorscale\":{\"sequential\":[[0.0,\"#0d0887\"],[0.1111111111111111,\"#46039f\"],[0.2222222222222222,\"#7201a8\"],[0.3333333333333333,\"#9c179e\"],[0.4444444444444444,\"#bd3786\"],[0.5555555555555556,\"#d8576b\"],[0.6666666666666666,\"#ed7953\"],[0.7777777777777778,\"#fb9f3a\"],[0.8888888888888888,\"#fdca26\"],[1.0,\"#f0f921\"]],\"sequentialminus\":[[0.0,\"#0d0887\"],[0.1111111111111111,\"#46039f\"],[0.2222222222222222,\"#7201a8\"],[0.3333333333333333,\"#9c179e\"],[0.4444444444444444,\"#bd3786\"],[0.5555555555555556,\"#d8576b\"],[0.6666666666666666,\"#ed7953\"],[0.7777777777777778,\"#fb9f3a\"],[0.8888888888888888,\"#fdca26\"],[1.0,\"#f0f921\"]],\"diverging\":[[0,\"#8e0152\"],[0.1,\"#c51b7d\"],[0.2,\"#de77ae\"],[0.3,\"#f1b6da\"],[0.4,\"#fde0ef\"],[0.5,\"#f7f7f7\"],[0.6,\"#e6f5d0\"],[0.7,\"#b8e186\"],[0.8,\"#7fbc41\"],[0.9,\"#4d9221\"],[1,\"#276419\"]]},\"xaxis\":{\"gridcolor\":\"white\",\"linecolor\":\"white\",\"ticks\":\"\",\"title\":{\"standoff\":15},\"zerolinecolor\":\"white\",\"automargin\":true,\"zerolinewidth\":2},\"yaxis\":{\"gridcolor\":\"white\",\"linecolor\":\"white\",\"ticks\":\"\",\"title\":{\"standoff\":15},\"zerolinecolor\":\"white\",\"automargin\":true,\"zerolinewidth\":2},\"scene\":{\"xaxis\":{\"backgroundcolor\":\"#E5ECF6\",\"gridcolor\":\"white\",\"linecolor\":\"white\",\"showbackground\":true,\"ticks\":\"\",\"zerolinecolor\":\"white\",\"gridwidth\":2},\"yaxis\":{\"backgroundcolor\":\"#E5ECF6\",\"gridcolor\":\"white\",\"linecolor\":\"white\",\"showbackground\":true,\"ticks\":\"\",\"zerolinecolor\":\"white\",\"gridwidth\":2},\"zaxis\":{\"backgroundcolor\":\"#E5ECF6\",\"gridcolor\":\"white\",\"linecolor\":\"white\",\"showbackground\":true,\"ticks\":\"\",\"zerolinecolor\":\"white\",\"gridwidth\":2}},\"shapedefaults\":{\"line\":{\"color\":\"#2a3f5f\"}},\"annotationdefaults\":{\"arrowcolor\":\"#2a3f5f\",\"arrowhead\":0,\"arrowwidth\":1},\"geo\":{\"bgcolor\":\"white\",\"landcolor\":\"#E5ECF6\",\"subunitcolor\":\"white\",\"showland\":true,\"showlakes\":true,\"lakecolor\":\"white\"},\"title\":{\"x\":0.05},\"mapbox\":{\"style\":\"light\"}}},\"title\":{\"font\":{\"size\":20},\"text\":\"Percentage of Target Classes\"},\"width\":600,\"height\":400,\"showlegend\":true,\"annotations\":[{\"showarrow\":false,\"text\":\"Target Distribution\",\"x\":0.5,\"y\":0.5,\"font\":{\"size\":16}}]},                        {\"responsive\": true}                    ).then(function(){\n",
              "                            \n",
              "var gd = document.getElementById('e49de5a4-664a-4baa-b7a6-495cf581ed44');\n",
              "var x = new MutationObserver(function (mutations, observer) {{\n",
              "        var display = window.getComputedStyle(gd).display;\n",
              "        if (!display || display === 'none') {{\n",
              "            console.log([gd, 'removed!']);\n",
              "            Plotly.purge(gd);\n",
              "            observer.disconnect();\n",
              "        }}\n",
              "}});\n",
              "\n",
              "// Listen for the removal of the full notebook cells\n",
              "var notebookContainer = gd.closest('#notebook-container');\n",
              "if (notebookContainer) {{\n",
              "    x.observe(notebookContainer, {childList: true});\n",
              "}}\n",
              "\n",
              "// Listen for the clearing of the current output cell\n",
              "var outputEl = gd.closest('.output');\n",
              "if (outputEl) {{\n",
              "    x.observe(outputEl, {childList: true});\n",
              "}}\n",
              "\n",
              "                        })                };                            </script>        </div>\n",
              "</body>\n",
              "</html>"
            ]
          },
          "metadata": {}
        }
      ]
    },
    {
      "cell_type": "markdown",
      "source": [
        "#### Correlation based EDA and Feature Engineering"
      ],
      "metadata": {
        "id": "EESM7LzxY20x"
      }
    },
    {
      "cell_type": "code",
      "source": [
        "# Initialize counters for each category\n",
        "d_count = 0\n",
        "s_count = 0\n",
        "p_count = 0\n",
        "b_count = 0\n",
        "r_count = 0\n",
        "\n",
        "# Iterate through column names and categorize them\n",
        "for col in train_df.columns:\n",
        "    if col.startswith('D_'):\n",
        "        d_count += 1\n",
        "    elif col.startswith('S_'):\n",
        "        s_count += 1\n",
        "    elif col.startswith('P_'):\n",
        "        p_count += 1\n",
        "    elif col.startswith('B_'):\n",
        "        b_count += 1\n",
        "    elif col.startswith('R_'):\n",
        "        r_count += 1\n",
        "\n",
        "# Print the counts for each category\n",
        "print(f\"Number of D_ features: {d_count}\")\n",
        "print(f\"Number of S_ features: {s_count}\")\n",
        "print(f\"Number of P_ features: {p_count}\")\n",
        "print(f\"Number of B_ features: {b_count}\")\n",
        "print(f\"Number of R_ features: {r_count}\")\n",
        "\n",
        "import plotly.graph_objects as go\n",
        "\n",
        "labels = ['Delinquency', 'Spend', 'Payment', 'Balance', 'Risk']\n",
        "values = [d_count, s_count, p_count, b_count, r_count]\n",
        "\n",
        "fig = go.Figure(data=[go.Pie(labels=labels, values=values, hole=.3)])\n",
        "fig.update_layout(title_text=\"Feature Distribution by Category\", title_x=0.5)\n",
        "fig.show()"
      ],
      "metadata": {
        "colab": {
          "base_uri": "https://localhost:8080/",
          "height": 631
        },
        "id": "Ewi6NnKCg5qZ",
        "outputId": "44b13f09-0e15-4526-92ca-182d9e8f2462"
      },
      "execution_count": null,
      "outputs": [
        {
          "output_type": "stream",
          "name": "stdout",
          "text": [
            "Number of D_ features: 76\n",
            "Number of S_ features: 22\n",
            "Number of P_ features: 3\n",
            "Number of B_ features: 37\n",
            "Number of R_ features: 26\n"
          ]
        },
        {
          "output_type": "display_data",
          "data": {
            "text/html": [
              "<html>\n",
              "<head><meta charset=\"utf-8\" /></head>\n",
              "<body>\n",
              "    <div>            <script src=\"https://cdnjs.cloudflare.com/ajax/libs/mathjax/2.7.5/MathJax.js?config=TeX-AMS-MML_SVG\"></script><script type=\"text/javascript\">if (window.MathJax && window.MathJax.Hub && window.MathJax.Hub.Config) {window.MathJax.Hub.Config({SVG: {font: \"STIX-Web\"}});}</script>                <script type=\"text/javascript\">window.PlotlyConfig = {MathJaxConfig: 'local'};</script>\n",
              "        <script charset=\"utf-8\" src=\"https://cdn.plot.ly/plotly-2.35.2.min.js\"></script>                <div id=\"b3035b7c-7a6c-42e0-9a1f-66b3692e3625\" class=\"plotly-graph-div\" style=\"height:525px; width:100%;\"></div>            <script type=\"text/javascript\">                                    window.PLOTLYENV=window.PLOTLYENV || {};                                    if (document.getElementById(\"b3035b7c-7a6c-42e0-9a1f-66b3692e3625\")) {                    Plotly.newPlot(                        \"b3035b7c-7a6c-42e0-9a1f-66b3692e3625\",                        [{\"hole\":0.3,\"labels\":[\"Delinquency\",\"Spend\",\"Payment\",\"Balance\",\"Risk\"],\"values\":[76,22,3,37,26],\"type\":\"pie\"}],                        {\"template\":{\"data\":{\"histogram2dcontour\":[{\"type\":\"histogram2dcontour\",\"colorbar\":{\"outlinewidth\":0,\"ticks\":\"\"},\"colorscale\":[[0.0,\"#0d0887\"],[0.1111111111111111,\"#46039f\"],[0.2222222222222222,\"#7201a8\"],[0.3333333333333333,\"#9c179e\"],[0.4444444444444444,\"#bd3786\"],[0.5555555555555556,\"#d8576b\"],[0.6666666666666666,\"#ed7953\"],[0.7777777777777778,\"#fb9f3a\"],[0.8888888888888888,\"#fdca26\"],[1.0,\"#f0f921\"]]}],\"choropleth\":[{\"type\":\"choropleth\",\"colorbar\":{\"outlinewidth\":0,\"ticks\":\"\"}}],\"histogram2d\":[{\"type\":\"histogram2d\",\"colorbar\":{\"outlinewidth\":0,\"ticks\":\"\"},\"colorscale\":[[0.0,\"#0d0887\"],[0.1111111111111111,\"#46039f\"],[0.2222222222222222,\"#7201a8\"],[0.3333333333333333,\"#9c179e\"],[0.4444444444444444,\"#bd3786\"],[0.5555555555555556,\"#d8576b\"],[0.6666666666666666,\"#ed7953\"],[0.7777777777777778,\"#fb9f3a\"],[0.8888888888888888,\"#fdca26\"],[1.0,\"#f0f921\"]]}],\"heatmap\":[{\"type\":\"heatmap\",\"colorbar\":{\"outlinewidth\":0,\"ticks\":\"\"},\"colorscale\":[[0.0,\"#0d0887\"],[0.1111111111111111,\"#46039f\"],[0.2222222222222222,\"#7201a8\"],[0.3333333333333333,\"#9c179e\"],[0.4444444444444444,\"#bd3786\"],[0.5555555555555556,\"#d8576b\"],[0.6666666666666666,\"#ed7953\"],[0.7777777777777778,\"#fb9f3a\"],[0.8888888888888888,\"#fdca26\"],[1.0,\"#f0f921\"]]}],\"heatmapgl\":[{\"type\":\"heatmapgl\",\"colorbar\":{\"outlinewidth\":0,\"ticks\":\"\"},\"colorscale\":[[0.0,\"#0d0887\"],[0.1111111111111111,\"#46039f\"],[0.2222222222222222,\"#7201a8\"],[0.3333333333333333,\"#9c179e\"],[0.4444444444444444,\"#bd3786\"],[0.5555555555555556,\"#d8576b\"],[0.6666666666666666,\"#ed7953\"],[0.7777777777777778,\"#fb9f3a\"],[0.8888888888888888,\"#fdca26\"],[1.0,\"#f0f921\"]]}],\"contourcarpet\":[{\"type\":\"contourcarpet\",\"colorbar\":{\"outlinewidth\":0,\"ticks\":\"\"}}],\"contour\":[{\"type\":\"contour\",\"colorbar\":{\"outlinewidth\":0,\"ticks\":\"\"},\"colorscale\":[[0.0,\"#0d0887\"],[0.1111111111111111,\"#46039f\"],[0.2222222222222222,\"#7201a8\"],[0.3333333333333333,\"#9c179e\"],[0.4444444444444444,\"#bd3786\"],[0.5555555555555556,\"#d8576b\"],[0.6666666666666666,\"#ed7953\"],[0.7777777777777778,\"#fb9f3a\"],[0.8888888888888888,\"#fdca26\"],[1.0,\"#f0f921\"]]}],\"surface\":[{\"type\":\"surface\",\"colorbar\":{\"outlinewidth\":0,\"ticks\":\"\"},\"colorscale\":[[0.0,\"#0d0887\"],[0.1111111111111111,\"#46039f\"],[0.2222222222222222,\"#7201a8\"],[0.3333333333333333,\"#9c179e\"],[0.4444444444444444,\"#bd3786\"],[0.5555555555555556,\"#d8576b\"],[0.6666666666666666,\"#ed7953\"],[0.7777777777777778,\"#fb9f3a\"],[0.8888888888888888,\"#fdca26\"],[1.0,\"#f0f921\"]]}],\"mesh3d\":[{\"type\":\"mesh3d\",\"colorbar\":{\"outlinewidth\":0,\"ticks\":\"\"}}],\"scatter\":[{\"fillpattern\":{\"fillmode\":\"overlay\",\"size\":10,\"solidity\":0.2},\"type\":\"scatter\"}],\"parcoords\":[{\"type\":\"parcoords\",\"line\":{\"colorbar\":{\"outlinewidth\":0,\"ticks\":\"\"}}}],\"scatterpolargl\":[{\"type\":\"scatterpolargl\",\"marker\":{\"colorbar\":{\"outlinewidth\":0,\"ticks\":\"\"}}}],\"bar\":[{\"error_x\":{\"color\":\"#2a3f5f\"},\"error_y\":{\"color\":\"#2a3f5f\"},\"marker\":{\"line\":{\"color\":\"#E5ECF6\",\"width\":0.5},\"pattern\":{\"fillmode\":\"overlay\",\"size\":10,\"solidity\":0.2}},\"type\":\"bar\"}],\"scattergeo\":[{\"type\":\"scattergeo\",\"marker\":{\"colorbar\":{\"outlinewidth\":0,\"ticks\":\"\"}}}],\"scatterpolar\":[{\"type\":\"scatterpolar\",\"marker\":{\"colorbar\":{\"outlinewidth\":0,\"ticks\":\"\"}}}],\"histogram\":[{\"marker\":{\"pattern\":{\"fillmode\":\"overlay\",\"size\":10,\"solidity\":0.2}},\"type\":\"histogram\"}],\"scattergl\":[{\"type\":\"scattergl\",\"marker\":{\"colorbar\":{\"outlinewidth\":0,\"ticks\":\"\"}}}],\"scatter3d\":[{\"type\":\"scatter3d\",\"line\":{\"colorbar\":{\"outlinewidth\":0,\"ticks\":\"\"}},\"marker\":{\"colorbar\":{\"outlinewidth\":0,\"ticks\":\"\"}}}],\"scattermapbox\":[{\"type\":\"scattermapbox\",\"marker\":{\"colorbar\":{\"outlinewidth\":0,\"ticks\":\"\"}}}],\"scatterternary\":[{\"type\":\"scatterternary\",\"marker\":{\"colorbar\":{\"outlinewidth\":0,\"ticks\":\"\"}}}],\"scattercarpet\":[{\"type\":\"scattercarpet\",\"marker\":{\"colorbar\":{\"outlinewidth\":0,\"ticks\":\"\"}}}],\"carpet\":[{\"aaxis\":{\"endlinecolor\":\"#2a3f5f\",\"gridcolor\":\"white\",\"linecolor\":\"white\",\"minorgridcolor\":\"white\",\"startlinecolor\":\"#2a3f5f\"},\"baxis\":{\"endlinecolor\":\"#2a3f5f\",\"gridcolor\":\"white\",\"linecolor\":\"white\",\"minorgridcolor\":\"white\",\"startlinecolor\":\"#2a3f5f\"},\"type\":\"carpet\"}],\"table\":[{\"cells\":{\"fill\":{\"color\":\"#EBF0F8\"},\"line\":{\"color\":\"white\"}},\"header\":{\"fill\":{\"color\":\"#C8D4E3\"},\"line\":{\"color\":\"white\"}},\"type\":\"table\"}],\"barpolar\":[{\"marker\":{\"line\":{\"color\":\"#E5ECF6\",\"width\":0.5},\"pattern\":{\"fillmode\":\"overlay\",\"size\":10,\"solidity\":0.2}},\"type\":\"barpolar\"}],\"pie\":[{\"automargin\":true,\"type\":\"pie\"}]},\"layout\":{\"autotypenumbers\":\"strict\",\"colorway\":[\"#636efa\",\"#EF553B\",\"#00cc96\",\"#ab63fa\",\"#FFA15A\",\"#19d3f3\",\"#FF6692\",\"#B6E880\",\"#FF97FF\",\"#FECB52\"],\"font\":{\"color\":\"#2a3f5f\"},\"hovermode\":\"closest\",\"hoverlabel\":{\"align\":\"left\"},\"paper_bgcolor\":\"white\",\"plot_bgcolor\":\"#E5ECF6\",\"polar\":{\"bgcolor\":\"#E5ECF6\",\"angularaxis\":{\"gridcolor\":\"white\",\"linecolor\":\"white\",\"ticks\":\"\"},\"radialaxis\":{\"gridcolor\":\"white\",\"linecolor\":\"white\",\"ticks\":\"\"}},\"ternary\":{\"bgcolor\":\"#E5ECF6\",\"aaxis\":{\"gridcolor\":\"white\",\"linecolor\":\"white\",\"ticks\":\"\"},\"baxis\":{\"gridcolor\":\"white\",\"linecolor\":\"white\",\"ticks\":\"\"},\"caxis\":{\"gridcolor\":\"white\",\"linecolor\":\"white\",\"ticks\":\"\"}},\"coloraxis\":{\"colorbar\":{\"outlinewidth\":0,\"ticks\":\"\"}},\"colorscale\":{\"sequential\":[[0.0,\"#0d0887\"],[0.1111111111111111,\"#46039f\"],[0.2222222222222222,\"#7201a8\"],[0.3333333333333333,\"#9c179e\"],[0.4444444444444444,\"#bd3786\"],[0.5555555555555556,\"#d8576b\"],[0.6666666666666666,\"#ed7953\"],[0.7777777777777778,\"#fb9f3a\"],[0.8888888888888888,\"#fdca26\"],[1.0,\"#f0f921\"]],\"sequentialminus\":[[0.0,\"#0d0887\"],[0.1111111111111111,\"#46039f\"],[0.2222222222222222,\"#7201a8\"],[0.3333333333333333,\"#9c179e\"],[0.4444444444444444,\"#bd3786\"],[0.5555555555555556,\"#d8576b\"],[0.6666666666666666,\"#ed7953\"],[0.7777777777777778,\"#fb9f3a\"],[0.8888888888888888,\"#fdca26\"],[1.0,\"#f0f921\"]],\"diverging\":[[0,\"#8e0152\"],[0.1,\"#c51b7d\"],[0.2,\"#de77ae\"],[0.3,\"#f1b6da\"],[0.4,\"#fde0ef\"],[0.5,\"#f7f7f7\"],[0.6,\"#e6f5d0\"],[0.7,\"#b8e186\"],[0.8,\"#7fbc41\"],[0.9,\"#4d9221\"],[1,\"#276419\"]]},\"xaxis\":{\"gridcolor\":\"white\",\"linecolor\":\"white\",\"ticks\":\"\",\"title\":{\"standoff\":15},\"zerolinecolor\":\"white\",\"automargin\":true,\"zerolinewidth\":2},\"yaxis\":{\"gridcolor\":\"white\",\"linecolor\":\"white\",\"ticks\":\"\",\"title\":{\"standoff\":15},\"zerolinecolor\":\"white\",\"automargin\":true,\"zerolinewidth\":2},\"scene\":{\"xaxis\":{\"backgroundcolor\":\"#E5ECF6\",\"gridcolor\":\"white\",\"linecolor\":\"white\",\"showbackground\":true,\"ticks\":\"\",\"zerolinecolor\":\"white\",\"gridwidth\":2},\"yaxis\":{\"backgroundcolor\":\"#E5ECF6\",\"gridcolor\":\"white\",\"linecolor\":\"white\",\"showbackground\":true,\"ticks\":\"\",\"zerolinecolor\":\"white\",\"gridwidth\":2},\"zaxis\":{\"backgroundcolor\":\"#E5ECF6\",\"gridcolor\":\"white\",\"linecolor\":\"white\",\"showbackground\":true,\"ticks\":\"\",\"zerolinecolor\":\"white\",\"gridwidth\":2}},\"shapedefaults\":{\"line\":{\"color\":\"#2a3f5f\"}},\"annotationdefaults\":{\"arrowcolor\":\"#2a3f5f\",\"arrowhead\":0,\"arrowwidth\":1},\"geo\":{\"bgcolor\":\"white\",\"landcolor\":\"#E5ECF6\",\"subunitcolor\":\"white\",\"showland\":true,\"showlakes\":true,\"lakecolor\":\"white\"},\"title\":{\"x\":0.05},\"mapbox\":{\"style\":\"light\"}}},\"title\":{\"text\":\"Feature Distribution by Category\",\"x\":0.5}},                        {\"responsive\": true}                    ).then(function(){\n",
              "                            \n",
              "var gd = document.getElementById('b3035b7c-7a6c-42e0-9a1f-66b3692e3625');\n",
              "var x = new MutationObserver(function (mutations, observer) {{\n",
              "        var display = window.getComputedStyle(gd).display;\n",
              "        if (!display || display === 'none') {{\n",
              "            console.log([gd, 'removed!']);\n",
              "            Plotly.purge(gd);\n",
              "            observer.disconnect();\n",
              "        }}\n",
              "}});\n",
              "\n",
              "// Listen for the removal of the full notebook cells\n",
              "var notebookContainer = gd.closest('#notebook-container');\n",
              "if (notebookContainer) {{\n",
              "    x.observe(notebookContainer, {childList: true});\n",
              "}}\n",
              "\n",
              "// Listen for the clearing of the current output cell\n",
              "var outputEl = gd.closest('.output');\n",
              "if (outputEl) {{\n",
              "    x.observe(outputEl, {childList: true});\n",
              "}}\n",
              "\n",
              "                        })                };                            </script>        </div>\n",
              "</body>\n",
              "</html>"
            ]
          },
          "metadata": {}
        }
      ]
    },
    {
      "cell_type": "code",
      "source": [
        "!pip install plotly\n",
        "import plotly.graph_objects as go\n",
        "from itertools import cycle\n",
        "import pandas as pd\n",
        "\n",
        "palette = cycle([\"#ffd670\",\"#70d6ff\",\"#ff4d6d\",\"#8338ec\",\"#90cf8e\"])\n",
        "\n",
        "# Select only numeric columns for correlation calculation\n",
        "numeric_train_df = train_df.select_dtypes(include=['number'])\n",
        "\n",
        "# Calculate correlation with the target variable for numeric columns\n",
        "targ = numeric_train_df.corrwith(numeric_train_df['target'], axis=0)\n",
        "\n",
        "# Sort correlations in descending order (preserving signs)\n",
        "targ_sorted = targ.sort_values(ascending=False)\n",
        "\n",
        "\n",
        "# val = [str(round(v ,1) *100) + '%' for v in targ_sorted.values]\n",
        "# Format the values for display (rounding to 2 decimal places and converting to percentage)\n",
        "val = [str(round(v * 100, 2)) + '%' for v in targ_sorted.values]\n",
        "\n",
        "\n",
        "fig = go.Figure()\n",
        "fig.add_trace(go.Bar(y=targ_sorted.index,\n",
        "                     x= targ_sorted.values, orientation='h',\n",
        "                     text = val))\n",
        "fig.update_layout(title = \"Correlation of variables with Target\",width = 750,\n",
        "                  height = 3500)\n",
        "fig.show() # added fig.show() to display the figure"
      ],
      "metadata": {
        "colab": {
          "base_uri": "https://localhost:8080/",
          "height": 1000
        },
        "id": "5_PvX5DNZFm4",
        "outputId": "a2303cb4-f8ff-4e7c-d0cf-4714f0c214b2"
      },
      "execution_count": null,
      "outputs": [
        {
          "output_type": "stream",
          "name": "stdout",
          "text": [
            "Requirement already satisfied: plotly in /usr/local/lib/python3.10/dist-packages (5.24.1)\n",
            "Requirement already satisfied: tenacity>=6.2.0 in /usr/local/lib/python3.10/dist-packages (from plotly) (9.0.0)\n",
            "Requirement already satisfied: packaging in /usr/local/lib/python3.10/dist-packages (from plotly) (24.2)\n"
          ]
        },
        {
          "output_type": "display_data",
          "data": {
            "text/html": [
              "<html>\n",
              "<head><meta charset=\"utf-8\" /></head>\n",
              "<body>\n",
              "    <div>            <script src=\"https://cdnjs.cloudflare.com/ajax/libs/mathjax/2.7.5/MathJax.js?config=TeX-AMS-MML_SVG\"></script><script type=\"text/javascript\">if (window.MathJax && window.MathJax.Hub && window.MathJax.Hub.Config) {window.MathJax.Hub.Config({SVG: {font: \"STIX-Web\"}});}</script>                <script type=\"text/javascript\">window.PlotlyConfig = {MathJaxConfig: 'local'};</script>\n",
              "        <script charset=\"utf-8\" src=\"https://cdn.plot.ly/plotly-2.35.2.min.js\"></script>                <div id=\"fc2a312d-456b-4576-9f77-3ef440ac7426\" class=\"plotly-graph-div\" style=\"height:3500px; width:750px;\"></div>            <script type=\"text/javascript\">                                    window.PLOTLYENV=window.PLOTLYENV || {};                                    if (document.getElementById(\"fc2a312d-456b-4576-9f77-3ef440ac7426\")) {                    Plotly.newPlot(                        \"fc2a312d-456b-4576-9f77-3ef440ac7426\",                        [{\"orientation\":\"h\",\"text\":[\"100.0%\",\"53.03%\",\"48.38%\",\"47.62%\",\"45.69%\",\"45.37%\",\"44.85%\",\"44.23%\",\"43.01%\",\"42.76%\",\"42.09%\",\"41.51%\",\"40.86%\",\"39.74%\",\"39.0%\",\"38.91%\",\"38.47%\",\"38.37%\",\"37.1%\",\"37.04%\",\"36.5%\",\"33.1%\",\"31.64%\",\"31.51%\",\"28.88%\",\"28.03%\",\"26.9%\",\"26.67%\",\"25.81%\",\"24.99%\",\"23.94%\",\"23.82%\",\"23.42%\",\"22.5%\",\"22.18%\",\"21.53%\",\"20.1%\",\"19.62%\",\"19.52%\",\"19.35%\",\"18.6%\",\"18.31%\",\"17.94%\",\"17.27%\",\"15.95%\",\"15.79%\",\"14.94%\",\"14.55%\",\"14.18%\",\"14.0%\",\"13.55%\",\"13.06%\",\"12.96%\",\"12.96%\",\"12.95%\",\"12.86%\",\"12.65%\",\"12.26%\",\"11.67%\",\"11.62%\",\"11.49%\",\"11.3%\",\"11.16%\",\"10.44%\",\"10.38%\",\"10.36%\",\"10.27%\",\"10.24%\",\"10.16%\",\"9.75%\",\"9.49%\",\"8.9%\",\"8.7%\",\"8.19%\",\"8.02%\",\"7.79%\",\"7.6%\",\"7.26%\",\"7.21%\",\"7.03%\",\"7.03%\",\"6.98%\",\"6.75%\",\"6.69%\",\"6.6%\",\"6.55%\",\"6.35%\",\"4.77%\",\"4.74%\",\"3.35%\",\"2.95%\",\"2.4%\",\"2.25%\",\"2.0%\",\"1.79%\",\"1.51%\",\"1.47%\",\"1.43%\",\"1.06%\",\"0.94%\",\"0.84%\",\"0.53%\",\"0.09%\",\"0.08%\",\"-0.04%\",\"-0.96%\",\"-1.26%\",\"-2.05%\",\"-2.84%\",\"-3.0%\",\"-3.75%\",\"-3.97%\",\"-4.11%\",\"-4.12%\",\"-5.16%\",\"-5.16%\",\"-5.76%\",\"-5.91%\",\"-6.19%\",\"-6.52%\",\"-6.63%\",\"-6.77%\",\"-7.89%\",\"-8.17%\",\"-9.81%\",\"-10.09%\",\"-12.07%\",\"-12.09%\",\"-13.77%\",\"-13.86%\",\"-14.18%\",\"-14.74%\",\"-15.41%\",\"-15.62%\",\"-16.09%\",\"-16.9%\",\"-17.0%\",\"-17.69%\",\"-17.71%\",\"-18.38%\",\"-21.28%\",\"-22.39%\",\"-22.77%\",\"-23.81%\",\"-24.2%\",\"-24.78%\",\"-26.34%\",\"-26.71%\",\"-27.15%\",\"-31.29%\",\"-45.38%\",\"-48.48%\",\"-48.87%\",\"-59.98%\"],\"x\":[1.0,0.5302920550316779,0.4838283749453215,0.4762100543729172,0.4568627542945023,0.45365415391874214,0.4485363108835298,0.442307351030428,0.4300933557155875,0.4276165344031388,0.42090131349440363,0.41514699002593364,0.40859023837942215,0.39737709526820386,0.3900306377668964,0.3890688354195367,0.3847245096490329,0.3837070732994377,0.37099370988396246,0.37036064021788484,0.36496265335203726,0.33097985461762935,0.31636067651415195,0.31508231207460846,0.28876944513397645,0.2802606047542766,0.2690126091777425,0.2667043806126476,0.258050049198412,0.24986664893341382,0.2394387201061101,0.23821739297133238,0.23419493670980154,0.22496047412535114,0.22184616280877953,0.21530628721336645,0.2010134241374385,0.1962382516304251,0.19517019813455008,0.1935044402940757,0.1859616732836831,0.18307574304626062,0.1794033756234174,0.1727477998910552,0.1594885147908935,0.15789676695393673,0.1493704344968635,0.14550965437310218,0.14179946812816208,0.14003685628804194,0.1355053780809298,0.1305557339784699,0.12959591966497747,0.12958914148179354,0.12949384868727926,0.1285738554751077,0.1265148490328926,0.12261590506694432,0.1166931436007549,0.11620343147469545,0.11491671193277046,0.1130220559900174,0.11164126099187985,0.104376850692272,0.10382409440613223,0.10358453391249968,0.10268864543790664,0.10241576994176352,0.101593298966435,0.09752409039602805,0.09489078712481054,0.08899693007606238,0.08700331541557149,0.08192638818628165,0.08021680238946553,0.07788904347618451,0.07603967130287695,0.07264964228349015,0.07210915370040223,0.0702861769921584,0.07028328779715624,0.06983737977721907,0.06746028596383728,0.0668833028241084,0.06597766390658102,0.06546811602789858,0.06346815876299952,0.04766578758576136,0.047377658984451794,0.033484178284377344,0.029520863420399873,0.023997418715796096,0.022521204124585945,0.020015443420360397,0.017870543155358146,0.015073475595846552,0.014722825395546603,0.014262943071062538,0.01064329480523975,0.00936807833448919,0.008351284030796682,0.005320835653148118,0.0008867845261957664,0.0008327498693467904,-0.0004455993669552436,-0.00960000467324508,-0.012615492431537974,-0.020501103895989095,-0.028399783521092993,-0.029986048457627045,-0.03746686606426772,-0.039669137283652435,-0.04114597823903327,-0.04117941827683609,-0.051616980863984134,-0.051623870654457046,-0.05763809075424621,-0.059091737411480785,-0.061944141406867576,-0.06520086226907928,-0.06629652201234798,-0.06773705402637378,-0.07889638836621465,-0.08174876925131104,-0.09810663277558988,-0.10091072882590202,-0.12073668103035036,-0.12089063338087412,-0.1377281433076257,-0.13861073792837078,-0.14176874760965744,-0.1474147244859814,-0.15414139711630181,-0.15620377554203518,-0.16088766043083358,-0.16903051207184852,-0.17000431424378032,-0.1769418724466173,-0.17713058770752255,-0.18383528475674088,-0.2127991149172577,-0.22387253974729926,-0.22771454488455264,-0.23808979898247676,-0.24200561650894395,-0.24775777070395277,-0.26343389539195367,-0.2670737926762778,-0.2715314575483311,-0.31292499489420683,-0.4537623509445983,-0.484791875519716,-0.4886562094609337,-0.5998001271085326],\"y\":[\"target\",\"D_48\",\"D_61\",\"B_9\",\"D_44\",\"D_75\",\"D_55\",\"D_58\",\"B_3\",\"B_7\",\"B_23\",\"D_74\",\"B_4\",\"B_16\",\"B_1\",\"B_37\",\"B_19\",\"B_20\",\"B_22\",\"B_11\",\"R_1\",\"S_7\",\"S_3\",\"B_8\",\"D_70\",\"R_3\",\"D_78\",\"R_2\",\"D_43\",\"D_41\",\"P_4\",\"B_28\",\"R_10\",\"D_131\",\"R_4\",\"D_79\",\"D_130\",\"B_25\",\"S_15\",\"D_39\",\"D_59\",\"D_84\",\"D_81\",\"D_72\",\"R_5\",\"R_8\",\"R_21\",\"R_24\",\"D_113\",\"D_46\",\"D_133\",\"R_16\",\"D_143\",\"D_139\",\"R_15\",\"S_20\",\"D_141\",\"D_145\",\"D_103\",\"D_104\",\"D_89\",\"D_107\",\"D_140\",\"B_24\",\"R_19\",\"B_32\",\"R_20\",\"R_6\",\"B_14\",\"B_21\",\"R_13\",\"B_41\",\"R_11\",\"S_16\",\"S_24\",\"S_22\",\"R_7\",\"R_17\",\"D_123\",\"D_125\",\"D_83\",\"R_25\",\"S_5\",\"B_17\",\"D_65\",\"D_80\",\"R_22\",\"S_9\",\"D_124\",\"B_36\",\"R_28\",\"S_17\",\"R_14\",\"B_15\",\"D_102\",\"R_23\",\"B_26\",\"B_40\",\"S_12\",\"D_69\",\"S_23\",\"S_19\",\"R_18\",\"B_27\",\"D_144\",\"S_18\",\"D_105\",\"D_109\",\"S_27\",\"B_10\",\"D_93\",\"S_26\",\"D_50\",\"B_13\",\"B_12\",\"B_6\",\"B_5\",\"D_96\",\"B_31\",\"D_86\",\"D_60\",\"D_94\",\"S_11\",\"D_71\",\"S_6\",\"S_13\",\"D_56\",\"D_91\",\"D_129\",\"R_12\",\"D_54\",\"D_92\",\"S_8\",\"D_122\",\"D_121\",\"D_119\",\"D_118\",\"D_127\",\"D_115\",\"D_128\",\"D_52\",\"D_112\",\"P_3\",\"S_25\",\"D_77\",\"D_51\",\"D_45\",\"R_27\",\"D_47\",\"D_62\",\"B_33\",\"B_2\",\"B_18\",\"P_2\"],\"type\":\"bar\"}],                        {\"template\":{\"data\":{\"histogram2dcontour\":[{\"type\":\"histogram2dcontour\",\"colorbar\":{\"outlinewidth\":0,\"ticks\":\"\"},\"colorscale\":[[0.0,\"#0d0887\"],[0.1111111111111111,\"#46039f\"],[0.2222222222222222,\"#7201a8\"],[0.3333333333333333,\"#9c179e\"],[0.4444444444444444,\"#bd3786\"],[0.5555555555555556,\"#d8576b\"],[0.6666666666666666,\"#ed7953\"],[0.7777777777777778,\"#fb9f3a\"],[0.8888888888888888,\"#fdca26\"],[1.0,\"#f0f921\"]]}],\"choropleth\":[{\"type\":\"choropleth\",\"colorbar\":{\"outlinewidth\":0,\"ticks\":\"\"}}],\"histogram2d\":[{\"type\":\"histogram2d\",\"colorbar\":{\"outlinewidth\":0,\"ticks\":\"\"},\"colorscale\":[[0.0,\"#0d0887\"],[0.1111111111111111,\"#46039f\"],[0.2222222222222222,\"#7201a8\"],[0.3333333333333333,\"#9c179e\"],[0.4444444444444444,\"#bd3786\"],[0.5555555555555556,\"#d8576b\"],[0.6666666666666666,\"#ed7953\"],[0.7777777777777778,\"#fb9f3a\"],[0.8888888888888888,\"#fdca26\"],[1.0,\"#f0f921\"]]}],\"heatmap\":[{\"type\":\"heatmap\",\"colorbar\":{\"outlinewidth\":0,\"ticks\":\"\"},\"colorscale\":[[0.0,\"#0d0887\"],[0.1111111111111111,\"#46039f\"],[0.2222222222222222,\"#7201a8\"],[0.3333333333333333,\"#9c179e\"],[0.4444444444444444,\"#bd3786\"],[0.5555555555555556,\"#d8576b\"],[0.6666666666666666,\"#ed7953\"],[0.7777777777777778,\"#fb9f3a\"],[0.8888888888888888,\"#fdca26\"],[1.0,\"#f0f921\"]]}],\"heatmapgl\":[{\"type\":\"heatmapgl\",\"colorbar\":{\"outlinewidth\":0,\"ticks\":\"\"},\"colorscale\":[[0.0,\"#0d0887\"],[0.1111111111111111,\"#46039f\"],[0.2222222222222222,\"#7201a8\"],[0.3333333333333333,\"#9c179e\"],[0.4444444444444444,\"#bd3786\"],[0.5555555555555556,\"#d8576b\"],[0.6666666666666666,\"#ed7953\"],[0.7777777777777778,\"#fb9f3a\"],[0.8888888888888888,\"#fdca26\"],[1.0,\"#f0f921\"]]}],\"contourcarpet\":[{\"type\":\"contourcarpet\",\"colorbar\":{\"outlinewidth\":0,\"ticks\":\"\"}}],\"contour\":[{\"type\":\"contour\",\"colorbar\":{\"outlinewidth\":0,\"ticks\":\"\"},\"colorscale\":[[0.0,\"#0d0887\"],[0.1111111111111111,\"#46039f\"],[0.2222222222222222,\"#7201a8\"],[0.3333333333333333,\"#9c179e\"],[0.4444444444444444,\"#bd3786\"],[0.5555555555555556,\"#d8576b\"],[0.6666666666666666,\"#ed7953\"],[0.7777777777777778,\"#fb9f3a\"],[0.8888888888888888,\"#fdca26\"],[1.0,\"#f0f921\"]]}],\"surface\":[{\"type\":\"surface\",\"colorbar\":{\"outlinewidth\":0,\"ticks\":\"\"},\"colorscale\":[[0.0,\"#0d0887\"],[0.1111111111111111,\"#46039f\"],[0.2222222222222222,\"#7201a8\"],[0.3333333333333333,\"#9c179e\"],[0.4444444444444444,\"#bd3786\"],[0.5555555555555556,\"#d8576b\"],[0.6666666666666666,\"#ed7953\"],[0.7777777777777778,\"#fb9f3a\"],[0.8888888888888888,\"#fdca26\"],[1.0,\"#f0f921\"]]}],\"mesh3d\":[{\"type\":\"mesh3d\",\"colorbar\":{\"outlinewidth\":0,\"ticks\":\"\"}}],\"scatter\":[{\"fillpattern\":{\"fillmode\":\"overlay\",\"size\":10,\"solidity\":0.2},\"type\":\"scatter\"}],\"parcoords\":[{\"type\":\"parcoords\",\"line\":{\"colorbar\":{\"outlinewidth\":0,\"ticks\":\"\"}}}],\"scatterpolargl\":[{\"type\":\"scatterpolargl\",\"marker\":{\"colorbar\":{\"outlinewidth\":0,\"ticks\":\"\"}}}],\"bar\":[{\"error_x\":{\"color\":\"#2a3f5f\"},\"error_y\":{\"color\":\"#2a3f5f\"},\"marker\":{\"line\":{\"color\":\"#E5ECF6\",\"width\":0.5},\"pattern\":{\"fillmode\":\"overlay\",\"size\":10,\"solidity\":0.2}},\"type\":\"bar\"}],\"scattergeo\":[{\"type\":\"scattergeo\",\"marker\":{\"colorbar\":{\"outlinewidth\":0,\"ticks\":\"\"}}}],\"scatterpolar\":[{\"type\":\"scatterpolar\",\"marker\":{\"colorbar\":{\"outlinewidth\":0,\"ticks\":\"\"}}}],\"histogram\":[{\"marker\":{\"pattern\":{\"fillmode\":\"overlay\",\"size\":10,\"solidity\":0.2}},\"type\":\"histogram\"}],\"scattergl\":[{\"type\":\"scattergl\",\"marker\":{\"colorbar\":{\"outlinewidth\":0,\"ticks\":\"\"}}}],\"scatter3d\":[{\"type\":\"scatter3d\",\"line\":{\"colorbar\":{\"outlinewidth\":0,\"ticks\":\"\"}},\"marker\":{\"colorbar\":{\"outlinewidth\":0,\"ticks\":\"\"}}}],\"scattermapbox\":[{\"type\":\"scattermapbox\",\"marker\":{\"colorbar\":{\"outlinewidth\":0,\"ticks\":\"\"}}}],\"scatterternary\":[{\"type\":\"scatterternary\",\"marker\":{\"colorbar\":{\"outlinewidth\":0,\"ticks\":\"\"}}}],\"scattercarpet\":[{\"type\":\"scattercarpet\",\"marker\":{\"colorbar\":{\"outlinewidth\":0,\"ticks\":\"\"}}}],\"carpet\":[{\"aaxis\":{\"endlinecolor\":\"#2a3f5f\",\"gridcolor\":\"white\",\"linecolor\":\"white\",\"minorgridcolor\":\"white\",\"startlinecolor\":\"#2a3f5f\"},\"baxis\":{\"endlinecolor\":\"#2a3f5f\",\"gridcolor\":\"white\",\"linecolor\":\"white\",\"minorgridcolor\":\"white\",\"startlinecolor\":\"#2a3f5f\"},\"type\":\"carpet\"}],\"table\":[{\"cells\":{\"fill\":{\"color\":\"#EBF0F8\"},\"line\":{\"color\":\"white\"}},\"header\":{\"fill\":{\"color\":\"#C8D4E3\"},\"line\":{\"color\":\"white\"}},\"type\":\"table\"}],\"barpolar\":[{\"marker\":{\"line\":{\"color\":\"#E5ECF6\",\"width\":0.5},\"pattern\":{\"fillmode\":\"overlay\",\"size\":10,\"solidity\":0.2}},\"type\":\"barpolar\"}],\"pie\":[{\"automargin\":true,\"type\":\"pie\"}]},\"layout\":{\"autotypenumbers\":\"strict\",\"colorway\":[\"#636efa\",\"#EF553B\",\"#00cc96\",\"#ab63fa\",\"#FFA15A\",\"#19d3f3\",\"#FF6692\",\"#B6E880\",\"#FF97FF\",\"#FECB52\"],\"font\":{\"color\":\"#2a3f5f\"},\"hovermode\":\"closest\",\"hoverlabel\":{\"align\":\"left\"},\"paper_bgcolor\":\"white\",\"plot_bgcolor\":\"#E5ECF6\",\"polar\":{\"bgcolor\":\"#E5ECF6\",\"angularaxis\":{\"gridcolor\":\"white\",\"linecolor\":\"white\",\"ticks\":\"\"},\"radialaxis\":{\"gridcolor\":\"white\",\"linecolor\":\"white\",\"ticks\":\"\"}},\"ternary\":{\"bgcolor\":\"#E5ECF6\",\"aaxis\":{\"gridcolor\":\"white\",\"linecolor\":\"white\",\"ticks\":\"\"},\"baxis\":{\"gridcolor\":\"white\",\"linecolor\":\"white\",\"ticks\":\"\"},\"caxis\":{\"gridcolor\":\"white\",\"linecolor\":\"white\",\"ticks\":\"\"}},\"coloraxis\":{\"colorbar\":{\"outlinewidth\":0,\"ticks\":\"\"}},\"colorscale\":{\"sequential\":[[0.0,\"#0d0887\"],[0.1111111111111111,\"#46039f\"],[0.2222222222222222,\"#7201a8\"],[0.3333333333333333,\"#9c179e\"],[0.4444444444444444,\"#bd3786\"],[0.5555555555555556,\"#d8576b\"],[0.6666666666666666,\"#ed7953\"],[0.7777777777777778,\"#fb9f3a\"],[0.8888888888888888,\"#fdca26\"],[1.0,\"#f0f921\"]],\"sequentialminus\":[[0.0,\"#0d0887\"],[0.1111111111111111,\"#46039f\"],[0.2222222222222222,\"#7201a8\"],[0.3333333333333333,\"#9c179e\"],[0.4444444444444444,\"#bd3786\"],[0.5555555555555556,\"#d8576b\"],[0.6666666666666666,\"#ed7953\"],[0.7777777777777778,\"#fb9f3a\"],[0.8888888888888888,\"#fdca26\"],[1.0,\"#f0f921\"]],\"diverging\":[[0,\"#8e0152\"],[0.1,\"#c51b7d\"],[0.2,\"#de77ae\"],[0.3,\"#f1b6da\"],[0.4,\"#fde0ef\"],[0.5,\"#f7f7f7\"],[0.6,\"#e6f5d0\"],[0.7,\"#b8e186\"],[0.8,\"#7fbc41\"],[0.9,\"#4d9221\"],[1,\"#276419\"]]},\"xaxis\":{\"gridcolor\":\"white\",\"linecolor\":\"white\",\"ticks\":\"\",\"title\":{\"standoff\":15},\"zerolinecolor\":\"white\",\"automargin\":true,\"zerolinewidth\":2},\"yaxis\":{\"gridcolor\":\"white\",\"linecolor\":\"white\",\"ticks\":\"\",\"title\":{\"standoff\":15},\"zerolinecolor\":\"white\",\"automargin\":true,\"zerolinewidth\":2},\"scene\":{\"xaxis\":{\"backgroundcolor\":\"#E5ECF6\",\"gridcolor\":\"white\",\"linecolor\":\"white\",\"showbackground\":true,\"ticks\":\"\",\"zerolinecolor\":\"white\",\"gridwidth\":2},\"yaxis\":{\"backgroundcolor\":\"#E5ECF6\",\"gridcolor\":\"white\",\"linecolor\":\"white\",\"showbackground\":true,\"ticks\":\"\",\"zerolinecolor\":\"white\",\"gridwidth\":2},\"zaxis\":{\"backgroundcolor\":\"#E5ECF6\",\"gridcolor\":\"white\",\"linecolor\":\"white\",\"showbackground\":true,\"ticks\":\"\",\"zerolinecolor\":\"white\",\"gridwidth\":2}},\"shapedefaults\":{\"line\":{\"color\":\"#2a3f5f\"}},\"annotationdefaults\":{\"arrowcolor\":\"#2a3f5f\",\"arrowhead\":0,\"arrowwidth\":1},\"geo\":{\"bgcolor\":\"white\",\"landcolor\":\"#E5ECF6\",\"subunitcolor\":\"white\",\"showland\":true,\"showlakes\":true,\"lakecolor\":\"white\"},\"title\":{\"x\":0.05},\"mapbox\":{\"style\":\"light\"}}},\"title\":{\"text\":\"Correlation of variables with Target\"},\"width\":750,\"height\":3500},                        {\"responsive\": true}                    ).then(function(){\n",
              "                            \n",
              "var gd = document.getElementById('fc2a312d-456b-4576-9f77-3ef440ac7426');\n",
              "var x = new MutationObserver(function (mutations, observer) {{\n",
              "        var display = window.getComputedStyle(gd).display;\n",
              "        if (!display || display === 'none') {{\n",
              "            console.log([gd, 'removed!']);\n",
              "            Plotly.purge(gd);\n",
              "            observer.disconnect();\n",
              "        }}\n",
              "}});\n",
              "\n",
              "// Listen for the removal of the full notebook cells\n",
              "var notebookContainer = gd.closest('#notebook-container');\n",
              "if (notebookContainer) {{\n",
              "    x.observe(notebookContainer, {childList: true});\n",
              "}}\n",
              "\n",
              "// Listen for the clearing of the current output cell\n",
              "var outputEl = gd.closest('.output');\n",
              "if (outputEl) {{\n",
              "    x.observe(outputEl, {childList: true});\n",
              "}}\n",
              "\n",
              "                        })                };                            </script>        </div>\n",
              "</body>\n",
              "</html>"
            ]
          },
          "metadata": {}
        }
      ]
    },
    {
      "cell_type": "code",
      "source": [
        "# Select only numeric columns for correlation calculation\n",
        "numerical_features = train_df.select_dtypes(include=np.number).columns\n",
        "\n",
        "# Calculate the correlation matrix\n",
        "correlation_matrix = train_df[numerical_features].corr()\n",
        "\n",
        "# Get the correlation with the target variable\n",
        "target_correlations = correlation_matrix['target'].drop('target')\n",
        "\n",
        "# Find features with high positive and negative correlations\n",
        "highly_correlated_positive = target_correlations[target_correlations > 0.1]\n",
        "highly_correlated_negative = target_correlations[target_correlations < -0.1]\n",
        "\n",
        "# Combine positive and negative correlations\n",
        "highly_correlated_features = pd.concat([highly_correlated_positive,\n",
        "                                        highly_correlated_negative])\n",
        "\n",
        "print(\"Highly correlated features with target (above 0.1 or below -0.1):\")\n",
        "print(highly_correlated_features)\n",
        "\n",
        "len(highly_correlated_features)\n",
        "desired_columns = list(highly_correlated_features.index) + categorical_features\n",
        "desired_columns = [col for col in desired_columns if col in train_df.columns]\n",
        "\n",
        "# Getting target and S_2\n",
        "desired_columns.append('target')\n",
        "desired_columns.append('S_2')\n",
        "desired_columns.append('customer_ID')"
      ],
      "metadata": {
        "colab": {
          "base_uri": "https://localhost:8080/"
        },
        "id": "7WeGcN4rmmha",
        "outputId": "1a6ef715-5568-40cb-bce0-14e9e100b2b0"
      },
      "execution_count": null,
      "outputs": [
        {
          "output_type": "stream",
          "name": "stdout",
          "text": [
            "Highly correlated features with target (above 0.1 or below -0.1):\n",
            "D_39     0.193504\n",
            "B_1      0.390031\n",
            "R_1      0.364963\n",
            "S_3      0.316361\n",
            "D_41     0.249867\n",
            "           ...   \n",
            "D_121   -0.160888\n",
            "D_122   -0.156204\n",
            "D_127   -0.176942\n",
            "D_128   -0.183835\n",
            "D_129   -0.137728\n",
            "Name: target, Length: 97, dtype: float64\n"
          ]
        }
      ]
    },
    {
      "cell_type": "code",
      "source": [
        "# Select only numeric columns for correlation calculation\n",
        "numerical_features = train_df.select_dtypes(include=np.number).columns\n",
        "\n",
        "# Calculate the correlation matrix\n",
        "correlation_matrix = train_df[numerical_features].corr()\n",
        "\n",
        "# Get the correlation with the target variable\n",
        "target_correlations = correlation_matrix['target'].drop('target')\n",
        "\n",
        "# Find features with high positive and negative correlations\n",
        "highly_correlated_positive = target_correlations[target_correlations > 0.1]\n",
        "highly_correlated_negative = target_correlations[target_correlations < -0.1]\n",
        "\n",
        "# Combine positive and negative correlations\n",
        "highly_correlated_features = pd.concat([highly_correlated_positive,\n",
        "                                        highly_correlated_negative])\n",
        "\n",
        "print(\"Highly correlated features with target (above 0.1 or below -0.1):\")\n",
        "highly_correlated_features"
      ],
      "metadata": {
        "colab": {
          "base_uri": "https://localhost:8080/",
          "height": 476
        },
        "id": "F25cahHrmdWF",
        "outputId": "58707355-cab7-431a-fc16-e820b1439547"
      },
      "execution_count": null,
      "outputs": [
        {
          "output_type": "stream",
          "name": "stdout",
          "text": [
            "Highly correlated features with target (above 0.1 or below -0.1):\n"
          ]
        },
        {
          "output_type": "execute_result",
          "data": {
            "text/plain": [
              "D_39     0.193504\n",
              "B_1      0.390031\n",
              "R_1      0.364963\n",
              "S_3      0.316361\n",
              "D_41     0.249867\n",
              "           ...   \n",
              "D_121   -0.160888\n",
              "D_122   -0.156204\n",
              "D_127   -0.176942\n",
              "D_128   -0.183835\n",
              "D_129   -0.137728\n",
              "Name: target, Length: 97, dtype: float64"
            ],
            "text/html": [
              "<div>\n",
              "<style scoped>\n",
              "    .dataframe tbody tr th:only-of-type {\n",
              "        vertical-align: middle;\n",
              "    }\n",
              "\n",
              "    .dataframe tbody tr th {\n",
              "        vertical-align: top;\n",
              "    }\n",
              "\n",
              "    .dataframe thead th {\n",
              "        text-align: right;\n",
              "    }\n",
              "</style>\n",
              "<table border=\"1\" class=\"dataframe\">\n",
              "  <thead>\n",
              "    <tr style=\"text-align: right;\">\n",
              "      <th></th>\n",
              "      <th>target</th>\n",
              "    </tr>\n",
              "  </thead>\n",
              "  <tbody>\n",
              "    <tr>\n",
              "      <th>D_39</th>\n",
              "      <td>0.193504</td>\n",
              "    </tr>\n",
              "    <tr>\n",
              "      <th>B_1</th>\n",
              "      <td>0.390031</td>\n",
              "    </tr>\n",
              "    <tr>\n",
              "      <th>R_1</th>\n",
              "      <td>0.364963</td>\n",
              "    </tr>\n",
              "    <tr>\n",
              "      <th>S_3</th>\n",
              "      <td>0.316361</td>\n",
              "    </tr>\n",
              "    <tr>\n",
              "      <th>D_41</th>\n",
              "      <td>0.249867</td>\n",
              "    </tr>\n",
              "    <tr>\n",
              "      <th>...</th>\n",
              "      <td>...</td>\n",
              "    </tr>\n",
              "    <tr>\n",
              "      <th>D_121</th>\n",
              "      <td>-0.160888</td>\n",
              "    </tr>\n",
              "    <tr>\n",
              "      <th>D_122</th>\n",
              "      <td>-0.156204</td>\n",
              "    </tr>\n",
              "    <tr>\n",
              "      <th>D_127</th>\n",
              "      <td>-0.176942</td>\n",
              "    </tr>\n",
              "    <tr>\n",
              "      <th>D_128</th>\n",
              "      <td>-0.183835</td>\n",
              "    </tr>\n",
              "    <tr>\n",
              "      <th>D_129</th>\n",
              "      <td>-0.137728</td>\n",
              "    </tr>\n",
              "  </tbody>\n",
              "</table>\n",
              "<p>97 rows × 1 columns</p>\n",
              "</div><br><label><b>dtype:</b> float64</label>"
            ]
          },
          "metadata": {},
          "execution_count": 23
        }
      ]
    },
    {
      "cell_type": "code",
      "source": [
        "# Getting the mandatory columns as well\n",
        "\n",
        "desired_columns = list(highly_correlated_features.index) + categorical_features\n",
        "desired_columns = [col for col in desired_columns if col in train_df.columns]\n",
        "desired_columns.append('target')\n",
        "desired_columns.append('S_2')\n",
        "desired_columns.append('customer_ID')\n"
      ],
      "metadata": {
        "id": "iZSG9YSlwEH1"
      },
      "execution_count": null,
      "outputs": []
    },
    {
      "cell_type": "code",
      "source": [
        "# desired_columns"
      ],
      "metadata": {
        "id": "fkkC4sICvjpR"
      },
      "execution_count": null,
      "outputs": []
    },
    {
      "cell_type": "code",
      "source": [
        "print(\"Data shape before removing highly correlated features for train\",\n",
        "      train_df.shape)\n",
        "\n",
        "print(\"Data shape before removing highly correlated features for test\",\n",
        "      test_df.shape)\n",
        "\n",
        "train_df = train_df[desired_columns]\n",
        "test_df = test_df[desired_columns]\n",
        "\n",
        "\n",
        "print(\"Data shape after removing highly correlated features for train\",\n",
        "      train_df.shape)\n",
        "\n",
        "print(\"Data shape after removing highly correlated features for test\",\n",
        "      test_df.shape)\n"
      ],
      "metadata": {
        "colab": {
          "base_uri": "https://localhost:8080/"
        },
        "id": "wBKN854vq1ls",
        "outputId": "396bad37-5815-45ea-b3c2-dc9e549bfadf"
      },
      "execution_count": null,
      "outputs": [
        {
          "output_type": "stream",
          "name": "stdout",
          "text": [
            "Data shape before removing highly correlated features for train (44252, 166)\n",
            "Data shape before removing highly correlated features for test (11063, 166)\n",
            "Data shape after removing highly correlated features for train (44252, 110)\n",
            "Data shape after removing highly correlated features for test (11063, 110)\n"
          ]
        }
      ]
    },
    {
      "cell_type": "markdown",
      "source": [
        "##### Correlations between Risk Features"
      ],
      "metadata": {
        "id": "Jp8jrpzVF4GO"
      }
    },
    {
      "cell_type": "code",
      "execution_count": null,
      "metadata": {
        "id": "ZBMQCCyg90So",
        "colab": {
          "base_uri": "https://localhost:8080/",
          "height": 817
        },
        "outputId": "6955029e-71f9-4fc2-cd3a-a497f03c7023"
      },
      "outputs": [
        {
          "output_type": "display_data",
          "data": {
            "text/html": [
              "<html>\n",
              "<head><meta charset=\"utf-8\" /></head>\n",
              "<body>\n",
              "    <div>            <script src=\"https://cdnjs.cloudflare.com/ajax/libs/mathjax/2.7.5/MathJax.js?config=TeX-AMS-MML_SVG\"></script><script type=\"text/javascript\">if (window.MathJax && window.MathJax.Hub && window.MathJax.Hub.Config) {window.MathJax.Hub.Config({SVG: {font: \"STIX-Web\"}});}</script>                <script type=\"text/javascript\">window.PlotlyConfig = {MathJaxConfig: 'local'};</script>\n",
              "        <script charset=\"utf-8\" src=\"https://cdn.plot.ly/plotly-2.35.2.min.js\"></script>                <div id=\"53341617-0439-4733-a8f6-2dbeded0a0b0\" class=\"plotly-graph-div\" style=\"height:800px; width:800px;\"></div>            <script type=\"text/javascript\">                                    window.PLOTLYENV=window.PLOTLYENV || {};                                    if (document.getElementById(\"53341617-0439-4733-a8f6-2dbeded0a0b0\")) {                    Plotly.newPlot(                        \"53341617-0439-4733-a8f6-2dbeded0a0b0\",                        [{\"coloraxis\":\"coloraxis\",\"name\":\"0\",\"x\":[\"R_1\",\"R_2\",\"R_3\",\"R_4\",\"R_5\",\"R_6\",\"R_8\",\"R_10\",\"R_15\",\"R_16\",\"R_19\",\"R_20\",\"R_21\",\"R_24\",\"R_12\",\"R_27\"],\"y\":[\"R_1\",\"R_2\",\"R_3\",\"R_4\",\"R_5\",\"R_6\",\"R_8\",\"R_10\",\"R_15\",\"R_16\",\"R_19\",\"R_20\",\"R_21\",\"R_24\",\"R_12\",\"R_27\"],\"z\":[[1.0,0.6230898770533939,0.15392808725769117,0.6193043759367463,0.46813121777560335,0.29822844950100247,0.4426857147969515,0.5667640255479468,0.46584468410654706,0.08784887675381779,0.214727450108563,0.2912981743066898,0.37273297284846757,0.40632641627475025,-0.16130441761166436,-0.15905714676836888],[0.6230898770533939,1.0,0.060889308623401035,0.773740207364184,0.5244689543675952,0.395971409597373,0.5255831481575042,0.16637510797547875,0.26893637118255825,0.0172620514592161,0.04178107305837475,0.3915513434787056,0.05177732980033217,0.5571710402355846,-0.12713136358955307,-0.11525265235695106],[0.15392808725769117,0.060889308623401035,1.0,0.04415453876969704,0.04358903804318893,0.020804627241635665,0.037538164819251735,0.09489815110803487,0.07044989328367426,0.5238514420684279,0.004739280448293963,0.027764722403805325,0.06848413400784138,0.025257797549923595,-0.05269743284063421,-0.2160216916517765],[0.6193043759367463,0.773740207364184,0.04415453876969704,1.0,0.6482345653365109,0.402628154543141,0.638477566283959,0.1656148857467512,0.2679068734363248,0.012533249981886565,0.035841312188343764,0.19996517453801896,0.047402986819628685,0.2357800749693824,-0.10564728354386813,-0.09795111871917057],[0.46813121777560335,0.5244689543675952,0.04358903804318893,0.6482345653365109,1.0,0.35377765826478685,0.7757082205292004,0.16630405263163506,0.23158888582728362,0.0017579147903582163,0.041189368381505026,0.2821494692680783,0.04647937501201181,0.24462704280243244,-0.07250758431273198,-0.08622484671148826],[0.29822844950100247,0.395971409597373,0.020804627241635665,0.402628154543141,0.35377765826478685,1.0,0.2971852282743448,0.057707758028897105,0.0997948255505809,0.0021888578688167995,0.04525610172273326,0.2349933447307668,0.022771809799518893,0.2929945286914646,-0.038722687480621236,-0.04485319715643073],[0.4426857147969515,0.5255831481575042,0.037538164819251735,0.638477566283959,0.7757082205292004,0.2971852282743448,1.0,0.17519919416824398,0.21383234584706448,0.005880165278600551,0.04093860823471133,0.13410441062776143,0.0465879404935341,0.14665666976345446,-0.07193582265772144,-0.0781877759125031],[0.5667640255479468,0.16637510797547875,0.09489815110803487,0.1656148857467512,0.16630405263163506,0.057707758028897105,0.17519919416824398,1.0,0.08717445413698909,0.030097678419934038,0.09017050432279838,0.05936265531677484,0.06579510099598286,0.07707002220404996,-0.08020777665265817,-0.10740862914277104],[0.46584468410654706,0.26893637118255825,0.07044989328367426,0.2679068734363248,0.23158888582728362,0.0997948255505809,0.21383234584706448,0.08717445413698909,1.0,0.0251662347394271,0.017142227350400392,0.058405052494731186,0.0556520274263,0.05323156113331207,-0.05474673254571082,-0.04680047938086102],[0.08784887675381779,0.0172620514592161,0.5238514420684279,0.012533249981886565,0.0017579147903582163,0.0021888578688167995,0.005880165278600551,0.030097678419934038,0.0251662347394271,1.0,0.001556917305513545,0.0019613595464553447,0.028323996617009243,0.004688602582531247,-0.026288532382012612,-0.09905079675588835],[0.214727450108563,0.04178107305837475,0.004739280448293963,0.035841312188343764,0.041189368381505026,0.04525610172273326,0.04093860823471133,0.09017050432279838,0.017142227350400392,0.001556917305513545,1.0,0.01545125386621697,0.006124611498554622,0.022139252703231815,-0.03144807716461879,-0.00205798257327278],[0.2912981743066898,0.3915513434787056,0.027764722403805325,0.19996517453801896,0.2821494692680783,0.2349933447307668,0.13410441062776143,0.05936265531677484,0.058405052494731186,0.0019613595464553447,0.01545125386621697,1.0,0.007302545816228775,0.6684626353243295,-0.042349423517783626,-0.061444347062022696],[0.37273297284846757,0.05177732980033217,0.06848413400784138,0.047402986819628685,0.04647937501201181,0.022771809799518893,0.0465879404935341,0.06579510099598286,0.0556520274263,0.028323996617009243,0.006124611498554622,0.007302545816228775,1.0,0.0132663903040553,-0.036554883045435145,-0.07040574451196353],[0.40632641627475025,0.5571710402355846,0.025257797549923595,0.2357800749693824,0.24462704280243244,0.2929945286914646,0.14665666976345446,0.07707002220404996,0.05323156113331207,0.004688602582531247,0.022139252703231815,0.6684626353243295,0.0132663903040553,1.0,-0.06509563672668699,-0.07871850545682293],[-0.16130441761166436,-0.12713136358955307,-0.05269743284063421,-0.10564728354386813,-0.07250758431273198,-0.038722687480621236,-0.07193582265772144,-0.08020777665265817,-0.05474673254571082,-0.026288532382012612,-0.03144807716461879,-0.042349423517783626,-0.036554883045435145,-0.06509563672668699,1.0,0.05934659041543514],[-0.15905714676836888,-0.11525265235695106,-0.2160216916517765,-0.09795111871917057,-0.08622484671148826,-0.04485319715643073,-0.0781877759125031,-0.10740862914277104,-0.04680047938086102,-0.09905079675588835,-0.00205798257327278,-0.061444347062022696,-0.07040574451196353,-0.07871850545682293,0.05934659041543514,1.0]],\"type\":\"heatmap\",\"xaxis\":\"x\",\"yaxis\":\"y\",\"hovertemplate\":\"Features: %{x}\\u003cbr\\u003eFeatures: %{y}\\u003cbr\\u003eCorrelation: %{z}\\u003cextra\\u003e\\u003c\\u002fextra\\u003e\"}],                        {\"template\":{\"data\":{\"histogram2dcontour\":[{\"type\":\"histogram2dcontour\",\"colorbar\":{\"outlinewidth\":0,\"ticks\":\"\"},\"colorscale\":[[0.0,\"#0d0887\"],[0.1111111111111111,\"#46039f\"],[0.2222222222222222,\"#7201a8\"],[0.3333333333333333,\"#9c179e\"],[0.4444444444444444,\"#bd3786\"],[0.5555555555555556,\"#d8576b\"],[0.6666666666666666,\"#ed7953\"],[0.7777777777777778,\"#fb9f3a\"],[0.8888888888888888,\"#fdca26\"],[1.0,\"#f0f921\"]]}],\"choropleth\":[{\"type\":\"choropleth\",\"colorbar\":{\"outlinewidth\":0,\"ticks\":\"\"}}],\"histogram2d\":[{\"type\":\"histogram2d\",\"colorbar\":{\"outlinewidth\":0,\"ticks\":\"\"},\"colorscale\":[[0.0,\"#0d0887\"],[0.1111111111111111,\"#46039f\"],[0.2222222222222222,\"#7201a8\"],[0.3333333333333333,\"#9c179e\"],[0.4444444444444444,\"#bd3786\"],[0.5555555555555556,\"#d8576b\"],[0.6666666666666666,\"#ed7953\"],[0.7777777777777778,\"#fb9f3a\"],[0.8888888888888888,\"#fdca26\"],[1.0,\"#f0f921\"]]}],\"heatmap\":[{\"type\":\"heatmap\",\"colorbar\":{\"outlinewidth\":0,\"ticks\":\"\"},\"colorscale\":[[0.0,\"#0d0887\"],[0.1111111111111111,\"#46039f\"],[0.2222222222222222,\"#7201a8\"],[0.3333333333333333,\"#9c179e\"],[0.4444444444444444,\"#bd3786\"],[0.5555555555555556,\"#d8576b\"],[0.6666666666666666,\"#ed7953\"],[0.7777777777777778,\"#fb9f3a\"],[0.8888888888888888,\"#fdca26\"],[1.0,\"#f0f921\"]]}],\"heatmapgl\":[{\"type\":\"heatmapgl\",\"colorbar\":{\"outlinewidth\":0,\"ticks\":\"\"},\"colorscale\":[[0.0,\"#0d0887\"],[0.1111111111111111,\"#46039f\"],[0.2222222222222222,\"#7201a8\"],[0.3333333333333333,\"#9c179e\"],[0.4444444444444444,\"#bd3786\"],[0.5555555555555556,\"#d8576b\"],[0.6666666666666666,\"#ed7953\"],[0.7777777777777778,\"#fb9f3a\"],[0.8888888888888888,\"#fdca26\"],[1.0,\"#f0f921\"]]}],\"contourcarpet\":[{\"type\":\"contourcarpet\",\"colorbar\":{\"outlinewidth\":0,\"ticks\":\"\"}}],\"contour\":[{\"type\":\"contour\",\"colorbar\":{\"outlinewidth\":0,\"ticks\":\"\"},\"colorscale\":[[0.0,\"#0d0887\"],[0.1111111111111111,\"#46039f\"],[0.2222222222222222,\"#7201a8\"],[0.3333333333333333,\"#9c179e\"],[0.4444444444444444,\"#bd3786\"],[0.5555555555555556,\"#d8576b\"],[0.6666666666666666,\"#ed7953\"],[0.7777777777777778,\"#fb9f3a\"],[0.8888888888888888,\"#fdca26\"],[1.0,\"#f0f921\"]]}],\"surface\":[{\"type\":\"surface\",\"colorbar\":{\"outlinewidth\":0,\"ticks\":\"\"},\"colorscale\":[[0.0,\"#0d0887\"],[0.1111111111111111,\"#46039f\"],[0.2222222222222222,\"#7201a8\"],[0.3333333333333333,\"#9c179e\"],[0.4444444444444444,\"#bd3786\"],[0.5555555555555556,\"#d8576b\"],[0.6666666666666666,\"#ed7953\"],[0.7777777777777778,\"#fb9f3a\"],[0.8888888888888888,\"#fdca26\"],[1.0,\"#f0f921\"]]}],\"mesh3d\":[{\"type\":\"mesh3d\",\"colorbar\":{\"outlinewidth\":0,\"ticks\":\"\"}}],\"scatter\":[{\"fillpattern\":{\"fillmode\":\"overlay\",\"size\":10,\"solidity\":0.2},\"type\":\"scatter\"}],\"parcoords\":[{\"type\":\"parcoords\",\"line\":{\"colorbar\":{\"outlinewidth\":0,\"ticks\":\"\"}}}],\"scatterpolargl\":[{\"type\":\"scatterpolargl\",\"marker\":{\"colorbar\":{\"outlinewidth\":0,\"ticks\":\"\"}}}],\"bar\":[{\"error_x\":{\"color\":\"#2a3f5f\"},\"error_y\":{\"color\":\"#2a3f5f\"},\"marker\":{\"line\":{\"color\":\"#E5ECF6\",\"width\":0.5},\"pattern\":{\"fillmode\":\"overlay\",\"size\":10,\"solidity\":0.2}},\"type\":\"bar\"}],\"scattergeo\":[{\"type\":\"scattergeo\",\"marker\":{\"colorbar\":{\"outlinewidth\":0,\"ticks\":\"\"}}}],\"scatterpolar\":[{\"type\":\"scatterpolar\",\"marker\":{\"colorbar\":{\"outlinewidth\":0,\"ticks\":\"\"}}}],\"histogram\":[{\"marker\":{\"pattern\":{\"fillmode\":\"overlay\",\"size\":10,\"solidity\":0.2}},\"type\":\"histogram\"}],\"scattergl\":[{\"type\":\"scattergl\",\"marker\":{\"colorbar\":{\"outlinewidth\":0,\"ticks\":\"\"}}}],\"scatter3d\":[{\"type\":\"scatter3d\",\"line\":{\"colorbar\":{\"outlinewidth\":0,\"ticks\":\"\"}},\"marker\":{\"colorbar\":{\"outlinewidth\":0,\"ticks\":\"\"}}}],\"scattermapbox\":[{\"type\":\"scattermapbox\",\"marker\":{\"colorbar\":{\"outlinewidth\":0,\"ticks\":\"\"}}}],\"scatterternary\":[{\"type\":\"scatterternary\",\"marker\":{\"colorbar\":{\"outlinewidth\":0,\"ticks\":\"\"}}}],\"scattercarpet\":[{\"type\":\"scattercarpet\",\"marker\":{\"colorbar\":{\"outlinewidth\":0,\"ticks\":\"\"}}}],\"carpet\":[{\"aaxis\":{\"endlinecolor\":\"#2a3f5f\",\"gridcolor\":\"white\",\"linecolor\":\"white\",\"minorgridcolor\":\"white\",\"startlinecolor\":\"#2a3f5f\"},\"baxis\":{\"endlinecolor\":\"#2a3f5f\",\"gridcolor\":\"white\",\"linecolor\":\"white\",\"minorgridcolor\":\"white\",\"startlinecolor\":\"#2a3f5f\"},\"type\":\"carpet\"}],\"table\":[{\"cells\":{\"fill\":{\"color\":\"#EBF0F8\"},\"line\":{\"color\":\"white\"}},\"header\":{\"fill\":{\"color\":\"#C8D4E3\"},\"line\":{\"color\":\"white\"}},\"type\":\"table\"}],\"barpolar\":[{\"marker\":{\"line\":{\"color\":\"#E5ECF6\",\"width\":0.5},\"pattern\":{\"fillmode\":\"overlay\",\"size\":10,\"solidity\":0.2}},\"type\":\"barpolar\"}],\"pie\":[{\"automargin\":true,\"type\":\"pie\"}]},\"layout\":{\"autotypenumbers\":\"strict\",\"colorway\":[\"#636efa\",\"#EF553B\",\"#00cc96\",\"#ab63fa\",\"#FFA15A\",\"#19d3f3\",\"#FF6692\",\"#B6E880\",\"#FF97FF\",\"#FECB52\"],\"font\":{\"color\":\"#2a3f5f\"},\"hovermode\":\"closest\",\"hoverlabel\":{\"align\":\"left\"},\"paper_bgcolor\":\"white\",\"plot_bgcolor\":\"#E5ECF6\",\"polar\":{\"bgcolor\":\"#E5ECF6\",\"angularaxis\":{\"gridcolor\":\"white\",\"linecolor\":\"white\",\"ticks\":\"\"},\"radialaxis\":{\"gridcolor\":\"white\",\"linecolor\":\"white\",\"ticks\":\"\"}},\"ternary\":{\"bgcolor\":\"#E5ECF6\",\"aaxis\":{\"gridcolor\":\"white\",\"linecolor\":\"white\",\"ticks\":\"\"},\"baxis\":{\"gridcolor\":\"white\",\"linecolor\":\"white\",\"ticks\":\"\"},\"caxis\":{\"gridcolor\":\"white\",\"linecolor\":\"white\",\"ticks\":\"\"}},\"coloraxis\":{\"colorbar\":{\"outlinewidth\":0,\"ticks\":\"\"}},\"colorscale\":{\"sequential\":[[0.0,\"#0d0887\"],[0.1111111111111111,\"#46039f\"],[0.2222222222222222,\"#7201a8\"],[0.3333333333333333,\"#9c179e\"],[0.4444444444444444,\"#bd3786\"],[0.5555555555555556,\"#d8576b\"],[0.6666666666666666,\"#ed7953\"],[0.7777777777777778,\"#fb9f3a\"],[0.8888888888888888,\"#fdca26\"],[1.0,\"#f0f921\"]],\"sequentialminus\":[[0.0,\"#0d0887\"],[0.1111111111111111,\"#46039f\"],[0.2222222222222222,\"#7201a8\"],[0.3333333333333333,\"#9c179e\"],[0.4444444444444444,\"#bd3786\"],[0.5555555555555556,\"#d8576b\"],[0.6666666666666666,\"#ed7953\"],[0.7777777777777778,\"#fb9f3a\"],[0.8888888888888888,\"#fdca26\"],[1.0,\"#f0f921\"]],\"diverging\":[[0,\"#8e0152\"],[0.1,\"#c51b7d\"],[0.2,\"#de77ae\"],[0.3,\"#f1b6da\"],[0.4,\"#fde0ef\"],[0.5,\"#f7f7f7\"],[0.6,\"#e6f5d0\"],[0.7,\"#b8e186\"],[0.8,\"#7fbc41\"],[0.9,\"#4d9221\"],[1,\"#276419\"]]},\"xaxis\":{\"gridcolor\":\"white\",\"linecolor\":\"white\",\"ticks\":\"\",\"title\":{\"standoff\":15},\"zerolinecolor\":\"white\",\"automargin\":true,\"zerolinewidth\":2},\"yaxis\":{\"gridcolor\":\"white\",\"linecolor\":\"white\",\"ticks\":\"\",\"title\":{\"standoff\":15},\"zerolinecolor\":\"white\",\"automargin\":true,\"zerolinewidth\":2},\"scene\":{\"xaxis\":{\"backgroundcolor\":\"#E5ECF6\",\"gridcolor\":\"white\",\"linecolor\":\"white\",\"showbackground\":true,\"ticks\":\"\",\"zerolinecolor\":\"white\",\"gridwidth\":2},\"yaxis\":{\"backgroundcolor\":\"#E5ECF6\",\"gridcolor\":\"white\",\"linecolor\":\"white\",\"showbackground\":true,\"ticks\":\"\",\"zerolinecolor\":\"white\",\"gridwidth\":2},\"zaxis\":{\"backgroundcolor\":\"#E5ECF6\",\"gridcolor\":\"white\",\"linecolor\":\"white\",\"showbackground\":true,\"ticks\":\"\",\"zerolinecolor\":\"white\",\"gridwidth\":2}},\"shapedefaults\":{\"line\":{\"color\":\"#2a3f5f\"}},\"annotationdefaults\":{\"arrowcolor\":\"#2a3f5f\",\"arrowhead\":0,\"arrowwidth\":1},\"geo\":{\"bgcolor\":\"white\",\"landcolor\":\"#E5ECF6\",\"subunitcolor\":\"white\",\"showland\":true,\"showlakes\":true,\"lakecolor\":\"white\"},\"title\":{\"x\":0.05},\"mapbox\":{\"style\":\"light\"}}},\"xaxis\":{\"anchor\":\"y\",\"domain\":[0.0,1.0],\"scaleanchor\":\"y\",\"constrain\":\"domain\",\"title\":{\"text\":\"Features\"}},\"yaxis\":{\"anchor\":\"x\",\"domain\":[0.0,1.0],\"autorange\":\"reversed\",\"constrain\":\"domain\",\"title\":{\"text\":\"Features\"}},\"coloraxis\":{\"colorbar\":{\"title\":{\"text\":\"Correlation\"}},\"colorscale\":[[0.0,\"rgb(103,0,31)\"],[0.1,\"rgb(178,24,43)\"],[0.2,\"rgb(214,96,77)\"],[0.3,\"rgb(244,165,130)\"],[0.4,\"rgb(253,219,199)\"],[0.5,\"rgb(247,247,247)\"],[0.6,\"rgb(209,229,240)\"],[0.7,\"rgb(146,197,222)\"],[0.8,\"rgb(67,147,195)\"],[0.9,\"rgb(33,102,172)\"],[1.0,\"rgb(5,48,97)\"]],\"cmin\":-1,\"cmax\":1},\"margin\":{\"t\":60},\"title\":{\"text\":\"Correlation Matrix of Risk Features\"},\"width\":800,\"height\":800},                        {\"responsive\": true}                    ).then(function(){\n",
              "                            \n",
              "var gd = document.getElementById('53341617-0439-4733-a8f6-2dbeded0a0b0');\n",
              "var x = new MutationObserver(function (mutations, observer) {{\n",
              "        var display = window.getComputedStyle(gd).display;\n",
              "        if (!display || display === 'none') {{\n",
              "            console.log([gd, 'removed!']);\n",
              "            Plotly.purge(gd);\n",
              "            observer.disconnect();\n",
              "        }}\n",
              "}});\n",
              "\n",
              "// Listen for the removal of the full notebook cells\n",
              "var notebookContainer = gd.closest('#notebook-container');\n",
              "if (notebookContainer) {{\n",
              "    x.observe(notebookContainer, {childList: true});\n",
              "}}\n",
              "\n",
              "// Listen for the clearing of the current output cell\n",
              "var outputEl = gd.closest('.output');\n",
              "if (outputEl) {{\n",
              "    x.observe(outputEl, {childList: true});\n",
              "}}\n",
              "\n",
              "                        })                };                            </script>        </div>\n",
              "</body>\n",
              "</html>"
            ]
          },
          "metadata": {}
        }
      ],
      "source": [
        "#### Correlations between Risk Features\n",
        "import plotly.graph_objects as go\n",
        "import plotly.express as px\n",
        "\n",
        "# Select columns starting with 'R_'\n",
        "r_columns = [col for col in train_df.columns if col.startswith('R_')]\n",
        "\n",
        "# Check if any 'R_' columns exist\n",
        "if not r_columns:\n",
        "    print(\"No columns found starting with 'R_'.\")\n",
        "else:\n",
        "    # Calculate the correlation matrix for 'R_' columns\n",
        "    r_correlation = train_df[r_columns].corr()\n",
        "\n",
        "    # Plot the heatmap using Plotly\n",
        "    fig = px.imshow(r_correlation,\n",
        "                   labels=dict(x=\"Features\", y=\"Features\", color=\"Correlation\"),\n",
        "                   x=r_columns,\n",
        "                   y=r_columns,\n",
        "                   color_continuous_scale='RdBu', # Use a diverging color scale\n",
        "                   zmin=-1, zmax=1) # Set color scale limits\n",
        "\n",
        "    fig.update_layout(\n",
        "        title=\"Correlation Matrix of Risk Features\",\n",
        "        width=800,  # Adjust the width as needed\n",
        "        height=800, # Adjust the height as needed\n",
        "    )\n",
        "    fig.show()"
      ]
    },
    {
      "cell_type": "markdown",
      "source": [
        "##### Correlations between Delinquency Features"
      ],
      "metadata": {
        "id": "joUPQnOfF7tI"
      }
    },
    {
      "cell_type": "code",
      "source": [
        "import plotly.graph_objects as go\n",
        "import plotly.express as px\n",
        "import pandas as pd  # Import pandas for select_dtypes\n",
        "\n",
        "# Select columns starting with 'D_'\n",
        "r_columns = [col for col in train_df.columns if col.startswith('D_')]\n",
        "\n",
        "# Check if any 'D_' columns exist\n",
        "if not r_columns:\n",
        "    print(\"No columns found starting with 'D_'.\")\n",
        "else:\n",
        "    # Select only numeric columns within r_columns for correlation\n",
        "    numeric_r_columns = train_df[r_columns].select_dtypes(include=np.number).columns.tolist()\n",
        "\n",
        "    # Calculate the correlation matrix for numeric 'D_' columns\n",
        "    r_correlation = train_df[numeric_r_columns].corr()\n",
        "\n",
        "    # Plot the heatmap using Plotly\n",
        "    fig = px.imshow(r_correlation,\n",
        "                   labels=dict(x=\"Features\", y=\"Features\", color=\"Correlation\"),\n",
        "                   x=numeric_r_columns,  # Use numeric columns for x and y\n",
        "                   y=numeric_r_columns,\n",
        "                   color_continuous_scale='RdBu', # Use a diverging color scale\n",
        "                   zmin=-1, zmax=1) # Set color scale limits\n",
        "\n",
        "    fig.update_layout(\n",
        "        title=\"Correlation Matrix of Delinquency Features\",\n",
        "        width=800,  # Adjust the width as needed\n",
        "        height=800, # Adjust the height as needed\n",
        "    )\n",
        "    fig.show()"
      ],
      "metadata": {
        "colab": {
          "base_uri": "https://localhost:8080/",
          "height": 817
        },
        "id": "ppiDqrdtf8zl",
        "outputId": "5a1d1c74-ea42-483a-81cc-a4b59cdc369f"
      },
      "execution_count": null,
      "outputs": [
        {
          "output_type": "display_data",
          "data": {
            "text/html": [
              "<html>\n",
              "<head><meta charset=\"utf-8\" /></head>\n",
              "<body>\n",
              "    <div>            <script src=\"https://cdnjs.cloudflare.com/ajax/libs/mathjax/2.7.5/MathJax.js?config=TeX-AMS-MML_SVG\"></script><script type=\"text/javascript\">if (window.MathJax && window.MathJax.Hub && window.MathJax.Hub.Config) {window.MathJax.Hub.Config({SVG: {font: \"STIX-Web\"}});}</script>                <script type=\"text/javascript\">window.PlotlyConfig = {MathJaxConfig: 'local'};</script>\n",
              "        <script charset=\"utf-8\" src=\"https://cdn.plot.ly/plotly-2.35.2.min.js\"></script>                <div id=\"f496e3a1-949e-4e28-94f8-dbe8897b6702\" class=\"plotly-graph-div\" style=\"height:800px; width:800px;\"></div>            <script type=\"text/javascript\">                                    window.PLOTLYENV=window.PLOTLYENV || {};                                    if (document.getElementById(\"f496e3a1-949e-4e28-94f8-dbe8897b6702\")) {                    Plotly.newPlot(                        \"f496e3a1-949e-4e28-94f8-dbe8897b6702\",                        [{\"coloraxis\":\"coloraxis\",\"name\":\"0\",\"x\":[\"D_39\",\"D_41\",\"D_43\",\"D_44\",\"D_46\",\"D_48\",\"D_55\",\"D_58\",\"D_59\",\"D_61\",\"D_70\",\"D_72\",\"D_74\",\"D_75\",\"D_78\",\"D_79\",\"D_81\",\"D_84\",\"D_89\",\"D_103\",\"D_104\",\"D_107\",\"D_113\",\"D_130\",\"D_131\",\"D_133\",\"D_139\",\"D_140\",\"D_141\",\"D_143\",\"D_145\",\"D_45\",\"D_47\",\"D_51\",\"D_52\",\"D_54\",\"D_56\",\"D_62\",\"D_77\",\"D_91\",\"D_92\",\"D_112\",\"D_115\",\"D_118\",\"D_119\",\"D_121\",\"D_122\",\"D_127\",\"D_128\",\"D_129\"],\"y\":[\"D_39\",\"D_41\",\"D_43\",\"D_44\",\"D_46\",\"D_48\",\"D_55\",\"D_58\",\"D_59\",\"D_61\",\"D_70\",\"D_72\",\"D_74\",\"D_75\",\"D_78\",\"D_79\",\"D_81\",\"D_84\",\"D_89\",\"D_103\",\"D_104\",\"D_107\",\"D_113\",\"D_130\",\"D_131\",\"D_133\",\"D_139\",\"D_140\",\"D_141\",\"D_143\",\"D_145\",\"D_45\",\"D_47\",\"D_51\",\"D_52\",\"D_54\",\"D_56\",\"D_62\",\"D_77\",\"D_91\",\"D_92\",\"D_112\",\"D_115\",\"D_118\",\"D_119\",\"D_121\",\"D_122\",\"D_127\",\"D_128\",\"D_129\"],\"z\":[[1.0,0.43804539644828755,0.05400327228014108,0.1366792426852347,0.034782660022076244,0.17384552694937422,0.1688634731615697,0.13841910222043335,0.033266862804818366,0.15642778963775203,0.07996012464485916,0.08472573420399633,0.11568692137386041,0.1486048157121964,0.13069752529335432,0.061705460397161904,0.10417699278892209,0.12822686287563223,0.09079652440708609,0.06444000311190043,0.06459486273750246,0.07627055731063416,0.01520133608554526,0.05881305595865334,0.0625465281482069,0.041687608823569075,0.04493300043656287,0.020040393066001444,0.04447072606516182,0.044967427567090636,0.03064218344013459,0.039053878101768504,0.0015135560528070893,-0.0006239510750751439,-0.01665230057806434,-0.3019328453093775,0.0028842719454732395,-0.06937781457403691,-0.041288632894185315,0.018091293483266734,0.027702853541956222,-0.3068967162645092,-0.019744544072451818,-0.019351141479753534,-0.019162897263479906,0.0051722789289696735,-0.0029614824291784897,0.01740436378673159,0.005555562407320561,0.02629397266285713],[0.43804539644828755,1.0,0.07618975151601844,0.15440110653451625,0.013952487384154456,0.2387969122590999,0.22209618986898602,0.1532485585175419,0.053696033703651426,0.21402432895514772,0.08000739341369793,0.17196408542017094,0.12380927368052971,0.1565168448180897,0.21896020381098333,0.051279359267775826,0.22672609829281046,0.22618137454561865,0.15825525052160183,0.06026850034624209,0.06053558997413721,0.06831947771392148,0.03075061888859494,0.06353274162230978,0.055631267970854374,0.04514182634461727,0.05172947450720842,0.029919060671560353,0.05114601552400555,0.051855158612775044,0.04291074535939673,-0.011174595309207391,-0.03733425554049765,-0.07479679609602123,-0.027189946648778697,-0.5538376173943191,-0.009149386174180506,-0.10397916123387634,-0.06468775612068767,-0.017404983155602058,-0.06496408426092926,-0.6102027669472209,-0.03828353228461146,-0.03296188138958295,-0.03321366623050694,-0.023699660755978114,-0.022956407776468384,-0.04036256784632838,-0.012019441962851011,0.0035022246650427647],[0.05400327228014108,0.07618975151601844,1.0,0.2284679492891909,0.09445652756524121,0.19860204183282895,0.18609246723011066,0.220463210472297,0.1156367946131282,0.2016200524593249,0.15995977416615487,0.06350468567526833,0.22994210762343847,0.23651436351207997,0.12898698270754388,0.16624650627529428,0.05966271717568094,0.06869592668295231,0.048390243298922136,0.13692724266087758,0.13469578060270626,0.16701717838969435,0.1256230972334925,0.1518346488302484,0.1611236594541226,0.08341956825991954,0.07468607277492854,0.06343579323813762,0.07261432784296751,0.0748489347494047,0.0628550506292763,-0.16652018539564808,-0.16078292311153264,-0.08914586555869736,-0.10158232998934538,-0.039448258752891464,-0.04315354589246092,-0.12250368018727167,-0.11330813912501947,-0.03402240838396574,-0.05229636057807379,-0.06913225471723801,-0.12053747368524063,-0.10904166231147289,-0.10744051996255621,-0.11089428536440989,-0.08985057182431694,-0.06713448959882196,-0.07695211135381946,-0.04678836354840506],[0.1366792426852347,0.15440110653451625,0.2284679492891909,1.0,0.2502743856262557,0.6640002560424073,0.6939749420631403,0.7328952327154878,0.16020538977400242,0.5927878281392915,0.4812855341714928,0.10565736161813585,0.7527275546957296,0.758764245709508,0.48496827899621425,0.20008999122740428,0.13911480254033426,0.17019714319445928,0.12189105262737428,0.12422771181318945,0.12469568747804562,0.1267146876009379,0.0693269353160792,0.20100073492797357,0.20406860050881157,0.16467617960168027,0.12669674980042256,0.08784462873940652,0.12599347283169374,0.1268921053606213,0.11116398125633928,-0.16699512336157632,-0.1341366693485979,-0.18590055056372246,-0.17799086598357952,-0.07634537217798174,-0.09167322822595492,-0.2661993881672336,-0.18939480418615867,-0.0911330941402523,-0.12539195385037052,-0.13826981018711637,-0.09037894919664058,-0.08101936154292004,-0.080082525822532,-0.058089879767382405,-0.07851001193382891,-0.1616023788324773,-0.07462441223066156,-0.030233944998199522],[0.034782660022076244,0.013952487384154456,0.09445652756524121,0.2502743856262557,1.0,0.22552884281168428,0.10566952510275372,0.17419703285168675,0.04255458224310835,0.1431785808390601,0.1722970479922962,-0.09342345386443182,0.13323241645747902,0.14310012466798935,0.08188917992313692,0.05540427146202031,-0.10979830642745773,-0.06654277579130774,-0.034539636325192066,0.0380823141854243,0.03775953563762487,0.04543241232668702,0.04160810767117608,0.04322917858062531,0.0549173346213363,0.04201472254893343,0.02424199065423401,0.022566143280283692,0.024199195319008722,0.024347584403954604,0.024368529780253594,-0.05909173947548036,-0.0518344057764502,-0.04126991305566742,-0.0014611221217366202,0.0026352150927890367,-0.01929596079724563,-0.043086688679676674,-0.0423357479337864,-0.02007640215077873,-0.027987416125093777,-0.016349872238169028,-0.046037848402356765,-0.039388286241015924,-0.038890647652739245,-0.03140167323063178,-0.039077042722123194,-0.05047879349589627,-0.02453489159054018,-0.004414484292119775],[0.17384552694937422,0.2387969122590999,0.19860204183282895,0.6640002560424073,0.22552884281168428,1.0,0.8387297935071286,0.6376469258856798,0.19106315181728262,0.8296821632421656,0.34278510033050846,0.20596188239686047,0.5411035930142374,0.5804599979676047,0.37071229357489555,0.208407409892269,0.20819860875219542,0.20032668648337015,0.12313155069708144,0.161239189902903,0.16139884600084545,0.15603064265772149,0.12325908489264903,0.22982500094247982,0.2193651204840461,0.16748921643490294,0.18858491043515396,0.10831110301131122,0.1868647945499123,0.18867426174848695,0.15686045597222617,-0.21707010252222605,-0.24748789597632703,-0.25730223092816407,-0.237986171692562,-0.1312442082027897,-0.1264691673054768,-0.44585208270492216,-0.3042217723105291,-0.11416216331288391,-0.16948029028356718,-0.22288329585020092,-0.1658526480035978,-0.15880715573028908,-0.1578778193192282,-0.14865531145831412,-0.12226110076405865,-0.22933967461970708,-0.111425845043624,-0.050956030671099245],[0.1688634731615697,0.22209618986898602,0.18609246723011066,0.6939749420631403,0.10566952510275372,0.8387297935071286,1.0,0.7351623864482967,0.16113123684489186,0.7837173001358108,0.3788292111873618,0.1692750471198921,0.6229757047008107,0.6552212605234871,0.36388629421166185,0.20731959702393551,0.19655723666617167,0.18199806314593647,0.11846696083476231,0.1813968166539117,0.18202001954719924,0.1803564470083111,0.09712227576154411,0.24053405161770078,0.22185270739262267,0.17978459608878608,0.17039701795511636,0.0836317771505019,0.17013470811258946,0.17048318677083324,0.13277965309379577,-0.12035513480306646,-0.13757408955741313,-0.21753731037816462,-0.1937060727610725,-0.11999894114673865,-0.09298698502299181,-0.3444562823596159,-0.21707584343235473,-0.09483080992196706,-0.1668569627727103,-0.21618871465626063,-0.11016831854989924,-0.10517372260348236,-0.10355459599738079,-0.07833981808749968,-0.07414058661587448,-0.20969382972930065,-0.029007440433915295,0.02518114140616987],[0.13841910222043335,0.1532485585175419,0.220463210472297,0.7328952327154878,0.17419703285168675,0.6376469258856798,0.7351623864482967,1.0,0.178597195667153,0.6870805181489588,0.6473311690157799,0.1705653067101404,0.9242673719116182,0.9274399039949414,0.3245988596438039,0.2332894826437225,0.19358979405933213,0.19275382859105572,0.12433297655997565,0.19347310783067748,0.19412913779162708,0.1958531463768644,0.043020217017331885,0.26492191589984126,0.24655361206377144,0.19696358180899187,0.15011919623242556,0.08374865047682632,0.15007337501540433,0.1503184516993838,0.11503098129901468,-0.14938851070963122,-0.09679907564022723,-0.232536762451184,-0.18857649832466739,-0.07842296590793107,-0.12942857445454262,-0.3483198998139582,-0.24772658085727264,-0.11280657151866164,-0.17860957602742003,-0.14717608999046725,-0.06890802424423315,-0.054953844546636196,-0.05381126704915832,-0.01489856728171363,-0.051121729758666405,-0.22921803507301236,-0.023700404343073845,0.031615491523336016],[0.033266862804818366,0.053696033703651426,0.1156367946131282,0.16020538977400242,0.04255458224310835,0.19106315181728262,0.16113123684489186,0.178597195667153,1.0,0.1829865618371058,0.130099465281299,0.069082882055633,0.1733243321946797,0.17758277563805547,0.08350120261778717,0.08790948988669739,0.0642823033883,0.06356671088547645,0.043162801930758894,0.07794593971965993,0.07767522408853408,0.06998989992693885,0.10179698408008608,0.09861241811859726,0.09558249213117766,0.05599506036751747,0.09661321815369382,0.05273706451971131,0.09495979863736972,0.09689383129702488,0.07412609223430969,-0.3862422034260334,-0.2659672266319648,-0.1750344585996818,-0.17225076742790313,-0.04012235781522927,-0.09681220630545193,-0.18084685491974442,-0.16188360371967603,-0.08901894373187402,-0.12406196750998517,-0.050765321070765146,-0.14368389530860662,-0.13469071747101347,-0.13242366866876643,-0.1917712832714029,-0.11656597040945865,-0.16440953636722078,-0.11700448294920604,-0.07010790281592111],[0.15642778963775203,0.21402432895514772,0.2016200524593249,0.5927878281392915,0.1431785808390601,0.8296821632421656,0.7837173001358108,0.6870805181489588,0.1829865618371058,1.0,0.3664830009189527,0.18277681556777736,0.5733284770591257,0.6048109558978269,0.3085398046933522,0.20707589257525894,0.18506933646122442,0.17059671350970304,0.10533137421916058,0.17426354706997976,0.17456697701252308,0.17019310075702734,0.10271603305880822,0.24010416348487648,0.22220269361176984,0.16535629470376237,0.17550220943233866,0.09762835345556241,0.17403255418903196,0.17562082037096227,0.14170459425135873,-0.19749044196152507,-0.21560891371321902,-0.2508696038526765,-0.2076024274193145,-0.11685694887946294,-0.12988529131016902,-0.43024381425481234,-0.29870990141606635,-0.10833926461530177,-0.16945829117165195,-0.20615229023069065,-0.15260650983871746,-0.14256310202703798,-0.1421936987623302,-0.1261949313542574,-0.10750035595896466,-0.24032484474546661,-0.08256083825461802,-0.030445073342383708],[0.07996012464485916,0.08000739341369793,0.15995977416615487,0.4812855341714928,0.1722970479922962,0.34278510033050846,0.3788292111873618,0.6473311690157799,0.130099465281299,0.3664830009189527,1.0,0.10336303961366237,0.6522027560041952,0.6441400639390257,0.22058959046793122,0.14980544659701267,0.12557736984051537,0.15083759815159403,0.09453322273012214,0.1190669433318763,0.11928501154478327,0.12428503749804677,0.03531280690078763,0.1653695505808707,0.15935356902855685,0.12465050069324475,0.07685572268958187,0.05450612015223267,0.07680802255428786,0.0769565690760022,0.06386337061852725,-0.12431539885069896,-0.08043559825510326,-0.1395641714940908,-0.11922883606479814,-0.047950487741304344,-0.0723638891813635,-0.19912583514236817,-0.15140724855015433,-0.06928621661716636,-0.10250417820205876,-0.07917019930098264,-0.0499236830726753,-0.042457764728570574,-0.04162600963832567,-0.017349588858632043,-0.03476512790328718,-0.12388183884106121,-0.03831080475532334,0.0007691377544795448],[0.08472573420399633,0.17196408542017094,0.06350468567526833,0.10565736161813585,-0.09342345386443182,0.20596188239686047,0.1692750471198921,0.1705653067101404,0.069082882055633,0.18277681556777736,0.10336303961366237,1.0,0.17678839931592918,0.18037465807478784,0.15473128425612706,0.03644985030734566,0.63473288090646,0.5898368042482922,0.22314605089322093,0.03248953956043548,0.033144819594775075,0.027851870908863884,0.024768034334450018,0.06457131547456095,0.03974200256132124,0.04039117945755394,0.08473835489754034,0.023885181773593608,0.08413353017026098,0.08428094002994105,0.09507913544743761,-0.0536095096606462,-0.0480644175290364,-0.07691617153978653,-0.05422149437042593,-0.13971127704197375,-0.03476952550911178,-0.09583610061403261,-0.06250605121904851,-0.03185363688697809,-0.03787241911428004,-0.12751601434030346,-0.037855925692873924,-0.02463423427354991,-0.02474028240447999,-0.019156346160137692,-0.029981667156349222,-0.047522784822529474,-0.026668849641923485,-0.016824120385413335],[0.11568692137386041,0.12380927368052971,0.22994210762343847,0.7527275546957296,0.13323241645747902,0.5411035930142374,0.6229757047008107,0.9242673719116182,0.1733243321946797,0.5733284770591257,0.6522027560041952,0.17678839931592918,1.0,0.9868748069029328,0.3376739666745832,0.21587043155231112,0.20035341361003414,0.2091505520595001,0.13807557161558,0.16142397980136503,0.16206268693496967,0.16629651117379582,0.026273834607619912,0.24189080426558637,0.22542207809226444,0.1804847751482673,0.12599352554156407,0.07806735756539894,0.1259675630608243,0.126211129630405,0.10056821473698001,-0.1498022074112376,-0.09230240028969293,-0.2128205945107772,-0.1871423681940553,-0.0672220224845791,-0.12201275105174487,-0.3124624969037,-0.23012347794035218,-0.10494032446890639,-0.15658960042359832,-0.11886908698493959,-0.05584835276683327,-0.04005297756180303,-0.03926019042794577,-0.001564388153191564,-0.04692485016435332,-0.1953301631351587,-0.03035526808437283,0.01144988889264383],[0.1486048157121964,0.1565168448180897,0.23651436351207997,0.758764245709508,0.14310012466798935,0.5804599979676047,0.6552212605234871,0.9274399039949414,0.17758277563805547,0.6048109558978269,0.6441400639390257,0.18037465807478784,0.9868748069029328,1.0,0.3443359460075331,0.22732408193659198,0.2027327162087449,0.21053060499578968,0.13766154407257786,0.1727231157814045,0.17336235552190626,0.17629199359402203,0.039452459545723954,0.2535472079817482,0.23803472803646725,0.1880184279416414,0.14153435802511238,0.08620898032297919,0.1413378069741051,0.1417375958443916,0.11317341613619916,-0.1540744680603951,-0.10756391495980008,-0.23348600559749869,-0.20112378668653097,-0.07440044327124751,-0.1285874397941781,-0.3381823402105601,-0.24761575779071843,-0.11229830476385222,-0.17848623434409353,-0.15065240756987172,-0.06801369864679273,-0.05255833949217009,-0.05152386321942154,-0.017105161440564724,-0.056331780998217326,-0.2104864697911755,-0.04165625774615457,0.007756287041841584],[0.13069752529335432,0.21896020381098333,0.12898698270754388,0.48496827899621425,0.08188917992313692,0.37071229357489555,0.36388629421166185,0.3245988596438039,0.08350120261778717,0.3085398046933522,0.22058959046793122,0.15473128425612706,0.3376739666745832,0.3443359460075331,1.0,0.10852976931839295,0.22555102394126372,0.3189840088516405,0.24659727163609405,0.06378387661858655,0.063987479656297,0.06133581356592598,0.05506437735746283,0.10474428338907255,0.10879155599942576,0.09209495539549496,0.07795899044608269,0.06592559507329906,0.07726398926837981,0.07816823999404049,0.06614613442310376,-0.09920864162876018,-0.08699169635156641,-0.09270663274095796,-0.10716612371854874,-0.12719451073111115,-0.043960004521227,-0.13090330951472665,-0.08422558949943192,-0.043683234295108814,-0.05663791124713492,-0.15455197247444483,-0.05827729432711899,-0.05183995646363831,-0.05106365310104785,-0.05472559799228154,-0.05377396530896186,-0.0721666348043759,-0.059629636431794156,-0.03227786450344698],[0.061705460397161904,0.051279359267775826,0.16624650627529428,0.20008999122740428,0.05540427146202031,0.208407409892269,0.20731959702393551,0.2332894826437225,0.08790948988669739,0.20707589257525894,0.14980544659701267,0.03644985030734566,0.21587043155231112,0.22732408193659198,0.10852976931839295,1.0,0.049072160925119915,0.06176929987151812,0.04879106719069357,0.11125172787605485,0.11103111868755629,0.11482028571042412,0.046246650061222826,0.5896855349254863,0.8726142876651224,0.6326251764144779,0.10022352688460885,0.04479210545341902,0.10067160533099735,0.09992380976450181,0.07219141442092773,-0.11501010697170813,-0.08637444776883946,-0.09813142671990098,-0.09295809774419461,-0.027093383221736277,-0.06030559086353661,-0.1238457930479619,-0.0985682551949666,-0.03778151556538003,-0.06426029540944857,-0.056522635317100486,-0.06307048398184516,-0.05954508591254835,-0.05818268878689887,-0.0359344693005731,-0.03283391173203543,-0.07522677443660852,-0.025761637696484117,0.004003851252342689],[0.10417699278892209,0.22672609829281046,0.05966271717568094,0.13911480254033426,-0.10979830642745773,0.20819860875219542,0.19655723666617167,0.19358979405933213,0.0642823033883,0.18506933646122442,0.12557736984051537,0.63473288090646,0.20035341361003414,0.2027327162087449,0.22555102394126372,0.049072160925119915,1.0,0.6152142189043547,0.5237001222474221,0.04034143436080248,0.040957146091580986,0.039152542223466674,0.0200044527788325,0.07607652366686249,0.05484747415141412,0.051477361502408774,0.05810356907047779,0.02953890913656543,0.0585900601444611,0.058083742521658724,0.05411134805944954,-0.040949125505176216,-0.0362177851850142,-0.07199192596245349,-0.054630937387952536,-0.18143142514983238,-0.03059842762574737,-0.0870112663480056,-0.05374700574209351,-0.03141134460371088,-0.03556036760540699,-0.1583410861682794,-0.02799923935635119,-0.016925691534158904,-0.016836962697331065,-0.012397728656682287,-0.028406449180446623,-0.04335517393787046,-0.020242124882589613,-0.011736842372783642],[0.12822686287563223,0.22618137454561865,0.06869592668295231,0.17019714319445928,-0.06654277579130774,0.20032668648337015,0.18199806314593647,0.19275382859105572,0.06356671088547645,0.17059671350970304,0.15083759815159403,0.5898368042482922,0.2091505520595001,0.21053060499578968,0.3189840088516405,0.06176929987151812,0.6152142189043547,1.0,0.57445502325821,0.048620574413018966,0.04901209194766212,0.04988255575805192,0.02795438216138156,0.07214909571026903,0.06613838875489418,0.0556722131875019,0.062037861028532516,0.02720204472110085,0.06123676243540136,0.06206710271962063,0.06885005141111634,-0.05497705186730981,-0.04789442820616716,-0.07138993108851155,-0.06532596541464382,-0.16862031475306583,-0.0309185139430057,-0.08128742798880412,-0.05701133511497375,-0.033620460571773376,-0.035065289815260255,-0.14882508953031515,-0.031992171439659926,-0.019375578497456924,-0.019349287206757573,-0.01665653949800146,-0.029685699441093234,-0.04139846759494207,-0.02256128114564176,-0.009015310636936502],[0.09079652440708609,0.15825525052160183,0.048390243298922136,0.12189105262737428,-0.034539636325192066,0.12313155069708144,0.11846696083476231,0.12433297655997565,0.043162801930758894,0.10533137421916058,0.09453322273012214,0.22314605089322093,0.13807557161558,0.13766154407257786,0.24659727163609405,0.04879106719069357,0.5237001222474221,0.57445502325821,1.0,0.03293320167682685,0.03326078623272099,0.032234957229323874,0.0193973924465563,0.0501747942574256,0.0541530655701641,0.04500946607586475,0.03377823562831156,0.01675422177608857,0.03339279623060245,0.033893356291912397,0.03165370739370314,-0.03140407199447331,-0.02693632266621773,-0.04287535369511372,-0.040716865207617046,-0.11580487429693116,-0.019287381063796395,-0.04822550189923908,-0.033164334804400855,-0.02208822017550725,-0.022189294407224728,-0.09738457469750508,-0.020751583056183152,-0.01596268685143061,-0.015565702019748898,-0.014783154715400799,-0.021649261809360214,-0.0244035292776259,-0.013542158146117542,-0.0043925835719535716],[0.06444000311190043,0.06026850034624209,0.13692724266087758,0.12422771181318945,0.0380823141854243,0.161239189902903,0.1813968166539117,0.19347310783067748,0.07794593971965993,0.17426354706997976,0.1190669433318763,0.03248953956043548,0.16142397980136503,0.1727231157814045,0.06378387661858655,0.11125172787605485,0.04034143436080248,0.048620574413018966,0.03293320167682685,1.0,0.9997541100237015,0.8485753155192226,0.09577236532878479,0.16474365016936493,0.12915045702485126,0.0856034985097407,0.12376574420786161,0.03883438050946631,0.12333767047711038,0.12378050790171972,0.08232721238159785,-0.09451033958132027,-0.0879358578185389,-0.03173485544388624,-0.08350094882621747,-0.026595945352840093,-0.03735972787745696,-0.08902384534949197,-0.06574837226231497,0.012934538343265713,-0.01420516521240708,-0.06750307759116062,-0.1023399249647738,-0.09271829273907872,-0.09107577161421197,-0.06107815274872638,0.0031295957197386144,-0.011810908031731774,0.09221001971870822,0.14446516256675687],[0.06459486273750246,0.06053558997413721,0.13469578060270626,0.12469568747804562,0.03775953563762487,0.16139884600084545,0.18202001954719924,0.19412913779162708,0.07767522408853408,0.17456697701252308,0.11928501154478327,0.033144819594775075,0.16206268693496967,0.17336235552190626,0.063987479656297,0.11103111868755629,0.040957146091580986,0.04901209194766212,0.03326078623272099,0.9997541100237015,1.0,0.8456616916774242,0.09478424582457623,0.16464787116860943,0.12897522571530232,0.08569945324094552,0.12392014065695033,0.038633633635904996,0.12351271717039698,0.12393577812547538,0.08246952416265067,-0.09367845121783745,-0.08699130775374535,-0.03200314631526372,-0.0833080643577062,-0.026755136565533924,-0.03750369708245432,-0.08924450723346225,-0.06583138625159415,0.01260250434883043,-0.014594797662312317,-0.06771611924365331,-0.10158789322489847,-0.09197949044151273,-0.09033719858527942,-0.0603626355843383,0.003350148959068765,-0.012119991955836608,0.0926635227057912,0.14482330050735182],[0.07627055731063416,0.06831947771392148,0.16701717838969435,0.1267146876009379,0.04543241232668702,0.15603064265772149,0.1803564470083111,0.1958531463768644,0.06998989992693885,0.17019310075702734,0.12428503749804677,0.027851870908863884,0.16629651117379582,0.17629199359402203,0.06133581356592598,0.11482028571042412,0.039152542223466674,0.04988255575805192,0.032234957229323874,0.8485753155192226,0.8456616916774242,1.0,0.07317266143196063,0.16840521351718313,0.12967725725712628,0.08650249977243832,0.10632656158327733,0.033083619166585546,0.10584623796678874,0.10618494019225419,0.0635903394216341,-0.07915229339566607,-0.06741149169558862,-0.018200489182047367,-0.05713436814447301,-0.030924476289594244,-0.02304111208276946,-0.07358954981675014,-0.05164569500272851,0.021131823110363213,-0.006130914626803318,-0.0757570911108603,-0.08666481084293803,-0.0741196426869315,-0.07255148381966127,-0.02751764437708666,0.020029342126735062,0.006739466125756818,0.11134908288077963,0.15364706277736734],[0.01520133608554526,0.03075061888859494,0.1256230972334925,0.0693269353160792,0.04160810767117608,0.12325908489264903,0.09712227576154411,0.043020217017331885,0.10179698408008608,0.10271603305880822,0.03531280690078763,0.024768034334450018,0.026273834607619912,0.039452459545723954,0.05506437735746283,0.046246650061222826,0.0200044527788325,0.02795438216138156,0.0193973924465563,0.09577236532878479,0.09478424582457623,0.07317266143196063,1.0,0.0433235458089848,0.04904473296267051,0.016935643799282765,0.14311413940743517,0.05878537298330051,0.13962148744080047,0.14325406798353435,0.12271221249533255,-0.23368969804861184,-0.3267279869968994,-0.10819794909770487,-0.09818792268882764,-0.00950499209834149,-0.05577062925062026,-0.09640777964245309,-0.07219476330032251,-0.005082809591387625,-0.006035168523526145,-0.03448705855663412,-0.5058701264509002,-0.5003324947391801,-0.49863621685894677,-0.39193114143043156,-0.32242124498918795,-0.05647971292070543,-0.13898922605828018,-0.09688526915450965],[0.05881305595865334,0.06353274162230978,0.1518346488302484,0.20100073492797357,0.04322917858062531,0.22982500094247982,0.24053405161770078,0.26492191589984126,0.09861241811859726,0.24010416348487648,0.1653695505808707,0.06457131547456095,0.24189080426558637,0.2535472079817482,0.10474428338907255,0.5896855349254863,0.07607652366686249,0.07214909571026903,0.0501747942574256,0.16474365016936493,0.16464787116860943,0.16840521351718313,0.0433235458089848,1.0,0.6746156365833543,0.49037164433898667,0.11470911562684319,0.052444549040428536,0.11511355326742849,0.11470444641961769,0.07498349670219741,-0.11435637003433201,-0.06201205299293723,-0.11367761004010037,-0.10578963934999165,-0.03774226128746204,-0.08452484439188879,-0.15082550941706474,-0.1204156110854397,-0.04175267626907196,-0.0687337824559478,-0.06523774341446326,-0.05824413147331742,-0.05193227535567169,-0.0502242906112831,0.004560132849952059,-0.021657027669173573,-0.08888007500755851,0.025451789996597685,0.05916345156141094],[0.0625465281482069,0.055631267970854374,0.1611236594541226,0.20406860050881157,0.0549173346213363,0.2193651204840461,0.22185270739262267,0.24655361206377144,0.09558249213117766,0.22220269361176984,0.15935356902855685,0.03974200256132124,0.22542207809226444,0.23803472803646725,0.10879155599942576,0.8726142876651224,0.05484747415141412,0.06613838875489418,0.0541530655701641,0.12915045702485126,0.12897522571530232,0.12967725725712628,0.04904473296267051,0.6746156365833543,1.0,0.7325840058986598,0.108484168098012,0.04451618874931404,0.10857199187507217,0.10833771654815555,0.08084890191000824,-0.12498905371676614,-0.09147874183184723,-0.10785326793378071,-0.10097222838914127,-0.028356185013518873,-0.06767981071035546,-0.13658415956991807,-0.10833965146276807,-0.04439152397048122,-0.07145184383199553,-0.06270024596967362,-0.06653592900949747,-0.06140706861043009,-0.05962301248630287,-0.03673894480017244,-0.03670659702273949,-0.082659403330884,-0.025929827964708312,0.010901044167972593],[0.041687608823569075,0.04514182634461727,0.08341956825991954,0.16467617960168027,0.04201472254893343,0.16748921643490294,0.17978459608878608,0.19696358180899187,0.05599506036751747,0.16535629470376237,0.12465050069324475,0.04039117945755394,0.1804847751482673,0.1880184279416414,0.09209495539549496,0.6326251764144779,0.051477361502408774,0.0556722131875019,0.04500946607586475,0.0856034985097407,0.08569945324094552,0.08650249977243832,0.016935643799282765,0.49037164433898667,0.7325840058986598,1.0,0.07782711594787071,0.029519285108039205,0.07822121052061523,0.07783179369230012,0.05292024522346898,-0.07219284465372944,-0.04710636765268587,-0.07482712166997153,-0.06590975397873036,-0.027291642187503146,-0.047183592658097656,-0.09443508886226917,-0.07033026771745185,-0.031597459572490584,-0.04988617836312152,-0.04624773705941854,-0.03442072372172774,-0.029329303190868586,-0.028096319907558173,-0.013345327852506342,-0.02623765040179307,-0.058334685662528675,-0.017773275767989677,0.005194060219544397],[0.04493300043656287,0.05172947450720842,0.07468607277492854,0.12669674980042256,0.02424199065423401,0.18858491043515396,0.17039701795511636,0.15011919623242556,0.09661321815369382,0.17550220943233866,0.07685572268958187,0.08473835489754034,0.12599352554156407,0.14153435802511238,0.07795899044608269,0.10022352688460885,0.05810356907047779,0.062037861028532516,0.03377823562831156,0.12376574420786161,0.12392014065695033,0.10632656158327733,0.14311413940743517,0.11470911562684319,0.108484168098012,0.07782711594787071,1.0,0.32918368696346506,0.9981299761941949,0.9992364997253304,0.6422712437083046,-0.15949860010399924,-0.16933474393738795,-0.10258139252032893,-0.1062964906573996,-0.02322071724917562,-0.0646240200141404,-0.14134766172632415,-0.106018103569755,-0.0324378138143686,-0.05484508035088395,-0.04568930484979748,-0.15683679136448198,-0.1550111874271384,-0.15393775028575185,-0.18449998561177325,-0.06226062633520319,-0.07709610842390272,-0.07193576146549638,-0.00704081723493021],[0.020040393066001444,0.029919060671560353,0.06343579323813762,0.08784462873940652,0.022566143280283692,0.10831110301131122,0.0836317771505019,0.08374865047682632,0.05273706451971131,0.09762835345556241,0.05450612015223267,0.023885181773593608,0.07806735756539894,0.08620898032297919,0.06592559507329906,0.04479210545341902,0.02953890913656543,0.02720204472110085,0.01675422177608857,0.03883438050946631,0.038633633635904996,0.033083619166585546,0.05878537298330051,0.052444549040428536,0.04451618874931404,0.029519285108039205,0.32918368696346506,1.0,0.32807681102940994,0.32899402594389715,0.22030896813946046,-0.0874532109998503,-0.08299809274609159,-0.0580555279857201,-0.062429085156392256,-0.009268693774779404,-0.03138404876206017,-0.07653902587340722,-0.05889344155810328,-0.02667136649134835,-0.03226527103939101,-0.027416377185530375,-0.060559112846017726,-0.05976206478581627,-0.05961480679582418,-0.07344371049327768,-0.03852150466315435,-0.04300848864883783,-0.06365912134215826,-0.03488789014182957],[0.04447072606516182,0.05114601552400555,0.07261432784296751,0.12599347283169374,0.024199195319008722,0.1868647945499123,0.17013470811258946,0.15007337501540433,0.09495979863736972,0.17403255418903196,0.07680802255428786,0.08413353017026098,0.1259675630608243,0.1413378069741051,0.07726398926837981,0.10067160533099735,0.0585900601444611,0.06123676243540136,0.03339279623060245,0.12333767047711038,0.12351271717039698,0.10584623796678874,0.13962148744080047,0.11511355326742849,0.10857199187507217,0.07822121052061523,0.9981299761941949,0.32807681102940994,1.0,0.9973635077986062,0.6287446452225581,-0.1558643440373131,-0.16401480667025234,-0.1006267783599769,-0.10381729177945911,-0.02251195644392924,-0.06360193051512536,-0.1389708821543801,-0.10390338727846091,-0.03118094357775577,-0.05360015924752591,-0.04533707831096146,-0.15450508743221936,-0.15291214145179663,-0.1519436825631903,-0.17829182969438412,-0.059260157513305003,-0.07521546394590865,-0.06707190672246637,-0.0029065566494172685],[0.044967427567090636,0.051855158612775044,0.0748489347494047,0.1268921053606213,0.024347584403954604,0.18867426174848695,0.17048318677083324,0.1503184516993838,0.09689383129702488,0.17562082037096227,0.0769565690760022,0.08428094002994105,0.126211129630405,0.1417375958443916,0.07816823999404049,0.09992380976450181,0.058083742521658724,0.06206710271962063,0.033893356291912397,0.12378050790171972,0.12393577812547538,0.10618494019225419,0.14325406798353435,0.11470444641961769,0.10833771654815555,0.07783179369230012,0.9992364997253304,0.32899402594389715,0.9973635077986062,1.0,0.6422250719692972,-0.1594188465332607,-0.16938752378304792,-0.10287330855129603,-0.10668463434934572,-0.023410327633040785,-0.06470751759776192,-0.14122834668268744,-0.1059296829605301,-0.03278355676290472,-0.05483914303570018,-0.04576719760017589,-0.15693152939961305,-0.15503140217624276,-0.15395024466042334,-0.18442800416684763,-0.062301507257437036,-0.07727469435047894,-0.07227133826361531,-0.007294332139100316],[0.03064218344013459,0.04291074535939673,0.0628550506292763,0.11116398125633928,0.024368529780253594,0.15686045597222617,0.13277965309379577,0.11503098129901468,0.07412609223430969,0.14170459425135873,0.06386337061852725,0.09507913544743761,0.10056821473698001,0.11317341613619916,0.06614613442310376,0.07219141442092773,0.05411134805944954,0.06885005141111634,0.03165370739370314,0.08232721238159785,0.08246952416265067,0.0635903394216341,0.12271221249533255,0.07498349670219741,0.08084890191000824,0.05292024522346898,0.6422712437083046,0.22030896813946046,0.6287446452225581,0.6422250719692972,1.0,-0.13600735960700058,-0.14578669295836721,-0.08824367844671314,-0.08481310389019911,-0.01828325038829066,-0.05286407719175614,-0.1143150570640556,-0.0836840662492271,-0.034173288279589986,-0.04548691869793886,-0.03631392103537716,-0.1290457078959467,-0.12535820026801925,-0.12437087883122876,-0.17133697145970664,-0.06458709638385507,-0.0656875224872827,-0.09574502251023619,-0.04483742343086068],[0.039053878101768504,-0.011174595309207391,-0.16652018539564808,-0.16699512336157632,-0.05909173947548036,-0.21707010252222605,-0.12035513480306646,-0.14938851070963122,-0.3862422034260334,-0.19749044196152507,-0.12431539885069896,-0.0536095096606462,-0.1498022074112376,-0.1540744680603951,-0.09920864162876018,-0.11501010697170813,-0.040949125505176216,-0.05497705186730981,-0.03140407199447331,-0.09451033958132027,-0.09367845121783745,-0.07915229339566607,-0.23368969804861184,-0.11435637003433201,-0.12498905371676614,-0.07219284465372944,-0.15949860010399924,-0.0874532109998503,-0.1558643440373131,-0.1594188465332607,-0.13600735960700058,1.0,0.5913322065922122,0.21537474917462565,0.24495897131909816,-0.008052458305121595,0.1271004392761282,0.21089136873905148,0.20167663137470476,0.10895996030395859,0.1196767578310422,-0.029832732962723096,0.32317481192545633,0.3178780017659092,0.31485871290694967,0.4136171426733742,0.20281782680354468,0.1804106094428575,0.19558600296417225,0.12630297796945283],[0.0015135560528070893,-0.03733425554049765,-0.16078292311153264,-0.1341366693485979,-0.0518344057764502,-0.24748789597632703,-0.13757408955741313,-0.09679907564022723,-0.2659672266319648,-0.21560891371321902,-0.08043559825510326,-0.0480644175290364,-0.09230240028969293,-0.10756391495980008,-0.08699169635156641,-0.08637444776883946,-0.0362177851850142,-0.04789442820616716,-0.02693632266621773,-0.0879358578185389,-0.08699130775374535,-0.06741149169558862,-0.3267279869968994,-0.06201205299293723,-0.09147874183184723,-0.04710636765268587,-0.16933474393738795,-0.08299809274609159,-0.16401480667025234,-0.16938752378304792,-0.14578669295836721,0.5913322065922122,1.0,0.21708089823531979,0.23544184528832213,0.01340180819500851,0.12232437933285573,0.2762572295321531,0.2428910509801011,0.0726343645981472,0.0985130986661701,0.009866711289325958,0.46473405151237823,0.477524212040166,0.47582480069340505,0.6787085440299512,0.28722304157765244,0.16186545795237706,0.2712373389636552,0.15552916709553957],[-0.0006239510750751439,-0.07479679609602123,-0.08914586555869736,-0.18590055056372246,-0.04126991305566742,-0.25730223092816407,-0.21753731037816462,-0.232536762451184,-0.1750344585996818,-0.2508696038526765,-0.1395641714940908,-0.07691617153978653,-0.2128205945107772,-0.23348600559749869,-0.09270663274095796,-0.09813142671990098,-0.07199192596245349,-0.07138993108851155,-0.04287535369511372,-0.03173485544388624,-0.03200314631526372,-0.018200489182047367,-0.10819794909770487,-0.11367761004010037,-0.10785326793378071,-0.07482712166997153,-0.10258139252032893,-0.0580555279857201,-0.1006267783599769,-0.10287330855129603,-0.08824367844671314,0.21537474917462565,0.21708089823531979,1.0,0.1965976228072691,0.04771800139502598,0.3494103169757043,0.2759236282487072,0.24492718730708124,0.6805901427047956,0.6209514969245767,0.06350075228909674,0.14702449133794074,0.1429459585872202,0.14287237196850175,0.16977550840335803,0.18467993795380055,0.3348910742504644,0.22534059681576782,0.16155173124563824],[-0.01665230057806434,-0.027189946648778697,-0.10158232998934538,-0.17799086598357952,-0.0014611221217366202,-0.237986171692562,-0.1937060727610725,-0.18857649832466739,-0.17225076742790313,-0.2076024274193145,-0.11922883606479814,-0.05422149437042593,-0.1871423681940553,-0.20112378668653097,-0.10716612371854874,-0.09295809774419461,-0.054630937387952536,-0.06532596541464382,-0.040716865207617046,-0.08350094882621747,-0.0833080643577062,-0.05713436814447301,-0.09818792268882764,-0.10578963934999165,-0.10097222838914127,-0.06590975397873036,-0.1062964906573996,-0.062429085156392256,-0.10381729177945911,-0.10668463434934572,-0.08481310389019911,0.24495897131909816,0.23544184528832213,0.1965976228072691,1.0,0.010663909383005677,0.15507199983078762,0.38825306665658393,0.3760857542767054,0.11712630509697695,0.12696988350619667,0.023208050370881795,0.11716511879630623,0.11296713758963303,0.10888563409028147,0.1688300648921604,0.09384028270286773,0.18884520523100665,0.13240619370809825,0.08845003972101675],[-0.3019328453093775,-0.5538376173943191,-0.039448258752891464,-0.07634537217798174,0.0026352150927890367,-0.1312442082027897,-0.11999894114673865,-0.07842296590793107,-0.04012235781522927,-0.11685694887946294,-0.047950487741304344,-0.13971127704197375,-0.0672220224845791,-0.07440044327124751,-0.12719451073111115,-0.027093383221736277,-0.18143142514983238,-0.16862031475306583,-0.11580487429693116,-0.026595945352840093,-0.026755136565533924,-0.030924476289594244,-0.00950499209834149,-0.03774226128746204,-0.028356185013518873,-0.027291642187503146,-0.02322071724917562,-0.009268693774779404,-0.02251195644392924,-0.023410327633040785,-0.01828325038829066,-0.008052458305121595,0.01340180819500851,0.04771800139502598,0.010663909383005677,1.0,0.013201587529166893,0.05924917193360216,0.03503608714430156,0.01727983804493612,0.03340139604764972,0.3312836101221491,0.014024549938015825,0.011678306253067318,0.012576966410440206,0.00916396296298838,0.011623186305706842,0.019517597109090956,0.0038421931456356986,0.0021945369687691955],[0.0028842719454732395,-0.009149386174180506,-0.04315354589246092,-0.09167322822595492,-0.01929596079724563,-0.1264691673054768,-0.09298698502299181,-0.12942857445454262,-0.09681220630545193,-0.12988529131016902,-0.0723638891813635,-0.03476952550911178,-0.12201275105174487,-0.1285874397941781,-0.043960004521227,-0.06030559086353661,-0.03059842762574737,-0.0309185139430057,-0.019287381063796395,-0.03735972787745696,-0.03750369708245432,-0.02304111208276946,-0.05577062925062026,-0.08452484439188879,-0.06767981071035546,-0.047183592658097656,-0.0646240200141404,-0.03138404876206017,-0.06360193051512536,-0.06470751759776192,-0.05286407719175614,0.1271004392761282,0.12232437933285573,0.3494103169757043,0.15507199983078762,0.013201587529166893,1.0,0.22734056693335497,0.21136842782599768,0.10031586764835129,0.1174228316683508,-0.0075029142888713134,0.07325179111180817,0.07756696960774316,0.07688893824345129,0.08945667086296927,0.04923142323828659,0.2333873865241794,0.10648773939858117,0.09742319186352381],[-0.06937781457403691,-0.10397916123387634,-0.12250368018727167,-0.2661993881672336,-0.043086688679676674,-0.44585208270492216,-0.3444562823596159,-0.3483198998139582,-0.18084685491974442,-0.43024381425481234,-0.19912583514236817,-0.09583610061403261,-0.3124624969037,-0.3381823402105601,-0.13090330951472665,-0.1238457930479619,-0.0870112663480056,-0.08128742798880412,-0.04822550189923908,-0.08902384534949197,-0.08924450723346225,-0.07358954981675014,-0.09640777964245309,-0.15082550941706474,-0.13658415956991807,-0.09443508886226917,-0.14134766172632415,-0.07653902587340722,-0.1389708821543801,-0.14122834668268744,-0.1143150570640556,0.21089136873905148,0.2762572295321531,0.2759236282487072,0.38825306665658393,0.05924917193360216,0.22734056693335497,1.0,0.9167504161314491,0.13285252133242098,0.1710750561915991,0.09293700587587404,0.14027171556299273,0.14006279040506558,0.13936503732291985,0.19010959761183027,0.14274983168616917,0.2813594208785845,0.17588236329422163,0.1180425458026949],[-0.041288632894185315,-0.06468775612068767,-0.11330813912501947,-0.18939480418615867,-0.0423357479337864,-0.3042217723105291,-0.21707584343235473,-0.24772658085727264,-0.16188360371967603,-0.29870990141606635,-0.15140724855015433,-0.06250605121904851,-0.23012347794035218,-0.24761575779071843,-0.08422558949943192,-0.0985682551949666,-0.05374700574209351,-0.05701133511497375,-0.033164334804400855,-0.06574837226231497,-0.06583138625159415,-0.05164569500272851,-0.07219476330032251,-0.1204156110854397,-0.10833965146276807,-0.07033026771745185,-0.106018103569755,-0.05889344155810328,-0.10390338727846091,-0.1059296829605301,-0.0836840662492271,0.20167663137470476,0.2428910509801011,0.24492718730708124,0.3760857542767054,0.03503608714430156,0.21136842782599768,0.9167504161314491,1.0,0.1259036240495073,0.16031933279044888,0.052234393453194486,0.11315775029644828,0.1114097189277248,0.11072555571682907,0.1598246363898026,0.1172864151908066,0.26100378843052535,0.1513238188755928,0.11043063908475408],[0.018091293483266734,-0.017404983155602058,-0.03402240838396574,-0.0911330941402523,-0.02007640215077873,-0.11416216331288391,-0.09483080992196706,-0.11280657151866164,-0.08901894373187402,-0.10833926461530177,-0.06928621661716636,-0.03185363688697809,-0.10494032446890639,-0.11229830476385222,-0.043683234295108814,-0.03778151556538003,-0.03141134460371088,-0.033620460571773376,-0.02208822017550725,0.012934538343265713,0.01260250434883043,0.021131823110363213,-0.005082809591387625,-0.04175267626907196,-0.04439152397048122,-0.031597459572490584,-0.0324378138143686,-0.02667136649134835,-0.03118094357775577,-0.03278355676290472,-0.034173288279589986,0.10895996030395859,0.0726343645981472,0.6805901427047956,0.11712630509697695,0.01727983804493612,0.10031586764835129,0.13285252133242098,0.1259036240495073,1.0,0.31176716901346646,0.011893069353743518,0.003942127852031432,-0.00017642192083902917,-0.0004128372637036085,0.04017984936453404,0.07181042953141957,0.19442863225670845,0.11386553893932236,0.06697441334759081],[0.027702853541956222,-0.06496408426092926,-0.05229636057807379,-0.12539195385037052,-0.027987416125093777,-0.16948029028356718,-0.1668569627727103,-0.17860957602742003,-0.12406196750998517,-0.16945829117165195,-0.10250417820205876,-0.03787241911428004,-0.15658960042359832,-0.17848623434409353,-0.05663791124713492,-0.06426029540944857,-0.03556036760540699,-0.035065289815260255,-0.022189294407224728,-0.01420516521240708,-0.014594797662312317,-0.006130914626803318,-0.006035168523526145,-0.0687337824559478,-0.07145184383199553,-0.04988617836312152,-0.05484508035088395,-0.03226527103939101,-0.05360015924752591,-0.05483914303570018,-0.04548691869793886,0.1196767578310422,0.0985130986661701,0.6209514969245767,0.12696988350619667,0.03340139604764972,0.1174228316683508,0.1710750561915991,0.16031933279044888,0.31176716901346646,1.0,0.05659868045257733,0.014553094483006087,0.012541419134264813,0.011891610210612516,0.06161270304192254,0.07223673062151986,0.30820209021574474,0.09423382358494646,0.06598944949783005],[-0.3068967162645092,-0.6102027669472209,-0.06913225471723801,-0.13826981018711637,-0.016349872238169028,-0.22288329585020092,-0.21618871465626063,-0.14717608999046725,-0.050765321070765146,-0.20615229023069065,-0.07917019930098264,-0.12751601434030346,-0.11886908698493959,-0.15065240756987172,-0.15455197247444483,-0.056522635317100486,-0.1583410861682794,-0.14882508953031515,-0.09738457469750508,-0.06750307759116062,-0.06771611924365331,-0.0757570911108603,-0.03448705855663412,-0.06523774341446326,-0.06270024596967362,-0.04624773705941854,-0.04568930484979748,-0.027416377185530375,-0.04533707831096146,-0.04576719760017589,-0.03631392103537716,-0.029832732962723096,0.009866711289325958,0.06350075228909674,0.023208050370881795,0.3312836101221491,-0.0075029142888713134,0.09293700587587404,0.052234393453194486,0.011893069353743518,0.05659868045257733,1.0,0.03395355199614947,0.027058527294159217,0.0270265997260493,0.006368286419807853,0.023671272742745445,0.01590384222674385,-0.003983900213120441,-0.011107796460288493],[-0.019744544072451818,-0.03828353228461146,-0.12053747368524063,-0.09037894919664058,-0.046037848402356765,-0.1658526480035978,-0.11016831854989924,-0.06890802424423315,-0.14368389530860662,-0.15260650983871746,-0.0499236830726753,-0.037855925692873924,-0.05584835276683327,-0.06801369864679273,-0.05827729432711899,-0.06307048398184516,-0.02799923935635119,-0.031992171439659926,-0.020751583056183152,-0.1023399249647738,-0.10158789322489847,-0.08666481084293803,-0.5058701264509002,-0.05824413147331742,-0.06653592900949747,-0.03442072372172774,-0.15683679136448198,-0.060559112846017726,-0.15450508743221936,-0.15693152939961305,-0.1290457078959467,0.32317481192545633,0.46473405151237823,0.14702449133794074,0.11716511879630623,0.014024549938015825,0.07325179111180817,0.14027171556299273,0.11315775029644828,0.003942127852031432,0.014553094483006087,0.03395355199614947,1.0,0.8250868145131567,0.8259771819548126,0.5195755006345854,0.4738539027109571,0.055033517402598306,0.11560484201611362,0.06750220645994867],[-0.019351141479753534,-0.03296188138958295,-0.10904166231147289,-0.08101936154292004,-0.039388286241015924,-0.15880715573028908,-0.10517372260348236,-0.054953844546636196,-0.13469071747101347,-0.14256310202703798,-0.042457764728570574,-0.02463423427354991,-0.04005297756180303,-0.05255833949217009,-0.05183995646363831,-0.05954508591254835,-0.016925691534158904,-0.019375578497456924,-0.01596268685143061,-0.09271829273907872,-0.09197949044151273,-0.0741196426869315,-0.5003324947391801,-0.05193227535567169,-0.06140706861043009,-0.029329303190868586,-0.1550111874271384,-0.05976206478581627,-0.15291214145179663,-0.15503140217624276,-0.12535820026801925,0.3178780017659092,0.477524212040166,0.1429459585872202,0.11296713758963303,0.011678306253067318,0.07756696960774316,0.14006279040506558,0.1114097189277248,-0.00017642192083902917,0.012541419134264813,0.027058527294159217,0.8250868145131567,1.0,0.9948478182049484,0.5406949001303792,0.3661024576818627,0.05962111441995822,0.12350898569096917,0.07260259306923383],[-0.019162897263479906,-0.03321366623050694,-0.10744051996255621,-0.080082525822532,-0.038890647652739245,-0.1578778193192282,-0.10355459599738079,-0.05381126704915832,-0.13242366866876643,-0.1421936987623302,-0.04162600963832567,-0.02474028240447999,-0.03926019042794577,-0.05152386321942154,-0.05106365310104785,-0.05818268878689887,-0.016836962697331065,-0.019349287206757573,-0.015565702019748898,-0.09107577161421197,-0.09033719858527942,-0.07255148381966127,-0.49863621685894677,-0.0502242906112831,-0.05962301248630287,-0.028096319907558173,-0.15393775028575185,-0.05961480679582418,-0.1519436825631903,-0.15395024466042334,-0.12437087883122876,0.31485871290694967,0.47582480069340505,0.14287237196850175,0.10888563409028147,0.012576966410440206,0.07688893824345129,0.13936503732291985,0.11072555571682907,-0.0004128372637036085,0.011891610210612516,0.0270265997260493,0.8259771819548126,0.9948478182049484,1.0,0.5389467948835714,0.36834545766409316,0.059201580759134335,0.12320813859575944,0.0728864932443849],[0.0051722789289696735,-0.023699660755978114,-0.11089428536440989,-0.058089879767382405,-0.03140167323063178,-0.14865531145831412,-0.07833981808749968,-0.01489856728171363,-0.1917712832714029,-0.1261949313542574,-0.017349588858632043,-0.019156346160137692,-0.001564388153191564,-0.017105161440564724,-0.05472559799228154,-0.0359344693005731,-0.012397728656682287,-0.01665653949800146,-0.014783154715400799,-0.06107815274872638,-0.0603626355843383,-0.02751764437708666,-0.39193114143043156,0.004560132849952059,-0.03673894480017244,-0.013345327852506342,-0.18449998561177325,-0.07344371049327768,-0.17829182969438412,-0.18442800416684763,-0.17133697145970664,0.4136171426733742,0.6787085440299512,0.16977550840335803,0.1688300648921604,0.00916396296298838,0.08945667086296927,0.19010959761183027,0.1598246363898026,0.04017984936453404,0.06161270304192254,0.006368286419807853,0.5195755006345854,0.5406949001303792,0.5389467948835714,1.0,0.3432551683911601,0.13663977969763316,0.30834050853972494,0.17545414897441367],[-0.0029614824291784897,-0.022956407776468384,-0.08985057182431694,-0.07851001193382891,-0.039077042722123194,-0.12226110076405865,-0.07414058661587448,-0.051121729758666405,-0.11656597040945865,-0.10750035595896466,-0.03476512790328718,-0.029981667156349222,-0.04692485016435332,-0.056331780998217326,-0.05377396530896186,-0.03283391173203543,-0.028406449180446623,-0.029685699441093234,-0.021649261809360214,0.0031295957197386144,0.003350148959068765,0.020029342126735062,-0.32242124498918795,-0.021657027669173573,-0.03670659702273949,-0.02623765040179307,-0.06226062633520319,-0.03852150466315435,-0.059260157513305003,-0.062301507257437036,-0.06458709638385507,0.20281782680354468,0.28722304157765244,0.18467993795380055,0.09384028270286773,0.011623186305706842,0.04923142323828659,0.14274983168616917,0.1172864151908066,0.07181042953141957,0.07223673062151986,0.023671272742745445,0.4738539027109571,0.3661024576818627,0.36834545766409316,0.3432551683911601,1.0,0.10975648506089904,0.2687255209007079,0.22675215186774517],[0.01740436378673159,-0.04036256784632838,-0.06713448959882196,-0.1616023788324773,-0.05047879349589627,-0.22933967461970708,-0.20969382972930065,-0.22921803507301236,-0.16440953636722078,-0.24032484474546661,-0.12388183884106121,-0.047522784822529474,-0.1953301631351587,-0.2104864697911755,-0.0721666348043759,-0.07522677443660852,-0.04335517393787046,-0.04139846759494207,-0.0244035292776259,-0.011810908031731774,-0.012119991955836608,0.006739466125756818,-0.05647971292070543,-0.08888007500755851,-0.082659403330884,-0.058334685662528675,-0.07709610842390272,-0.04300848864883783,-0.07521546394590865,-0.07727469435047894,-0.0656875224872827,0.1804106094428575,0.16186545795237706,0.3348910742504644,0.18884520523100665,0.019517597109090956,0.2333873865241794,0.2813594208785845,0.26100378843052535,0.19442863225670845,0.30820209021574474,0.01590384222674385,0.055033517402598306,0.05962111441995822,0.059201580759134335,0.13663977969763316,0.10975648506089904,1.0,0.16698021079436978,0.14467467686641508],[0.005555562407320561,-0.012019441962851011,-0.07695211135381946,-0.07462441223066156,-0.02453489159054018,-0.111425845043624,-0.029007440433915295,-0.023700404343073845,-0.11700448294920604,-0.08256083825461802,-0.03831080475532334,-0.026668849641923485,-0.03035526808437283,-0.04165625774615457,-0.059629636431794156,-0.025761637696484117,-0.020242124882589613,-0.02256128114564176,-0.013542158146117542,0.09221001971870822,0.0926635227057912,0.11134908288077963,-0.13898922605828018,0.025451789996597685,-0.025929827964708312,-0.017773275767989677,-0.07193576146549638,-0.06365912134215826,-0.06707190672246637,-0.07227133826361531,-0.09574502251023619,0.19558600296417225,0.2712373389636552,0.22534059681576782,0.13240619370809825,0.0038421931456356986,0.10648773939858117,0.17588236329422163,0.1513238188755928,0.11386553893932236,0.09423382358494646,-0.003983900213120441,0.11560484201611362,0.12350898569096917,0.12320813859575944,0.30834050853972494,0.2687255209007079,0.16698021079436978,1.0,0.7243749660047432],[0.02629397266285713,0.0035022246650427647,-0.04678836354840506,-0.030233944998199522,-0.004414484292119775,-0.050956030671099245,0.02518114140616987,0.031615491523336016,-0.07010790281592111,-0.030445073342383708,0.0007691377544795448,-0.016824120385413335,0.01144988889264383,0.007756287041841584,-0.03227786450344698,0.004003851252342689,-0.011736842372783642,-0.009015310636936502,-0.0043925835719535716,0.14446516256675687,0.14482330050735182,0.15364706277736734,-0.09688526915450965,0.05916345156141094,0.010901044167972593,0.005194060219544397,-0.00704081723493021,-0.03488789014182957,-0.0029065566494172685,-0.007294332139100316,-0.04483742343086068,0.12630297796945283,0.15552916709553957,0.16155173124563824,0.08845003972101675,0.0021945369687691955,0.09742319186352381,0.1180425458026949,0.11043063908475408,0.06697441334759081,0.06598944949783005,-0.011107796460288493,0.06750220645994867,0.07260259306923383,0.0728864932443849,0.17545414897441367,0.22675215186774517,0.14467467686641508,0.7243749660047432,1.0]],\"type\":\"heatmap\",\"xaxis\":\"x\",\"yaxis\":\"y\",\"hovertemplate\":\"Features: %{x}\\u003cbr\\u003eFeatures: %{y}\\u003cbr\\u003eCorrelation: %{z}\\u003cextra\\u003e\\u003c\\u002fextra\\u003e\"}],                        {\"template\":{\"data\":{\"histogram2dcontour\":[{\"type\":\"histogram2dcontour\",\"colorbar\":{\"outlinewidth\":0,\"ticks\":\"\"},\"colorscale\":[[0.0,\"#0d0887\"],[0.1111111111111111,\"#46039f\"],[0.2222222222222222,\"#7201a8\"],[0.3333333333333333,\"#9c179e\"],[0.4444444444444444,\"#bd3786\"],[0.5555555555555556,\"#d8576b\"],[0.6666666666666666,\"#ed7953\"],[0.7777777777777778,\"#fb9f3a\"],[0.8888888888888888,\"#fdca26\"],[1.0,\"#f0f921\"]]}],\"choropleth\":[{\"type\":\"choropleth\",\"colorbar\":{\"outlinewidth\":0,\"ticks\":\"\"}}],\"histogram2d\":[{\"type\":\"histogram2d\",\"colorbar\":{\"outlinewidth\":0,\"ticks\":\"\"},\"colorscale\":[[0.0,\"#0d0887\"],[0.1111111111111111,\"#46039f\"],[0.2222222222222222,\"#7201a8\"],[0.3333333333333333,\"#9c179e\"],[0.4444444444444444,\"#bd3786\"],[0.5555555555555556,\"#d8576b\"],[0.6666666666666666,\"#ed7953\"],[0.7777777777777778,\"#fb9f3a\"],[0.8888888888888888,\"#fdca26\"],[1.0,\"#f0f921\"]]}],\"heatmap\":[{\"type\":\"heatmap\",\"colorbar\":{\"outlinewidth\":0,\"ticks\":\"\"},\"colorscale\":[[0.0,\"#0d0887\"],[0.1111111111111111,\"#46039f\"],[0.2222222222222222,\"#7201a8\"],[0.3333333333333333,\"#9c179e\"],[0.4444444444444444,\"#bd3786\"],[0.5555555555555556,\"#d8576b\"],[0.6666666666666666,\"#ed7953\"],[0.7777777777777778,\"#fb9f3a\"],[0.8888888888888888,\"#fdca26\"],[1.0,\"#f0f921\"]]}],\"heatmapgl\":[{\"type\":\"heatmapgl\",\"colorbar\":{\"outlinewidth\":0,\"ticks\":\"\"},\"colorscale\":[[0.0,\"#0d0887\"],[0.1111111111111111,\"#46039f\"],[0.2222222222222222,\"#7201a8\"],[0.3333333333333333,\"#9c179e\"],[0.4444444444444444,\"#bd3786\"],[0.5555555555555556,\"#d8576b\"],[0.6666666666666666,\"#ed7953\"],[0.7777777777777778,\"#fb9f3a\"],[0.8888888888888888,\"#fdca26\"],[1.0,\"#f0f921\"]]}],\"contourcarpet\":[{\"type\":\"contourcarpet\",\"colorbar\":{\"outlinewidth\":0,\"ticks\":\"\"}}],\"contour\":[{\"type\":\"contour\",\"colorbar\":{\"outlinewidth\":0,\"ticks\":\"\"},\"colorscale\":[[0.0,\"#0d0887\"],[0.1111111111111111,\"#46039f\"],[0.2222222222222222,\"#7201a8\"],[0.3333333333333333,\"#9c179e\"],[0.4444444444444444,\"#bd3786\"],[0.5555555555555556,\"#d8576b\"],[0.6666666666666666,\"#ed7953\"],[0.7777777777777778,\"#fb9f3a\"],[0.8888888888888888,\"#fdca26\"],[1.0,\"#f0f921\"]]}],\"surface\":[{\"type\":\"surface\",\"colorbar\":{\"outlinewidth\":0,\"ticks\":\"\"},\"colorscale\":[[0.0,\"#0d0887\"],[0.1111111111111111,\"#46039f\"],[0.2222222222222222,\"#7201a8\"],[0.3333333333333333,\"#9c179e\"],[0.4444444444444444,\"#bd3786\"],[0.5555555555555556,\"#d8576b\"],[0.6666666666666666,\"#ed7953\"],[0.7777777777777778,\"#fb9f3a\"],[0.8888888888888888,\"#fdca26\"],[1.0,\"#f0f921\"]]}],\"mesh3d\":[{\"type\":\"mesh3d\",\"colorbar\":{\"outlinewidth\":0,\"ticks\":\"\"}}],\"scatter\":[{\"fillpattern\":{\"fillmode\":\"overlay\",\"size\":10,\"solidity\":0.2},\"type\":\"scatter\"}],\"parcoords\":[{\"type\":\"parcoords\",\"line\":{\"colorbar\":{\"outlinewidth\":0,\"ticks\":\"\"}}}],\"scatterpolargl\":[{\"type\":\"scatterpolargl\",\"marker\":{\"colorbar\":{\"outlinewidth\":0,\"ticks\":\"\"}}}],\"bar\":[{\"error_x\":{\"color\":\"#2a3f5f\"},\"error_y\":{\"color\":\"#2a3f5f\"},\"marker\":{\"line\":{\"color\":\"#E5ECF6\",\"width\":0.5},\"pattern\":{\"fillmode\":\"overlay\",\"size\":10,\"solidity\":0.2}},\"type\":\"bar\"}],\"scattergeo\":[{\"type\":\"scattergeo\",\"marker\":{\"colorbar\":{\"outlinewidth\":0,\"ticks\":\"\"}}}],\"scatterpolar\":[{\"type\":\"scatterpolar\",\"marker\":{\"colorbar\":{\"outlinewidth\":0,\"ticks\":\"\"}}}],\"histogram\":[{\"marker\":{\"pattern\":{\"fillmode\":\"overlay\",\"size\":10,\"solidity\":0.2}},\"type\":\"histogram\"}],\"scattergl\":[{\"type\":\"scattergl\",\"marker\":{\"colorbar\":{\"outlinewidth\":0,\"ticks\":\"\"}}}],\"scatter3d\":[{\"type\":\"scatter3d\",\"line\":{\"colorbar\":{\"outlinewidth\":0,\"ticks\":\"\"}},\"marker\":{\"colorbar\":{\"outlinewidth\":0,\"ticks\":\"\"}}}],\"scattermapbox\":[{\"type\":\"scattermapbox\",\"marker\":{\"colorbar\":{\"outlinewidth\":0,\"ticks\":\"\"}}}],\"scatterternary\":[{\"type\":\"scatterternary\",\"marker\":{\"colorbar\":{\"outlinewidth\":0,\"ticks\":\"\"}}}],\"scattercarpet\":[{\"type\":\"scattercarpet\",\"marker\":{\"colorbar\":{\"outlinewidth\":0,\"ticks\":\"\"}}}],\"carpet\":[{\"aaxis\":{\"endlinecolor\":\"#2a3f5f\",\"gridcolor\":\"white\",\"linecolor\":\"white\",\"minorgridcolor\":\"white\",\"startlinecolor\":\"#2a3f5f\"},\"baxis\":{\"endlinecolor\":\"#2a3f5f\",\"gridcolor\":\"white\",\"linecolor\":\"white\",\"minorgridcolor\":\"white\",\"startlinecolor\":\"#2a3f5f\"},\"type\":\"carpet\"}],\"table\":[{\"cells\":{\"fill\":{\"color\":\"#EBF0F8\"},\"line\":{\"color\":\"white\"}},\"header\":{\"fill\":{\"color\":\"#C8D4E3\"},\"line\":{\"color\":\"white\"}},\"type\":\"table\"}],\"barpolar\":[{\"marker\":{\"line\":{\"color\":\"#E5ECF6\",\"width\":0.5},\"pattern\":{\"fillmode\":\"overlay\",\"size\":10,\"solidity\":0.2}},\"type\":\"barpolar\"}],\"pie\":[{\"automargin\":true,\"type\":\"pie\"}]},\"layout\":{\"autotypenumbers\":\"strict\",\"colorway\":[\"#636efa\",\"#EF553B\",\"#00cc96\",\"#ab63fa\",\"#FFA15A\",\"#19d3f3\",\"#FF6692\",\"#B6E880\",\"#FF97FF\",\"#FECB52\"],\"font\":{\"color\":\"#2a3f5f\"},\"hovermode\":\"closest\",\"hoverlabel\":{\"align\":\"left\"},\"paper_bgcolor\":\"white\",\"plot_bgcolor\":\"#E5ECF6\",\"polar\":{\"bgcolor\":\"#E5ECF6\",\"angularaxis\":{\"gridcolor\":\"white\",\"linecolor\":\"white\",\"ticks\":\"\"},\"radialaxis\":{\"gridcolor\":\"white\",\"linecolor\":\"white\",\"ticks\":\"\"}},\"ternary\":{\"bgcolor\":\"#E5ECF6\",\"aaxis\":{\"gridcolor\":\"white\",\"linecolor\":\"white\",\"ticks\":\"\"},\"baxis\":{\"gridcolor\":\"white\",\"linecolor\":\"white\",\"ticks\":\"\"},\"caxis\":{\"gridcolor\":\"white\",\"linecolor\":\"white\",\"ticks\":\"\"}},\"coloraxis\":{\"colorbar\":{\"outlinewidth\":0,\"ticks\":\"\"}},\"colorscale\":{\"sequential\":[[0.0,\"#0d0887\"],[0.1111111111111111,\"#46039f\"],[0.2222222222222222,\"#7201a8\"],[0.3333333333333333,\"#9c179e\"],[0.4444444444444444,\"#bd3786\"],[0.5555555555555556,\"#d8576b\"],[0.6666666666666666,\"#ed7953\"],[0.7777777777777778,\"#fb9f3a\"],[0.8888888888888888,\"#fdca26\"],[1.0,\"#f0f921\"]],\"sequentialminus\":[[0.0,\"#0d0887\"],[0.1111111111111111,\"#46039f\"],[0.2222222222222222,\"#7201a8\"],[0.3333333333333333,\"#9c179e\"],[0.4444444444444444,\"#bd3786\"],[0.5555555555555556,\"#d8576b\"],[0.6666666666666666,\"#ed7953\"],[0.7777777777777778,\"#fb9f3a\"],[0.8888888888888888,\"#fdca26\"],[1.0,\"#f0f921\"]],\"diverging\":[[0,\"#8e0152\"],[0.1,\"#c51b7d\"],[0.2,\"#de77ae\"],[0.3,\"#f1b6da\"],[0.4,\"#fde0ef\"],[0.5,\"#f7f7f7\"],[0.6,\"#e6f5d0\"],[0.7,\"#b8e186\"],[0.8,\"#7fbc41\"],[0.9,\"#4d9221\"],[1,\"#276419\"]]},\"xaxis\":{\"gridcolor\":\"white\",\"linecolor\":\"white\",\"ticks\":\"\",\"title\":{\"standoff\":15},\"zerolinecolor\":\"white\",\"automargin\":true,\"zerolinewidth\":2},\"yaxis\":{\"gridcolor\":\"white\",\"linecolor\":\"white\",\"ticks\":\"\",\"title\":{\"standoff\":15},\"zerolinecolor\":\"white\",\"automargin\":true,\"zerolinewidth\":2},\"scene\":{\"xaxis\":{\"backgroundcolor\":\"#E5ECF6\",\"gridcolor\":\"white\",\"linecolor\":\"white\",\"showbackground\":true,\"ticks\":\"\",\"zerolinecolor\":\"white\",\"gridwidth\":2},\"yaxis\":{\"backgroundcolor\":\"#E5ECF6\",\"gridcolor\":\"white\",\"linecolor\":\"white\",\"showbackground\":true,\"ticks\":\"\",\"zerolinecolor\":\"white\",\"gridwidth\":2},\"zaxis\":{\"backgroundcolor\":\"#E5ECF6\",\"gridcolor\":\"white\",\"linecolor\":\"white\",\"showbackground\":true,\"ticks\":\"\",\"zerolinecolor\":\"white\",\"gridwidth\":2}},\"shapedefaults\":{\"line\":{\"color\":\"#2a3f5f\"}},\"annotationdefaults\":{\"arrowcolor\":\"#2a3f5f\",\"arrowhead\":0,\"arrowwidth\":1},\"geo\":{\"bgcolor\":\"white\",\"landcolor\":\"#E5ECF6\",\"subunitcolor\":\"white\",\"showland\":true,\"showlakes\":true,\"lakecolor\":\"white\"},\"title\":{\"x\":0.05},\"mapbox\":{\"style\":\"light\"}}},\"xaxis\":{\"anchor\":\"y\",\"domain\":[0.0,1.0],\"scaleanchor\":\"y\",\"constrain\":\"domain\",\"title\":{\"text\":\"Features\"}},\"yaxis\":{\"anchor\":\"x\",\"domain\":[0.0,1.0],\"autorange\":\"reversed\",\"constrain\":\"domain\",\"title\":{\"text\":\"Features\"}},\"coloraxis\":{\"colorbar\":{\"title\":{\"text\":\"Correlation\"}},\"colorscale\":[[0.0,\"rgb(103,0,31)\"],[0.1,\"rgb(178,24,43)\"],[0.2,\"rgb(214,96,77)\"],[0.3,\"rgb(244,165,130)\"],[0.4,\"rgb(253,219,199)\"],[0.5,\"rgb(247,247,247)\"],[0.6,\"rgb(209,229,240)\"],[0.7,\"rgb(146,197,222)\"],[0.8,\"rgb(67,147,195)\"],[0.9,\"rgb(33,102,172)\"],[1.0,\"rgb(5,48,97)\"]],\"cmin\":-1,\"cmax\":1},\"margin\":{\"t\":60},\"title\":{\"text\":\"Correlation Matrix of Delinquency Features\"},\"width\":800,\"height\":800},                        {\"responsive\": true}                    ).then(function(){\n",
              "                            \n",
              "var gd = document.getElementById('f496e3a1-949e-4e28-94f8-dbe8897b6702');\n",
              "var x = new MutationObserver(function (mutations, observer) {{\n",
              "        var display = window.getComputedStyle(gd).display;\n",
              "        if (!display || display === 'none') {{\n",
              "            console.log([gd, 'removed!']);\n",
              "            Plotly.purge(gd);\n",
              "            observer.disconnect();\n",
              "        }}\n",
              "}});\n",
              "\n",
              "// Listen for the removal of the full notebook cells\n",
              "var notebookContainer = gd.closest('#notebook-container');\n",
              "if (notebookContainer) {{\n",
              "    x.observe(notebookContainer, {childList: true});\n",
              "}}\n",
              "\n",
              "// Listen for the clearing of the current output cell\n",
              "var outputEl = gd.closest('.output');\n",
              "if (outputEl) {{\n",
              "    x.observe(outputEl, {childList: true});\n",
              "}}\n",
              "\n",
              "                        })                };                            </script>        </div>\n",
              "</body>\n",
              "</html>"
            ]
          },
          "metadata": {}
        }
      ]
    },
    {
      "cell_type": "code",
      "source": [
        "\n",
        "feature_groups = {\n",
        "    'Delinquency': [col for col in train_df.columns if col.startswith('D_')],\n",
        "    'Spend': [col for col in train_df.columns if col.startswith('S_')],\n",
        "    'Payment': [col for col in train_df.columns if col.startswith('P_')],\n",
        "    'Balance': [col for col in train_df.columns if col.startswith('B_')],\n",
        "    'Risk': [col for col in train_df.columns if col.startswith('R_')]\n",
        "}"
      ],
      "metadata": {
        "id": "P2G4zkE1blph"
      },
      "execution_count": null,
      "outputs": []
    },
    {
      "cell_type": "code",
      "source": [
        "\n",
        "def remove_highly_correlated_features(df, feature_groups, delinquency_threshold=0.9, other_threshold=0.7):\n",
        "    \"\"\"Removes highly correlated features from specified groups in a DataFrame.\n",
        "\n",
        "    Args:\n",
        "        df: The input DataFrame.\n",
        "        feature_groups: A dictionary where keys are group names and values are lists of feature names within each group.\n",
        "        delinquency_threshold: Correlation threshold for 'Delinquency' group.\n",
        "        other_threshold: Correlation threshold for other groups.\n",
        "\n",
        "    Returns:\n",
        "        A new DataFrame with highly correlated features removed.\n",
        "    \"\"\"\n",
        "\n",
        "    df_filtered = df.copy()  # Create a copy to avoid modifying the original DataFrame\n",
        "    for group_name, features in feature_groups.items():\n",
        "        if features:  # Check if the list of features is not empty\n",
        "            # Select only numeric features for correlation calculation\n",
        "            numeric_features = df_filtered[features].select_dtypes(include=np.number).columns.tolist()\n",
        "\n",
        "            # If there are numeric features in the group, calculate correlation\n",
        "            if numeric_features:\n",
        "                corr_matrix = df_filtered[numeric_features].corr()\n",
        "                upper_triangle = corr_matrix.where(np.triu(np.ones(corr_matrix.shape), k=1).astype(bool))\n",
        "                threshold = delinquency_threshold if group_name == 'Delinquency' else other_threshold\n",
        "\n",
        "                to_drop = [column for column in upper_triangle.columns if any(upper_triangle[column] > threshold)]\n",
        "                df_filtered = df_filtered.drop(columns=to_drop)\n",
        "            else:\n",
        "                print(f\"No numeric features found in group: {group_name}\") #Print message for groups with no numeric features\n",
        "\n",
        "    return df_filtered\n",
        "\n",
        "# Example usage\n",
        "train_df_filtered = remove_highly_correlated_features(train_df, feature_groups)\n",
        "test_df_filtered = remove_highly_correlated_features(test_df, feature_groups) # Apply to test_df as well\n",
        "\n",
        "print(\"Shape of the training data after removing highly correlated features:\", train_df_filtered.shape)\n",
        "print(\"Shape of the testing data after removing highly correlated features:\", test_df_filtered.shape)"
      ],
      "metadata": {
        "colab": {
          "base_uri": "https://localhost:8080/"
        },
        "id": "QgkCwA-bblr_",
        "outputId": "4a8ce132-e8ec-4185-feee-706bdea89a80"
      },
      "execution_count": null,
      "outputs": [
        {
          "output_type": "stream",
          "name": "stdout",
          "text": [
            "Shape of the training data after removing highly correlated features: (44252, 89)\n",
            "Shape of the testing data after removing highly correlated features: (11063, 88)\n"
          ]
        }
      ]
    },
    {
      "cell_type": "code",
      "source": [
        "train_df = train_df_filtered\n",
        "test_df = test_df_filtered\n",
        "train_df_filtered = pd.DataFrame()\n",
        "test_df_filtered = pd.DataFrame()\n",
        "gc.collect()"
      ],
      "metadata": {
        "colab": {
          "base_uri": "https://localhost:8080/"
        },
        "id": "eZTlVlyVcpZ6",
        "outputId": "9c7595ce-5907-40f9-c134-479d074b29d8"
      },
      "execution_count": null,
      "outputs": [
        {
          "output_type": "execute_result",
          "data": {
            "text/plain": [
              "1305"
            ]
          },
          "metadata": {},
          "execution_count": 31
        }
      ]
    },
    {
      "cell_type": "markdown",
      "source": [
        "#### Categorical based EDA and feature engineering"
      ],
      "metadata": {
        "id": "dzPXDGFRtfuQ"
      }
    },
    {
      "cell_type": "code",
      "source": [
        "import plotly.graph_objects as go\n",
        "from plotly.subplots import make_subplots\n",
        "import numpy as np\n",
        "\n",
        "cat_cols = ['B_30', 'B_38', 'D_114', 'D_116', 'D_117',\n",
        "            'D_120', 'D_126', 'D_63', 'D_64', 'D_66', 'D_68']\n",
        "\n",
        "# Define color palettes\n",
        "rgb = ['rgba(100, 149, 237, 0.8)', 'rgba(255, 69, 0, 0.8)']  # Cornflower Blue & OrangeRed\n",
        "pal = ['rgba(70, 130, 180, 1)', 'rgba(220, 20, 60, 1)']       # Steel Blue & Crimson\n",
        "\n",
        "# Check for missing columns\n",
        "missing_cols = [col for col in cat_cols if col not in train_df.columns]\n",
        "if missing_cols:\n",
        "    print(f\"The following columns are not in train_df: {missing_cols}\")\n",
        "    cat_cols = [col for col in cat_cols if col in train_df.columns]\n",
        "    print(f\"Proceeding with columns: {cat_cols}\")\n",
        "else:\n",
        "    print(\"All columns found in train_df.\")\n",
        "\n",
        "# Adjust subplot rows dynamically\n",
        "rows_needed = -(-len(cat_cols) // 3)  # Ceiling division for rows\n",
        "\n",
        "fig = make_subplots(\n",
        "    rows=rows_needed, cols=3,\n",
        "    subplot_titles=cat_cols,\n",
        "    vertical_spacing=0.15,\n",
        "    horizontal_spacing=0.1\n",
        ")\n",
        "\n",
        "plot_df = train_df[cat_cols + ['target']].copy()\n",
        "\n",
        "row, col_position = 1, 1\n",
        "\n",
        "for i, col in enumerate(cat_cols):\n",
        "    if i % 3 == 0 and i != 0:\n",
        "        row += 1\n",
        "        col_position = 1\n",
        "\n",
        "    plot_df[col] = plot_df[col].astype(object)\n",
        "    df = (\n",
        "        plot_df.groupby([col, 'target'])\n",
        "        .size()\n",
        "        .reset_index(name='count')\n",
        "    )\n",
        "\n",
        "    # Default (Target = 1) Bar Trace\n",
        "    fig.add_trace(\n",
        "        go.Bar(\n",
        "            x=df[df.target == 1][col],\n",
        "            y=df[df.target == 1]['count'],\n",
        "            marker_color=rgb[0],\n",
        "            marker_line=dict(color=pal[0], width=1),\n",
        "            hovertemplate=f\"{col}: {{x}}<br>Count: {{y}}<extra></extra>\",\n",
        "            name='Default',\n",
        "            showlegend=(True if i == 0 else False)\n",
        "        ),\n",
        "        row=row, col=col_position\n",
        "    )\n",
        "\n",
        "    # Paid (Target = 0) Bar Trace\n",
        "    fig.add_trace(\n",
        "        go.Bar(\n",
        "            x=df[df.target == 0][col],\n",
        "            y=df[df.target == 0]['count'],\n",
        "            marker_color=rgb[1],\n",
        "            marker_line=dict(color=pal[1], width=1),\n",
        "            hovertemplate=f\"{col}: {{x}}<br>Count: {{y}}<extra></extra>\",\n",
        "            name='Paid',\n",
        "            showlegend=(True if i == 0 else False)\n",
        "        ),\n",
        "        row=row, col=col_position\n",
        "    )\n",
        "\n",
        "    fig.update_yaxes(title_text=\"Frequency\", row=row, col=col_position)\n",
        "    col_position += 1\n",
        "\n",
        "# Layout adjustments\n",
        "fig.update_layout(\n",
        "    template=\"plotly_dark\",\n",
        "    title=\"Distribution of Categorical Variables\",\n",
        "    legend=dict(\n",
        "        orientation=\"h\",\n",
        "        yanchor=\"bottom\",\n",
        "        y=1.05,\n",
        "        xanchor=\"center\",\n",
        "        x=0.5\n",
        "    ),\n",
        "    barmode='group',\n",
        "    height=350 * rows_needed,\n",
        "    width=1000\n",
        ")\n",
        "\n",
        "fig.show()\n"
      ],
      "metadata": {
        "colab": {
          "base_uri": "https://localhost:8080/",
          "height": 1000
        },
        "id": "-F0GRBRdcpcN",
        "outputId": "3ffdd31b-e8b5-4f88-fd62-c227f3f91ff0"
      },
      "execution_count": null,
      "outputs": [
        {
          "output_type": "stream",
          "name": "stdout",
          "text": [
            "The following columns are not in train_df: ['D_66']\n",
            "Proceeding with columns: ['B_30', 'B_38', 'D_114', 'D_116', 'D_117', 'D_120', 'D_126', 'D_63', 'D_64', 'D_68']\n"
          ]
        },
        {
          "output_type": "display_data",
          "data": {
            "text/html": [
              "<html>\n",
              "<head><meta charset=\"utf-8\" /></head>\n",
              "<body>\n",
              "    <div>            <script src=\"https://cdnjs.cloudflare.com/ajax/libs/mathjax/2.7.5/MathJax.js?config=TeX-AMS-MML_SVG\"></script><script type=\"text/javascript\">if (window.MathJax && window.MathJax.Hub && window.MathJax.Hub.Config) {window.MathJax.Hub.Config({SVG: {font: \"STIX-Web\"}});}</script>                <script type=\"text/javascript\">window.PlotlyConfig = {MathJaxConfig: 'local'};</script>\n",
              "        <script charset=\"utf-8\" src=\"https://cdn.plot.ly/plotly-2.35.2.min.js\"></script>                <div id=\"700b70bd-dfe6-48fe-bd1c-405f90cec54f\" class=\"plotly-graph-div\" style=\"height:1400px; width:1000px;\"></div>            <script type=\"text/javascript\">                                    window.PLOTLYENV=window.PLOTLYENV || {};                                    if (document.getElementById(\"700b70bd-dfe6-48fe-bd1c-405f90cec54f\")) {                    Plotly.newPlot(                        \"700b70bd-dfe6-48fe-bd1c-405f90cec54f\",                        [{\"hovertemplate\":\"B_30: {x}\\u003cbr\\u003eCount: {y}\\u003cextra\\u003e\\u003c\\u002fextra\\u003e\",\"marker\":{\"color\":\"rgba(100, 149, 237, 0.8)\",\"line\":{\"color\":\"rgba(70, 130, 180, 1)\",\"width\":1}},\"name\":\"Default\",\"showlegend\":true,\"x\":[0.0,1.0,2.0,\"Unknown\"],\"y\":[6767,3788,238,8],\"type\":\"bar\",\"xaxis\":\"x\",\"yaxis\":\"y\"},{\"hovertemplate\":\"B_30: {x}\\u003cbr\\u003eCount: {y}\\u003cextra\\u003e\\u003c\\u002fextra\\u003e\",\"marker\":{\"color\":\"rgba(255, 69, 0, 0.8)\",\"line\":{\"color\":\"rgba(220, 20, 60, 1)\",\"width\":1}},\"name\":\"Paid\",\"showlegend\":true,\"x\":[0.0,1.0,2.0,\"Unknown\"],\"y\":[30895,2371,171,14],\"type\":\"bar\",\"xaxis\":\"x\",\"yaxis\":\"y\"},{\"hovertemplate\":\"B_38: {x}\\u003cbr\\u003eCount: {y}\\u003cextra\\u003e\\u003c\\u002fextra\\u003e\",\"marker\":{\"color\":\"rgba(100, 149, 237, 0.8)\",\"line\":{\"color\":\"rgba(70, 130, 180, 1)\",\"width\":1}},\"name\":\"Default\",\"showlegend\":false,\"x\":[1.0,2.0,3.0,4.0,5.0,6.0,7.0,\"Unknown\"],\"y\":[1200,975,3269,1675,1899,773,1002,8],\"type\":\"bar\",\"xaxis\":\"x2\",\"yaxis\":\"y2\"},{\"hovertemplate\":\"B_38: {x}\\u003cbr\\u003eCount: {y}\\u003cextra\\u003e\\u003c\\u002fextra\\u003e\",\"marker\":{\"color\":\"rgba(255, 69, 0, 0.8)\",\"line\":{\"color\":\"rgba(220, 20, 60, 1)\",\"width\":1}},\"name\":\"Paid\",\"showlegend\":false,\"x\":[1.0,2.0,3.0,4.0,5.0,6.0,7.0,\"Unknown\"],\"y\":[8121,14622,6873,706,1569,504,1042,14],\"type\":\"bar\",\"xaxis\":\"x2\",\"yaxis\":\"y2\"},{\"hovertemplate\":\"D_114: {x}\\u003cbr\\u003eCount: {y}\\u003cextra\\u003e\\u003c\\u002fextra\\u003e\",\"marker\":{\"color\":\"rgba(100, 149, 237, 0.8)\",\"line\":{\"color\":\"rgba(70, 130, 180, 1)\",\"width\":1}},\"name\":\"Default\",\"showlegend\":false,\"x\":[0.0,1.0,\"Unknown\"],\"y\":[5607,4572,622],\"type\":\"bar\",\"xaxis\":\"x3\",\"yaxis\":\"y3\"},{\"hovertemplate\":\"D_114: {x}\\u003cbr\\u003eCount: {y}\\u003cextra\\u003e\\u003c\\u002fextra\\u003e\",\"marker\":{\"color\":\"rgba(255, 69, 0, 0.8)\",\"line\":{\"color\":\"rgba(220, 20, 60, 1)\",\"width\":1}},\"name\":\"Paid\",\"showlegend\":false,\"x\":[0.0,1.0,\"Unknown\"],\"y\":[10706,21959,786],\"type\":\"bar\",\"xaxis\":\"x3\",\"yaxis\":\"y3\"},{\"hovertemplate\":\"D_116: {x}\\u003cbr\\u003eCount: {y}\\u003cextra\\u003e\\u003c\\u002fextra\\u003e\",\"marker\":{\"color\":\"rgba(100, 149, 237, 0.8)\",\"line\":{\"color\":\"rgba(70, 130, 180, 1)\",\"width\":1}},\"name\":\"Default\",\"showlegend\":false,\"x\":[0.0,1.0,\"Unknown\"],\"y\":[10146,33,622],\"type\":\"bar\",\"xaxis\":\"x4\",\"yaxis\":\"y4\"},{\"hovertemplate\":\"D_116: {x}\\u003cbr\\u003eCount: {y}\\u003cextra\\u003e\\u003c\\u002fextra\\u003e\",\"marker\":{\"color\":\"rgba(255, 69, 0, 0.8)\",\"line\":{\"color\":\"rgba(220, 20, 60, 1)\",\"width\":1}},\"name\":\"Paid\",\"showlegend\":false,\"x\":[0.0,1.0,\"Unknown\"],\"y\":[32646,19,786],\"type\":\"bar\",\"xaxis\":\"x4\",\"yaxis\":\"y4\"},{\"hovertemplate\":\"D_117: {x}\\u003cbr\\u003eCount: {y}\\u003cextra\\u003e\\u003c\\u002fextra\\u003e\",\"marker\":{\"color\":\"rgba(100, 149, 237, 0.8)\",\"line\":{\"color\":\"rgba(70, 130, 180, 1)\",\"width\":1}},\"name\":\"Default\",\"showlegend\":false,\"x\":[-1.0,1.0,2.0,3.0,4.0,5.0,6.0,\"Unknown\"],\"y\":[3104,439,1719,2529,1553,490,345,622],\"type\":\"bar\",\"xaxis\":\"x5\",\"yaxis\":\"y5\"},{\"hovertemplate\":\"D_117: {x}\\u003cbr\\u003eCount: {y}\\u003cextra\\u003e\\u003c\\u002fextra\\u003e\",\"marker\":{\"color\":\"rgba(255, 69, 0, 0.8)\",\"line\":{\"color\":\"rgba(220, 20, 60, 1)\",\"width\":1}},\"name\":\"Paid\",\"showlegend\":false,\"x\":[-1.0,1.0,2.0,3.0,4.0,5.0,6.0,\"Unknown\"],\"y\":[8550,569,3641,6818,7629,3167,2291,786],\"type\":\"bar\",\"xaxis\":\"x5\",\"yaxis\":\"y5\"},{\"hovertemplate\":\"D_120: {x}\\u003cbr\\u003eCount: {y}\\u003cextra\\u003e\\u003c\\u002fextra\\u003e\",\"marker\":{\"color\":\"rgba(100, 149, 237, 0.8)\",\"line\":{\"color\":\"rgba(70, 130, 180, 1)\",\"width\":1}},\"name\":\"Default\",\"showlegend\":false,\"x\":[0.0,1.0,\"Unknown\"],\"y\":[7916,2263,622],\"type\":\"bar\",\"xaxis\":\"x6\",\"yaxis\":\"y6\"},{\"hovertemplate\":\"D_120: {x}\\u003cbr\\u003eCount: {y}\\u003cextra\\u003e\\u003c\\u002fextra\\u003e\",\"marker\":{\"color\":\"rgba(255, 69, 0, 0.8)\",\"line\":{\"color\":\"rgba(220, 20, 60, 1)\",\"width\":1}},\"name\":\"Paid\",\"showlegend\":false,\"x\":[0.0,1.0,\"Unknown\"],\"y\":[29951,2714,786],\"type\":\"bar\",\"xaxis\":\"x6\",\"yaxis\":\"y6\"},{\"hovertemplate\":\"D_126: {x}\\u003cbr\\u003eCount: {y}\\u003cextra\\u003e\\u003c\\u002fextra\\u003e\",\"marker\":{\"color\":\"rgba(100, 149, 237, 0.8)\",\"line\":{\"color\":\"rgba(70, 130, 180, 1)\",\"width\":1}},\"name\":\"Default\",\"showlegend\":false,\"x\":[-1.0,0.0,1.0,\"Unknown\"],\"y\":[444,2191,7731,435],\"type\":\"bar\",\"xaxis\":\"x7\",\"yaxis\":\"y7\"},{\"hovertemplate\":\"D_126: {x}\\u003cbr\\u003eCount: {y}\\u003cextra\\u003e\\u003c\\u002fextra\\u003e\",\"marker\":{\"color\":\"rgba(255, 69, 0, 0.8)\",\"line\":{\"color\":\"rgba(220, 20, 60, 1)\",\"width\":1}},\"name\":\"Paid\",\"showlegend\":false,\"x\":[-1.0,0.0,1.0,\"Unknown\"],\"y\":[1646,5057,26296,452],\"type\":\"bar\",\"xaxis\":\"x7\",\"yaxis\":\"y7\"},{\"hovertemplate\":\"D_63: {x}\\u003cbr\\u003eCount: {y}\\u003cextra\\u003e\\u003c\\u002fextra\\u003e\",\"marker\":{\"color\":\"rgba(100, 149, 237, 0.8)\",\"line\":{\"color\":\"rgba(70, 130, 180, 1)\",\"width\":1}},\"name\":\"Default\",\"showlegend\":false,\"x\":[\"CL\",\"CO\",\"CR\",\"XL\",\"XM\",\"XZ\"],\"y\":[992,8465,1268,20,12,44],\"type\":\"bar\",\"xaxis\":\"x8\",\"yaxis\":\"y8\"},{\"hovertemplate\":\"D_63: {x}\\u003cbr\\u003eCount: {y}\\u003cextra\\u003e\\u003c\\u002fextra\\u003e\",\"marker\":{\"color\":\"rgba(255, 69, 0, 0.8)\",\"line\":{\"color\":\"rgba(220, 20, 60, 1)\",\"width\":1}},\"name\":\"Paid\",\"showlegend\":false,\"x\":[\"CL\",\"CO\",\"CR\",\"XL\",\"XM\",\"XZ\"],\"y\":[2512,24466,6197,39,74,163],\"type\":\"bar\",\"xaxis\":\"x8\",\"yaxis\":\"y8\"},{\"hovertemplate\":\"D_64: {x}\\u003cbr\\u003eCount: {y}\\u003cextra\\u003e\\u003c\\u002fextra\\u003e\",\"marker\":{\"color\":\"rgba(100, 149, 237, 0.8)\",\"line\":{\"color\":\"rgba(70, 130, 180, 1)\",\"width\":1}},\"name\":\"Default\",\"showlegend\":false,\"x\":[\"\",\"-1\",\"O\",\"R\",\"U\"],\"y\":[720,70,3800,2093,4118],\"type\":\"bar\",\"xaxis\":\"x9\",\"yaxis\":\"y9\"},{\"hovertemplate\":\"D_64: {x}\\u003cbr\\u003eCount: {y}\\u003cextra\\u003e\\u003c\\u002fextra\\u003e\",\"marker\":{\"color\":\"rgba(255, 69, 0, 0.8)\",\"line\":{\"color\":\"rgba(220, 20, 60, 1)\",\"width\":1}},\"name\":\"Paid\",\"showlegend\":false,\"x\":[\"\",\"-1\",\"O\",\"R\",\"U\"],\"y\":[1032,230,19488,4646,8055],\"type\":\"bar\",\"xaxis\":\"x9\",\"yaxis\":\"y9\"},{\"hovertemplate\":\"D_68: {x}\\u003cbr\\u003eCount: {y}\\u003cextra\\u003e\\u003c\\u002fextra\\u003e\",\"marker\":{\"color\":\"rgba(100, 149, 237, 0.8)\",\"line\":{\"color\":\"rgba(70, 130, 180, 1)\",\"width\":1}},\"name\":\"Default\",\"showlegend\":false,\"x\":[0.0,1.0,2.0,3.0,4.0,5.0,6.0,\"Unknown\"],\"y\":[20,442,663,1404,1328,2476,3749,719],\"type\":\"bar\",\"xaxis\":\"x10\",\"yaxis\":\"y10\"},{\"hovertemplate\":\"D_68: {x}\\u003cbr\\u003eCount: {y}\\u003cextra\\u003e\\u003c\\u002fextra\\u003e\",\"marker\":{\"color\":\"rgba(255, 69, 0, 0.8)\",\"line\":{\"color\":\"rgba(220, 20, 60, 1)\",\"width\":1}},\"name\":\"Paid\",\"showlegend\":false,\"x\":[0.0,1.0,2.0,3.0,4.0,5.0,6.0,\"Unknown\"],\"y\":[116,640,1126,2462,2539,7170,18392,1006],\"type\":\"bar\",\"xaxis\":\"x10\",\"yaxis\":\"y10\"}],                        {\"template\":{\"data\":{\"barpolar\":[{\"marker\":{\"line\":{\"color\":\"rgb(17,17,17)\",\"width\":0.5},\"pattern\":{\"fillmode\":\"overlay\",\"size\":10,\"solidity\":0.2}},\"type\":\"barpolar\"}],\"bar\":[{\"error_x\":{\"color\":\"#f2f5fa\"},\"error_y\":{\"color\":\"#f2f5fa\"},\"marker\":{\"line\":{\"color\":\"rgb(17,17,17)\",\"width\":0.5},\"pattern\":{\"fillmode\":\"overlay\",\"size\":10,\"solidity\":0.2}},\"type\":\"bar\"}],\"carpet\":[{\"aaxis\":{\"endlinecolor\":\"#A2B1C6\",\"gridcolor\":\"#506784\",\"linecolor\":\"#506784\",\"minorgridcolor\":\"#506784\",\"startlinecolor\":\"#A2B1C6\"},\"baxis\":{\"endlinecolor\":\"#A2B1C6\",\"gridcolor\":\"#506784\",\"linecolor\":\"#506784\",\"minorgridcolor\":\"#506784\",\"startlinecolor\":\"#A2B1C6\"},\"type\":\"carpet\"}],\"choropleth\":[{\"colorbar\":{\"outlinewidth\":0,\"ticks\":\"\"},\"type\":\"choropleth\"}],\"contourcarpet\":[{\"colorbar\":{\"outlinewidth\":0,\"ticks\":\"\"},\"type\":\"contourcarpet\"}],\"contour\":[{\"colorbar\":{\"outlinewidth\":0,\"ticks\":\"\"},\"colorscale\":[[0.0,\"#0d0887\"],[0.1111111111111111,\"#46039f\"],[0.2222222222222222,\"#7201a8\"],[0.3333333333333333,\"#9c179e\"],[0.4444444444444444,\"#bd3786\"],[0.5555555555555556,\"#d8576b\"],[0.6666666666666666,\"#ed7953\"],[0.7777777777777778,\"#fb9f3a\"],[0.8888888888888888,\"#fdca26\"],[1.0,\"#f0f921\"]],\"type\":\"contour\"}],\"heatmapgl\":[{\"colorbar\":{\"outlinewidth\":0,\"ticks\":\"\"},\"colorscale\":[[0.0,\"#0d0887\"],[0.1111111111111111,\"#46039f\"],[0.2222222222222222,\"#7201a8\"],[0.3333333333333333,\"#9c179e\"],[0.4444444444444444,\"#bd3786\"],[0.5555555555555556,\"#d8576b\"],[0.6666666666666666,\"#ed7953\"],[0.7777777777777778,\"#fb9f3a\"],[0.8888888888888888,\"#fdca26\"],[1.0,\"#f0f921\"]],\"type\":\"heatmapgl\"}],\"heatmap\":[{\"colorbar\":{\"outlinewidth\":0,\"ticks\":\"\"},\"colorscale\":[[0.0,\"#0d0887\"],[0.1111111111111111,\"#46039f\"],[0.2222222222222222,\"#7201a8\"],[0.3333333333333333,\"#9c179e\"],[0.4444444444444444,\"#bd3786\"],[0.5555555555555556,\"#d8576b\"],[0.6666666666666666,\"#ed7953\"],[0.7777777777777778,\"#fb9f3a\"],[0.8888888888888888,\"#fdca26\"],[1.0,\"#f0f921\"]],\"type\":\"heatmap\"}],\"histogram2dcontour\":[{\"colorbar\":{\"outlinewidth\":0,\"ticks\":\"\"},\"colorscale\":[[0.0,\"#0d0887\"],[0.1111111111111111,\"#46039f\"],[0.2222222222222222,\"#7201a8\"],[0.3333333333333333,\"#9c179e\"],[0.4444444444444444,\"#bd3786\"],[0.5555555555555556,\"#d8576b\"],[0.6666666666666666,\"#ed7953\"],[0.7777777777777778,\"#fb9f3a\"],[0.8888888888888888,\"#fdca26\"],[1.0,\"#f0f921\"]],\"type\":\"histogram2dcontour\"}],\"histogram2d\":[{\"colorbar\":{\"outlinewidth\":0,\"ticks\":\"\"},\"colorscale\":[[0.0,\"#0d0887\"],[0.1111111111111111,\"#46039f\"],[0.2222222222222222,\"#7201a8\"],[0.3333333333333333,\"#9c179e\"],[0.4444444444444444,\"#bd3786\"],[0.5555555555555556,\"#d8576b\"],[0.6666666666666666,\"#ed7953\"],[0.7777777777777778,\"#fb9f3a\"],[0.8888888888888888,\"#fdca26\"],[1.0,\"#f0f921\"]],\"type\":\"histogram2d\"}],\"histogram\":[{\"marker\":{\"pattern\":{\"fillmode\":\"overlay\",\"size\":10,\"solidity\":0.2}},\"type\":\"histogram\"}],\"mesh3d\":[{\"colorbar\":{\"outlinewidth\":0,\"ticks\":\"\"},\"type\":\"mesh3d\"}],\"parcoords\":[{\"line\":{\"colorbar\":{\"outlinewidth\":0,\"ticks\":\"\"}},\"type\":\"parcoords\"}],\"pie\":[{\"automargin\":true,\"type\":\"pie\"}],\"scatter3d\":[{\"line\":{\"colorbar\":{\"outlinewidth\":0,\"ticks\":\"\"}},\"marker\":{\"colorbar\":{\"outlinewidth\":0,\"ticks\":\"\"}},\"type\":\"scatter3d\"}],\"scattercarpet\":[{\"marker\":{\"colorbar\":{\"outlinewidth\":0,\"ticks\":\"\"}},\"type\":\"scattercarpet\"}],\"scattergeo\":[{\"marker\":{\"colorbar\":{\"outlinewidth\":0,\"ticks\":\"\"}},\"type\":\"scattergeo\"}],\"scattergl\":[{\"marker\":{\"line\":{\"color\":\"#283442\"}},\"type\":\"scattergl\"}],\"scattermapbox\":[{\"marker\":{\"colorbar\":{\"outlinewidth\":0,\"ticks\":\"\"}},\"type\":\"scattermapbox\"}],\"scatterpolargl\":[{\"marker\":{\"colorbar\":{\"outlinewidth\":0,\"ticks\":\"\"}},\"type\":\"scatterpolargl\"}],\"scatterpolar\":[{\"marker\":{\"colorbar\":{\"outlinewidth\":0,\"ticks\":\"\"}},\"type\":\"scatterpolar\"}],\"scatter\":[{\"marker\":{\"line\":{\"color\":\"#283442\"}},\"type\":\"scatter\"}],\"scatterternary\":[{\"marker\":{\"colorbar\":{\"outlinewidth\":0,\"ticks\":\"\"}},\"type\":\"scatterternary\"}],\"surface\":[{\"colorbar\":{\"outlinewidth\":0,\"ticks\":\"\"},\"colorscale\":[[0.0,\"#0d0887\"],[0.1111111111111111,\"#46039f\"],[0.2222222222222222,\"#7201a8\"],[0.3333333333333333,\"#9c179e\"],[0.4444444444444444,\"#bd3786\"],[0.5555555555555556,\"#d8576b\"],[0.6666666666666666,\"#ed7953\"],[0.7777777777777778,\"#fb9f3a\"],[0.8888888888888888,\"#fdca26\"],[1.0,\"#f0f921\"]],\"type\":\"surface\"}],\"table\":[{\"cells\":{\"fill\":{\"color\":\"#506784\"},\"line\":{\"color\":\"rgb(17,17,17)\"}},\"header\":{\"fill\":{\"color\":\"#2a3f5f\"},\"line\":{\"color\":\"rgb(17,17,17)\"}},\"type\":\"table\"}]},\"layout\":{\"annotationdefaults\":{\"arrowcolor\":\"#f2f5fa\",\"arrowhead\":0,\"arrowwidth\":1},\"autotypenumbers\":\"strict\",\"coloraxis\":{\"colorbar\":{\"outlinewidth\":0,\"ticks\":\"\"}},\"colorscale\":{\"diverging\":[[0,\"#8e0152\"],[0.1,\"#c51b7d\"],[0.2,\"#de77ae\"],[0.3,\"#f1b6da\"],[0.4,\"#fde0ef\"],[0.5,\"#f7f7f7\"],[0.6,\"#e6f5d0\"],[0.7,\"#b8e186\"],[0.8,\"#7fbc41\"],[0.9,\"#4d9221\"],[1,\"#276419\"]],\"sequential\":[[0.0,\"#0d0887\"],[0.1111111111111111,\"#46039f\"],[0.2222222222222222,\"#7201a8\"],[0.3333333333333333,\"#9c179e\"],[0.4444444444444444,\"#bd3786\"],[0.5555555555555556,\"#d8576b\"],[0.6666666666666666,\"#ed7953\"],[0.7777777777777778,\"#fb9f3a\"],[0.8888888888888888,\"#fdca26\"],[1.0,\"#f0f921\"]],\"sequentialminus\":[[0.0,\"#0d0887\"],[0.1111111111111111,\"#46039f\"],[0.2222222222222222,\"#7201a8\"],[0.3333333333333333,\"#9c179e\"],[0.4444444444444444,\"#bd3786\"],[0.5555555555555556,\"#d8576b\"],[0.6666666666666666,\"#ed7953\"],[0.7777777777777778,\"#fb9f3a\"],[0.8888888888888888,\"#fdca26\"],[1.0,\"#f0f921\"]]},\"colorway\":[\"#636efa\",\"#EF553B\",\"#00cc96\",\"#ab63fa\",\"#FFA15A\",\"#19d3f3\",\"#FF6692\",\"#B6E880\",\"#FF97FF\",\"#FECB52\"],\"font\":{\"color\":\"#f2f5fa\"},\"geo\":{\"bgcolor\":\"rgb(17,17,17)\",\"lakecolor\":\"rgb(17,17,17)\",\"landcolor\":\"rgb(17,17,17)\",\"showlakes\":true,\"showland\":true,\"subunitcolor\":\"#506784\"},\"hoverlabel\":{\"align\":\"left\"},\"hovermode\":\"closest\",\"mapbox\":{\"style\":\"dark\"},\"paper_bgcolor\":\"rgb(17,17,17)\",\"plot_bgcolor\":\"rgb(17,17,17)\",\"polar\":{\"angularaxis\":{\"gridcolor\":\"#506784\",\"linecolor\":\"#506784\",\"ticks\":\"\"},\"bgcolor\":\"rgb(17,17,17)\",\"radialaxis\":{\"gridcolor\":\"#506784\",\"linecolor\":\"#506784\",\"ticks\":\"\"}},\"scene\":{\"xaxis\":{\"backgroundcolor\":\"rgb(17,17,17)\",\"gridcolor\":\"#506784\",\"gridwidth\":2,\"linecolor\":\"#506784\",\"showbackground\":true,\"ticks\":\"\",\"zerolinecolor\":\"#C8D4E3\"},\"yaxis\":{\"backgroundcolor\":\"rgb(17,17,17)\",\"gridcolor\":\"#506784\",\"gridwidth\":2,\"linecolor\":\"#506784\",\"showbackground\":true,\"ticks\":\"\",\"zerolinecolor\":\"#C8D4E3\"},\"zaxis\":{\"backgroundcolor\":\"rgb(17,17,17)\",\"gridcolor\":\"#506784\",\"gridwidth\":2,\"linecolor\":\"#506784\",\"showbackground\":true,\"ticks\":\"\",\"zerolinecolor\":\"#C8D4E3\"}},\"shapedefaults\":{\"line\":{\"color\":\"#f2f5fa\"}},\"sliderdefaults\":{\"bgcolor\":\"#C8D4E3\",\"bordercolor\":\"rgb(17,17,17)\",\"borderwidth\":1,\"tickwidth\":0},\"ternary\":{\"aaxis\":{\"gridcolor\":\"#506784\",\"linecolor\":\"#506784\",\"ticks\":\"\"},\"baxis\":{\"gridcolor\":\"#506784\",\"linecolor\":\"#506784\",\"ticks\":\"\"},\"bgcolor\":\"rgb(17,17,17)\",\"caxis\":{\"gridcolor\":\"#506784\",\"linecolor\":\"#506784\",\"ticks\":\"\"}},\"title\":{\"x\":0.05},\"updatemenudefaults\":{\"bgcolor\":\"#506784\",\"borderwidth\":0},\"xaxis\":{\"automargin\":true,\"gridcolor\":\"#283442\",\"linecolor\":\"#506784\",\"ticks\":\"\",\"title\":{\"standoff\":15},\"zerolinecolor\":\"#283442\",\"zerolinewidth\":2},\"yaxis\":{\"automargin\":true,\"gridcolor\":\"#283442\",\"linecolor\":\"#506784\",\"ticks\":\"\",\"title\":{\"standoff\":15},\"zerolinecolor\":\"#283442\",\"zerolinewidth\":2}}},\"xaxis\":{\"anchor\":\"y\",\"domain\":[0.0,0.26666666666666666]},\"yaxis\":{\"anchor\":\"x\",\"domain\":[0.8625,1.0],\"title\":{\"text\":\"Frequency\"}},\"xaxis2\":{\"anchor\":\"y2\",\"domain\":[0.3666666666666667,0.6333333333333333]},\"yaxis2\":{\"anchor\":\"x2\",\"domain\":[0.8625,1.0],\"title\":{\"text\":\"Frequency\"}},\"xaxis3\":{\"anchor\":\"y3\",\"domain\":[0.7333333333333334,1.0]},\"yaxis3\":{\"anchor\":\"x3\",\"domain\":[0.8625,1.0],\"title\":{\"text\":\"Frequency\"}},\"xaxis4\":{\"anchor\":\"y4\",\"domain\":[0.0,0.26666666666666666]},\"yaxis4\":{\"anchor\":\"x4\",\"domain\":[0.575,0.7124999999999999],\"title\":{\"text\":\"Frequency\"}},\"xaxis5\":{\"anchor\":\"y5\",\"domain\":[0.3666666666666667,0.6333333333333333]},\"yaxis5\":{\"anchor\":\"x5\",\"domain\":[0.575,0.7124999999999999],\"title\":{\"text\":\"Frequency\"}},\"xaxis6\":{\"anchor\":\"y6\",\"domain\":[0.7333333333333334,1.0]},\"yaxis6\":{\"anchor\":\"x6\",\"domain\":[0.575,0.7124999999999999],\"title\":{\"text\":\"Frequency\"}},\"xaxis7\":{\"anchor\":\"y7\",\"domain\":[0.0,0.26666666666666666]},\"yaxis7\":{\"anchor\":\"x7\",\"domain\":[0.2875,0.425],\"title\":{\"text\":\"Frequency\"}},\"xaxis8\":{\"anchor\":\"y8\",\"domain\":[0.3666666666666667,0.6333333333333333]},\"yaxis8\":{\"anchor\":\"x8\",\"domain\":[0.2875,0.425],\"title\":{\"text\":\"Frequency\"}},\"xaxis9\":{\"anchor\":\"y9\",\"domain\":[0.7333333333333334,1.0]},\"yaxis9\":{\"anchor\":\"x9\",\"domain\":[0.2875,0.425],\"title\":{\"text\":\"Frequency\"}},\"xaxis10\":{\"anchor\":\"y10\",\"domain\":[0.0,0.26666666666666666]},\"yaxis10\":{\"anchor\":\"x10\",\"domain\":[0.0,0.1375],\"title\":{\"text\":\"Frequency\"}},\"xaxis11\":{\"anchor\":\"y11\",\"domain\":[0.3666666666666667,0.6333333333333333]},\"yaxis11\":{\"anchor\":\"x11\",\"domain\":[0.0,0.1375]},\"xaxis12\":{\"anchor\":\"y12\",\"domain\":[0.7333333333333334,1.0]},\"yaxis12\":{\"anchor\":\"x12\",\"domain\":[0.0,0.1375]},\"annotations\":[{\"font\":{\"size\":16},\"showarrow\":false,\"text\":\"B_30\",\"x\":0.13333333333333333,\"xanchor\":\"center\",\"xref\":\"paper\",\"y\":1.0,\"yanchor\":\"bottom\",\"yref\":\"paper\"},{\"font\":{\"size\":16},\"showarrow\":false,\"text\":\"B_38\",\"x\":0.5,\"xanchor\":\"center\",\"xref\":\"paper\",\"y\":1.0,\"yanchor\":\"bottom\",\"yref\":\"paper\"},{\"font\":{\"size\":16},\"showarrow\":false,\"text\":\"D_114\",\"x\":0.8666666666666667,\"xanchor\":\"center\",\"xref\":\"paper\",\"y\":1.0,\"yanchor\":\"bottom\",\"yref\":\"paper\"},{\"font\":{\"size\":16},\"showarrow\":false,\"text\":\"D_116\",\"x\":0.13333333333333333,\"xanchor\":\"center\",\"xref\":\"paper\",\"y\":0.7124999999999999,\"yanchor\":\"bottom\",\"yref\":\"paper\"},{\"font\":{\"size\":16},\"showarrow\":false,\"text\":\"D_117\",\"x\":0.5,\"xanchor\":\"center\",\"xref\":\"paper\",\"y\":0.7124999999999999,\"yanchor\":\"bottom\",\"yref\":\"paper\"},{\"font\":{\"size\":16},\"showarrow\":false,\"text\":\"D_120\",\"x\":0.8666666666666667,\"xanchor\":\"center\",\"xref\":\"paper\",\"y\":0.7124999999999999,\"yanchor\":\"bottom\",\"yref\":\"paper\"},{\"font\":{\"size\":16},\"showarrow\":false,\"text\":\"D_126\",\"x\":0.13333333333333333,\"xanchor\":\"center\",\"xref\":\"paper\",\"y\":0.425,\"yanchor\":\"bottom\",\"yref\":\"paper\"},{\"font\":{\"size\":16},\"showarrow\":false,\"text\":\"D_63\",\"x\":0.5,\"xanchor\":\"center\",\"xref\":\"paper\",\"y\":0.425,\"yanchor\":\"bottom\",\"yref\":\"paper\"},{\"font\":{\"size\":16},\"showarrow\":false,\"text\":\"D_64\",\"x\":0.8666666666666667,\"xanchor\":\"center\",\"xref\":\"paper\",\"y\":0.425,\"yanchor\":\"bottom\",\"yref\":\"paper\"},{\"font\":{\"size\":16},\"showarrow\":false,\"text\":\"D_68\",\"x\":0.13333333333333333,\"xanchor\":\"center\",\"xref\":\"paper\",\"y\":0.1375,\"yanchor\":\"bottom\",\"yref\":\"paper\"}],\"legend\":{\"orientation\":\"h\",\"yanchor\":\"bottom\",\"y\":1.05,\"xanchor\":\"center\",\"x\":0.5},\"title\":{\"text\":\"Distribution of Categorical Variables\"},\"barmode\":\"group\",\"height\":1400,\"width\":1000},                        {\"responsive\": true}                    ).then(function(){\n",
              "                            \n",
              "var gd = document.getElementById('700b70bd-dfe6-48fe-bd1c-405f90cec54f');\n",
              "var x = new MutationObserver(function (mutations, observer) {{\n",
              "        var display = window.getComputedStyle(gd).display;\n",
              "        if (!display || display === 'none') {{\n",
              "            console.log([gd, 'removed!']);\n",
              "            Plotly.purge(gd);\n",
              "            observer.disconnect();\n",
              "        }}\n",
              "}});\n",
              "\n",
              "// Listen for the removal of the full notebook cells\n",
              "var notebookContainer = gd.closest('#notebook-container');\n",
              "if (notebookContainer) {{\n",
              "    x.observe(notebookContainer, {childList: true});\n",
              "}}\n",
              "\n",
              "// Listen for the clearing of the current output cell\n",
              "var outputEl = gd.closest('.output');\n",
              "if (outputEl) {{\n",
              "    x.observe(outputEl, {childList: true});\n",
              "}}\n",
              "\n",
              "                        })                };                            </script>        </div>\n",
              "</body>\n",
              "</html>"
            ]
          },
          "metadata": {}
        }
      ]
    },
    {
      "cell_type": "markdown",
      "source": [
        "- We are performing on one hot encoding later before training the models."
      ],
      "metadata": {
        "id": "2rfXWG65GAEn"
      }
    },
    {
      "cell_type": "markdown",
      "source": [
        "#### Time based feature engineering"
      ],
      "metadata": {
        "id": "g7tqRg767c9y"
      }
    },
    {
      "cell_type": "code",
      "execution_count": null,
      "metadata": {
        "id": "vvHf00fjcySr"
      },
      "outputs": [],
      "source": [
        "# Extract basic time features and convert them into numerical features and remove datetime column\n",
        "\n",
        "def extract_time_features(df, datetime_column):\n",
        "  \"\"\"Extracts basic time features from a datetime column and converts them to numerical.\n",
        "\n",
        "  Args:\n",
        "      df: Pandas DataFrame.\n",
        "      datetime_column: Name of the datetime column.\n",
        "\n",
        "  Returns:\n",
        "      Pandas DataFrame with extracted time features and the original datetime column removed.\n",
        "  \"\"\"\n",
        "  df[datetime_column] = pd.to_datetime(df[datetime_column])\n",
        "  df['year'] = df[datetime_column].dt.year\n",
        "  df['month'] = df[datetime_column].dt.month\n",
        "  df['day'] = df[datetime_column].dt.day\n",
        "  df['dayofweek'] = df[datetime_column].dt.dayofweek\n",
        "  df['hour'] = df[datetime_column].dt.hour\n",
        "  df = df.drop(columns=[datetime_column])\n",
        "  return df\n",
        "\n",
        "train_df = extract_time_features(train_df, 'S_2')\n",
        "test_df = extract_time_features(test_df, 'S_2')"
      ]
    },
    {
      "cell_type": "code",
      "execution_count": null,
      "metadata": {
        "id": "W56sZPLzcyU9",
        "colab": {
          "base_uri": "https://localhost:8080/"
        },
        "outputId": "38c1598a-e73c-4b41-b5c2-98eb17eda69a"
      },
      "outputs": [
        {
          "output_type": "execute_result",
          "data": {
            "text/plain": [
              "Index(['D_39', 'B_1', 'R_1', 'S_3', 'D_41', 'D_43', 'D_44', 'B_4', 'R_2',\n",
              "       'D_46', 'D_48', 'B_7', 'B_8', 'B_9', 'R_3', 'D_55', 'R_5', 'D_58',\n",
              "       'B_14', 'D_59', 'D_61', 'R_6', 'D_70', 'D_72', 'S_15', 'P_4', 'B_24',\n",
              "       'B_25', 'D_78', 'D_79', 'R_10', 'D_81', 'R_15', 'D_84', 'R_16', 'R_19',\n",
              "       'B_32', 'S_20', 'R_20', 'R_21', 'D_89', 'R_24', 'D_103', 'D_107',\n",
              "       'D_113', 'D_130', 'D_131', 'D_133', 'D_139', 'D_140', 'D_145', 'P_2',\n",
              "       'B_2', 'D_45', 'D_47', 'D_51', 'D_52', 'P_3', 'D_54', 'S_8', 'D_56',\n",
              "       'D_62', 'S_13', 'R_12', 'D_91', 'D_92', 'S_25', 'R_27', 'D_112',\n",
              "       'D_115', 'D_118', 'D_121', 'D_122', 'D_127', 'D_128', 'D_129', 'B_30',\n",
              "       'B_38', 'D_114', 'D_116', 'D_117', 'D_120', 'D_126', 'D_63', 'D_64',\n",
              "       'D_68', 'target', 'customer_ID', 'year', 'month', 'day', 'dayofweek',\n",
              "       'hour'],\n",
              "      dtype='object')"
            ]
          },
          "metadata": {},
          "execution_count": 34
        }
      ],
      "source": [
        "\n",
        "train_df.columns"
      ]
    },
    {
      "cell_type": "code",
      "source": [
        "# Drop customer_id\n",
        "\n",
        "train_df = train_df.drop(columns=['customer_ID'])\n",
        "test_df = test_df.drop(columns=['customer_ID'])\n",
        "\n",
        "# Define X_train, y_train, X_test, y_test\n",
        "target_column = 'target'\n",
        "X_train = train_df.drop(target_column, axis=1)\n",
        "y_train = train_df[target_column]\n",
        "X_test = test_df.drop(target_column, axis=1)\n",
        "y_test = test_df[target_column]\n",
        "\n",
        "\n",
        "# Encode categorical features\n",
        "le = LabelEncoder()\n",
        "\n",
        "# First, encode the specified 'categorical_features'\n",
        "for feature in categorical_features:\n",
        "    if feature in X_train.columns:\n",
        "        X_train[feature] = le.fit_transform(X_train[feature].astype(str))\n",
        "        X_test[feature] = le.transform(X_test[feature].astype(str))\n",
        "\n",
        "# Then, identify other categorical features and encode them\n",
        "other_categorical_features = [\n",
        "    col for col in X_train.columns if X_train[col].dtype == object\n",
        "]\n",
        "\n",
        "for feature in other_categorical_features:\n",
        "    if feature in X_train.columns:\n",
        "        X_train[feature] = le.fit_transform(X_train[feature].astype(str))\n",
        "        X_test[feature] = le.transform(X_test[feature].astype(str))\n",
        "\n",
        "\n",
        "# Align columns to ensure both train and test sets have the same features\n",
        "X_train, X_test = X_train.align(X_test, join='inner', axis=1)\n",
        "\n",
        "# Release memory\n",
        "del train_df, test_df\n",
        "gc.collect()"
      ],
      "metadata": {
        "id": "IpG3KRNHvogz",
        "colab": {
          "base_uri": "https://localhost:8080/"
        },
        "outputId": "a2ae9adb-2aa6-4c2b-9cb1-f385204ad8d0"
      },
      "execution_count": null,
      "outputs": [
        {
          "output_type": "execute_result",
          "data": {
            "text/plain": [
              "773"
            ]
          },
          "metadata": {},
          "execution_count": 35
        }
      ]
    },
    {
      "cell_type": "code",
      "source": [],
      "metadata": {
        "id": "EO5VyBdHK9Gu"
      },
      "execution_count": null,
      "outputs": []
    },
    {
      "cell_type": "markdown",
      "source": [
        "#### Amex error metric"
      ],
      "metadata": {
        "id": "hMGWomNVK9YX"
      }
    },
    {
      "cell_type": "code",
      "source": [
        "def amex_metric(y_true: pd.DataFrame, y_pred: pd.DataFrame) -> float:\n",
        "\n",
        "    def top_four_percent_captured(y_true: pd.DataFrame, y_pred: pd.DataFrame) -> float:\n",
        "        df = (pd.concat([y_true, y_pred], axis='columns')\n",
        "              .sort_values('prediction', ascending=False))\n",
        "        df['weight'] = df['target'].apply(lambda x: 20 if x==1 else 0)\n",
        "        four_pct_cutoff = int(0.04 * df['weight'].sum())\n",
        "        df['weight_cumsum'] = df['weight'].cumsum()\n",
        "        df_cutoff = df.loc[df['weight_cumsum'] <= four_pct_cutoff]\n",
        "        return (df_cutoff['target'] == 1).sum() / (df['target'] == 1).sum()\n",
        "\n",
        "    def weighted_gini(y_true: pd.DataFrame, y_pred: pd.DataFrame) -> float:\n",
        "        df = (pd.concat([y_true, y_pred], axis='columns')\n",
        "              .sort_values('prediction', ascending=False))\n",
        "        df['weight'] = df['target'].apply(lambda x: 20 if x==1 else 0)\n",
        "        df['random'] = (df['weight'] / df['weight'].sum()).cumsum()\n",
        "        total_pos = (df['target'] * df['weight']).sum()\n",
        "        df['cum_pos_found'] = (df['target'] * df['weight']).cumsum()\n",
        "        df['lorentz'] = df['cum_pos_found'] / total_pos\n",
        "        df['gini'] = (df['lorentz'] - df['random']) * df['weight']\n",
        "        return df['gini'].sum()\n",
        "\n",
        "    def normalized_weighted_gini(y_true: pd.DataFrame, y_pred: pd.DataFrame) -> float:\n",
        "        y_true_pred = y_true.rename(columns={'target': 'prediction'})\n",
        "        return weighted_gini(y_true, y_pred) / weighted_gini(y_true, y_true_pred)\n",
        "\n",
        "    g = normalized_weighted_gini(y_true, y_pred)\n",
        "    d = top_four_percent_captured(y_true, y_pred)\n",
        "    return 0.5 * (g + d)"
      ],
      "metadata": {
        "id": "TV1rD_KWK_-g"
      },
      "execution_count": null,
      "outputs": []
    },
    {
      "cell_type": "code",
      "source": [],
      "metadata": {
        "id": "COINO8orvs6N"
      },
      "execution_count": null,
      "outputs": []
    },
    {
      "cell_type": "markdown",
      "source": [
        "#### Random Model"
      ],
      "metadata": {
        "id": "c6xtm6jYvtUj"
      }
    },
    {
      "cell_type": "code",
      "source": [
        "\n",
        "import numpy as np\n",
        "import pandas as pd\n",
        "from sklearn.metrics import accuracy_score\n",
        "\n",
        "class RandomModel:\n",
        "    def __init__(self):\n",
        "        pass\n",
        "\n",
        "    def fit(self, X, y):\n",
        "        # No training needed for a random model\n",
        "        pass\n",
        "\n",
        "    def predict(self, X):\n",
        "        # Predict random probabilities between 0 and 1\n",
        "        return np.random.rand(len(X))\n",
        "\n",
        "    def predict_proba(self, X):\n",
        "      # Predict random probabilities between 0 and 1\n",
        "      return np.random.rand(len(X),2)\n",
        "\n",
        "\n",
        "# Initialize and train the random model\n",
        "random_model = RandomModel()\n",
        "random_model.fit(X_train, y_train)\n",
        "\n",
        "# Make predictions\n",
        "y_pred_prob = random_model.predict(X_test)\n",
        "y_pred = (y_pred_prob > 0.5).astype(int) # Convert probabilities to binary predictions\n",
        "\n",
        "\n",
        "# Evaluate the model\n",
        "accuracy = accuracy_score(y_test, y_pred)\n",
        "print(f\"Accuracy: {accuracy}\")\n",
        "\n",
        "# Create DataFrames for the amex_metric function\n",
        "y_true_df = pd.DataFrame({'target': y_test})\n",
        "y_pred_df = pd.DataFrame({'prediction': y_pred_prob})\n",
        "\n",
        "y_pred_binary = (y_pred_prob > 0.5).astype(int)\n",
        "\n",
        "# Calculate the Amex metric\n",
        "amex = amex_metric(y_true_df, y_pred_df)\n",
        "# print(f\"Amex Metric: {amex}\")\n",
        "\n",
        "from sklearn.metrics import classification_report, roc_auc_score, confusion_matrix\n",
        "\n",
        "# Classification report (Precision, Recall, F1-Score)\n",
        "print(\"Classification Report:\")\n",
        "print(classification_report(y_true_df, y_pred_binary))\n",
        "\n",
        "# Confusion Matrix\n",
        "print(\"Confusion Matrix:\")\n",
        "print(confusion_matrix(y_true_df, y_pred_binary))\n",
        "\n",
        "# ROC-AUC Score\n",
        "roc_auc = roc_auc_score(y_true_df, y_pred)\n",
        "print(f\"ROC-AUC Score: {roc_auc:.4f}\")\n"
      ],
      "metadata": {
        "colab": {
          "base_uri": "https://localhost:8080/"
        },
        "id": "QwW3GpU4vt1U",
        "outputId": "e7db4b1b-256d-47f8-d69f-7e55c8db87cd"
      },
      "execution_count": null,
      "outputs": [
        {
          "output_type": "stream",
          "name": "stdout",
          "text": [
            "Accuracy: 0.5012202838289794\n",
            "Classification Report:\n",
            "              precision    recall  f1-score   support\n",
            "\n",
            "           0       0.76      0.50      0.60      8349\n",
            "           1       0.25      0.50      0.33      2714\n",
            "\n",
            "    accuracy                           0.50     11063\n",
            "   macro avg       0.50      0.50      0.47     11063\n",
            "weighted avg       0.63      0.50      0.54     11063\n",
            "\n",
            "Confusion Matrix:\n",
            "[[4179 4170]\n",
            " [1348 1366]]\n",
            "ROC-AUC Score: 0.5019\n"
          ]
        }
      ]
    },
    {
      "cell_type": "code",
      "source": [],
      "metadata": {
        "id": "SiUwuREp5Isp"
      },
      "execution_count": null,
      "outputs": []
    },
    {
      "cell_type": "markdown",
      "source": [
        "#### Logistic Regression"
      ],
      "metadata": {
        "id": "mTM5ziWa5OTK"
      }
    },
    {
      "cell_type": "code",
      "source": [
        "# Initialize and train the logistic regression model\n",
        "log_reg_model = LogisticRegression(max_iter=1000)  # Increased max_iter\n",
        "log_reg_model.fit(X_train, y_train)\n",
        "\n",
        "# Make predictions\n",
        "y_pred_prob = log_reg_model.predict_proba(X_test)[:, 1] # Predict probabilities for the positive class\n",
        "y_pred = (y_pred_prob > 0.3).astype(int) # Convert probabilities to binary predictions\n",
        "\n",
        "\n",
        "# Evaluate the model\n",
        "accuracy = accuracy_score(y_test, y_pred)\n",
        "print(f\"Accuracy: {accuracy}\")\n",
        "\n",
        "# Create DataFrames for the amex_metric function\n",
        "y_true_df = pd.DataFrame({'target': y_test})\n",
        "y_pred_df = pd.DataFrame({'prediction': y_pred_prob})\n",
        "\n",
        "\n",
        "# Classification report (Precision, Recall, F1-Score)\n",
        "print(\"Classification Report:\")\n",
        "print(classification_report(y_true_df, y_pred))\n",
        "\n",
        "# Confusion Matrix\n",
        "print(\"Confusion Matrix:\")\n",
        "print(confusion_matrix(y_true_df, y_pred))\n",
        "\n",
        "# ROC-AUC Score\n",
        "roc_auc = roc_auc_score(y_true_df, y_pred_prob)\n",
        "print(f\"ROC-AUC Score: {roc_auc:.4f}\")"
      ],
      "metadata": {
        "colab": {
          "base_uri": "https://localhost:8080/"
        },
        "id": "IN6SdQGw5i7r",
        "outputId": "ac347c54-7ae5-4325-c7e3-571b1f634c7d"
      },
      "execution_count": null,
      "outputs": [
        {
          "output_type": "stream",
          "name": "stdout",
          "text": [
            "Accuracy: 0.8558257253909428\n",
            "Classification Report:\n",
            "              precision    recall  f1-score   support\n",
            "\n",
            "           0       0.94      0.86      0.90      8349\n",
            "           1       0.66      0.84      0.74      2714\n",
            "\n",
            "    accuracy                           0.86     11063\n",
            "   macro avg       0.80      0.85      0.82     11063\n",
            "weighted avg       0.87      0.86      0.86     11063\n",
            "\n",
            "Confusion Matrix:\n",
            "[[7201 1148]\n",
            " [ 447 2267]]\n",
            "ROC-AUC Score: 0.9260\n"
          ]
        }
      ]
    },
    {
      "cell_type": "markdown",
      "source": [
        "#### SVM"
      ],
      "metadata": {
        "id": "oBZBHq8WLOVH"
      }
    },
    {
      "cell_type": "code",
      "source": [
        "from sklearn.svm import SVC\n",
        "from sklearn.metrics import accuracy_score, classification_report, confusion_matrix, roc_auc_score\n",
        "\n",
        "# Initialize and train the SVM model\n",
        "svm_model = SVC(probability=True) # Enable probability estimates for ROC-AUC\n",
        "svm_model.fit(X_train, y_train)\n",
        "\n",
        "# Make predictions\n",
        "y_pred_prob = svm_model.predict_proba(X_test)[:, 1]\n",
        "y_pred = (y_pred_prob > 0.5).astype(int)\n",
        "\n",
        "# Evaluate the model\n",
        "accuracy = accuracy_score(y_test, y_pred)\n",
        "print(f\"Accuracy: {accuracy}\")\n",
        "\n",
        "# Create DataFrames for the amex_metric function (if needed)\n",
        "y_true_df = pd.DataFrame({'target': y_test})\n",
        "y_pred_df = pd.DataFrame({'prediction': y_pred_prob})\n",
        "\n",
        "# Calculate the Amex metric (if needed)\n",
        "# amex = amex_metric(y_true_df, y_pred_df)\n",
        "# print(f\"Amex Metric: {amex}\")\n",
        "\n",
        "# Classification report (Precision, Recall, F1-Score)\n",
        "print(\"Classification Report:\")\n",
        "print(classification_report(y_true_df, y_pred))\n",
        "\n",
        "# Confusion Matrix\n",
        "print(\"Confusion Matrix:\")\n",
        "print(confusion_matrix(y_true_df, y_pred))\n",
        "\n",
        "# ROC-AUC Score\n",
        "roc_auc = roc_auc_score(y_true_df, y_pred_prob)\n",
        "print(f\"ROC-AUC Score: {roc_auc:.4f}\")"
      ],
      "metadata": {
        "colab": {
          "base_uri": "https://localhost:8080/"
        },
        "id": "SyUl67CyG-la",
        "outputId": "22b87ba2-a9c5-43b6-d981-94f463673bae"
      },
      "execution_count": null,
      "outputs": [
        {
          "output_type": "stream",
          "name": "stdout",
          "text": [
            "Accuracy: 0.838289794811534\n",
            "Classification Report:\n",
            "              precision    recall  f1-score   support\n",
            "\n",
            "           0       0.90      0.88      0.89      8349\n",
            "           1       0.66      0.70      0.68      2714\n",
            "\n",
            "    accuracy                           0.84     11063\n",
            "   macro avg       0.78      0.79      0.79     11063\n",
            "weighted avg       0.84      0.84      0.84     11063\n",
            "\n",
            "Confusion Matrix:\n",
            "[[7379  970]\n",
            " [ 819 1895]]\n",
            "ROC-AUC Score: 0.9003\n"
          ]
        }
      ]
    },
    {
      "cell_type": "markdown",
      "source": [
        "#### Random Forest classifier"
      ],
      "metadata": {
        "id": "lHYr4G_dKu4L"
      }
    },
    {
      "cell_type": "code",
      "source": [],
      "metadata": {
        "id": "L_jpYaNEefOK"
      },
      "execution_count": null,
      "outputs": []
    },
    {
      "cell_type": "code",
      "source": [
        "!pip install imbalanced-learn # Install the imbalanced-learn package, which includes imblearn"
      ],
      "metadata": {
        "colab": {
          "base_uri": "https://localhost:8080/"
        },
        "id": "SSHUWNWaduas",
        "outputId": "e111570b-e852-412d-a336-13a277f70223"
      },
      "execution_count": null,
      "outputs": [
        {
          "output_type": "stream",
          "name": "stdout",
          "text": [
            "Collecting imbalanced-learn\n",
            "  Downloading imbalanced_learn-0.12.4-py3-none-any.whl.metadata (8.3 kB)\n",
            "Requirement already satisfied: numpy>=1.17.3 in /usr/local/lib/python3.10/dist-packages (from imbalanced-learn) (1.26.4)\n",
            "Requirement already satisfied: scipy>=1.5.0 in /usr/local/lib/python3.10/dist-packages (from imbalanced-learn) (1.13.1)\n",
            "Requirement already satisfied: scikit-learn>=1.0.2 in /usr/local/lib/python3.10/dist-packages (from imbalanced-learn) (1.5.2)\n",
            "Requirement already satisfied: joblib>=1.1.1 in /usr/local/lib/python3.10/dist-packages (from imbalanced-learn) (1.4.2)\n",
            "Requirement already satisfied: threadpoolctl>=2.0.0 in /usr/local/lib/python3.10/dist-packages (from imbalanced-learn) (3.5.0)\n",
            "Downloading imbalanced_learn-0.12.4-py3-none-any.whl (258 kB)\n",
            "\u001b[2K   \u001b[90m━━━━━━━━━━━━━━━━━━━━━━━━━━━━━━━━━━━━━━━━\u001b[0m \u001b[32m258.3/258.3 kB\u001b[0m \u001b[31m4.3 MB/s\u001b[0m eta \u001b[36m0:00:00\u001b[0m\n",
            "\u001b[?25hInstalling collected packages: imbalanced-learn\n",
            "Successfully installed imbalanced-learn-0.12.4\n"
          ]
        }
      ]
    },
    {
      "cell_type": "code",
      "source": [
        "import pandas as pd\n",
        "from sklearn.ensemble import RandomForestClassifier\n",
        "from sklearn.model_selection import train_test_split\n",
        "from sklearn.metrics import accuracy_score\n",
        "from imblearn.over_sampling import SMOTE\n",
        "from sklearn.preprocessing import StandardScaler\n",
        "\n",
        "\n",
        "# Oversample the minority class using SMOTE\n",
        "smote = SMOTE(sampling_strategy='auto', random_state=42)\n",
        "X_train_res, y_train_res = smote.fit_resample(X_train, y_train)\n",
        "\n",
        "# Feature Scaling (Optional but recommended for some models)\n",
        "scaler = StandardScaler()\n",
        "X_train_res = scaler.fit_transform(X_train_res)\n",
        "X_test = scaler.transform(X_test)\n",
        "\n",
        "# Train a Random Forest Classifier\n",
        "rf_model = RandomForestClassifier(n_estimators=100, max_depth=10, random_state=42, n_jobs=-1)\n",
        "rf_model.fit(X_train_res, y_train_res)\n",
        "\n",
        "# Predictions\n",
        "y_pred_rf = rf_model.predict_proba(X_test)[:, 1]\n",
        "\n",
        "# Convert y_test and y_pred_rf to DataFrames for amex_metric calculation\n",
        "y_test_df = pd.DataFrame(y_test, columns=['target'])\n",
        "y_pred = pd.DataFrame(y_pred_rf, columns=['prediction'])\n",
        "\n",
        "y_pred_binary = (y_pred_prob > 0.3).astype(int)\n",
        "\n",
        "# Classification report (Precision, Recall, F1-Score)\n",
        "print(\"Classification Report:\")\n",
        "print(classification_report(y_test_df, y_pred_binary))\n",
        "\n",
        "# Confusion Matrix\n",
        "print(\"Confusion Matrix:\")\n",
        "print(confusion_matrix(y_test_df, y_pred_binary))\n",
        "\n",
        "# ROC-AUC Score\n",
        "roc_auc = roc_auc_score(y_test_df, y_pred)\n",
        "print(f\"ROC-AUC Score: {roc_auc:.4f}\")\n"
      ],
      "metadata": {
        "id": "EBPcvD5OL-nk",
        "colab": {
          "base_uri": "https://localhost:8080/"
        },
        "outputId": "f15a9423-1f45-4532-fbad-d5e178dd0b5a"
      },
      "execution_count": null,
      "outputs": [
        {
          "output_type": "stream",
          "name": "stdout",
          "text": [
            "Classification Report:\n",
            "              precision    recall  f1-score   support\n",
            "\n",
            "           0       0.93      0.82      0.87      8349\n",
            "           1       0.60      0.82      0.69      2714\n",
            "\n",
            "    accuracy                           0.82     11063\n",
            "   macro avg       0.77      0.82      0.78     11063\n",
            "weighted avg       0.85      0.82      0.83     11063\n",
            "\n",
            "Confusion Matrix:\n",
            "[[6868 1481]\n",
            " [ 487 2227]]\n",
            "ROC-AUC Score: 0.8810\n"
          ]
        }
      ]
    },
    {
      "cell_type": "markdown",
      "source": [
        "#### Random Forest classifier stratified k fold"
      ],
      "metadata": {
        "id": "_6XU9vpsNWps"
      }
    },
    {
      "cell_type": "code",
      "source": [
        "from sklearn.model_selection import StratifiedKFold\n",
        "from sklearn.metrics import accuracy_score, classification_report, confusion_matrix, roc_auc_score\n",
        "from sklearn.ensemble import RandomForestClassifier\n",
        "import numpy as np\n",
        "import pandas as pd\n",
        "\n",
        "# Assuming X_train, y_train, X_test, y_test are defined as in your original code\n",
        "\n",
        "# Initialize StratifiedKFold\n",
        "skf = StratifiedKFold(n_splits=5, shuffle=True, random_state=42)  # Adjust n_splits as needed\n",
        "\n",
        "# Initialize lists to store results\n",
        "accuracy_scores = []\n",
        "roc_auc_scores = []\n",
        "classification_reports = []\n",
        "confusion_matrices = []\n",
        "\n",
        "# Loop through each fold\n",
        "for fold, (train_index, val_index) in enumerate(skf.split(X_train, y_train)):\n",
        "    print(f\"Fold {fold + 1}\")\n",
        "\n",
        "    X_train_fold, X_val_fold = X_train.iloc[train_index], X_train.iloc[val_index]\n",
        "    y_train_fold, y_val_fold = y_train.iloc[train_index], y_train.iloc[val_index]\n",
        "\n",
        "    # Initialize and train the Random Forest model for the current fold\n",
        "    rf_model = RandomForestClassifier(n_estimators=100, max_depth=10, random_state=42, n_jobs=-1)\n",
        "    rf_model.fit(X_train_fold, y_train_fold)\n",
        "\n",
        "    # Make predictions on the validation set\n",
        "    y_pred_fold = rf_model.predict_proba(X_val_fold)[:, 1]\n",
        "    y_pred_binary_fold = (y_pred_fold > 0.3).astype(int)\n",
        "\n",
        "\n",
        "    # Evaluate the model for the current fold\n",
        "    accuracy = accuracy_score(y_val_fold, y_pred_binary_fold)\n",
        "    accuracy_scores.append(accuracy)\n",
        "\n",
        "    roc_auc = roc_auc_score(y_val_fold, y_pred_fold)\n",
        "    roc_auc_scores.append(roc_auc)\n",
        "\n",
        "    classification_reports.append(classification_report(y_val_fold, y_pred_binary_fold))\n",
        "    confusion_matrices.append(confusion_matrix(y_val_fold, y_pred_binary_fold))\n",
        "\n",
        "\n",
        "# Print the overall results\n",
        "print(f\"\\nAverage Accuracy: {np.mean(accuracy_scores)}\")\n",
        "print(f\"Average ROC-AUC Score: {np.mean(roc_auc_scores)}\")\n",
        "print(\"Overall Classification Report:\")\n",
        "print(classification_report(y_test, y_pred_binary))\n",
        "print(\"Overall Confusion Matrix:\")\n",
        "print(confusion_matrix(y_test, y_pred_binary))\n",
        "\n",
        "# Print or process classification reports and confusion matrices as needed.\n",
        "# Example: print the classification reports from each fold\n",
        "for i, report in enumerate(classification_reports):\n",
        "    print(f\"Classification Report for Fold {i+1}:\\n{report}\")\n",
        "\n",
        "# Similarly for confusion matrices\n",
        "for i, cm in enumerate(confusion_matrices):\n",
        "    print(f\"Confusion Matrix for Fold {i+1}:\\n{cm}\")\n",
        "\n"
      ],
      "metadata": {
        "colab": {
          "base_uri": "https://localhost:8080/"
        },
        "id": "SX0LZL5QNUJj",
        "outputId": "afad0f9b-2273-4e49-8ab2-ebc5e5ed19a6"
      },
      "execution_count": null,
      "outputs": [
        {
          "output_type": "stream",
          "name": "stdout",
          "text": [
            "Fold 1\n",
            "Fold 2\n",
            "Fold 3\n",
            "Fold 4\n",
            "Fold 5\n",
            "\n",
            "Average Accuracy: 0.844052106851216\n",
            "Average ROC-AUC Score: 0.9250566872819626\n",
            "Overall Classification Report:\n",
            "              precision    recall  f1-score   support\n",
            "\n",
            "           0       0.93      0.82      0.87      8349\n",
            "           1       0.60      0.82      0.69      2714\n",
            "\n",
            "    accuracy                           0.82     11063\n",
            "   macro avg       0.77      0.82      0.78     11063\n",
            "weighted avg       0.85      0.82      0.83     11063\n",
            "\n",
            "Overall Confusion Matrix:\n",
            "[[6868 1481]\n",
            " [ 487 2227]]\n",
            "Classification Report for Fold 1:\n",
            "              precision    recall  f1-score   support\n",
            "\n",
            "           0       0.96      0.82      0.89      6691\n",
            "           1       0.62      0.89      0.73      2160\n",
            "\n",
            "    accuracy                           0.84      8851\n",
            "   macro avg       0.79      0.86      0.81      8851\n",
            "weighted avg       0.88      0.84      0.85      8851\n",
            "\n",
            "Classification Report for Fold 2:\n",
            "              precision    recall  f1-score   support\n",
            "\n",
            "           0       0.96      0.84      0.90      6690\n",
            "           1       0.65      0.88      0.75      2161\n",
            "\n",
            "    accuracy                           0.85      8851\n",
            "   macro avg       0.80      0.86      0.82      8851\n",
            "weighted avg       0.88      0.85      0.86      8851\n",
            "\n",
            "Classification Report for Fold 3:\n",
            "              precision    recall  f1-score   support\n",
            "\n",
            "           0       0.95      0.83      0.89      6690\n",
            "           1       0.63      0.87      0.73      2160\n",
            "\n",
            "    accuracy                           0.84      8850\n",
            "   macro avg       0.79      0.85      0.81      8850\n",
            "weighted avg       0.87      0.84      0.85      8850\n",
            "\n",
            "Classification Report for Fold 4:\n",
            "              precision    recall  f1-score   support\n",
            "\n",
            "           0       0.96      0.83      0.89      6690\n",
            "           1       0.63      0.88      0.73      2160\n",
            "\n",
            "    accuracy                           0.84      8850\n",
            "   macro avg       0.79      0.86      0.81      8850\n",
            "weighted avg       0.88      0.84      0.85      8850\n",
            "\n",
            "Classification Report for Fold 5:\n",
            "              precision    recall  f1-score   support\n",
            "\n",
            "           0       0.95      0.83      0.89      6690\n",
            "           1       0.62      0.86      0.72      2160\n",
            "\n",
            "    accuracy                           0.84      8850\n",
            "   macro avg       0.79      0.85      0.81      8850\n",
            "weighted avg       0.87      0.84      0.85      8850\n",
            "\n",
            "Confusion Matrix for Fold 1:\n",
            "[[5510 1181]\n",
            " [ 234 1926]]\n",
            "Confusion Matrix for Fold 2:\n",
            "[[5650 1040]\n",
            " [ 251 1910]]\n",
            "Confusion Matrix for Fold 3:\n",
            "[[5585 1105]\n",
            " [ 281 1879]]\n",
            "Confusion Matrix for Fold 4:\n",
            "[[5554 1136]\n",
            " [ 250 1910]]\n",
            "Confusion Matrix for Fold 5:\n",
            "[[5564 1126]\n",
            " [ 297 1863]]\n"
          ]
        }
      ]
    },
    {
      "cell_type": "markdown",
      "source": [
        "#### Xgboost"
      ],
      "metadata": {
        "id": "BzpmXBJk-8Ia"
      }
    },
    {
      "cell_type": "code",
      "source": [
        "!pip install xgboost"
      ],
      "metadata": {
        "colab": {
          "base_uri": "https://localhost:8080/"
        },
        "id": "ue_9whkFeUZ0",
        "outputId": "4c94625e-1ec2-4860-ffbb-2a3dd4c261d6"
      },
      "execution_count": null,
      "outputs": [
        {
          "output_type": "stream",
          "name": "stdout",
          "text": [
            "Collecting xgboost\n",
            "  Downloading xgboost-2.1.3-py3-none-manylinux_2_28_x86_64.whl.metadata (2.1 kB)\n",
            "Requirement already satisfied: numpy in /usr/local/lib/python3.10/dist-packages (from xgboost) (1.26.4)\n",
            "Collecting nvidia-nccl-cu12 (from xgboost)\n",
            "  Downloading nvidia_nccl_cu12-2.23.4-py3-none-manylinux2014_x86_64.whl.metadata (1.8 kB)\n",
            "Requirement already satisfied: scipy in /usr/local/lib/python3.10/dist-packages (from xgboost) (1.13.1)\n",
            "Downloading xgboost-2.1.3-py3-none-manylinux_2_28_x86_64.whl (153.9 MB)\n",
            "\u001b[2K   \u001b[90m━━━━━━━━━━━━━━━━━━━━━━━━━━━━━━━━━━━━━━━━\u001b[0m \u001b[32m153.9/153.9 MB\u001b[0m \u001b[31m7.0 MB/s\u001b[0m eta \u001b[36m0:00:00\u001b[0m\n",
            "\u001b[?25hDownloading nvidia_nccl_cu12-2.23.4-py3-none-manylinux2014_x86_64.whl (199.0 MB)\n",
            "\u001b[2K   \u001b[90m━━━━━━━━━━━━━━━━━━━━━━━━━━━━━━━━━━━━━━━━\u001b[0m \u001b[32m199.0/199.0 MB\u001b[0m \u001b[31m5.3 MB/s\u001b[0m eta \u001b[36m0:00:00\u001b[0m\n",
            "\u001b[?25hInstalling collected packages: nvidia-nccl-cu12, xgboost\n",
            "Successfully installed nvidia-nccl-cu12-2.23.4 xgboost-2.1.3\n"
          ]
        }
      ]
    },
    {
      "cell_type": "code",
      "source": [
        "import xgboost as xgb\n",
        "from sklearn.metrics import accuracy_score, classification_report, roc_auc_score, confusion_matrix\n",
        "from sklearn.model_selection import train_test_split\n",
        "from sklearn.metrics import precision_recall_curve\n",
        "from imblearn.over_sampling import SMOTE\n",
        "import numpy as np\n",
        "\n",
        "# Resample training data using SMOTE\n",
        "smote = SMOTE(random_state=42)\n",
        "X_train_resampled, y_train_resampled = smote.fit_resample(X_train, y_train)\n",
        "\n",
        "feature_names = X_train_resampled.columns.tolist()\n",
        "\n",
        "# Split for early stopping\n",
        "X_train_split, X_val, y_train_split, y_val = train_test_split(X_train_resampled, y_train_resampled, test_size=0.2, random_state=42)\n",
        "\n",
        "dtrain = xgb.DMatrix(X_train_split, label=y_train_split, feature_names=feature_names)\n",
        "dval = xgb.DMatrix(X_val, label=y_val, feature_names=feature_names)\n",
        "dtest = xgb.DMatrix(X_test, label=y_test, feature_names=feature_names)\n",
        "\n",
        "params = {\n",
        "    'objective': 'binary:logistic',\n",
        "    'eval_metric': 'logloss',\n",
        "    'max_depth': 6,\n",
        "    'eta': 0.05,\n",
        "    'subsample': 0.8,\n",
        "    'colsample_bytree': 0.8,\n",
        "    'scale_pos_weight': 3,\n",
        "    'nthread': -1,\n",
        "    'seed': 42,\n",
        "    'gamma': 0.5,\n",
        "}\n",
        "\n",
        "# Train with early stopping\n",
        "watchlist = [(dtrain, 'train'), (dval, 'validation')]\n",
        "model = xgb.train(params, dtrain, num_boost_round=2000, evals=watchlist,\n",
        "                  early_stopping_rounds=50, verbose_eval=10)\n",
        "\n",
        "# Predictions\n",
        "y_pred_proba = model.predict(dtest)\n",
        "\n",
        "# Threshold tuning\n",
        "precision, recall, thresholds = precision_recall_curve(y_test, y_pred_proba)\n",
        "f1_scores = 2 * (precision * recall) / (precision + recall)\n",
        "# optimal_threshold = thresholds[np.argmax(f1_scores)]\n",
        "\n",
        "y_pred_binary = (y_pred_proba > 0.3).astype(int)\n",
        "\n",
        "# Evaluate\n",
        "accuracy = accuracy_score(y_test, y_pred_binary)\n",
        "roc_auc = roc_auc_score(y_test, y_pred_proba)\n",
        "print(f\"Accuracy: {accuracy}\")\n",
        "print(f\"ROC-AUC Score: {roc_auc}\")\n",
        "print(\"Classification Report:\")\n",
        "print(classification_report(y_test, y_pred_binary))\n",
        "print(\"Confusion Matrix:\")\n",
        "print(confusion_matrix(y_test, y_pred_binary))\n"
      ],
      "metadata": {
        "colab": {
          "base_uri": "https://localhost:8080/"
        },
        "id": "6VHtfZiS-7Om",
        "outputId": "8d146497-8719-4fa1-dac7-a7107b98444d"
      },
      "execution_count": null,
      "outputs": [
        {
          "output_type": "stream",
          "name": "stdout",
          "text": [
            "[0]\ttrain-logloss:0.76665\tvalidation-logloss:0.77010\n",
            "[10]\ttrain-logloss:0.52050\tvalidation-logloss:0.52350\n",
            "[20]\ttrain-logloss:0.41661\tvalidation-logloss:0.42066\n",
            "[30]\ttrain-logloss:0.35836\tvalidation-logloss:0.36407\n",
            "[40]\ttrain-logloss:0.32082\tvalidation-logloss:0.32833\n",
            "[50]\ttrain-logloss:0.29443\tvalidation-logloss:0.30411\n",
            "[60]\ttrain-logloss:0.27623\tvalidation-logloss:0.28884\n",
            "[70]\ttrain-logloss:0.26080\tvalidation-logloss:0.27593\n",
            "[80]\ttrain-logloss:0.24873\tvalidation-logloss:0.26668\n",
            "[90]\ttrain-logloss:0.23855\tvalidation-logloss:0.25921\n",
            "[100]\ttrain-logloss:0.23059\tvalidation-logloss:0.25368\n",
            "[110]\ttrain-logloss:0.22230\tvalidation-logloss:0.24842\n",
            "[120]\ttrain-logloss:0.21556\tvalidation-logloss:0.24463\n",
            "[130]\ttrain-logloss:0.20950\tvalidation-logloss:0.24151\n",
            "[140]\ttrain-logloss:0.20415\tvalidation-logloss:0.23853\n",
            "[150]\ttrain-logloss:0.19851\tvalidation-logloss:0.23588\n",
            "[160]\ttrain-logloss:0.19416\tvalidation-logloss:0.23436\n",
            "[170]\ttrain-logloss:0.18943\tvalidation-logloss:0.23232\n",
            "[180]\ttrain-logloss:0.18514\tvalidation-logloss:0.23065\n",
            "[190]\ttrain-logloss:0.18105\tvalidation-logloss:0.22915\n",
            "[200]\ttrain-logloss:0.17765\tvalidation-logloss:0.22780\n",
            "[210]\ttrain-logloss:0.17429\tvalidation-logloss:0.22683\n",
            "[220]\ttrain-logloss:0.17081\tvalidation-logloss:0.22566\n",
            "[230]\ttrain-logloss:0.16729\tvalidation-logloss:0.22456\n",
            "[240]\ttrain-logloss:0.16387\tvalidation-logloss:0.22376\n",
            "[250]\ttrain-logloss:0.16047\tvalidation-logloss:0.22272\n",
            "[260]\ttrain-logloss:0.15765\tvalidation-logloss:0.22192\n",
            "[270]\ttrain-logloss:0.15456\tvalidation-logloss:0.22089\n",
            "[280]\ttrain-logloss:0.15206\tvalidation-logloss:0.22020\n",
            "[290]\ttrain-logloss:0.14908\tvalidation-logloss:0.21944\n",
            "[300]\ttrain-logloss:0.14632\tvalidation-logloss:0.21868\n",
            "[310]\ttrain-logloss:0.14390\tvalidation-logloss:0.21808\n",
            "[320]\ttrain-logloss:0.14115\tvalidation-logloss:0.21718\n",
            "[330]\ttrain-logloss:0.13884\tvalidation-logloss:0.21679\n",
            "[340]\ttrain-logloss:0.13645\tvalidation-logloss:0.21626\n",
            "[350]\ttrain-logloss:0.13446\tvalidation-logloss:0.21584\n",
            "[360]\ttrain-logloss:0.13215\tvalidation-logloss:0.21534\n",
            "[370]\ttrain-logloss:0.13016\tvalidation-logloss:0.21467\n",
            "[380]\ttrain-logloss:0.12763\tvalidation-logloss:0.21404\n",
            "[390]\ttrain-logloss:0.12542\tvalidation-logloss:0.21337\n",
            "[400]\ttrain-logloss:0.12326\tvalidation-logloss:0.21287\n",
            "[410]\ttrain-logloss:0.12106\tvalidation-logloss:0.21235\n",
            "[420]\ttrain-logloss:0.11882\tvalidation-logloss:0.21190\n",
            "[430]\ttrain-logloss:0.11710\tvalidation-logloss:0.21154\n",
            "[440]\ttrain-logloss:0.11520\tvalidation-logloss:0.21109\n",
            "[450]\ttrain-logloss:0.11315\tvalidation-logloss:0.21079\n",
            "[460]\ttrain-logloss:0.11145\tvalidation-logloss:0.21048\n",
            "[470]\ttrain-logloss:0.10966\tvalidation-logloss:0.21020\n",
            "[480]\ttrain-logloss:0.10760\tvalidation-logloss:0.20977\n",
            "[490]\ttrain-logloss:0.10594\tvalidation-logloss:0.20939\n",
            "[500]\ttrain-logloss:0.10431\tvalidation-logloss:0.20913\n",
            "[510]\ttrain-logloss:0.10277\tvalidation-logloss:0.20918\n",
            "[520]\ttrain-logloss:0.10126\tvalidation-logloss:0.20890\n",
            "[530]\ttrain-logloss:0.09948\tvalidation-logloss:0.20834\n",
            "[540]\ttrain-logloss:0.09793\tvalidation-logloss:0.20794\n",
            "[550]\ttrain-logloss:0.09655\tvalidation-logloss:0.20765\n",
            "[560]\ttrain-logloss:0.09504\tvalidation-logloss:0.20724\n",
            "[570]\ttrain-logloss:0.09370\tvalidation-logloss:0.20681\n",
            "[580]\ttrain-logloss:0.09221\tvalidation-logloss:0.20669\n",
            "[590]\ttrain-logloss:0.09065\tvalidation-logloss:0.20653\n",
            "[600]\ttrain-logloss:0.08909\tvalidation-logloss:0.20628\n",
            "[610]\ttrain-logloss:0.08760\tvalidation-logloss:0.20614\n",
            "[620]\ttrain-logloss:0.08634\tvalidation-logloss:0.20577\n",
            "[630]\ttrain-logloss:0.08515\tvalidation-logloss:0.20578\n",
            "[640]\ttrain-logloss:0.08377\tvalidation-logloss:0.20571\n",
            "[650]\ttrain-logloss:0.08240\tvalidation-logloss:0.20565\n",
            "[660]\ttrain-logloss:0.08129\tvalidation-logloss:0.20548\n",
            "[670]\ttrain-logloss:0.07991\tvalidation-logloss:0.20534\n",
            "[680]\ttrain-logloss:0.07865\tvalidation-logloss:0.20516\n",
            "[690]\ttrain-logloss:0.07738\tvalidation-logloss:0.20481\n",
            "[700]\ttrain-logloss:0.07627\tvalidation-logloss:0.20467\n",
            "[710]\ttrain-logloss:0.07495\tvalidation-logloss:0.20447\n",
            "[720]\ttrain-logloss:0.07389\tvalidation-logloss:0.20428\n",
            "[730]\ttrain-logloss:0.07275\tvalidation-logloss:0.20414\n",
            "[740]\ttrain-logloss:0.07155\tvalidation-logloss:0.20412\n",
            "[750]\ttrain-logloss:0.07041\tvalidation-logloss:0.20399\n",
            "[760]\ttrain-logloss:0.06934\tvalidation-logloss:0.20406\n",
            "[770]\ttrain-logloss:0.06829\tvalidation-logloss:0.20378\n",
            "[780]\ttrain-logloss:0.06720\tvalidation-logloss:0.20359\n",
            "[790]\ttrain-logloss:0.06617\tvalidation-logloss:0.20346\n",
            "[800]\ttrain-logloss:0.06524\tvalidation-logloss:0.20348\n",
            "[810]\ttrain-logloss:0.06441\tvalidation-logloss:0.20339\n",
            "[820]\ttrain-logloss:0.06333\tvalidation-logloss:0.20309\n",
            "[830]\ttrain-logloss:0.06244\tvalidation-logloss:0.20313\n",
            "[840]\ttrain-logloss:0.06149\tvalidation-logloss:0.20316\n",
            "[850]\ttrain-logloss:0.06042\tvalidation-logloss:0.20310\n",
            "[860]\ttrain-logloss:0.05931\tvalidation-logloss:0.20304\n",
            "[870]\ttrain-logloss:0.05825\tvalidation-logloss:0.20299\n",
            "[880]\ttrain-logloss:0.05736\tvalidation-logloss:0.20273\n",
            "[890]\ttrain-logloss:0.05629\tvalidation-logloss:0.20257\n",
            "[900]\ttrain-logloss:0.05538\tvalidation-logloss:0.20244\n",
            "[910]\ttrain-logloss:0.05458\tvalidation-logloss:0.20249\n",
            "[920]\ttrain-logloss:0.05366\tvalidation-logloss:0.20249\n",
            "[930]\ttrain-logloss:0.05288\tvalidation-logloss:0.20250\n",
            "[940]\ttrain-logloss:0.05207\tvalidation-logloss:0.20244\n",
            "[945]\ttrain-logloss:0.05174\tvalidation-logloss:0.20256\n",
            "Accuracy: 0.7743830787309048\n",
            "ROC-AUC Score: 0.867933583315835\n",
            "Classification Report:\n",
            "              precision    recall  f1-score   support\n",
            "\n",
            "           0       0.77      0.99      0.87      8349\n",
            "           1       0.83      0.10      0.18      2714\n",
            "\n",
            "    accuracy                           0.77     11063\n",
            "   macro avg       0.80      0.55      0.52     11063\n",
            "weighted avg       0.79      0.77      0.70     11063\n",
            "\n",
            "Confusion Matrix:\n",
            "[[8294   55]\n",
            " [2441  273]]\n"
          ]
        }
      ]
    },
    {
      "cell_type": "markdown",
      "source": [
        "#### XGboost with hyperparameter tuining"
      ],
      "metadata": {
        "id": "04hcBtJ8XQxs"
      }
    },
    {
      "cell_type": "code",
      "source": [
        "import xgboost as xgb\n",
        "from sklearn.model_selection import GridSearchCV\n",
        "from sklearn.metrics import make_scorer, precision_score, recall_score, f1_score, precision_recall_curve\n",
        "\n",
        "\n",
        "# Define the parameter grid for hyperparameter tuning\n",
        "param_grid = {\n",
        "    'max_depth': [3, 5, 7],\n",
        "    'learning_rate': [0.01, 0.1, 0.3],\n",
        "    'n_estimators': [50, 100, 200],\n",
        "    'subsample': [0.8, 0.9, 1.0],\n",
        "    'colsample_bytree': [0.8, 0.9, 1.0],\n",
        "    'gamma': [0, 0.1, 0.5],\n",
        "    'scale_pos_weight': [1, 3, 5]\n",
        "}\n",
        "\n",
        "# Define the scoring metric (in this case, F1-score)\n",
        "scoring = {\n",
        "    'precision': make_scorer(precision_score),\n",
        "    'recall': make_scorer(recall_score),\n",
        "    'f1': make_scorer(f1_score),\n",
        "}\n",
        "\n",
        "\n",
        "# Initialize the XGBoost classifier\n",
        "xgb_model = xgb.XGBClassifier(objective='binary:logistic', eval_metric='logloss', seed=42, use_label_encoder=False)\n",
        "\n",
        "# Perform GridSearchCV\n",
        "grid_search = GridSearchCV(estimator=xgb_model, param_grid=param_grid, scoring=scoring, refit='f1', cv=3, n_jobs=-1, verbose=2)\n",
        "grid_search.fit(X_train_resampled, y_train_resampled)\n",
        "\n",
        "\n",
        "# Get the best hyperparameters and best score\n",
        "best_params = grid_search.best_params_\n",
        "best_f1_score = grid_search.best_score_\n",
        "best_precision = grid_search.cv_results_['mean_test_precision'][grid_search.best_index_]\n",
        "best_recall = grid_search.cv_results_['mean_test_recall'][grid_search.best_index_]\n",
        "print(f\"Best Hyperparameters: {best_params}\")\n",
        "print(f\"Best F1-score: {best_f1_score}\")\n",
        "print(f\"Best Precision: {best_precision}\")\n",
        "print(f\"Best Recall: {best_recall}\")\n",
        "\n",
        "# Train the model with the best hyperparameters\n",
        "best_xgb_model = xgb.XGBClassifier(**best_params, objective='binary:logistic', eval_metric='logloss', seed=42, use_label_encoder=False)\n",
        "best_xgb_model.fit(X_train_resampled, y_train_resampled)\n",
        "\n",
        "\n",
        "# Predict probabilities on the test set\n",
        "y_pred_proba = best_xgb_model.predict_proba(X_test)[:, 1]\n",
        "\n",
        "\n",
        "#Find the optimal threshold\n",
        "precision, recall, thresholds = precision_recall_curve(y_test, y_pred_proba)\n",
        "f1_scores = 2 * (precision * recall) / (precision + recall)\n",
        "optimal_threshold = thresholds[np.argmax(f1_scores)]\n",
        "\n",
        "\n",
        "# Make predictions with the optimal threshold\n",
        "y_pred_binary = (y_pred_proba >= optimal_threshold).astype(int)\n",
        "\n",
        "# Evaluate with the optimal threshold\n",
        "accuracy = accuracy_score(y_test, y_pred_binary)\n",
        "roc_auc = roc_auc_score(y_test, y_pred_proba)\n",
        "print(f\"Accuracy: {accuracy}\")\n",
        "print(f\"ROC-AUC Score: {roc_auc}\")\n",
        "print(\"Classification Report:\")\n",
        "print(classification_report(y_test, y_pred_binary))\n",
        "print(\"Confusion Matrix:\")\n",
        "print(confusion_matrix(y_test, y_pred_binary))"
      ],
      "metadata": {
        "id": "CCyswpgGXPyZ",
        "colab": {
          "base_uri": "https://localhost:8080/",
          "height": 382
        },
        "outputId": "e09d6e15-c9a0-49cf-eaa6-0925273df0a1"
      },
      "execution_count": null,
      "outputs": [
        {
          "output_type": "stream",
          "name": "stdout",
          "text": [
            "Fitting 3 folds for each of 2187 candidates, totalling 6561 fits\n"
          ]
        },
        {
          "output_type": "error",
          "ename": "KeyboardInterrupt",
          "evalue": "",
          "traceback": [
            "\u001b[0;31m---------------------------------------------------------------------------\u001b[0m",
            "\u001b[0;31mKeyboardInterrupt\u001b[0m                         Traceback (most recent call last)",
            "\u001b[0;32m<ipython-input-50-67ff40e0f16c>\u001b[0m in \u001b[0;36m<cell line: 30>\u001b[0;34m()\u001b[0m\n\u001b[1;32m     28\u001b[0m \u001b[0;31m# Perform GridSearchCV\u001b[0m\u001b[0;34m\u001b[0m\u001b[0;34m\u001b[0m\u001b[0m\n\u001b[1;32m     29\u001b[0m \u001b[0mgrid_search\u001b[0m \u001b[0;34m=\u001b[0m \u001b[0mGridSearchCV\u001b[0m\u001b[0;34m(\u001b[0m\u001b[0mestimator\u001b[0m\u001b[0;34m=\u001b[0m\u001b[0mxgb_model\u001b[0m\u001b[0;34m,\u001b[0m \u001b[0mparam_grid\u001b[0m\u001b[0;34m=\u001b[0m\u001b[0mparam_grid\u001b[0m\u001b[0;34m,\u001b[0m \u001b[0mscoring\u001b[0m\u001b[0;34m=\u001b[0m\u001b[0mscoring\u001b[0m\u001b[0;34m,\u001b[0m \u001b[0mrefit\u001b[0m\u001b[0;34m=\u001b[0m\u001b[0;34m'f1'\u001b[0m\u001b[0;34m,\u001b[0m \u001b[0mcv\u001b[0m\u001b[0;34m=\u001b[0m\u001b[0;36m3\u001b[0m\u001b[0;34m,\u001b[0m \u001b[0mn_jobs\u001b[0m\u001b[0;34m=\u001b[0m\u001b[0;34m-\u001b[0m\u001b[0;36m1\u001b[0m\u001b[0;34m,\u001b[0m \u001b[0mverbose\u001b[0m\u001b[0;34m=\u001b[0m\u001b[0;36m2\u001b[0m\u001b[0;34m)\u001b[0m\u001b[0;34m\u001b[0m\u001b[0;34m\u001b[0m\u001b[0m\n\u001b[0;32m---> 30\u001b[0;31m \u001b[0mgrid_search\u001b[0m\u001b[0;34m.\u001b[0m\u001b[0mfit\u001b[0m\u001b[0;34m(\u001b[0m\u001b[0mX_train_resampled\u001b[0m\u001b[0;34m,\u001b[0m \u001b[0my_train_resampled\u001b[0m\u001b[0;34m)\u001b[0m\u001b[0;34m\u001b[0m\u001b[0;34m\u001b[0m\u001b[0m\n\u001b[0m\u001b[1;32m     31\u001b[0m \u001b[0;34m\u001b[0m\u001b[0m\n\u001b[1;32m     32\u001b[0m \u001b[0;34m\u001b[0m\u001b[0m\n",
            "\u001b[0;32m/usr/local/lib/python3.10/dist-packages/sklearn/base.py\u001b[0m in \u001b[0;36mwrapper\u001b[0;34m(estimator, *args, **kwargs)\u001b[0m\n\u001b[1;32m   1471\u001b[0m                 )\n\u001b[1;32m   1472\u001b[0m             ):\n\u001b[0;32m-> 1473\u001b[0;31m                 \u001b[0;32mreturn\u001b[0m \u001b[0mfit_method\u001b[0m\u001b[0;34m(\u001b[0m\u001b[0mestimator\u001b[0m\u001b[0;34m,\u001b[0m \u001b[0;34m*\u001b[0m\u001b[0margs\u001b[0m\u001b[0;34m,\u001b[0m \u001b[0;34m**\u001b[0m\u001b[0mkwargs\u001b[0m\u001b[0;34m)\u001b[0m\u001b[0;34m\u001b[0m\u001b[0;34m\u001b[0m\u001b[0m\n\u001b[0m\u001b[1;32m   1474\u001b[0m \u001b[0;34m\u001b[0m\u001b[0m\n\u001b[1;32m   1475\u001b[0m         \u001b[0;32mreturn\u001b[0m \u001b[0mwrapper\u001b[0m\u001b[0;34m\u001b[0m\u001b[0;34m\u001b[0m\u001b[0m\n",
            "\u001b[0;32m/usr/local/lib/python3.10/dist-packages/sklearn/model_selection/_search.py\u001b[0m in \u001b[0;36mfit\u001b[0;34m(self, X, y, **params)\u001b[0m\n\u001b[1;32m   1017\u001b[0m                 \u001b[0;32mreturn\u001b[0m \u001b[0mresults\u001b[0m\u001b[0;34m\u001b[0m\u001b[0;34m\u001b[0m\u001b[0m\n\u001b[1;32m   1018\u001b[0m \u001b[0;34m\u001b[0m\u001b[0m\n\u001b[0;32m-> 1019\u001b[0;31m             \u001b[0mself\u001b[0m\u001b[0;34m.\u001b[0m\u001b[0m_run_search\u001b[0m\u001b[0;34m(\u001b[0m\u001b[0mevaluate_candidates\u001b[0m\u001b[0;34m)\u001b[0m\u001b[0;34m\u001b[0m\u001b[0;34m\u001b[0m\u001b[0m\n\u001b[0m\u001b[1;32m   1020\u001b[0m \u001b[0;34m\u001b[0m\u001b[0m\n\u001b[1;32m   1021\u001b[0m             \u001b[0;31m# multimetric is determined here because in the case of a callable\u001b[0m\u001b[0;34m\u001b[0m\u001b[0;34m\u001b[0m\u001b[0m\n",
            "\u001b[0;32m/usr/local/lib/python3.10/dist-packages/sklearn/model_selection/_search.py\u001b[0m in \u001b[0;36m_run_search\u001b[0;34m(self, evaluate_candidates)\u001b[0m\n\u001b[1;32m   1571\u001b[0m     \u001b[0;32mdef\u001b[0m \u001b[0m_run_search\u001b[0m\u001b[0;34m(\u001b[0m\u001b[0mself\u001b[0m\u001b[0;34m,\u001b[0m \u001b[0mevaluate_candidates\u001b[0m\u001b[0;34m)\u001b[0m\u001b[0;34m:\u001b[0m\u001b[0;34m\u001b[0m\u001b[0;34m\u001b[0m\u001b[0m\n\u001b[1;32m   1572\u001b[0m         \u001b[0;34m\"\"\"Search all candidates in param_grid\"\"\"\u001b[0m\u001b[0;34m\u001b[0m\u001b[0;34m\u001b[0m\u001b[0m\n\u001b[0;32m-> 1573\u001b[0;31m         \u001b[0mevaluate_candidates\u001b[0m\u001b[0;34m(\u001b[0m\u001b[0mParameterGrid\u001b[0m\u001b[0;34m(\u001b[0m\u001b[0mself\u001b[0m\u001b[0;34m.\u001b[0m\u001b[0mparam_grid\u001b[0m\u001b[0;34m)\u001b[0m\u001b[0;34m)\u001b[0m\u001b[0;34m\u001b[0m\u001b[0;34m\u001b[0m\u001b[0m\n\u001b[0m\u001b[1;32m   1574\u001b[0m \u001b[0;34m\u001b[0m\u001b[0m\n\u001b[1;32m   1575\u001b[0m \u001b[0;34m\u001b[0m\u001b[0m\n",
            "\u001b[0;32m/usr/local/lib/python3.10/dist-packages/sklearn/model_selection/_search.py\u001b[0m in \u001b[0;36mevaluate_candidates\u001b[0;34m(candidate_params, cv, more_results)\u001b[0m\n\u001b[1;32m    963\u001b[0m                     )\n\u001b[1;32m    964\u001b[0m \u001b[0;34m\u001b[0m\u001b[0m\n\u001b[0;32m--> 965\u001b[0;31m                 out = parallel(\n\u001b[0m\u001b[1;32m    966\u001b[0m                     delayed(_fit_and_score)(\n\u001b[1;32m    967\u001b[0m                         \u001b[0mclone\u001b[0m\u001b[0;34m(\u001b[0m\u001b[0mbase_estimator\u001b[0m\u001b[0;34m)\u001b[0m\u001b[0;34m,\u001b[0m\u001b[0;34m\u001b[0m\u001b[0;34m\u001b[0m\u001b[0m\n",
            "\u001b[0;32m/usr/local/lib/python3.10/dist-packages/sklearn/utils/parallel.py\u001b[0m in \u001b[0;36m__call__\u001b[0;34m(self, iterable)\u001b[0m\n\u001b[1;32m     72\u001b[0m             \u001b[0;32mfor\u001b[0m \u001b[0mdelayed_func\u001b[0m\u001b[0;34m,\u001b[0m \u001b[0margs\u001b[0m\u001b[0;34m,\u001b[0m \u001b[0mkwargs\u001b[0m \u001b[0;32min\u001b[0m \u001b[0miterable\u001b[0m\u001b[0;34m\u001b[0m\u001b[0;34m\u001b[0m\u001b[0m\n\u001b[1;32m     73\u001b[0m         )\n\u001b[0;32m---> 74\u001b[0;31m         \u001b[0;32mreturn\u001b[0m \u001b[0msuper\u001b[0m\u001b[0;34m(\u001b[0m\u001b[0;34m)\u001b[0m\u001b[0;34m.\u001b[0m\u001b[0m__call__\u001b[0m\u001b[0;34m(\u001b[0m\u001b[0miterable_with_config\u001b[0m\u001b[0;34m)\u001b[0m\u001b[0;34m\u001b[0m\u001b[0;34m\u001b[0m\u001b[0m\n\u001b[0m\u001b[1;32m     75\u001b[0m \u001b[0;34m\u001b[0m\u001b[0m\n\u001b[1;32m     76\u001b[0m \u001b[0;34m\u001b[0m\u001b[0m\n",
            "\u001b[0;32m/usr/local/lib/python3.10/dist-packages/joblib/parallel.py\u001b[0m in \u001b[0;36m__call__\u001b[0;34m(self, iterable)\u001b[0m\n\u001b[1;32m   2005\u001b[0m         \u001b[0mnext\u001b[0m\u001b[0;34m(\u001b[0m\u001b[0moutput\u001b[0m\u001b[0;34m)\u001b[0m\u001b[0;34m\u001b[0m\u001b[0;34m\u001b[0m\u001b[0m\n\u001b[1;32m   2006\u001b[0m \u001b[0;34m\u001b[0m\u001b[0m\n\u001b[0;32m-> 2007\u001b[0;31m         \u001b[0;32mreturn\u001b[0m \u001b[0moutput\u001b[0m \u001b[0;32mif\u001b[0m \u001b[0mself\u001b[0m\u001b[0;34m.\u001b[0m\u001b[0mreturn_generator\u001b[0m \u001b[0;32melse\u001b[0m \u001b[0mlist\u001b[0m\u001b[0;34m(\u001b[0m\u001b[0moutput\u001b[0m\u001b[0;34m)\u001b[0m\u001b[0;34m\u001b[0m\u001b[0;34m\u001b[0m\u001b[0m\n\u001b[0m\u001b[1;32m   2008\u001b[0m \u001b[0;34m\u001b[0m\u001b[0m\n\u001b[1;32m   2009\u001b[0m     \u001b[0;32mdef\u001b[0m \u001b[0m__repr__\u001b[0m\u001b[0;34m(\u001b[0m\u001b[0mself\u001b[0m\u001b[0;34m)\u001b[0m\u001b[0;34m:\u001b[0m\u001b[0;34m\u001b[0m\u001b[0;34m\u001b[0m\u001b[0m\n",
            "\u001b[0;32m/usr/local/lib/python3.10/dist-packages/joblib/parallel.py\u001b[0m in \u001b[0;36m_get_outputs\u001b[0;34m(self, iterator, pre_dispatch)\u001b[0m\n\u001b[1;32m   1648\u001b[0m \u001b[0;34m\u001b[0m\u001b[0m\n\u001b[1;32m   1649\u001b[0m             \u001b[0;32mwith\u001b[0m \u001b[0mself\u001b[0m\u001b[0;34m.\u001b[0m\u001b[0m_backend\u001b[0m\u001b[0;34m.\u001b[0m\u001b[0mretrieval_context\u001b[0m\u001b[0;34m(\u001b[0m\u001b[0;34m)\u001b[0m\u001b[0;34m:\u001b[0m\u001b[0;34m\u001b[0m\u001b[0;34m\u001b[0m\u001b[0m\n\u001b[0;32m-> 1650\u001b[0;31m                 \u001b[0;32myield\u001b[0m \u001b[0;32mfrom\u001b[0m \u001b[0mself\u001b[0m\u001b[0;34m.\u001b[0m\u001b[0m_retrieve\u001b[0m\u001b[0;34m(\u001b[0m\u001b[0;34m)\u001b[0m\u001b[0;34m\u001b[0m\u001b[0;34m\u001b[0m\u001b[0m\n\u001b[0m\u001b[1;32m   1651\u001b[0m \u001b[0;34m\u001b[0m\u001b[0m\n\u001b[1;32m   1652\u001b[0m         \u001b[0;32mexcept\u001b[0m \u001b[0mGeneratorExit\u001b[0m\u001b[0;34m:\u001b[0m\u001b[0;34m\u001b[0m\u001b[0;34m\u001b[0m\u001b[0m\n",
            "\u001b[0;32m/usr/local/lib/python3.10/dist-packages/joblib/parallel.py\u001b[0m in \u001b[0;36m_retrieve\u001b[0;34m(self)\u001b[0m\n\u001b[1;32m   1760\u001b[0m                 (self._jobs[0].get_status(\n\u001b[1;32m   1761\u001b[0m                     timeout=self.timeout) == TASK_PENDING)):\n\u001b[0;32m-> 1762\u001b[0;31m                 \u001b[0mtime\u001b[0m\u001b[0;34m.\u001b[0m\u001b[0msleep\u001b[0m\u001b[0;34m(\u001b[0m\u001b[0;36m0.01\u001b[0m\u001b[0;34m)\u001b[0m\u001b[0;34m\u001b[0m\u001b[0;34m\u001b[0m\u001b[0m\n\u001b[0m\u001b[1;32m   1763\u001b[0m                 \u001b[0;32mcontinue\u001b[0m\u001b[0;34m\u001b[0m\u001b[0;34m\u001b[0m\u001b[0m\n\u001b[1;32m   1764\u001b[0m \u001b[0;34m\u001b[0m\u001b[0m\n",
            "\u001b[0;31mKeyboardInterrupt\u001b[0m: "
          ]
        }
      ]
    },
    {
      "cell_type": "markdown",
      "source": [
        "#### Xgboost with some tuned parameters"
      ],
      "metadata": {
        "id": "pJVbo0RQQOjt"
      }
    },
    {
      "cell_type": "code",
      "source": [
        "import xgboost as xgb\n",
        "from sklearn.metrics import accuracy_score, classification_report, roc_auc_score, confusion_matrix\n",
        "from sklearn.model_selection import train_test_split\n",
        "from sklearn.metrics import precision_recall_curve\n",
        "from imblearn.over_sampling import SMOTE\n",
        "import numpy as np\n",
        "\n",
        "# Resample training data using SMOTE\n",
        "smote = SMOTE(random_state=42)\n",
        "X_train_resampled, y_train_resampled = smote.fit_resample(X_train, y_train)\n",
        "\n",
        "feature_names = X_train_resampled.columns.tolist()\n",
        "\n",
        "# Split for early stopping\n",
        "X_train_split, X_val, y_train_split, y_val = train_test_split(X_train_resampled, y_train_resampled, test_size=0.2, random_state=42)\n",
        "\n",
        "dtrain = xgb.DMatrix(X_train_split, label=y_train_split, feature_names=feature_names)\n",
        "dval = xgb.DMatrix(X_val, label=y_val, feature_names=feature_names)\n",
        "dtest = xgb.DMatrix(X_test, label=y_test, feature_names=feature_names)\n",
        "\n",
        "params = {\n",
        "    'objective': 'binary:logistic',\n",
        "    'eval_metric': 'logloss',\n",
        "    'max_depth': 6,\n",
        "    'eta': 0.03,  # Lower learning rate\n",
        "    'subsample': 0.85,  # Slightly reduced for better generalization\n",
        "    'colsample_bytree': 0.85,\n",
        "    'scale_pos_weight': 3.3,  # Fine-tuned\n",
        "    'lambda': 2,  # Added L2 regularization\n",
        "    'alpha': 0.5,  # Added L1 regularization\n",
        "    'nthread': -1,\n",
        "    'seed': 42,\n",
        "    'gamma': 0.5,\n",
        "}\n",
        "\n",
        "# Train with early stopping\n",
        "watchlist = [(dtrain, 'train'), (dval, 'validation')]\n",
        "model = xgb.train(params, dtrain, num_boost_round=2000, evals=watchlist,\n",
        "                  early_stopping_rounds=50, verbose_eval=10)\n",
        "\n",
        "# Predictions\n",
        "y_pred_proba = model.predict(dtest)\n",
        "\n",
        "# Threshold tuning\n",
        "precision, recall, thresholds = precision_recall_curve(y_test, y_pred_proba)\n",
        "f1_scores = 2 * (precision * recall) / (precision + recall)\n",
        "# optimal_threshold = thresholds[np.argmax(f1_scores)]\n",
        "\n",
        "y_pred_binary = (y_pred_proba > 0.3).astype(int)\n",
        "\n",
        "# Evaluate\n",
        "accuracy = accuracy_score(y_test, y_pred_binary)\n",
        "roc_auc = roc_auc_score(y_test, y_pred_proba)\n",
        "print(f\"Accuracy: {accuracy}\")\n",
        "print(f\"ROC-AUC Score: {roc_auc}\")\n",
        "print(\"Classification Report:\")\n",
        "print(classification_report(y_test, y_pred_binary))\n",
        "print(\"Confusion Matrix:\")\n",
        "print(confusion_matrix(y_test, y_pred_binary))\n"
      ],
      "metadata": {
        "id": "WZulZ9fKfMvO",
        "colab": {
          "base_uri": "https://localhost:8080/"
        },
        "outputId": "68d247e7-69d6-4540-f6ac-49c7f196e29f"
      },
      "execution_count": null,
      "outputs": [
        {
          "output_type": "stream",
          "name": "stdout",
          "text": [
            "[0]\ttrain-logloss:0.80026\tvalidation-logloss:0.80400\n",
            "[10]\ttrain-logloss:0.61131\tvalidation-logloss:0.61404\n",
            "[20]\ttrain-logloss:0.50886\tvalidation-logloss:0.51180\n",
            "[30]\ttrain-logloss:0.44492\tvalidation-logloss:0.44877\n",
            "[40]\ttrain-logloss:0.40094\tvalidation-logloss:0.40548\n",
            "[50]\ttrain-logloss:0.36818\tvalidation-logloss:0.37354\n",
            "[60]\ttrain-logloss:0.34421\tvalidation-logloss:0.35069\n",
            "[70]\ttrain-logloss:0.32462\tvalidation-logloss:0.33230\n",
            "[80]\ttrain-logloss:0.30887\tvalidation-logloss:0.31786\n",
            "[90]\ttrain-logloss:0.29604\tvalidation-logloss:0.30631\n",
            "[100]\ttrain-logloss:0.28514\tvalidation-logloss:0.29687\n",
            "[110]\ttrain-logloss:0.27575\tvalidation-logloss:0.28936\n",
            "[120]\ttrain-logloss:0.26734\tvalidation-logloss:0.28219\n",
            "[130]\ttrain-logloss:0.26031\tvalidation-logloss:0.27652\n",
            "[140]\ttrain-logloss:0.25314\tvalidation-logloss:0.27087\n",
            "[150]\ttrain-logloss:0.24699\tvalidation-logloss:0.26601\n",
            "[160]\ttrain-logloss:0.24159\tvalidation-logloss:0.26220\n",
            "[170]\ttrain-logloss:0.23683\tvalidation-logloss:0.25876\n",
            "[180]\ttrain-logloss:0.23194\tvalidation-logloss:0.25548\n",
            "[190]\ttrain-logloss:0.22726\tvalidation-logloss:0.25238\n",
            "[200]\ttrain-logloss:0.22346\tvalidation-logloss:0.25016\n",
            "[210]\ttrain-logloss:0.21950\tvalidation-logloss:0.24753\n",
            "[220]\ttrain-logloss:0.21564\tvalidation-logloss:0.24537\n",
            "[230]\ttrain-logloss:0.21228\tvalidation-logloss:0.24379\n",
            "[240]\ttrain-logloss:0.20920\tvalidation-logloss:0.24240\n",
            "[250]\ttrain-logloss:0.20615\tvalidation-logloss:0.24078\n",
            "[260]\ttrain-logloss:0.20326\tvalidation-logloss:0.23928\n",
            "[270]\ttrain-logloss:0.20065\tvalidation-logloss:0.23815\n",
            "[280]\ttrain-logloss:0.19813\tvalidation-logloss:0.23709\n",
            "[290]\ttrain-logloss:0.19586\tvalidation-logloss:0.23621\n",
            "[300]\ttrain-logloss:0.19345\tvalidation-logloss:0.23511\n",
            "[310]\ttrain-logloss:0.19101\tvalidation-logloss:0.23407\n",
            "[320]\ttrain-logloss:0.18842\tvalidation-logloss:0.23296\n",
            "[330]\ttrain-logloss:0.18625\tvalidation-logloss:0.23208\n",
            "[340]\ttrain-logloss:0.18395\tvalidation-logloss:0.23129\n",
            "[350]\ttrain-logloss:0.18191\tvalidation-logloss:0.23051\n",
            "[360]\ttrain-logloss:0.17974\tvalidation-logloss:0.22970\n",
            "[370]\ttrain-logloss:0.17767\tvalidation-logloss:0.22889\n",
            "[380]\ttrain-logloss:0.17571\tvalidation-logloss:0.22822\n",
            "[390]\ttrain-logloss:0.17359\tvalidation-logloss:0.22749\n",
            "[400]\ttrain-logloss:0.17172\tvalidation-logloss:0.22686\n",
            "[410]\ttrain-logloss:0.16978\tvalidation-logloss:0.22618\n",
            "[420]\ttrain-logloss:0.16769\tvalidation-logloss:0.22552\n",
            "[430]\ttrain-logloss:0.16589\tvalidation-logloss:0.22491\n",
            "[440]\ttrain-logloss:0.16392\tvalidation-logloss:0.22425\n",
            "[450]\ttrain-logloss:0.16202\tvalidation-logloss:0.22362\n",
            "[460]\ttrain-logloss:0.16044\tvalidation-logloss:0.22324\n",
            "[470]\ttrain-logloss:0.15882\tvalidation-logloss:0.22286\n",
            "[480]\ttrain-logloss:0.15722\tvalidation-logloss:0.22243\n",
            "[490]\ttrain-logloss:0.15550\tvalidation-logloss:0.22177\n",
            "[500]\ttrain-logloss:0.15388\tvalidation-logloss:0.22125\n",
            "[510]\ttrain-logloss:0.15248\tvalidation-logloss:0.22083\n",
            "[520]\ttrain-logloss:0.15098\tvalidation-logloss:0.22036\n",
            "[530]\ttrain-logloss:0.14952\tvalidation-logloss:0.21999\n",
            "[540]\ttrain-logloss:0.14807\tvalidation-logloss:0.21954\n",
            "[550]\ttrain-logloss:0.14653\tvalidation-logloss:0.21902\n",
            "[560]\ttrain-logloss:0.14508\tvalidation-logloss:0.21857\n",
            "[570]\ttrain-logloss:0.14366\tvalidation-logloss:0.21816\n",
            "[580]\ttrain-logloss:0.14220\tvalidation-logloss:0.21787\n",
            "[590]\ttrain-logloss:0.14063\tvalidation-logloss:0.21745\n",
            "[600]\ttrain-logloss:0.13911\tvalidation-logloss:0.21707\n",
            "[610]\ttrain-logloss:0.13785\tvalidation-logloss:0.21682\n",
            "[620]\ttrain-logloss:0.13648\tvalidation-logloss:0.21641\n",
            "[630]\ttrain-logloss:0.13522\tvalidation-logloss:0.21609\n",
            "[640]\ttrain-logloss:0.13387\tvalidation-logloss:0.21585\n",
            "[650]\ttrain-logloss:0.13229\tvalidation-logloss:0.21551\n",
            "[660]\ttrain-logloss:0.13115\tvalidation-logloss:0.21516\n",
            "[670]\ttrain-logloss:0.12989\tvalidation-logloss:0.21488\n",
            "[680]\ttrain-logloss:0.12860\tvalidation-logloss:0.21457\n",
            "[690]\ttrain-logloss:0.12716\tvalidation-logloss:0.21414\n",
            "[700]\ttrain-logloss:0.12599\tvalidation-logloss:0.21389\n",
            "[710]\ttrain-logloss:0.12459\tvalidation-logloss:0.21362\n",
            "[720]\ttrain-logloss:0.12342\tvalidation-logloss:0.21328\n",
            "[730]\ttrain-logloss:0.12223\tvalidation-logloss:0.21295\n",
            "[740]\ttrain-logloss:0.12112\tvalidation-logloss:0.21273\n",
            "[750]\ttrain-logloss:0.11992\tvalidation-logloss:0.21248\n",
            "[760]\ttrain-logloss:0.11889\tvalidation-logloss:0.21233\n",
            "[770]\ttrain-logloss:0.11793\tvalidation-logloss:0.21215\n",
            "[780]\ttrain-logloss:0.11670\tvalidation-logloss:0.21178\n",
            "[790]\ttrain-logloss:0.11545\tvalidation-logloss:0.21132\n",
            "[800]\ttrain-logloss:0.11458\tvalidation-logloss:0.21102\n",
            "[810]\ttrain-logloss:0.11363\tvalidation-logloss:0.21080\n",
            "[820]\ttrain-logloss:0.11274\tvalidation-logloss:0.21067\n",
            "[830]\ttrain-logloss:0.11159\tvalidation-logloss:0.21035\n",
            "[840]\ttrain-logloss:0.11064\tvalidation-logloss:0.21009\n",
            "[850]\ttrain-logloss:0.10952\tvalidation-logloss:0.20974\n",
            "[860]\ttrain-logloss:0.10850\tvalidation-logloss:0.20956\n",
            "[870]\ttrain-logloss:0.10737\tvalidation-logloss:0.20934\n",
            "[880]\ttrain-logloss:0.10625\tvalidation-logloss:0.20914\n",
            "[890]\ttrain-logloss:0.10530\tvalidation-logloss:0.20900\n",
            "[900]\ttrain-logloss:0.10437\tvalidation-logloss:0.20871\n",
            "[910]\ttrain-logloss:0.10364\tvalidation-logloss:0.20861\n",
            "[920]\ttrain-logloss:0.10260\tvalidation-logloss:0.20839\n",
            "[930]\ttrain-logloss:0.10160\tvalidation-logloss:0.20817\n",
            "[940]\ttrain-logloss:0.10055\tvalidation-logloss:0.20799\n",
            "[950]\ttrain-logloss:0.09965\tvalidation-logloss:0.20784\n",
            "[960]\ttrain-logloss:0.09857\tvalidation-logloss:0.20767\n",
            "[970]\ttrain-logloss:0.09761\tvalidation-logloss:0.20757\n",
            "[980]\ttrain-logloss:0.09681\tvalidation-logloss:0.20756\n",
            "[990]\ttrain-logloss:0.09591\tvalidation-logloss:0.20739\n",
            "[1000]\ttrain-logloss:0.09496\tvalidation-logloss:0.20718\n",
            "[1010]\ttrain-logloss:0.09405\tvalidation-logloss:0.20702\n",
            "[1020]\ttrain-logloss:0.09322\tvalidation-logloss:0.20694\n",
            "[1030]\ttrain-logloss:0.09243\tvalidation-logloss:0.20678\n",
            "[1040]\ttrain-logloss:0.09145\tvalidation-logloss:0.20674\n",
            "[1050]\ttrain-logloss:0.09064\tvalidation-logloss:0.20673\n",
            "[1060]\ttrain-logloss:0.08984\tvalidation-logloss:0.20661\n",
            "[1070]\ttrain-logloss:0.08901\tvalidation-logloss:0.20635\n",
            "[1080]\ttrain-logloss:0.08827\tvalidation-logloss:0.20630\n",
            "[1090]\ttrain-logloss:0.08745\tvalidation-logloss:0.20624\n",
            "[1100]\ttrain-logloss:0.08668\tvalidation-logloss:0.20613\n",
            "[1110]\ttrain-logloss:0.08584\tvalidation-logloss:0.20602\n",
            "[1120]\ttrain-logloss:0.08500\tvalidation-logloss:0.20582\n",
            "[1130]\ttrain-logloss:0.08438\tvalidation-logloss:0.20580\n",
            "[1140]\ttrain-logloss:0.08357\tvalidation-logloss:0.20568\n",
            "[1150]\ttrain-logloss:0.08262\tvalidation-logloss:0.20548\n",
            "[1160]\ttrain-logloss:0.08181\tvalidation-logloss:0.20535\n",
            "[1170]\ttrain-logloss:0.08108\tvalidation-logloss:0.20530\n",
            "[1180]\ttrain-logloss:0.08027\tvalidation-logloss:0.20509\n",
            "[1190]\ttrain-logloss:0.07949\tvalidation-logloss:0.20500\n",
            "[1200]\ttrain-logloss:0.07876\tvalidation-logloss:0.20477\n",
            "[1210]\ttrain-logloss:0.07796\tvalidation-logloss:0.20464\n",
            "[1220]\ttrain-logloss:0.07723\tvalidation-logloss:0.20448\n",
            "[1230]\ttrain-logloss:0.07663\tvalidation-logloss:0.20443\n",
            "[1240]\ttrain-logloss:0.07591\tvalidation-logloss:0.20423\n",
            "[1250]\ttrain-logloss:0.07523\tvalidation-logloss:0.20409\n",
            "[1260]\ttrain-logloss:0.07446\tvalidation-logloss:0.20400\n",
            "[1270]\ttrain-logloss:0.07387\tvalidation-logloss:0.20396\n",
            "[1280]\ttrain-logloss:0.07318\tvalidation-logloss:0.20395\n",
            "[1290]\ttrain-logloss:0.07256\tvalidation-logloss:0.20390\n",
            "[1300]\ttrain-logloss:0.07189\tvalidation-logloss:0.20374\n",
            "[1310]\ttrain-logloss:0.07117\tvalidation-logloss:0.20369\n",
            "[1320]\ttrain-logloss:0.07053\tvalidation-logloss:0.20365\n",
            "[1330]\ttrain-logloss:0.06995\tvalidation-logloss:0.20356\n",
            "[1340]\ttrain-logloss:0.06936\tvalidation-logloss:0.20354\n",
            "[1350]\ttrain-logloss:0.06877\tvalidation-logloss:0.20349\n",
            "[1360]\ttrain-logloss:0.06821\tvalidation-logloss:0.20334\n",
            "[1370]\ttrain-logloss:0.06755\tvalidation-logloss:0.20320\n",
            "[1380]\ttrain-logloss:0.06695\tvalidation-logloss:0.20313\n",
            "[1390]\ttrain-logloss:0.06639\tvalidation-logloss:0.20310\n",
            "[1400]\ttrain-logloss:0.06576\tvalidation-logloss:0.20299\n",
            "[1410]\ttrain-logloss:0.06522\tvalidation-logloss:0.20285\n",
            "[1420]\ttrain-logloss:0.06466\tvalidation-logloss:0.20285\n",
            "[1430]\ttrain-logloss:0.06415\tvalidation-logloss:0.20273\n",
            "[1440]\ttrain-logloss:0.06353\tvalidation-logloss:0.20262\n",
            "[1450]\ttrain-logloss:0.06296\tvalidation-logloss:0.20262\n",
            "[1460]\ttrain-logloss:0.06241\tvalidation-logloss:0.20260\n",
            "[1470]\ttrain-logloss:0.06189\tvalidation-logloss:0.20238\n",
            "[1480]\ttrain-logloss:0.06133\tvalidation-logloss:0.20227\n",
            "[1490]\ttrain-logloss:0.06079\tvalidation-logloss:0.20214\n",
            "[1500]\ttrain-logloss:0.06033\tvalidation-logloss:0.20220\n",
            "[1510]\ttrain-logloss:0.05984\tvalidation-logloss:0.20214\n",
            "[1520]\ttrain-logloss:0.05931\tvalidation-logloss:0.20211\n",
            "[1530]\ttrain-logloss:0.05880\tvalidation-logloss:0.20198\n",
            "[1540]\ttrain-logloss:0.05834\tvalidation-logloss:0.20200\n",
            "[1550]\ttrain-logloss:0.05789\tvalidation-logloss:0.20199\n",
            "[1560]\ttrain-logloss:0.05739\tvalidation-logloss:0.20196\n",
            "[1570]\ttrain-logloss:0.05689\tvalidation-logloss:0.20198\n",
            "[1580]\ttrain-logloss:0.05642\tvalidation-logloss:0.20198\n",
            "[1590]\ttrain-logloss:0.05587\tvalidation-logloss:0.20196\n",
            "[1600]\ttrain-logloss:0.05539\tvalidation-logloss:0.20194\n",
            "[1610]\ttrain-logloss:0.05489\tvalidation-logloss:0.20196\n",
            "[1614]\ttrain-logloss:0.05468\tvalidation-logloss:0.20196\n",
            "Accuracy: 0.8231040404953448\n",
            "ROC-AUC Score: 0.8900802526622095\n",
            "Classification Report:\n",
            "              precision    recall  f1-score   support\n",
            "\n",
            "           0       0.84      0.95      0.89      8349\n",
            "           1       0.73      0.44      0.55      2714\n",
            "\n",
            "    accuracy                           0.82     11063\n",
            "   macro avg       0.79      0.69      0.72     11063\n",
            "weighted avg       0.81      0.82      0.81     11063\n",
            "\n",
            "Confusion Matrix:\n",
            "[[7912  437]\n",
            " [1520 1194]]\n"
          ]
        }
      ]
    },
    {
      "cell_type": "markdown",
      "source": [
        "#### XGBoost with StratifiedKFold"
      ],
      "metadata": {
        "id": "-ui-AW4C84yC"
      }
    },
    {
      "cell_type": "code",
      "source": [
        "from sklearn.model_selection import StratifiedKFold\n",
        "from sklearn.metrics import roc_auc_score, accuracy_score, classification_report, confusion_matrix\n",
        "import xgboost as xgb\n",
        "\n",
        "# Assuming X_train, y_train, and X_test, y_test are defined as in your code\n",
        "\n",
        "# Define the number of folds for stratified k-fold\n",
        "n_splits = 5\n",
        "\n",
        "# Initialize StratifiedKFold\n",
        "skf = StratifiedKFold(n_splits=n_splits, shuffle=True, random_state=42)\n",
        "\n",
        "# Initialize lists to store metrics for each fold\n",
        "accuracy_scores = []\n",
        "amex_metric_scores = []\n",
        "roc_auc_scores = []\n",
        "classification_reports = []\n",
        "confusion_matrices = []\n",
        "\n",
        "# Loop through each fold\n",
        "for fold, (train_index, val_index) in enumerate(skf.split(X_train, y_train)):\n",
        "    print(f\"Fold {fold + 1}\")\n",
        "    X_train_fold, X_val_fold = X_train.iloc[train_index], X_train.iloc[val_index]\n",
        "    y_train_fold, y_val_fold = y_train.iloc[train_index], y_train.iloc[val_index]\n",
        "\n",
        "    # Create DMatrix for each fold, ensuring consistent feature names\n",
        "    feature_names = X_train_fold.columns.tolist()  # Get feature names from training fold\n",
        "\n",
        "    dtrain_fold = xgb.DMatrix(X_train_fold, label=y_train_fold, feature_names=feature_names)\n",
        "    dval_fold = xgb.DMatrix(X_val_fold, label=y_val_fold, feature_names=feature_names)\n",
        "    dtest = xgb.DMatrix(X_test, label=y_test, feature_names=feature_names)  # Use consistent feature names for dtest\n",
        "\n",
        "\n",
        "    # Define parameters for XGBoost to address underfitting\n",
        "    params = {\n",
        "        'objective': 'binary:logistic',\n",
        "        'eval_metric': 'logloss',\n",
        "        'max_depth': 6,\n",
        "        'eta': 0.03,  # Lower learning rate\n",
        "        'subsample': 0.85,  # Slightly reduced for better generalization\n",
        "        'colsample_bytree': 0.85,\n",
        "        'scale_pos_weight': 3.3,  # Fine-tuned\n",
        "        'lambda': 2,  # Added L2 regularization\n",
        "        'alpha': 0.5,  # Added L1 regularization\n",
        "        'nthread': -1,\n",
        "        'seed': 42,\n",
        "        'gamma': 0.5,\n",
        "    }\n",
        "    model = xgb.train(params, dtrain_fold, num_boost_round=100) # adjust num_boost_round\n",
        "\n",
        "\n",
        "    # Predict on validation and test sets\n",
        "    y_pred_val = model.predict(dval_fold)\n",
        "    y_pred_test = model.predict(dtest)\n",
        "    y_pred_test_binary = (y_pred_test > 0.3).astype(int) # Adjust the threshold if necessary\n",
        "\n",
        "\n",
        "    # Calculate metrics\n",
        "    accuracy = accuracy_score(y_test, y_pred_test_binary)\n",
        "    amex_metric_value = amex_metric(pd.DataFrame(y_test, columns=['target']), pd.DataFrame(y_pred_test, columns=['prediction']))\n",
        "    roc_auc = roc_auc_score(y_test, y_pred_test)\n",
        "\n",
        "    accuracy_scores.append(accuracy)\n",
        "    amex_metric_scores.append(amex_metric_value)\n",
        "    roc_auc_scores.append(roc_auc)\n",
        "    classification_reports.append(classification_report(y_test, y_pred_test_binary))\n",
        "    confusion_matrices.append(confusion_matrix(y_test, y_pred_test_binary))\n",
        "\n",
        "    print(f\"Fold {fold + 1} - Accuracy: {accuracy}, ROC-AUC: {roc_auc}\")\n",
        "    print(f\"Fold {fold + 1} - Classification Report:\\n{classification_report(y_test, y_pred_test_binary)}\")\n",
        "\n",
        "\n",
        "# Print average metrics across all folds\n",
        "print(f\"\\nAverage Accuracy: {np.mean(accuracy_scores)}\")\n",
        "print(f\"Average ROC-AUC: {np.mean(roc_auc_scores)}\")\n",
        "print(f\"Average Classification Report:\\n{classification_report(y_test, y_pred_test_binary)}\")"
      ],
      "metadata": {
        "colab": {
          "base_uri": "https://localhost:8080/"
        },
        "id": "D0idzSfChQcA",
        "outputId": "62b93892-4053-45ad-f07c-d667b8dc7b10"
      },
      "execution_count": null,
      "outputs": [
        {
          "output_type": "stream",
          "name": "stdout",
          "text": [
            "Fold 1\n",
            "Fold 1 - Accuracy: 0.6178251830425744, ROC-AUC: 0.8987472233115523\n",
            "Fold 1 - Classification Report:\n",
            "              precision    recall  f1-score   support\n",
            "\n",
            "           0       0.99      0.50      0.66      8349\n",
            "           1       0.39      0.98      0.56      2714\n",
            "\n",
            "    accuracy                           0.62     11063\n",
            "   macro avg       0.69      0.74      0.61     11063\n",
            "weighted avg       0.84      0.62      0.64     11063\n",
            "\n",
            "Fold 2\n",
            "Fold 2 - Accuracy: 0.6558799602277863, ROC-AUC: 0.9043105961529244\n",
            "Fold 2 - Classification Report:\n",
            "              precision    recall  f1-score   support\n",
            "\n",
            "           0       0.99      0.55      0.71      8349\n",
            "           1       0.41      0.98      0.58      2714\n",
            "\n",
            "    accuracy                           0.66     11063\n",
            "   macro avg       0.70      0.77      0.65     11063\n",
            "weighted avg       0.85      0.66      0.68     11063\n",
            "\n",
            "Fold 3\n",
            "Fold 3 - Accuracy: 0.702431528518485, ROC-AUC: 0.9045281458919132\n",
            "Fold 3 - Classification Report:\n",
            "              precision    recall  f1-score   support\n",
            "\n",
            "           0       0.99      0.61      0.76      8349\n",
            "           1       0.45      0.97      0.62      2714\n",
            "\n",
            "    accuracy                           0.70     11063\n",
            "   macro avg       0.72      0.79      0.69     11063\n",
            "weighted avg       0.85      0.70      0.72     11063\n",
            "\n",
            "Fold 4\n",
            "Fold 4 - Accuracy: 0.6470216035433427, ROC-AUC: 0.9037498743335264\n",
            "Fold 4 - Classification Report:\n",
            "              precision    recall  f1-score   support\n",
            "\n",
            "           0       0.99      0.54      0.70      8349\n",
            "           1       0.41      0.98      0.58      2714\n",
            "\n",
            "    accuracy                           0.65     11063\n",
            "   macro avg       0.70      0.76      0.64     11063\n",
            "weighted avg       0.85      0.65      0.67     11063\n",
            "\n",
            "Fold 5\n",
            "Fold 5 - Accuracy: 0.6478351260959957, ROC-AUC: 0.9052667205256181\n",
            "Fold 5 - Classification Report:\n",
            "              precision    recall  f1-score   support\n",
            "\n",
            "           0       0.99      0.54      0.70      8349\n",
            "           1       0.41      0.98      0.58      2714\n",
            "\n",
            "    accuracy                           0.65     11063\n",
            "   macro avg       0.70      0.76      0.64     11063\n",
            "weighted avg       0.85      0.65      0.67     11063\n",
            "\n",
            "\n",
            "Average Accuracy: 0.6541986802856368\n",
            "Average ROC-AUC: 0.9033205120431068\n",
            "Average Classification Report:\n",
            "              precision    recall  f1-score   support\n",
            "\n",
            "           0       0.99      0.54      0.70      8349\n",
            "           1       0.41      0.98      0.58      2714\n",
            "\n",
            "    accuracy                           0.65     11063\n",
            "   macro avg       0.70      0.76      0.64     11063\n",
            "weighted avg       0.85      0.65      0.67     11063\n",
            "\n"
          ]
        }
      ]
    },
    {
      "cell_type": "markdown",
      "source": [
        "#### Observations:-\n",
        "\n",
        "- We can see that random forest is giving the best accuracy.\n",
        "\n",
        "- After applying k fold cross vaidation on Logistic Regression we can see that the accuracy has reached closer to Random Forest Classifier.\n",
        "\n",
        "- Overall we can say that Random Forest is giving far better results.\n",
        "\n",
        "- The superiority of Random Forest suggests that the data may have non-linear relationships that Random Forest, with its tree-based structure, is better able to capture."
      ],
      "metadata": {
        "id": "5hVuDnJgQG4C"
      }
    },
    {
      "cell_type": "markdown",
      "source": [
        "#### Future Steps :-\n",
        "\n",
        "- More intutive and descriptive EDA\n",
        "- Methods like LSTM, ANN, CNN, SVM, GNN\n",
        "- We will work more on feature engineering\n",
        "- Use some reduction techniques like SVD and LDA\n",
        "- We will improve our accuracy on this dataset , once it is done, we will apply our best model to the test dataset provided by the American Express and evaluate how our model works and then try to improve the accuracy based on that.\n",
        "- Any suggestions are also welcome !!\n"
      ],
      "metadata": {
        "id": "q4qlE3YLTYrK"
      }
    },
    {
      "cell_type": "code",
      "source": [
        "\n",
        "# Accuracy: 50.1% (Random guessing)\n",
        "# Key metrics: Recall for class 1 (default) was 51%, highlighting the baseline performance.\n",
        "# The random model established a basic comparison point, showing that improvement in recall for the default class is crucial.\n",
        "# Logistic Regression (Linear Model):\n",
        "# Accuracy: 82.02%\n",
        "# ROC-AUC: 0.9166\n",
        "# Precision (0): 97%, Recall (1): 91%\n",
        "# The logistic regression model performed well with high accuracy and ROC-AUC. It focused on improving recall for the default class (1), making it a strong candidate for the task.\n",
        "# Random Forest (Bagging):\n",
        "# Accuracy: 83%\n",
        "# ROC-AUC: 0.8810\n",
        "# Precision (0): 97%, Recall (1): 91%\n",
        "# Random Forest showed excellent performance, with balanced precision and recall. It provided robust results for predicting defaults with consistent accuracy.\n",
        "# XGBoost (Boosting):\n",
        "# Accuracy: 81.2%\n",
        "# ROC-AUC: 0.8557\n",
        "# Precision (0): 86%, Recall (1): 54%\n",
        "# XGBoost, while effective, struggled with recall for class 1, indicating that further tuning is necessary to improve performance for the default class.\n",
        "# XGBoost with Tuned Hyperparameters:\n",
        "# Accuracy: 82.27%\n",
        "# ROC-AUC: 0.8869\n",
        "# Precision (0): 92%, Recall (1): 78%\n",
        "# Hyperparameter tuning improved XGBoost's performance, particularly in recall for the default class, suggesting it can be further optimized to balance precision and recall.\n",
        "# Stratified K-Fold Cross-Validation (for Random Forest and XGBoost):\n",
        "# Average Accuracy (Random Forest): 84.4%\n",
        "# Average ROC-AUC (Random Forest): 0.925\n",
        "# Average Accuracy (XGBoost): 65.4%\n",
        "# Average ROC-AUC (XGBoost): 0.903\n",
        "# Cross-validation showed that Random Forest consistently performed well, while XGBoost struggled with class imbalance, reinforcing that Random Forest is the more reliable model.\n",
        "# Graph this information to compare the accuracy of models, make it in plotly also can you graph precision and recall as well\n",
        "\n",
        "import plotly.graph_objects as go\n",
        "\n",
        "models = ['Random Model', 'Logistic Regression', 'Random Forest', 'XGBoost', 'XGBoost (Tuned)', 'Random Forest (CV)', 'XGBoost (CV)']\n",
        "accuracy = [50.1, 82.02, 83, 81.2, 82.27, 84.4, 65.4]\n",
        "roc_auc = [None, 0.9166, 0.8810, 0.8557, 0.8869, 0.925, 0.903]\n",
        "precision_0 = [None, 97, 97, 86, 92, None, None]\n",
        "recall_1 = [51, 91, 91, 54, 78, None, None]\n",
        "\n",
        "fig = go.Figure()\n",
        "\n",
        "fig.add_trace(go.Bar(\n",
        "    x=models,\n",
        "    y=accuracy,\n",
        "    name='Accuracy'\n",
        "))\n",
        "\n",
        "fig.add_trace(go.Scatter(\n",
        "    x=models,\n",
        "    y=roc_auc,\n",
        "    name='ROC-AUC',\n",
        "    yaxis='y2'  # Use a second y-axis for ROC-AUC\n",
        "))\n",
        "\n",
        "fig.update_layout(\n",
        "    title='Model Performance Comparison',\n",
        "    xaxis_title='Models',\n",
        "    yaxis=dict(title='Accuracy (%)'),\n",
        "    yaxis2=dict(title='ROC-AUC', overlaying='y', side='right')\n",
        ")\n",
        "\n",
        "fig.show()\n",
        "\n",
        "\n",
        "#Precision and Recall plot\n",
        "fig2 = go.Figure()\n",
        "\n",
        "fig2.add_trace(go.Scatter(\n",
        "    x=models,\n",
        "    y=precision_0,\n",
        "    name='Precision (Class 0)'\n",
        "))\n",
        "\n",
        "fig2.add_trace(go.Scatter(\n",
        "    x=models,\n",
        "    y=recall_1,\n",
        "    name='Recall (Class 1)'\n",
        "))\n",
        "\n",
        "fig2.update_layout(\n",
        "    title='Precision and Recall for Models',\n",
        "    xaxis_title='Models',\n",
        "    yaxis_title='Metric Value (%)',\n",
        ")\n",
        "\n",
        "fig2.show()"
      ],
      "metadata": {
        "colab": {
          "base_uri": "https://localhost:8080/",
          "height": 1000
        },
        "id": "I6AJF6Aq6zbe",
        "outputId": "9bd4809d-d27c-4f21-dc68-11f430338c05"
      },
      "execution_count": null,
      "outputs": [
        {
          "output_type": "display_data",
          "data": {
            "text/html": [
              "<html>\n",
              "<head><meta charset=\"utf-8\" /></head>\n",
              "<body>\n",
              "    <div>            <script src=\"https://cdnjs.cloudflare.com/ajax/libs/mathjax/2.7.5/MathJax.js?config=TeX-AMS-MML_SVG\"></script><script type=\"text/javascript\">if (window.MathJax && window.MathJax.Hub && window.MathJax.Hub.Config) {window.MathJax.Hub.Config({SVG: {font: \"STIX-Web\"}});}</script>                <script type=\"text/javascript\">window.PlotlyConfig = {MathJaxConfig: 'local'};</script>\n",
              "        <script charset=\"utf-8\" src=\"https://cdn.plot.ly/plotly-2.35.2.min.js\"></script>                <div id=\"3897bb27-cabe-4ce3-b94f-8096569a5296\" class=\"plotly-graph-div\" style=\"height:525px; width:100%;\"></div>            <script type=\"text/javascript\">                                    window.PLOTLYENV=window.PLOTLYENV || {};                                    if (document.getElementById(\"3897bb27-cabe-4ce3-b94f-8096569a5296\")) {                    Plotly.newPlot(                        \"3897bb27-cabe-4ce3-b94f-8096569a5296\",                        [{\"name\":\"Accuracy\",\"x\":[\"Random Model\",\"Logistic Regression\",\"Random Forest\",\"XGBoost\",\"XGBoost (Tuned)\",\"Random Forest (CV)\",\"XGBoost (CV)\"],\"y\":[50.1,82.02,83,81.2,82.27,84.4,65.4],\"type\":\"bar\"},{\"name\":\"ROC-AUC\",\"x\":[\"Random Model\",\"Logistic Regression\",\"Random Forest\",\"XGBoost\",\"XGBoost (Tuned)\",\"Random Forest (CV)\",\"XGBoost (CV)\"],\"y\":[null,0.9166,0.881,0.8557,0.8869,0.925,0.903],\"yaxis\":\"y2\",\"type\":\"scatter\"}],                        {\"template\":{\"data\":{\"histogram2dcontour\":[{\"type\":\"histogram2dcontour\",\"colorbar\":{\"outlinewidth\":0,\"ticks\":\"\"},\"colorscale\":[[0.0,\"#0d0887\"],[0.1111111111111111,\"#46039f\"],[0.2222222222222222,\"#7201a8\"],[0.3333333333333333,\"#9c179e\"],[0.4444444444444444,\"#bd3786\"],[0.5555555555555556,\"#d8576b\"],[0.6666666666666666,\"#ed7953\"],[0.7777777777777778,\"#fb9f3a\"],[0.8888888888888888,\"#fdca26\"],[1.0,\"#f0f921\"]]}],\"choropleth\":[{\"type\":\"choropleth\",\"colorbar\":{\"outlinewidth\":0,\"ticks\":\"\"}}],\"histogram2d\":[{\"type\":\"histogram2d\",\"colorbar\":{\"outlinewidth\":0,\"ticks\":\"\"},\"colorscale\":[[0.0,\"#0d0887\"],[0.1111111111111111,\"#46039f\"],[0.2222222222222222,\"#7201a8\"],[0.3333333333333333,\"#9c179e\"],[0.4444444444444444,\"#bd3786\"],[0.5555555555555556,\"#d8576b\"],[0.6666666666666666,\"#ed7953\"],[0.7777777777777778,\"#fb9f3a\"],[0.8888888888888888,\"#fdca26\"],[1.0,\"#f0f921\"]]}],\"heatmap\":[{\"type\":\"heatmap\",\"colorbar\":{\"outlinewidth\":0,\"ticks\":\"\"},\"colorscale\":[[0.0,\"#0d0887\"],[0.1111111111111111,\"#46039f\"],[0.2222222222222222,\"#7201a8\"],[0.3333333333333333,\"#9c179e\"],[0.4444444444444444,\"#bd3786\"],[0.5555555555555556,\"#d8576b\"],[0.6666666666666666,\"#ed7953\"],[0.7777777777777778,\"#fb9f3a\"],[0.8888888888888888,\"#fdca26\"],[1.0,\"#f0f921\"]]}],\"heatmapgl\":[{\"type\":\"heatmapgl\",\"colorbar\":{\"outlinewidth\":0,\"ticks\":\"\"},\"colorscale\":[[0.0,\"#0d0887\"],[0.1111111111111111,\"#46039f\"],[0.2222222222222222,\"#7201a8\"],[0.3333333333333333,\"#9c179e\"],[0.4444444444444444,\"#bd3786\"],[0.5555555555555556,\"#d8576b\"],[0.6666666666666666,\"#ed7953\"],[0.7777777777777778,\"#fb9f3a\"],[0.8888888888888888,\"#fdca26\"],[1.0,\"#f0f921\"]]}],\"contourcarpet\":[{\"type\":\"contourcarpet\",\"colorbar\":{\"outlinewidth\":0,\"ticks\":\"\"}}],\"contour\":[{\"type\":\"contour\",\"colorbar\":{\"outlinewidth\":0,\"ticks\":\"\"},\"colorscale\":[[0.0,\"#0d0887\"],[0.1111111111111111,\"#46039f\"],[0.2222222222222222,\"#7201a8\"],[0.3333333333333333,\"#9c179e\"],[0.4444444444444444,\"#bd3786\"],[0.5555555555555556,\"#d8576b\"],[0.6666666666666666,\"#ed7953\"],[0.7777777777777778,\"#fb9f3a\"],[0.8888888888888888,\"#fdca26\"],[1.0,\"#f0f921\"]]}],\"surface\":[{\"type\":\"surface\",\"colorbar\":{\"outlinewidth\":0,\"ticks\":\"\"},\"colorscale\":[[0.0,\"#0d0887\"],[0.1111111111111111,\"#46039f\"],[0.2222222222222222,\"#7201a8\"],[0.3333333333333333,\"#9c179e\"],[0.4444444444444444,\"#bd3786\"],[0.5555555555555556,\"#d8576b\"],[0.6666666666666666,\"#ed7953\"],[0.7777777777777778,\"#fb9f3a\"],[0.8888888888888888,\"#fdca26\"],[1.0,\"#f0f921\"]]}],\"mesh3d\":[{\"type\":\"mesh3d\",\"colorbar\":{\"outlinewidth\":0,\"ticks\":\"\"}}],\"scatter\":[{\"fillpattern\":{\"fillmode\":\"overlay\",\"size\":10,\"solidity\":0.2},\"type\":\"scatter\"}],\"parcoords\":[{\"type\":\"parcoords\",\"line\":{\"colorbar\":{\"outlinewidth\":0,\"ticks\":\"\"}}}],\"scatterpolargl\":[{\"type\":\"scatterpolargl\",\"marker\":{\"colorbar\":{\"outlinewidth\":0,\"ticks\":\"\"}}}],\"bar\":[{\"error_x\":{\"color\":\"#2a3f5f\"},\"error_y\":{\"color\":\"#2a3f5f\"},\"marker\":{\"line\":{\"color\":\"#E5ECF6\",\"width\":0.5},\"pattern\":{\"fillmode\":\"overlay\",\"size\":10,\"solidity\":0.2}},\"type\":\"bar\"}],\"scattergeo\":[{\"type\":\"scattergeo\",\"marker\":{\"colorbar\":{\"outlinewidth\":0,\"ticks\":\"\"}}}],\"scatterpolar\":[{\"type\":\"scatterpolar\",\"marker\":{\"colorbar\":{\"outlinewidth\":0,\"ticks\":\"\"}}}],\"histogram\":[{\"marker\":{\"pattern\":{\"fillmode\":\"overlay\",\"size\":10,\"solidity\":0.2}},\"type\":\"histogram\"}],\"scattergl\":[{\"type\":\"scattergl\",\"marker\":{\"colorbar\":{\"outlinewidth\":0,\"ticks\":\"\"}}}],\"scatter3d\":[{\"type\":\"scatter3d\",\"line\":{\"colorbar\":{\"outlinewidth\":0,\"ticks\":\"\"}},\"marker\":{\"colorbar\":{\"outlinewidth\":0,\"ticks\":\"\"}}}],\"scattermapbox\":[{\"type\":\"scattermapbox\",\"marker\":{\"colorbar\":{\"outlinewidth\":0,\"ticks\":\"\"}}}],\"scatterternary\":[{\"type\":\"scatterternary\",\"marker\":{\"colorbar\":{\"outlinewidth\":0,\"ticks\":\"\"}}}],\"scattercarpet\":[{\"type\":\"scattercarpet\",\"marker\":{\"colorbar\":{\"outlinewidth\":0,\"ticks\":\"\"}}}],\"carpet\":[{\"aaxis\":{\"endlinecolor\":\"#2a3f5f\",\"gridcolor\":\"white\",\"linecolor\":\"white\",\"minorgridcolor\":\"white\",\"startlinecolor\":\"#2a3f5f\"},\"baxis\":{\"endlinecolor\":\"#2a3f5f\",\"gridcolor\":\"white\",\"linecolor\":\"white\",\"minorgridcolor\":\"white\",\"startlinecolor\":\"#2a3f5f\"},\"type\":\"carpet\"}],\"table\":[{\"cells\":{\"fill\":{\"color\":\"#EBF0F8\"},\"line\":{\"color\":\"white\"}},\"header\":{\"fill\":{\"color\":\"#C8D4E3\"},\"line\":{\"color\":\"white\"}},\"type\":\"table\"}],\"barpolar\":[{\"marker\":{\"line\":{\"color\":\"#E5ECF6\",\"width\":0.5},\"pattern\":{\"fillmode\":\"overlay\",\"size\":10,\"solidity\":0.2}},\"type\":\"barpolar\"}],\"pie\":[{\"automargin\":true,\"type\":\"pie\"}]},\"layout\":{\"autotypenumbers\":\"strict\",\"colorway\":[\"#636efa\",\"#EF553B\",\"#00cc96\",\"#ab63fa\",\"#FFA15A\",\"#19d3f3\",\"#FF6692\",\"#B6E880\",\"#FF97FF\",\"#FECB52\"],\"font\":{\"color\":\"#2a3f5f\"},\"hovermode\":\"closest\",\"hoverlabel\":{\"align\":\"left\"},\"paper_bgcolor\":\"white\",\"plot_bgcolor\":\"#E5ECF6\",\"polar\":{\"bgcolor\":\"#E5ECF6\",\"angularaxis\":{\"gridcolor\":\"white\",\"linecolor\":\"white\",\"ticks\":\"\"},\"radialaxis\":{\"gridcolor\":\"white\",\"linecolor\":\"white\",\"ticks\":\"\"}},\"ternary\":{\"bgcolor\":\"#E5ECF6\",\"aaxis\":{\"gridcolor\":\"white\",\"linecolor\":\"white\",\"ticks\":\"\"},\"baxis\":{\"gridcolor\":\"white\",\"linecolor\":\"white\",\"ticks\":\"\"},\"caxis\":{\"gridcolor\":\"white\",\"linecolor\":\"white\",\"ticks\":\"\"}},\"coloraxis\":{\"colorbar\":{\"outlinewidth\":0,\"ticks\":\"\"}},\"colorscale\":{\"sequential\":[[0.0,\"#0d0887\"],[0.1111111111111111,\"#46039f\"],[0.2222222222222222,\"#7201a8\"],[0.3333333333333333,\"#9c179e\"],[0.4444444444444444,\"#bd3786\"],[0.5555555555555556,\"#d8576b\"],[0.6666666666666666,\"#ed7953\"],[0.7777777777777778,\"#fb9f3a\"],[0.8888888888888888,\"#fdca26\"],[1.0,\"#f0f921\"]],\"sequentialminus\":[[0.0,\"#0d0887\"],[0.1111111111111111,\"#46039f\"],[0.2222222222222222,\"#7201a8\"],[0.3333333333333333,\"#9c179e\"],[0.4444444444444444,\"#bd3786\"],[0.5555555555555556,\"#d8576b\"],[0.6666666666666666,\"#ed7953\"],[0.7777777777777778,\"#fb9f3a\"],[0.8888888888888888,\"#fdca26\"],[1.0,\"#f0f921\"]],\"diverging\":[[0,\"#8e0152\"],[0.1,\"#c51b7d\"],[0.2,\"#de77ae\"],[0.3,\"#f1b6da\"],[0.4,\"#fde0ef\"],[0.5,\"#f7f7f7\"],[0.6,\"#e6f5d0\"],[0.7,\"#b8e186\"],[0.8,\"#7fbc41\"],[0.9,\"#4d9221\"],[1,\"#276419\"]]},\"xaxis\":{\"gridcolor\":\"white\",\"linecolor\":\"white\",\"ticks\":\"\",\"title\":{\"standoff\":15},\"zerolinecolor\":\"white\",\"automargin\":true,\"zerolinewidth\":2},\"yaxis\":{\"gridcolor\":\"white\",\"linecolor\":\"white\",\"ticks\":\"\",\"title\":{\"standoff\":15},\"zerolinecolor\":\"white\",\"automargin\":true,\"zerolinewidth\":2},\"scene\":{\"xaxis\":{\"backgroundcolor\":\"#E5ECF6\",\"gridcolor\":\"white\",\"linecolor\":\"white\",\"showbackground\":true,\"ticks\":\"\",\"zerolinecolor\":\"white\",\"gridwidth\":2},\"yaxis\":{\"backgroundcolor\":\"#E5ECF6\",\"gridcolor\":\"white\",\"linecolor\":\"white\",\"showbackground\":true,\"ticks\":\"\",\"zerolinecolor\":\"white\",\"gridwidth\":2},\"zaxis\":{\"backgroundcolor\":\"#E5ECF6\",\"gridcolor\":\"white\",\"linecolor\":\"white\",\"showbackground\":true,\"ticks\":\"\",\"zerolinecolor\":\"white\",\"gridwidth\":2}},\"shapedefaults\":{\"line\":{\"color\":\"#2a3f5f\"}},\"annotationdefaults\":{\"arrowcolor\":\"#2a3f5f\",\"arrowhead\":0,\"arrowwidth\":1},\"geo\":{\"bgcolor\":\"white\",\"landcolor\":\"#E5ECF6\",\"subunitcolor\":\"white\",\"showland\":true,\"showlakes\":true,\"lakecolor\":\"white\"},\"title\":{\"x\":0.05},\"mapbox\":{\"style\":\"light\"}}},\"yaxis2\":{\"title\":{\"text\":\"ROC-AUC\"},\"overlaying\":\"y\",\"side\":\"right\"},\"title\":{\"text\":\"Model Performance Comparison\"},\"xaxis\":{\"title\":{\"text\":\"Models\"}},\"yaxis\":{\"title\":{\"text\":\"Accuracy (%)\"}}},                        {\"responsive\": true}                    ).then(function(){\n",
              "                            \n",
              "var gd = document.getElementById('3897bb27-cabe-4ce3-b94f-8096569a5296');\n",
              "var x = new MutationObserver(function (mutations, observer) {{\n",
              "        var display = window.getComputedStyle(gd).display;\n",
              "        if (!display || display === 'none') {{\n",
              "            console.log([gd, 'removed!']);\n",
              "            Plotly.purge(gd);\n",
              "            observer.disconnect();\n",
              "        }}\n",
              "}});\n",
              "\n",
              "// Listen for the removal of the full notebook cells\n",
              "var notebookContainer = gd.closest('#notebook-container');\n",
              "if (notebookContainer) {{\n",
              "    x.observe(notebookContainer, {childList: true});\n",
              "}}\n",
              "\n",
              "// Listen for the clearing of the current output cell\n",
              "var outputEl = gd.closest('.output');\n",
              "if (outputEl) {{\n",
              "    x.observe(outputEl, {childList: true});\n",
              "}}\n",
              "\n",
              "                        })                };                            </script>        </div>\n",
              "</body>\n",
              "</html>"
            ]
          },
          "metadata": {}
        },
        {
          "output_type": "display_data",
          "data": {
            "text/html": [
              "<html>\n",
              "<head><meta charset=\"utf-8\" /></head>\n",
              "<body>\n",
              "    <div>            <script src=\"https://cdnjs.cloudflare.com/ajax/libs/mathjax/2.7.5/MathJax.js?config=TeX-AMS-MML_SVG\"></script><script type=\"text/javascript\">if (window.MathJax && window.MathJax.Hub && window.MathJax.Hub.Config) {window.MathJax.Hub.Config({SVG: {font: \"STIX-Web\"}});}</script>                <script type=\"text/javascript\">window.PlotlyConfig = {MathJaxConfig: 'local'};</script>\n",
              "        <script charset=\"utf-8\" src=\"https://cdn.plot.ly/plotly-2.35.2.min.js\"></script>                <div id=\"3b5e8f4b-fcbe-4e79-bb37-6e699d3215a3\" class=\"plotly-graph-div\" style=\"height:525px; width:100%;\"></div>            <script type=\"text/javascript\">                                    window.PLOTLYENV=window.PLOTLYENV || {};                                    if (document.getElementById(\"3b5e8f4b-fcbe-4e79-bb37-6e699d3215a3\")) {                    Plotly.newPlot(                        \"3b5e8f4b-fcbe-4e79-bb37-6e699d3215a3\",                        [{\"name\":\"Precision (Class 0)\",\"x\":[\"Random Model\",\"Logistic Regression\",\"Random Forest\",\"XGBoost\",\"XGBoost (Tuned)\",\"Random Forest (CV)\",\"XGBoost (CV)\"],\"y\":[null,97,97,86,92,null,null],\"type\":\"scatter\"},{\"name\":\"Recall (Class 1)\",\"x\":[\"Random Model\",\"Logistic Regression\",\"Random Forest\",\"XGBoost\",\"XGBoost (Tuned)\",\"Random Forest (CV)\",\"XGBoost (CV)\"],\"y\":[51,91,91,54,78,null,null],\"type\":\"scatter\"}],                        {\"template\":{\"data\":{\"histogram2dcontour\":[{\"type\":\"histogram2dcontour\",\"colorbar\":{\"outlinewidth\":0,\"ticks\":\"\"},\"colorscale\":[[0.0,\"#0d0887\"],[0.1111111111111111,\"#46039f\"],[0.2222222222222222,\"#7201a8\"],[0.3333333333333333,\"#9c179e\"],[0.4444444444444444,\"#bd3786\"],[0.5555555555555556,\"#d8576b\"],[0.6666666666666666,\"#ed7953\"],[0.7777777777777778,\"#fb9f3a\"],[0.8888888888888888,\"#fdca26\"],[1.0,\"#f0f921\"]]}],\"choropleth\":[{\"type\":\"choropleth\",\"colorbar\":{\"outlinewidth\":0,\"ticks\":\"\"}}],\"histogram2d\":[{\"type\":\"histogram2d\",\"colorbar\":{\"outlinewidth\":0,\"ticks\":\"\"},\"colorscale\":[[0.0,\"#0d0887\"],[0.1111111111111111,\"#46039f\"],[0.2222222222222222,\"#7201a8\"],[0.3333333333333333,\"#9c179e\"],[0.4444444444444444,\"#bd3786\"],[0.5555555555555556,\"#d8576b\"],[0.6666666666666666,\"#ed7953\"],[0.7777777777777778,\"#fb9f3a\"],[0.8888888888888888,\"#fdca26\"],[1.0,\"#f0f921\"]]}],\"heatmap\":[{\"type\":\"heatmap\",\"colorbar\":{\"outlinewidth\":0,\"ticks\":\"\"},\"colorscale\":[[0.0,\"#0d0887\"],[0.1111111111111111,\"#46039f\"],[0.2222222222222222,\"#7201a8\"],[0.3333333333333333,\"#9c179e\"],[0.4444444444444444,\"#bd3786\"],[0.5555555555555556,\"#d8576b\"],[0.6666666666666666,\"#ed7953\"],[0.7777777777777778,\"#fb9f3a\"],[0.8888888888888888,\"#fdca26\"],[1.0,\"#f0f921\"]]}],\"heatmapgl\":[{\"type\":\"heatmapgl\",\"colorbar\":{\"outlinewidth\":0,\"ticks\":\"\"},\"colorscale\":[[0.0,\"#0d0887\"],[0.1111111111111111,\"#46039f\"],[0.2222222222222222,\"#7201a8\"],[0.3333333333333333,\"#9c179e\"],[0.4444444444444444,\"#bd3786\"],[0.5555555555555556,\"#d8576b\"],[0.6666666666666666,\"#ed7953\"],[0.7777777777777778,\"#fb9f3a\"],[0.8888888888888888,\"#fdca26\"],[1.0,\"#f0f921\"]]}],\"contourcarpet\":[{\"type\":\"contourcarpet\",\"colorbar\":{\"outlinewidth\":0,\"ticks\":\"\"}}],\"contour\":[{\"type\":\"contour\",\"colorbar\":{\"outlinewidth\":0,\"ticks\":\"\"},\"colorscale\":[[0.0,\"#0d0887\"],[0.1111111111111111,\"#46039f\"],[0.2222222222222222,\"#7201a8\"],[0.3333333333333333,\"#9c179e\"],[0.4444444444444444,\"#bd3786\"],[0.5555555555555556,\"#d8576b\"],[0.6666666666666666,\"#ed7953\"],[0.7777777777777778,\"#fb9f3a\"],[0.8888888888888888,\"#fdca26\"],[1.0,\"#f0f921\"]]}],\"surface\":[{\"type\":\"surface\",\"colorbar\":{\"outlinewidth\":0,\"ticks\":\"\"},\"colorscale\":[[0.0,\"#0d0887\"],[0.1111111111111111,\"#46039f\"],[0.2222222222222222,\"#7201a8\"],[0.3333333333333333,\"#9c179e\"],[0.4444444444444444,\"#bd3786\"],[0.5555555555555556,\"#d8576b\"],[0.6666666666666666,\"#ed7953\"],[0.7777777777777778,\"#fb9f3a\"],[0.8888888888888888,\"#fdca26\"],[1.0,\"#f0f921\"]]}],\"mesh3d\":[{\"type\":\"mesh3d\",\"colorbar\":{\"outlinewidth\":0,\"ticks\":\"\"}}],\"scatter\":[{\"fillpattern\":{\"fillmode\":\"overlay\",\"size\":10,\"solidity\":0.2},\"type\":\"scatter\"}],\"parcoords\":[{\"type\":\"parcoords\",\"line\":{\"colorbar\":{\"outlinewidth\":0,\"ticks\":\"\"}}}],\"scatterpolargl\":[{\"type\":\"scatterpolargl\",\"marker\":{\"colorbar\":{\"outlinewidth\":0,\"ticks\":\"\"}}}],\"bar\":[{\"error_x\":{\"color\":\"#2a3f5f\"},\"error_y\":{\"color\":\"#2a3f5f\"},\"marker\":{\"line\":{\"color\":\"#E5ECF6\",\"width\":0.5},\"pattern\":{\"fillmode\":\"overlay\",\"size\":10,\"solidity\":0.2}},\"type\":\"bar\"}],\"scattergeo\":[{\"type\":\"scattergeo\",\"marker\":{\"colorbar\":{\"outlinewidth\":0,\"ticks\":\"\"}}}],\"scatterpolar\":[{\"type\":\"scatterpolar\",\"marker\":{\"colorbar\":{\"outlinewidth\":0,\"ticks\":\"\"}}}],\"histogram\":[{\"marker\":{\"pattern\":{\"fillmode\":\"overlay\",\"size\":10,\"solidity\":0.2}},\"type\":\"histogram\"}],\"scattergl\":[{\"type\":\"scattergl\",\"marker\":{\"colorbar\":{\"outlinewidth\":0,\"ticks\":\"\"}}}],\"scatter3d\":[{\"type\":\"scatter3d\",\"line\":{\"colorbar\":{\"outlinewidth\":0,\"ticks\":\"\"}},\"marker\":{\"colorbar\":{\"outlinewidth\":0,\"ticks\":\"\"}}}],\"scattermapbox\":[{\"type\":\"scattermapbox\",\"marker\":{\"colorbar\":{\"outlinewidth\":0,\"ticks\":\"\"}}}],\"scatterternary\":[{\"type\":\"scatterternary\",\"marker\":{\"colorbar\":{\"outlinewidth\":0,\"ticks\":\"\"}}}],\"scattercarpet\":[{\"type\":\"scattercarpet\",\"marker\":{\"colorbar\":{\"outlinewidth\":0,\"ticks\":\"\"}}}],\"carpet\":[{\"aaxis\":{\"endlinecolor\":\"#2a3f5f\",\"gridcolor\":\"white\",\"linecolor\":\"white\",\"minorgridcolor\":\"white\",\"startlinecolor\":\"#2a3f5f\"},\"baxis\":{\"endlinecolor\":\"#2a3f5f\",\"gridcolor\":\"white\",\"linecolor\":\"white\",\"minorgridcolor\":\"white\",\"startlinecolor\":\"#2a3f5f\"},\"type\":\"carpet\"}],\"table\":[{\"cells\":{\"fill\":{\"color\":\"#EBF0F8\"},\"line\":{\"color\":\"white\"}},\"header\":{\"fill\":{\"color\":\"#C8D4E3\"},\"line\":{\"color\":\"white\"}},\"type\":\"table\"}],\"barpolar\":[{\"marker\":{\"line\":{\"color\":\"#E5ECF6\",\"width\":0.5},\"pattern\":{\"fillmode\":\"overlay\",\"size\":10,\"solidity\":0.2}},\"type\":\"barpolar\"}],\"pie\":[{\"automargin\":true,\"type\":\"pie\"}]},\"layout\":{\"autotypenumbers\":\"strict\",\"colorway\":[\"#636efa\",\"#EF553B\",\"#00cc96\",\"#ab63fa\",\"#FFA15A\",\"#19d3f3\",\"#FF6692\",\"#B6E880\",\"#FF97FF\",\"#FECB52\"],\"font\":{\"color\":\"#2a3f5f\"},\"hovermode\":\"closest\",\"hoverlabel\":{\"align\":\"left\"},\"paper_bgcolor\":\"white\",\"plot_bgcolor\":\"#E5ECF6\",\"polar\":{\"bgcolor\":\"#E5ECF6\",\"angularaxis\":{\"gridcolor\":\"white\",\"linecolor\":\"white\",\"ticks\":\"\"},\"radialaxis\":{\"gridcolor\":\"white\",\"linecolor\":\"white\",\"ticks\":\"\"}},\"ternary\":{\"bgcolor\":\"#E5ECF6\",\"aaxis\":{\"gridcolor\":\"white\",\"linecolor\":\"white\",\"ticks\":\"\"},\"baxis\":{\"gridcolor\":\"white\",\"linecolor\":\"white\",\"ticks\":\"\"},\"caxis\":{\"gridcolor\":\"white\",\"linecolor\":\"white\",\"ticks\":\"\"}},\"coloraxis\":{\"colorbar\":{\"outlinewidth\":0,\"ticks\":\"\"}},\"colorscale\":{\"sequential\":[[0.0,\"#0d0887\"],[0.1111111111111111,\"#46039f\"],[0.2222222222222222,\"#7201a8\"],[0.3333333333333333,\"#9c179e\"],[0.4444444444444444,\"#bd3786\"],[0.5555555555555556,\"#d8576b\"],[0.6666666666666666,\"#ed7953\"],[0.7777777777777778,\"#fb9f3a\"],[0.8888888888888888,\"#fdca26\"],[1.0,\"#f0f921\"]],\"sequentialminus\":[[0.0,\"#0d0887\"],[0.1111111111111111,\"#46039f\"],[0.2222222222222222,\"#7201a8\"],[0.3333333333333333,\"#9c179e\"],[0.4444444444444444,\"#bd3786\"],[0.5555555555555556,\"#d8576b\"],[0.6666666666666666,\"#ed7953\"],[0.7777777777777778,\"#fb9f3a\"],[0.8888888888888888,\"#fdca26\"],[1.0,\"#f0f921\"]],\"diverging\":[[0,\"#8e0152\"],[0.1,\"#c51b7d\"],[0.2,\"#de77ae\"],[0.3,\"#f1b6da\"],[0.4,\"#fde0ef\"],[0.5,\"#f7f7f7\"],[0.6,\"#e6f5d0\"],[0.7,\"#b8e186\"],[0.8,\"#7fbc41\"],[0.9,\"#4d9221\"],[1,\"#276419\"]]},\"xaxis\":{\"gridcolor\":\"white\",\"linecolor\":\"white\",\"ticks\":\"\",\"title\":{\"standoff\":15},\"zerolinecolor\":\"white\",\"automargin\":true,\"zerolinewidth\":2},\"yaxis\":{\"gridcolor\":\"white\",\"linecolor\":\"white\",\"ticks\":\"\",\"title\":{\"standoff\":15},\"zerolinecolor\":\"white\",\"automargin\":true,\"zerolinewidth\":2},\"scene\":{\"xaxis\":{\"backgroundcolor\":\"#E5ECF6\",\"gridcolor\":\"white\",\"linecolor\":\"white\",\"showbackground\":true,\"ticks\":\"\",\"zerolinecolor\":\"white\",\"gridwidth\":2},\"yaxis\":{\"backgroundcolor\":\"#E5ECF6\",\"gridcolor\":\"white\",\"linecolor\":\"white\",\"showbackground\":true,\"ticks\":\"\",\"zerolinecolor\":\"white\",\"gridwidth\":2},\"zaxis\":{\"backgroundcolor\":\"#E5ECF6\",\"gridcolor\":\"white\",\"linecolor\":\"white\",\"showbackground\":true,\"ticks\":\"\",\"zerolinecolor\":\"white\",\"gridwidth\":2}},\"shapedefaults\":{\"line\":{\"color\":\"#2a3f5f\"}},\"annotationdefaults\":{\"arrowcolor\":\"#2a3f5f\",\"arrowhead\":0,\"arrowwidth\":1},\"geo\":{\"bgcolor\":\"white\",\"landcolor\":\"#E5ECF6\",\"subunitcolor\":\"white\",\"showland\":true,\"showlakes\":true,\"lakecolor\":\"white\"},\"title\":{\"x\":0.05},\"mapbox\":{\"style\":\"light\"}}},\"title\":{\"text\":\"Precision and Recall for Models\"},\"xaxis\":{\"title\":{\"text\":\"Models\"}},\"yaxis\":{\"title\":{\"text\":\"Metric Value (%)\"}}},                        {\"responsive\": true}                    ).then(function(){\n",
              "                            \n",
              "var gd = document.getElementById('3b5e8f4b-fcbe-4e79-bb37-6e699d3215a3');\n",
              "var x = new MutationObserver(function (mutations, observer) {{\n",
              "        var display = window.getComputedStyle(gd).display;\n",
              "        if (!display || display === 'none') {{\n",
              "            console.log([gd, 'removed!']);\n",
              "            Plotly.purge(gd);\n",
              "            observer.disconnect();\n",
              "        }}\n",
              "}});\n",
              "\n",
              "// Listen for the removal of the full notebook cells\n",
              "var notebookContainer = gd.closest('#notebook-container');\n",
              "if (notebookContainer) {{\n",
              "    x.observe(notebookContainer, {childList: true});\n",
              "}}\n",
              "\n",
              "// Listen for the clearing of the current output cell\n",
              "var outputEl = gd.closest('.output');\n",
              "if (outputEl) {{\n",
              "    x.observe(outputEl, {childList: true});\n",
              "}}\n",
              "\n",
              "                        })                };                            </script>        </div>\n",
              "</body>\n",
              "</html>"
            ]
          },
          "metadata": {}
        }
      ]
    },
    {
      "cell_type": "code",
      "source": [
        "import plotly.graph_objects as go\n",
        "from plotly.subplots import make_subplots # Import make_subplots\n",
        "\n",
        "# Sample data (replace with your actual data)\n",
        "models = ['Logistic Regression', 'SVM', 'Random Forest', 'Random Forest (CV)', 'XGBoost', 'XGBoost (Tuned)', 'XGBoost (CV)']\n",
        "accuracy = [82.02, 82.0, 83, 84.4, 81.2, 82.27, 65.4]  # Example accuracy values\n",
        "precision = [0.97, 0.95, 0.97, 0.96, 0.86, 0.92, 0.85]  # Example precision values\n",
        "recall = [0.91, 0.88, 0.91, 0.93, 0.54, 0.78, 0.45]  # Example recall values\n",
        "\n",
        "\n",
        "# Create subplots\n",
        "fig = make_subplots(rows=1, cols=3, subplot_titles=('Accuracy', 'Precision', 'Recall'))\n",
        "\n",
        "# Add traces for accuracy\n",
        "fig.add_trace(go.Bar(x=models, y=accuracy, name='Accuracy'), row=1, col=1)\n",
        "\n",
        "# Add traces for precision\n",
        "fig.add_trace(go.Bar(x=models, y=precision, name='Precision'), row=1, col=2)\n",
        "\n",
        "# Add traces for recall\n",
        "fig.add_trace(go.Bar(x=models, y=recall, name='Recall'), row=1, col=3)\n",
        "\n",
        "\n",
        "# Update layout\n",
        "fig.update_layout(height=500, width=1200, title_text=\"Model Evaluation Metrics\")\n",
        "\n",
        "# Show the plot\n",
        "fig.show()"
      ],
      "metadata": {
        "id": "rAUVltKr6zdv",
        "colab": {
          "base_uri": "https://localhost:8080/",
          "height": 517
        },
        "outputId": "093c72ff-0283-42f6-c5c1-7de5a0bfad49"
      },
      "execution_count": null,
      "outputs": [
        {
          "output_type": "display_data",
          "data": {
            "text/html": [
              "<html>\n",
              "<head><meta charset=\"utf-8\" /></head>\n",
              "<body>\n",
              "    <div>            <script src=\"https://cdnjs.cloudflare.com/ajax/libs/mathjax/2.7.5/MathJax.js?config=TeX-AMS-MML_SVG\"></script><script type=\"text/javascript\">if (window.MathJax && window.MathJax.Hub && window.MathJax.Hub.Config) {window.MathJax.Hub.Config({SVG: {font: \"STIX-Web\"}});}</script>                <script type=\"text/javascript\">window.PlotlyConfig = {MathJaxConfig: 'local'};</script>\n",
              "        <script charset=\"utf-8\" src=\"https://cdn.plot.ly/plotly-2.35.2.min.js\"></script>                <div id=\"0e8402b1-b3cf-4c94-8c0d-2916ff615ce1\" class=\"plotly-graph-div\" style=\"height:500px; width:1200px;\"></div>            <script type=\"text/javascript\">                                    window.PLOTLYENV=window.PLOTLYENV || {};                                    if (document.getElementById(\"0e8402b1-b3cf-4c94-8c0d-2916ff615ce1\")) {                    Plotly.newPlot(                        \"0e8402b1-b3cf-4c94-8c0d-2916ff615ce1\",                        [{\"name\":\"Accuracy\",\"x\":[\"Logistic Regression\",\"SVM\",\"Random Forest\",\"Random Forest (CV)\",\"XGBoost\",\"XGBoost (Tuned)\",\"XGBoost (CV)\"],\"y\":[82.02,82.0,83,84.4,81.2,82.27,65.4],\"type\":\"bar\",\"xaxis\":\"x\",\"yaxis\":\"y\"},{\"name\":\"Precision\",\"x\":[\"Logistic Regression\",\"SVM\",\"Random Forest\",\"Random Forest (CV)\",\"XGBoost\",\"XGBoost (Tuned)\",\"XGBoost (CV)\"],\"y\":[0.97,0.95,0.97,0.96,0.86,0.92,0.85],\"type\":\"bar\",\"xaxis\":\"x2\",\"yaxis\":\"y2\"},{\"name\":\"Recall\",\"x\":[\"Logistic Regression\",\"SVM\",\"Random Forest\",\"Random Forest (CV)\",\"XGBoost\",\"XGBoost (Tuned)\",\"XGBoost (CV)\"],\"y\":[0.91,0.88,0.91,0.93,0.54,0.78,0.45],\"type\":\"bar\",\"xaxis\":\"x3\",\"yaxis\":\"y3\"}],                        {\"template\":{\"data\":{\"histogram2dcontour\":[{\"type\":\"histogram2dcontour\",\"colorbar\":{\"outlinewidth\":0,\"ticks\":\"\"},\"colorscale\":[[0.0,\"#0d0887\"],[0.1111111111111111,\"#46039f\"],[0.2222222222222222,\"#7201a8\"],[0.3333333333333333,\"#9c179e\"],[0.4444444444444444,\"#bd3786\"],[0.5555555555555556,\"#d8576b\"],[0.6666666666666666,\"#ed7953\"],[0.7777777777777778,\"#fb9f3a\"],[0.8888888888888888,\"#fdca26\"],[1.0,\"#f0f921\"]]}],\"choropleth\":[{\"type\":\"choropleth\",\"colorbar\":{\"outlinewidth\":0,\"ticks\":\"\"}}],\"histogram2d\":[{\"type\":\"histogram2d\",\"colorbar\":{\"outlinewidth\":0,\"ticks\":\"\"},\"colorscale\":[[0.0,\"#0d0887\"],[0.1111111111111111,\"#46039f\"],[0.2222222222222222,\"#7201a8\"],[0.3333333333333333,\"#9c179e\"],[0.4444444444444444,\"#bd3786\"],[0.5555555555555556,\"#d8576b\"],[0.6666666666666666,\"#ed7953\"],[0.7777777777777778,\"#fb9f3a\"],[0.8888888888888888,\"#fdca26\"],[1.0,\"#f0f921\"]]}],\"heatmap\":[{\"type\":\"heatmap\",\"colorbar\":{\"outlinewidth\":0,\"ticks\":\"\"},\"colorscale\":[[0.0,\"#0d0887\"],[0.1111111111111111,\"#46039f\"],[0.2222222222222222,\"#7201a8\"],[0.3333333333333333,\"#9c179e\"],[0.4444444444444444,\"#bd3786\"],[0.5555555555555556,\"#d8576b\"],[0.6666666666666666,\"#ed7953\"],[0.7777777777777778,\"#fb9f3a\"],[0.8888888888888888,\"#fdca26\"],[1.0,\"#f0f921\"]]}],\"heatmapgl\":[{\"type\":\"heatmapgl\",\"colorbar\":{\"outlinewidth\":0,\"ticks\":\"\"},\"colorscale\":[[0.0,\"#0d0887\"],[0.1111111111111111,\"#46039f\"],[0.2222222222222222,\"#7201a8\"],[0.3333333333333333,\"#9c179e\"],[0.4444444444444444,\"#bd3786\"],[0.5555555555555556,\"#d8576b\"],[0.6666666666666666,\"#ed7953\"],[0.7777777777777778,\"#fb9f3a\"],[0.8888888888888888,\"#fdca26\"],[1.0,\"#f0f921\"]]}],\"contourcarpet\":[{\"type\":\"contourcarpet\",\"colorbar\":{\"outlinewidth\":0,\"ticks\":\"\"}}],\"contour\":[{\"type\":\"contour\",\"colorbar\":{\"outlinewidth\":0,\"ticks\":\"\"},\"colorscale\":[[0.0,\"#0d0887\"],[0.1111111111111111,\"#46039f\"],[0.2222222222222222,\"#7201a8\"],[0.3333333333333333,\"#9c179e\"],[0.4444444444444444,\"#bd3786\"],[0.5555555555555556,\"#d8576b\"],[0.6666666666666666,\"#ed7953\"],[0.7777777777777778,\"#fb9f3a\"],[0.8888888888888888,\"#fdca26\"],[1.0,\"#f0f921\"]]}],\"surface\":[{\"type\":\"surface\",\"colorbar\":{\"outlinewidth\":0,\"ticks\":\"\"},\"colorscale\":[[0.0,\"#0d0887\"],[0.1111111111111111,\"#46039f\"],[0.2222222222222222,\"#7201a8\"],[0.3333333333333333,\"#9c179e\"],[0.4444444444444444,\"#bd3786\"],[0.5555555555555556,\"#d8576b\"],[0.6666666666666666,\"#ed7953\"],[0.7777777777777778,\"#fb9f3a\"],[0.8888888888888888,\"#fdca26\"],[1.0,\"#f0f921\"]]}],\"mesh3d\":[{\"type\":\"mesh3d\",\"colorbar\":{\"outlinewidth\":0,\"ticks\":\"\"}}],\"scatter\":[{\"fillpattern\":{\"fillmode\":\"overlay\",\"size\":10,\"solidity\":0.2},\"type\":\"scatter\"}],\"parcoords\":[{\"type\":\"parcoords\",\"line\":{\"colorbar\":{\"outlinewidth\":0,\"ticks\":\"\"}}}],\"scatterpolargl\":[{\"type\":\"scatterpolargl\",\"marker\":{\"colorbar\":{\"outlinewidth\":0,\"ticks\":\"\"}}}],\"bar\":[{\"error_x\":{\"color\":\"#2a3f5f\"},\"error_y\":{\"color\":\"#2a3f5f\"},\"marker\":{\"line\":{\"color\":\"#E5ECF6\",\"width\":0.5},\"pattern\":{\"fillmode\":\"overlay\",\"size\":10,\"solidity\":0.2}},\"type\":\"bar\"}],\"scattergeo\":[{\"type\":\"scattergeo\",\"marker\":{\"colorbar\":{\"outlinewidth\":0,\"ticks\":\"\"}}}],\"scatterpolar\":[{\"type\":\"scatterpolar\",\"marker\":{\"colorbar\":{\"outlinewidth\":0,\"ticks\":\"\"}}}],\"histogram\":[{\"marker\":{\"pattern\":{\"fillmode\":\"overlay\",\"size\":10,\"solidity\":0.2}},\"type\":\"histogram\"}],\"scattergl\":[{\"type\":\"scattergl\",\"marker\":{\"colorbar\":{\"outlinewidth\":0,\"ticks\":\"\"}}}],\"scatter3d\":[{\"type\":\"scatter3d\",\"line\":{\"colorbar\":{\"outlinewidth\":0,\"ticks\":\"\"}},\"marker\":{\"colorbar\":{\"outlinewidth\":0,\"ticks\":\"\"}}}],\"scattermapbox\":[{\"type\":\"scattermapbox\",\"marker\":{\"colorbar\":{\"outlinewidth\":0,\"ticks\":\"\"}}}],\"scatterternary\":[{\"type\":\"scatterternary\",\"marker\":{\"colorbar\":{\"outlinewidth\":0,\"ticks\":\"\"}}}],\"scattercarpet\":[{\"type\":\"scattercarpet\",\"marker\":{\"colorbar\":{\"outlinewidth\":0,\"ticks\":\"\"}}}],\"carpet\":[{\"aaxis\":{\"endlinecolor\":\"#2a3f5f\",\"gridcolor\":\"white\",\"linecolor\":\"white\",\"minorgridcolor\":\"white\",\"startlinecolor\":\"#2a3f5f\"},\"baxis\":{\"endlinecolor\":\"#2a3f5f\",\"gridcolor\":\"white\",\"linecolor\":\"white\",\"minorgridcolor\":\"white\",\"startlinecolor\":\"#2a3f5f\"},\"type\":\"carpet\"}],\"table\":[{\"cells\":{\"fill\":{\"color\":\"#EBF0F8\"},\"line\":{\"color\":\"white\"}},\"header\":{\"fill\":{\"color\":\"#C8D4E3\"},\"line\":{\"color\":\"white\"}},\"type\":\"table\"}],\"barpolar\":[{\"marker\":{\"line\":{\"color\":\"#E5ECF6\",\"width\":0.5},\"pattern\":{\"fillmode\":\"overlay\",\"size\":10,\"solidity\":0.2}},\"type\":\"barpolar\"}],\"pie\":[{\"automargin\":true,\"type\":\"pie\"}]},\"layout\":{\"autotypenumbers\":\"strict\",\"colorway\":[\"#636efa\",\"#EF553B\",\"#00cc96\",\"#ab63fa\",\"#FFA15A\",\"#19d3f3\",\"#FF6692\",\"#B6E880\",\"#FF97FF\",\"#FECB52\"],\"font\":{\"color\":\"#2a3f5f\"},\"hovermode\":\"closest\",\"hoverlabel\":{\"align\":\"left\"},\"paper_bgcolor\":\"white\",\"plot_bgcolor\":\"#E5ECF6\",\"polar\":{\"bgcolor\":\"#E5ECF6\",\"angularaxis\":{\"gridcolor\":\"white\",\"linecolor\":\"white\",\"ticks\":\"\"},\"radialaxis\":{\"gridcolor\":\"white\",\"linecolor\":\"white\",\"ticks\":\"\"}},\"ternary\":{\"bgcolor\":\"#E5ECF6\",\"aaxis\":{\"gridcolor\":\"white\",\"linecolor\":\"white\",\"ticks\":\"\"},\"baxis\":{\"gridcolor\":\"white\",\"linecolor\":\"white\",\"ticks\":\"\"},\"caxis\":{\"gridcolor\":\"white\",\"linecolor\":\"white\",\"ticks\":\"\"}},\"coloraxis\":{\"colorbar\":{\"outlinewidth\":0,\"ticks\":\"\"}},\"colorscale\":{\"sequential\":[[0.0,\"#0d0887\"],[0.1111111111111111,\"#46039f\"],[0.2222222222222222,\"#7201a8\"],[0.3333333333333333,\"#9c179e\"],[0.4444444444444444,\"#bd3786\"],[0.5555555555555556,\"#d8576b\"],[0.6666666666666666,\"#ed7953\"],[0.7777777777777778,\"#fb9f3a\"],[0.8888888888888888,\"#fdca26\"],[1.0,\"#f0f921\"]],\"sequentialminus\":[[0.0,\"#0d0887\"],[0.1111111111111111,\"#46039f\"],[0.2222222222222222,\"#7201a8\"],[0.3333333333333333,\"#9c179e\"],[0.4444444444444444,\"#bd3786\"],[0.5555555555555556,\"#d8576b\"],[0.6666666666666666,\"#ed7953\"],[0.7777777777777778,\"#fb9f3a\"],[0.8888888888888888,\"#fdca26\"],[1.0,\"#f0f921\"]],\"diverging\":[[0,\"#8e0152\"],[0.1,\"#c51b7d\"],[0.2,\"#de77ae\"],[0.3,\"#f1b6da\"],[0.4,\"#fde0ef\"],[0.5,\"#f7f7f7\"],[0.6,\"#e6f5d0\"],[0.7,\"#b8e186\"],[0.8,\"#7fbc41\"],[0.9,\"#4d9221\"],[1,\"#276419\"]]},\"xaxis\":{\"gridcolor\":\"white\",\"linecolor\":\"white\",\"ticks\":\"\",\"title\":{\"standoff\":15},\"zerolinecolor\":\"white\",\"automargin\":true,\"zerolinewidth\":2},\"yaxis\":{\"gridcolor\":\"white\",\"linecolor\":\"white\",\"ticks\":\"\",\"title\":{\"standoff\":15},\"zerolinecolor\":\"white\",\"automargin\":true,\"zerolinewidth\":2},\"scene\":{\"xaxis\":{\"backgroundcolor\":\"#E5ECF6\",\"gridcolor\":\"white\",\"linecolor\":\"white\",\"showbackground\":true,\"ticks\":\"\",\"zerolinecolor\":\"white\",\"gridwidth\":2},\"yaxis\":{\"backgroundcolor\":\"#E5ECF6\",\"gridcolor\":\"white\",\"linecolor\":\"white\",\"showbackground\":true,\"ticks\":\"\",\"zerolinecolor\":\"white\",\"gridwidth\":2},\"zaxis\":{\"backgroundcolor\":\"#E5ECF6\",\"gridcolor\":\"white\",\"linecolor\":\"white\",\"showbackground\":true,\"ticks\":\"\",\"zerolinecolor\":\"white\",\"gridwidth\":2}},\"shapedefaults\":{\"line\":{\"color\":\"#2a3f5f\"}},\"annotationdefaults\":{\"arrowcolor\":\"#2a3f5f\",\"arrowhead\":0,\"arrowwidth\":1},\"geo\":{\"bgcolor\":\"white\",\"landcolor\":\"#E5ECF6\",\"subunitcolor\":\"white\",\"showland\":true,\"showlakes\":true,\"lakecolor\":\"white\"},\"title\":{\"x\":0.05},\"mapbox\":{\"style\":\"light\"}}},\"xaxis\":{\"anchor\":\"y\",\"domain\":[0.0,0.2888888888888889]},\"yaxis\":{\"anchor\":\"x\",\"domain\":[0.0,1.0]},\"xaxis2\":{\"anchor\":\"y2\",\"domain\":[0.35555555555555557,0.6444444444444445]},\"yaxis2\":{\"anchor\":\"x2\",\"domain\":[0.0,1.0]},\"xaxis3\":{\"anchor\":\"y3\",\"domain\":[0.7111111111111111,1.0]},\"yaxis3\":{\"anchor\":\"x3\",\"domain\":[0.0,1.0]},\"annotations\":[{\"font\":{\"size\":16},\"showarrow\":false,\"text\":\"Accuracy\",\"x\":0.14444444444444446,\"xanchor\":\"center\",\"xref\":\"paper\",\"y\":1.0,\"yanchor\":\"bottom\",\"yref\":\"paper\"},{\"font\":{\"size\":16},\"showarrow\":false,\"text\":\"Precision\",\"x\":0.5,\"xanchor\":\"center\",\"xref\":\"paper\",\"y\":1.0,\"yanchor\":\"bottom\",\"yref\":\"paper\"},{\"font\":{\"size\":16},\"showarrow\":false,\"text\":\"Recall\",\"x\":0.8555555555555556,\"xanchor\":\"center\",\"xref\":\"paper\",\"y\":1.0,\"yanchor\":\"bottom\",\"yref\":\"paper\"}],\"title\":{\"text\":\"Model Evaluation Metrics\"},\"height\":500,\"width\":1200},                        {\"responsive\": true}                    ).then(function(){\n",
              "                            \n",
              "var gd = document.getElementById('0e8402b1-b3cf-4c94-8c0d-2916ff615ce1');\n",
              "var x = new MutationObserver(function (mutations, observer) {{\n",
              "        var display = window.getComputedStyle(gd).display;\n",
              "        if (!display || display === 'none') {{\n",
              "            console.log([gd, 'removed!']);\n",
              "            Plotly.purge(gd);\n",
              "            observer.disconnect();\n",
              "        }}\n",
              "}});\n",
              "\n",
              "// Listen for the removal of the full notebook cells\n",
              "var notebookContainer = gd.closest('#notebook-container');\n",
              "if (notebookContainer) {{\n",
              "    x.observe(notebookContainer, {childList: true});\n",
              "}}\n",
              "\n",
              "// Listen for the clearing of the current output cell\n",
              "var outputEl = gd.closest('.output');\n",
              "if (outputEl) {{\n",
              "    x.observe(outputEl, {childList: true});\n",
              "}}\n",
              "\n",
              "                        })                };                            </script>        </div>\n",
              "</body>\n",
              "</html>"
            ]
          },
          "metadata": {}
        }
      ]
    },
    {
      "cell_type": "code",
      "source": [],
      "metadata": {
        "id": "3S8A29Kz6zgX"
      },
      "execution_count": null,
      "outputs": []
    },
    {
      "cell_type": "code",
      "source": [
        "import plotly.graph_objects as go\n",
        "\n",
        "# Metrics data without SVM\n",
        "models = ['Random', 'Logistic Regression', 'Random Forest',\n",
        "          'RF Stratified KFold', 'XGBoost', 'XGBoost Tuned', 'XGBoost Stratified KFold']\n",
        "\n",
        "accuracy = [0.5010, 0.8202, 0.8300, 0.8441, 0.8123, 0.8227, 0.6542]\n",
        "precision_class_1 = [0.25, 0.59, 0.60, 0.60, 0.64, 0.61, 0.41]\n",
        "recall_class_1 = [0.51, 0.91, 0.91, 0.91, 0.54, 0.78, 0.98]\n",
        "roc_auc = [0.5031, 0.9166, 0.8810, 0.9251, 0.8557, 0.8869, 0.9033]\n",
        "\n",
        "# Create subplots\n",
        "from plotly.subplots import make_subplots\n",
        "\n",
        "fig = make_subplots(\n",
        "    rows=2, cols=2,\n",
        "    subplot_titles=(\"Accuracy\", \"Precision (Class 1)\", \"Recall (Class 1)\", \"ROC-AUC\")\n",
        ")\n",
        "\n",
        "# Accuracy Plot\n",
        "fig.add_trace(\n",
        "    go.Bar(x=models, y=accuracy, name=\"Accuracy\", marker_color='skyblue'),\n",
        "    row=1, col=1\n",
        ")\n",
        "\n",
        "# Precision (Class 1) Plot\n",
        "fig.add_trace(\n",
        "    go.Bar(x=models, y=precision_class_1, name=\"Precision (Class 1)\", marker_color='lightgreen'),\n",
        "    row=1, col=2\n",
        ")\n",
        "\n",
        "# Recall (Class 1) Plot\n",
        "fig.add_trace(\n",
        "    go.Bar(x=models, y=recall_class_1, name=\"Recall (Class 1)\", marker_color='salmon'),\n",
        "    row=2, col=1\n",
        ")\n",
        "\n",
        "# ROC-AUC Plot\n",
        "fig.add_trace(\n",
        "    go.Bar(x=models, y=roc_auc, name=\"ROC-AUC\", marker_color='orange'),\n",
        "    row=2, col=2\n",
        ")\n",
        "\n",
        "# Update layout\n",
        "fig.update_layout(\n",
        "    height=800, width=1000, title_text=\"Model Performance Metrics\",\n",
        "    showlegend=False\n",
        ")\n",
        "\n",
        "# Update x-axis labels for readability\n",
        "fig.update_xaxes(tickangle=45)\n",
        "\n",
        "# Show the plot\n",
        "fig.show()\n"
      ],
      "metadata": {
        "colab": {
          "base_uri": "https://localhost:8080/",
          "height": 817
        },
        "id": "6DFXpkkhBfLN",
        "outputId": "e0b88058-7ddf-443c-a586-6cd99c7cd079"
      },
      "execution_count": null,
      "outputs": [
        {
          "output_type": "display_data",
          "data": {
            "text/html": [
              "<html>\n",
              "<head><meta charset=\"utf-8\" /></head>\n",
              "<body>\n",
              "    <div>            <script src=\"https://cdnjs.cloudflare.com/ajax/libs/mathjax/2.7.5/MathJax.js?config=TeX-AMS-MML_SVG\"></script><script type=\"text/javascript\">if (window.MathJax && window.MathJax.Hub && window.MathJax.Hub.Config) {window.MathJax.Hub.Config({SVG: {font: \"STIX-Web\"}});}</script>                <script type=\"text/javascript\">window.PlotlyConfig = {MathJaxConfig: 'local'};</script>\n",
              "        <script charset=\"utf-8\" src=\"https://cdn.plot.ly/plotly-2.35.2.min.js\"></script>                <div id=\"26def047-61ea-4b9c-8a0f-fd6d377b5d4a\" class=\"plotly-graph-div\" style=\"height:800px; width:1000px;\"></div>            <script type=\"text/javascript\">                                    window.PLOTLYENV=window.PLOTLYENV || {};                                    if (document.getElementById(\"26def047-61ea-4b9c-8a0f-fd6d377b5d4a\")) {                    Plotly.newPlot(                        \"26def047-61ea-4b9c-8a0f-fd6d377b5d4a\",                        [{\"marker\":{\"color\":\"skyblue\"},\"name\":\"Accuracy\",\"x\":[\"Random\",\"Logistic Regression\",\"Random Forest\",\"RF Stratified KFold\",\"XGBoost\",\"XGBoost Tuned\",\"XGBoost Stratified KFold\"],\"y\":[0.501,0.8202,0.83,0.8441,0.8123,0.8227,0.6542],\"type\":\"bar\",\"xaxis\":\"x\",\"yaxis\":\"y\"},{\"marker\":{\"color\":\"lightgreen\"},\"name\":\"Precision (Class 1)\",\"x\":[\"Random\",\"Logistic Regression\",\"Random Forest\",\"RF Stratified KFold\",\"XGBoost\",\"XGBoost Tuned\",\"XGBoost Stratified KFold\"],\"y\":[0.25,0.59,0.6,0.6,0.64,0.61,0.41],\"type\":\"bar\",\"xaxis\":\"x2\",\"yaxis\":\"y2\"},{\"marker\":{\"color\":\"salmon\"},\"name\":\"Recall (Class 1)\",\"x\":[\"Random\",\"Logistic Regression\",\"Random Forest\",\"RF Stratified KFold\",\"XGBoost\",\"XGBoost Tuned\",\"XGBoost Stratified KFold\"],\"y\":[0.51,0.91,0.91,0.91,0.54,0.78,0.98],\"type\":\"bar\",\"xaxis\":\"x3\",\"yaxis\":\"y3\"},{\"marker\":{\"color\":\"orange\"},\"name\":\"ROC-AUC\",\"x\":[\"Random\",\"Logistic Regression\",\"Random Forest\",\"RF Stratified KFold\",\"XGBoost\",\"XGBoost Tuned\",\"XGBoost Stratified KFold\"],\"y\":[0.5031,0.9166,0.881,0.9251,0.8557,0.8869,0.9033],\"type\":\"bar\",\"xaxis\":\"x4\",\"yaxis\":\"y4\"}],                        {\"template\":{\"data\":{\"histogram2dcontour\":[{\"type\":\"histogram2dcontour\",\"colorbar\":{\"outlinewidth\":0,\"ticks\":\"\"},\"colorscale\":[[0.0,\"#0d0887\"],[0.1111111111111111,\"#46039f\"],[0.2222222222222222,\"#7201a8\"],[0.3333333333333333,\"#9c179e\"],[0.4444444444444444,\"#bd3786\"],[0.5555555555555556,\"#d8576b\"],[0.6666666666666666,\"#ed7953\"],[0.7777777777777778,\"#fb9f3a\"],[0.8888888888888888,\"#fdca26\"],[1.0,\"#f0f921\"]]}],\"choropleth\":[{\"type\":\"choropleth\",\"colorbar\":{\"outlinewidth\":0,\"ticks\":\"\"}}],\"histogram2d\":[{\"type\":\"histogram2d\",\"colorbar\":{\"outlinewidth\":0,\"ticks\":\"\"},\"colorscale\":[[0.0,\"#0d0887\"],[0.1111111111111111,\"#46039f\"],[0.2222222222222222,\"#7201a8\"],[0.3333333333333333,\"#9c179e\"],[0.4444444444444444,\"#bd3786\"],[0.5555555555555556,\"#d8576b\"],[0.6666666666666666,\"#ed7953\"],[0.7777777777777778,\"#fb9f3a\"],[0.8888888888888888,\"#fdca26\"],[1.0,\"#f0f921\"]]}],\"heatmap\":[{\"type\":\"heatmap\",\"colorbar\":{\"outlinewidth\":0,\"ticks\":\"\"},\"colorscale\":[[0.0,\"#0d0887\"],[0.1111111111111111,\"#46039f\"],[0.2222222222222222,\"#7201a8\"],[0.3333333333333333,\"#9c179e\"],[0.4444444444444444,\"#bd3786\"],[0.5555555555555556,\"#d8576b\"],[0.6666666666666666,\"#ed7953\"],[0.7777777777777778,\"#fb9f3a\"],[0.8888888888888888,\"#fdca26\"],[1.0,\"#f0f921\"]]}],\"heatmapgl\":[{\"type\":\"heatmapgl\",\"colorbar\":{\"outlinewidth\":0,\"ticks\":\"\"},\"colorscale\":[[0.0,\"#0d0887\"],[0.1111111111111111,\"#46039f\"],[0.2222222222222222,\"#7201a8\"],[0.3333333333333333,\"#9c179e\"],[0.4444444444444444,\"#bd3786\"],[0.5555555555555556,\"#d8576b\"],[0.6666666666666666,\"#ed7953\"],[0.7777777777777778,\"#fb9f3a\"],[0.8888888888888888,\"#fdca26\"],[1.0,\"#f0f921\"]]}],\"contourcarpet\":[{\"type\":\"contourcarpet\",\"colorbar\":{\"outlinewidth\":0,\"ticks\":\"\"}}],\"contour\":[{\"type\":\"contour\",\"colorbar\":{\"outlinewidth\":0,\"ticks\":\"\"},\"colorscale\":[[0.0,\"#0d0887\"],[0.1111111111111111,\"#46039f\"],[0.2222222222222222,\"#7201a8\"],[0.3333333333333333,\"#9c179e\"],[0.4444444444444444,\"#bd3786\"],[0.5555555555555556,\"#d8576b\"],[0.6666666666666666,\"#ed7953\"],[0.7777777777777778,\"#fb9f3a\"],[0.8888888888888888,\"#fdca26\"],[1.0,\"#f0f921\"]]}],\"surface\":[{\"type\":\"surface\",\"colorbar\":{\"outlinewidth\":0,\"ticks\":\"\"},\"colorscale\":[[0.0,\"#0d0887\"],[0.1111111111111111,\"#46039f\"],[0.2222222222222222,\"#7201a8\"],[0.3333333333333333,\"#9c179e\"],[0.4444444444444444,\"#bd3786\"],[0.5555555555555556,\"#d8576b\"],[0.6666666666666666,\"#ed7953\"],[0.7777777777777778,\"#fb9f3a\"],[0.8888888888888888,\"#fdca26\"],[1.0,\"#f0f921\"]]}],\"mesh3d\":[{\"type\":\"mesh3d\",\"colorbar\":{\"outlinewidth\":0,\"ticks\":\"\"}}],\"scatter\":[{\"fillpattern\":{\"fillmode\":\"overlay\",\"size\":10,\"solidity\":0.2},\"type\":\"scatter\"}],\"parcoords\":[{\"type\":\"parcoords\",\"line\":{\"colorbar\":{\"outlinewidth\":0,\"ticks\":\"\"}}}],\"scatterpolargl\":[{\"type\":\"scatterpolargl\",\"marker\":{\"colorbar\":{\"outlinewidth\":0,\"ticks\":\"\"}}}],\"bar\":[{\"error_x\":{\"color\":\"#2a3f5f\"},\"error_y\":{\"color\":\"#2a3f5f\"},\"marker\":{\"line\":{\"color\":\"#E5ECF6\",\"width\":0.5},\"pattern\":{\"fillmode\":\"overlay\",\"size\":10,\"solidity\":0.2}},\"type\":\"bar\"}],\"scattergeo\":[{\"type\":\"scattergeo\",\"marker\":{\"colorbar\":{\"outlinewidth\":0,\"ticks\":\"\"}}}],\"scatterpolar\":[{\"type\":\"scatterpolar\",\"marker\":{\"colorbar\":{\"outlinewidth\":0,\"ticks\":\"\"}}}],\"histogram\":[{\"marker\":{\"pattern\":{\"fillmode\":\"overlay\",\"size\":10,\"solidity\":0.2}},\"type\":\"histogram\"}],\"scattergl\":[{\"type\":\"scattergl\",\"marker\":{\"colorbar\":{\"outlinewidth\":0,\"ticks\":\"\"}}}],\"scatter3d\":[{\"type\":\"scatter3d\",\"line\":{\"colorbar\":{\"outlinewidth\":0,\"ticks\":\"\"}},\"marker\":{\"colorbar\":{\"outlinewidth\":0,\"ticks\":\"\"}}}],\"scattermapbox\":[{\"type\":\"scattermapbox\",\"marker\":{\"colorbar\":{\"outlinewidth\":0,\"ticks\":\"\"}}}],\"scatterternary\":[{\"type\":\"scatterternary\",\"marker\":{\"colorbar\":{\"outlinewidth\":0,\"ticks\":\"\"}}}],\"scattercarpet\":[{\"type\":\"scattercarpet\",\"marker\":{\"colorbar\":{\"outlinewidth\":0,\"ticks\":\"\"}}}],\"carpet\":[{\"aaxis\":{\"endlinecolor\":\"#2a3f5f\",\"gridcolor\":\"white\",\"linecolor\":\"white\",\"minorgridcolor\":\"white\",\"startlinecolor\":\"#2a3f5f\"},\"baxis\":{\"endlinecolor\":\"#2a3f5f\",\"gridcolor\":\"white\",\"linecolor\":\"white\",\"minorgridcolor\":\"white\",\"startlinecolor\":\"#2a3f5f\"},\"type\":\"carpet\"}],\"table\":[{\"cells\":{\"fill\":{\"color\":\"#EBF0F8\"},\"line\":{\"color\":\"white\"}},\"header\":{\"fill\":{\"color\":\"#C8D4E3\"},\"line\":{\"color\":\"white\"}},\"type\":\"table\"}],\"barpolar\":[{\"marker\":{\"line\":{\"color\":\"#E5ECF6\",\"width\":0.5},\"pattern\":{\"fillmode\":\"overlay\",\"size\":10,\"solidity\":0.2}},\"type\":\"barpolar\"}],\"pie\":[{\"automargin\":true,\"type\":\"pie\"}]},\"layout\":{\"autotypenumbers\":\"strict\",\"colorway\":[\"#636efa\",\"#EF553B\",\"#00cc96\",\"#ab63fa\",\"#FFA15A\",\"#19d3f3\",\"#FF6692\",\"#B6E880\",\"#FF97FF\",\"#FECB52\"],\"font\":{\"color\":\"#2a3f5f\"},\"hovermode\":\"closest\",\"hoverlabel\":{\"align\":\"left\"},\"paper_bgcolor\":\"white\",\"plot_bgcolor\":\"#E5ECF6\",\"polar\":{\"bgcolor\":\"#E5ECF6\",\"angularaxis\":{\"gridcolor\":\"white\",\"linecolor\":\"white\",\"ticks\":\"\"},\"radialaxis\":{\"gridcolor\":\"white\",\"linecolor\":\"white\",\"ticks\":\"\"}},\"ternary\":{\"bgcolor\":\"#E5ECF6\",\"aaxis\":{\"gridcolor\":\"white\",\"linecolor\":\"white\",\"ticks\":\"\"},\"baxis\":{\"gridcolor\":\"white\",\"linecolor\":\"white\",\"ticks\":\"\"},\"caxis\":{\"gridcolor\":\"white\",\"linecolor\":\"white\",\"ticks\":\"\"}},\"coloraxis\":{\"colorbar\":{\"outlinewidth\":0,\"ticks\":\"\"}},\"colorscale\":{\"sequential\":[[0.0,\"#0d0887\"],[0.1111111111111111,\"#46039f\"],[0.2222222222222222,\"#7201a8\"],[0.3333333333333333,\"#9c179e\"],[0.4444444444444444,\"#bd3786\"],[0.5555555555555556,\"#d8576b\"],[0.6666666666666666,\"#ed7953\"],[0.7777777777777778,\"#fb9f3a\"],[0.8888888888888888,\"#fdca26\"],[1.0,\"#f0f921\"]],\"sequentialminus\":[[0.0,\"#0d0887\"],[0.1111111111111111,\"#46039f\"],[0.2222222222222222,\"#7201a8\"],[0.3333333333333333,\"#9c179e\"],[0.4444444444444444,\"#bd3786\"],[0.5555555555555556,\"#d8576b\"],[0.6666666666666666,\"#ed7953\"],[0.7777777777777778,\"#fb9f3a\"],[0.8888888888888888,\"#fdca26\"],[1.0,\"#f0f921\"]],\"diverging\":[[0,\"#8e0152\"],[0.1,\"#c51b7d\"],[0.2,\"#de77ae\"],[0.3,\"#f1b6da\"],[0.4,\"#fde0ef\"],[0.5,\"#f7f7f7\"],[0.6,\"#e6f5d0\"],[0.7,\"#b8e186\"],[0.8,\"#7fbc41\"],[0.9,\"#4d9221\"],[1,\"#276419\"]]},\"xaxis\":{\"gridcolor\":\"white\",\"linecolor\":\"white\",\"ticks\":\"\",\"title\":{\"standoff\":15},\"zerolinecolor\":\"white\",\"automargin\":true,\"zerolinewidth\":2},\"yaxis\":{\"gridcolor\":\"white\",\"linecolor\":\"white\",\"ticks\":\"\",\"title\":{\"standoff\":15},\"zerolinecolor\":\"white\",\"automargin\":true,\"zerolinewidth\":2},\"scene\":{\"xaxis\":{\"backgroundcolor\":\"#E5ECF6\",\"gridcolor\":\"white\",\"linecolor\":\"white\",\"showbackground\":true,\"ticks\":\"\",\"zerolinecolor\":\"white\",\"gridwidth\":2},\"yaxis\":{\"backgroundcolor\":\"#E5ECF6\",\"gridcolor\":\"white\",\"linecolor\":\"white\",\"showbackground\":true,\"ticks\":\"\",\"zerolinecolor\":\"white\",\"gridwidth\":2},\"zaxis\":{\"backgroundcolor\":\"#E5ECF6\",\"gridcolor\":\"white\",\"linecolor\":\"white\",\"showbackground\":true,\"ticks\":\"\",\"zerolinecolor\":\"white\",\"gridwidth\":2}},\"shapedefaults\":{\"line\":{\"color\":\"#2a3f5f\"}},\"annotationdefaults\":{\"arrowcolor\":\"#2a3f5f\",\"arrowhead\":0,\"arrowwidth\":1},\"geo\":{\"bgcolor\":\"white\",\"landcolor\":\"#E5ECF6\",\"subunitcolor\":\"white\",\"showland\":true,\"showlakes\":true,\"lakecolor\":\"white\"},\"title\":{\"x\":0.05},\"mapbox\":{\"style\":\"light\"}}},\"xaxis\":{\"anchor\":\"y\",\"domain\":[0.0,0.45],\"tickangle\":45},\"yaxis\":{\"anchor\":\"x\",\"domain\":[0.625,1.0]},\"xaxis2\":{\"anchor\":\"y2\",\"domain\":[0.55,1.0],\"tickangle\":45},\"yaxis2\":{\"anchor\":\"x2\",\"domain\":[0.625,1.0]},\"xaxis3\":{\"anchor\":\"y3\",\"domain\":[0.0,0.45],\"tickangle\":45},\"yaxis3\":{\"anchor\":\"x3\",\"domain\":[0.0,0.375]},\"xaxis4\":{\"anchor\":\"y4\",\"domain\":[0.55,1.0],\"tickangle\":45},\"yaxis4\":{\"anchor\":\"x4\",\"domain\":[0.0,0.375]},\"annotations\":[{\"font\":{\"size\":16},\"showarrow\":false,\"text\":\"Accuracy\",\"x\":0.225,\"xanchor\":\"center\",\"xref\":\"paper\",\"y\":1.0,\"yanchor\":\"bottom\",\"yref\":\"paper\"},{\"font\":{\"size\":16},\"showarrow\":false,\"text\":\"Precision (Class 1)\",\"x\":0.775,\"xanchor\":\"center\",\"xref\":\"paper\",\"y\":1.0,\"yanchor\":\"bottom\",\"yref\":\"paper\"},{\"font\":{\"size\":16},\"showarrow\":false,\"text\":\"Recall (Class 1)\",\"x\":0.225,\"xanchor\":\"center\",\"xref\":\"paper\",\"y\":0.375,\"yanchor\":\"bottom\",\"yref\":\"paper\"},{\"font\":{\"size\":16},\"showarrow\":false,\"text\":\"ROC-AUC\",\"x\":0.775,\"xanchor\":\"center\",\"xref\":\"paper\",\"y\":0.375,\"yanchor\":\"bottom\",\"yref\":\"paper\"}],\"title\":{\"text\":\"Model Performance Metrics\"},\"height\":800,\"width\":1000,\"showlegend\":false},                        {\"responsive\": true}                    ).then(function(){\n",
              "                            \n",
              "var gd = document.getElementById('26def047-61ea-4b9c-8a0f-fd6d377b5d4a');\n",
              "var x = new MutationObserver(function (mutations, observer) {{\n",
              "        var display = window.getComputedStyle(gd).display;\n",
              "        if (!display || display === 'none') {{\n",
              "            console.log([gd, 'removed!']);\n",
              "            Plotly.purge(gd);\n",
              "            observer.disconnect();\n",
              "        }}\n",
              "}});\n",
              "\n",
              "// Listen for the removal of the full notebook cells\n",
              "var notebookContainer = gd.closest('#notebook-container');\n",
              "if (notebookContainer) {{\n",
              "    x.observe(notebookContainer, {childList: true});\n",
              "}}\n",
              "\n",
              "// Listen for the clearing of the current output cell\n",
              "var outputEl = gd.closest('.output');\n",
              "if (outputEl) {{\n",
              "    x.observe(outputEl, {childList: true});\n",
              "}}\n",
              "\n",
              "                        })                };                            </script>        </div>\n",
              "</body>\n",
              "</html>"
            ]
          },
          "metadata": {}
        }
      ]
    },
    {
      "cell_type": "code",
      "source": [
        "# prompt: ok now handle, outliers , by using different techniques , use different methods to handle imbalance data,, generate features if you want  use diffierent vlaidation techniques, use regualrization  , make sure you handle outliers well and  , do hypertuning to get the best  SVM model\n",
        "\n",
        "from sklearn.model_selection import GridSearchCV, train_test_split\n",
        "from sklearn.metrics import make_scorer, precision_score, recall_score, f1_score, precision_recall_curve, accuracy_score, roc_auc_score, classification_report, confusion_matrix\n",
        "from sklearn.preprocessing import StandardScaler\n",
        "from sklearn.svm import SVC\n",
        "from imblearn.over_sampling import SMOTE\n",
        "import numpy as np\n",
        "import pandas as pd\n",
        "\n",
        "# Assuming X_train and X_test are your features and target variable\n",
        "# Replace with your actual data loading and preprocessing\n",
        "\n",
        "# 1. Outlier Handling (using IQR method as an example)\n",
        "def remove_outliers_iqr(data, column):\n",
        "    Q1 = data[column].quantile(0.25)\n",
        "    Q3 = data[column].quantile(0.75)\n",
        "    IQR = Q3 - Q1\n",
        "    lower_bound = Q1 - 1.5 * IQR\n",
        "    upper_bound = Q3 + 1.5 * IQR\n",
        "    data = data[(data[column] >= lower_bound) & (data[column] <= upper_bound)]\n",
        "    return data\n",
        "\n",
        "# Example usage:\n",
        "# for col in ['column1', 'column2']:  # replace with your numerical columns\n",
        "#      X_train = remove_outliers_iqr(X_train, col)  # Update to use X_train\n",
        "#      X_test = remove_outliers_iqr(X_test, col)  # Update to use X_test\n",
        "\n",
        "# 2. Feature Scaling\n",
        "\n",
        "# Convert X_test to DataFrame if it's not already\n",
        "# This is the key change to fix the TypeError\n",
        "X_test = pd.DataFrame(X_test, columns=X_train.columns)\n",
        "\n",
        "# Combine X_train and X_test for scaling\n",
        "X = pd.concat([X_train, X_test])\n",
        "\n",
        "scaler = StandardScaler()\n",
        "X_scaled = scaler.fit_transform(X)\n",
        "X = pd.DataFrame(X_scaled, columns=X.columns)  # converting back to pandas dataframe\n",
        "\n",
        "# Split back into X_train and X_test\n",
        "X_train = X.iloc[:X_train.shape[0]]\n",
        "X_test = X.iloc[X_train.shape[0]:]\n",
        "\n",
        "\n",
        "\n",
        "# 3. Handle Imbalance Data (using SMOTE)\n",
        "y = pd.concat([y_train, y_test])  # Define 'y' by concatenating y_train and y_test\n",
        "\n",
        "smote = SMOTE(random_state=42)\n",
        "X_resampled, y_resampled = smote.fit_resample(X, y)\n",
        "\n",
        "# 4. Split Data\n",
        "X_train, X_test, y_train, y_test = train_test_split(X_resampled, y_resampled, test_size=0.2, random_state=42)\n",
        "\n",
        "# 5. Hyperparameter Tuning for SVM\n",
        "param_grid = {\n",
        "    'C': [0.1, 1, 10, 100],\n",
        "    'gamma': [1, 0.1, 0.01, 0.001],\n",
        "    'kernel': ['rbf', 'linear', 'poly']\n",
        "}\n",
        "\n",
        "scoring = {\n",
        "    'precision': make_scorer(precision_score),\n",
        "    'recall': make_scorer(recall_score),\n",
        "    'f1': make_scorer(f1_score),\n",
        "}\n",
        "\n",
        "svm_model = SVC(probability=True) # probability=True is required for predict_proba\n",
        "grid_search = GridSearchCV(svm_model, param_grid, scoring=scoring, refit='f1', cv=3, verbose=2, n_jobs=-1)\n",
        "grid_search.fit(X_train, y_train)\n",
        "\n",
        "best_svm_model = grid_search.best_estimator_\n",
        "print(f\"Best Hyperparameters: {grid_search.best_params_}\")\n",
        "\n",
        "# 6. Model Evaluation\n",
        "\n",
        "y_pred_proba = best_svm_model.predict_proba(X_test)[:,1]\n",
        "\n",
        "# Optimal Threshold\n",
        "precision, recall, thresholds = precision_recall_curve(y_test, y_pred_proba)\n",
        "f1_scores = 2 * (precision * recall) / (precision + recall)\n",
        "optimal_threshold = thresholds[np.argmax(f1_scores)]\n",
        "y_pred_binary = (y_pred_proba >= optimal_threshold).astype(int)\n",
        "\n",
        "\n",
        "print(f\"Accuracy: {accuracy_score(y_test, y_pred_binary)}\")\n",
        "print(f\"ROC-AUC Score: {roc_auc_score(y_test, y_pred_proba)}\")\n",
        "print(classification_report(y_test, y_pred_binary))\n",
        "print(confusion_matrix(y_test, y_pred_binary))"
      ],
      "metadata": {
        "id": "DZ_YoscXDqTQ",
        "colab": {
          "base_uri": "https://localhost:8080/"
        },
        "outputId": "ef2ef906-ef93-4b6b-e6a2-a39ca0421056"
      },
      "execution_count": null,
      "outputs": [
        {
          "metadata": {
            "tags": null
          },
          "name": "stdout",
          "output_type": "stream",
          "text": [
            "Fitting 3 folds for each of 48 candidates, totalling 144 fits\n"
          ]
        }
      ]
    },
    {
      "cell_type": "code",
      "source": [],
      "metadata": {
        "id": "d8L8A1TlrZd2"
      },
      "execution_count": null,
      "outputs": []
    }
  ],
  "metadata": {
    "colab": {
      "provenance": [],
      "gpuType": "V28"
    },
    "kernelspec": {
      "display_name": "Python 3",
      "name": "python3"
    },
    "language_info": {
      "name": "python"
    },
    "accelerator": "TPU"
  },
  "nbformat": 4,
  "nbformat_minor": 0
}