{
  "cells": [
    {
      "cell_type": "markdown",
      "metadata": {
        "id": "view-in-github",
        "colab_type": "text"
      },
      "source": [
        "<a href=\"https://colab.research.google.com/github/Info-stats-ai/Project_Amex-Part1-ML/blob/main/Final_Latest_copy_of_Data_602_Project_Part_4_December_6_2024_Siddharth.ipynb\" target=\"_parent\"><img src=\"https://colab.research.google.com/assets/colab-badge.svg\" alt=\"Open In Colab\"/></a>"
      ]
    },
    {
      "cell_type": "markdown",
      "metadata": {
        "id": "Ye8ZDw7Zhy2W"
      },
      "source": [
        "## PROJECT 602\n",
        "## PRINCIPLES OF DATA SCIENCE\n"
      ]
    },
    {
      "cell_type": "markdown",
      "metadata": {
        "id": "oFyukZaMibBW"
      },
      "source": [
        "SUBMITTED TO: DR. Charles Forgy\n",
        "SUBMITTED BY\n",
        "\n",
        "*  Aneesh Krishna Rao Chepuri 121324382\n",
        "*  Omkarnath Thakur 121335685\n",
        "*  Ruthvick K Kandrala 121305206\n",
        "*  Siddharth Pathania 121291592\n",
        "\n"
      ]
    },
    {
      "cell_type": "markdown",
      "metadata": {
        "id": "j0sr4a0PjCiD"
      },
      "source": [
        "### INTRODUCTION\n",
        "\n",
        "\n",
        " We will be working on American Express - Default Predictions dataset from kaggle via api. We\n",
        " will be analyzing different attributes of the given datasets, performing prescriptive, descriptive\n",
        " and predictive analysis to get the likelihood that the customer using the credit card will default\n",
        " or not.We will implement different machine learning and deep learning models to ensure a best\n",
        " fit model with highest accuracy.\n",
        "\n"
      ]
    },
    {
      "cell_type": "markdown",
      "metadata": {
        "id": "xifGPPvxjQv2"
      },
      "source": [
        " STEPS INVOLVED(Tentative):\n",
        "\n",
        " 1. DATA CLEANING:-\n",
        "\n",
        "  * Remove Duplicate\n",
        "  * Error Handling\n",
        "  * Data Validation\n",
        " 2. DATA PREPROCESSING:-\n",
        "  * Filling NaN values and Missing Values\n",
        "  * Format check all every single column.\n",
        "  * Dimensionality Reduction techniques like PCA , T-SNE\n",
        "  * Feature importance\n",
        "  * Feature selection\n",
        " 3. EDA\n",
        " 4. Feature Engineering\n",
        " 5. Train different ML and DL Models.\n",
        " 6. Hyperparameter tuning for the best model fit and minimizing the the required loss function.\n",
        "\n",
        "\n"
      ]
    },
    {
      "cell_type": "markdown",
      "metadata": {
        "id": "Mrl5mOoRj6JJ"
      },
      "source": [
        "#### Location of the dataset api :- kaggle competitions download -c amex-default-prediction\n",
        "\n",
        "#### Link for the dataset :- https://www.kaggle.com/competitions/amex-default-prediction/data"
      ]
    },
    {
      "cell_type": "markdown",
      "metadata": {
        "id": "_xbcZg6igBzZ"
      },
      "source": [
        "### Project part II\n",
        "\n",
        "\n",
        "\n",
        "\n",
        "1. The column names of the feature(s) you plan to use for the final project, and the target outcome you plan to determine using these features.\n",
        "\n",
        "  The dataset contains features regarding customer profile at each statement date. Features are anonymized and the fall in these categories :-\n",
        "\n",
        "  Delinquency (D_*), Spend (S_*), Payment (P_*), Balance (B_*), and Risk (R_*).\n",
        "  We will be using these features for the final project. Along the process we will drop features which are less relevant, thus keeping only important features.\n",
        "\n",
        "  The target is a binary variable, and it tells us whether a customer has paid or has not paid his due amount in 120 days after their latest statement, therefore we will predict this target variable using the features.\n",
        "\n",
        "\n",
        "2.  Your initial plan for any feature engineering (e.g. adding a Boolean for weekend vs. weekday or taking the ratio of two other features).\n",
        "\n",
        "  For the American Express Default Prediction, the initial approach will involve:\n",
        "\n",
        "\n",
        "\n",
        "*   Categorical columns:\n",
        "  * Apply one-hot encoding for nominal categories and  for cardinal data.\n",
        "  * Use frequency or target encoding with smoothing to capture relationships with the target variables.\n",
        "\n",
        "\n",
        "*   Numerical columns:\n",
        "  * Handle missing data using KNN imputation or Missing Value imputation using ML models.\n",
        "  * Scale features and create meaningful interactions (ratios, differences).\n",
        "  * Apply PCA  or  LDA to reduce dimensionality.\n",
        "\n",
        "\n",
        "*   Time-based columns (date columns):\n",
        "  * Create lagged features and rolling windows to capture customer behavior over time.\n",
        "\n",
        "\n",
        "*   Aggregation:\n",
        "  * Aggregate transaction-level data to customer-level using statistics like mean, sum, and standard deviation.\n",
        "\n",
        "\n",
        "*   Feature selection:\n",
        "  * Apply techniques to retain the most important features for model refinement.\n",
        "\n",
        "\n",
        "\n",
        "\n",
        "\n",
        "3. If you plan to use any sort of method for dealing with imbalanced data, detail your overall approach (e.g. \"will oversample class XYZ\", or \"will create synthetic data using SMOTE\"). If you do not intend to use any techniques to deal with imbalanced data, explain why it is not necessary (e.g. \"all features are at worst imbalanced 7:3\").\n",
        "\n",
        "  Based on the initial data analysis we saw that % data for people who default is less as compared to people who have paid. To handle this situation we are planning to use different methods, and will see which one works best for us. Also we know that credit defaults are typically rare events, often comprising less %age of the dataset.\n",
        "\n",
        "  * **Oversampling the minority class:** We'll use techniques like SMOTE (Synthetic Minority Over-sampling Technique) to create synthetic examples of the minority class. This will help balance the dataset without simply duplicating existing data points.\n",
        "\n",
        "  * **Undersampling the majority class:** We'll carefully undersample the majority class (non-defaulters) using methods like Random Under Sampling or Tomek links to remove some of the majority instances while maintaining the dataset's quality.\n",
        "\n",
        "  * **Ensemble methods:** We'll use ensemble techniques like BalancedRandomForestClassifier or EasyEnsembleClassifier, which are designed to handle imbalanced datasets effectively.\n",
        "\n",
        "  * **Class-weight adjustment:** Assign higher weights to the minority class in algorithms like Random Forest, XGBoost, or Logistic Regression making the model more sensitive to defaults.\n",
        "\n",
        "  Here are some initial techniques that we are planning to use. Along the process if we find more useful techniques we will use them as well, and then we will carefully monitor performance metrics to see which methods are more effective to give us more accurate results.\n",
        "\n"
      ]
    },
    {
      "cell_type": "markdown",
      "source": [
        "#### Importing all the necessary libraries"
      ],
      "metadata": {
        "id": "zxiLY8onHNq9"
      }
    },
    {
      "cell_type": "code",
      "execution_count": null,
      "metadata": {
        "id": "1Mr7z6wYh9JU"
      },
      "outputs": [],
      "source": []
    },
    {
      "cell_type": "code",
      "execution_count": null,
      "metadata": {
        "id": "Kev7gKQ5_D8F",
        "colab": {
          "base_uri": "https://localhost:8080/"
        },
        "outputId": "1b557874-50c1-4035-ff60-e4371ffb78dd"
      },
      "outputs": [
        {
          "output_type": "stream",
          "name": "stderr",
          "text": [
            "/usr/local/lib/python3.10/dist-packages/dask/dataframe/__init__.py:42: FutureWarning:\n",
            "\n",
            "\n",
            "Dask dataframe query planning is disabled because dask-expr is not installed.\n",
            "\n",
            "You can install it with `pip install dask[dataframe]` or `conda install dask`.\n",
            "This will raise in a future version.\n",
            "\n",
            "\n"
          ]
        }
      ],
      "source": [
        "import numpy as np\n",
        "import pandas as pd\n",
        "import seaborn as sns\n",
        "import matplotlib.pyplot as plt\n",
        "import matplotlib.colors\n",
        "import plotly.express as px\n",
        "import plotly.graph_objects as go\n",
        "from plotly.subplots import make_subplots\n",
        "from plotly.offline import init_notebook_mode\n",
        "from sklearn.preprocessing import LabelEncoder\n",
        "from sklearn.model_selection import StratifiedKFold\n",
        "from sklearn.metrics import roc_auc_score, roc_curve, auc\n",
        "from lightgbm import LGBMClassifier, early_stopping, log_evaluation\n",
        "import warnings, gc\n",
        "from sklearn.model_selection import train_test_split\n",
        "from sklearn.linear_model import LogisticRegression\n",
        "from sklearn.tree import DecisionTreeClassifier\n",
        "from sklearn.ensemble import RandomForestClassifier\n",
        "from sklearn.metrics import accuracy_score\n",
        "import gc\n",
        "from sklearn.preprocessing import LabelEncoder\n",
        "warnings.filterwarnings('ignore')"
      ]
    },
    {
      "cell_type": "code",
      "execution_count": null,
      "metadata": {
        "id": "Z10FcTYXhyBW"
      },
      "outputs": [],
      "source": []
    },
    {
      "cell_type": "markdown",
      "metadata": {
        "id": "NsN6wye0Aeyp"
      },
      "source": [
        "### Reading the dataset"
      ]
    },
    {
      "cell_type": "markdown",
      "metadata": {
        "id": "vmjdVa-Iqz7Y"
      },
      "source": [
        "Reading the dataset.\n",
        "\n",
        "Data preprocessing.\n",
        "\n",
        "Data analysis\n",
        "\n",
        "Feature Engineering\n",
        "\n",
        "Model training - For classification tasks this entails comparing logistic regression (with or without regularization) to a classification tree or any type of classification forest.\n",
        "Discuss the accuracy of your methods, both on testing and training data. Is any method clearly superior? What does this say about the linear nature of your data?"
      ]
    },
    {
      "cell_type": "code",
      "execution_count": null,
      "metadata": {
        "id": "mfUD4Y0GVoDQ"
      },
      "outputs": [],
      "source": []
    },
    {
      "cell_type": "markdown",
      "source": [
        "#### Data preprocessing"
      ],
      "metadata": {
        "id": "tdq53vyDH0MY"
      }
    },
    {
      "cell_type": "code",
      "execution_count": null,
      "metadata": {
        "id": "RmQOYWr1rCyI",
        "colab": {
          "base_uri": "https://localhost:8080/"
        },
        "outputId": "fbd09e37-32f8-44ea-e4ba-b627e6cfa608"
      },
      "outputs": [
        {
          "output_type": "stream",
          "name": "stdout",
          "text": [
            "Mounted at /content/drive\n",
            "Memory usage of dataframe is 2052.06 MB\n",
            "Memory usage after optimization is: 2013.66 MB\n",
            "Decreased by 1.9%\n"
          ]
        }
      ],
      "source": [
        "# Reduce memory usage by downcasting numerical features\n",
        "def reduce_mem_usage(df):\n",
        "    \"\"\"Iterate through all the columns of a dataframe and modify the data type\n",
        "    to reduce memory usage.\n",
        "    \"\"\"\n",
        "    start_mem = df.memory_usage().sum() / 1024**2\n",
        "    print('Memory usage of dataframe is {:.2f} MB'.format(start_mem))\n",
        "\n",
        "    for col in df.columns:\n",
        "        col_type = df[col].dtype\n",
        "\n",
        "        if col_type != object and pd.api.types.is_numeric_dtype(col_type): # Check if column is numeric\n",
        "            c_min = df[col].min()\n",
        "            c_max = df[col].max()\n",
        "            if str(col_type)[:3] == 'int':\n",
        "                if c_min > np.iinfo(np.int8).min and c_max < np.iinfo(np.int8).max:\n",
        "                    df[col] = df[col].astype(np.int8)\n",
        "                elif c_min > np.iinfo(np.int16).min and c_max < np.iinfo(np.int16).max:\n",
        "                    df[col] = df[col].astype(np.int16)\n",
        "                elif c_min > np.iinfo(np.int32).min and c_max < np.iinfo(np.int32).max:\n",
        "                    df[col] = df[col].astype(np.int32)\n",
        "                elif c_min > np.iinfo(np.int64).min and c_max < np.iinfo(np.int64).max:\n",
        "                    df[col] = df[col].astype(np.int64)\n",
        "            else:\n",
        "                if c_min > np.finfo(np.float16).min and c_max < np.finfo(np.float16).max:\n",
        "                    df[col] = df[col].astype(np.float16)\n",
        "                elif c_min > np.finfo(np.float32).min and c_max < np.finfo(np.float32).max:\n",
        "                    df[col] = df[col].astype(np.float32)\n",
        "                else:\n",
        "                    df[col] = df[col].astype(np.float64)\n",
        "        else:\n",
        "            # Keep timestamp and object columns as they are, or handle separately\n",
        "            if col_type == 'object':\n",
        "                df[col] = df[col].astype('category') #This part was also updated to accommodate the fact that timestamps will not be treated as objects\n",
        "\n",
        "    end_mem = df.memory_usage().sum() / 1024**2\n",
        "    print('Memory usage after optimization is: {:.2f} MB'.format(end_mem))\n",
        "    print('Decreased by {:.1f}%'.format(100 * (start_mem - end_mem) / start_mem))\n",
        "\n",
        "    return df\n",
        "\n",
        "\n",
        "# Read the dataset\n",
        "from google.colab import drive\n",
        "drive.mount('/content/drive')\n",
        "data_df = pd.read_feather('/content/drive/MyDrive/train_data.ftr')\n",
        "data_df = reduce_mem_usage(data_df)  # Apply memory optimization"
      ]
    },
    {
      "cell_type": "code",
      "execution_count": null,
      "metadata": {
        "id": "tgdVyfdbFXd8",
        "colab": {
          "base_uri": "https://localhost:8080/",
          "height": 342
        },
        "outputId": "5778875a-474c-4e18-a7c5-a1452a6d00ff"
      },
      "outputs": [
        {
          "output_type": "execute_result",
          "data": {
            "text/plain": [
              "                                         customer_ID        S_2       P_2  \\\n",
              "0  0000099d6bd597052cdcda90ffabf56573fe9d7c79be5f... 2017-03-09  0.938477   \n",
              "1  0000099d6bd597052cdcda90ffabf56573fe9d7c79be5f... 2017-04-07  0.936523   \n",
              "2  0000099d6bd597052cdcda90ffabf56573fe9d7c79be5f... 2017-05-28  0.954102   \n",
              "3  0000099d6bd597052cdcda90ffabf56573fe9d7c79be5f... 2017-06-13  0.960449   \n",
              "4  0000099d6bd597052cdcda90ffabf56573fe9d7c79be5f... 2017-07-16  0.947266   \n",
              "\n",
              "       D_39       B_1       B_2       R_1       S_3      D_41       B_3  ...  \\\n",
              "0  0.001734  0.008728  1.006836  0.009224  0.124023  0.008774  0.004707  ...   \n",
              "1  0.005775  0.004925  1.000977  0.006153  0.126709  0.000798  0.002714  ...   \n",
              "2  0.091492  0.021652  1.009766  0.006817  0.123962  0.007599  0.009422  ...   \n",
              "3  0.002455  0.013687  1.002930  0.001372  0.117188  0.000685  0.005531  ...   \n",
              "4  0.002483  0.015190  1.000977  0.007607  0.117310  0.004654  0.009308  ...   \n",
              "\n",
              "   D_137  D_138     D_139     D_140     D_141  D_142     D_143     D_144  \\\n",
              "0    NaN    NaN  0.002426  0.003706  0.003819    NaN  0.000569  0.000610   \n",
              "1    NaN    NaN  0.003956  0.003166  0.005032    NaN  0.009575  0.005493   \n",
              "2    NaN    NaN  0.003269  0.007328  0.000427    NaN  0.003429  0.006985   \n",
              "3    NaN    NaN  0.006119  0.004517  0.003201    NaN  0.008423  0.006527   \n",
              "4    NaN    NaN  0.003672  0.004944  0.008888    NaN  0.001670  0.008125   \n",
              "\n",
              "      D_145  target  \n",
              "0  0.002674       0  \n",
              "1  0.009216       0  \n",
              "2  0.002604       0  \n",
              "3  0.009598       0  \n",
              "4  0.009827       0  \n",
              "\n",
              "[5 rows x 191 columns]"
            ],
            "text/html": [
              "\n",
              "  <div id=\"df-be4e08b1-8aaf-49d0-a316-aede95ec6299\" class=\"colab-df-container\">\n",
              "    <div>\n",
              "<style scoped>\n",
              "    .dataframe tbody tr th:only-of-type {\n",
              "        vertical-align: middle;\n",
              "    }\n",
              "\n",
              "    .dataframe tbody tr th {\n",
              "        vertical-align: top;\n",
              "    }\n",
              "\n",
              "    .dataframe thead th {\n",
              "        text-align: right;\n",
              "    }\n",
              "</style>\n",
              "<table border=\"1\" class=\"dataframe\">\n",
              "  <thead>\n",
              "    <tr style=\"text-align: right;\">\n",
              "      <th></th>\n",
              "      <th>customer_ID</th>\n",
              "      <th>S_2</th>\n",
              "      <th>P_2</th>\n",
              "      <th>D_39</th>\n",
              "      <th>B_1</th>\n",
              "      <th>B_2</th>\n",
              "      <th>R_1</th>\n",
              "      <th>S_3</th>\n",
              "      <th>D_41</th>\n",
              "      <th>B_3</th>\n",
              "      <th>...</th>\n",
              "      <th>D_137</th>\n",
              "      <th>D_138</th>\n",
              "      <th>D_139</th>\n",
              "      <th>D_140</th>\n",
              "      <th>D_141</th>\n",
              "      <th>D_142</th>\n",
              "      <th>D_143</th>\n",
              "      <th>D_144</th>\n",
              "      <th>D_145</th>\n",
              "      <th>target</th>\n",
              "    </tr>\n",
              "  </thead>\n",
              "  <tbody>\n",
              "    <tr>\n",
              "      <th>0</th>\n",
              "      <td>0000099d6bd597052cdcda90ffabf56573fe9d7c79be5f...</td>\n",
              "      <td>2017-03-09</td>\n",
              "      <td>0.938477</td>\n",
              "      <td>0.001734</td>\n",
              "      <td>0.008728</td>\n",
              "      <td>1.006836</td>\n",
              "      <td>0.009224</td>\n",
              "      <td>0.124023</td>\n",
              "      <td>0.008774</td>\n",
              "      <td>0.004707</td>\n",
              "      <td>...</td>\n",
              "      <td>NaN</td>\n",
              "      <td>NaN</td>\n",
              "      <td>0.002426</td>\n",
              "      <td>0.003706</td>\n",
              "      <td>0.003819</td>\n",
              "      <td>NaN</td>\n",
              "      <td>0.000569</td>\n",
              "      <td>0.000610</td>\n",
              "      <td>0.002674</td>\n",
              "      <td>0</td>\n",
              "    </tr>\n",
              "    <tr>\n",
              "      <th>1</th>\n",
              "      <td>0000099d6bd597052cdcda90ffabf56573fe9d7c79be5f...</td>\n",
              "      <td>2017-04-07</td>\n",
              "      <td>0.936523</td>\n",
              "      <td>0.005775</td>\n",
              "      <td>0.004925</td>\n",
              "      <td>1.000977</td>\n",
              "      <td>0.006153</td>\n",
              "      <td>0.126709</td>\n",
              "      <td>0.000798</td>\n",
              "      <td>0.002714</td>\n",
              "      <td>...</td>\n",
              "      <td>NaN</td>\n",
              "      <td>NaN</td>\n",
              "      <td>0.003956</td>\n",
              "      <td>0.003166</td>\n",
              "      <td>0.005032</td>\n",
              "      <td>NaN</td>\n",
              "      <td>0.009575</td>\n",
              "      <td>0.005493</td>\n",
              "      <td>0.009216</td>\n",
              "      <td>0</td>\n",
              "    </tr>\n",
              "    <tr>\n",
              "      <th>2</th>\n",
              "      <td>0000099d6bd597052cdcda90ffabf56573fe9d7c79be5f...</td>\n",
              "      <td>2017-05-28</td>\n",
              "      <td>0.954102</td>\n",
              "      <td>0.091492</td>\n",
              "      <td>0.021652</td>\n",
              "      <td>1.009766</td>\n",
              "      <td>0.006817</td>\n",
              "      <td>0.123962</td>\n",
              "      <td>0.007599</td>\n",
              "      <td>0.009422</td>\n",
              "      <td>...</td>\n",
              "      <td>NaN</td>\n",
              "      <td>NaN</td>\n",
              "      <td>0.003269</td>\n",
              "      <td>0.007328</td>\n",
              "      <td>0.000427</td>\n",
              "      <td>NaN</td>\n",
              "      <td>0.003429</td>\n",
              "      <td>0.006985</td>\n",
              "      <td>0.002604</td>\n",
              "      <td>0</td>\n",
              "    </tr>\n",
              "    <tr>\n",
              "      <th>3</th>\n",
              "      <td>0000099d6bd597052cdcda90ffabf56573fe9d7c79be5f...</td>\n",
              "      <td>2017-06-13</td>\n",
              "      <td>0.960449</td>\n",
              "      <td>0.002455</td>\n",
              "      <td>0.013687</td>\n",
              "      <td>1.002930</td>\n",
              "      <td>0.001372</td>\n",
              "      <td>0.117188</td>\n",
              "      <td>0.000685</td>\n",
              "      <td>0.005531</td>\n",
              "      <td>...</td>\n",
              "      <td>NaN</td>\n",
              "      <td>NaN</td>\n",
              "      <td>0.006119</td>\n",
              "      <td>0.004517</td>\n",
              "      <td>0.003201</td>\n",
              "      <td>NaN</td>\n",
              "      <td>0.008423</td>\n",
              "      <td>0.006527</td>\n",
              "      <td>0.009598</td>\n",
              "      <td>0</td>\n",
              "    </tr>\n",
              "    <tr>\n",
              "      <th>4</th>\n",
              "      <td>0000099d6bd597052cdcda90ffabf56573fe9d7c79be5f...</td>\n",
              "      <td>2017-07-16</td>\n",
              "      <td>0.947266</td>\n",
              "      <td>0.002483</td>\n",
              "      <td>0.015190</td>\n",
              "      <td>1.000977</td>\n",
              "      <td>0.007607</td>\n",
              "      <td>0.117310</td>\n",
              "      <td>0.004654</td>\n",
              "      <td>0.009308</td>\n",
              "      <td>...</td>\n",
              "      <td>NaN</td>\n",
              "      <td>NaN</td>\n",
              "      <td>0.003672</td>\n",
              "      <td>0.004944</td>\n",
              "      <td>0.008888</td>\n",
              "      <td>NaN</td>\n",
              "      <td>0.001670</td>\n",
              "      <td>0.008125</td>\n",
              "      <td>0.009827</td>\n",
              "      <td>0</td>\n",
              "    </tr>\n",
              "  </tbody>\n",
              "</table>\n",
              "<p>5 rows × 191 columns</p>\n",
              "</div>\n",
              "    <div class=\"colab-df-buttons\">\n",
              "\n",
              "  <div class=\"colab-df-container\">\n",
              "    <button class=\"colab-df-convert\" onclick=\"convertToInteractive('df-be4e08b1-8aaf-49d0-a316-aede95ec6299')\"\n",
              "            title=\"Convert this dataframe to an interactive table.\"\n",
              "            style=\"display:none;\">\n",
              "\n",
              "  <svg xmlns=\"http://www.w3.org/2000/svg\" height=\"24px\" viewBox=\"0 -960 960 960\">\n",
              "    <path d=\"M120-120v-720h720v720H120Zm60-500h600v-160H180v160Zm220 220h160v-160H400v160Zm0 220h160v-160H400v160ZM180-400h160v-160H180v160Zm440 0h160v-160H620v160ZM180-180h160v-160H180v160Zm440 0h160v-160H620v160Z\"/>\n",
              "  </svg>\n",
              "    </button>\n",
              "\n",
              "  <style>\n",
              "    .colab-df-container {\n",
              "      display:flex;\n",
              "      gap: 12px;\n",
              "    }\n",
              "\n",
              "    .colab-df-convert {\n",
              "      background-color: #E8F0FE;\n",
              "      border: none;\n",
              "      border-radius: 50%;\n",
              "      cursor: pointer;\n",
              "      display: none;\n",
              "      fill: #1967D2;\n",
              "      height: 32px;\n",
              "      padding: 0 0 0 0;\n",
              "      width: 32px;\n",
              "    }\n",
              "\n",
              "    .colab-df-convert:hover {\n",
              "      background-color: #E2EBFA;\n",
              "      box-shadow: 0px 1px 2px rgba(60, 64, 67, 0.3), 0px 1px 3px 1px rgba(60, 64, 67, 0.15);\n",
              "      fill: #174EA6;\n",
              "    }\n",
              "\n",
              "    .colab-df-buttons div {\n",
              "      margin-bottom: 4px;\n",
              "    }\n",
              "\n",
              "    [theme=dark] .colab-df-convert {\n",
              "      background-color: #3B4455;\n",
              "      fill: #D2E3FC;\n",
              "    }\n",
              "\n",
              "    [theme=dark] .colab-df-convert:hover {\n",
              "      background-color: #434B5C;\n",
              "      box-shadow: 0px 1px 3px 1px rgba(0, 0, 0, 0.15);\n",
              "      filter: drop-shadow(0px 1px 2px rgba(0, 0, 0, 0.3));\n",
              "      fill: #FFFFFF;\n",
              "    }\n",
              "  </style>\n",
              "\n",
              "    <script>\n",
              "      const buttonEl =\n",
              "        document.querySelector('#df-be4e08b1-8aaf-49d0-a316-aede95ec6299 button.colab-df-convert');\n",
              "      buttonEl.style.display =\n",
              "        google.colab.kernel.accessAllowed ? 'block' : 'none';\n",
              "\n",
              "      async function convertToInteractive(key) {\n",
              "        const element = document.querySelector('#df-be4e08b1-8aaf-49d0-a316-aede95ec6299');\n",
              "        const dataTable =\n",
              "          await google.colab.kernel.invokeFunction('convertToInteractive',\n",
              "                                                    [key], {});\n",
              "        if (!dataTable) return;\n",
              "\n",
              "        const docLinkHtml = 'Like what you see? Visit the ' +\n",
              "          '<a target=\"_blank\" href=https://colab.research.google.com/notebooks/data_table.ipynb>data table notebook</a>'\n",
              "          + ' to learn more about interactive tables.';\n",
              "        element.innerHTML = '';\n",
              "        dataTable['output_type'] = 'display_data';\n",
              "        await google.colab.output.renderOutput(dataTable, element);\n",
              "        const docLink = document.createElement('div');\n",
              "        docLink.innerHTML = docLinkHtml;\n",
              "        element.appendChild(docLink);\n",
              "      }\n",
              "    </script>\n",
              "  </div>\n",
              "\n",
              "\n",
              "<div id=\"df-df81f334-bc27-42b6-b140-bef21817a53a\">\n",
              "  <button class=\"colab-df-quickchart\" onclick=\"quickchart('df-df81f334-bc27-42b6-b140-bef21817a53a')\"\n",
              "            title=\"Suggest charts\"\n",
              "            style=\"display:none;\">\n",
              "\n",
              "<svg xmlns=\"http://www.w3.org/2000/svg\" height=\"24px\"viewBox=\"0 0 24 24\"\n",
              "     width=\"24px\">\n",
              "    <g>\n",
              "        <path d=\"M19 3H5c-1.1 0-2 .9-2 2v14c0 1.1.9 2 2 2h14c1.1 0 2-.9 2-2V5c0-1.1-.9-2-2-2zM9 17H7v-7h2v7zm4 0h-2V7h2v10zm4 0h-2v-4h2v4z\"/>\n",
              "    </g>\n",
              "</svg>\n",
              "  </button>\n",
              "\n",
              "<style>\n",
              "  .colab-df-quickchart {\n",
              "      --bg-color: #E8F0FE;\n",
              "      --fill-color: #1967D2;\n",
              "      --hover-bg-color: #E2EBFA;\n",
              "      --hover-fill-color: #174EA6;\n",
              "      --disabled-fill-color: #AAA;\n",
              "      --disabled-bg-color: #DDD;\n",
              "  }\n",
              "\n",
              "  [theme=dark] .colab-df-quickchart {\n",
              "      --bg-color: #3B4455;\n",
              "      --fill-color: #D2E3FC;\n",
              "      --hover-bg-color: #434B5C;\n",
              "      --hover-fill-color: #FFFFFF;\n",
              "      --disabled-bg-color: #3B4455;\n",
              "      --disabled-fill-color: #666;\n",
              "  }\n",
              "\n",
              "  .colab-df-quickchart {\n",
              "    background-color: var(--bg-color);\n",
              "    border: none;\n",
              "    border-radius: 50%;\n",
              "    cursor: pointer;\n",
              "    display: none;\n",
              "    fill: var(--fill-color);\n",
              "    height: 32px;\n",
              "    padding: 0;\n",
              "    width: 32px;\n",
              "  }\n",
              "\n",
              "  .colab-df-quickchart:hover {\n",
              "    background-color: var(--hover-bg-color);\n",
              "    box-shadow: 0 1px 2px rgba(60, 64, 67, 0.3), 0 1px 3px 1px rgba(60, 64, 67, 0.15);\n",
              "    fill: var(--button-hover-fill-color);\n",
              "  }\n",
              "\n",
              "  .colab-df-quickchart-complete:disabled,\n",
              "  .colab-df-quickchart-complete:disabled:hover {\n",
              "    background-color: var(--disabled-bg-color);\n",
              "    fill: var(--disabled-fill-color);\n",
              "    box-shadow: none;\n",
              "  }\n",
              "\n",
              "  .colab-df-spinner {\n",
              "    border: 2px solid var(--fill-color);\n",
              "    border-color: transparent;\n",
              "    border-bottom-color: var(--fill-color);\n",
              "    animation:\n",
              "      spin 1s steps(1) infinite;\n",
              "  }\n",
              "\n",
              "  @keyframes spin {\n",
              "    0% {\n",
              "      border-color: transparent;\n",
              "      border-bottom-color: var(--fill-color);\n",
              "      border-left-color: var(--fill-color);\n",
              "    }\n",
              "    20% {\n",
              "      border-color: transparent;\n",
              "      border-left-color: var(--fill-color);\n",
              "      border-top-color: var(--fill-color);\n",
              "    }\n",
              "    30% {\n",
              "      border-color: transparent;\n",
              "      border-left-color: var(--fill-color);\n",
              "      border-top-color: var(--fill-color);\n",
              "      border-right-color: var(--fill-color);\n",
              "    }\n",
              "    40% {\n",
              "      border-color: transparent;\n",
              "      border-right-color: var(--fill-color);\n",
              "      border-top-color: var(--fill-color);\n",
              "    }\n",
              "    60% {\n",
              "      border-color: transparent;\n",
              "      border-right-color: var(--fill-color);\n",
              "    }\n",
              "    80% {\n",
              "      border-color: transparent;\n",
              "      border-right-color: var(--fill-color);\n",
              "      border-bottom-color: var(--fill-color);\n",
              "    }\n",
              "    90% {\n",
              "      border-color: transparent;\n",
              "      border-bottom-color: var(--fill-color);\n",
              "    }\n",
              "  }\n",
              "</style>\n",
              "\n",
              "  <script>\n",
              "    async function quickchart(key) {\n",
              "      const quickchartButtonEl =\n",
              "        document.querySelector('#' + key + ' button');\n",
              "      quickchartButtonEl.disabled = true;  // To prevent multiple clicks.\n",
              "      quickchartButtonEl.classList.add('colab-df-spinner');\n",
              "      try {\n",
              "        const charts = await google.colab.kernel.invokeFunction(\n",
              "            'suggestCharts', [key], {});\n",
              "      } catch (error) {\n",
              "        console.error('Error during call to suggestCharts:', error);\n",
              "      }\n",
              "      quickchartButtonEl.classList.remove('colab-df-spinner');\n",
              "      quickchartButtonEl.classList.add('colab-df-quickchart-complete');\n",
              "    }\n",
              "    (() => {\n",
              "      let quickchartButtonEl =\n",
              "        document.querySelector('#df-df81f334-bc27-42b6-b140-bef21817a53a button');\n",
              "      quickchartButtonEl.style.display =\n",
              "        google.colab.kernel.accessAllowed ? 'block' : 'none';\n",
              "    })();\n",
              "  </script>\n",
              "</div>\n",
              "\n",
              "    </div>\n",
              "  </div>\n"
            ],
            "application/vnd.google.colaboratory.intrinsic+json": {
              "type": "dataframe",
              "variable_name": "data_df"
            }
          },
          "metadata": {},
          "execution_count": 18
        }
      ],
      "source": [
        "data_df.head()"
      ]
    },
    {
      "cell_type": "code",
      "execution_count": null,
      "metadata": {
        "id": "t72mQ3Bus435",
        "colab": {
          "base_uri": "https://localhost:8080/"
        },
        "outputId": "aebc3ed8-485f-42a8-de2c-2c8c0f7eeaf7"
      },
      "outputs": [
        {
          "output_type": "stream",
          "name": "stdout",
          "text": [
            "Original DataFrame size: (5531451, 191)\n",
            "Reduced DataFrame size: (55315, 191)\n"
          ]
        }
      ],
      "source": [
        "# : Reduce the data size to 30% so that we can work with less data and have\n",
        "# some memory free\n",
        "\n",
        "import pandas as pd\n",
        "\n",
        "# Reduce the size by selecting a random subset of rows\n",
        "# data_df_reduced = data_df.sample(frac=0.3, random_state=42)  # Adjust 'frac' as needed\n",
        "\n",
        "data_df_reduced = data_df.sample(frac=0.01, random_state=42)  # Adjust 'frac' as needed\n",
        "\n",
        "# Print the size before and after reduction\n",
        "print(f\"Original DataFrame size: {data_df.shape}\")\n",
        "print(f\"Reduced DataFrame size: {data_df_reduced.shape}\")\n",
        "\n",
        "# Now you can work with 'data_df_reduced' instead of 'data_df'"
      ]
    },
    {
      "cell_type": "code",
      "execution_count": null,
      "metadata": {
        "id": "jgHpw0jes5I2",
        "colab": {
          "base_uri": "https://localhost:8080/"
        },
        "outputId": "e4416454-2f8d-4499-f0a1-578149aaf4ab"
      },
      "outputs": [
        {
          "output_type": "execute_result",
          "data": {
            "text/plain": [
              "0"
            ]
          },
          "metadata": {},
          "execution_count": 20
        }
      ],
      "source": [
        "data_df = data_df_reduced\n",
        "data_df_reduced = pd.DataFrame()\n",
        "gc.collect()"
      ]
    },
    {
      "cell_type": "code",
      "execution_count": null,
      "metadata": {
        "id": "s2Q79GtXRH6w",
        "colab": {
          "base_uri": "https://localhost:8080/"
        },
        "outputId": "c53955a3-2c72-4661-ce9d-523fb69b5b50"
      },
      "outputs": [
        {
          "output_type": "stream",
          "name": "stdout",
          "text": [
            "Training data shape: (44252, 191)\n",
            "Testing data shape: (11063, 191)\n"
          ]
        },
        {
          "output_type": "execute_result",
          "data": {
            "text/plain": [
              "0"
            ]
          },
          "metadata": {},
          "execution_count": 21
        }
      ],
      "source": [
        "# Splitting the data\n",
        "\n",
        "from sklearn.model_selection import train_test_split\n",
        "\n",
        "# Replace 'target_variable' with your actual target column name\n",
        "\n",
        "# Split the data into training and testing sets\n",
        "train_df, test_df = train_test_split(\n",
        "    data_df, test_size=0.2, random_state=42\n",
        ")  # Adjust test_size and random_state as needed\n",
        "\n",
        "print(\"Training data shape:\", train_df.shape)\n",
        "print(\"Testing data shape:\", test_df.shape)\n",
        "\n",
        "# Removing the data_df to free up some memory\n",
        "\n",
        "del data_df\n",
        "gc.collect()"
      ]
    },
    {
      "cell_type": "code",
      "execution_count": null,
      "metadata": {
        "id": "iRB3msUo7DpL",
        "colab": {
          "base_uri": "https://localhost:8080/"
        },
        "outputId": "bb3d8213-423f-423f-867e-151525517cbc"
      },
      "outputs": [
        {
          "output_type": "stream",
          "name": "stdout",
          "text": [
            "Training data shape before dropping the duplicates  (44252, 191)\n",
            "Testing data shape before dropping the duplicates  (11063, 191)\n",
            "Training data shape after dropping the duplicates  (44252, 191)\n",
            "Testing data shape after dropping the duplicates  (11063, 191)\n"
          ]
        }
      ],
      "source": [
        "print(\"Training data shape before dropping the duplicates \", train_df.shape)\n",
        "print(\"Testing data shape before dropping the duplicates \", test_df.shape)\n",
        "\n",
        "train_df = train_df.drop_duplicates()\n",
        "test_df = test_df.drop_duplicates()\n",
        "\n",
        "print(\"Training data shape after dropping the duplicates \", train_df.shape)\n",
        "print(\"Testing data shape after dropping the duplicates \", test_df.shape)"
      ]
    },
    {
      "cell_type": "code",
      "execution_count": null,
      "metadata": {
        "id": "mWLiFz8D7DrY",
        "colab": {
          "base_uri": "https://localhost:8080/"
        },
        "outputId": "b61d72d8-a9bb-4259-f640-0702b039506e"
      },
      "outputs": [
        {
          "output_type": "stream",
          "name": "stdout",
          "text": [
            "\n",
            "Missing Values in Training data:\n",
            "customer_ID        0\n",
            "S_2                0\n",
            "P_2              376\n",
            "D_39               0\n",
            "B_1                0\n",
            "               ...  \n",
            "D_142          36563\n",
            "D_143            788\n",
            "D_144            295\n",
            "D_145            788\n",
            "target             0\n",
            "Length: 191, dtype: int64\n",
            "\n",
            "Missing Values in Test data:\n",
            "customer_ID       0\n",
            "S_2               0\n",
            "P_2              95\n",
            "D_39              0\n",
            "B_1               0\n",
            "               ... \n",
            "D_142          9171\n",
            "D_143           194\n",
            "D_144            77\n",
            "D_145           194\n",
            "target            0\n",
            "Length: 191, dtype: int64\n"
          ]
        }
      ],
      "source": [
        "print(\"\\nMissing Values in Training data:\")\n",
        "print(train_df.isnull().sum())\n",
        "\n",
        "print(\"\\nMissing Values in Test data:\")\n",
        "print(test_df.isnull().sum())"
      ]
    },
    {
      "cell_type": "code",
      "execution_count": null,
      "metadata": {
        "id": "pnGvD9WgrwFW"
      },
      "outputs": [],
      "source": [
        "categorical_features = ['B_30', 'B_38', 'D_114', 'D_116', 'D_117',\n",
        "                        'D_120', 'D_126', 'D_63', 'D_64', 'D_66', 'D_68']\n"
      ]
    },
    {
      "cell_type": "code",
      "execution_count": null,
      "metadata": {
        "id": "uztm972CuB3P",
        "colab": {
          "base_uri": "https://localhost:8080/"
        },
        "outputId": "0334774c-2420-41ff-bf07-7f1b268c6820"
      },
      "outputs": [
        {
          "output_type": "execute_result",
          "data": {
            "text/plain": [
              "array([0, 1], dtype=int8)"
            ]
          },
          "metadata": {},
          "execution_count": 25
        }
      ],
      "source": [
        "train_df['target'].unique()"
      ]
    },
    {
      "cell_type": "code",
      "execution_count": null,
      "metadata": {
        "id": "pk4BCL4WCL4u",
        "colab": {
          "base_uri": "https://localhost:8080/"
        },
        "outputId": "982879f1-bcb2-4fea-9e7c-130306bc60fb"
      },
      "outputs": [
        {
          "output_type": "execute_result",
          "data": {
            "text/plain": [
              "Index(['customer_ID', 'S_2', 'P_2', 'D_39', 'B_1', 'B_2', 'R_1', 'S_3', 'D_41',\n",
              "       'B_3',\n",
              "       ...\n",
              "       'D_137', 'D_138', 'D_139', 'D_140', 'D_141', 'D_142', 'D_143', 'D_144',\n",
              "       'D_145', 'target'],\n",
              "      dtype='object', length=191)"
            ]
          },
          "metadata": {},
          "execution_count": 26
        }
      ],
      "source": [
        "train_df.columns"
      ]
    },
    {
      "cell_type": "code",
      "execution_count": null,
      "metadata": {
        "id": "eXaSwpb8CQkB",
        "colab": {
          "base_uri": "https://localhost:8080/",
          "height": 542
        },
        "outputId": "58740242-0cce-4e7c-b41f-eb42f05e0c52"
      },
      "outputs": [
        {
          "output_type": "display_data",
          "data": {
            "text/html": [
              "<html>\n",
              "<head><meta charset=\"utf-8\" /></head>\n",
              "<body>\n",
              "    <div>            <script src=\"https://cdnjs.cloudflare.com/ajax/libs/mathjax/2.7.5/MathJax.js?config=TeX-AMS-MML_SVG\"></script><script type=\"text/javascript\">if (window.MathJax && window.MathJax.Hub && window.MathJax.Hub.Config) {window.MathJax.Hub.Config({SVG: {font: \"STIX-Web\"}});}</script>                <script type=\"text/javascript\">window.PlotlyConfig = {MathJaxConfig: 'local'};</script>\n",
              "        <script charset=\"utf-8\" src=\"https://cdn.plot.ly/plotly-2.35.2.min.js\"></script>                <div id=\"5cf42f4c-0615-4394-b790-cd6014224333\" class=\"plotly-graph-div\" style=\"height:525px; width:100%;\"></div>            <script type=\"text/javascript\">                                    window.PLOTLYENV=window.PLOTLYENV || {};                                    if (document.getElementById(\"5cf42f4c-0615-4394-b790-cd6014224333\")) {                    Plotly.newPlot(                        \"5cf42f4c-0615-4394-b790-cd6014224333\",                        [{\"marker\":{\"color\":\"#FF4C4C\"},\"name\":\"Not Paid\",\"x\":[\"2018-02-28\",\"2018-03-01\",\"2018-03-02\",\"2018-03-03\",\"2018-03-04\",\"2018-03-05\",\"2018-03-06\",\"2018-03-07\",\"2018-03-08\",\"2018-03-09\",\"2018-03-10\",\"2018-03-11\",\"2018-03-12\",\"2018-03-13\",\"2018-03-14\",\"2018-03-15\",\"2018-03-16\",\"2018-03-17\",\"2018-03-18\",\"2018-03-19\",\"2018-03-20\",\"2018-03-21\",\"2018-03-22\",\"2018-03-23\",\"2018-03-24\",\"2018-03-25\",\"2018-03-26\",\"2018-03-27\",\"2018-03-28\",\"2018-03-29\",\"2018-03-30\",\"2018-03-31\"],\"y\":[23.893805309734514,33.0,20.454545454545457,27.225130890052355,14.754098360655737,26.96629213483146,21.978021978021978,24.418604651162788,17.796610169491526,21.666666666666668,25.301204819277107,27.77777777777778,21.379310344827587,32.231404958677686,28.78787878787879,22.30769230769231,32.33082706766917,26.035502958579883,18.571428571428573,28.92561983471074,19.696969696969695,32.8125,31.132075471698112,25.925925925925924,27.322404371584703,26.08695652173913,25.0,24.81203007518797,27.810650887573964,28.440366972477065,18.439716312056735,23.333333333333332],\"type\":\"bar\"},{\"marker\":{\"color\":\"#4C9AFF\"},\"name\":\"Paid\",\"x\":[\"2018-02-28\",\"2018-03-01\",\"2018-03-02\",\"2018-03-03\",\"2018-03-04\",\"2018-03-05\",\"2018-03-06\",\"2018-03-07\",\"2018-03-08\",\"2018-03-09\",\"2018-03-10\",\"2018-03-11\",\"2018-03-12\",\"2018-03-13\",\"2018-03-14\",\"2018-03-15\",\"2018-03-16\",\"2018-03-17\",\"2018-03-18\",\"2018-03-19\",\"2018-03-20\",\"2018-03-21\",\"2018-03-22\",\"2018-03-23\",\"2018-03-24\",\"2018-03-25\",\"2018-03-26\",\"2018-03-27\",\"2018-03-28\",\"2018-03-29\",\"2018-03-30\",\"2018-03-31\"],\"y\":[76.10619469026548,67.0,79.54545454545455,72.77486910994764,85.24590163934425,73.03370786516854,78.02197802197803,75.5813953488372,82.20338983050848,78.33333333333333,74.69879518072288,72.22222222222221,78.62068965517241,67.76859504132231,71.21212121212122,77.6923076923077,67.66917293233082,73.96449704142012,81.42857142857143,71.07438016528926,80.3030303030303,67.1875,68.86792452830188,74.07407407407408,72.6775956284153,73.91304347826086,75.0,75.18796992481202,72.18934911242604,71.55963302752293,81.56028368794325,76.66666666666667],\"type\":\"bar\"}],                        {\"template\":{\"data\":{\"histogram2dcontour\":[{\"type\":\"histogram2dcontour\",\"colorbar\":{\"outlinewidth\":0,\"ticks\":\"\"},\"colorscale\":[[0.0,\"#0d0887\"],[0.1111111111111111,\"#46039f\"],[0.2222222222222222,\"#7201a8\"],[0.3333333333333333,\"#9c179e\"],[0.4444444444444444,\"#bd3786\"],[0.5555555555555556,\"#d8576b\"],[0.6666666666666666,\"#ed7953\"],[0.7777777777777778,\"#fb9f3a\"],[0.8888888888888888,\"#fdca26\"],[1.0,\"#f0f921\"]]}],\"choropleth\":[{\"type\":\"choropleth\",\"colorbar\":{\"outlinewidth\":0,\"ticks\":\"\"}}],\"histogram2d\":[{\"type\":\"histogram2d\",\"colorbar\":{\"outlinewidth\":0,\"ticks\":\"\"},\"colorscale\":[[0.0,\"#0d0887\"],[0.1111111111111111,\"#46039f\"],[0.2222222222222222,\"#7201a8\"],[0.3333333333333333,\"#9c179e\"],[0.4444444444444444,\"#bd3786\"],[0.5555555555555556,\"#d8576b\"],[0.6666666666666666,\"#ed7953\"],[0.7777777777777778,\"#fb9f3a\"],[0.8888888888888888,\"#fdca26\"],[1.0,\"#f0f921\"]]}],\"heatmap\":[{\"type\":\"heatmap\",\"colorbar\":{\"outlinewidth\":0,\"ticks\":\"\"},\"colorscale\":[[0.0,\"#0d0887\"],[0.1111111111111111,\"#46039f\"],[0.2222222222222222,\"#7201a8\"],[0.3333333333333333,\"#9c179e\"],[0.4444444444444444,\"#bd3786\"],[0.5555555555555556,\"#d8576b\"],[0.6666666666666666,\"#ed7953\"],[0.7777777777777778,\"#fb9f3a\"],[0.8888888888888888,\"#fdca26\"],[1.0,\"#f0f921\"]]}],\"heatmapgl\":[{\"type\":\"heatmapgl\",\"colorbar\":{\"outlinewidth\":0,\"ticks\":\"\"},\"colorscale\":[[0.0,\"#0d0887\"],[0.1111111111111111,\"#46039f\"],[0.2222222222222222,\"#7201a8\"],[0.3333333333333333,\"#9c179e\"],[0.4444444444444444,\"#bd3786\"],[0.5555555555555556,\"#d8576b\"],[0.6666666666666666,\"#ed7953\"],[0.7777777777777778,\"#fb9f3a\"],[0.8888888888888888,\"#fdca26\"],[1.0,\"#f0f921\"]]}],\"contourcarpet\":[{\"type\":\"contourcarpet\",\"colorbar\":{\"outlinewidth\":0,\"ticks\":\"\"}}],\"contour\":[{\"type\":\"contour\",\"colorbar\":{\"outlinewidth\":0,\"ticks\":\"\"},\"colorscale\":[[0.0,\"#0d0887\"],[0.1111111111111111,\"#46039f\"],[0.2222222222222222,\"#7201a8\"],[0.3333333333333333,\"#9c179e\"],[0.4444444444444444,\"#bd3786\"],[0.5555555555555556,\"#d8576b\"],[0.6666666666666666,\"#ed7953\"],[0.7777777777777778,\"#fb9f3a\"],[0.8888888888888888,\"#fdca26\"],[1.0,\"#f0f921\"]]}],\"surface\":[{\"type\":\"surface\",\"colorbar\":{\"outlinewidth\":0,\"ticks\":\"\"},\"colorscale\":[[0.0,\"#0d0887\"],[0.1111111111111111,\"#46039f\"],[0.2222222222222222,\"#7201a8\"],[0.3333333333333333,\"#9c179e\"],[0.4444444444444444,\"#bd3786\"],[0.5555555555555556,\"#d8576b\"],[0.6666666666666666,\"#ed7953\"],[0.7777777777777778,\"#fb9f3a\"],[0.8888888888888888,\"#fdca26\"],[1.0,\"#f0f921\"]]}],\"mesh3d\":[{\"type\":\"mesh3d\",\"colorbar\":{\"outlinewidth\":0,\"ticks\":\"\"}}],\"scatter\":[{\"fillpattern\":{\"fillmode\":\"overlay\",\"size\":10,\"solidity\":0.2},\"type\":\"scatter\"}],\"parcoords\":[{\"type\":\"parcoords\",\"line\":{\"colorbar\":{\"outlinewidth\":0,\"ticks\":\"\"}}}],\"scatterpolargl\":[{\"type\":\"scatterpolargl\",\"marker\":{\"colorbar\":{\"outlinewidth\":0,\"ticks\":\"\"}}}],\"bar\":[{\"error_x\":{\"color\":\"#2a3f5f\"},\"error_y\":{\"color\":\"#2a3f5f\"},\"marker\":{\"line\":{\"color\":\"#E5ECF6\",\"width\":0.5},\"pattern\":{\"fillmode\":\"overlay\",\"size\":10,\"solidity\":0.2}},\"type\":\"bar\"}],\"scattergeo\":[{\"type\":\"scattergeo\",\"marker\":{\"colorbar\":{\"outlinewidth\":0,\"ticks\":\"\"}}}],\"scatterpolar\":[{\"type\":\"scatterpolar\",\"marker\":{\"colorbar\":{\"outlinewidth\":0,\"ticks\":\"\"}}}],\"histogram\":[{\"marker\":{\"pattern\":{\"fillmode\":\"overlay\",\"size\":10,\"solidity\":0.2}},\"type\":\"histogram\"}],\"scattergl\":[{\"type\":\"scattergl\",\"marker\":{\"colorbar\":{\"outlinewidth\":0,\"ticks\":\"\"}}}],\"scatter3d\":[{\"type\":\"scatter3d\",\"line\":{\"colorbar\":{\"outlinewidth\":0,\"ticks\":\"\"}},\"marker\":{\"colorbar\":{\"outlinewidth\":0,\"ticks\":\"\"}}}],\"scattermapbox\":[{\"type\":\"scattermapbox\",\"marker\":{\"colorbar\":{\"outlinewidth\":0,\"ticks\":\"\"}}}],\"scatterternary\":[{\"type\":\"scatterternary\",\"marker\":{\"colorbar\":{\"outlinewidth\":0,\"ticks\":\"\"}}}],\"scattercarpet\":[{\"type\":\"scattercarpet\",\"marker\":{\"colorbar\":{\"outlinewidth\":0,\"ticks\":\"\"}}}],\"carpet\":[{\"aaxis\":{\"endlinecolor\":\"#2a3f5f\",\"gridcolor\":\"white\",\"linecolor\":\"white\",\"minorgridcolor\":\"white\",\"startlinecolor\":\"#2a3f5f\"},\"baxis\":{\"endlinecolor\":\"#2a3f5f\",\"gridcolor\":\"white\",\"linecolor\":\"white\",\"minorgridcolor\":\"white\",\"startlinecolor\":\"#2a3f5f\"},\"type\":\"carpet\"}],\"table\":[{\"cells\":{\"fill\":{\"color\":\"#EBF0F8\"},\"line\":{\"color\":\"white\"}},\"header\":{\"fill\":{\"color\":\"#C8D4E3\"},\"line\":{\"color\":\"white\"}},\"type\":\"table\"}],\"barpolar\":[{\"marker\":{\"line\":{\"color\":\"#E5ECF6\",\"width\":0.5},\"pattern\":{\"fillmode\":\"overlay\",\"size\":10,\"solidity\":0.2}},\"type\":\"barpolar\"}],\"pie\":[{\"automargin\":true,\"type\":\"pie\"}]},\"layout\":{\"autotypenumbers\":\"strict\",\"colorway\":[\"#636efa\",\"#EF553B\",\"#00cc96\",\"#ab63fa\",\"#FFA15A\",\"#19d3f3\",\"#FF6692\",\"#B6E880\",\"#FF97FF\",\"#FECB52\"],\"font\":{\"color\":\"#2a3f5f\"},\"hovermode\":\"closest\",\"hoverlabel\":{\"align\":\"left\"},\"paper_bgcolor\":\"white\",\"plot_bgcolor\":\"#E5ECF6\",\"polar\":{\"bgcolor\":\"#E5ECF6\",\"angularaxis\":{\"gridcolor\":\"white\",\"linecolor\":\"white\",\"ticks\":\"\"},\"radialaxis\":{\"gridcolor\":\"white\",\"linecolor\":\"white\",\"ticks\":\"\"}},\"ternary\":{\"bgcolor\":\"#E5ECF6\",\"aaxis\":{\"gridcolor\":\"white\",\"linecolor\":\"white\",\"ticks\":\"\"},\"baxis\":{\"gridcolor\":\"white\",\"linecolor\":\"white\",\"ticks\":\"\"},\"caxis\":{\"gridcolor\":\"white\",\"linecolor\":\"white\",\"ticks\":\"\"}},\"coloraxis\":{\"colorbar\":{\"outlinewidth\":0,\"ticks\":\"\"}},\"colorscale\":{\"sequential\":[[0.0,\"#0d0887\"],[0.1111111111111111,\"#46039f\"],[0.2222222222222222,\"#7201a8\"],[0.3333333333333333,\"#9c179e\"],[0.4444444444444444,\"#bd3786\"],[0.5555555555555556,\"#d8576b\"],[0.6666666666666666,\"#ed7953\"],[0.7777777777777778,\"#fb9f3a\"],[0.8888888888888888,\"#fdca26\"],[1.0,\"#f0f921\"]],\"sequentialminus\":[[0.0,\"#0d0887\"],[0.1111111111111111,\"#46039f\"],[0.2222222222222222,\"#7201a8\"],[0.3333333333333333,\"#9c179e\"],[0.4444444444444444,\"#bd3786\"],[0.5555555555555556,\"#d8576b\"],[0.6666666666666666,\"#ed7953\"],[0.7777777777777778,\"#fb9f3a\"],[0.8888888888888888,\"#fdca26\"],[1.0,\"#f0f921\"]],\"diverging\":[[0,\"#8e0152\"],[0.1,\"#c51b7d\"],[0.2,\"#de77ae\"],[0.3,\"#f1b6da\"],[0.4,\"#fde0ef\"],[0.5,\"#f7f7f7\"],[0.6,\"#e6f5d0\"],[0.7,\"#b8e186\"],[0.8,\"#7fbc41\"],[0.9,\"#4d9221\"],[1,\"#276419\"]]},\"xaxis\":{\"gridcolor\":\"white\",\"linecolor\":\"white\",\"ticks\":\"\",\"title\":{\"standoff\":15},\"zerolinecolor\":\"white\",\"automargin\":true,\"zerolinewidth\":2},\"yaxis\":{\"gridcolor\":\"white\",\"linecolor\":\"white\",\"ticks\":\"\",\"title\":{\"standoff\":15},\"zerolinecolor\":\"white\",\"automargin\":true,\"zerolinewidth\":2},\"scene\":{\"xaxis\":{\"backgroundcolor\":\"#E5ECF6\",\"gridcolor\":\"white\",\"linecolor\":\"white\",\"showbackground\":true,\"ticks\":\"\",\"zerolinecolor\":\"white\",\"gridwidth\":2},\"yaxis\":{\"backgroundcolor\":\"#E5ECF6\",\"gridcolor\":\"white\",\"linecolor\":\"white\",\"showbackground\":true,\"ticks\":\"\",\"zerolinecolor\":\"white\",\"gridwidth\":2},\"zaxis\":{\"backgroundcolor\":\"#E5ECF6\",\"gridcolor\":\"white\",\"linecolor\":\"white\",\"showbackground\":true,\"ticks\":\"\",\"zerolinecolor\":\"white\",\"gridwidth\":2}},\"shapedefaults\":{\"line\":{\"color\":\"#2a3f5f\"}},\"annotationdefaults\":{\"arrowcolor\":\"#2a3f5f\",\"arrowhead\":0,\"arrowwidth\":1},\"geo\":{\"bgcolor\":\"white\",\"landcolor\":\"#E5ECF6\",\"subunitcolor\":\"white\",\"showland\":true,\"showlakes\":true,\"lakecolor\":\"white\"},\"title\":{\"x\":0.05},\"mapbox\":{\"style\":\"light\"}}},\"barmode\":\"group\",\"xaxis\":{\"title\":{\"text\":\"Day\"}},\"yaxis\":{\"title\":{\"text\":\"Percentage\"}},\"title\":{\"text\":\"Percentage of Paid and Not Paid Defaults in the Last Month\"}},                        {\"responsive\": true}                    ).then(function(){\n",
              "                            \n",
              "var gd = document.getElementById('5cf42f4c-0615-4394-b790-cd6014224333');\n",
              "var x = new MutationObserver(function (mutations, observer) {{\n",
              "        var display = window.getComputedStyle(gd).display;\n",
              "        if (!display || display === 'none') {{\n",
              "            console.log([gd, 'removed!']);\n",
              "            Plotly.purge(gd);\n",
              "            observer.disconnect();\n",
              "        }}\n",
              "}});\n",
              "\n",
              "// Listen for the removal of the full notebook cells\n",
              "var notebookContainer = gd.closest('#notebook-container');\n",
              "if (notebookContainer) {{\n",
              "    x.observe(notebookContainer, {childList: true});\n",
              "}}\n",
              "\n",
              "// Listen for the clearing of the current output cell\n",
              "var outputEl = gd.closest('.output');\n",
              "if (outputEl) {{\n",
              "    x.observe(outputEl, {childList: true});\n",
              "}}\n",
              "\n",
              "                        })                };                            </script>        </div>\n",
              "</body>\n",
              "</html>"
            ]
          },
          "metadata": {}
        }
      ],
      "source": [
        "# : Based S_2 plot a bar graph showing the percentage of paid and not paid\n",
        "# default aka the target varaible for the last one month for each day in plotly\n",
        "\n",
        "\n",
        "# Convert 'S_2' to datetime if it's not already\n",
        "train_df['S_2'] = pd.to_datetime(train_df['S_2'])\n",
        "\n",
        "# Filter data for the last one month\n",
        "last_month = train_df['S_2'].max() - pd.DateOffset(months=1)\n",
        "last_month_data = train_df[train_df['S_2'] >= last_month]\n",
        "\n",
        "# Group by day and calculate the percentage of paid and not paid defaults\n",
        "daily_default_percentage = last_month_data.groupby([train_df['S_2'].dt.date, 'target'])['target'].count().unstack().fillna(0)\n",
        "\n",
        "daily_default_percentage['Total'] = daily_default_percentage[0] + daily_default_percentage[1]\n",
        "daily_default_percentage['Paid_Percentage'] = (daily_default_percentage[0] / daily_default_percentage['Total']) * 100\n",
        "daily_default_percentage['Not_Paid_Percentage'] = (daily_default_percentage[1] / daily_default_percentage['Total']) * 100\n",
        "\n",
        "\n",
        "# Create the bar graph using Plotly\n",
        "fig = go.Figure(data=[\n",
        "    go.Bar(\n",
        "        name='Not Paid',\n",
        "        x=daily_default_percentage.index,\n",
        "        y=daily_default_percentage['Not_Paid_Percentage'],\n",
        "        marker=dict(color='#FF4C4C')  # Set color to red\n",
        "    ),\n",
        "    go.Bar(\n",
        "        name='Paid',\n",
        "        x=daily_default_percentage.index,\n",
        "        y=daily_default_percentage['Paid_Percentage'],\n",
        "        marker=dict(color='#4C9AFF')\n",
        "    )\n",
        "])\n",
        "\n",
        "fig.update_layout(\n",
        "    barmode='group',\n",
        "    xaxis_title='Day',\n",
        "    yaxis_title='Percentage',\n",
        "    title='Percentage of Paid and Not Paid Defaults in the Last Month'\n",
        ")\n",
        "\n",
        "fig.show()\n"
      ]
    },
    {
      "cell_type": "code",
      "execution_count": null,
      "metadata": {
        "id": "cQpnnBHBGXvG",
        "colab": {
          "base_uri": "https://localhost:8080/"
        },
        "outputId": "73543e30-0335-4b0f-8578-1b33d437af21"
      },
      "outputs": [
        {
          "output_type": "stream",
          "name": "stdout",
          "text": [
            "\n",
            "Missing Values in Training data:\n",
            "customer_ID        0\n",
            "S_2                0\n",
            "P_2              376\n",
            "D_39               0\n",
            "B_1                0\n",
            "               ...  \n",
            "D_142          36563\n",
            "D_143            788\n",
            "D_144            295\n",
            "D_145            788\n",
            "target             0\n",
            "Length: 191, dtype: int64\n",
            "\n",
            "Missing Values in Test data:\n",
            "customer_ID       0\n",
            "S_2               0\n",
            "P_2              95\n",
            "D_39              0\n",
            "B_1               0\n",
            "               ... \n",
            "D_142          9171\n",
            "D_143           194\n",
            "D_144            77\n",
            "D_145           194\n",
            "target            0\n",
            "Length: 191, dtype: int64\n"
          ]
        }
      ],
      "source": [
        "print(\"\\nMissing Values in Training data:\")\n",
        "print(train_df.isnull().sum())\n",
        "\n",
        "print(\"\\nMissing Values in Test data:\")\n",
        "print(test_df.isnull().sum())"
      ]
    },
    {
      "cell_type": "code",
      "execution_count": null,
      "metadata": {
        "id": "A6vL-fSVGbBj"
      },
      "outputs": [],
      "source": [
        "categorical_features = ['B_30', 'B_38', 'D_114', 'D_116', 'D_117',\n",
        "                        'D_120', 'D_126', 'D_63', 'D_64', 'D_66', 'D_68']\n"
      ]
    },
    {
      "cell_type": "code",
      "execution_count": null,
      "metadata": {
        "id": "O87HdMVmGhxC",
        "colab": {
          "base_uri": "https://localhost:8080/"
        },
        "outputId": "b7b0fae7-5155-42b7-d21f-eb8df6126da8"
      },
      "outputs": [
        {
          "output_type": "stream",
          "name": "stdout",
          "text": [
            "Columns dropped: ['D_42', 'D_49', 'D_53', 'D_66', 'D_73', 'D_76', 'R_9', 'D_82', 'B_29', 'D_87', 'D_88', 'D_106', 'R_26', 'D_108', 'D_110', 'D_111', 'B_39', 'B_42', 'D_132', 'D_134', 'D_135', 'D_136', 'D_137', 'D_138', 'D_142']\n",
            "New training data shape: (44252, 166)\n",
            "New testing data shape: (11063, 166)\n"
          ]
        }
      ],
      "source": [
        "# Checking the null values in columns in train_df and wherever the percentage\n",
        "# of null values are more that 70% drop those columns in both train_df and\n",
        "# test_df\n",
        "\n",
        "# Calculate the percentage of null values for each column in train_df\n",
        "null_percentage = train_df.isnull().mean() * 100\n",
        "\n",
        "# Identify columns with more than 70% null values\n",
        "columns_to_drop = null_percentage[null_percentage > 70].index.tolist()\n",
        "\n",
        "# Drop the identified columns from both train_df and test_df\n",
        "train_df = train_df.drop(columns=columns_to_drop)\n",
        "test_df = test_df.drop(columns=columns_to_drop)\n",
        "\n",
        "print(\"Columns dropped:\", columns_to_drop)\n",
        "print(\"New training data shape:\", train_df.shape)\n",
        "print(\"New testing data shape:\", test_df.shape)"
      ]
    },
    {
      "cell_type": "code",
      "execution_count": null,
      "metadata": {
        "id": "ooYXORFtHs2R",
        "colab": {
          "base_uri": "https://localhost:8080/"
        },
        "outputId": "800eb4b5-e873-4d14-be53-9202b8ee7b85"
      },
      "outputs": [
        {
          "output_type": "stream",
          "name": "stdout",
          "text": [
            "\n",
            "Missing Values in Training data:\n",
            "customer_ID      0\n",
            "S_2              0\n",
            "P_2            376\n",
            "D_39             0\n",
            "B_1              0\n",
            "              ... \n",
            "D_141          788\n",
            "D_143          788\n",
            "D_144          295\n",
            "D_145          788\n",
            "target           0\n",
            "Length: 166, dtype: int64\n",
            "\n",
            "Missing Values in Test data:\n",
            "customer_ID      0\n",
            "S_2              0\n",
            "P_2             95\n",
            "D_39             0\n",
            "B_1              0\n",
            "              ... \n",
            "D_141          194\n",
            "D_143          194\n",
            "D_144           77\n",
            "D_145          194\n",
            "target           0\n",
            "Length: 166, dtype: int64\n"
          ]
        }
      ],
      "source": [
        "print(\"\\nMissing Values in Training data:\")\n",
        "print(train_df.isnull().sum())\n",
        "\n",
        "print(\"\\nMissing Values in Test data:\")\n",
        "print(test_df.isnull().sum())"
      ]
    },
    {
      "cell_type": "code",
      "execution_count": null,
      "metadata": {
        "id": "5LF81KUZ90RA",
        "colab": {
          "base_uri": "https://localhost:8080/"
        },
        "outputId": "048afaa6-0c7a-437c-bfa6-83bb020b14c4"
      },
      "outputs": [
        {
          "output_type": "stream",
          "name": "stdout",
          "text": [
            "\n",
            "Missing Values in Training data after handling:\n",
            "customer_ID    0\n",
            "S_2            0\n",
            "P_2            0\n",
            "D_39           0\n",
            "B_1            0\n",
            "              ..\n",
            "D_141          0\n",
            "D_143          0\n",
            "D_144          0\n",
            "D_145          0\n",
            "target         0\n",
            "Length: 166, dtype: int64\n",
            "\n",
            "Missing Values in Test data after handling:\n",
            "customer_ID    0\n",
            "S_2            0\n",
            "P_2            0\n",
            "D_39           0\n",
            "B_1            0\n",
            "              ..\n",
            "D_141          0\n",
            "D_143          0\n",
            "D_144          0\n",
            "D_145          0\n",
            "target         0\n",
            "Length: 166, dtype: int64\n"
          ]
        }
      ],
      "source": [
        "# Function to handle missing values\n",
        "def handle_missing_values(df, categorical_features):\n",
        "  \"\"\"Handles missing values in a DataFrame.\n",
        "\n",
        "  Args:\n",
        "      df: Pandas DataFrame.\n",
        "      categorical_features: List of categorical feature names.\n",
        "\n",
        "  Returns:\n",
        "      Pandas DataFrame with missing values handled.\n",
        "  \"\"\"\n",
        "  for column in df.columns:\n",
        "    if column in categorical_features:\n",
        "      # Add 'Unknown' to the categories if it's not already present\n",
        "      if 'Unknown' not in df[column].cat.categories:\n",
        "        df[column] = df[column].cat.add_categories(['Unknown'])\n",
        "      df[column].fillna('Unknown', inplace=True)  # Fill with 'Unknown' for categorical\n",
        "    else:\n",
        "      # Check if the column is numeric before calculating median\n",
        "      if pd.api.types.is_numeric_dtype(df[column]):\n",
        "        # Fill with median for numerical\n",
        "        df[column].fillna(df[column].median(), inplace=True)\n",
        "      else:\n",
        "        # Handle non-numeric columns (e.g., fill with mode or a specific value)\n",
        "        # For demonstration, filling with the most frequent value (mode)\n",
        "        # Add 'Unknown' to the categories if it's not already present and the column is categorical\n",
        "        if pd.api.types.is_categorical_dtype(df[column]) and 'Unknown' not in df[column].cat.categories:\n",
        "          df[column] = df[column].cat.add_categories(['Unknown'])\n",
        "        df[column].fillna('Unknown', inplace=True)\n",
        "  return df\n",
        "\n",
        "\n",
        "# Handle missing values in train_df and test_df\n",
        "train_df = handle_missing_values(train_df, categorical_features)\n",
        "test_df = handle_missing_values(test_df, categorical_features)\n",
        "\n",
        "print(\"\\nMissing Values in Training data after handling:\")\n",
        "print(train_df.isnull().sum())\n",
        "\n",
        "print(\"\\nMissing Values in Test data after handling:\")\n",
        "print(test_df.isnull().sum())"
      ]
    },
    {
      "cell_type": "code",
      "source": [
        "# Plot for the percentage of lables / target for both the classes\n",
        "\n",
        "import plotly.graph_objects as go\n",
        "\n",
        "def plot_target_percentage_donut(df, target_column):\n",
        "  \"\"\"Plots a donut chart showing the percentage of each class in the target column.\n",
        "\n",
        "  Args:\n",
        "      df: Pandas DataFrame containing the target column.\n",
        "      target_column: Name of the target column.\n",
        "  \"\"\"\n",
        "\n",
        "  target_counts = df[target_column].value_counts()\n",
        "  labels = target_counts.index.tolist()\n",
        "  values = target_counts.values.tolist()\n",
        "\n",
        "  # Create the donut chart\n",
        "  fig = go.Figure(data=[go.Pie(labels=labels, values=values, hole=.4)])\n",
        "\n",
        "  # Customize the chart\n",
        "  fig.update_traces(\n",
        "      marker=dict(\n",
        "          colors=['lightgreen', 'lightblue'],\n",
        "          line=dict(color='#000000', width=2)\n",
        "      )\n",
        "  )\n",
        "\n",
        "  fig.update_layout(\n",
        "      title_text=\"Percentage of Target Classes\",\n",
        "      title_font_size=20,\n",
        "      width=600,\n",
        "      height=400,\n",
        "      showlegend=True,\n",
        "      annotations=[\n",
        "          dict(text='Target Distribution', x=0.5, y=0.5, font_size=16, showarrow=False)\n",
        "      ]\n",
        "  )\n",
        "\n",
        "  fig.show()\n",
        "\n",
        "plot_target_percentage_donut(train_df, 'target')"
      ],
      "metadata": {
        "colab": {
          "base_uri": "https://localhost:8080/",
          "height": 417
        },
        "id": "mkAUmmvoeZDo",
        "outputId": "252b96fb-2939-4753-a91f-cd4b809e4a9f"
      },
      "execution_count": null,
      "outputs": [
        {
          "output_type": "display_data",
          "data": {
            "text/html": [
              "<html>\n",
              "<head><meta charset=\"utf-8\" /></head>\n",
              "<body>\n",
              "    <div>            <script src=\"https://cdnjs.cloudflare.com/ajax/libs/mathjax/2.7.5/MathJax.js?config=TeX-AMS-MML_SVG\"></script><script type=\"text/javascript\">if (window.MathJax && window.MathJax.Hub && window.MathJax.Hub.Config) {window.MathJax.Hub.Config({SVG: {font: \"STIX-Web\"}});}</script>                <script type=\"text/javascript\">window.PlotlyConfig = {MathJaxConfig: 'local'};</script>\n",
              "        <script charset=\"utf-8\" src=\"https://cdn.plot.ly/plotly-2.35.2.min.js\"></script>                <div id=\"08aee758-359b-4fe7-bf2e-803d6e20df58\" class=\"plotly-graph-div\" style=\"height:400px; width:600px;\"></div>            <script type=\"text/javascript\">                                    window.PLOTLYENV=window.PLOTLYENV || {};                                    if (document.getElementById(\"08aee758-359b-4fe7-bf2e-803d6e20df58\")) {                    Plotly.newPlot(                        \"08aee758-359b-4fe7-bf2e-803d6e20df58\",                        [{\"hole\":0.4,\"labels\":[0,1],\"values\":[33451,10801],\"type\":\"pie\",\"marker\":{\"line\":{\"color\":\"#000000\",\"width\":2},\"colors\":[\"lightgreen\",\"lightblue\"]}}],                        {\"template\":{\"data\":{\"histogram2dcontour\":[{\"type\":\"histogram2dcontour\",\"colorbar\":{\"outlinewidth\":0,\"ticks\":\"\"},\"colorscale\":[[0.0,\"#0d0887\"],[0.1111111111111111,\"#46039f\"],[0.2222222222222222,\"#7201a8\"],[0.3333333333333333,\"#9c179e\"],[0.4444444444444444,\"#bd3786\"],[0.5555555555555556,\"#d8576b\"],[0.6666666666666666,\"#ed7953\"],[0.7777777777777778,\"#fb9f3a\"],[0.8888888888888888,\"#fdca26\"],[1.0,\"#f0f921\"]]}],\"choropleth\":[{\"type\":\"choropleth\",\"colorbar\":{\"outlinewidth\":0,\"ticks\":\"\"}}],\"histogram2d\":[{\"type\":\"histogram2d\",\"colorbar\":{\"outlinewidth\":0,\"ticks\":\"\"},\"colorscale\":[[0.0,\"#0d0887\"],[0.1111111111111111,\"#46039f\"],[0.2222222222222222,\"#7201a8\"],[0.3333333333333333,\"#9c179e\"],[0.4444444444444444,\"#bd3786\"],[0.5555555555555556,\"#d8576b\"],[0.6666666666666666,\"#ed7953\"],[0.7777777777777778,\"#fb9f3a\"],[0.8888888888888888,\"#fdca26\"],[1.0,\"#f0f921\"]]}],\"heatmap\":[{\"type\":\"heatmap\",\"colorbar\":{\"outlinewidth\":0,\"ticks\":\"\"},\"colorscale\":[[0.0,\"#0d0887\"],[0.1111111111111111,\"#46039f\"],[0.2222222222222222,\"#7201a8\"],[0.3333333333333333,\"#9c179e\"],[0.4444444444444444,\"#bd3786\"],[0.5555555555555556,\"#d8576b\"],[0.6666666666666666,\"#ed7953\"],[0.7777777777777778,\"#fb9f3a\"],[0.8888888888888888,\"#fdca26\"],[1.0,\"#f0f921\"]]}],\"heatmapgl\":[{\"type\":\"heatmapgl\",\"colorbar\":{\"outlinewidth\":0,\"ticks\":\"\"},\"colorscale\":[[0.0,\"#0d0887\"],[0.1111111111111111,\"#46039f\"],[0.2222222222222222,\"#7201a8\"],[0.3333333333333333,\"#9c179e\"],[0.4444444444444444,\"#bd3786\"],[0.5555555555555556,\"#d8576b\"],[0.6666666666666666,\"#ed7953\"],[0.7777777777777778,\"#fb9f3a\"],[0.8888888888888888,\"#fdca26\"],[1.0,\"#f0f921\"]]}],\"contourcarpet\":[{\"type\":\"contourcarpet\",\"colorbar\":{\"outlinewidth\":0,\"ticks\":\"\"}}],\"contour\":[{\"type\":\"contour\",\"colorbar\":{\"outlinewidth\":0,\"ticks\":\"\"},\"colorscale\":[[0.0,\"#0d0887\"],[0.1111111111111111,\"#46039f\"],[0.2222222222222222,\"#7201a8\"],[0.3333333333333333,\"#9c179e\"],[0.4444444444444444,\"#bd3786\"],[0.5555555555555556,\"#d8576b\"],[0.6666666666666666,\"#ed7953\"],[0.7777777777777778,\"#fb9f3a\"],[0.8888888888888888,\"#fdca26\"],[1.0,\"#f0f921\"]]}],\"surface\":[{\"type\":\"surface\",\"colorbar\":{\"outlinewidth\":0,\"ticks\":\"\"},\"colorscale\":[[0.0,\"#0d0887\"],[0.1111111111111111,\"#46039f\"],[0.2222222222222222,\"#7201a8\"],[0.3333333333333333,\"#9c179e\"],[0.4444444444444444,\"#bd3786\"],[0.5555555555555556,\"#d8576b\"],[0.6666666666666666,\"#ed7953\"],[0.7777777777777778,\"#fb9f3a\"],[0.8888888888888888,\"#fdca26\"],[1.0,\"#f0f921\"]]}],\"mesh3d\":[{\"type\":\"mesh3d\",\"colorbar\":{\"outlinewidth\":0,\"ticks\":\"\"}}],\"scatter\":[{\"fillpattern\":{\"fillmode\":\"overlay\",\"size\":10,\"solidity\":0.2},\"type\":\"scatter\"}],\"parcoords\":[{\"type\":\"parcoords\",\"line\":{\"colorbar\":{\"outlinewidth\":0,\"ticks\":\"\"}}}],\"scatterpolargl\":[{\"type\":\"scatterpolargl\",\"marker\":{\"colorbar\":{\"outlinewidth\":0,\"ticks\":\"\"}}}],\"bar\":[{\"error_x\":{\"color\":\"#2a3f5f\"},\"error_y\":{\"color\":\"#2a3f5f\"},\"marker\":{\"line\":{\"color\":\"#E5ECF6\",\"width\":0.5},\"pattern\":{\"fillmode\":\"overlay\",\"size\":10,\"solidity\":0.2}},\"type\":\"bar\"}],\"scattergeo\":[{\"type\":\"scattergeo\",\"marker\":{\"colorbar\":{\"outlinewidth\":0,\"ticks\":\"\"}}}],\"scatterpolar\":[{\"type\":\"scatterpolar\",\"marker\":{\"colorbar\":{\"outlinewidth\":0,\"ticks\":\"\"}}}],\"histogram\":[{\"marker\":{\"pattern\":{\"fillmode\":\"overlay\",\"size\":10,\"solidity\":0.2}},\"type\":\"histogram\"}],\"scattergl\":[{\"type\":\"scattergl\",\"marker\":{\"colorbar\":{\"outlinewidth\":0,\"ticks\":\"\"}}}],\"scatter3d\":[{\"type\":\"scatter3d\",\"line\":{\"colorbar\":{\"outlinewidth\":0,\"ticks\":\"\"}},\"marker\":{\"colorbar\":{\"outlinewidth\":0,\"ticks\":\"\"}}}],\"scattermapbox\":[{\"type\":\"scattermapbox\",\"marker\":{\"colorbar\":{\"outlinewidth\":0,\"ticks\":\"\"}}}],\"scatterternary\":[{\"type\":\"scatterternary\",\"marker\":{\"colorbar\":{\"outlinewidth\":0,\"ticks\":\"\"}}}],\"scattercarpet\":[{\"type\":\"scattercarpet\",\"marker\":{\"colorbar\":{\"outlinewidth\":0,\"ticks\":\"\"}}}],\"carpet\":[{\"aaxis\":{\"endlinecolor\":\"#2a3f5f\",\"gridcolor\":\"white\",\"linecolor\":\"white\",\"minorgridcolor\":\"white\",\"startlinecolor\":\"#2a3f5f\"},\"baxis\":{\"endlinecolor\":\"#2a3f5f\",\"gridcolor\":\"white\",\"linecolor\":\"white\",\"minorgridcolor\":\"white\",\"startlinecolor\":\"#2a3f5f\"},\"type\":\"carpet\"}],\"table\":[{\"cells\":{\"fill\":{\"color\":\"#EBF0F8\"},\"line\":{\"color\":\"white\"}},\"header\":{\"fill\":{\"color\":\"#C8D4E3\"},\"line\":{\"color\":\"white\"}},\"type\":\"table\"}],\"barpolar\":[{\"marker\":{\"line\":{\"color\":\"#E5ECF6\",\"width\":0.5},\"pattern\":{\"fillmode\":\"overlay\",\"size\":10,\"solidity\":0.2}},\"type\":\"barpolar\"}],\"pie\":[{\"automargin\":true,\"type\":\"pie\"}]},\"layout\":{\"autotypenumbers\":\"strict\",\"colorway\":[\"#636efa\",\"#EF553B\",\"#00cc96\",\"#ab63fa\",\"#FFA15A\",\"#19d3f3\",\"#FF6692\",\"#B6E880\",\"#FF97FF\",\"#FECB52\"],\"font\":{\"color\":\"#2a3f5f\"},\"hovermode\":\"closest\",\"hoverlabel\":{\"align\":\"left\"},\"paper_bgcolor\":\"white\",\"plot_bgcolor\":\"#E5ECF6\",\"polar\":{\"bgcolor\":\"#E5ECF6\",\"angularaxis\":{\"gridcolor\":\"white\",\"linecolor\":\"white\",\"ticks\":\"\"},\"radialaxis\":{\"gridcolor\":\"white\",\"linecolor\":\"white\",\"ticks\":\"\"}},\"ternary\":{\"bgcolor\":\"#E5ECF6\",\"aaxis\":{\"gridcolor\":\"white\",\"linecolor\":\"white\",\"ticks\":\"\"},\"baxis\":{\"gridcolor\":\"white\",\"linecolor\":\"white\",\"ticks\":\"\"},\"caxis\":{\"gridcolor\":\"white\",\"linecolor\":\"white\",\"ticks\":\"\"}},\"coloraxis\":{\"colorbar\":{\"outlinewidth\":0,\"ticks\":\"\"}},\"colorscale\":{\"sequential\":[[0.0,\"#0d0887\"],[0.1111111111111111,\"#46039f\"],[0.2222222222222222,\"#7201a8\"],[0.3333333333333333,\"#9c179e\"],[0.4444444444444444,\"#bd3786\"],[0.5555555555555556,\"#d8576b\"],[0.6666666666666666,\"#ed7953\"],[0.7777777777777778,\"#fb9f3a\"],[0.8888888888888888,\"#fdca26\"],[1.0,\"#f0f921\"]],\"sequentialminus\":[[0.0,\"#0d0887\"],[0.1111111111111111,\"#46039f\"],[0.2222222222222222,\"#7201a8\"],[0.3333333333333333,\"#9c179e\"],[0.4444444444444444,\"#bd3786\"],[0.5555555555555556,\"#d8576b\"],[0.6666666666666666,\"#ed7953\"],[0.7777777777777778,\"#fb9f3a\"],[0.8888888888888888,\"#fdca26\"],[1.0,\"#f0f921\"]],\"diverging\":[[0,\"#8e0152\"],[0.1,\"#c51b7d\"],[0.2,\"#de77ae\"],[0.3,\"#f1b6da\"],[0.4,\"#fde0ef\"],[0.5,\"#f7f7f7\"],[0.6,\"#e6f5d0\"],[0.7,\"#b8e186\"],[0.8,\"#7fbc41\"],[0.9,\"#4d9221\"],[1,\"#276419\"]]},\"xaxis\":{\"gridcolor\":\"white\",\"linecolor\":\"white\",\"ticks\":\"\",\"title\":{\"standoff\":15},\"zerolinecolor\":\"white\",\"automargin\":true,\"zerolinewidth\":2},\"yaxis\":{\"gridcolor\":\"white\",\"linecolor\":\"white\",\"ticks\":\"\",\"title\":{\"standoff\":15},\"zerolinecolor\":\"white\",\"automargin\":true,\"zerolinewidth\":2},\"scene\":{\"xaxis\":{\"backgroundcolor\":\"#E5ECF6\",\"gridcolor\":\"white\",\"linecolor\":\"white\",\"showbackground\":true,\"ticks\":\"\",\"zerolinecolor\":\"white\",\"gridwidth\":2},\"yaxis\":{\"backgroundcolor\":\"#E5ECF6\",\"gridcolor\":\"white\",\"linecolor\":\"white\",\"showbackground\":true,\"ticks\":\"\",\"zerolinecolor\":\"white\",\"gridwidth\":2},\"zaxis\":{\"backgroundcolor\":\"#E5ECF6\",\"gridcolor\":\"white\",\"linecolor\":\"white\",\"showbackground\":true,\"ticks\":\"\",\"zerolinecolor\":\"white\",\"gridwidth\":2}},\"shapedefaults\":{\"line\":{\"color\":\"#2a3f5f\"}},\"annotationdefaults\":{\"arrowcolor\":\"#2a3f5f\",\"arrowhead\":0,\"arrowwidth\":1},\"geo\":{\"bgcolor\":\"white\",\"landcolor\":\"#E5ECF6\",\"subunitcolor\":\"white\",\"showland\":true,\"showlakes\":true,\"lakecolor\":\"white\"},\"title\":{\"x\":0.05},\"mapbox\":{\"style\":\"light\"}}},\"title\":{\"font\":{\"size\":20},\"text\":\"Percentage of Target Classes\"},\"width\":600,\"height\":400,\"showlegend\":true,\"annotations\":[{\"showarrow\":false,\"text\":\"Target Distribution\",\"x\":0.5,\"y\":0.5,\"font\":{\"size\":16}}]},                        {\"responsive\": true}                    ).then(function(){\n",
              "                            \n",
              "var gd = document.getElementById('08aee758-359b-4fe7-bf2e-803d6e20df58');\n",
              "var x = new MutationObserver(function (mutations, observer) {{\n",
              "        var display = window.getComputedStyle(gd).display;\n",
              "        if (!display || display === 'none') {{\n",
              "            console.log([gd, 'removed!']);\n",
              "            Plotly.purge(gd);\n",
              "            observer.disconnect();\n",
              "        }}\n",
              "}});\n",
              "\n",
              "// Listen for the removal of the full notebook cells\n",
              "var notebookContainer = gd.closest('#notebook-container');\n",
              "if (notebookContainer) {{\n",
              "    x.observe(notebookContainer, {childList: true});\n",
              "}}\n",
              "\n",
              "// Listen for the clearing of the current output cell\n",
              "var outputEl = gd.closest('.output');\n",
              "if (outputEl) {{\n",
              "    x.observe(outputEl, {childList: true});\n",
              "}}\n",
              "\n",
              "                        })                };                            </script>        </div>\n",
              "</body>\n",
              "</html>"
            ]
          },
          "metadata": {}
        }
      ]
    },
    {
      "cell_type": "markdown",
      "source": [
        "#### Correlation based EDA and Feature Engineering"
      ],
      "metadata": {
        "id": "EESM7LzxY20x"
      }
    },
    {
      "cell_type": "code",
      "source": [
        "# Initialize counters for each category\n",
        "d_count = 0\n",
        "s_count = 0\n",
        "p_count = 0\n",
        "b_count = 0\n",
        "r_count = 0\n",
        "\n",
        "# Iterate through column names and categorize them\n",
        "for col in train_df.columns:\n",
        "    if col.startswith('D_'):\n",
        "        d_count += 1\n",
        "    elif col.startswith('S_'):\n",
        "        s_count += 1\n",
        "    elif col.startswith('P_'):\n",
        "        p_count += 1\n",
        "    elif col.startswith('B_'):\n",
        "        b_count += 1\n",
        "    elif col.startswith('R_'):\n",
        "        r_count += 1\n",
        "\n",
        "# Print the counts for each category\n",
        "print(f\"Number of D_ features: {d_count}\")\n",
        "print(f\"Number of S_ features: {s_count}\")\n",
        "print(f\"Number of P_ features: {p_count}\")\n",
        "print(f\"Number of B_ features: {b_count}\")\n",
        "print(f\"Number of R_ features: {r_count}\")\n",
        "\n",
        "import plotly.graph_objects as go\n",
        "\n",
        "labels = ['Delinquency', 'Spend', 'Payment', 'Balance', 'Risk']\n",
        "values = [d_count, s_count, p_count, b_count, r_count]\n",
        "\n",
        "fig = go.Figure(data=[go.Pie(labels=labels, values=values, hole=.3)])\n",
        "fig.update_layout(title_text=\"Feature Distribution by Category\", title_x=0.5)\n",
        "fig.show()"
      ],
      "metadata": {
        "colab": {
          "base_uri": "https://localhost:8080/",
          "height": 631
        },
        "id": "Ewi6NnKCg5qZ",
        "outputId": "84ed1883-f502-403e-e42f-ed636d64d747"
      },
      "execution_count": null,
      "outputs": [
        {
          "output_type": "stream",
          "name": "stdout",
          "text": [
            "Number of D_ features: 76\n",
            "Number of S_ features: 22\n",
            "Number of P_ features: 3\n",
            "Number of B_ features: 37\n",
            "Number of R_ features: 26\n"
          ]
        },
        {
          "output_type": "display_data",
          "data": {
            "text/html": [
              "<html>\n",
              "<head><meta charset=\"utf-8\" /></head>\n",
              "<body>\n",
              "    <div>            <script src=\"https://cdnjs.cloudflare.com/ajax/libs/mathjax/2.7.5/MathJax.js?config=TeX-AMS-MML_SVG\"></script><script type=\"text/javascript\">if (window.MathJax && window.MathJax.Hub && window.MathJax.Hub.Config) {window.MathJax.Hub.Config({SVG: {font: \"STIX-Web\"}});}</script>                <script type=\"text/javascript\">window.PlotlyConfig = {MathJaxConfig: 'local'};</script>\n",
              "        <script charset=\"utf-8\" src=\"https://cdn.plot.ly/plotly-2.35.2.min.js\"></script>                <div id=\"3ed7c147-c8fe-46f0-83f4-f97a62088862\" class=\"plotly-graph-div\" style=\"height:525px; width:100%;\"></div>            <script type=\"text/javascript\">                                    window.PLOTLYENV=window.PLOTLYENV || {};                                    if (document.getElementById(\"3ed7c147-c8fe-46f0-83f4-f97a62088862\")) {                    Plotly.newPlot(                        \"3ed7c147-c8fe-46f0-83f4-f97a62088862\",                        [{\"hole\":0.3,\"labels\":[\"Delinquency\",\"Spend\",\"Payment\",\"Balance\",\"Risk\"],\"values\":[76,22,3,37,26],\"type\":\"pie\"}],                        {\"template\":{\"data\":{\"histogram2dcontour\":[{\"type\":\"histogram2dcontour\",\"colorbar\":{\"outlinewidth\":0,\"ticks\":\"\"},\"colorscale\":[[0.0,\"#0d0887\"],[0.1111111111111111,\"#46039f\"],[0.2222222222222222,\"#7201a8\"],[0.3333333333333333,\"#9c179e\"],[0.4444444444444444,\"#bd3786\"],[0.5555555555555556,\"#d8576b\"],[0.6666666666666666,\"#ed7953\"],[0.7777777777777778,\"#fb9f3a\"],[0.8888888888888888,\"#fdca26\"],[1.0,\"#f0f921\"]]}],\"choropleth\":[{\"type\":\"choropleth\",\"colorbar\":{\"outlinewidth\":0,\"ticks\":\"\"}}],\"histogram2d\":[{\"type\":\"histogram2d\",\"colorbar\":{\"outlinewidth\":0,\"ticks\":\"\"},\"colorscale\":[[0.0,\"#0d0887\"],[0.1111111111111111,\"#46039f\"],[0.2222222222222222,\"#7201a8\"],[0.3333333333333333,\"#9c179e\"],[0.4444444444444444,\"#bd3786\"],[0.5555555555555556,\"#d8576b\"],[0.6666666666666666,\"#ed7953\"],[0.7777777777777778,\"#fb9f3a\"],[0.8888888888888888,\"#fdca26\"],[1.0,\"#f0f921\"]]}],\"heatmap\":[{\"type\":\"heatmap\",\"colorbar\":{\"outlinewidth\":0,\"ticks\":\"\"},\"colorscale\":[[0.0,\"#0d0887\"],[0.1111111111111111,\"#46039f\"],[0.2222222222222222,\"#7201a8\"],[0.3333333333333333,\"#9c179e\"],[0.4444444444444444,\"#bd3786\"],[0.5555555555555556,\"#d8576b\"],[0.6666666666666666,\"#ed7953\"],[0.7777777777777778,\"#fb9f3a\"],[0.8888888888888888,\"#fdca26\"],[1.0,\"#f0f921\"]]}],\"heatmapgl\":[{\"type\":\"heatmapgl\",\"colorbar\":{\"outlinewidth\":0,\"ticks\":\"\"},\"colorscale\":[[0.0,\"#0d0887\"],[0.1111111111111111,\"#46039f\"],[0.2222222222222222,\"#7201a8\"],[0.3333333333333333,\"#9c179e\"],[0.4444444444444444,\"#bd3786\"],[0.5555555555555556,\"#d8576b\"],[0.6666666666666666,\"#ed7953\"],[0.7777777777777778,\"#fb9f3a\"],[0.8888888888888888,\"#fdca26\"],[1.0,\"#f0f921\"]]}],\"contourcarpet\":[{\"type\":\"contourcarpet\",\"colorbar\":{\"outlinewidth\":0,\"ticks\":\"\"}}],\"contour\":[{\"type\":\"contour\",\"colorbar\":{\"outlinewidth\":0,\"ticks\":\"\"},\"colorscale\":[[0.0,\"#0d0887\"],[0.1111111111111111,\"#46039f\"],[0.2222222222222222,\"#7201a8\"],[0.3333333333333333,\"#9c179e\"],[0.4444444444444444,\"#bd3786\"],[0.5555555555555556,\"#d8576b\"],[0.6666666666666666,\"#ed7953\"],[0.7777777777777778,\"#fb9f3a\"],[0.8888888888888888,\"#fdca26\"],[1.0,\"#f0f921\"]]}],\"surface\":[{\"type\":\"surface\",\"colorbar\":{\"outlinewidth\":0,\"ticks\":\"\"},\"colorscale\":[[0.0,\"#0d0887\"],[0.1111111111111111,\"#46039f\"],[0.2222222222222222,\"#7201a8\"],[0.3333333333333333,\"#9c179e\"],[0.4444444444444444,\"#bd3786\"],[0.5555555555555556,\"#d8576b\"],[0.6666666666666666,\"#ed7953\"],[0.7777777777777778,\"#fb9f3a\"],[0.8888888888888888,\"#fdca26\"],[1.0,\"#f0f921\"]]}],\"mesh3d\":[{\"type\":\"mesh3d\",\"colorbar\":{\"outlinewidth\":0,\"ticks\":\"\"}}],\"scatter\":[{\"fillpattern\":{\"fillmode\":\"overlay\",\"size\":10,\"solidity\":0.2},\"type\":\"scatter\"}],\"parcoords\":[{\"type\":\"parcoords\",\"line\":{\"colorbar\":{\"outlinewidth\":0,\"ticks\":\"\"}}}],\"scatterpolargl\":[{\"type\":\"scatterpolargl\",\"marker\":{\"colorbar\":{\"outlinewidth\":0,\"ticks\":\"\"}}}],\"bar\":[{\"error_x\":{\"color\":\"#2a3f5f\"},\"error_y\":{\"color\":\"#2a3f5f\"},\"marker\":{\"line\":{\"color\":\"#E5ECF6\",\"width\":0.5},\"pattern\":{\"fillmode\":\"overlay\",\"size\":10,\"solidity\":0.2}},\"type\":\"bar\"}],\"scattergeo\":[{\"type\":\"scattergeo\",\"marker\":{\"colorbar\":{\"outlinewidth\":0,\"ticks\":\"\"}}}],\"scatterpolar\":[{\"type\":\"scatterpolar\",\"marker\":{\"colorbar\":{\"outlinewidth\":0,\"ticks\":\"\"}}}],\"histogram\":[{\"marker\":{\"pattern\":{\"fillmode\":\"overlay\",\"size\":10,\"solidity\":0.2}},\"type\":\"histogram\"}],\"scattergl\":[{\"type\":\"scattergl\",\"marker\":{\"colorbar\":{\"outlinewidth\":0,\"ticks\":\"\"}}}],\"scatter3d\":[{\"type\":\"scatter3d\",\"line\":{\"colorbar\":{\"outlinewidth\":0,\"ticks\":\"\"}},\"marker\":{\"colorbar\":{\"outlinewidth\":0,\"ticks\":\"\"}}}],\"scattermapbox\":[{\"type\":\"scattermapbox\",\"marker\":{\"colorbar\":{\"outlinewidth\":0,\"ticks\":\"\"}}}],\"scatterternary\":[{\"type\":\"scatterternary\",\"marker\":{\"colorbar\":{\"outlinewidth\":0,\"ticks\":\"\"}}}],\"scattercarpet\":[{\"type\":\"scattercarpet\",\"marker\":{\"colorbar\":{\"outlinewidth\":0,\"ticks\":\"\"}}}],\"carpet\":[{\"aaxis\":{\"endlinecolor\":\"#2a3f5f\",\"gridcolor\":\"white\",\"linecolor\":\"white\",\"minorgridcolor\":\"white\",\"startlinecolor\":\"#2a3f5f\"},\"baxis\":{\"endlinecolor\":\"#2a3f5f\",\"gridcolor\":\"white\",\"linecolor\":\"white\",\"minorgridcolor\":\"white\",\"startlinecolor\":\"#2a3f5f\"},\"type\":\"carpet\"}],\"table\":[{\"cells\":{\"fill\":{\"color\":\"#EBF0F8\"},\"line\":{\"color\":\"white\"}},\"header\":{\"fill\":{\"color\":\"#C8D4E3\"},\"line\":{\"color\":\"white\"}},\"type\":\"table\"}],\"barpolar\":[{\"marker\":{\"line\":{\"color\":\"#E5ECF6\",\"width\":0.5},\"pattern\":{\"fillmode\":\"overlay\",\"size\":10,\"solidity\":0.2}},\"type\":\"barpolar\"}],\"pie\":[{\"automargin\":true,\"type\":\"pie\"}]},\"layout\":{\"autotypenumbers\":\"strict\",\"colorway\":[\"#636efa\",\"#EF553B\",\"#00cc96\",\"#ab63fa\",\"#FFA15A\",\"#19d3f3\",\"#FF6692\",\"#B6E880\",\"#FF97FF\",\"#FECB52\"],\"font\":{\"color\":\"#2a3f5f\"},\"hovermode\":\"closest\",\"hoverlabel\":{\"align\":\"left\"},\"paper_bgcolor\":\"white\",\"plot_bgcolor\":\"#E5ECF6\",\"polar\":{\"bgcolor\":\"#E5ECF6\",\"angularaxis\":{\"gridcolor\":\"white\",\"linecolor\":\"white\",\"ticks\":\"\"},\"radialaxis\":{\"gridcolor\":\"white\",\"linecolor\":\"white\",\"ticks\":\"\"}},\"ternary\":{\"bgcolor\":\"#E5ECF6\",\"aaxis\":{\"gridcolor\":\"white\",\"linecolor\":\"white\",\"ticks\":\"\"},\"baxis\":{\"gridcolor\":\"white\",\"linecolor\":\"white\",\"ticks\":\"\"},\"caxis\":{\"gridcolor\":\"white\",\"linecolor\":\"white\",\"ticks\":\"\"}},\"coloraxis\":{\"colorbar\":{\"outlinewidth\":0,\"ticks\":\"\"}},\"colorscale\":{\"sequential\":[[0.0,\"#0d0887\"],[0.1111111111111111,\"#46039f\"],[0.2222222222222222,\"#7201a8\"],[0.3333333333333333,\"#9c179e\"],[0.4444444444444444,\"#bd3786\"],[0.5555555555555556,\"#d8576b\"],[0.6666666666666666,\"#ed7953\"],[0.7777777777777778,\"#fb9f3a\"],[0.8888888888888888,\"#fdca26\"],[1.0,\"#f0f921\"]],\"sequentialminus\":[[0.0,\"#0d0887\"],[0.1111111111111111,\"#46039f\"],[0.2222222222222222,\"#7201a8\"],[0.3333333333333333,\"#9c179e\"],[0.4444444444444444,\"#bd3786\"],[0.5555555555555556,\"#d8576b\"],[0.6666666666666666,\"#ed7953\"],[0.7777777777777778,\"#fb9f3a\"],[0.8888888888888888,\"#fdca26\"],[1.0,\"#f0f921\"]],\"diverging\":[[0,\"#8e0152\"],[0.1,\"#c51b7d\"],[0.2,\"#de77ae\"],[0.3,\"#f1b6da\"],[0.4,\"#fde0ef\"],[0.5,\"#f7f7f7\"],[0.6,\"#e6f5d0\"],[0.7,\"#b8e186\"],[0.8,\"#7fbc41\"],[0.9,\"#4d9221\"],[1,\"#276419\"]]},\"xaxis\":{\"gridcolor\":\"white\",\"linecolor\":\"white\",\"ticks\":\"\",\"title\":{\"standoff\":15},\"zerolinecolor\":\"white\",\"automargin\":true,\"zerolinewidth\":2},\"yaxis\":{\"gridcolor\":\"white\",\"linecolor\":\"white\",\"ticks\":\"\",\"title\":{\"standoff\":15},\"zerolinecolor\":\"white\",\"automargin\":true,\"zerolinewidth\":2},\"scene\":{\"xaxis\":{\"backgroundcolor\":\"#E5ECF6\",\"gridcolor\":\"white\",\"linecolor\":\"white\",\"showbackground\":true,\"ticks\":\"\",\"zerolinecolor\":\"white\",\"gridwidth\":2},\"yaxis\":{\"backgroundcolor\":\"#E5ECF6\",\"gridcolor\":\"white\",\"linecolor\":\"white\",\"showbackground\":true,\"ticks\":\"\",\"zerolinecolor\":\"white\",\"gridwidth\":2},\"zaxis\":{\"backgroundcolor\":\"#E5ECF6\",\"gridcolor\":\"white\",\"linecolor\":\"white\",\"showbackground\":true,\"ticks\":\"\",\"zerolinecolor\":\"white\",\"gridwidth\":2}},\"shapedefaults\":{\"line\":{\"color\":\"#2a3f5f\"}},\"annotationdefaults\":{\"arrowcolor\":\"#2a3f5f\",\"arrowhead\":0,\"arrowwidth\":1},\"geo\":{\"bgcolor\":\"white\",\"landcolor\":\"#E5ECF6\",\"subunitcolor\":\"white\",\"showland\":true,\"showlakes\":true,\"lakecolor\":\"white\"},\"title\":{\"x\":0.05},\"mapbox\":{\"style\":\"light\"}}},\"title\":{\"text\":\"Feature Distribution by Category\",\"x\":0.5}},                        {\"responsive\": true}                    ).then(function(){\n",
              "                            \n",
              "var gd = document.getElementById('3ed7c147-c8fe-46f0-83f4-f97a62088862');\n",
              "var x = new MutationObserver(function (mutations, observer) {{\n",
              "        var display = window.getComputedStyle(gd).display;\n",
              "        if (!display || display === 'none') {{\n",
              "            console.log([gd, 'removed!']);\n",
              "            Plotly.purge(gd);\n",
              "            observer.disconnect();\n",
              "        }}\n",
              "}});\n",
              "\n",
              "// Listen for the removal of the full notebook cells\n",
              "var notebookContainer = gd.closest('#notebook-container');\n",
              "if (notebookContainer) {{\n",
              "    x.observe(notebookContainer, {childList: true});\n",
              "}}\n",
              "\n",
              "// Listen for the clearing of the current output cell\n",
              "var outputEl = gd.closest('.output');\n",
              "if (outputEl) {{\n",
              "    x.observe(outputEl, {childList: true});\n",
              "}}\n",
              "\n",
              "                        })                };                            </script>        </div>\n",
              "</body>\n",
              "</html>"
            ]
          },
          "metadata": {}
        }
      ]
    },
    {
      "cell_type": "code",
      "source": [
        "!pip install plotly\n",
        "import plotly.graph_objects as go\n",
        "from itertools import cycle\n",
        "import pandas as pd\n",
        "\n",
        "palette = cycle([\"#ffd670\",\"#70d6ff\",\"#ff4d6d\",\"#8338ec\",\"#90cf8e\"])\n",
        "\n",
        "# Select only numeric columns for correlation calculation\n",
        "numeric_train_df = train_df.select_dtypes(include=['number'])\n",
        "\n",
        "# Calculate correlation with the target variable for numeric columns\n",
        "targ = numeric_train_df.corrwith(numeric_train_df['target'], axis=0)\n",
        "\n",
        "# Sort correlations in descending order (preserving signs)\n",
        "targ_sorted = targ.sort_values(ascending=False)\n",
        "\n",
        "\n",
        "# val = [str(round(v ,1) *100) + '%' for v in targ_sorted.values]\n",
        "# Format the values for display (rounding to 2 decimal places and converting to percentage)\n",
        "val = [str(round(v * 100, 2)) + '%' for v in targ_sorted.values]\n",
        "\n",
        "\n",
        "fig = go.Figure()\n",
        "fig.add_trace(go.Bar(y=targ_sorted.index,\n",
        "                     x= targ_sorted.values, orientation='h',\n",
        "                     text = val))\n",
        "fig.update_layout(title = \"Correlation of variables with Target\",width = 750,\n",
        "                  height = 3500)\n",
        "fig.show() # added fig.show() to display the figure"
      ],
      "metadata": {
        "colab": {
          "base_uri": "https://localhost:8080/",
          "height": 1000
        },
        "id": "5_PvX5DNZFm4",
        "outputId": "bab4e64d-90a8-42a3-c83b-906728cc9569"
      },
      "execution_count": null,
      "outputs": [
        {
          "output_type": "stream",
          "name": "stdout",
          "text": [
            "Requirement already satisfied: plotly in /usr/local/lib/python3.10/dist-packages (5.24.1)\n",
            "Requirement already satisfied: tenacity>=6.2.0 in /usr/local/lib/python3.10/dist-packages (from plotly) (9.0.0)\n",
            "Requirement already satisfied: packaging in /usr/local/lib/python3.10/dist-packages (from plotly) (24.2)\n"
          ]
        },
        {
          "output_type": "display_data",
          "data": {
            "text/html": [
              "<html>\n",
              "<head><meta charset=\"utf-8\" /></head>\n",
              "<body>\n",
              "    <div>            <script src=\"https://cdnjs.cloudflare.com/ajax/libs/mathjax/2.7.5/MathJax.js?config=TeX-AMS-MML_SVG\"></script><script type=\"text/javascript\">if (window.MathJax && window.MathJax.Hub && window.MathJax.Hub.Config) {window.MathJax.Hub.Config({SVG: {font: \"STIX-Web\"}});}</script>                <script type=\"text/javascript\">window.PlotlyConfig = {MathJaxConfig: 'local'};</script>\n",
              "        <script charset=\"utf-8\" src=\"https://cdn.plot.ly/plotly-2.35.2.min.js\"></script>                <div id=\"2828ef85-214f-4dbd-ab11-259ea63281c0\" class=\"plotly-graph-div\" style=\"height:3500px; width:750px;\"></div>            <script type=\"text/javascript\">                                    window.PLOTLYENV=window.PLOTLYENV || {};                                    if (document.getElementById(\"2828ef85-214f-4dbd-ab11-259ea63281c0\")) {                    Plotly.newPlot(                        \"2828ef85-214f-4dbd-ab11-259ea63281c0\",                        [{\"orientation\":\"h\",\"text\":[\"100.0%\",\"53.03%\",\"48.38%\",\"47.62%\",\"45.69%\",\"45.37%\",\"44.85%\",\"44.23%\",\"43.01%\",\"42.76%\",\"42.09%\",\"41.51%\",\"40.86%\",\"39.74%\",\"39.0%\",\"38.91%\",\"38.47%\",\"38.37%\",\"37.1%\",\"37.04%\",\"36.5%\",\"33.1%\",\"31.64%\",\"31.51%\",\"28.88%\",\"28.03%\",\"26.9%\",\"26.67%\",\"25.81%\",\"24.99%\",\"23.94%\",\"23.82%\",\"23.42%\",\"22.5%\",\"22.18%\",\"21.53%\",\"20.1%\",\"19.62%\",\"19.52%\",\"19.35%\",\"18.6%\",\"18.31%\",\"17.94%\",\"17.27%\",\"15.95%\",\"15.79%\",\"14.94%\",\"14.55%\",\"14.18%\",\"14.0%\",\"13.55%\",\"13.06%\",\"12.96%\",\"12.96%\",\"12.95%\",\"12.86%\",\"12.65%\",\"12.26%\",\"11.67%\",\"11.62%\",\"11.49%\",\"11.3%\",\"11.16%\",\"10.44%\",\"10.38%\",\"10.36%\",\"10.27%\",\"10.24%\",\"10.16%\",\"9.75%\",\"9.49%\",\"8.9%\",\"8.7%\",\"8.19%\",\"8.02%\",\"7.79%\",\"7.6%\",\"7.26%\",\"7.21%\",\"7.03%\",\"7.03%\",\"6.98%\",\"6.75%\",\"6.69%\",\"6.6%\",\"6.55%\",\"6.35%\",\"4.77%\",\"4.74%\",\"3.35%\",\"2.95%\",\"2.4%\",\"2.25%\",\"2.0%\",\"1.79%\",\"1.51%\",\"1.47%\",\"1.43%\",\"1.06%\",\"0.94%\",\"0.84%\",\"0.53%\",\"0.09%\",\"0.08%\",\"-0.04%\",\"-0.96%\",\"-1.26%\",\"-2.05%\",\"-2.84%\",\"-3.0%\",\"-3.75%\",\"-3.97%\",\"-4.11%\",\"-4.12%\",\"-5.16%\",\"-5.16%\",\"-5.76%\",\"-5.91%\",\"-6.19%\",\"-6.52%\",\"-6.63%\",\"-6.77%\",\"-7.89%\",\"-8.17%\",\"-9.81%\",\"-10.09%\",\"-12.07%\",\"-12.09%\",\"-13.77%\",\"-13.86%\",\"-14.18%\",\"-14.74%\",\"-15.41%\",\"-15.62%\",\"-16.09%\",\"-16.9%\",\"-17.0%\",\"-17.69%\",\"-17.71%\",\"-18.38%\",\"-21.28%\",\"-22.39%\",\"-22.77%\",\"-23.81%\",\"-24.2%\",\"-24.78%\",\"-26.34%\",\"-26.71%\",\"-27.15%\",\"-31.29%\",\"-45.38%\",\"-48.48%\",\"-48.87%\",\"-59.98%\"],\"x\":[1.0,0.5302920550316773,0.4838283749453218,0.4762100543729166,0.4568627542945023,0.45365415391874203,0.4485363108835295,0.4423073510304281,0.43009335571558716,0.4276165344031387,0.4209013134944037,0.4151469900259338,0.40859023837942166,0.39737709526820386,0.39003063776689595,0.38906883541953674,0.3847245096490328,0.38370707329943765,0.37099370988396213,0.37036064021788473,0.3649626533520369,0.330979854617629,0.3163606765141519,0.31508231207460863,0.2887694451339764,0.28026060475427633,0.26901260917774267,0.26670438061264745,0.2580500491984118,0.24986664893341387,0.23943872010611006,0.2382173929713323,0.23419493670980124,0.2249604741253512,0.2218461628087794,0.21530628721336662,0.2010134241374386,0.19623825163042496,0.19517019813454983,0.19350444029407565,0.185961673283683,0.1830757430462607,0.1794033756234172,0.17274779989105524,0.15948851479089338,0.15789676695393673,0.1493704344968635,0.14550965437310204,0.14179946812816202,0.14003685628804174,0.13550537808092974,0.1305557339784698,0.12959591966497752,0.12958914148179346,0.12949384868727923,0.1285738554751077,0.12651484903289256,0.12261590506694423,0.11669314360075489,0.11620343147469539,0.1149167119327704,0.11302205599001747,0.11164126099187982,0.1043768506922719,0.10382409440613215,0.10358453391249958,0.10268864543790666,0.10241576994176356,0.10159329896643497,0.09752409039602801,0.09489078712481042,0.08899693007606242,0.08700331541557135,0.08192638818628166,0.0802168023894655,0.07788904347618437,0.07603967130287698,0.07264964228349015,0.07210915370040227,0.07028617699215839,0.0702832877971562,0.06983737977721906,0.06746028596383723,0.0668833028241085,0.06597766390658097,0.06546811602789854,0.06346815876299954,0.04766578758576133,0.0473776589844518,0.033484178284377344,0.02952086342039987,0.02399741871579609,0.022521204124585942,0.0200154434203604,0.017870543155358132,0.015073475595846552,0.014722825395546604,0.014262943071062536,0.010643294805239754,0.009368078334489185,0.008351284030796682,0.005320835653148119,0.000886784526195764,0.0008327498693467919,-0.0004455993669552383,-0.00960000467324508,-0.012615492431537948,-0.020501103895989085,-0.028399783521092993,-0.029986048457627014,-0.037466866064267676,-0.039669137283652435,-0.04114597823903322,-0.0411794182768361,-0.05161698086398415,-0.05162387065445706,-0.0576380907542462,-0.05909173741148076,-0.06194414140686743,-0.06520086226907928,-0.06629652201234787,-0.06773705402637377,-0.07889638836621467,-0.08174876925131103,-0.09810663277558984,-0.10091072882590198,-0.1207366810303499,-0.120890633380874,-0.1377281433076258,-0.13861073792837078,-0.14176874760965738,-0.14741472448598128,-0.15414139711630184,-0.15620377554203518,-0.16088766043083336,-0.1690305120718484,-0.17000431424378032,-0.1769418724466172,-0.1771305877075226,-0.18383528475674107,-0.21279911491725764,-0.22387253974729918,-0.22771454488455256,-0.23808979898247687,-0.242005616508944,-0.24775777070395255,-0.2634338953919539,-0.2670737926762777,-0.27153145754833086,-0.31292499489420667,-0.453762350944598,-0.48479187551971603,-0.4886562094609339,-0.599800127108532],\"y\":[\"target\",\"D_48\",\"D_61\",\"B_9\",\"D_44\",\"D_75\",\"D_55\",\"D_58\",\"B_3\",\"B_7\",\"B_23\",\"D_74\",\"B_4\",\"B_16\",\"B_1\",\"B_37\",\"B_19\",\"B_20\",\"B_22\",\"B_11\",\"R_1\",\"S_7\",\"S_3\",\"B_8\",\"D_70\",\"R_3\",\"D_78\",\"R_2\",\"D_43\",\"D_41\",\"P_4\",\"B_28\",\"R_10\",\"D_131\",\"R_4\",\"D_79\",\"D_130\",\"B_25\",\"S_15\",\"D_39\",\"D_59\",\"D_84\",\"D_81\",\"D_72\",\"R_5\",\"R_8\",\"R_21\",\"R_24\",\"D_113\",\"D_46\",\"D_133\",\"R_16\",\"D_143\",\"D_139\",\"R_15\",\"S_20\",\"D_141\",\"D_145\",\"D_103\",\"D_104\",\"D_89\",\"D_107\",\"D_140\",\"B_24\",\"R_19\",\"B_32\",\"R_20\",\"R_6\",\"B_14\",\"B_21\",\"R_13\",\"B_41\",\"R_11\",\"S_16\",\"S_24\",\"S_22\",\"R_7\",\"R_17\",\"D_123\",\"D_125\",\"D_83\",\"R_25\",\"S_5\",\"B_17\",\"D_65\",\"D_80\",\"R_22\",\"S_9\",\"D_124\",\"B_36\",\"R_28\",\"S_17\",\"R_14\",\"B_15\",\"D_102\",\"R_23\",\"B_26\",\"B_40\",\"S_12\",\"D_69\",\"S_23\",\"S_19\",\"R_18\",\"B_27\",\"D_144\",\"S_18\",\"D_105\",\"D_109\",\"S_27\",\"B_10\",\"D_93\",\"S_26\",\"D_50\",\"B_13\",\"B_12\",\"B_6\",\"B_5\",\"D_96\",\"B_31\",\"D_86\",\"D_60\",\"D_94\",\"S_11\",\"D_71\",\"S_6\",\"S_13\",\"D_56\",\"D_91\",\"D_129\",\"R_12\",\"D_54\",\"D_92\",\"S_8\",\"D_122\",\"D_121\",\"D_119\",\"D_118\",\"D_127\",\"D_115\",\"D_128\",\"D_52\",\"D_112\",\"P_3\",\"S_25\",\"D_77\",\"D_51\",\"D_45\",\"R_27\",\"D_47\",\"D_62\",\"B_33\",\"B_2\",\"B_18\",\"P_2\"],\"type\":\"bar\"}],                        {\"template\":{\"data\":{\"histogram2dcontour\":[{\"type\":\"histogram2dcontour\",\"colorbar\":{\"outlinewidth\":0,\"ticks\":\"\"},\"colorscale\":[[0.0,\"#0d0887\"],[0.1111111111111111,\"#46039f\"],[0.2222222222222222,\"#7201a8\"],[0.3333333333333333,\"#9c179e\"],[0.4444444444444444,\"#bd3786\"],[0.5555555555555556,\"#d8576b\"],[0.6666666666666666,\"#ed7953\"],[0.7777777777777778,\"#fb9f3a\"],[0.8888888888888888,\"#fdca26\"],[1.0,\"#f0f921\"]]}],\"choropleth\":[{\"type\":\"choropleth\",\"colorbar\":{\"outlinewidth\":0,\"ticks\":\"\"}}],\"histogram2d\":[{\"type\":\"histogram2d\",\"colorbar\":{\"outlinewidth\":0,\"ticks\":\"\"},\"colorscale\":[[0.0,\"#0d0887\"],[0.1111111111111111,\"#46039f\"],[0.2222222222222222,\"#7201a8\"],[0.3333333333333333,\"#9c179e\"],[0.4444444444444444,\"#bd3786\"],[0.5555555555555556,\"#d8576b\"],[0.6666666666666666,\"#ed7953\"],[0.7777777777777778,\"#fb9f3a\"],[0.8888888888888888,\"#fdca26\"],[1.0,\"#f0f921\"]]}],\"heatmap\":[{\"type\":\"heatmap\",\"colorbar\":{\"outlinewidth\":0,\"ticks\":\"\"},\"colorscale\":[[0.0,\"#0d0887\"],[0.1111111111111111,\"#46039f\"],[0.2222222222222222,\"#7201a8\"],[0.3333333333333333,\"#9c179e\"],[0.4444444444444444,\"#bd3786\"],[0.5555555555555556,\"#d8576b\"],[0.6666666666666666,\"#ed7953\"],[0.7777777777777778,\"#fb9f3a\"],[0.8888888888888888,\"#fdca26\"],[1.0,\"#f0f921\"]]}],\"heatmapgl\":[{\"type\":\"heatmapgl\",\"colorbar\":{\"outlinewidth\":0,\"ticks\":\"\"},\"colorscale\":[[0.0,\"#0d0887\"],[0.1111111111111111,\"#46039f\"],[0.2222222222222222,\"#7201a8\"],[0.3333333333333333,\"#9c179e\"],[0.4444444444444444,\"#bd3786\"],[0.5555555555555556,\"#d8576b\"],[0.6666666666666666,\"#ed7953\"],[0.7777777777777778,\"#fb9f3a\"],[0.8888888888888888,\"#fdca26\"],[1.0,\"#f0f921\"]]}],\"contourcarpet\":[{\"type\":\"contourcarpet\",\"colorbar\":{\"outlinewidth\":0,\"ticks\":\"\"}}],\"contour\":[{\"type\":\"contour\",\"colorbar\":{\"outlinewidth\":0,\"ticks\":\"\"},\"colorscale\":[[0.0,\"#0d0887\"],[0.1111111111111111,\"#46039f\"],[0.2222222222222222,\"#7201a8\"],[0.3333333333333333,\"#9c179e\"],[0.4444444444444444,\"#bd3786\"],[0.5555555555555556,\"#d8576b\"],[0.6666666666666666,\"#ed7953\"],[0.7777777777777778,\"#fb9f3a\"],[0.8888888888888888,\"#fdca26\"],[1.0,\"#f0f921\"]]}],\"surface\":[{\"type\":\"surface\",\"colorbar\":{\"outlinewidth\":0,\"ticks\":\"\"},\"colorscale\":[[0.0,\"#0d0887\"],[0.1111111111111111,\"#46039f\"],[0.2222222222222222,\"#7201a8\"],[0.3333333333333333,\"#9c179e\"],[0.4444444444444444,\"#bd3786\"],[0.5555555555555556,\"#d8576b\"],[0.6666666666666666,\"#ed7953\"],[0.7777777777777778,\"#fb9f3a\"],[0.8888888888888888,\"#fdca26\"],[1.0,\"#f0f921\"]]}],\"mesh3d\":[{\"type\":\"mesh3d\",\"colorbar\":{\"outlinewidth\":0,\"ticks\":\"\"}}],\"scatter\":[{\"fillpattern\":{\"fillmode\":\"overlay\",\"size\":10,\"solidity\":0.2},\"type\":\"scatter\"}],\"parcoords\":[{\"type\":\"parcoords\",\"line\":{\"colorbar\":{\"outlinewidth\":0,\"ticks\":\"\"}}}],\"scatterpolargl\":[{\"type\":\"scatterpolargl\",\"marker\":{\"colorbar\":{\"outlinewidth\":0,\"ticks\":\"\"}}}],\"bar\":[{\"error_x\":{\"color\":\"#2a3f5f\"},\"error_y\":{\"color\":\"#2a3f5f\"},\"marker\":{\"line\":{\"color\":\"#E5ECF6\",\"width\":0.5},\"pattern\":{\"fillmode\":\"overlay\",\"size\":10,\"solidity\":0.2}},\"type\":\"bar\"}],\"scattergeo\":[{\"type\":\"scattergeo\",\"marker\":{\"colorbar\":{\"outlinewidth\":0,\"ticks\":\"\"}}}],\"scatterpolar\":[{\"type\":\"scatterpolar\",\"marker\":{\"colorbar\":{\"outlinewidth\":0,\"ticks\":\"\"}}}],\"histogram\":[{\"marker\":{\"pattern\":{\"fillmode\":\"overlay\",\"size\":10,\"solidity\":0.2}},\"type\":\"histogram\"}],\"scattergl\":[{\"type\":\"scattergl\",\"marker\":{\"colorbar\":{\"outlinewidth\":0,\"ticks\":\"\"}}}],\"scatter3d\":[{\"type\":\"scatter3d\",\"line\":{\"colorbar\":{\"outlinewidth\":0,\"ticks\":\"\"}},\"marker\":{\"colorbar\":{\"outlinewidth\":0,\"ticks\":\"\"}}}],\"scattermapbox\":[{\"type\":\"scattermapbox\",\"marker\":{\"colorbar\":{\"outlinewidth\":0,\"ticks\":\"\"}}}],\"scatterternary\":[{\"type\":\"scatterternary\",\"marker\":{\"colorbar\":{\"outlinewidth\":0,\"ticks\":\"\"}}}],\"scattercarpet\":[{\"type\":\"scattercarpet\",\"marker\":{\"colorbar\":{\"outlinewidth\":0,\"ticks\":\"\"}}}],\"carpet\":[{\"aaxis\":{\"endlinecolor\":\"#2a3f5f\",\"gridcolor\":\"white\",\"linecolor\":\"white\",\"minorgridcolor\":\"white\",\"startlinecolor\":\"#2a3f5f\"},\"baxis\":{\"endlinecolor\":\"#2a3f5f\",\"gridcolor\":\"white\",\"linecolor\":\"white\",\"minorgridcolor\":\"white\",\"startlinecolor\":\"#2a3f5f\"},\"type\":\"carpet\"}],\"table\":[{\"cells\":{\"fill\":{\"color\":\"#EBF0F8\"},\"line\":{\"color\":\"white\"}},\"header\":{\"fill\":{\"color\":\"#C8D4E3\"},\"line\":{\"color\":\"white\"}},\"type\":\"table\"}],\"barpolar\":[{\"marker\":{\"line\":{\"color\":\"#E5ECF6\",\"width\":0.5},\"pattern\":{\"fillmode\":\"overlay\",\"size\":10,\"solidity\":0.2}},\"type\":\"barpolar\"}],\"pie\":[{\"automargin\":true,\"type\":\"pie\"}]},\"layout\":{\"autotypenumbers\":\"strict\",\"colorway\":[\"#636efa\",\"#EF553B\",\"#00cc96\",\"#ab63fa\",\"#FFA15A\",\"#19d3f3\",\"#FF6692\",\"#B6E880\",\"#FF97FF\",\"#FECB52\"],\"font\":{\"color\":\"#2a3f5f\"},\"hovermode\":\"closest\",\"hoverlabel\":{\"align\":\"left\"},\"paper_bgcolor\":\"white\",\"plot_bgcolor\":\"#E5ECF6\",\"polar\":{\"bgcolor\":\"#E5ECF6\",\"angularaxis\":{\"gridcolor\":\"white\",\"linecolor\":\"white\",\"ticks\":\"\"},\"radialaxis\":{\"gridcolor\":\"white\",\"linecolor\":\"white\",\"ticks\":\"\"}},\"ternary\":{\"bgcolor\":\"#E5ECF6\",\"aaxis\":{\"gridcolor\":\"white\",\"linecolor\":\"white\",\"ticks\":\"\"},\"baxis\":{\"gridcolor\":\"white\",\"linecolor\":\"white\",\"ticks\":\"\"},\"caxis\":{\"gridcolor\":\"white\",\"linecolor\":\"white\",\"ticks\":\"\"}},\"coloraxis\":{\"colorbar\":{\"outlinewidth\":0,\"ticks\":\"\"}},\"colorscale\":{\"sequential\":[[0.0,\"#0d0887\"],[0.1111111111111111,\"#46039f\"],[0.2222222222222222,\"#7201a8\"],[0.3333333333333333,\"#9c179e\"],[0.4444444444444444,\"#bd3786\"],[0.5555555555555556,\"#d8576b\"],[0.6666666666666666,\"#ed7953\"],[0.7777777777777778,\"#fb9f3a\"],[0.8888888888888888,\"#fdca26\"],[1.0,\"#f0f921\"]],\"sequentialminus\":[[0.0,\"#0d0887\"],[0.1111111111111111,\"#46039f\"],[0.2222222222222222,\"#7201a8\"],[0.3333333333333333,\"#9c179e\"],[0.4444444444444444,\"#bd3786\"],[0.5555555555555556,\"#d8576b\"],[0.6666666666666666,\"#ed7953\"],[0.7777777777777778,\"#fb9f3a\"],[0.8888888888888888,\"#fdca26\"],[1.0,\"#f0f921\"]],\"diverging\":[[0,\"#8e0152\"],[0.1,\"#c51b7d\"],[0.2,\"#de77ae\"],[0.3,\"#f1b6da\"],[0.4,\"#fde0ef\"],[0.5,\"#f7f7f7\"],[0.6,\"#e6f5d0\"],[0.7,\"#b8e186\"],[0.8,\"#7fbc41\"],[0.9,\"#4d9221\"],[1,\"#276419\"]]},\"xaxis\":{\"gridcolor\":\"white\",\"linecolor\":\"white\",\"ticks\":\"\",\"title\":{\"standoff\":15},\"zerolinecolor\":\"white\",\"automargin\":true,\"zerolinewidth\":2},\"yaxis\":{\"gridcolor\":\"white\",\"linecolor\":\"white\",\"ticks\":\"\",\"title\":{\"standoff\":15},\"zerolinecolor\":\"white\",\"automargin\":true,\"zerolinewidth\":2},\"scene\":{\"xaxis\":{\"backgroundcolor\":\"#E5ECF6\",\"gridcolor\":\"white\",\"linecolor\":\"white\",\"showbackground\":true,\"ticks\":\"\",\"zerolinecolor\":\"white\",\"gridwidth\":2},\"yaxis\":{\"backgroundcolor\":\"#E5ECF6\",\"gridcolor\":\"white\",\"linecolor\":\"white\",\"showbackground\":true,\"ticks\":\"\",\"zerolinecolor\":\"white\",\"gridwidth\":2},\"zaxis\":{\"backgroundcolor\":\"#E5ECF6\",\"gridcolor\":\"white\",\"linecolor\":\"white\",\"showbackground\":true,\"ticks\":\"\",\"zerolinecolor\":\"white\",\"gridwidth\":2}},\"shapedefaults\":{\"line\":{\"color\":\"#2a3f5f\"}},\"annotationdefaults\":{\"arrowcolor\":\"#2a3f5f\",\"arrowhead\":0,\"arrowwidth\":1},\"geo\":{\"bgcolor\":\"white\",\"landcolor\":\"#E5ECF6\",\"subunitcolor\":\"white\",\"showland\":true,\"showlakes\":true,\"lakecolor\":\"white\"},\"title\":{\"x\":0.05},\"mapbox\":{\"style\":\"light\"}}},\"title\":{\"text\":\"Correlation of variables with Target\"},\"width\":750,\"height\":3500},                        {\"responsive\": true}                    ).then(function(){\n",
              "                            \n",
              "var gd = document.getElementById('2828ef85-214f-4dbd-ab11-259ea63281c0');\n",
              "var x = new MutationObserver(function (mutations, observer) {{\n",
              "        var display = window.getComputedStyle(gd).display;\n",
              "        if (!display || display === 'none') {{\n",
              "            console.log([gd, 'removed!']);\n",
              "            Plotly.purge(gd);\n",
              "            observer.disconnect();\n",
              "        }}\n",
              "}});\n",
              "\n",
              "// Listen for the removal of the full notebook cells\n",
              "var notebookContainer = gd.closest('#notebook-container');\n",
              "if (notebookContainer) {{\n",
              "    x.observe(notebookContainer, {childList: true});\n",
              "}}\n",
              "\n",
              "// Listen for the clearing of the current output cell\n",
              "var outputEl = gd.closest('.output');\n",
              "if (outputEl) {{\n",
              "    x.observe(outputEl, {childList: true});\n",
              "}}\n",
              "\n",
              "                        })                };                            </script>        </div>\n",
              "</body>\n",
              "</html>"
            ]
          },
          "metadata": {}
        }
      ]
    },
    {
      "cell_type": "code",
      "source": [
        "# Select only numeric columns for correlation calculation\n",
        "numerical_features = train_df.select_dtypes(include=np.number).columns\n",
        "\n",
        "# Calculate the correlation matrix\n",
        "correlation_matrix = train_df[numerical_features].corr()\n",
        "\n",
        "# Get the correlation with the target variable\n",
        "target_correlations = correlation_matrix['target'].drop('target')\n",
        "\n",
        "# Find features with high positive and negative correlations\n",
        "highly_correlated_positive = target_correlations[target_correlations > 0.1]\n",
        "highly_correlated_negative = target_correlations[target_correlations < -0.1]\n",
        "\n",
        "# Combine positive and negative correlations\n",
        "highly_correlated_features = pd.concat([highly_correlated_positive,\n",
        "                                        highly_correlated_negative])\n",
        "\n",
        "print(\"Highly correlated features with target (above 0.1 or below -0.1):\")\n",
        "print(highly_correlated_features)\n",
        "\n",
        "len(highly_correlated_features)\n",
        "desired_columns = list(highly_correlated_features.index) + categorical_features\n",
        "desired_columns = [col for col in desired_columns if col in train_df.columns]\n",
        "\n",
        "# Getting target and S_2\n",
        "desired_columns.append('target')\n",
        "desired_columns.append('S_2')\n",
        "desired_columns.append('customer_ID')"
      ],
      "metadata": {
        "colab": {
          "base_uri": "https://localhost:8080/"
        },
        "id": "7WeGcN4rmmha",
        "outputId": "4311675d-be78-4ab6-be34-2712087b72a7"
      },
      "execution_count": null,
      "outputs": [
        {
          "output_type": "stream",
          "name": "stdout",
          "text": [
            "Highly correlated features with target (above 0.1 or below -0.1):\n",
            "D_39     0.193504\n",
            "B_1      0.390031\n",
            "R_1      0.364963\n",
            "S_3      0.316361\n",
            "D_41     0.249867\n",
            "           ...   \n",
            "D_121   -0.160888\n",
            "D_122   -0.156204\n",
            "D_127   -0.176942\n",
            "D_128   -0.183835\n",
            "D_129   -0.137728\n",
            "Name: target, Length: 97, dtype: float64\n"
          ]
        }
      ]
    },
    {
      "cell_type": "code",
      "source": [
        "# Select only numeric columns for correlation calculation\n",
        "numerical_features = train_df.select_dtypes(include=np.number).columns\n",
        "\n",
        "# Calculate the correlation matrix\n",
        "correlation_matrix = train_df[numerical_features].corr()\n",
        "\n",
        "# Get the correlation with the target variable\n",
        "target_correlations = correlation_matrix['target'].drop('target')\n",
        "\n",
        "# Find features with high positive and negative correlations\n",
        "highly_correlated_positive = target_correlations[target_correlations > 0.1]\n",
        "highly_correlated_negative = target_correlations[target_correlations < -0.1]\n",
        "\n",
        "# Combine positive and negative correlations\n",
        "highly_correlated_features = pd.concat([highly_correlated_positive,\n",
        "                                        highly_correlated_negative])\n",
        "\n",
        "print(\"Highly correlated features with target (above 0.1 or below -0.1):\")\n",
        "highly_correlated_features"
      ],
      "metadata": {
        "colab": {
          "base_uri": "https://localhost:8080/",
          "height": 476
        },
        "id": "F25cahHrmdWF",
        "outputId": "fbd69356-3ed6-4610-9570-60078a715e69"
      },
      "execution_count": null,
      "outputs": [
        {
          "output_type": "stream",
          "name": "stdout",
          "text": [
            "Highly correlated features with target (above 0.1 or below -0.1):\n"
          ]
        },
        {
          "output_type": "execute_result",
          "data": {
            "text/plain": [
              "D_39     0.193504\n",
              "B_1      0.390031\n",
              "R_1      0.364963\n",
              "S_3      0.316361\n",
              "D_41     0.249867\n",
              "           ...   \n",
              "D_121   -0.160888\n",
              "D_122   -0.156204\n",
              "D_127   -0.176942\n",
              "D_128   -0.183835\n",
              "D_129   -0.137728\n",
              "Name: target, Length: 97, dtype: float64"
            ],
            "text/html": [
              "<div>\n",
              "<style scoped>\n",
              "    .dataframe tbody tr th:only-of-type {\n",
              "        vertical-align: middle;\n",
              "    }\n",
              "\n",
              "    .dataframe tbody tr th {\n",
              "        vertical-align: top;\n",
              "    }\n",
              "\n",
              "    .dataframe thead th {\n",
              "        text-align: right;\n",
              "    }\n",
              "</style>\n",
              "<table border=\"1\" class=\"dataframe\">\n",
              "  <thead>\n",
              "    <tr style=\"text-align: right;\">\n",
              "      <th></th>\n",
              "      <th>target</th>\n",
              "    </tr>\n",
              "  </thead>\n",
              "  <tbody>\n",
              "    <tr>\n",
              "      <th>D_39</th>\n",
              "      <td>0.193504</td>\n",
              "    </tr>\n",
              "    <tr>\n",
              "      <th>B_1</th>\n",
              "      <td>0.390031</td>\n",
              "    </tr>\n",
              "    <tr>\n",
              "      <th>R_1</th>\n",
              "      <td>0.364963</td>\n",
              "    </tr>\n",
              "    <tr>\n",
              "      <th>S_3</th>\n",
              "      <td>0.316361</td>\n",
              "    </tr>\n",
              "    <tr>\n",
              "      <th>D_41</th>\n",
              "      <td>0.249867</td>\n",
              "    </tr>\n",
              "    <tr>\n",
              "      <th>...</th>\n",
              "      <td>...</td>\n",
              "    </tr>\n",
              "    <tr>\n",
              "      <th>D_121</th>\n",
              "      <td>-0.160888</td>\n",
              "    </tr>\n",
              "    <tr>\n",
              "      <th>D_122</th>\n",
              "      <td>-0.156204</td>\n",
              "    </tr>\n",
              "    <tr>\n",
              "      <th>D_127</th>\n",
              "      <td>-0.176942</td>\n",
              "    </tr>\n",
              "    <tr>\n",
              "      <th>D_128</th>\n",
              "      <td>-0.183835</td>\n",
              "    </tr>\n",
              "    <tr>\n",
              "      <th>D_129</th>\n",
              "      <td>-0.137728</td>\n",
              "    </tr>\n",
              "  </tbody>\n",
              "</table>\n",
              "<p>97 rows × 1 columns</p>\n",
              "</div><br><label><b>dtype:</b> float64</label>"
            ]
          },
          "metadata": {},
          "execution_count": 22
        }
      ]
    },
    {
      "cell_type": "code",
      "source": [
        "# Getting the mandatory columns as well\n",
        "\n",
        "desired_columns = list(highly_correlated_features.index) + categorical_features\n",
        "desired_columns = [col for col in desired_columns if col in train_df.columns]\n",
        "desired_columns.append('target')\n",
        "desired_columns.append('S_2')\n",
        "desired_columns.append('customer_ID')\n"
      ],
      "metadata": {
        "id": "iZSG9YSlwEH1"
      },
      "execution_count": null,
      "outputs": []
    },
    {
      "cell_type": "code",
      "source": [
        "# desired_columns"
      ],
      "metadata": {
        "id": "fkkC4sICvjpR"
      },
      "execution_count": null,
      "outputs": []
    },
    {
      "cell_type": "code",
      "source": [
        "print(\"Data shape before removing highly correlated features for train\",\n",
        "      train_df.shape)\n",
        "\n",
        "print(\"Data shape before removing highly correlated features for test\",\n",
        "      test_df.shape)\n",
        "\n",
        "train_df = train_df[desired_columns]\n",
        "test_df = test_df[desired_columns]\n",
        "\n",
        "\n",
        "print(\"Data shape after removing highly correlated features for train\",\n",
        "      train_df.shape)\n",
        "\n",
        "print(\"Data shape after removing highly correlated features for test\",\n",
        "      test_df.shape)\n"
      ],
      "metadata": {
        "colab": {
          "base_uri": "https://localhost:8080/"
        },
        "id": "wBKN854vq1ls",
        "outputId": "e342e650-e551-4c27-caca-607535324664"
      },
      "execution_count": null,
      "outputs": [
        {
          "output_type": "stream",
          "name": "stdout",
          "text": [
            "Data shape before removing highly correlated features for train (44252, 166)\n",
            "Data shape before removing highly correlated features for test (11063, 166)\n",
            "Data shape after removing highly correlated features for train (44252, 110)\n",
            "Data shape after removing highly correlated features for test (11063, 110)\n"
          ]
        }
      ]
    },
    {
      "cell_type": "markdown",
      "source": [
        "##### Correlations between Risk Features"
      ],
      "metadata": {
        "id": "Jp8jrpzVF4GO"
      }
    },
    {
      "cell_type": "code",
      "execution_count": null,
      "metadata": {
        "id": "ZBMQCCyg90So",
        "colab": {
          "base_uri": "https://localhost:8080/",
          "height": 817
        },
        "outputId": "ea26d70f-ed28-4751-96c5-36e1cd49c6be"
      },
      "outputs": [
        {
          "output_type": "display_data",
          "data": {
            "text/html": [
              "<html>\n",
              "<head><meta charset=\"utf-8\" /></head>\n",
              "<body>\n",
              "    <div>            <script src=\"https://cdnjs.cloudflare.com/ajax/libs/mathjax/2.7.5/MathJax.js?config=TeX-AMS-MML_SVG\"></script><script type=\"text/javascript\">if (window.MathJax && window.MathJax.Hub && window.MathJax.Hub.Config) {window.MathJax.Hub.Config({SVG: {font: \"STIX-Web\"}});}</script>                <script type=\"text/javascript\">window.PlotlyConfig = {MathJaxConfig: 'local'};</script>\n",
              "        <script charset=\"utf-8\" src=\"https://cdn.plot.ly/plotly-2.35.2.min.js\"></script>                <div id=\"bd34b96e-c6fa-432f-a278-7367d6fb96e5\" class=\"plotly-graph-div\" style=\"height:800px; width:800px;\"></div>            <script type=\"text/javascript\">                                    window.PLOTLYENV=window.PLOTLYENV || {};                                    if (document.getElementById(\"bd34b96e-c6fa-432f-a278-7367d6fb96e5\")) {                    Plotly.newPlot(                        \"bd34b96e-c6fa-432f-a278-7367d6fb96e5\",                        [{\"coloraxis\":\"coloraxis\",\"name\":\"0\",\"x\":[\"R_1\",\"R_2\",\"R_3\",\"R_4\",\"R_5\",\"R_6\",\"R_8\",\"R_10\",\"R_15\",\"R_16\",\"R_19\",\"R_20\",\"R_21\",\"R_24\",\"R_12\",\"R_27\"],\"y\":[\"R_1\",\"R_2\",\"R_3\",\"R_4\",\"R_5\",\"R_6\",\"R_8\",\"R_10\",\"R_15\",\"R_16\",\"R_19\",\"R_20\",\"R_21\",\"R_24\",\"R_12\",\"R_27\"],\"z\":[[1.0,0.6230898770533939,0.15392808725769117,0.6193043759367463,0.46813121777560335,0.29822844950100247,0.4426857147969515,0.5667640255479468,0.46584468410654706,0.08784887675381779,0.214727450108563,0.2912981743066898,0.37273297284846757,0.40632641627475025,-0.16130441761166436,-0.15905714676836888],[0.6230898770533939,1.0,0.060889308623401035,0.773740207364184,0.5244689543675952,0.395971409597373,0.5255831481575042,0.16637510797547875,0.26893637118255825,0.0172620514592161,0.04178107305837475,0.3915513434787056,0.05177732980033217,0.5571710402355846,-0.12713136358955307,-0.11525265235695106],[0.15392808725769117,0.060889308623401035,1.0,0.04415453876969704,0.04358903804318893,0.020804627241635665,0.037538164819251735,0.09489815110803487,0.07044989328367426,0.5238514420684279,0.004739280448293963,0.027764722403805325,0.06848413400784138,0.025257797549923595,-0.05269743284063421,-0.2160216916517765],[0.6193043759367463,0.773740207364184,0.04415453876969704,1.0,0.6482345653365109,0.402628154543141,0.638477566283959,0.1656148857467512,0.2679068734363248,0.012533249981886565,0.035841312188343764,0.19996517453801896,0.047402986819628685,0.2357800749693824,-0.10564728354386813,-0.09795111871917057],[0.46813121777560335,0.5244689543675952,0.04358903804318893,0.6482345653365109,1.0,0.35377765826478685,0.7757082205292004,0.16630405263163506,0.23158888582728362,0.0017579147903582163,0.041189368381505026,0.2821494692680783,0.04647937501201181,0.24462704280243244,-0.07250758431273198,-0.08622484671148826],[0.29822844950100247,0.395971409597373,0.020804627241635665,0.402628154543141,0.35377765826478685,1.0,0.2971852282743448,0.057707758028897105,0.0997948255505809,0.0021888578688167995,0.04525610172273326,0.2349933447307668,0.022771809799518893,0.2929945286914646,-0.038722687480621236,-0.04485319715643073],[0.4426857147969515,0.5255831481575042,0.037538164819251735,0.638477566283959,0.7757082205292004,0.2971852282743448,1.0,0.17519919416824398,0.21383234584706448,0.005880165278600551,0.04093860823471133,0.13410441062776143,0.0465879404935341,0.14665666976345446,-0.07193582265772144,-0.0781877759125031],[0.5667640255479468,0.16637510797547875,0.09489815110803487,0.1656148857467512,0.16630405263163506,0.057707758028897105,0.17519919416824398,1.0,0.08717445413698909,0.030097678419934038,0.09017050432279838,0.05936265531677484,0.06579510099598286,0.07707002220404996,-0.08020777665265817,-0.10740862914277104],[0.46584468410654706,0.26893637118255825,0.07044989328367426,0.2679068734363248,0.23158888582728362,0.0997948255505809,0.21383234584706448,0.08717445413698909,1.0,0.0251662347394271,0.017142227350400392,0.058405052494731186,0.0556520274263,0.05323156113331207,-0.05474673254571082,-0.04680047938086102],[0.08784887675381779,0.0172620514592161,0.5238514420684279,0.012533249981886565,0.0017579147903582163,0.0021888578688167995,0.005880165278600551,0.030097678419934038,0.0251662347394271,1.0,0.001556917305513545,0.0019613595464553447,0.028323996617009243,0.004688602582531247,-0.026288532382012612,-0.09905079675588835],[0.214727450108563,0.04178107305837475,0.004739280448293963,0.035841312188343764,0.041189368381505026,0.04525610172273326,0.04093860823471133,0.09017050432279838,0.017142227350400392,0.001556917305513545,1.0,0.01545125386621697,0.006124611498554622,0.022139252703231815,-0.03144807716461879,-0.00205798257327278],[0.2912981743066898,0.3915513434787056,0.027764722403805325,0.19996517453801896,0.2821494692680783,0.2349933447307668,0.13410441062776143,0.05936265531677484,0.058405052494731186,0.0019613595464553447,0.01545125386621697,1.0,0.007302545816228775,0.6684626353243295,-0.042349423517783626,-0.061444347062022696],[0.37273297284846757,0.05177732980033217,0.06848413400784138,0.047402986819628685,0.04647937501201181,0.022771809799518893,0.0465879404935341,0.06579510099598286,0.0556520274263,0.028323996617009243,0.006124611498554622,0.007302545816228775,1.0,0.0132663903040553,-0.036554883045435145,-0.07040574451196353],[0.40632641627475025,0.5571710402355846,0.025257797549923595,0.2357800749693824,0.24462704280243244,0.2929945286914646,0.14665666976345446,0.07707002220404996,0.05323156113331207,0.004688602582531247,0.022139252703231815,0.6684626353243295,0.0132663903040553,1.0,-0.06509563672668699,-0.07871850545682293],[-0.16130441761166436,-0.12713136358955307,-0.05269743284063421,-0.10564728354386813,-0.07250758431273198,-0.038722687480621236,-0.07193582265772144,-0.08020777665265817,-0.05474673254571082,-0.026288532382012612,-0.03144807716461879,-0.042349423517783626,-0.036554883045435145,-0.06509563672668699,1.0,0.05934659041543514],[-0.15905714676836888,-0.11525265235695106,-0.2160216916517765,-0.09795111871917057,-0.08622484671148826,-0.04485319715643073,-0.0781877759125031,-0.10740862914277104,-0.04680047938086102,-0.09905079675588835,-0.00205798257327278,-0.061444347062022696,-0.07040574451196353,-0.07871850545682293,0.05934659041543514,1.0]],\"type\":\"heatmap\",\"xaxis\":\"x\",\"yaxis\":\"y\",\"hovertemplate\":\"Features: %{x}\\u003cbr\\u003eFeatures: %{y}\\u003cbr\\u003eCorrelation: %{z}\\u003cextra\\u003e\\u003c\\u002fextra\\u003e\"}],                        {\"template\":{\"data\":{\"histogram2dcontour\":[{\"type\":\"histogram2dcontour\",\"colorbar\":{\"outlinewidth\":0,\"ticks\":\"\"},\"colorscale\":[[0.0,\"#0d0887\"],[0.1111111111111111,\"#46039f\"],[0.2222222222222222,\"#7201a8\"],[0.3333333333333333,\"#9c179e\"],[0.4444444444444444,\"#bd3786\"],[0.5555555555555556,\"#d8576b\"],[0.6666666666666666,\"#ed7953\"],[0.7777777777777778,\"#fb9f3a\"],[0.8888888888888888,\"#fdca26\"],[1.0,\"#f0f921\"]]}],\"choropleth\":[{\"type\":\"choropleth\",\"colorbar\":{\"outlinewidth\":0,\"ticks\":\"\"}}],\"histogram2d\":[{\"type\":\"histogram2d\",\"colorbar\":{\"outlinewidth\":0,\"ticks\":\"\"},\"colorscale\":[[0.0,\"#0d0887\"],[0.1111111111111111,\"#46039f\"],[0.2222222222222222,\"#7201a8\"],[0.3333333333333333,\"#9c179e\"],[0.4444444444444444,\"#bd3786\"],[0.5555555555555556,\"#d8576b\"],[0.6666666666666666,\"#ed7953\"],[0.7777777777777778,\"#fb9f3a\"],[0.8888888888888888,\"#fdca26\"],[1.0,\"#f0f921\"]]}],\"heatmap\":[{\"type\":\"heatmap\",\"colorbar\":{\"outlinewidth\":0,\"ticks\":\"\"},\"colorscale\":[[0.0,\"#0d0887\"],[0.1111111111111111,\"#46039f\"],[0.2222222222222222,\"#7201a8\"],[0.3333333333333333,\"#9c179e\"],[0.4444444444444444,\"#bd3786\"],[0.5555555555555556,\"#d8576b\"],[0.6666666666666666,\"#ed7953\"],[0.7777777777777778,\"#fb9f3a\"],[0.8888888888888888,\"#fdca26\"],[1.0,\"#f0f921\"]]}],\"heatmapgl\":[{\"type\":\"heatmapgl\",\"colorbar\":{\"outlinewidth\":0,\"ticks\":\"\"},\"colorscale\":[[0.0,\"#0d0887\"],[0.1111111111111111,\"#46039f\"],[0.2222222222222222,\"#7201a8\"],[0.3333333333333333,\"#9c179e\"],[0.4444444444444444,\"#bd3786\"],[0.5555555555555556,\"#d8576b\"],[0.6666666666666666,\"#ed7953\"],[0.7777777777777778,\"#fb9f3a\"],[0.8888888888888888,\"#fdca26\"],[1.0,\"#f0f921\"]]}],\"contourcarpet\":[{\"type\":\"contourcarpet\",\"colorbar\":{\"outlinewidth\":0,\"ticks\":\"\"}}],\"contour\":[{\"type\":\"contour\",\"colorbar\":{\"outlinewidth\":0,\"ticks\":\"\"},\"colorscale\":[[0.0,\"#0d0887\"],[0.1111111111111111,\"#46039f\"],[0.2222222222222222,\"#7201a8\"],[0.3333333333333333,\"#9c179e\"],[0.4444444444444444,\"#bd3786\"],[0.5555555555555556,\"#d8576b\"],[0.6666666666666666,\"#ed7953\"],[0.7777777777777778,\"#fb9f3a\"],[0.8888888888888888,\"#fdca26\"],[1.0,\"#f0f921\"]]}],\"surface\":[{\"type\":\"surface\",\"colorbar\":{\"outlinewidth\":0,\"ticks\":\"\"},\"colorscale\":[[0.0,\"#0d0887\"],[0.1111111111111111,\"#46039f\"],[0.2222222222222222,\"#7201a8\"],[0.3333333333333333,\"#9c179e\"],[0.4444444444444444,\"#bd3786\"],[0.5555555555555556,\"#d8576b\"],[0.6666666666666666,\"#ed7953\"],[0.7777777777777778,\"#fb9f3a\"],[0.8888888888888888,\"#fdca26\"],[1.0,\"#f0f921\"]]}],\"mesh3d\":[{\"type\":\"mesh3d\",\"colorbar\":{\"outlinewidth\":0,\"ticks\":\"\"}}],\"scatter\":[{\"fillpattern\":{\"fillmode\":\"overlay\",\"size\":10,\"solidity\":0.2},\"type\":\"scatter\"}],\"parcoords\":[{\"type\":\"parcoords\",\"line\":{\"colorbar\":{\"outlinewidth\":0,\"ticks\":\"\"}}}],\"scatterpolargl\":[{\"type\":\"scatterpolargl\",\"marker\":{\"colorbar\":{\"outlinewidth\":0,\"ticks\":\"\"}}}],\"bar\":[{\"error_x\":{\"color\":\"#2a3f5f\"},\"error_y\":{\"color\":\"#2a3f5f\"},\"marker\":{\"line\":{\"color\":\"#E5ECF6\",\"width\":0.5},\"pattern\":{\"fillmode\":\"overlay\",\"size\":10,\"solidity\":0.2}},\"type\":\"bar\"}],\"scattergeo\":[{\"type\":\"scattergeo\",\"marker\":{\"colorbar\":{\"outlinewidth\":0,\"ticks\":\"\"}}}],\"scatterpolar\":[{\"type\":\"scatterpolar\",\"marker\":{\"colorbar\":{\"outlinewidth\":0,\"ticks\":\"\"}}}],\"histogram\":[{\"marker\":{\"pattern\":{\"fillmode\":\"overlay\",\"size\":10,\"solidity\":0.2}},\"type\":\"histogram\"}],\"scattergl\":[{\"type\":\"scattergl\",\"marker\":{\"colorbar\":{\"outlinewidth\":0,\"ticks\":\"\"}}}],\"scatter3d\":[{\"type\":\"scatter3d\",\"line\":{\"colorbar\":{\"outlinewidth\":0,\"ticks\":\"\"}},\"marker\":{\"colorbar\":{\"outlinewidth\":0,\"ticks\":\"\"}}}],\"scattermapbox\":[{\"type\":\"scattermapbox\",\"marker\":{\"colorbar\":{\"outlinewidth\":0,\"ticks\":\"\"}}}],\"scatterternary\":[{\"type\":\"scatterternary\",\"marker\":{\"colorbar\":{\"outlinewidth\":0,\"ticks\":\"\"}}}],\"scattercarpet\":[{\"type\":\"scattercarpet\",\"marker\":{\"colorbar\":{\"outlinewidth\":0,\"ticks\":\"\"}}}],\"carpet\":[{\"aaxis\":{\"endlinecolor\":\"#2a3f5f\",\"gridcolor\":\"white\",\"linecolor\":\"white\",\"minorgridcolor\":\"white\",\"startlinecolor\":\"#2a3f5f\"},\"baxis\":{\"endlinecolor\":\"#2a3f5f\",\"gridcolor\":\"white\",\"linecolor\":\"white\",\"minorgridcolor\":\"white\",\"startlinecolor\":\"#2a3f5f\"},\"type\":\"carpet\"}],\"table\":[{\"cells\":{\"fill\":{\"color\":\"#EBF0F8\"},\"line\":{\"color\":\"white\"}},\"header\":{\"fill\":{\"color\":\"#C8D4E3\"},\"line\":{\"color\":\"white\"}},\"type\":\"table\"}],\"barpolar\":[{\"marker\":{\"line\":{\"color\":\"#E5ECF6\",\"width\":0.5},\"pattern\":{\"fillmode\":\"overlay\",\"size\":10,\"solidity\":0.2}},\"type\":\"barpolar\"}],\"pie\":[{\"automargin\":true,\"type\":\"pie\"}]},\"layout\":{\"autotypenumbers\":\"strict\",\"colorway\":[\"#636efa\",\"#EF553B\",\"#00cc96\",\"#ab63fa\",\"#FFA15A\",\"#19d3f3\",\"#FF6692\",\"#B6E880\",\"#FF97FF\",\"#FECB52\"],\"font\":{\"color\":\"#2a3f5f\"},\"hovermode\":\"closest\",\"hoverlabel\":{\"align\":\"left\"},\"paper_bgcolor\":\"white\",\"plot_bgcolor\":\"#E5ECF6\",\"polar\":{\"bgcolor\":\"#E5ECF6\",\"angularaxis\":{\"gridcolor\":\"white\",\"linecolor\":\"white\",\"ticks\":\"\"},\"radialaxis\":{\"gridcolor\":\"white\",\"linecolor\":\"white\",\"ticks\":\"\"}},\"ternary\":{\"bgcolor\":\"#E5ECF6\",\"aaxis\":{\"gridcolor\":\"white\",\"linecolor\":\"white\",\"ticks\":\"\"},\"baxis\":{\"gridcolor\":\"white\",\"linecolor\":\"white\",\"ticks\":\"\"},\"caxis\":{\"gridcolor\":\"white\",\"linecolor\":\"white\",\"ticks\":\"\"}},\"coloraxis\":{\"colorbar\":{\"outlinewidth\":0,\"ticks\":\"\"}},\"colorscale\":{\"sequential\":[[0.0,\"#0d0887\"],[0.1111111111111111,\"#46039f\"],[0.2222222222222222,\"#7201a8\"],[0.3333333333333333,\"#9c179e\"],[0.4444444444444444,\"#bd3786\"],[0.5555555555555556,\"#d8576b\"],[0.6666666666666666,\"#ed7953\"],[0.7777777777777778,\"#fb9f3a\"],[0.8888888888888888,\"#fdca26\"],[1.0,\"#f0f921\"]],\"sequentialminus\":[[0.0,\"#0d0887\"],[0.1111111111111111,\"#46039f\"],[0.2222222222222222,\"#7201a8\"],[0.3333333333333333,\"#9c179e\"],[0.4444444444444444,\"#bd3786\"],[0.5555555555555556,\"#d8576b\"],[0.6666666666666666,\"#ed7953\"],[0.7777777777777778,\"#fb9f3a\"],[0.8888888888888888,\"#fdca26\"],[1.0,\"#f0f921\"]],\"diverging\":[[0,\"#8e0152\"],[0.1,\"#c51b7d\"],[0.2,\"#de77ae\"],[0.3,\"#f1b6da\"],[0.4,\"#fde0ef\"],[0.5,\"#f7f7f7\"],[0.6,\"#e6f5d0\"],[0.7,\"#b8e186\"],[0.8,\"#7fbc41\"],[0.9,\"#4d9221\"],[1,\"#276419\"]]},\"xaxis\":{\"gridcolor\":\"white\",\"linecolor\":\"white\",\"ticks\":\"\",\"title\":{\"standoff\":15},\"zerolinecolor\":\"white\",\"automargin\":true,\"zerolinewidth\":2},\"yaxis\":{\"gridcolor\":\"white\",\"linecolor\":\"white\",\"ticks\":\"\",\"title\":{\"standoff\":15},\"zerolinecolor\":\"white\",\"automargin\":true,\"zerolinewidth\":2},\"scene\":{\"xaxis\":{\"backgroundcolor\":\"#E5ECF6\",\"gridcolor\":\"white\",\"linecolor\":\"white\",\"showbackground\":true,\"ticks\":\"\",\"zerolinecolor\":\"white\",\"gridwidth\":2},\"yaxis\":{\"backgroundcolor\":\"#E5ECF6\",\"gridcolor\":\"white\",\"linecolor\":\"white\",\"showbackground\":true,\"ticks\":\"\",\"zerolinecolor\":\"white\",\"gridwidth\":2},\"zaxis\":{\"backgroundcolor\":\"#E5ECF6\",\"gridcolor\":\"white\",\"linecolor\":\"white\",\"showbackground\":true,\"ticks\":\"\",\"zerolinecolor\":\"white\",\"gridwidth\":2}},\"shapedefaults\":{\"line\":{\"color\":\"#2a3f5f\"}},\"annotationdefaults\":{\"arrowcolor\":\"#2a3f5f\",\"arrowhead\":0,\"arrowwidth\":1},\"geo\":{\"bgcolor\":\"white\",\"landcolor\":\"#E5ECF6\",\"subunitcolor\":\"white\",\"showland\":true,\"showlakes\":true,\"lakecolor\":\"white\"},\"title\":{\"x\":0.05},\"mapbox\":{\"style\":\"light\"}}},\"xaxis\":{\"anchor\":\"y\",\"domain\":[0.0,1.0],\"scaleanchor\":\"y\",\"constrain\":\"domain\",\"title\":{\"text\":\"Features\"}},\"yaxis\":{\"anchor\":\"x\",\"domain\":[0.0,1.0],\"autorange\":\"reversed\",\"constrain\":\"domain\",\"title\":{\"text\":\"Features\"}},\"coloraxis\":{\"colorbar\":{\"title\":{\"text\":\"Correlation\"}},\"colorscale\":[[0.0,\"rgb(103,0,31)\"],[0.1,\"rgb(178,24,43)\"],[0.2,\"rgb(214,96,77)\"],[0.3,\"rgb(244,165,130)\"],[0.4,\"rgb(253,219,199)\"],[0.5,\"rgb(247,247,247)\"],[0.6,\"rgb(209,229,240)\"],[0.7,\"rgb(146,197,222)\"],[0.8,\"rgb(67,147,195)\"],[0.9,\"rgb(33,102,172)\"],[1.0,\"rgb(5,48,97)\"]],\"cmin\":-1,\"cmax\":1},\"margin\":{\"t\":60},\"title\":{\"text\":\"Correlation Matrix of Risk Features\"},\"width\":800,\"height\":800},                        {\"responsive\": true}                    ).then(function(){\n",
              "                            \n",
              "var gd = document.getElementById('bd34b96e-c6fa-432f-a278-7367d6fb96e5');\n",
              "var x = new MutationObserver(function (mutations, observer) {{\n",
              "        var display = window.getComputedStyle(gd).display;\n",
              "        if (!display || display === 'none') {{\n",
              "            console.log([gd, 'removed!']);\n",
              "            Plotly.purge(gd);\n",
              "            observer.disconnect();\n",
              "        }}\n",
              "}});\n",
              "\n",
              "// Listen for the removal of the full notebook cells\n",
              "var notebookContainer = gd.closest('#notebook-container');\n",
              "if (notebookContainer) {{\n",
              "    x.observe(notebookContainer, {childList: true});\n",
              "}}\n",
              "\n",
              "// Listen for the clearing of the current output cell\n",
              "var outputEl = gd.closest('.output');\n",
              "if (outputEl) {{\n",
              "    x.observe(outputEl, {childList: true});\n",
              "}}\n",
              "\n",
              "                        })                };                            </script>        </div>\n",
              "</body>\n",
              "</html>"
            ]
          },
          "metadata": {}
        }
      ],
      "source": [
        "#### Correlations between Risk Features\n",
        "import plotly.graph_objects as go\n",
        "import plotly.express as px\n",
        "\n",
        "# Select columns starting with 'R_'\n",
        "r_columns = [col for col in train_df.columns if col.startswith('R_')]\n",
        "\n",
        "# Check if any 'R_' columns exist\n",
        "if not r_columns:\n",
        "    print(\"No columns found starting with 'R_'.\")\n",
        "else:\n",
        "    # Calculate the correlation matrix for 'R_' columns\n",
        "    r_correlation = train_df[r_columns].corr()\n",
        "\n",
        "    # Plot the heatmap using Plotly\n",
        "    fig = px.imshow(r_correlation,\n",
        "                   labels=dict(x=\"Features\", y=\"Features\", color=\"Correlation\"),\n",
        "                   x=r_columns,\n",
        "                   y=r_columns,\n",
        "                   color_continuous_scale='RdBu', # Use a diverging color scale\n",
        "                   zmin=-1, zmax=1) # Set color scale limits\n",
        "\n",
        "    fig.update_layout(\n",
        "        title=\"Correlation Matrix of Risk Features\",\n",
        "        width=800,  # Adjust the width as needed\n",
        "        height=800, # Adjust the height as needed\n",
        "    )\n",
        "    fig.show()"
      ]
    },
    {
      "cell_type": "markdown",
      "source": [
        "##### Correlations between Delinquency Features"
      ],
      "metadata": {
        "id": "joUPQnOfF7tI"
      }
    },
    {
      "cell_type": "code",
      "source": [
        "import plotly.graph_objects as go\n",
        "import plotly.express as px\n",
        "import pandas as pd  # Import pandas for select_dtypes\n",
        "\n",
        "# Select columns starting with 'D_'\n",
        "r_columns = [col for col in train_df.columns if col.startswith('D_')]\n",
        "\n",
        "# Check if any 'D_' columns exist\n",
        "if not r_columns:\n",
        "    print(\"No columns found starting with 'D_'.\")\n",
        "else:\n",
        "    # Select only numeric columns within r_columns for correlation\n",
        "    numeric_r_columns = train_df[r_columns].select_dtypes(include=np.number).columns.tolist()\n",
        "\n",
        "    # Calculate the correlation matrix for numeric 'D_' columns\n",
        "    r_correlation = train_df[numeric_r_columns].corr()\n",
        "\n",
        "    # Plot the heatmap using Plotly\n",
        "    fig = px.imshow(r_correlation,\n",
        "                   labels=dict(x=\"Features\", y=\"Features\", color=\"Correlation\"),\n",
        "                   x=numeric_r_columns,  # Use numeric columns for x and y\n",
        "                   y=numeric_r_columns,\n",
        "                   color_continuous_scale='RdBu', # Use a diverging color scale\n",
        "                   zmin=-1, zmax=1) # Set color scale limits\n",
        "\n",
        "    fig.update_layout(\n",
        "        title=\"Correlation Matrix of Delinquency Features\",\n",
        "        width=800,  # Adjust the width as needed\n",
        "        height=800, # Adjust the height as needed\n",
        "    )\n",
        "    fig.show()"
      ],
      "metadata": {
        "colab": {
          "base_uri": "https://localhost:8080/",
          "height": 817
        },
        "id": "ppiDqrdtf8zl",
        "outputId": "32430370-f106-41dc-9073-431b5f7be691"
      },
      "execution_count": null,
      "outputs": [
        {
          "output_type": "display_data",
          "data": {
            "text/html": [
              "<html>\n",
              "<head><meta charset=\"utf-8\" /></head>\n",
              "<body>\n",
              "    <div>            <script src=\"https://cdnjs.cloudflare.com/ajax/libs/mathjax/2.7.5/MathJax.js?config=TeX-AMS-MML_SVG\"></script><script type=\"text/javascript\">if (window.MathJax && window.MathJax.Hub && window.MathJax.Hub.Config) {window.MathJax.Hub.Config({SVG: {font: \"STIX-Web\"}});}</script>                <script type=\"text/javascript\">window.PlotlyConfig = {MathJaxConfig: 'local'};</script>\n",
              "        <script charset=\"utf-8\" src=\"https://cdn.plot.ly/plotly-2.35.2.min.js\"></script>                <div id=\"ed4b4df4-94ea-4498-95f9-239cb743f8f8\" class=\"plotly-graph-div\" style=\"height:800px; width:800px;\"></div>            <script type=\"text/javascript\">                                    window.PLOTLYENV=window.PLOTLYENV || {};                                    if (document.getElementById(\"ed4b4df4-94ea-4498-95f9-239cb743f8f8\")) {                    Plotly.newPlot(                        \"ed4b4df4-94ea-4498-95f9-239cb743f8f8\",                        [{\"coloraxis\":\"coloraxis\",\"name\":\"0\",\"x\":[\"D_39\",\"D_41\",\"D_43\",\"D_44\",\"D_46\",\"D_48\",\"D_55\",\"D_58\",\"D_59\",\"D_61\",\"D_70\",\"D_72\",\"D_74\",\"D_75\",\"D_78\",\"D_79\",\"D_81\",\"D_84\",\"D_89\",\"D_103\",\"D_104\",\"D_107\",\"D_113\",\"D_130\",\"D_131\",\"D_133\",\"D_139\",\"D_140\",\"D_141\",\"D_143\",\"D_145\",\"D_45\",\"D_47\",\"D_51\",\"D_52\",\"D_54\",\"D_56\",\"D_62\",\"D_77\",\"D_91\",\"D_92\",\"D_112\",\"D_115\",\"D_118\",\"D_119\",\"D_121\",\"D_122\",\"D_127\",\"D_128\",\"D_129\"],\"y\":[\"D_39\",\"D_41\",\"D_43\",\"D_44\",\"D_46\",\"D_48\",\"D_55\",\"D_58\",\"D_59\",\"D_61\",\"D_70\",\"D_72\",\"D_74\",\"D_75\",\"D_78\",\"D_79\",\"D_81\",\"D_84\",\"D_89\",\"D_103\",\"D_104\",\"D_107\",\"D_113\",\"D_130\",\"D_131\",\"D_133\",\"D_139\",\"D_140\",\"D_141\",\"D_143\",\"D_145\",\"D_45\",\"D_47\",\"D_51\",\"D_52\",\"D_54\",\"D_56\",\"D_62\",\"D_77\",\"D_91\",\"D_92\",\"D_112\",\"D_115\",\"D_118\",\"D_119\",\"D_121\",\"D_122\",\"D_127\",\"D_128\",\"D_129\"],\"z\":[[1.0,0.43804539644828755,0.05400327228014108,0.1366792426852347,0.034782660022076244,0.17384552694937422,0.1688634731615697,0.13841910222043335,0.033266862804818366,0.15642778963775203,0.07996012464485916,0.08472573420399633,0.11568692137386041,0.1486048157121964,0.13069752529335432,0.061705460397161904,0.10417699278892209,0.12822686287563223,0.09079652440708609,0.06444000311190043,0.06459486273750246,0.07627055731063416,0.01520133608554526,0.05881305595865334,0.0625465281482069,0.041687608823569075,0.04493300043656287,0.020040393066001444,0.04447072606516182,0.044967427567090636,0.03064218344013459,0.039053878101768504,0.0015135560528070893,-0.0006239510750751439,-0.01665230057806434,-0.3019328453093775,0.0028842719454732395,-0.06937781457403691,-0.041288632894185315,0.018091293483266734,0.027702853541956222,-0.3068967162645092,-0.019744544072451818,-0.019351141479753534,-0.019162897263479906,0.0051722789289696735,-0.0029614824291784897,0.01740436378673159,0.005555562407320561,0.02629397266285713],[0.43804539644828755,1.0,0.07618975151601844,0.15440110653451625,0.013952487384154456,0.2387969122590999,0.22209618986898602,0.1532485585175419,0.053696033703651426,0.21402432895514772,0.08000739341369793,0.17196408542017094,0.12380927368052971,0.1565168448180897,0.21896020381098333,0.051279359267775826,0.22672609829281046,0.22618137454561865,0.15825525052160183,0.06026850034624209,0.06053558997413721,0.06831947771392148,0.03075061888859494,0.06353274162230978,0.055631267970854374,0.04514182634461727,0.05172947450720842,0.029919060671560353,0.05114601552400555,0.051855158612775044,0.04291074535939673,-0.011174595309207391,-0.03733425554049765,-0.07479679609602123,-0.027189946648778697,-0.5538376173943191,-0.009149386174180506,-0.10397916123387634,-0.06468775612068767,-0.017404983155602058,-0.06496408426092926,-0.6102027669472209,-0.03828353228461146,-0.03296188138958295,-0.03321366623050694,-0.023699660755978114,-0.022956407776468384,-0.04036256784632838,-0.012019441962851011,0.0035022246650427647],[0.05400327228014108,0.07618975151601844,1.0,0.2284679492891909,0.09445652756524121,0.19860204183282895,0.18609246723011066,0.220463210472297,0.1156367946131282,0.2016200524593249,0.15995977416615487,0.06350468567526833,0.22994210762343847,0.23651436351207997,0.12898698270754388,0.16624650627529428,0.05966271717568094,0.06869592668295231,0.048390243298922136,0.13692724266087758,0.13469578060270626,0.16701717838969435,0.1256230972334925,0.1518346488302484,0.1611236594541226,0.08341956825991954,0.07468607277492854,0.06343579323813762,0.07261432784296751,0.0748489347494047,0.0628550506292763,-0.16652018539564808,-0.16078292311153264,-0.08914586555869736,-0.10158232998934538,-0.039448258752891464,-0.04315354589246092,-0.12250368018727167,-0.11330813912501947,-0.03402240838396574,-0.05229636057807379,-0.06913225471723801,-0.12053747368524063,-0.10904166231147289,-0.10744051996255621,-0.11089428536440989,-0.08985057182431694,-0.06713448959882196,-0.07695211135381946,-0.04678836354840506],[0.1366792426852347,0.15440110653451625,0.2284679492891909,1.0,0.2502743856262557,0.6640002560424073,0.6939749420631403,0.7328952327154878,0.16020538977400242,0.5927878281392915,0.4812855341714928,0.10565736161813585,0.7527275546957296,0.758764245709508,0.48496827899621425,0.20008999122740428,0.13911480254033426,0.17019714319445928,0.12189105262737428,0.12422771181318945,0.12469568747804562,0.1267146876009379,0.0693269353160792,0.20100073492797357,0.20406860050881157,0.16467617960168027,0.12669674980042256,0.08784462873940652,0.12599347283169374,0.1268921053606213,0.11116398125633928,-0.16699512336157632,-0.1341366693485979,-0.18590055056372246,-0.17799086598357952,-0.07634537217798174,-0.09167322822595492,-0.2661993881672336,-0.18939480418615867,-0.0911330941402523,-0.12539195385037052,-0.13826981018711637,-0.09037894919664058,-0.08101936154292004,-0.080082525822532,-0.058089879767382405,-0.07851001193382891,-0.1616023788324773,-0.07462441223066156,-0.030233944998199522],[0.034782660022076244,0.013952487384154456,0.09445652756524121,0.2502743856262557,1.0,0.22552884281168428,0.10566952510275372,0.17419703285168675,0.04255458224310835,0.1431785808390601,0.1722970479922962,-0.09342345386443182,0.13323241645747902,0.14310012466798935,0.08188917992313692,0.05540427146202031,-0.10979830642745773,-0.06654277579130774,-0.034539636325192066,0.0380823141854243,0.03775953563762487,0.04543241232668702,0.04160810767117608,0.04322917858062531,0.0549173346213363,0.04201472254893343,0.02424199065423401,0.022566143280283692,0.024199195319008722,0.024347584403954604,0.024368529780253594,-0.05909173947548036,-0.0518344057764502,-0.04126991305566742,-0.0014611221217366202,0.0026352150927890367,-0.01929596079724563,-0.043086688679676674,-0.0423357479337864,-0.02007640215077873,-0.027987416125093777,-0.016349872238169028,-0.046037848402356765,-0.039388286241015924,-0.038890647652739245,-0.03140167323063178,-0.039077042722123194,-0.05047879349589627,-0.02453489159054018,-0.004414484292119775],[0.17384552694937422,0.2387969122590999,0.19860204183282895,0.6640002560424073,0.22552884281168428,1.0,0.8387297935071286,0.6376469258856798,0.19106315181728262,0.8296821632421656,0.34278510033050846,0.20596188239686047,0.5411035930142374,0.5804599979676047,0.37071229357489555,0.208407409892269,0.20819860875219542,0.20032668648337015,0.12313155069708144,0.161239189902903,0.16139884600084545,0.15603064265772149,0.12325908489264903,0.22982500094247982,0.2193651204840461,0.16748921643490294,0.18858491043515396,0.10831110301131122,0.1868647945499123,0.18867426174848695,0.15686045597222617,-0.21707010252222605,-0.24748789597632703,-0.25730223092816407,-0.237986171692562,-0.1312442082027897,-0.1264691673054768,-0.44585208270492216,-0.3042217723105291,-0.11416216331288391,-0.16948029028356718,-0.22288329585020092,-0.1658526480035978,-0.15880715573028908,-0.1578778193192282,-0.14865531145831412,-0.12226110076405865,-0.22933967461970708,-0.111425845043624,-0.050956030671099245],[0.1688634731615697,0.22209618986898602,0.18609246723011066,0.6939749420631403,0.10566952510275372,0.8387297935071286,1.0,0.7351623864482967,0.16113123684489186,0.7837173001358108,0.3788292111873618,0.1692750471198921,0.6229757047008107,0.6552212605234871,0.36388629421166185,0.20731959702393551,0.19655723666617167,0.18199806314593647,0.11846696083476231,0.1813968166539117,0.18202001954719924,0.1803564470083111,0.09712227576154411,0.24053405161770078,0.22185270739262267,0.17978459608878608,0.17039701795511636,0.0836317771505019,0.17013470811258946,0.17048318677083324,0.13277965309379577,-0.12035513480306646,-0.13757408955741313,-0.21753731037816462,-0.1937060727610725,-0.11999894114673865,-0.09298698502299181,-0.3444562823596159,-0.21707584343235473,-0.09483080992196706,-0.1668569627727103,-0.21618871465626063,-0.11016831854989924,-0.10517372260348236,-0.10355459599738079,-0.07833981808749968,-0.07414058661587448,-0.20969382972930065,-0.029007440433915295,0.02518114140616987],[0.13841910222043335,0.1532485585175419,0.220463210472297,0.7328952327154878,0.17419703285168675,0.6376469258856798,0.7351623864482967,1.0,0.178597195667153,0.6870805181489588,0.6473311690157799,0.1705653067101404,0.9242673719116182,0.9274399039949414,0.3245988596438039,0.2332894826437225,0.19358979405933213,0.19275382859105572,0.12433297655997565,0.19347310783067748,0.19412913779162708,0.1958531463768644,0.043020217017331885,0.26492191589984126,0.24655361206377144,0.19696358180899187,0.15011919623242556,0.08374865047682632,0.15007337501540433,0.1503184516993838,0.11503098129901468,-0.14938851070963122,-0.09679907564022723,-0.232536762451184,-0.18857649832466739,-0.07842296590793107,-0.12942857445454262,-0.3483198998139582,-0.24772658085727264,-0.11280657151866164,-0.17860957602742003,-0.14717608999046725,-0.06890802424423315,-0.054953844546636196,-0.05381126704915832,-0.01489856728171363,-0.051121729758666405,-0.22921803507301236,-0.023700404343073845,0.031615491523336016],[0.033266862804818366,0.053696033703651426,0.1156367946131282,0.16020538977400242,0.04255458224310835,0.19106315181728262,0.16113123684489186,0.178597195667153,1.0,0.1829865618371058,0.130099465281299,0.069082882055633,0.1733243321946797,0.17758277563805547,0.08350120261778717,0.08790948988669739,0.0642823033883,0.06356671088547645,0.043162801930758894,0.07794593971965993,0.07767522408853408,0.06998989992693885,0.10179698408008608,0.09861241811859726,0.09558249213117766,0.05599506036751747,0.09661321815369382,0.05273706451971131,0.09495979863736972,0.09689383129702488,0.07412609223430969,-0.3862422034260334,-0.2659672266319648,-0.1750344585996818,-0.17225076742790313,-0.04012235781522927,-0.09681220630545193,-0.18084685491974442,-0.16188360371967603,-0.08901894373187402,-0.12406196750998517,-0.050765321070765146,-0.14368389530860662,-0.13469071747101347,-0.13242366866876643,-0.1917712832714029,-0.11656597040945865,-0.16440953636722078,-0.11700448294920604,-0.07010790281592111],[0.15642778963775203,0.21402432895514772,0.2016200524593249,0.5927878281392915,0.1431785808390601,0.8296821632421656,0.7837173001358108,0.6870805181489588,0.1829865618371058,1.0,0.3664830009189527,0.18277681556777736,0.5733284770591257,0.6048109558978269,0.3085398046933522,0.20707589257525894,0.18506933646122442,0.17059671350970304,0.10533137421916058,0.17426354706997976,0.17456697701252308,0.17019310075702734,0.10271603305880822,0.24010416348487648,0.22220269361176984,0.16535629470376237,0.17550220943233866,0.09762835345556241,0.17403255418903196,0.17562082037096227,0.14170459425135873,-0.19749044196152507,-0.21560891371321902,-0.2508696038526765,-0.2076024274193145,-0.11685694887946294,-0.12988529131016902,-0.43024381425481234,-0.29870990141606635,-0.10833926461530177,-0.16945829117165195,-0.20615229023069065,-0.15260650983871746,-0.14256310202703798,-0.1421936987623302,-0.1261949313542574,-0.10750035595896466,-0.24032484474546661,-0.08256083825461802,-0.030445073342383708],[0.07996012464485916,0.08000739341369793,0.15995977416615487,0.4812855341714928,0.1722970479922962,0.34278510033050846,0.3788292111873618,0.6473311690157799,0.130099465281299,0.3664830009189527,1.0,0.10336303961366237,0.6522027560041952,0.6441400639390257,0.22058959046793122,0.14980544659701267,0.12557736984051537,0.15083759815159403,0.09453322273012214,0.1190669433318763,0.11928501154478327,0.12428503749804677,0.03531280690078763,0.1653695505808707,0.15935356902855685,0.12465050069324475,0.07685572268958187,0.05450612015223267,0.07680802255428786,0.0769565690760022,0.06386337061852725,-0.12431539885069896,-0.08043559825510326,-0.1395641714940908,-0.11922883606479814,-0.047950487741304344,-0.0723638891813635,-0.19912583514236817,-0.15140724855015433,-0.06928621661716636,-0.10250417820205876,-0.07917019930098264,-0.0499236830726753,-0.042457764728570574,-0.04162600963832567,-0.017349588858632043,-0.03476512790328718,-0.12388183884106121,-0.03831080475532334,0.0007691377544795448],[0.08472573420399633,0.17196408542017094,0.06350468567526833,0.10565736161813585,-0.09342345386443182,0.20596188239686047,0.1692750471198921,0.1705653067101404,0.069082882055633,0.18277681556777736,0.10336303961366237,1.0,0.17678839931592918,0.18037465807478784,0.15473128425612706,0.03644985030734566,0.63473288090646,0.5898368042482922,0.22314605089322093,0.03248953956043548,0.033144819594775075,0.027851870908863884,0.024768034334450018,0.06457131547456095,0.03974200256132124,0.04039117945755394,0.08473835489754034,0.023885181773593608,0.08413353017026098,0.08428094002994105,0.09507913544743761,-0.0536095096606462,-0.0480644175290364,-0.07691617153978653,-0.05422149437042593,-0.13971127704197375,-0.03476952550911178,-0.09583610061403261,-0.06250605121904851,-0.03185363688697809,-0.03787241911428004,-0.12751601434030346,-0.037855925692873924,-0.02463423427354991,-0.02474028240447999,-0.019156346160137692,-0.029981667156349222,-0.047522784822529474,-0.026668849641923485,-0.016824120385413335],[0.11568692137386041,0.12380927368052971,0.22994210762343847,0.7527275546957296,0.13323241645747902,0.5411035930142374,0.6229757047008107,0.9242673719116182,0.1733243321946797,0.5733284770591257,0.6522027560041952,0.17678839931592918,1.0,0.9868748069029328,0.3376739666745832,0.21587043155231112,0.20035341361003414,0.2091505520595001,0.13807557161558,0.16142397980136503,0.16206268693496967,0.16629651117379582,0.026273834607619912,0.24189080426558637,0.22542207809226444,0.1804847751482673,0.12599352554156407,0.07806735756539894,0.1259675630608243,0.126211129630405,0.10056821473698001,-0.1498022074112376,-0.09230240028969293,-0.2128205945107772,-0.1871423681940553,-0.0672220224845791,-0.12201275105174487,-0.3124624969037,-0.23012347794035218,-0.10494032446890639,-0.15658960042359832,-0.11886908698493959,-0.05584835276683327,-0.04005297756180303,-0.03926019042794577,-0.001564388153191564,-0.04692485016435332,-0.1953301631351587,-0.03035526808437283,0.01144988889264383],[0.1486048157121964,0.1565168448180897,0.23651436351207997,0.758764245709508,0.14310012466798935,0.5804599979676047,0.6552212605234871,0.9274399039949414,0.17758277563805547,0.6048109558978269,0.6441400639390257,0.18037465807478784,0.9868748069029328,1.0,0.3443359460075331,0.22732408193659198,0.2027327162087449,0.21053060499578968,0.13766154407257786,0.1727231157814045,0.17336235552190626,0.17629199359402203,0.039452459545723954,0.2535472079817482,0.23803472803646725,0.1880184279416414,0.14153435802511238,0.08620898032297919,0.1413378069741051,0.1417375958443916,0.11317341613619916,-0.1540744680603951,-0.10756391495980008,-0.23348600559749869,-0.20112378668653097,-0.07440044327124751,-0.1285874397941781,-0.3381823402105601,-0.24761575779071843,-0.11229830476385222,-0.17848623434409353,-0.15065240756987172,-0.06801369864679273,-0.05255833949217009,-0.05152386321942154,-0.017105161440564724,-0.056331780998217326,-0.2104864697911755,-0.04165625774615457,0.007756287041841584],[0.13069752529335432,0.21896020381098333,0.12898698270754388,0.48496827899621425,0.08188917992313692,0.37071229357489555,0.36388629421166185,0.3245988596438039,0.08350120261778717,0.3085398046933522,0.22058959046793122,0.15473128425612706,0.3376739666745832,0.3443359460075331,1.0,0.10852976931839295,0.22555102394126372,0.3189840088516405,0.24659727163609405,0.06378387661858655,0.063987479656297,0.06133581356592598,0.05506437735746283,0.10474428338907255,0.10879155599942576,0.09209495539549496,0.07795899044608269,0.06592559507329906,0.07726398926837981,0.07816823999404049,0.06614613442310376,-0.09920864162876018,-0.08699169635156641,-0.09270663274095796,-0.10716612371854874,-0.12719451073111115,-0.043960004521227,-0.13090330951472665,-0.08422558949943192,-0.043683234295108814,-0.05663791124713492,-0.15455197247444483,-0.05827729432711899,-0.05183995646363831,-0.05106365310104785,-0.05472559799228154,-0.05377396530896186,-0.0721666348043759,-0.059629636431794156,-0.03227786450344698],[0.061705460397161904,0.051279359267775826,0.16624650627529428,0.20008999122740428,0.05540427146202031,0.208407409892269,0.20731959702393551,0.2332894826437225,0.08790948988669739,0.20707589257525894,0.14980544659701267,0.03644985030734566,0.21587043155231112,0.22732408193659198,0.10852976931839295,1.0,0.049072160925119915,0.06176929987151812,0.04879106719069357,0.11125172787605485,0.11103111868755629,0.11482028571042412,0.046246650061222826,0.5896855349254863,0.8726142876651224,0.6326251764144779,0.10022352688460885,0.04479210545341902,0.10067160533099735,0.09992380976450181,0.07219141442092773,-0.11501010697170813,-0.08637444776883946,-0.09813142671990098,-0.09295809774419461,-0.027093383221736277,-0.06030559086353661,-0.1238457930479619,-0.0985682551949666,-0.03778151556538003,-0.06426029540944857,-0.056522635317100486,-0.06307048398184516,-0.05954508591254835,-0.05818268878689887,-0.0359344693005731,-0.03283391173203543,-0.07522677443660852,-0.025761637696484117,0.004003851252342689],[0.10417699278892209,0.22672609829281046,0.05966271717568094,0.13911480254033426,-0.10979830642745773,0.20819860875219542,0.19655723666617167,0.19358979405933213,0.0642823033883,0.18506933646122442,0.12557736984051537,0.63473288090646,0.20035341361003414,0.2027327162087449,0.22555102394126372,0.049072160925119915,1.0,0.6152142189043547,0.5237001222474221,0.04034143436080248,0.040957146091580986,0.039152542223466674,0.0200044527788325,0.07607652366686249,0.05484747415141412,0.051477361502408774,0.05810356907047779,0.02953890913656543,0.0585900601444611,0.058083742521658724,0.05411134805944954,-0.040949125505176216,-0.0362177851850142,-0.07199192596245349,-0.054630937387952536,-0.18143142514983238,-0.03059842762574737,-0.0870112663480056,-0.05374700574209351,-0.03141134460371088,-0.03556036760540699,-0.1583410861682794,-0.02799923935635119,-0.016925691534158904,-0.016836962697331065,-0.012397728656682287,-0.028406449180446623,-0.04335517393787046,-0.020242124882589613,-0.011736842372783642],[0.12822686287563223,0.22618137454561865,0.06869592668295231,0.17019714319445928,-0.06654277579130774,0.20032668648337015,0.18199806314593647,0.19275382859105572,0.06356671088547645,0.17059671350970304,0.15083759815159403,0.5898368042482922,0.2091505520595001,0.21053060499578968,0.3189840088516405,0.06176929987151812,0.6152142189043547,1.0,0.57445502325821,0.048620574413018966,0.04901209194766212,0.04988255575805192,0.02795438216138156,0.07214909571026903,0.06613838875489418,0.0556722131875019,0.062037861028532516,0.02720204472110085,0.06123676243540136,0.06206710271962063,0.06885005141111634,-0.05497705186730981,-0.04789442820616716,-0.07138993108851155,-0.06532596541464382,-0.16862031475306583,-0.0309185139430057,-0.08128742798880412,-0.05701133511497375,-0.033620460571773376,-0.035065289815260255,-0.14882508953031515,-0.031992171439659926,-0.019375578497456924,-0.019349287206757573,-0.01665653949800146,-0.029685699441093234,-0.04139846759494207,-0.02256128114564176,-0.009015310636936502],[0.09079652440708609,0.15825525052160183,0.048390243298922136,0.12189105262737428,-0.034539636325192066,0.12313155069708144,0.11846696083476231,0.12433297655997565,0.043162801930758894,0.10533137421916058,0.09453322273012214,0.22314605089322093,0.13807557161558,0.13766154407257786,0.24659727163609405,0.04879106719069357,0.5237001222474221,0.57445502325821,1.0,0.03293320167682685,0.03326078623272099,0.032234957229323874,0.0193973924465563,0.0501747942574256,0.0541530655701641,0.04500946607586475,0.03377823562831156,0.01675422177608857,0.03339279623060245,0.033893356291912397,0.03165370739370314,-0.03140407199447331,-0.02693632266621773,-0.04287535369511372,-0.040716865207617046,-0.11580487429693116,-0.019287381063796395,-0.04822550189923908,-0.033164334804400855,-0.02208822017550725,-0.022189294407224728,-0.09738457469750508,-0.020751583056183152,-0.01596268685143061,-0.015565702019748898,-0.014783154715400799,-0.021649261809360214,-0.0244035292776259,-0.013542158146117542,-0.0043925835719535716],[0.06444000311190043,0.06026850034624209,0.13692724266087758,0.12422771181318945,0.0380823141854243,0.161239189902903,0.1813968166539117,0.19347310783067748,0.07794593971965993,0.17426354706997976,0.1190669433318763,0.03248953956043548,0.16142397980136503,0.1727231157814045,0.06378387661858655,0.11125172787605485,0.04034143436080248,0.048620574413018966,0.03293320167682685,1.0,0.9997541100237015,0.8485753155192226,0.09577236532878479,0.16474365016936493,0.12915045702485126,0.0856034985097407,0.12376574420786161,0.03883438050946631,0.12333767047711038,0.12378050790171972,0.08232721238159785,-0.09451033958132027,-0.0879358578185389,-0.03173485544388624,-0.08350094882621747,-0.026595945352840093,-0.03735972787745696,-0.08902384534949197,-0.06574837226231497,0.012934538343265713,-0.01420516521240708,-0.06750307759116062,-0.1023399249647738,-0.09271829273907872,-0.09107577161421197,-0.06107815274872638,0.0031295957197386144,-0.011810908031731774,0.09221001971870822,0.14446516256675687],[0.06459486273750246,0.06053558997413721,0.13469578060270626,0.12469568747804562,0.03775953563762487,0.16139884600084545,0.18202001954719924,0.19412913779162708,0.07767522408853408,0.17456697701252308,0.11928501154478327,0.033144819594775075,0.16206268693496967,0.17336235552190626,0.063987479656297,0.11103111868755629,0.040957146091580986,0.04901209194766212,0.03326078623272099,0.9997541100237015,1.0,0.8456616916774242,0.09478424582457623,0.16464787116860943,0.12897522571530232,0.08569945324094552,0.12392014065695033,0.038633633635904996,0.12351271717039698,0.12393577812547538,0.08246952416265067,-0.09367845121783745,-0.08699130775374535,-0.03200314631526372,-0.0833080643577062,-0.026755136565533924,-0.03750369708245432,-0.08924450723346225,-0.06583138625159415,0.01260250434883043,-0.014594797662312317,-0.06771611924365331,-0.10158789322489847,-0.09197949044151273,-0.09033719858527942,-0.0603626355843383,0.003350148959068765,-0.012119991955836608,0.0926635227057912,0.14482330050735182],[0.07627055731063416,0.06831947771392148,0.16701717838969435,0.1267146876009379,0.04543241232668702,0.15603064265772149,0.1803564470083111,0.1958531463768644,0.06998989992693885,0.17019310075702734,0.12428503749804677,0.027851870908863884,0.16629651117379582,0.17629199359402203,0.06133581356592598,0.11482028571042412,0.039152542223466674,0.04988255575805192,0.032234957229323874,0.8485753155192226,0.8456616916774242,1.0,0.07317266143196063,0.16840521351718313,0.12967725725712628,0.08650249977243832,0.10632656158327733,0.033083619166585546,0.10584623796678874,0.10618494019225419,0.0635903394216341,-0.07915229339566607,-0.06741149169558862,-0.018200489182047367,-0.05713436814447301,-0.030924476289594244,-0.02304111208276946,-0.07358954981675014,-0.05164569500272851,0.021131823110363213,-0.006130914626803318,-0.0757570911108603,-0.08666481084293803,-0.0741196426869315,-0.07255148381966127,-0.02751764437708666,0.020029342126735062,0.006739466125756818,0.11134908288077963,0.15364706277736734],[0.01520133608554526,0.03075061888859494,0.1256230972334925,0.0693269353160792,0.04160810767117608,0.12325908489264903,0.09712227576154411,0.043020217017331885,0.10179698408008608,0.10271603305880822,0.03531280690078763,0.024768034334450018,0.026273834607619912,0.039452459545723954,0.05506437735746283,0.046246650061222826,0.0200044527788325,0.02795438216138156,0.0193973924465563,0.09577236532878479,0.09478424582457623,0.07317266143196063,1.0,0.0433235458089848,0.04904473296267051,0.016935643799282765,0.14311413940743517,0.05878537298330051,0.13962148744080047,0.14325406798353435,0.12271221249533255,-0.23368969804861184,-0.3267279869968994,-0.10819794909770487,-0.09818792268882764,-0.00950499209834149,-0.05577062925062026,-0.09640777964245309,-0.07219476330032251,-0.005082809591387625,-0.006035168523526145,-0.03448705855663412,-0.5058701264509002,-0.5003324947391801,-0.49863621685894677,-0.39193114143043156,-0.32242124498918795,-0.05647971292070543,-0.13898922605828018,-0.09688526915450965],[0.05881305595865334,0.06353274162230978,0.1518346488302484,0.20100073492797357,0.04322917858062531,0.22982500094247982,0.24053405161770078,0.26492191589984126,0.09861241811859726,0.24010416348487648,0.1653695505808707,0.06457131547456095,0.24189080426558637,0.2535472079817482,0.10474428338907255,0.5896855349254863,0.07607652366686249,0.07214909571026903,0.0501747942574256,0.16474365016936493,0.16464787116860943,0.16840521351718313,0.0433235458089848,1.0,0.6746156365833543,0.49037164433898667,0.11470911562684319,0.052444549040428536,0.11511355326742849,0.11470444641961769,0.07498349670219741,-0.11435637003433201,-0.06201205299293723,-0.11367761004010037,-0.10578963934999165,-0.03774226128746204,-0.08452484439188879,-0.15082550941706474,-0.1204156110854397,-0.04175267626907196,-0.0687337824559478,-0.06523774341446326,-0.05824413147331742,-0.05193227535567169,-0.0502242906112831,0.004560132849952059,-0.021657027669173573,-0.08888007500755851,0.025451789996597685,0.05916345156141094],[0.0625465281482069,0.055631267970854374,0.1611236594541226,0.20406860050881157,0.0549173346213363,0.2193651204840461,0.22185270739262267,0.24655361206377144,0.09558249213117766,0.22220269361176984,0.15935356902855685,0.03974200256132124,0.22542207809226444,0.23803472803646725,0.10879155599942576,0.8726142876651224,0.05484747415141412,0.06613838875489418,0.0541530655701641,0.12915045702485126,0.12897522571530232,0.12967725725712628,0.04904473296267051,0.6746156365833543,1.0,0.7325840058986598,0.108484168098012,0.04451618874931404,0.10857199187507217,0.10833771654815555,0.08084890191000824,-0.12498905371676614,-0.09147874183184723,-0.10785326793378071,-0.10097222838914127,-0.028356185013518873,-0.06767981071035546,-0.13658415956991807,-0.10833965146276807,-0.04439152397048122,-0.07145184383199553,-0.06270024596967362,-0.06653592900949747,-0.06140706861043009,-0.05962301248630287,-0.03673894480017244,-0.03670659702273949,-0.082659403330884,-0.025929827964708312,0.010901044167972593],[0.041687608823569075,0.04514182634461727,0.08341956825991954,0.16467617960168027,0.04201472254893343,0.16748921643490294,0.17978459608878608,0.19696358180899187,0.05599506036751747,0.16535629470376237,0.12465050069324475,0.04039117945755394,0.1804847751482673,0.1880184279416414,0.09209495539549496,0.6326251764144779,0.051477361502408774,0.0556722131875019,0.04500946607586475,0.0856034985097407,0.08569945324094552,0.08650249977243832,0.016935643799282765,0.49037164433898667,0.7325840058986598,1.0,0.07782711594787071,0.029519285108039205,0.07822121052061523,0.07783179369230012,0.05292024522346898,-0.07219284465372944,-0.04710636765268587,-0.07482712166997153,-0.06590975397873036,-0.027291642187503146,-0.047183592658097656,-0.09443508886226917,-0.07033026771745185,-0.031597459572490584,-0.04988617836312152,-0.04624773705941854,-0.03442072372172774,-0.029329303190868586,-0.028096319907558173,-0.013345327852506342,-0.02623765040179307,-0.058334685662528675,-0.017773275767989677,0.005194060219544397],[0.04493300043656287,0.05172947450720842,0.07468607277492854,0.12669674980042256,0.02424199065423401,0.18858491043515396,0.17039701795511636,0.15011919623242556,0.09661321815369382,0.17550220943233866,0.07685572268958187,0.08473835489754034,0.12599352554156407,0.14153435802511238,0.07795899044608269,0.10022352688460885,0.05810356907047779,0.062037861028532516,0.03377823562831156,0.12376574420786161,0.12392014065695033,0.10632656158327733,0.14311413940743517,0.11470911562684319,0.108484168098012,0.07782711594787071,1.0,0.32918368696346506,0.9981299761941949,0.9992364997253304,0.6422712437083046,-0.15949860010399924,-0.16933474393738795,-0.10258139252032893,-0.1062964906573996,-0.02322071724917562,-0.0646240200141404,-0.14134766172632415,-0.106018103569755,-0.0324378138143686,-0.05484508035088395,-0.04568930484979748,-0.15683679136448198,-0.1550111874271384,-0.15393775028575185,-0.18449998561177325,-0.06226062633520319,-0.07709610842390272,-0.07193576146549638,-0.00704081723493021],[0.020040393066001444,0.029919060671560353,0.06343579323813762,0.08784462873940652,0.022566143280283692,0.10831110301131122,0.0836317771505019,0.08374865047682632,0.05273706451971131,0.09762835345556241,0.05450612015223267,0.023885181773593608,0.07806735756539894,0.08620898032297919,0.06592559507329906,0.04479210545341902,0.02953890913656543,0.02720204472110085,0.01675422177608857,0.03883438050946631,0.038633633635904996,0.033083619166585546,0.05878537298330051,0.052444549040428536,0.04451618874931404,0.029519285108039205,0.32918368696346506,1.0,0.32807681102940994,0.32899402594389715,0.22030896813946046,-0.0874532109998503,-0.08299809274609159,-0.0580555279857201,-0.062429085156392256,-0.009268693774779404,-0.03138404876206017,-0.07653902587340722,-0.05889344155810328,-0.02667136649134835,-0.03226527103939101,-0.027416377185530375,-0.060559112846017726,-0.05976206478581627,-0.05961480679582418,-0.07344371049327768,-0.03852150466315435,-0.04300848864883783,-0.06365912134215826,-0.03488789014182957],[0.04447072606516182,0.05114601552400555,0.07261432784296751,0.12599347283169374,0.024199195319008722,0.1868647945499123,0.17013470811258946,0.15007337501540433,0.09495979863736972,0.17403255418903196,0.07680802255428786,0.08413353017026098,0.1259675630608243,0.1413378069741051,0.07726398926837981,0.10067160533099735,0.0585900601444611,0.06123676243540136,0.03339279623060245,0.12333767047711038,0.12351271717039698,0.10584623796678874,0.13962148744080047,0.11511355326742849,0.10857199187507217,0.07822121052061523,0.9981299761941949,0.32807681102940994,1.0,0.9973635077986062,0.6287446452225581,-0.1558643440373131,-0.16401480667025234,-0.1006267783599769,-0.10381729177945911,-0.02251195644392924,-0.06360193051512536,-0.1389708821543801,-0.10390338727846091,-0.03118094357775577,-0.05360015924752591,-0.04533707831096146,-0.15450508743221936,-0.15291214145179663,-0.1519436825631903,-0.17829182969438412,-0.059260157513305003,-0.07521546394590865,-0.06707190672246637,-0.0029065566494172685],[0.044967427567090636,0.051855158612775044,0.0748489347494047,0.1268921053606213,0.024347584403954604,0.18867426174848695,0.17048318677083324,0.1503184516993838,0.09689383129702488,0.17562082037096227,0.0769565690760022,0.08428094002994105,0.126211129630405,0.1417375958443916,0.07816823999404049,0.09992380976450181,0.058083742521658724,0.06206710271962063,0.033893356291912397,0.12378050790171972,0.12393577812547538,0.10618494019225419,0.14325406798353435,0.11470444641961769,0.10833771654815555,0.07783179369230012,0.9992364997253304,0.32899402594389715,0.9973635077986062,1.0,0.6422250719692972,-0.1594188465332607,-0.16938752378304792,-0.10287330855129603,-0.10668463434934572,-0.023410327633040785,-0.06470751759776192,-0.14122834668268744,-0.1059296829605301,-0.03278355676290472,-0.05483914303570018,-0.04576719760017589,-0.15693152939961305,-0.15503140217624276,-0.15395024466042334,-0.18442800416684763,-0.062301507257437036,-0.07727469435047894,-0.07227133826361531,-0.007294332139100316],[0.03064218344013459,0.04291074535939673,0.0628550506292763,0.11116398125633928,0.024368529780253594,0.15686045597222617,0.13277965309379577,0.11503098129901468,0.07412609223430969,0.14170459425135873,0.06386337061852725,0.09507913544743761,0.10056821473698001,0.11317341613619916,0.06614613442310376,0.07219141442092773,0.05411134805944954,0.06885005141111634,0.03165370739370314,0.08232721238159785,0.08246952416265067,0.0635903394216341,0.12271221249533255,0.07498349670219741,0.08084890191000824,0.05292024522346898,0.6422712437083046,0.22030896813946046,0.6287446452225581,0.6422250719692972,1.0,-0.13600735960700058,-0.14578669295836721,-0.08824367844671314,-0.08481310389019911,-0.01828325038829066,-0.05286407719175614,-0.1143150570640556,-0.0836840662492271,-0.034173288279589986,-0.04548691869793886,-0.03631392103537716,-0.1290457078959467,-0.12535820026801925,-0.12437087883122876,-0.17133697145970664,-0.06458709638385507,-0.0656875224872827,-0.09574502251023619,-0.04483742343086068],[0.039053878101768504,-0.011174595309207391,-0.16652018539564808,-0.16699512336157632,-0.05909173947548036,-0.21707010252222605,-0.12035513480306646,-0.14938851070963122,-0.3862422034260334,-0.19749044196152507,-0.12431539885069896,-0.0536095096606462,-0.1498022074112376,-0.1540744680603951,-0.09920864162876018,-0.11501010697170813,-0.040949125505176216,-0.05497705186730981,-0.03140407199447331,-0.09451033958132027,-0.09367845121783745,-0.07915229339566607,-0.23368969804861184,-0.11435637003433201,-0.12498905371676614,-0.07219284465372944,-0.15949860010399924,-0.0874532109998503,-0.1558643440373131,-0.1594188465332607,-0.13600735960700058,1.0,0.5913322065922122,0.21537474917462565,0.24495897131909816,-0.008052458305121595,0.1271004392761282,0.21089136873905148,0.20167663137470476,0.10895996030395859,0.1196767578310422,-0.029832732962723096,0.32317481192545633,0.3178780017659092,0.31485871290694967,0.4136171426733742,0.20281782680354468,0.1804106094428575,0.19558600296417225,0.12630297796945283],[0.0015135560528070893,-0.03733425554049765,-0.16078292311153264,-0.1341366693485979,-0.0518344057764502,-0.24748789597632703,-0.13757408955741313,-0.09679907564022723,-0.2659672266319648,-0.21560891371321902,-0.08043559825510326,-0.0480644175290364,-0.09230240028969293,-0.10756391495980008,-0.08699169635156641,-0.08637444776883946,-0.0362177851850142,-0.04789442820616716,-0.02693632266621773,-0.0879358578185389,-0.08699130775374535,-0.06741149169558862,-0.3267279869968994,-0.06201205299293723,-0.09147874183184723,-0.04710636765268587,-0.16933474393738795,-0.08299809274609159,-0.16401480667025234,-0.16938752378304792,-0.14578669295836721,0.5913322065922122,1.0,0.21708089823531979,0.23544184528832213,0.01340180819500851,0.12232437933285573,0.2762572295321531,0.2428910509801011,0.0726343645981472,0.0985130986661701,0.009866711289325958,0.46473405151237823,0.477524212040166,0.47582480069340505,0.6787085440299512,0.28722304157765244,0.16186545795237706,0.2712373389636552,0.15552916709553957],[-0.0006239510750751439,-0.07479679609602123,-0.08914586555869736,-0.18590055056372246,-0.04126991305566742,-0.25730223092816407,-0.21753731037816462,-0.232536762451184,-0.1750344585996818,-0.2508696038526765,-0.1395641714940908,-0.07691617153978653,-0.2128205945107772,-0.23348600559749869,-0.09270663274095796,-0.09813142671990098,-0.07199192596245349,-0.07138993108851155,-0.04287535369511372,-0.03173485544388624,-0.03200314631526372,-0.018200489182047367,-0.10819794909770487,-0.11367761004010037,-0.10785326793378071,-0.07482712166997153,-0.10258139252032893,-0.0580555279857201,-0.1006267783599769,-0.10287330855129603,-0.08824367844671314,0.21537474917462565,0.21708089823531979,1.0,0.1965976228072691,0.04771800139502598,0.3494103169757043,0.2759236282487072,0.24492718730708124,0.6805901427047956,0.6209514969245767,0.06350075228909674,0.14702449133794074,0.1429459585872202,0.14287237196850175,0.16977550840335803,0.18467993795380055,0.3348910742504644,0.22534059681576782,0.16155173124563824],[-0.01665230057806434,-0.027189946648778697,-0.10158232998934538,-0.17799086598357952,-0.0014611221217366202,-0.237986171692562,-0.1937060727610725,-0.18857649832466739,-0.17225076742790313,-0.2076024274193145,-0.11922883606479814,-0.05422149437042593,-0.1871423681940553,-0.20112378668653097,-0.10716612371854874,-0.09295809774419461,-0.054630937387952536,-0.06532596541464382,-0.040716865207617046,-0.08350094882621747,-0.0833080643577062,-0.05713436814447301,-0.09818792268882764,-0.10578963934999165,-0.10097222838914127,-0.06590975397873036,-0.1062964906573996,-0.062429085156392256,-0.10381729177945911,-0.10668463434934572,-0.08481310389019911,0.24495897131909816,0.23544184528832213,0.1965976228072691,1.0,0.010663909383005677,0.15507199983078762,0.38825306665658393,0.3760857542767054,0.11712630509697695,0.12696988350619667,0.023208050370881795,0.11716511879630623,0.11296713758963303,0.10888563409028147,0.1688300648921604,0.09384028270286773,0.18884520523100665,0.13240619370809825,0.08845003972101675],[-0.3019328453093775,-0.5538376173943191,-0.039448258752891464,-0.07634537217798174,0.0026352150927890367,-0.1312442082027897,-0.11999894114673865,-0.07842296590793107,-0.04012235781522927,-0.11685694887946294,-0.047950487741304344,-0.13971127704197375,-0.0672220224845791,-0.07440044327124751,-0.12719451073111115,-0.027093383221736277,-0.18143142514983238,-0.16862031475306583,-0.11580487429693116,-0.026595945352840093,-0.026755136565533924,-0.030924476289594244,-0.00950499209834149,-0.03774226128746204,-0.028356185013518873,-0.027291642187503146,-0.02322071724917562,-0.009268693774779404,-0.02251195644392924,-0.023410327633040785,-0.01828325038829066,-0.008052458305121595,0.01340180819500851,0.04771800139502598,0.010663909383005677,1.0,0.013201587529166893,0.05924917193360216,0.03503608714430156,0.01727983804493612,0.03340139604764972,0.3312836101221491,0.014024549938015825,0.011678306253067318,0.012576966410440206,0.00916396296298838,0.011623186305706842,0.019517597109090956,0.0038421931456356986,0.0021945369687691955],[0.0028842719454732395,-0.009149386174180506,-0.04315354589246092,-0.09167322822595492,-0.01929596079724563,-0.1264691673054768,-0.09298698502299181,-0.12942857445454262,-0.09681220630545193,-0.12988529131016902,-0.0723638891813635,-0.03476952550911178,-0.12201275105174487,-0.1285874397941781,-0.043960004521227,-0.06030559086353661,-0.03059842762574737,-0.0309185139430057,-0.019287381063796395,-0.03735972787745696,-0.03750369708245432,-0.02304111208276946,-0.05577062925062026,-0.08452484439188879,-0.06767981071035546,-0.047183592658097656,-0.0646240200141404,-0.03138404876206017,-0.06360193051512536,-0.06470751759776192,-0.05286407719175614,0.1271004392761282,0.12232437933285573,0.3494103169757043,0.15507199983078762,0.013201587529166893,1.0,0.22734056693335497,0.21136842782599768,0.10031586764835129,0.1174228316683508,-0.0075029142888713134,0.07325179111180817,0.07756696960774316,0.07688893824345129,0.08945667086296927,0.04923142323828659,0.2333873865241794,0.10648773939858117,0.09742319186352381],[-0.06937781457403691,-0.10397916123387634,-0.12250368018727167,-0.2661993881672336,-0.043086688679676674,-0.44585208270492216,-0.3444562823596159,-0.3483198998139582,-0.18084685491974442,-0.43024381425481234,-0.19912583514236817,-0.09583610061403261,-0.3124624969037,-0.3381823402105601,-0.13090330951472665,-0.1238457930479619,-0.0870112663480056,-0.08128742798880412,-0.04822550189923908,-0.08902384534949197,-0.08924450723346225,-0.07358954981675014,-0.09640777964245309,-0.15082550941706474,-0.13658415956991807,-0.09443508886226917,-0.14134766172632415,-0.07653902587340722,-0.1389708821543801,-0.14122834668268744,-0.1143150570640556,0.21089136873905148,0.2762572295321531,0.2759236282487072,0.38825306665658393,0.05924917193360216,0.22734056693335497,1.0,0.9167504161314491,0.13285252133242098,0.1710750561915991,0.09293700587587404,0.14027171556299273,0.14006279040506558,0.13936503732291985,0.19010959761183027,0.14274983168616917,0.2813594208785845,0.17588236329422163,0.1180425458026949],[-0.041288632894185315,-0.06468775612068767,-0.11330813912501947,-0.18939480418615867,-0.0423357479337864,-0.3042217723105291,-0.21707584343235473,-0.24772658085727264,-0.16188360371967603,-0.29870990141606635,-0.15140724855015433,-0.06250605121904851,-0.23012347794035218,-0.24761575779071843,-0.08422558949943192,-0.0985682551949666,-0.05374700574209351,-0.05701133511497375,-0.033164334804400855,-0.06574837226231497,-0.06583138625159415,-0.05164569500272851,-0.07219476330032251,-0.1204156110854397,-0.10833965146276807,-0.07033026771745185,-0.106018103569755,-0.05889344155810328,-0.10390338727846091,-0.1059296829605301,-0.0836840662492271,0.20167663137470476,0.2428910509801011,0.24492718730708124,0.3760857542767054,0.03503608714430156,0.21136842782599768,0.9167504161314491,1.0,0.1259036240495073,0.16031933279044888,0.052234393453194486,0.11315775029644828,0.1114097189277248,0.11072555571682907,0.1598246363898026,0.1172864151908066,0.26100378843052535,0.1513238188755928,0.11043063908475408],[0.018091293483266734,-0.017404983155602058,-0.03402240838396574,-0.0911330941402523,-0.02007640215077873,-0.11416216331288391,-0.09483080992196706,-0.11280657151866164,-0.08901894373187402,-0.10833926461530177,-0.06928621661716636,-0.03185363688697809,-0.10494032446890639,-0.11229830476385222,-0.043683234295108814,-0.03778151556538003,-0.03141134460371088,-0.033620460571773376,-0.02208822017550725,0.012934538343265713,0.01260250434883043,0.021131823110363213,-0.005082809591387625,-0.04175267626907196,-0.04439152397048122,-0.031597459572490584,-0.0324378138143686,-0.02667136649134835,-0.03118094357775577,-0.03278355676290472,-0.034173288279589986,0.10895996030395859,0.0726343645981472,0.6805901427047956,0.11712630509697695,0.01727983804493612,0.10031586764835129,0.13285252133242098,0.1259036240495073,1.0,0.31176716901346646,0.011893069353743518,0.003942127852031432,-0.00017642192083902917,-0.0004128372637036085,0.04017984936453404,0.07181042953141957,0.19442863225670845,0.11386553893932236,0.06697441334759081],[0.027702853541956222,-0.06496408426092926,-0.05229636057807379,-0.12539195385037052,-0.027987416125093777,-0.16948029028356718,-0.1668569627727103,-0.17860957602742003,-0.12406196750998517,-0.16945829117165195,-0.10250417820205876,-0.03787241911428004,-0.15658960042359832,-0.17848623434409353,-0.05663791124713492,-0.06426029540944857,-0.03556036760540699,-0.035065289815260255,-0.022189294407224728,-0.01420516521240708,-0.014594797662312317,-0.006130914626803318,-0.006035168523526145,-0.0687337824559478,-0.07145184383199553,-0.04988617836312152,-0.05484508035088395,-0.03226527103939101,-0.05360015924752591,-0.05483914303570018,-0.04548691869793886,0.1196767578310422,0.0985130986661701,0.6209514969245767,0.12696988350619667,0.03340139604764972,0.1174228316683508,0.1710750561915991,0.16031933279044888,0.31176716901346646,1.0,0.05659868045257733,0.014553094483006087,0.012541419134264813,0.011891610210612516,0.06161270304192254,0.07223673062151986,0.30820209021574474,0.09423382358494646,0.06598944949783005],[-0.3068967162645092,-0.6102027669472209,-0.06913225471723801,-0.13826981018711637,-0.016349872238169028,-0.22288329585020092,-0.21618871465626063,-0.14717608999046725,-0.050765321070765146,-0.20615229023069065,-0.07917019930098264,-0.12751601434030346,-0.11886908698493959,-0.15065240756987172,-0.15455197247444483,-0.056522635317100486,-0.1583410861682794,-0.14882508953031515,-0.09738457469750508,-0.06750307759116062,-0.06771611924365331,-0.0757570911108603,-0.03448705855663412,-0.06523774341446326,-0.06270024596967362,-0.04624773705941854,-0.04568930484979748,-0.027416377185530375,-0.04533707831096146,-0.04576719760017589,-0.03631392103537716,-0.029832732962723096,0.009866711289325958,0.06350075228909674,0.023208050370881795,0.3312836101221491,-0.0075029142888713134,0.09293700587587404,0.052234393453194486,0.011893069353743518,0.05659868045257733,1.0,0.03395355199614947,0.027058527294159217,0.0270265997260493,0.006368286419807853,0.023671272742745445,0.01590384222674385,-0.003983900213120441,-0.011107796460288493],[-0.019744544072451818,-0.03828353228461146,-0.12053747368524063,-0.09037894919664058,-0.046037848402356765,-0.1658526480035978,-0.11016831854989924,-0.06890802424423315,-0.14368389530860662,-0.15260650983871746,-0.0499236830726753,-0.037855925692873924,-0.05584835276683327,-0.06801369864679273,-0.05827729432711899,-0.06307048398184516,-0.02799923935635119,-0.031992171439659926,-0.020751583056183152,-0.1023399249647738,-0.10158789322489847,-0.08666481084293803,-0.5058701264509002,-0.05824413147331742,-0.06653592900949747,-0.03442072372172774,-0.15683679136448198,-0.060559112846017726,-0.15450508743221936,-0.15693152939961305,-0.1290457078959467,0.32317481192545633,0.46473405151237823,0.14702449133794074,0.11716511879630623,0.014024549938015825,0.07325179111180817,0.14027171556299273,0.11315775029644828,0.003942127852031432,0.014553094483006087,0.03395355199614947,1.0,0.8250868145131567,0.8259771819548126,0.5195755006345854,0.4738539027109571,0.055033517402598306,0.11560484201611362,0.06750220645994867],[-0.019351141479753534,-0.03296188138958295,-0.10904166231147289,-0.08101936154292004,-0.039388286241015924,-0.15880715573028908,-0.10517372260348236,-0.054953844546636196,-0.13469071747101347,-0.14256310202703798,-0.042457764728570574,-0.02463423427354991,-0.04005297756180303,-0.05255833949217009,-0.05183995646363831,-0.05954508591254835,-0.016925691534158904,-0.019375578497456924,-0.01596268685143061,-0.09271829273907872,-0.09197949044151273,-0.0741196426869315,-0.5003324947391801,-0.05193227535567169,-0.06140706861043009,-0.029329303190868586,-0.1550111874271384,-0.05976206478581627,-0.15291214145179663,-0.15503140217624276,-0.12535820026801925,0.3178780017659092,0.477524212040166,0.1429459585872202,0.11296713758963303,0.011678306253067318,0.07756696960774316,0.14006279040506558,0.1114097189277248,-0.00017642192083902917,0.012541419134264813,0.027058527294159217,0.8250868145131567,1.0,0.9948478182049484,0.5406949001303792,0.3661024576818627,0.05962111441995822,0.12350898569096917,0.07260259306923383],[-0.019162897263479906,-0.03321366623050694,-0.10744051996255621,-0.080082525822532,-0.038890647652739245,-0.1578778193192282,-0.10355459599738079,-0.05381126704915832,-0.13242366866876643,-0.1421936987623302,-0.04162600963832567,-0.02474028240447999,-0.03926019042794577,-0.05152386321942154,-0.05106365310104785,-0.05818268878689887,-0.016836962697331065,-0.019349287206757573,-0.015565702019748898,-0.09107577161421197,-0.09033719858527942,-0.07255148381966127,-0.49863621685894677,-0.0502242906112831,-0.05962301248630287,-0.028096319907558173,-0.15393775028575185,-0.05961480679582418,-0.1519436825631903,-0.15395024466042334,-0.12437087883122876,0.31485871290694967,0.47582480069340505,0.14287237196850175,0.10888563409028147,0.012576966410440206,0.07688893824345129,0.13936503732291985,0.11072555571682907,-0.0004128372637036085,0.011891610210612516,0.0270265997260493,0.8259771819548126,0.9948478182049484,1.0,0.5389467948835714,0.36834545766409316,0.059201580759134335,0.12320813859575944,0.0728864932443849],[0.0051722789289696735,-0.023699660755978114,-0.11089428536440989,-0.058089879767382405,-0.03140167323063178,-0.14865531145831412,-0.07833981808749968,-0.01489856728171363,-0.1917712832714029,-0.1261949313542574,-0.017349588858632043,-0.019156346160137692,-0.001564388153191564,-0.017105161440564724,-0.05472559799228154,-0.0359344693005731,-0.012397728656682287,-0.01665653949800146,-0.014783154715400799,-0.06107815274872638,-0.0603626355843383,-0.02751764437708666,-0.39193114143043156,0.004560132849952059,-0.03673894480017244,-0.013345327852506342,-0.18449998561177325,-0.07344371049327768,-0.17829182969438412,-0.18442800416684763,-0.17133697145970664,0.4136171426733742,0.6787085440299512,0.16977550840335803,0.1688300648921604,0.00916396296298838,0.08945667086296927,0.19010959761183027,0.1598246363898026,0.04017984936453404,0.06161270304192254,0.006368286419807853,0.5195755006345854,0.5406949001303792,0.5389467948835714,1.0,0.3432551683911601,0.13663977969763316,0.30834050853972494,0.17545414897441367],[-0.0029614824291784897,-0.022956407776468384,-0.08985057182431694,-0.07851001193382891,-0.039077042722123194,-0.12226110076405865,-0.07414058661587448,-0.051121729758666405,-0.11656597040945865,-0.10750035595896466,-0.03476512790328718,-0.029981667156349222,-0.04692485016435332,-0.056331780998217326,-0.05377396530896186,-0.03283391173203543,-0.028406449180446623,-0.029685699441093234,-0.021649261809360214,0.0031295957197386144,0.003350148959068765,0.020029342126735062,-0.32242124498918795,-0.021657027669173573,-0.03670659702273949,-0.02623765040179307,-0.06226062633520319,-0.03852150466315435,-0.059260157513305003,-0.062301507257437036,-0.06458709638385507,0.20281782680354468,0.28722304157765244,0.18467993795380055,0.09384028270286773,0.011623186305706842,0.04923142323828659,0.14274983168616917,0.1172864151908066,0.07181042953141957,0.07223673062151986,0.023671272742745445,0.4738539027109571,0.3661024576818627,0.36834545766409316,0.3432551683911601,1.0,0.10975648506089904,0.2687255209007079,0.22675215186774517],[0.01740436378673159,-0.04036256784632838,-0.06713448959882196,-0.1616023788324773,-0.05047879349589627,-0.22933967461970708,-0.20969382972930065,-0.22921803507301236,-0.16440953636722078,-0.24032484474546661,-0.12388183884106121,-0.047522784822529474,-0.1953301631351587,-0.2104864697911755,-0.0721666348043759,-0.07522677443660852,-0.04335517393787046,-0.04139846759494207,-0.0244035292776259,-0.011810908031731774,-0.012119991955836608,0.006739466125756818,-0.05647971292070543,-0.08888007500755851,-0.082659403330884,-0.058334685662528675,-0.07709610842390272,-0.04300848864883783,-0.07521546394590865,-0.07727469435047894,-0.0656875224872827,0.1804106094428575,0.16186545795237706,0.3348910742504644,0.18884520523100665,0.019517597109090956,0.2333873865241794,0.2813594208785845,0.26100378843052535,0.19442863225670845,0.30820209021574474,0.01590384222674385,0.055033517402598306,0.05962111441995822,0.059201580759134335,0.13663977969763316,0.10975648506089904,1.0,0.16698021079436978,0.14467467686641508],[0.005555562407320561,-0.012019441962851011,-0.07695211135381946,-0.07462441223066156,-0.02453489159054018,-0.111425845043624,-0.029007440433915295,-0.023700404343073845,-0.11700448294920604,-0.08256083825461802,-0.03831080475532334,-0.026668849641923485,-0.03035526808437283,-0.04165625774615457,-0.059629636431794156,-0.025761637696484117,-0.020242124882589613,-0.02256128114564176,-0.013542158146117542,0.09221001971870822,0.0926635227057912,0.11134908288077963,-0.13898922605828018,0.025451789996597685,-0.025929827964708312,-0.017773275767989677,-0.07193576146549638,-0.06365912134215826,-0.06707190672246637,-0.07227133826361531,-0.09574502251023619,0.19558600296417225,0.2712373389636552,0.22534059681576782,0.13240619370809825,0.0038421931456356986,0.10648773939858117,0.17588236329422163,0.1513238188755928,0.11386553893932236,0.09423382358494646,-0.003983900213120441,0.11560484201611362,0.12350898569096917,0.12320813859575944,0.30834050853972494,0.2687255209007079,0.16698021079436978,1.0,0.7243749660047432],[0.02629397266285713,0.0035022246650427647,-0.04678836354840506,-0.030233944998199522,-0.004414484292119775,-0.050956030671099245,0.02518114140616987,0.031615491523336016,-0.07010790281592111,-0.030445073342383708,0.0007691377544795448,-0.016824120385413335,0.01144988889264383,0.007756287041841584,-0.03227786450344698,0.004003851252342689,-0.011736842372783642,-0.009015310636936502,-0.0043925835719535716,0.14446516256675687,0.14482330050735182,0.15364706277736734,-0.09688526915450965,0.05916345156141094,0.010901044167972593,0.005194060219544397,-0.00704081723493021,-0.03488789014182957,-0.0029065566494172685,-0.007294332139100316,-0.04483742343086068,0.12630297796945283,0.15552916709553957,0.16155173124563824,0.08845003972101675,0.0021945369687691955,0.09742319186352381,0.1180425458026949,0.11043063908475408,0.06697441334759081,0.06598944949783005,-0.011107796460288493,0.06750220645994867,0.07260259306923383,0.0728864932443849,0.17545414897441367,0.22675215186774517,0.14467467686641508,0.7243749660047432,1.0]],\"type\":\"heatmap\",\"xaxis\":\"x\",\"yaxis\":\"y\",\"hovertemplate\":\"Features: %{x}\\u003cbr\\u003eFeatures: %{y}\\u003cbr\\u003eCorrelation: %{z}\\u003cextra\\u003e\\u003c\\u002fextra\\u003e\"}],                        {\"template\":{\"data\":{\"histogram2dcontour\":[{\"type\":\"histogram2dcontour\",\"colorbar\":{\"outlinewidth\":0,\"ticks\":\"\"},\"colorscale\":[[0.0,\"#0d0887\"],[0.1111111111111111,\"#46039f\"],[0.2222222222222222,\"#7201a8\"],[0.3333333333333333,\"#9c179e\"],[0.4444444444444444,\"#bd3786\"],[0.5555555555555556,\"#d8576b\"],[0.6666666666666666,\"#ed7953\"],[0.7777777777777778,\"#fb9f3a\"],[0.8888888888888888,\"#fdca26\"],[1.0,\"#f0f921\"]]}],\"choropleth\":[{\"type\":\"choropleth\",\"colorbar\":{\"outlinewidth\":0,\"ticks\":\"\"}}],\"histogram2d\":[{\"type\":\"histogram2d\",\"colorbar\":{\"outlinewidth\":0,\"ticks\":\"\"},\"colorscale\":[[0.0,\"#0d0887\"],[0.1111111111111111,\"#46039f\"],[0.2222222222222222,\"#7201a8\"],[0.3333333333333333,\"#9c179e\"],[0.4444444444444444,\"#bd3786\"],[0.5555555555555556,\"#d8576b\"],[0.6666666666666666,\"#ed7953\"],[0.7777777777777778,\"#fb9f3a\"],[0.8888888888888888,\"#fdca26\"],[1.0,\"#f0f921\"]]}],\"heatmap\":[{\"type\":\"heatmap\",\"colorbar\":{\"outlinewidth\":0,\"ticks\":\"\"},\"colorscale\":[[0.0,\"#0d0887\"],[0.1111111111111111,\"#46039f\"],[0.2222222222222222,\"#7201a8\"],[0.3333333333333333,\"#9c179e\"],[0.4444444444444444,\"#bd3786\"],[0.5555555555555556,\"#d8576b\"],[0.6666666666666666,\"#ed7953\"],[0.7777777777777778,\"#fb9f3a\"],[0.8888888888888888,\"#fdca26\"],[1.0,\"#f0f921\"]]}],\"heatmapgl\":[{\"type\":\"heatmapgl\",\"colorbar\":{\"outlinewidth\":0,\"ticks\":\"\"},\"colorscale\":[[0.0,\"#0d0887\"],[0.1111111111111111,\"#46039f\"],[0.2222222222222222,\"#7201a8\"],[0.3333333333333333,\"#9c179e\"],[0.4444444444444444,\"#bd3786\"],[0.5555555555555556,\"#d8576b\"],[0.6666666666666666,\"#ed7953\"],[0.7777777777777778,\"#fb9f3a\"],[0.8888888888888888,\"#fdca26\"],[1.0,\"#f0f921\"]]}],\"contourcarpet\":[{\"type\":\"contourcarpet\",\"colorbar\":{\"outlinewidth\":0,\"ticks\":\"\"}}],\"contour\":[{\"type\":\"contour\",\"colorbar\":{\"outlinewidth\":0,\"ticks\":\"\"},\"colorscale\":[[0.0,\"#0d0887\"],[0.1111111111111111,\"#46039f\"],[0.2222222222222222,\"#7201a8\"],[0.3333333333333333,\"#9c179e\"],[0.4444444444444444,\"#bd3786\"],[0.5555555555555556,\"#d8576b\"],[0.6666666666666666,\"#ed7953\"],[0.7777777777777778,\"#fb9f3a\"],[0.8888888888888888,\"#fdca26\"],[1.0,\"#f0f921\"]]}],\"surface\":[{\"type\":\"surface\",\"colorbar\":{\"outlinewidth\":0,\"ticks\":\"\"},\"colorscale\":[[0.0,\"#0d0887\"],[0.1111111111111111,\"#46039f\"],[0.2222222222222222,\"#7201a8\"],[0.3333333333333333,\"#9c179e\"],[0.4444444444444444,\"#bd3786\"],[0.5555555555555556,\"#d8576b\"],[0.6666666666666666,\"#ed7953\"],[0.7777777777777778,\"#fb9f3a\"],[0.8888888888888888,\"#fdca26\"],[1.0,\"#f0f921\"]]}],\"mesh3d\":[{\"type\":\"mesh3d\",\"colorbar\":{\"outlinewidth\":0,\"ticks\":\"\"}}],\"scatter\":[{\"fillpattern\":{\"fillmode\":\"overlay\",\"size\":10,\"solidity\":0.2},\"type\":\"scatter\"}],\"parcoords\":[{\"type\":\"parcoords\",\"line\":{\"colorbar\":{\"outlinewidth\":0,\"ticks\":\"\"}}}],\"scatterpolargl\":[{\"type\":\"scatterpolargl\",\"marker\":{\"colorbar\":{\"outlinewidth\":0,\"ticks\":\"\"}}}],\"bar\":[{\"error_x\":{\"color\":\"#2a3f5f\"},\"error_y\":{\"color\":\"#2a3f5f\"},\"marker\":{\"line\":{\"color\":\"#E5ECF6\",\"width\":0.5},\"pattern\":{\"fillmode\":\"overlay\",\"size\":10,\"solidity\":0.2}},\"type\":\"bar\"}],\"scattergeo\":[{\"type\":\"scattergeo\",\"marker\":{\"colorbar\":{\"outlinewidth\":0,\"ticks\":\"\"}}}],\"scatterpolar\":[{\"type\":\"scatterpolar\",\"marker\":{\"colorbar\":{\"outlinewidth\":0,\"ticks\":\"\"}}}],\"histogram\":[{\"marker\":{\"pattern\":{\"fillmode\":\"overlay\",\"size\":10,\"solidity\":0.2}},\"type\":\"histogram\"}],\"scattergl\":[{\"type\":\"scattergl\",\"marker\":{\"colorbar\":{\"outlinewidth\":0,\"ticks\":\"\"}}}],\"scatter3d\":[{\"type\":\"scatter3d\",\"line\":{\"colorbar\":{\"outlinewidth\":0,\"ticks\":\"\"}},\"marker\":{\"colorbar\":{\"outlinewidth\":0,\"ticks\":\"\"}}}],\"scattermapbox\":[{\"type\":\"scattermapbox\",\"marker\":{\"colorbar\":{\"outlinewidth\":0,\"ticks\":\"\"}}}],\"scatterternary\":[{\"type\":\"scatterternary\",\"marker\":{\"colorbar\":{\"outlinewidth\":0,\"ticks\":\"\"}}}],\"scattercarpet\":[{\"type\":\"scattercarpet\",\"marker\":{\"colorbar\":{\"outlinewidth\":0,\"ticks\":\"\"}}}],\"carpet\":[{\"aaxis\":{\"endlinecolor\":\"#2a3f5f\",\"gridcolor\":\"white\",\"linecolor\":\"white\",\"minorgridcolor\":\"white\",\"startlinecolor\":\"#2a3f5f\"},\"baxis\":{\"endlinecolor\":\"#2a3f5f\",\"gridcolor\":\"white\",\"linecolor\":\"white\",\"minorgridcolor\":\"white\",\"startlinecolor\":\"#2a3f5f\"},\"type\":\"carpet\"}],\"table\":[{\"cells\":{\"fill\":{\"color\":\"#EBF0F8\"},\"line\":{\"color\":\"white\"}},\"header\":{\"fill\":{\"color\":\"#C8D4E3\"},\"line\":{\"color\":\"white\"}},\"type\":\"table\"}],\"barpolar\":[{\"marker\":{\"line\":{\"color\":\"#E5ECF6\",\"width\":0.5},\"pattern\":{\"fillmode\":\"overlay\",\"size\":10,\"solidity\":0.2}},\"type\":\"barpolar\"}],\"pie\":[{\"automargin\":true,\"type\":\"pie\"}]},\"layout\":{\"autotypenumbers\":\"strict\",\"colorway\":[\"#636efa\",\"#EF553B\",\"#00cc96\",\"#ab63fa\",\"#FFA15A\",\"#19d3f3\",\"#FF6692\",\"#B6E880\",\"#FF97FF\",\"#FECB52\"],\"font\":{\"color\":\"#2a3f5f\"},\"hovermode\":\"closest\",\"hoverlabel\":{\"align\":\"left\"},\"paper_bgcolor\":\"white\",\"plot_bgcolor\":\"#E5ECF6\",\"polar\":{\"bgcolor\":\"#E5ECF6\",\"angularaxis\":{\"gridcolor\":\"white\",\"linecolor\":\"white\",\"ticks\":\"\"},\"radialaxis\":{\"gridcolor\":\"white\",\"linecolor\":\"white\",\"ticks\":\"\"}},\"ternary\":{\"bgcolor\":\"#E5ECF6\",\"aaxis\":{\"gridcolor\":\"white\",\"linecolor\":\"white\",\"ticks\":\"\"},\"baxis\":{\"gridcolor\":\"white\",\"linecolor\":\"white\",\"ticks\":\"\"},\"caxis\":{\"gridcolor\":\"white\",\"linecolor\":\"white\",\"ticks\":\"\"}},\"coloraxis\":{\"colorbar\":{\"outlinewidth\":0,\"ticks\":\"\"}},\"colorscale\":{\"sequential\":[[0.0,\"#0d0887\"],[0.1111111111111111,\"#46039f\"],[0.2222222222222222,\"#7201a8\"],[0.3333333333333333,\"#9c179e\"],[0.4444444444444444,\"#bd3786\"],[0.5555555555555556,\"#d8576b\"],[0.6666666666666666,\"#ed7953\"],[0.7777777777777778,\"#fb9f3a\"],[0.8888888888888888,\"#fdca26\"],[1.0,\"#f0f921\"]],\"sequentialminus\":[[0.0,\"#0d0887\"],[0.1111111111111111,\"#46039f\"],[0.2222222222222222,\"#7201a8\"],[0.3333333333333333,\"#9c179e\"],[0.4444444444444444,\"#bd3786\"],[0.5555555555555556,\"#d8576b\"],[0.6666666666666666,\"#ed7953\"],[0.7777777777777778,\"#fb9f3a\"],[0.8888888888888888,\"#fdca26\"],[1.0,\"#f0f921\"]],\"diverging\":[[0,\"#8e0152\"],[0.1,\"#c51b7d\"],[0.2,\"#de77ae\"],[0.3,\"#f1b6da\"],[0.4,\"#fde0ef\"],[0.5,\"#f7f7f7\"],[0.6,\"#e6f5d0\"],[0.7,\"#b8e186\"],[0.8,\"#7fbc41\"],[0.9,\"#4d9221\"],[1,\"#276419\"]]},\"xaxis\":{\"gridcolor\":\"white\",\"linecolor\":\"white\",\"ticks\":\"\",\"title\":{\"standoff\":15},\"zerolinecolor\":\"white\",\"automargin\":true,\"zerolinewidth\":2},\"yaxis\":{\"gridcolor\":\"white\",\"linecolor\":\"white\",\"ticks\":\"\",\"title\":{\"standoff\":15},\"zerolinecolor\":\"white\",\"automargin\":true,\"zerolinewidth\":2},\"scene\":{\"xaxis\":{\"backgroundcolor\":\"#E5ECF6\",\"gridcolor\":\"white\",\"linecolor\":\"white\",\"showbackground\":true,\"ticks\":\"\",\"zerolinecolor\":\"white\",\"gridwidth\":2},\"yaxis\":{\"backgroundcolor\":\"#E5ECF6\",\"gridcolor\":\"white\",\"linecolor\":\"white\",\"showbackground\":true,\"ticks\":\"\",\"zerolinecolor\":\"white\",\"gridwidth\":2},\"zaxis\":{\"backgroundcolor\":\"#E5ECF6\",\"gridcolor\":\"white\",\"linecolor\":\"white\",\"showbackground\":true,\"ticks\":\"\",\"zerolinecolor\":\"white\",\"gridwidth\":2}},\"shapedefaults\":{\"line\":{\"color\":\"#2a3f5f\"}},\"annotationdefaults\":{\"arrowcolor\":\"#2a3f5f\",\"arrowhead\":0,\"arrowwidth\":1},\"geo\":{\"bgcolor\":\"white\",\"landcolor\":\"#E5ECF6\",\"subunitcolor\":\"white\",\"showland\":true,\"showlakes\":true,\"lakecolor\":\"white\"},\"title\":{\"x\":0.05},\"mapbox\":{\"style\":\"light\"}}},\"xaxis\":{\"anchor\":\"y\",\"domain\":[0.0,1.0],\"scaleanchor\":\"y\",\"constrain\":\"domain\",\"title\":{\"text\":\"Features\"}},\"yaxis\":{\"anchor\":\"x\",\"domain\":[0.0,1.0],\"autorange\":\"reversed\",\"constrain\":\"domain\",\"title\":{\"text\":\"Features\"}},\"coloraxis\":{\"colorbar\":{\"title\":{\"text\":\"Correlation\"}},\"colorscale\":[[0.0,\"rgb(103,0,31)\"],[0.1,\"rgb(178,24,43)\"],[0.2,\"rgb(214,96,77)\"],[0.3,\"rgb(244,165,130)\"],[0.4,\"rgb(253,219,199)\"],[0.5,\"rgb(247,247,247)\"],[0.6,\"rgb(209,229,240)\"],[0.7,\"rgb(146,197,222)\"],[0.8,\"rgb(67,147,195)\"],[0.9,\"rgb(33,102,172)\"],[1.0,\"rgb(5,48,97)\"]],\"cmin\":-1,\"cmax\":1},\"margin\":{\"t\":60},\"title\":{\"text\":\"Correlation Matrix of Delinquency Features\"},\"width\":800,\"height\":800},                        {\"responsive\": true}                    ).then(function(){\n",
              "                            \n",
              "var gd = document.getElementById('ed4b4df4-94ea-4498-95f9-239cb743f8f8');\n",
              "var x = new MutationObserver(function (mutations, observer) {{\n",
              "        var display = window.getComputedStyle(gd).display;\n",
              "        if (!display || display === 'none') {{\n",
              "            console.log([gd, 'removed!']);\n",
              "            Plotly.purge(gd);\n",
              "            observer.disconnect();\n",
              "        }}\n",
              "}});\n",
              "\n",
              "// Listen for the removal of the full notebook cells\n",
              "var notebookContainer = gd.closest('#notebook-container');\n",
              "if (notebookContainer) {{\n",
              "    x.observe(notebookContainer, {childList: true});\n",
              "}}\n",
              "\n",
              "// Listen for the clearing of the current output cell\n",
              "var outputEl = gd.closest('.output');\n",
              "if (outputEl) {{\n",
              "    x.observe(outputEl, {childList: true});\n",
              "}}\n",
              "\n",
              "                        })                };                            </script>        </div>\n",
              "</body>\n",
              "</html>"
            ]
          },
          "metadata": {}
        }
      ]
    },
    {
      "cell_type": "code",
      "source": [
        "\n",
        "feature_groups = {\n",
        "    'Delinquency': [col for col in train_df.columns if col.startswith('D_')],\n",
        "    'Spend': [col for col in train_df.columns if col.startswith('S_')],\n",
        "    'Payment': [col for col in train_df.columns if col.startswith('P_')],\n",
        "    'Balance': [col for col in train_df.columns if col.startswith('B_')],\n",
        "    'Risk': [col for col in train_df.columns if col.startswith('R_')]\n",
        "}"
      ],
      "metadata": {
        "id": "P2G4zkE1blph"
      },
      "execution_count": null,
      "outputs": []
    },
    {
      "cell_type": "code",
      "source": [
        "\n",
        "def remove_highly_correlated_features(df, feature_groups, delinquency_threshold=0.9, other_threshold=0.7):\n",
        "    \"\"\"Removes highly correlated features from specified groups in a DataFrame.\n",
        "\n",
        "    Args:\n",
        "        df: The input DataFrame.\n",
        "        feature_groups: A dictionary where keys are group names and values are lists of feature names within each group.\n",
        "        delinquency_threshold: Correlation threshold for 'Delinquency' group.\n",
        "        other_threshold: Correlation threshold for other groups.\n",
        "\n",
        "    Returns:\n",
        "        A new DataFrame with highly correlated features removed.\n",
        "    \"\"\"\n",
        "\n",
        "    df_filtered = df.copy()  # Create a copy to avoid modifying the original DataFrame\n",
        "    for group_name, features in feature_groups.items():\n",
        "        if features:  # Check if the list of features is not empty\n",
        "            # Select only numeric features for correlation calculation\n",
        "            numeric_features = df_filtered[features].select_dtypes(include=np.number).columns.tolist()\n",
        "\n",
        "            # If there are numeric features in the group, calculate correlation\n",
        "            if numeric_features:\n",
        "                corr_matrix = df_filtered[numeric_features].corr()\n",
        "                upper_triangle = corr_matrix.where(np.triu(np.ones(corr_matrix.shape), k=1).astype(bool))\n",
        "                threshold = delinquency_threshold if group_name == 'Delinquency' else other_threshold\n",
        "\n",
        "                to_drop = [column for column in upper_triangle.columns if any(upper_triangle[column] > threshold)]\n",
        "                df_filtered = df_filtered.drop(columns=to_drop)\n",
        "            else:\n",
        "                print(f\"No numeric features found in group: {group_name}\") #Print message for groups with no numeric features\n",
        "\n",
        "    return df_filtered\n",
        "\n",
        "# Example usage\n",
        "train_df_filtered = remove_highly_correlated_features(train_df, feature_groups)\n",
        "test_df_filtered = remove_highly_correlated_features(test_df, feature_groups) # Apply to test_df as well\n",
        "\n",
        "print(\"Shape of the training data after removing highly correlated features:\", train_df_filtered.shape)\n",
        "print(\"Shape of the testing data after removing highly correlated features:\", test_df_filtered.shape)"
      ],
      "metadata": {
        "colab": {
          "base_uri": "https://localhost:8080/"
        },
        "id": "QgkCwA-bblr_",
        "outputId": "aa00195b-a86a-4e97-8ee8-ec7af4fbc14f"
      },
      "execution_count": null,
      "outputs": [
        {
          "output_type": "stream",
          "name": "stdout",
          "text": [
            "Shape of the training data after removing highly correlated features: (44252, 89)\n",
            "Shape of the testing data after removing highly correlated features: (11063, 88)\n"
          ]
        }
      ]
    },
    {
      "cell_type": "code",
      "source": [
        "train_df = train_df_filtered\n",
        "test_df = test_df_filtered\n",
        "train_df_filtered = pd.DataFrame()\n",
        "test_df_filtered = pd.DataFrame()\n",
        "gc.collect()"
      ],
      "metadata": {
        "colab": {
          "base_uri": "https://localhost:8080/"
        },
        "id": "eZTlVlyVcpZ6",
        "outputId": "140a3e35-2f8b-4c29-b24b-496b6c7f1062"
      },
      "execution_count": null,
      "outputs": [
        {
          "output_type": "execute_result",
          "data": {
            "text/plain": [
              "1546"
            ]
          },
          "metadata": {},
          "execution_count": 30
        }
      ]
    },
    {
      "cell_type": "markdown",
      "source": [
        "#### Categorical based EDA and feature engineering"
      ],
      "metadata": {
        "id": "dzPXDGFRtfuQ"
      }
    },
    {
      "cell_type": "code",
      "source": [
        "import plotly.graph_objects as go\n",
        "from plotly.subplots import make_subplots\n",
        "import numpy as np\n",
        "\n",
        "cat_cols = ['B_30', 'B_38', 'D_114', 'D_116', 'D_117',\n",
        "            'D_120', 'D_126', 'D_63', 'D_64', 'D_66', 'D_68']\n",
        "\n",
        "# Define color palettes\n",
        "rgb = ['rgba(100, 149, 237, 0.8)', 'rgba(255, 69, 0, 0.8)']  # Cornflower Blue & OrangeRed\n",
        "pal = ['rgba(70, 130, 180, 1)', 'rgba(220, 20, 60, 1)']       # Steel Blue & Crimson\n",
        "\n",
        "# Check for missing columns\n",
        "missing_cols = [col for col in cat_cols if col not in train_df.columns]\n",
        "if missing_cols:\n",
        "    print(f\"The following columns are not in train_df: {missing_cols}\")\n",
        "    cat_cols = [col for col in cat_cols if col in train_df.columns]\n",
        "    print(f\"Proceeding with columns: {cat_cols}\")\n",
        "else:\n",
        "    print(\"All columns found in train_df.\")\n",
        "\n",
        "# Adjust subplot rows dynamically\n",
        "rows_needed = -(-len(cat_cols) // 3)  # Ceiling division for rows\n",
        "\n",
        "fig = make_subplots(\n",
        "    rows=rows_needed, cols=3,\n",
        "    subplot_titles=cat_cols,\n",
        "    vertical_spacing=0.15,\n",
        "    horizontal_spacing=0.1\n",
        ")\n",
        "\n",
        "plot_df = train_df[cat_cols + ['target']].copy()\n",
        "\n",
        "row, col_position = 1, 1\n",
        "\n",
        "for i, col in enumerate(cat_cols):\n",
        "    if i % 3 == 0 and i != 0:\n",
        "        row += 1\n",
        "        col_position = 1\n",
        "\n",
        "    plot_df[col] = plot_df[col].astype(object)\n",
        "    df = (\n",
        "        plot_df.groupby([col, 'target'])\n",
        "        .size()\n",
        "        .reset_index(name='count')\n",
        "    )\n",
        "\n",
        "    # Default (Target = 1) Bar Trace\n",
        "    fig.add_trace(\n",
        "        go.Bar(\n",
        "            x=df[df.target == 1][col],\n",
        "            y=df[df.target == 1]['count'],\n",
        "            marker_color=rgb[0],\n",
        "            marker_line=dict(color=pal[0], width=1),\n",
        "            hovertemplate=f\"{col}: {{x}}<br>Count: {{y}}<extra></extra>\",\n",
        "            name='Default',\n",
        "            showlegend=(True if i == 0 else False)\n",
        "        ),\n",
        "        row=row, col=col_position\n",
        "    )\n",
        "\n",
        "    # Paid (Target = 0) Bar Trace\n",
        "    fig.add_trace(\n",
        "        go.Bar(\n",
        "            x=df[df.target == 0][col],\n",
        "            y=df[df.target == 0]['count'],\n",
        "            marker_color=rgb[1],\n",
        "            marker_line=dict(color=pal[1], width=1),\n",
        "            hovertemplate=f\"{col}: {{x}}<br>Count: {{y}}<extra></extra>\",\n",
        "            name='Paid',\n",
        "            showlegend=(True if i == 0 else False)\n",
        "        ),\n",
        "        row=row, col=col_position\n",
        "    )\n",
        "\n",
        "    fig.update_yaxes(title_text=\"Frequency\", row=row, col=col_position)\n",
        "    col_position += 1\n",
        "\n",
        "# Layout adjustments\n",
        "fig.update_layout(\n",
        "    template=\"plotly_dark\",\n",
        "    title=\"Distribution of Categorical Variables\",\n",
        "    legend=dict(\n",
        "        orientation=\"h\",\n",
        "        yanchor=\"bottom\",\n",
        "        y=1.05,\n",
        "        xanchor=\"center\",\n",
        "        x=0.5\n",
        "    ),\n",
        "    barmode='group',\n",
        "    height=350 * rows_needed,\n",
        "    width=1000\n",
        ")\n",
        "\n",
        "fig.show()\n"
      ],
      "metadata": {
        "colab": {
          "base_uri": "https://localhost:8080/",
          "height": 1000
        },
        "id": "-F0GRBRdcpcN",
        "outputId": "9a9a9774-9d94-43ec-f290-37a1e0f5a29a"
      },
      "execution_count": null,
      "outputs": [
        {
          "output_type": "stream",
          "name": "stdout",
          "text": [
            "The following columns are not in train_df: ['D_66']\n",
            "Proceeding with columns: ['B_30', 'B_38', 'D_114', 'D_116', 'D_117', 'D_120', 'D_126', 'D_63', 'D_64', 'D_68']\n"
          ]
        },
        {
          "output_type": "display_data",
          "data": {
            "text/html": [
              "<html>\n",
              "<head><meta charset=\"utf-8\" /></head>\n",
              "<body>\n",
              "    <div>            <script src=\"https://cdnjs.cloudflare.com/ajax/libs/mathjax/2.7.5/MathJax.js?config=TeX-AMS-MML_SVG\"></script><script type=\"text/javascript\">if (window.MathJax && window.MathJax.Hub && window.MathJax.Hub.Config) {window.MathJax.Hub.Config({SVG: {font: \"STIX-Web\"}});}</script>                <script type=\"text/javascript\">window.PlotlyConfig = {MathJaxConfig: 'local'};</script>\n",
              "        <script charset=\"utf-8\" src=\"https://cdn.plot.ly/plotly-2.35.2.min.js\"></script>                <div id=\"6d85558b-5645-425b-bcb6-9d443d7901fe\" class=\"plotly-graph-div\" style=\"height:1400px; width:1000px;\"></div>            <script type=\"text/javascript\">                                    window.PLOTLYENV=window.PLOTLYENV || {};                                    if (document.getElementById(\"6d85558b-5645-425b-bcb6-9d443d7901fe\")) {                    Plotly.newPlot(                        \"6d85558b-5645-425b-bcb6-9d443d7901fe\",                        [{\"hovertemplate\":\"B_30: {x}\\u003cbr\\u003eCount: {y}\\u003cextra\\u003e\\u003c\\u002fextra\\u003e\",\"marker\":{\"color\":\"rgba(100, 149, 237, 0.8)\",\"line\":{\"color\":\"rgba(70, 130, 180, 1)\",\"width\":1}},\"name\":\"Default\",\"showlegend\":true,\"x\":[0.0,1.0,2.0,\"Unknown\"],\"y\":[6767,3788,238,8],\"type\":\"bar\",\"xaxis\":\"x\",\"yaxis\":\"y\"},{\"hovertemplate\":\"B_30: {x}\\u003cbr\\u003eCount: {y}\\u003cextra\\u003e\\u003c\\u002fextra\\u003e\",\"marker\":{\"color\":\"rgba(255, 69, 0, 0.8)\",\"line\":{\"color\":\"rgba(220, 20, 60, 1)\",\"width\":1}},\"name\":\"Paid\",\"showlegend\":true,\"x\":[0.0,1.0,2.0,\"Unknown\"],\"y\":[30895,2371,171,14],\"type\":\"bar\",\"xaxis\":\"x\",\"yaxis\":\"y\"},{\"hovertemplate\":\"B_38: {x}\\u003cbr\\u003eCount: {y}\\u003cextra\\u003e\\u003c\\u002fextra\\u003e\",\"marker\":{\"color\":\"rgba(100, 149, 237, 0.8)\",\"line\":{\"color\":\"rgba(70, 130, 180, 1)\",\"width\":1}},\"name\":\"Default\",\"showlegend\":false,\"x\":[1.0,2.0,3.0,4.0,5.0,6.0,7.0,\"Unknown\"],\"y\":[1200,975,3269,1675,1899,773,1002,8],\"type\":\"bar\",\"xaxis\":\"x2\",\"yaxis\":\"y2\"},{\"hovertemplate\":\"B_38: {x}\\u003cbr\\u003eCount: {y}\\u003cextra\\u003e\\u003c\\u002fextra\\u003e\",\"marker\":{\"color\":\"rgba(255, 69, 0, 0.8)\",\"line\":{\"color\":\"rgba(220, 20, 60, 1)\",\"width\":1}},\"name\":\"Paid\",\"showlegend\":false,\"x\":[1.0,2.0,3.0,4.0,5.0,6.0,7.0,\"Unknown\"],\"y\":[8121,14622,6873,706,1569,504,1042,14],\"type\":\"bar\",\"xaxis\":\"x2\",\"yaxis\":\"y2\"},{\"hovertemplate\":\"D_114: {x}\\u003cbr\\u003eCount: {y}\\u003cextra\\u003e\\u003c\\u002fextra\\u003e\",\"marker\":{\"color\":\"rgba(100, 149, 237, 0.8)\",\"line\":{\"color\":\"rgba(70, 130, 180, 1)\",\"width\":1}},\"name\":\"Default\",\"showlegend\":false,\"x\":[0.0,1.0,\"Unknown\"],\"y\":[5607,4572,622],\"type\":\"bar\",\"xaxis\":\"x3\",\"yaxis\":\"y3\"},{\"hovertemplate\":\"D_114: {x}\\u003cbr\\u003eCount: {y}\\u003cextra\\u003e\\u003c\\u002fextra\\u003e\",\"marker\":{\"color\":\"rgba(255, 69, 0, 0.8)\",\"line\":{\"color\":\"rgba(220, 20, 60, 1)\",\"width\":1}},\"name\":\"Paid\",\"showlegend\":false,\"x\":[0.0,1.0,\"Unknown\"],\"y\":[10706,21959,786],\"type\":\"bar\",\"xaxis\":\"x3\",\"yaxis\":\"y3\"},{\"hovertemplate\":\"D_116: {x}\\u003cbr\\u003eCount: {y}\\u003cextra\\u003e\\u003c\\u002fextra\\u003e\",\"marker\":{\"color\":\"rgba(100, 149, 237, 0.8)\",\"line\":{\"color\":\"rgba(70, 130, 180, 1)\",\"width\":1}},\"name\":\"Default\",\"showlegend\":false,\"x\":[0.0,1.0,\"Unknown\"],\"y\":[10146,33,622],\"type\":\"bar\",\"xaxis\":\"x4\",\"yaxis\":\"y4\"},{\"hovertemplate\":\"D_116: {x}\\u003cbr\\u003eCount: {y}\\u003cextra\\u003e\\u003c\\u002fextra\\u003e\",\"marker\":{\"color\":\"rgba(255, 69, 0, 0.8)\",\"line\":{\"color\":\"rgba(220, 20, 60, 1)\",\"width\":1}},\"name\":\"Paid\",\"showlegend\":false,\"x\":[0.0,1.0,\"Unknown\"],\"y\":[32646,19,786],\"type\":\"bar\",\"xaxis\":\"x4\",\"yaxis\":\"y4\"},{\"hovertemplate\":\"D_117: {x}\\u003cbr\\u003eCount: {y}\\u003cextra\\u003e\\u003c\\u002fextra\\u003e\",\"marker\":{\"color\":\"rgba(100, 149, 237, 0.8)\",\"line\":{\"color\":\"rgba(70, 130, 180, 1)\",\"width\":1}},\"name\":\"Default\",\"showlegend\":false,\"x\":[-1.0,1.0,2.0,3.0,4.0,5.0,6.0,\"Unknown\"],\"y\":[3104,439,1719,2529,1553,490,345,622],\"type\":\"bar\",\"xaxis\":\"x5\",\"yaxis\":\"y5\"},{\"hovertemplate\":\"D_117: {x}\\u003cbr\\u003eCount: {y}\\u003cextra\\u003e\\u003c\\u002fextra\\u003e\",\"marker\":{\"color\":\"rgba(255, 69, 0, 0.8)\",\"line\":{\"color\":\"rgba(220, 20, 60, 1)\",\"width\":1}},\"name\":\"Paid\",\"showlegend\":false,\"x\":[-1.0,1.0,2.0,3.0,4.0,5.0,6.0,\"Unknown\"],\"y\":[8550,569,3641,6818,7629,3167,2291,786],\"type\":\"bar\",\"xaxis\":\"x5\",\"yaxis\":\"y5\"},{\"hovertemplate\":\"D_120: {x}\\u003cbr\\u003eCount: {y}\\u003cextra\\u003e\\u003c\\u002fextra\\u003e\",\"marker\":{\"color\":\"rgba(100, 149, 237, 0.8)\",\"line\":{\"color\":\"rgba(70, 130, 180, 1)\",\"width\":1}},\"name\":\"Default\",\"showlegend\":false,\"x\":[0.0,1.0,\"Unknown\"],\"y\":[7916,2263,622],\"type\":\"bar\",\"xaxis\":\"x6\",\"yaxis\":\"y6\"},{\"hovertemplate\":\"D_120: {x}\\u003cbr\\u003eCount: {y}\\u003cextra\\u003e\\u003c\\u002fextra\\u003e\",\"marker\":{\"color\":\"rgba(255, 69, 0, 0.8)\",\"line\":{\"color\":\"rgba(220, 20, 60, 1)\",\"width\":1}},\"name\":\"Paid\",\"showlegend\":false,\"x\":[0.0,1.0,\"Unknown\"],\"y\":[29951,2714,786],\"type\":\"bar\",\"xaxis\":\"x6\",\"yaxis\":\"y6\"},{\"hovertemplate\":\"D_126: {x}\\u003cbr\\u003eCount: {y}\\u003cextra\\u003e\\u003c\\u002fextra\\u003e\",\"marker\":{\"color\":\"rgba(100, 149, 237, 0.8)\",\"line\":{\"color\":\"rgba(70, 130, 180, 1)\",\"width\":1}},\"name\":\"Default\",\"showlegend\":false,\"x\":[-1.0,0.0,1.0,\"Unknown\"],\"y\":[444,2191,7731,435],\"type\":\"bar\",\"xaxis\":\"x7\",\"yaxis\":\"y7\"},{\"hovertemplate\":\"D_126: {x}\\u003cbr\\u003eCount: {y}\\u003cextra\\u003e\\u003c\\u002fextra\\u003e\",\"marker\":{\"color\":\"rgba(255, 69, 0, 0.8)\",\"line\":{\"color\":\"rgba(220, 20, 60, 1)\",\"width\":1}},\"name\":\"Paid\",\"showlegend\":false,\"x\":[-1.0,0.0,1.0,\"Unknown\"],\"y\":[1646,5057,26296,452],\"type\":\"bar\",\"xaxis\":\"x7\",\"yaxis\":\"y7\"},{\"hovertemplate\":\"D_63: {x}\\u003cbr\\u003eCount: {y}\\u003cextra\\u003e\\u003c\\u002fextra\\u003e\",\"marker\":{\"color\":\"rgba(100, 149, 237, 0.8)\",\"line\":{\"color\":\"rgba(70, 130, 180, 1)\",\"width\":1}},\"name\":\"Default\",\"showlegend\":false,\"x\":[\"CL\",\"CO\",\"CR\",\"XL\",\"XM\",\"XZ\"],\"y\":[992,8465,1268,20,12,44],\"type\":\"bar\",\"xaxis\":\"x8\",\"yaxis\":\"y8\"},{\"hovertemplate\":\"D_63: {x}\\u003cbr\\u003eCount: {y}\\u003cextra\\u003e\\u003c\\u002fextra\\u003e\",\"marker\":{\"color\":\"rgba(255, 69, 0, 0.8)\",\"line\":{\"color\":\"rgba(220, 20, 60, 1)\",\"width\":1}},\"name\":\"Paid\",\"showlegend\":false,\"x\":[\"CL\",\"CO\",\"CR\",\"XL\",\"XM\",\"XZ\"],\"y\":[2512,24466,6197,39,74,163],\"type\":\"bar\",\"xaxis\":\"x8\",\"yaxis\":\"y8\"},{\"hovertemplate\":\"D_64: {x}\\u003cbr\\u003eCount: {y}\\u003cextra\\u003e\\u003c\\u002fextra\\u003e\",\"marker\":{\"color\":\"rgba(100, 149, 237, 0.8)\",\"line\":{\"color\":\"rgba(70, 130, 180, 1)\",\"width\":1}},\"name\":\"Default\",\"showlegend\":false,\"x\":[\"\",\"-1\",\"O\",\"R\",\"U\"],\"y\":[720,70,3800,2093,4118],\"type\":\"bar\",\"xaxis\":\"x9\",\"yaxis\":\"y9\"},{\"hovertemplate\":\"D_64: {x}\\u003cbr\\u003eCount: {y}\\u003cextra\\u003e\\u003c\\u002fextra\\u003e\",\"marker\":{\"color\":\"rgba(255, 69, 0, 0.8)\",\"line\":{\"color\":\"rgba(220, 20, 60, 1)\",\"width\":1}},\"name\":\"Paid\",\"showlegend\":false,\"x\":[\"\",\"-1\",\"O\",\"R\",\"U\"],\"y\":[1032,230,19488,4646,8055],\"type\":\"bar\",\"xaxis\":\"x9\",\"yaxis\":\"y9\"},{\"hovertemplate\":\"D_68: {x}\\u003cbr\\u003eCount: {y}\\u003cextra\\u003e\\u003c\\u002fextra\\u003e\",\"marker\":{\"color\":\"rgba(100, 149, 237, 0.8)\",\"line\":{\"color\":\"rgba(70, 130, 180, 1)\",\"width\":1}},\"name\":\"Default\",\"showlegend\":false,\"x\":[0.0,1.0,2.0,3.0,4.0,5.0,6.0,\"Unknown\"],\"y\":[20,442,663,1404,1328,2476,3749,719],\"type\":\"bar\",\"xaxis\":\"x10\",\"yaxis\":\"y10\"},{\"hovertemplate\":\"D_68: {x}\\u003cbr\\u003eCount: {y}\\u003cextra\\u003e\\u003c\\u002fextra\\u003e\",\"marker\":{\"color\":\"rgba(255, 69, 0, 0.8)\",\"line\":{\"color\":\"rgba(220, 20, 60, 1)\",\"width\":1}},\"name\":\"Paid\",\"showlegend\":false,\"x\":[0.0,1.0,2.0,3.0,4.0,5.0,6.0,\"Unknown\"],\"y\":[116,640,1126,2462,2539,7170,18392,1006],\"type\":\"bar\",\"xaxis\":\"x10\",\"yaxis\":\"y10\"}],                        {\"template\":{\"data\":{\"barpolar\":[{\"marker\":{\"line\":{\"color\":\"rgb(17,17,17)\",\"width\":0.5},\"pattern\":{\"fillmode\":\"overlay\",\"size\":10,\"solidity\":0.2}},\"type\":\"barpolar\"}],\"bar\":[{\"error_x\":{\"color\":\"#f2f5fa\"},\"error_y\":{\"color\":\"#f2f5fa\"},\"marker\":{\"line\":{\"color\":\"rgb(17,17,17)\",\"width\":0.5},\"pattern\":{\"fillmode\":\"overlay\",\"size\":10,\"solidity\":0.2}},\"type\":\"bar\"}],\"carpet\":[{\"aaxis\":{\"endlinecolor\":\"#A2B1C6\",\"gridcolor\":\"#506784\",\"linecolor\":\"#506784\",\"minorgridcolor\":\"#506784\",\"startlinecolor\":\"#A2B1C6\"},\"baxis\":{\"endlinecolor\":\"#A2B1C6\",\"gridcolor\":\"#506784\",\"linecolor\":\"#506784\",\"minorgridcolor\":\"#506784\",\"startlinecolor\":\"#A2B1C6\"},\"type\":\"carpet\"}],\"choropleth\":[{\"colorbar\":{\"outlinewidth\":0,\"ticks\":\"\"},\"type\":\"choropleth\"}],\"contourcarpet\":[{\"colorbar\":{\"outlinewidth\":0,\"ticks\":\"\"},\"type\":\"contourcarpet\"}],\"contour\":[{\"colorbar\":{\"outlinewidth\":0,\"ticks\":\"\"},\"colorscale\":[[0.0,\"#0d0887\"],[0.1111111111111111,\"#46039f\"],[0.2222222222222222,\"#7201a8\"],[0.3333333333333333,\"#9c179e\"],[0.4444444444444444,\"#bd3786\"],[0.5555555555555556,\"#d8576b\"],[0.6666666666666666,\"#ed7953\"],[0.7777777777777778,\"#fb9f3a\"],[0.8888888888888888,\"#fdca26\"],[1.0,\"#f0f921\"]],\"type\":\"contour\"}],\"heatmapgl\":[{\"colorbar\":{\"outlinewidth\":0,\"ticks\":\"\"},\"colorscale\":[[0.0,\"#0d0887\"],[0.1111111111111111,\"#46039f\"],[0.2222222222222222,\"#7201a8\"],[0.3333333333333333,\"#9c179e\"],[0.4444444444444444,\"#bd3786\"],[0.5555555555555556,\"#d8576b\"],[0.6666666666666666,\"#ed7953\"],[0.7777777777777778,\"#fb9f3a\"],[0.8888888888888888,\"#fdca26\"],[1.0,\"#f0f921\"]],\"type\":\"heatmapgl\"}],\"heatmap\":[{\"colorbar\":{\"outlinewidth\":0,\"ticks\":\"\"},\"colorscale\":[[0.0,\"#0d0887\"],[0.1111111111111111,\"#46039f\"],[0.2222222222222222,\"#7201a8\"],[0.3333333333333333,\"#9c179e\"],[0.4444444444444444,\"#bd3786\"],[0.5555555555555556,\"#d8576b\"],[0.6666666666666666,\"#ed7953\"],[0.7777777777777778,\"#fb9f3a\"],[0.8888888888888888,\"#fdca26\"],[1.0,\"#f0f921\"]],\"type\":\"heatmap\"}],\"histogram2dcontour\":[{\"colorbar\":{\"outlinewidth\":0,\"ticks\":\"\"},\"colorscale\":[[0.0,\"#0d0887\"],[0.1111111111111111,\"#46039f\"],[0.2222222222222222,\"#7201a8\"],[0.3333333333333333,\"#9c179e\"],[0.4444444444444444,\"#bd3786\"],[0.5555555555555556,\"#d8576b\"],[0.6666666666666666,\"#ed7953\"],[0.7777777777777778,\"#fb9f3a\"],[0.8888888888888888,\"#fdca26\"],[1.0,\"#f0f921\"]],\"type\":\"histogram2dcontour\"}],\"histogram2d\":[{\"colorbar\":{\"outlinewidth\":0,\"ticks\":\"\"},\"colorscale\":[[0.0,\"#0d0887\"],[0.1111111111111111,\"#46039f\"],[0.2222222222222222,\"#7201a8\"],[0.3333333333333333,\"#9c179e\"],[0.4444444444444444,\"#bd3786\"],[0.5555555555555556,\"#d8576b\"],[0.6666666666666666,\"#ed7953\"],[0.7777777777777778,\"#fb9f3a\"],[0.8888888888888888,\"#fdca26\"],[1.0,\"#f0f921\"]],\"type\":\"histogram2d\"}],\"histogram\":[{\"marker\":{\"pattern\":{\"fillmode\":\"overlay\",\"size\":10,\"solidity\":0.2}},\"type\":\"histogram\"}],\"mesh3d\":[{\"colorbar\":{\"outlinewidth\":0,\"ticks\":\"\"},\"type\":\"mesh3d\"}],\"parcoords\":[{\"line\":{\"colorbar\":{\"outlinewidth\":0,\"ticks\":\"\"}},\"type\":\"parcoords\"}],\"pie\":[{\"automargin\":true,\"type\":\"pie\"}],\"scatter3d\":[{\"line\":{\"colorbar\":{\"outlinewidth\":0,\"ticks\":\"\"}},\"marker\":{\"colorbar\":{\"outlinewidth\":0,\"ticks\":\"\"}},\"type\":\"scatter3d\"}],\"scattercarpet\":[{\"marker\":{\"colorbar\":{\"outlinewidth\":0,\"ticks\":\"\"}},\"type\":\"scattercarpet\"}],\"scattergeo\":[{\"marker\":{\"colorbar\":{\"outlinewidth\":0,\"ticks\":\"\"}},\"type\":\"scattergeo\"}],\"scattergl\":[{\"marker\":{\"line\":{\"color\":\"#283442\"}},\"type\":\"scattergl\"}],\"scattermapbox\":[{\"marker\":{\"colorbar\":{\"outlinewidth\":0,\"ticks\":\"\"}},\"type\":\"scattermapbox\"}],\"scatterpolargl\":[{\"marker\":{\"colorbar\":{\"outlinewidth\":0,\"ticks\":\"\"}},\"type\":\"scatterpolargl\"}],\"scatterpolar\":[{\"marker\":{\"colorbar\":{\"outlinewidth\":0,\"ticks\":\"\"}},\"type\":\"scatterpolar\"}],\"scatter\":[{\"marker\":{\"line\":{\"color\":\"#283442\"}},\"type\":\"scatter\"}],\"scatterternary\":[{\"marker\":{\"colorbar\":{\"outlinewidth\":0,\"ticks\":\"\"}},\"type\":\"scatterternary\"}],\"surface\":[{\"colorbar\":{\"outlinewidth\":0,\"ticks\":\"\"},\"colorscale\":[[0.0,\"#0d0887\"],[0.1111111111111111,\"#46039f\"],[0.2222222222222222,\"#7201a8\"],[0.3333333333333333,\"#9c179e\"],[0.4444444444444444,\"#bd3786\"],[0.5555555555555556,\"#d8576b\"],[0.6666666666666666,\"#ed7953\"],[0.7777777777777778,\"#fb9f3a\"],[0.8888888888888888,\"#fdca26\"],[1.0,\"#f0f921\"]],\"type\":\"surface\"}],\"table\":[{\"cells\":{\"fill\":{\"color\":\"#506784\"},\"line\":{\"color\":\"rgb(17,17,17)\"}},\"header\":{\"fill\":{\"color\":\"#2a3f5f\"},\"line\":{\"color\":\"rgb(17,17,17)\"}},\"type\":\"table\"}]},\"layout\":{\"annotationdefaults\":{\"arrowcolor\":\"#f2f5fa\",\"arrowhead\":0,\"arrowwidth\":1},\"autotypenumbers\":\"strict\",\"coloraxis\":{\"colorbar\":{\"outlinewidth\":0,\"ticks\":\"\"}},\"colorscale\":{\"diverging\":[[0,\"#8e0152\"],[0.1,\"#c51b7d\"],[0.2,\"#de77ae\"],[0.3,\"#f1b6da\"],[0.4,\"#fde0ef\"],[0.5,\"#f7f7f7\"],[0.6,\"#e6f5d0\"],[0.7,\"#b8e186\"],[0.8,\"#7fbc41\"],[0.9,\"#4d9221\"],[1,\"#276419\"]],\"sequential\":[[0.0,\"#0d0887\"],[0.1111111111111111,\"#46039f\"],[0.2222222222222222,\"#7201a8\"],[0.3333333333333333,\"#9c179e\"],[0.4444444444444444,\"#bd3786\"],[0.5555555555555556,\"#d8576b\"],[0.6666666666666666,\"#ed7953\"],[0.7777777777777778,\"#fb9f3a\"],[0.8888888888888888,\"#fdca26\"],[1.0,\"#f0f921\"]],\"sequentialminus\":[[0.0,\"#0d0887\"],[0.1111111111111111,\"#46039f\"],[0.2222222222222222,\"#7201a8\"],[0.3333333333333333,\"#9c179e\"],[0.4444444444444444,\"#bd3786\"],[0.5555555555555556,\"#d8576b\"],[0.6666666666666666,\"#ed7953\"],[0.7777777777777778,\"#fb9f3a\"],[0.8888888888888888,\"#fdca26\"],[1.0,\"#f0f921\"]]},\"colorway\":[\"#636efa\",\"#EF553B\",\"#00cc96\",\"#ab63fa\",\"#FFA15A\",\"#19d3f3\",\"#FF6692\",\"#B6E880\",\"#FF97FF\",\"#FECB52\"],\"font\":{\"color\":\"#f2f5fa\"},\"geo\":{\"bgcolor\":\"rgb(17,17,17)\",\"lakecolor\":\"rgb(17,17,17)\",\"landcolor\":\"rgb(17,17,17)\",\"showlakes\":true,\"showland\":true,\"subunitcolor\":\"#506784\"},\"hoverlabel\":{\"align\":\"left\"},\"hovermode\":\"closest\",\"mapbox\":{\"style\":\"dark\"},\"paper_bgcolor\":\"rgb(17,17,17)\",\"plot_bgcolor\":\"rgb(17,17,17)\",\"polar\":{\"angularaxis\":{\"gridcolor\":\"#506784\",\"linecolor\":\"#506784\",\"ticks\":\"\"},\"bgcolor\":\"rgb(17,17,17)\",\"radialaxis\":{\"gridcolor\":\"#506784\",\"linecolor\":\"#506784\",\"ticks\":\"\"}},\"scene\":{\"xaxis\":{\"backgroundcolor\":\"rgb(17,17,17)\",\"gridcolor\":\"#506784\",\"gridwidth\":2,\"linecolor\":\"#506784\",\"showbackground\":true,\"ticks\":\"\",\"zerolinecolor\":\"#C8D4E3\"},\"yaxis\":{\"backgroundcolor\":\"rgb(17,17,17)\",\"gridcolor\":\"#506784\",\"gridwidth\":2,\"linecolor\":\"#506784\",\"showbackground\":true,\"ticks\":\"\",\"zerolinecolor\":\"#C8D4E3\"},\"zaxis\":{\"backgroundcolor\":\"rgb(17,17,17)\",\"gridcolor\":\"#506784\",\"gridwidth\":2,\"linecolor\":\"#506784\",\"showbackground\":true,\"ticks\":\"\",\"zerolinecolor\":\"#C8D4E3\"}},\"shapedefaults\":{\"line\":{\"color\":\"#f2f5fa\"}},\"sliderdefaults\":{\"bgcolor\":\"#C8D4E3\",\"bordercolor\":\"rgb(17,17,17)\",\"borderwidth\":1,\"tickwidth\":0},\"ternary\":{\"aaxis\":{\"gridcolor\":\"#506784\",\"linecolor\":\"#506784\",\"ticks\":\"\"},\"baxis\":{\"gridcolor\":\"#506784\",\"linecolor\":\"#506784\",\"ticks\":\"\"},\"bgcolor\":\"rgb(17,17,17)\",\"caxis\":{\"gridcolor\":\"#506784\",\"linecolor\":\"#506784\",\"ticks\":\"\"}},\"title\":{\"x\":0.05},\"updatemenudefaults\":{\"bgcolor\":\"#506784\",\"borderwidth\":0},\"xaxis\":{\"automargin\":true,\"gridcolor\":\"#283442\",\"linecolor\":\"#506784\",\"ticks\":\"\",\"title\":{\"standoff\":15},\"zerolinecolor\":\"#283442\",\"zerolinewidth\":2},\"yaxis\":{\"automargin\":true,\"gridcolor\":\"#283442\",\"linecolor\":\"#506784\",\"ticks\":\"\",\"title\":{\"standoff\":15},\"zerolinecolor\":\"#283442\",\"zerolinewidth\":2}}},\"xaxis\":{\"anchor\":\"y\",\"domain\":[0.0,0.26666666666666666]},\"yaxis\":{\"anchor\":\"x\",\"domain\":[0.8625,1.0],\"title\":{\"text\":\"Frequency\"}},\"xaxis2\":{\"anchor\":\"y2\",\"domain\":[0.3666666666666667,0.6333333333333333]},\"yaxis2\":{\"anchor\":\"x2\",\"domain\":[0.8625,1.0],\"title\":{\"text\":\"Frequency\"}},\"xaxis3\":{\"anchor\":\"y3\",\"domain\":[0.7333333333333334,1.0]},\"yaxis3\":{\"anchor\":\"x3\",\"domain\":[0.8625,1.0],\"title\":{\"text\":\"Frequency\"}},\"xaxis4\":{\"anchor\":\"y4\",\"domain\":[0.0,0.26666666666666666]},\"yaxis4\":{\"anchor\":\"x4\",\"domain\":[0.575,0.7124999999999999],\"title\":{\"text\":\"Frequency\"}},\"xaxis5\":{\"anchor\":\"y5\",\"domain\":[0.3666666666666667,0.6333333333333333]},\"yaxis5\":{\"anchor\":\"x5\",\"domain\":[0.575,0.7124999999999999],\"title\":{\"text\":\"Frequency\"}},\"xaxis6\":{\"anchor\":\"y6\",\"domain\":[0.7333333333333334,1.0]},\"yaxis6\":{\"anchor\":\"x6\",\"domain\":[0.575,0.7124999999999999],\"title\":{\"text\":\"Frequency\"}},\"xaxis7\":{\"anchor\":\"y7\",\"domain\":[0.0,0.26666666666666666]},\"yaxis7\":{\"anchor\":\"x7\",\"domain\":[0.2875,0.425],\"title\":{\"text\":\"Frequency\"}},\"xaxis8\":{\"anchor\":\"y8\",\"domain\":[0.3666666666666667,0.6333333333333333]},\"yaxis8\":{\"anchor\":\"x8\",\"domain\":[0.2875,0.425],\"title\":{\"text\":\"Frequency\"}},\"xaxis9\":{\"anchor\":\"y9\",\"domain\":[0.7333333333333334,1.0]},\"yaxis9\":{\"anchor\":\"x9\",\"domain\":[0.2875,0.425],\"title\":{\"text\":\"Frequency\"}},\"xaxis10\":{\"anchor\":\"y10\",\"domain\":[0.0,0.26666666666666666]},\"yaxis10\":{\"anchor\":\"x10\",\"domain\":[0.0,0.1375],\"title\":{\"text\":\"Frequency\"}},\"xaxis11\":{\"anchor\":\"y11\",\"domain\":[0.3666666666666667,0.6333333333333333]},\"yaxis11\":{\"anchor\":\"x11\",\"domain\":[0.0,0.1375]},\"xaxis12\":{\"anchor\":\"y12\",\"domain\":[0.7333333333333334,1.0]},\"yaxis12\":{\"anchor\":\"x12\",\"domain\":[0.0,0.1375]},\"annotations\":[{\"font\":{\"size\":16},\"showarrow\":false,\"text\":\"B_30\",\"x\":0.13333333333333333,\"xanchor\":\"center\",\"xref\":\"paper\",\"y\":1.0,\"yanchor\":\"bottom\",\"yref\":\"paper\"},{\"font\":{\"size\":16},\"showarrow\":false,\"text\":\"B_38\",\"x\":0.5,\"xanchor\":\"center\",\"xref\":\"paper\",\"y\":1.0,\"yanchor\":\"bottom\",\"yref\":\"paper\"},{\"font\":{\"size\":16},\"showarrow\":false,\"text\":\"D_114\",\"x\":0.8666666666666667,\"xanchor\":\"center\",\"xref\":\"paper\",\"y\":1.0,\"yanchor\":\"bottom\",\"yref\":\"paper\"},{\"font\":{\"size\":16},\"showarrow\":false,\"text\":\"D_116\",\"x\":0.13333333333333333,\"xanchor\":\"center\",\"xref\":\"paper\",\"y\":0.7124999999999999,\"yanchor\":\"bottom\",\"yref\":\"paper\"},{\"font\":{\"size\":16},\"showarrow\":false,\"text\":\"D_117\",\"x\":0.5,\"xanchor\":\"center\",\"xref\":\"paper\",\"y\":0.7124999999999999,\"yanchor\":\"bottom\",\"yref\":\"paper\"},{\"font\":{\"size\":16},\"showarrow\":false,\"text\":\"D_120\",\"x\":0.8666666666666667,\"xanchor\":\"center\",\"xref\":\"paper\",\"y\":0.7124999999999999,\"yanchor\":\"bottom\",\"yref\":\"paper\"},{\"font\":{\"size\":16},\"showarrow\":false,\"text\":\"D_126\",\"x\":0.13333333333333333,\"xanchor\":\"center\",\"xref\":\"paper\",\"y\":0.425,\"yanchor\":\"bottom\",\"yref\":\"paper\"},{\"font\":{\"size\":16},\"showarrow\":false,\"text\":\"D_63\",\"x\":0.5,\"xanchor\":\"center\",\"xref\":\"paper\",\"y\":0.425,\"yanchor\":\"bottom\",\"yref\":\"paper\"},{\"font\":{\"size\":16},\"showarrow\":false,\"text\":\"D_64\",\"x\":0.8666666666666667,\"xanchor\":\"center\",\"xref\":\"paper\",\"y\":0.425,\"yanchor\":\"bottom\",\"yref\":\"paper\"},{\"font\":{\"size\":16},\"showarrow\":false,\"text\":\"D_68\",\"x\":0.13333333333333333,\"xanchor\":\"center\",\"xref\":\"paper\",\"y\":0.1375,\"yanchor\":\"bottom\",\"yref\":\"paper\"}],\"legend\":{\"orientation\":\"h\",\"yanchor\":\"bottom\",\"y\":1.05,\"xanchor\":\"center\",\"x\":0.5},\"title\":{\"text\":\"Distribution of Categorical Variables\"},\"barmode\":\"group\",\"height\":1400,\"width\":1000},                        {\"responsive\": true}                    ).then(function(){\n",
              "                            \n",
              "var gd = document.getElementById('6d85558b-5645-425b-bcb6-9d443d7901fe');\n",
              "var x = new MutationObserver(function (mutations, observer) {{\n",
              "        var display = window.getComputedStyle(gd).display;\n",
              "        if (!display || display === 'none') {{\n",
              "            console.log([gd, 'removed!']);\n",
              "            Plotly.purge(gd);\n",
              "            observer.disconnect();\n",
              "        }}\n",
              "}});\n",
              "\n",
              "// Listen for the removal of the full notebook cells\n",
              "var notebookContainer = gd.closest('#notebook-container');\n",
              "if (notebookContainer) {{\n",
              "    x.observe(notebookContainer, {childList: true});\n",
              "}}\n",
              "\n",
              "// Listen for the clearing of the current output cell\n",
              "var outputEl = gd.closest('.output');\n",
              "if (outputEl) {{\n",
              "    x.observe(outputEl, {childList: true});\n",
              "}}\n",
              "\n",
              "                        })                };                            </script>        </div>\n",
              "</body>\n",
              "</html>"
            ]
          },
          "metadata": {}
        }
      ]
    },
    {
      "cell_type": "markdown",
      "source": [
        "- We are performing on one hot encoding later before training the models."
      ],
      "metadata": {
        "id": "2rfXWG65GAEn"
      }
    },
    {
      "cell_type": "markdown",
      "source": [
        "#### Time based feature engineering"
      ],
      "metadata": {
        "id": "g7tqRg767c9y"
      }
    },
    {
      "cell_type": "code",
      "execution_count": null,
      "metadata": {
        "id": "vvHf00fjcySr"
      },
      "outputs": [],
      "source": [
        "# Extract basic time features and convert them into numerical features and remove datetime column\n",
        "\n",
        "def extract_time_features(df, datetime_column):\n",
        "  \"\"\"Extracts basic time features from a datetime column and converts them to numerical.\n",
        "\n",
        "  Args:\n",
        "      df: Pandas DataFrame.\n",
        "      datetime_column: Name of the datetime column.\n",
        "\n",
        "  Returns:\n",
        "      Pandas DataFrame with extracted time features and the original datetime column removed.\n",
        "  \"\"\"\n",
        "  df[datetime_column] = pd.to_datetime(df[datetime_column])\n",
        "  df['year'] = df[datetime_column].dt.year\n",
        "  df['month'] = df[datetime_column].dt.month\n",
        "  df['day'] = df[datetime_column].dt.day\n",
        "  df['dayofweek'] = df[datetime_column].dt.dayofweek\n",
        "  df['hour'] = df[datetime_column].dt.hour\n",
        "  df = df.drop(columns=[datetime_column])\n",
        "  return df\n",
        "\n",
        "train_df = extract_time_features(train_df, 'S_2')\n",
        "test_df = extract_time_features(test_df, 'S_2')"
      ]
    },
    {
      "cell_type": "code",
      "execution_count": null,
      "metadata": {
        "id": "W56sZPLzcyU9",
        "colab": {
          "base_uri": "https://localhost:8080/"
        },
        "outputId": "6038299b-00d7-4cb1-d02c-e5ac00d1798d"
      },
      "outputs": [
        {
          "output_type": "execute_result",
          "data": {
            "text/plain": [
              "Index(['D_39', 'B_1', 'R_1', 'S_3', 'D_41', 'D_43', 'D_44', 'B_4', 'R_2',\n",
              "       'D_46', 'D_48', 'B_7', 'B_8', 'B_9', 'R_3', 'D_55', 'R_5', 'D_58',\n",
              "       'B_14', 'D_59', 'D_61', 'R_6', 'D_70', 'D_72', 'S_15', 'P_4', 'B_24',\n",
              "       'B_25', 'D_78', 'D_79', 'R_10', 'D_81', 'R_15', 'D_84', 'R_16', 'R_19',\n",
              "       'B_32', 'S_20', 'R_20', 'R_21', 'D_89', 'R_24', 'D_103', 'D_107',\n",
              "       'D_113', 'D_130', 'D_131', 'D_133', 'D_139', 'D_140', 'D_145', 'P_2',\n",
              "       'B_2', 'D_45', 'D_47', 'D_51', 'D_52', 'P_3', 'D_54', 'S_8', 'D_56',\n",
              "       'D_62', 'S_13', 'R_12', 'D_91', 'D_92', 'S_25', 'R_27', 'D_112',\n",
              "       'D_115', 'D_118', 'D_121', 'D_122', 'D_127', 'D_128', 'D_129', 'B_30',\n",
              "       'B_38', 'D_114', 'D_116', 'D_117', 'D_120', 'D_126', 'D_63', 'D_64',\n",
              "       'D_68', 'target', 'customer_ID', 'year', 'month', 'day', 'dayofweek',\n",
              "       'hour'],\n",
              "      dtype='object')"
            ]
          },
          "metadata": {},
          "execution_count": 37
        }
      ],
      "source": [
        "\n",
        "train_df.columns"
      ]
    },
    {
      "cell_type": "code",
      "source": [
        "# Drop customer_id\n",
        "\n",
        "train_df = train_df.drop(columns=['customer_ID'])\n",
        "test_df = test_df.drop(columns=['customer_ID'])\n",
        "\n",
        "# Define X_train, y_train, X_test, y_test\n",
        "target_column = 'target'\n",
        "X_train = train_df.drop(target_column, axis=1)\n",
        "y_train = train_df[target_column]\n",
        "X_test = test_df.drop(target_column, axis=1)\n",
        "y_test = test_df[target_column]\n",
        "\n",
        "\n",
        "# Encode categorical features\n",
        "le = LabelEncoder()\n",
        "\n",
        "# First, encode the specified 'categorical_features'\n",
        "for feature in categorical_features:\n",
        "    if feature in X_train.columns:\n",
        "        X_train[feature] = le.fit_transform(X_train[feature].astype(str))\n",
        "        X_test[feature] = le.transform(X_test[feature].astype(str))\n",
        "\n",
        "# Then, identify other categorical features and encode them\n",
        "other_categorical_features = [\n",
        "    col for col in X_train.columns if X_train[col].dtype == object\n",
        "]\n",
        "\n",
        "for feature in other_categorical_features:\n",
        "    if feature in X_train.columns:\n",
        "        X_train[feature] = le.fit_transform(X_train[feature].astype(str))\n",
        "        X_test[feature] = le.transform(X_test[feature].astype(str))\n",
        "\n",
        "\n",
        "# Align columns to ensure both train and test sets have the same features\n",
        "X_train, X_test = X_train.align(X_test, join='inner', axis=1)\n",
        "\n",
        "# Release memory\n",
        "del train_df, test_df\n",
        "gc.collect()"
      ],
      "metadata": {
        "id": "IpG3KRNHvogz",
        "colab": {
          "base_uri": "https://localhost:8080/"
        },
        "outputId": "c3b3e795-431e-455e-c888-eef5e4c528e7"
      },
      "execution_count": null,
      "outputs": [
        {
          "output_type": "execute_result",
          "data": {
            "text/plain": [
              "751"
            ]
          },
          "metadata": {},
          "execution_count": 42
        }
      ]
    },
    {
      "cell_type": "code",
      "source": [],
      "metadata": {
        "id": "EO5VyBdHK9Gu"
      },
      "execution_count": null,
      "outputs": []
    },
    {
      "cell_type": "markdown",
      "source": [
        "#### Amex error metric"
      ],
      "metadata": {
        "id": "hMGWomNVK9YX"
      }
    },
    {
      "cell_type": "code",
      "source": [
        "def amex_metric(y_true: pd.DataFrame, y_pred: pd.DataFrame) -> float:\n",
        "\n",
        "    def top_four_percent_captured(y_true: pd.DataFrame, y_pred: pd.DataFrame) -> float:\n",
        "        df = (pd.concat([y_true, y_pred], axis='columns')\n",
        "              .sort_values('prediction', ascending=False))\n",
        "        df['weight'] = df['target'].apply(lambda x: 20 if x==1 else 0)\n",
        "        four_pct_cutoff = int(0.04 * df['weight'].sum())\n",
        "        df['weight_cumsum'] = df['weight'].cumsum()\n",
        "        df_cutoff = df.loc[df['weight_cumsum'] <= four_pct_cutoff]\n",
        "        return (df_cutoff['target'] == 1).sum() / (df['target'] == 1).sum()\n",
        "\n",
        "    def weighted_gini(y_true: pd.DataFrame, y_pred: pd.DataFrame) -> float:\n",
        "        df = (pd.concat([y_true, y_pred], axis='columns')\n",
        "              .sort_values('prediction', ascending=False))\n",
        "        df['weight'] = df['target'].apply(lambda x: 20 if x==1 else 0)\n",
        "        df['random'] = (df['weight'] / df['weight'].sum()).cumsum()\n",
        "        total_pos = (df['target'] * df['weight']).sum()\n",
        "        df['cum_pos_found'] = (df['target'] * df['weight']).cumsum()\n",
        "        df['lorentz'] = df['cum_pos_found'] / total_pos\n",
        "        df['gini'] = (df['lorentz'] - df['random']) * df['weight']\n",
        "        return df['gini'].sum()\n",
        "\n",
        "    def normalized_weighted_gini(y_true: pd.DataFrame, y_pred: pd.DataFrame) -> float:\n",
        "        y_true_pred = y_true.rename(columns={'target': 'prediction'})\n",
        "        return weighted_gini(y_true, y_pred) / weighted_gini(y_true, y_true_pred)\n",
        "\n",
        "    g = normalized_weighted_gini(y_true, y_pred)\n",
        "    d = top_four_percent_captured(y_true, y_pred)\n",
        "    return 0.5 * (g + d)"
      ],
      "metadata": {
        "id": "TV1rD_KWK_-g"
      },
      "execution_count": null,
      "outputs": []
    },
    {
      "cell_type": "code",
      "source": [],
      "metadata": {
        "id": "COINO8orvs6N"
      },
      "execution_count": null,
      "outputs": []
    },
    {
      "cell_type": "markdown",
      "source": [
        "#### Random Model"
      ],
      "metadata": {
        "id": "c6xtm6jYvtUj"
      }
    },
    {
      "cell_type": "code",
      "source": [
        "\n",
        "import numpy as np\n",
        "import pandas as pd\n",
        "from sklearn.metrics import accuracy_score\n",
        "\n",
        "class RandomModel:\n",
        "    def __init__(self):\n",
        "        pass\n",
        "\n",
        "    def fit(self, X, y):\n",
        "        # No training needed for a random model\n",
        "        pass\n",
        "\n",
        "    def predict(self, X):\n",
        "        # Predict random probabilities between 0 and 1\n",
        "        return np.random.rand(len(X))\n",
        "\n",
        "    def predict_proba(self, X):\n",
        "      # Predict random probabilities between 0 and 1\n",
        "      return np.random.rand(len(X),2)\n",
        "\n",
        "\n",
        "# Initialize and train the random model\n",
        "random_model = RandomModel()\n",
        "random_model.fit(X_train, y_train)\n",
        "\n",
        "# Make predictions\n",
        "y_pred_prob = random_model.predict(X_test)\n",
        "y_pred = (y_pred_prob > 0.5).astype(int) # Convert probabilities to binary predictions\n",
        "\n",
        "\n",
        "# Evaluate the model\n",
        "accuracy = accuracy_score(y_test, y_pred)\n",
        "print(f\"Accuracy: {accuracy}\")\n",
        "\n",
        "# Create DataFrames for the amex_metric function\n",
        "y_true_df = pd.DataFrame({'target': y_test})\n",
        "y_pred_df = pd.DataFrame({'prediction': y_pred_prob})\n",
        "\n",
        "y_pred_binary = (y_pred_prob > 0.5).astype(int)\n",
        "\n",
        "# Calculate the Amex metric\n",
        "amex = amex_metric(y_true_df, y_pred_df)\n",
        "# print(f\"Amex Metric: {amex}\")\n",
        "\n",
        "from sklearn.metrics import classification_report, roc_auc_score, confusion_matrix\n",
        "\n",
        "# Classification report (Precision, Recall, F1-Score)\n",
        "print(\"Classification Report:\")\n",
        "print(classification_report(y_true_df, y_pred_binary))\n",
        "\n",
        "# Confusion Matrix\n",
        "print(\"Confusion Matrix:\")\n",
        "print(confusion_matrix(y_true_df, y_pred_binary))\n",
        "\n",
        "# ROC-AUC Score\n",
        "roc_auc = roc_auc_score(y_true_df, y_pred)\n",
        "print(f\"ROC-AUC Score: {roc_auc:.4f}\")\n"
      ],
      "metadata": {
        "colab": {
          "base_uri": "https://localhost:8080/"
        },
        "id": "QwW3GpU4vt1U",
        "outputId": "02ab0ba6-99e2-4e32-ca51-77b9aa0125f4"
      },
      "execution_count": null,
      "outputs": [
        {
          "output_type": "stream",
          "name": "stdout",
          "text": [
            "Accuracy: 0.501039501039501\n",
            "Classification Report:\n",
            "              precision    recall  f1-score   support\n",
            "\n",
            "           0       0.76      0.50      0.60      8349\n",
            "           1       0.25      0.51      0.33      2714\n",
            "\n",
            "    accuracy                           0.50     11063\n",
            "   macro avg       0.50      0.50      0.47     11063\n",
            "weighted avg       0.63      0.50      0.54     11063\n",
            "\n",
            "Confusion Matrix:\n",
            "[[4167 4182]\n",
            " [1338 1376]]\n",
            "ROC-AUC Score: 0.5031\n"
          ]
        }
      ]
    },
    {
      "cell_type": "code",
      "source": [],
      "metadata": {
        "id": "SiUwuREp5Isp"
      },
      "execution_count": null,
      "outputs": []
    },
    {
      "cell_type": "markdown",
      "source": [
        "#### Logistic Regression"
      ],
      "metadata": {
        "id": "mTM5ziWa5OTK"
      }
    },
    {
      "cell_type": "code",
      "source": [
        "# Initialize and train the logistic regression model\n",
        "log_reg_model = LogisticRegression(max_iter=1000)  # Increased max_iter\n",
        "log_reg_model.fit(X_train, y_train)\n",
        "\n",
        "# Make predictions\n",
        "y_pred_prob = log_reg_model.predict_proba(X_test)[:, 1] # Predict probabilities for the positive class\n",
        "y_pred = (y_pred_prob > 0.3).astype(int) # Convert probabilities to binary predictions\n",
        "\n",
        "\n",
        "# Evaluate the model\n",
        "accuracy = accuracy_score(y_test, y_pred)\n",
        "print(f\"Accuracy: {accuracy}\")\n",
        "\n",
        "# Create DataFrames for the amex_metric function\n",
        "y_true_df = pd.DataFrame({'target': y_test})\n",
        "y_pred_df = pd.DataFrame({'prediction': y_pred_prob})\n",
        "\n",
        "\n",
        "# Classification report (Precision, Recall, F1-Score)\n",
        "print(\"Classification Report:\")\n",
        "print(classification_report(y_true_df, y_pred))\n",
        "\n",
        "# Confusion Matrix\n",
        "print(\"Confusion Matrix:\")\n",
        "print(confusion_matrix(y_true_df, y_pred))\n",
        "\n",
        "# ROC-AUC Score\n",
        "roc_auc = roc_auc_score(y_true_df, y_pred_prob)\n",
        "print(f\"ROC-AUC Score: {roc_auc:.4f}\")"
      ],
      "metadata": {
        "colab": {
          "base_uri": "https://localhost:8080/"
        },
        "id": "IN6SdQGw5i7r",
        "outputId": "eec1be8e-1b9d-49d6-ba0e-0ea6649e123d"
      },
      "execution_count": null,
      "outputs": [
        {
          "output_type": "stream",
          "name": "stdout",
          "text": [
            "Accuracy: 0.8202115158636898\n",
            "Classification Report:\n",
            "              precision    recall  f1-score   support\n",
            "\n",
            "           0       0.97      0.79      0.87      8349\n",
            "           1       0.59      0.91      0.71      2714\n",
            "\n",
            "    accuracy                           0.82     11063\n",
            "   macro avg       0.78      0.85      0.79     11063\n",
            "weighted avg       0.87      0.82      0.83     11063\n",
            "\n",
            "Confusion Matrix:\n",
            "[[6591 1758]\n",
            " [ 231 2483]]\n",
            "ROC-AUC Score: 0.9166\n"
          ]
        }
      ]
    },
    {
      "cell_type": "markdown",
      "source": [
        "#### SVM"
      ],
      "metadata": {
        "id": "oBZBHq8WLOVH"
      }
    },
    {
      "cell_type": "code",
      "source": [
        "from sklearn.svm import SVC\n",
        "from sklearn.metrics import accuracy_score, classification_report, confusion_matrix, roc_auc_score\n",
        "\n",
        "# Initialize and train the SVM model\n",
        "svm_model = SVC(probability=True) # Enable probability estimates for ROC-AUC\n",
        "svm_model.fit(X_train, y_train)\n",
        "\n",
        "# Make predictions\n",
        "y_pred_prob = svm_model.predict_proba(X_test)[:, 1]\n",
        "y_pred = (y_pred_prob > 0.5).astype(int)\n",
        "\n",
        "# Evaluate the model\n",
        "accuracy = accuracy_score(y_test, y_pred)\n",
        "print(f\"Accuracy: {accuracy}\")\n",
        "\n",
        "# Create DataFrames for the amex_metric function (if needed)\n",
        "y_true_df = pd.DataFrame({'target': y_test})\n",
        "y_pred_df = pd.DataFrame({'prediction': y_pred_prob})\n",
        "\n",
        "# Calculate the Amex metric (if needed)\n",
        "# amex = amex_metric(y_true_df, y_pred_df)\n",
        "# print(f\"Amex Metric: {amex}\")\n",
        "\n",
        "# Classification report (Precision, Recall, F1-Score)\n",
        "print(\"Classification Report:\")\n",
        "print(classification_report(y_true_df, y_pred))\n",
        "\n",
        "# Confusion Matrix\n",
        "print(\"Confusion Matrix:\")\n",
        "print(confusion_matrix(y_true_df, y_pred))\n",
        "\n",
        "# ROC-AUC Score\n",
        "roc_auc = roc_auc_score(y_true_df, y_pred_prob)\n",
        "print(f\"ROC-AUC Score: {roc_auc:.4f}\")"
      ],
      "metadata": {
        "colab": {
          "base_uri": "https://localhost:8080/"
        },
        "id": "SyUl67CyG-la",
        "outputId": "ad13dba5-6aa0-4ac6-c0d6-d311fc622613"
      },
      "execution_count": null,
      "outputs": [
        {
          "output_type": "stream",
          "name": "stdout",
          "text": [
            "Accuracy: 0.24532224532224534\n",
            "Classification Report:\n",
            "              precision    recall  f1-score   support\n",
            "\n",
            "           0       0.00      0.00      0.00      8349\n",
            "           1       0.25      1.00      0.39      2714\n",
            "\n",
            "    accuracy                           0.25     11063\n",
            "   macro avg       0.12      0.50      0.20     11063\n",
            "weighted avg       0.06      0.25      0.10     11063\n",
            "\n",
            "Confusion Matrix:\n",
            "[[   0 8349]\n",
            " [   0 2714]]\n",
            "ROC-AUC Score: 0.9187\n"
          ]
        }
      ]
    },
    {
      "cell_type": "markdown",
      "source": [
        "#### Random Forest classifier"
      ],
      "metadata": {
        "id": "lHYr4G_dKu4L"
      }
    },
    {
      "cell_type": "code",
      "source": [
        "import pandas as pd\n",
        "from sklearn.ensemble import RandomForestClassifier\n",
        "from sklearn.model_selection import train_test_split\n",
        "from sklearn.metrics import accuracy_score\n",
        "from imblearn.over_sampling import SMOTE\n",
        "from sklearn.preprocessing import StandardScaler\n",
        "\n",
        "\n",
        "# Oversample the minority class using SMOTE\n",
        "smote = SMOTE(sampling_strategy='auto', random_state=42)\n",
        "X_train_res, y_train_res = smote.fit_resample(X_train, y_train)\n",
        "\n",
        "# Feature Scaling (Optional but recommended for some models)\n",
        "scaler = StandardScaler()\n",
        "X_train_res = scaler.fit_transform(X_train_res)\n",
        "X_test = scaler.transform(X_test)\n",
        "\n",
        "# Train a Random Forest Classifier\n",
        "rf_model = RandomForestClassifier(n_estimators=100, max_depth=10, random_state=42, n_jobs=-1)\n",
        "rf_model.fit(X_train_res, y_train_res)\n",
        "\n",
        "# Predictions\n",
        "y_pred_rf = rf_model.predict_proba(X_test)[:, 1]\n",
        "\n",
        "# Convert y_test and y_pred_rf to DataFrames for amex_metric calculation\n",
        "y_test_df = pd.DataFrame(y_test, columns=['target'])\n",
        "y_pred = pd.DataFrame(y_pred_rf, columns=['prediction'])\n",
        "\n",
        "y_pred_binary = (y_pred_prob > 0.3).astype(int)\n",
        "\n",
        "# Classification report (Precision, Recall, F1-Score)\n",
        "print(\"Classification Report:\")\n",
        "print(classification_report(y_test_df, y_pred_binary))\n",
        "\n",
        "# Confusion Matrix\n",
        "print(\"Confusion Matrix:\")\n",
        "print(confusion_matrix(y_test_df, y_pred_binary))\n",
        "\n",
        "# ROC-AUC Score\n",
        "roc_auc = roc_auc_score(y_test_df, y_pred)\n",
        "print(f\"ROC-AUC Score: {roc_auc:.4f}\")\n"
      ],
      "metadata": {
        "id": "EBPcvD5OL-nk",
        "colab": {
          "base_uri": "https://localhost:8080/"
        },
        "outputId": "f20dde9c-4f4a-459f-ab8c-168ffb8c0ca1"
      },
      "execution_count": null,
      "outputs": [
        {
          "output_type": "stream",
          "name": "stdout",
          "text": [
            "Classification Report:\n",
            "              precision    recall  f1-score   support\n",
            "\n",
            "           0       0.97      0.81      0.88      8349\n",
            "           1       0.60      0.91      0.73      2714\n",
            "\n",
            "    accuracy                           0.83     11063\n",
            "   macro avg       0.78      0.86      0.80     11063\n",
            "weighted avg       0.88      0.83      0.84     11063\n",
            "\n",
            "Confusion Matrix:\n",
            "[[6733 1616]\n",
            " [ 244 2470]]\n",
            "ROC-AUC Score: 0.8810\n"
          ]
        }
      ]
    },
    {
      "cell_type": "code",
      "source": [],
      "metadata": {
        "id": "dy0lZwXhnlCD"
      },
      "execution_count": null,
      "outputs": []
    },
    {
      "cell_type": "markdown",
      "source": [
        "#### Random Forest classifier stratified k fold"
      ],
      "metadata": {
        "id": "_6XU9vpsNWps"
      }
    },
    {
      "cell_type": "code",
      "source": [
        "from sklearn.model_selection import StratifiedKFold\n",
        "from sklearn.metrics import accuracy_score, classification_report, confusion_matrix, roc_auc_score\n",
        "from sklearn.ensemble import RandomForestClassifier\n",
        "import numpy as np\n",
        "import pandas as pd\n",
        "\n",
        "# Assuming X_train, y_train, X_test, y_test are defined as in your original code\n",
        "\n",
        "# Initialize StratifiedKFold\n",
        "skf = StratifiedKFold(n_splits=5, shuffle=True, random_state=42)  # Adjust n_splits as needed\n",
        "\n",
        "# Initialize lists to store results\n",
        "accuracy_scores = []\n",
        "roc_auc_scores = []\n",
        "classification_reports = []\n",
        "confusion_matrices = []\n",
        "\n",
        "# Loop through each fold\n",
        "for fold, (train_index, val_index) in enumerate(skf.split(X_train, y_train)):\n",
        "    print(f\"Fold {fold + 1}\")\n",
        "\n",
        "    X_train_fold, X_val_fold = X_train.iloc[train_index], X_train.iloc[val_index]\n",
        "    y_train_fold, y_val_fold = y_train.iloc[train_index], y_train.iloc[val_index]\n",
        "\n",
        "    # Initialize and train the Random Forest model for the current fold\n",
        "    rf_model = RandomForestClassifier(n_estimators=100, max_depth=10, random_state=42, n_jobs=-1)\n",
        "    rf_model.fit(X_train_fold, y_train_fold)\n",
        "\n",
        "    # Make predictions on the validation set\n",
        "    y_pred_fold = rf_model.predict_proba(X_val_fold)[:, 1]\n",
        "    y_pred_binary_fold = (y_pred_fold > 0.3).astype(int)\n",
        "\n",
        "\n",
        "    # Evaluate the model for the current fold\n",
        "    accuracy = accuracy_score(y_val_fold, y_pred_binary_fold)\n",
        "    accuracy_scores.append(accuracy)\n",
        "\n",
        "    roc_auc = roc_auc_score(y_val_fold, y_pred_fold)\n",
        "    roc_auc_scores.append(roc_auc)\n",
        "\n",
        "    classification_reports.append(classification_report(y_val_fold, y_pred_binary_fold))\n",
        "    confusion_matrices.append(confusion_matrix(y_val_fold, y_pred_binary_fold))\n",
        "\n",
        "\n",
        "# Print the overall results\n",
        "print(f\"\\nAverage Accuracy: {np.mean(accuracy_scores)}\")\n",
        "print(f\"Average ROC-AUC Score: {np.mean(roc_auc_scores)}\")\n",
        "print(\"Overall Classification Report:\")\n",
        "print(classification_report(y_test, y_pred_binary))\n",
        "print(\"Overall Confusion Matrix:\")\n",
        "print(confusion_matrix(y_test, y_pred_binary))\n",
        "\n",
        "# Print or process classification reports and confusion matrices as needed.\n",
        "# Example: print the classification reports from each fold\n",
        "for i, report in enumerate(classification_reports):\n",
        "    print(f\"Classification Report for Fold {i+1}:\\n{report}\")\n",
        "\n",
        "# Similarly for confusion matrices\n",
        "for i, cm in enumerate(confusion_matrices):\n",
        "    print(f\"Confusion Matrix for Fold {i+1}:\\n{cm}\")\n",
        "\n"
      ],
      "metadata": {
        "colab": {
          "base_uri": "https://localhost:8080/"
        },
        "id": "SX0LZL5QNUJj",
        "outputId": "7ad63554-1a00-4c44-e4ef-0f17b89c3193"
      },
      "execution_count": null,
      "outputs": [
        {
          "output_type": "stream",
          "name": "stdout",
          "text": [
            "Fold 1\n",
            "Fold 2\n",
            "Fold 3\n",
            "Fold 4\n",
            "Fold 5\n",
            "\n",
            "Average Accuracy: 0.844052106851216\n",
            "Average ROC-AUC Score: 0.9250566872819626\n",
            "Overall Classification Report:\n",
            "              precision    recall  f1-score   support\n",
            "\n",
            "           0       0.97      0.81      0.88      8349\n",
            "           1       0.60      0.91      0.73      2714\n",
            "\n",
            "    accuracy                           0.83     11063\n",
            "   macro avg       0.78      0.86      0.80     11063\n",
            "weighted avg       0.88      0.83      0.84     11063\n",
            "\n",
            "Overall Confusion Matrix:\n",
            "[[6733 1616]\n",
            " [ 244 2470]]\n",
            "Classification Report for Fold 1:\n",
            "              precision    recall  f1-score   support\n",
            "\n",
            "           0       0.96      0.82      0.89      6691\n",
            "           1       0.62      0.89      0.73      2160\n",
            "\n",
            "    accuracy                           0.84      8851\n",
            "   macro avg       0.79      0.86      0.81      8851\n",
            "weighted avg       0.88      0.84      0.85      8851\n",
            "\n",
            "Classification Report for Fold 2:\n",
            "              precision    recall  f1-score   support\n",
            "\n",
            "           0       0.96      0.84      0.90      6690\n",
            "           1       0.65      0.88      0.75      2161\n",
            "\n",
            "    accuracy                           0.85      8851\n",
            "   macro avg       0.80      0.86      0.82      8851\n",
            "weighted avg       0.88      0.85      0.86      8851\n",
            "\n",
            "Classification Report for Fold 3:\n",
            "              precision    recall  f1-score   support\n",
            "\n",
            "           0       0.95      0.83      0.89      6690\n",
            "           1       0.63      0.87      0.73      2160\n",
            "\n",
            "    accuracy                           0.84      8850\n",
            "   macro avg       0.79      0.85      0.81      8850\n",
            "weighted avg       0.87      0.84      0.85      8850\n",
            "\n",
            "Classification Report for Fold 4:\n",
            "              precision    recall  f1-score   support\n",
            "\n",
            "           0       0.96      0.83      0.89      6690\n",
            "           1       0.63      0.88      0.73      2160\n",
            "\n",
            "    accuracy                           0.84      8850\n",
            "   macro avg       0.79      0.86      0.81      8850\n",
            "weighted avg       0.88      0.84      0.85      8850\n",
            "\n",
            "Classification Report for Fold 5:\n",
            "              precision    recall  f1-score   support\n",
            "\n",
            "           0       0.95      0.83      0.89      6690\n",
            "           1       0.62      0.86      0.72      2160\n",
            "\n",
            "    accuracy                           0.84      8850\n",
            "   macro avg       0.79      0.85      0.81      8850\n",
            "weighted avg       0.87      0.84      0.85      8850\n",
            "\n",
            "Confusion Matrix for Fold 1:\n",
            "[[5510 1181]\n",
            " [ 234 1926]]\n",
            "Confusion Matrix for Fold 2:\n",
            "[[5650 1040]\n",
            " [ 251 1910]]\n",
            "Confusion Matrix for Fold 3:\n",
            "[[5585 1105]\n",
            " [ 281 1879]]\n",
            "Confusion Matrix for Fold 4:\n",
            "[[5554 1136]\n",
            " [ 250 1910]]\n",
            "Confusion Matrix for Fold 5:\n",
            "[[5564 1126]\n",
            " [ 297 1863]]\n"
          ]
        }
      ]
    },
    {
      "cell_type": "markdown",
      "source": [
        "#### Xgboost"
      ],
      "metadata": {
        "id": "BzpmXBJk-8Ia"
      }
    },
    {
      "cell_type": "code",
      "source": [
        "import xgboost as xgb\n",
        "from sklearn.metrics import accuracy_score, classification_report, roc_auc_score, confusion_matrix\n",
        "from sklearn.model_selection import train_test_split\n",
        "from sklearn.metrics import precision_recall_curve\n",
        "from imblearn.over_sampling import SMOTE\n",
        "import numpy as np\n",
        "\n",
        "# Resample training data using SMOTE\n",
        "smote = SMOTE(random_state=42)\n",
        "X_train_resampled, y_train_resampled = smote.fit_resample(X_train, y_train)\n",
        "\n",
        "feature_names = X_train_resampled.columns.tolist()\n",
        "\n",
        "# Split for early stopping\n",
        "X_train_split, X_val, y_train_split, y_val = train_test_split(X_train_resampled, y_train_resampled, test_size=0.2, random_state=42)\n",
        "\n",
        "dtrain = xgb.DMatrix(X_train_split, label=y_train_split, feature_names=feature_names)\n",
        "dval = xgb.DMatrix(X_val, label=y_val, feature_names=feature_names)\n",
        "dtest = xgb.DMatrix(X_test, label=y_test, feature_names=feature_names)\n",
        "\n",
        "params = {\n",
        "    'objective': 'binary:logistic',\n",
        "    'eval_metric': 'logloss',\n",
        "    'max_depth': 6,\n",
        "    'eta': 0.05,\n",
        "    'subsample': 0.8,\n",
        "    'colsample_bytree': 0.8,\n",
        "    'scale_pos_weight': 3,\n",
        "    'nthread': -1,\n",
        "    'seed': 42,\n",
        "    'gamma': 0.5,\n",
        "}\n",
        "\n",
        "# Train with early stopping\n",
        "watchlist = [(dtrain, 'train'), (dval, 'validation')]\n",
        "model = xgb.train(params, dtrain, num_boost_round=2000, evals=watchlist,\n",
        "                  early_stopping_rounds=50, verbose_eval=10)\n",
        "\n",
        "# Predictions\n",
        "y_pred_proba = model.predict(dtest)\n",
        "\n",
        "# Threshold tuning\n",
        "precision, recall, thresholds = precision_recall_curve(y_test, y_pred_proba)\n",
        "f1_scores = 2 * (precision * recall) / (precision + recall)\n",
        "# optimal_threshold = thresholds[np.argmax(f1_scores)]\n",
        "\n",
        "y_pred_binary = (y_pred_proba > 0.3).astype(int)\n",
        "\n",
        "# Evaluate\n",
        "accuracy = accuracy_score(y_test, y_pred_binary)\n",
        "roc_auc = roc_auc_score(y_test, y_pred_proba)\n",
        "print(f\"Accuracy: {accuracy}\")\n",
        "print(f\"ROC-AUC Score: {roc_auc}\")\n",
        "print(\"Classification Report:\")\n",
        "print(classification_report(y_test, y_pred_binary))\n",
        "print(\"Confusion Matrix:\")\n",
        "print(confusion_matrix(y_test, y_pred_binary))\n"
      ],
      "metadata": {
        "colab": {
          "base_uri": "https://localhost:8080/"
        },
        "id": "6VHtfZiS-7Om",
        "outputId": "1d0917fc-71b2-4d35-af76-e376f11903fc"
      },
      "execution_count": null,
      "outputs": [
        {
          "output_type": "stream",
          "name": "stdout",
          "text": [
            "[0]\ttrain-logloss:0.76665\tvalidation-logloss:0.77010\n",
            "[10]\ttrain-logloss:0.52050\tvalidation-logloss:0.52350\n",
            "[20]\ttrain-logloss:0.41661\tvalidation-logloss:0.42066\n",
            "[30]\ttrain-logloss:0.35836\tvalidation-logloss:0.36407\n",
            "[40]\ttrain-logloss:0.32082\tvalidation-logloss:0.32833\n",
            "[50]\ttrain-logloss:0.29443\tvalidation-logloss:0.30411\n",
            "[60]\ttrain-logloss:0.27623\tvalidation-logloss:0.28884\n",
            "[70]\ttrain-logloss:0.26080\tvalidation-logloss:0.27593\n",
            "[80]\ttrain-logloss:0.24873\tvalidation-logloss:0.26668\n",
            "[90]\ttrain-logloss:0.23855\tvalidation-logloss:0.25921\n",
            "[100]\ttrain-logloss:0.23059\tvalidation-logloss:0.25368\n",
            "[110]\ttrain-logloss:0.22230\tvalidation-logloss:0.24842\n",
            "[120]\ttrain-logloss:0.21556\tvalidation-logloss:0.24463\n",
            "[130]\ttrain-logloss:0.20950\tvalidation-logloss:0.24151\n",
            "[140]\ttrain-logloss:0.20415\tvalidation-logloss:0.23853\n",
            "[150]\ttrain-logloss:0.19851\tvalidation-logloss:0.23588\n",
            "[160]\ttrain-logloss:0.19416\tvalidation-logloss:0.23436\n",
            "[170]\ttrain-logloss:0.18943\tvalidation-logloss:0.23232\n",
            "[180]\ttrain-logloss:0.18514\tvalidation-logloss:0.23065\n",
            "[190]\ttrain-logloss:0.18105\tvalidation-logloss:0.22915\n",
            "[200]\ttrain-logloss:0.17765\tvalidation-logloss:0.22780\n",
            "[210]\ttrain-logloss:0.17429\tvalidation-logloss:0.22683\n",
            "[220]\ttrain-logloss:0.17081\tvalidation-logloss:0.22566\n",
            "[230]\ttrain-logloss:0.16729\tvalidation-logloss:0.22456\n",
            "[240]\ttrain-logloss:0.16387\tvalidation-logloss:0.22376\n",
            "[250]\ttrain-logloss:0.16047\tvalidation-logloss:0.22272\n",
            "[260]\ttrain-logloss:0.15765\tvalidation-logloss:0.22192\n",
            "[270]\ttrain-logloss:0.15456\tvalidation-logloss:0.22089\n",
            "[280]\ttrain-logloss:0.15206\tvalidation-logloss:0.22020\n",
            "[290]\ttrain-logloss:0.14908\tvalidation-logloss:0.21944\n",
            "[300]\ttrain-logloss:0.14632\tvalidation-logloss:0.21868\n",
            "[310]\ttrain-logloss:0.14390\tvalidation-logloss:0.21808\n",
            "[320]\ttrain-logloss:0.14115\tvalidation-logloss:0.21718\n",
            "[330]\ttrain-logloss:0.13884\tvalidation-logloss:0.21679\n",
            "[340]\ttrain-logloss:0.13645\tvalidation-logloss:0.21626\n",
            "[350]\ttrain-logloss:0.13446\tvalidation-logloss:0.21584\n",
            "[360]\ttrain-logloss:0.13215\tvalidation-logloss:0.21534\n",
            "[370]\ttrain-logloss:0.13016\tvalidation-logloss:0.21467\n",
            "[380]\ttrain-logloss:0.12763\tvalidation-logloss:0.21404\n",
            "[390]\ttrain-logloss:0.12542\tvalidation-logloss:0.21337\n",
            "[400]\ttrain-logloss:0.12326\tvalidation-logloss:0.21287\n",
            "[410]\ttrain-logloss:0.12106\tvalidation-logloss:0.21235\n",
            "[420]\ttrain-logloss:0.11882\tvalidation-logloss:0.21190\n",
            "[430]\ttrain-logloss:0.11710\tvalidation-logloss:0.21154\n",
            "[440]\ttrain-logloss:0.11520\tvalidation-logloss:0.21109\n",
            "[450]\ttrain-logloss:0.11315\tvalidation-logloss:0.21079\n",
            "[460]\ttrain-logloss:0.11145\tvalidation-logloss:0.21048\n",
            "[470]\ttrain-logloss:0.10966\tvalidation-logloss:0.21020\n",
            "[480]\ttrain-logloss:0.10760\tvalidation-logloss:0.20977\n",
            "[490]\ttrain-logloss:0.10594\tvalidation-logloss:0.20939\n",
            "[500]\ttrain-logloss:0.10431\tvalidation-logloss:0.20913\n",
            "[510]\ttrain-logloss:0.10277\tvalidation-logloss:0.20918\n",
            "[520]\ttrain-logloss:0.10126\tvalidation-logloss:0.20890\n",
            "[530]\ttrain-logloss:0.09948\tvalidation-logloss:0.20834\n",
            "[540]\ttrain-logloss:0.09793\tvalidation-logloss:0.20794\n",
            "[550]\ttrain-logloss:0.09655\tvalidation-logloss:0.20765\n",
            "[560]\ttrain-logloss:0.09504\tvalidation-logloss:0.20724\n",
            "[570]\ttrain-logloss:0.09370\tvalidation-logloss:0.20681\n",
            "[580]\ttrain-logloss:0.09221\tvalidation-logloss:0.20669\n",
            "[590]\ttrain-logloss:0.09065\tvalidation-logloss:0.20653\n",
            "[600]\ttrain-logloss:0.08909\tvalidation-logloss:0.20628\n",
            "[610]\ttrain-logloss:0.08760\tvalidation-logloss:0.20614\n",
            "[620]\ttrain-logloss:0.08634\tvalidation-logloss:0.20577\n",
            "[630]\ttrain-logloss:0.08515\tvalidation-logloss:0.20578\n",
            "[640]\ttrain-logloss:0.08377\tvalidation-logloss:0.20571\n",
            "[650]\ttrain-logloss:0.08240\tvalidation-logloss:0.20565\n",
            "[660]\ttrain-logloss:0.08129\tvalidation-logloss:0.20548\n",
            "[670]\ttrain-logloss:0.07991\tvalidation-logloss:0.20534\n",
            "[680]\ttrain-logloss:0.07865\tvalidation-logloss:0.20516\n",
            "[690]\ttrain-logloss:0.07738\tvalidation-logloss:0.20481\n",
            "[700]\ttrain-logloss:0.07627\tvalidation-logloss:0.20467\n",
            "[710]\ttrain-logloss:0.07495\tvalidation-logloss:0.20447\n",
            "[720]\ttrain-logloss:0.07389\tvalidation-logloss:0.20428\n",
            "[730]\ttrain-logloss:0.07275\tvalidation-logloss:0.20414\n",
            "[740]\ttrain-logloss:0.07155\tvalidation-logloss:0.20412\n",
            "[750]\ttrain-logloss:0.07041\tvalidation-logloss:0.20399\n",
            "[760]\ttrain-logloss:0.06934\tvalidation-logloss:0.20406\n",
            "[770]\ttrain-logloss:0.06829\tvalidation-logloss:0.20378\n",
            "[780]\ttrain-logloss:0.06720\tvalidation-logloss:0.20359\n",
            "[790]\ttrain-logloss:0.06617\tvalidation-logloss:0.20346\n",
            "[800]\ttrain-logloss:0.06524\tvalidation-logloss:0.20348\n",
            "[810]\ttrain-logloss:0.06441\tvalidation-logloss:0.20339\n",
            "[820]\ttrain-logloss:0.06333\tvalidation-logloss:0.20309\n",
            "[830]\ttrain-logloss:0.06244\tvalidation-logloss:0.20313\n",
            "[840]\ttrain-logloss:0.06149\tvalidation-logloss:0.20316\n",
            "[850]\ttrain-logloss:0.06042\tvalidation-logloss:0.20310\n",
            "[860]\ttrain-logloss:0.05931\tvalidation-logloss:0.20304\n",
            "[870]\ttrain-logloss:0.05825\tvalidation-logloss:0.20299\n",
            "[880]\ttrain-logloss:0.05736\tvalidation-logloss:0.20273\n",
            "[890]\ttrain-logloss:0.05629\tvalidation-logloss:0.20257\n",
            "[900]\ttrain-logloss:0.05538\tvalidation-logloss:0.20244\n",
            "[910]\ttrain-logloss:0.05458\tvalidation-logloss:0.20249\n",
            "[920]\ttrain-logloss:0.05366\tvalidation-logloss:0.20249\n",
            "[930]\ttrain-logloss:0.05288\tvalidation-logloss:0.20250\n",
            "[940]\ttrain-logloss:0.05207\tvalidation-logloss:0.20244\n",
            "[945]\ttrain-logloss:0.05174\tvalidation-logloss:0.20256\n",
            "Accuracy: 0.8122570731266383\n",
            "ROC-AUC Score: 0.8556969125016229\n",
            "Classification Report:\n",
            "              precision    recall  f1-score   support\n",
            "\n",
            "           0       0.86      0.90      0.88      8349\n",
            "           1       0.64      0.54      0.59      2714\n",
            "\n",
            "    accuracy                           0.81     11063\n",
            "   macro avg       0.75      0.72      0.73     11063\n",
            "weighted avg       0.80      0.81      0.81     11063\n",
            "\n",
            "Confusion Matrix:\n",
            "[[7512  837]\n",
            " [1240 1474]]\n"
          ]
        }
      ]
    },
    {
      "cell_type": "markdown",
      "source": [
        "#### XGboost with hyperparameter tuining"
      ],
      "metadata": {
        "id": "04hcBtJ8XQxs"
      }
    },
    {
      "cell_type": "code",
      "source": [
        "import xgboost as xgb\n",
        "from sklearn.model_selection import GridSearchCV\n",
        "from sklearn.metrics import make_scorer, precision_score, recall_score, f1_score, precision_recall_curve\n",
        "\n",
        "\n",
        "# Define the parameter grid for hyperparameter tuning\n",
        "param_grid = {\n",
        "    'max_depth': [3, 5, 7],\n",
        "    'learning_rate': [0.01, 0.1, 0.3],\n",
        "    'n_estimators': [50, 100, 200],\n",
        "    'subsample': [0.8, 0.9, 1.0],\n",
        "    'colsample_bytree': [0.8, 0.9, 1.0],\n",
        "    'gamma': [0, 0.1, 0.5],\n",
        "    'scale_pos_weight': [1, 3, 5]\n",
        "}\n",
        "\n",
        "# Define the scoring metric (in this case, F1-score)\n",
        "scoring = {\n",
        "    'precision': make_scorer(precision_score),\n",
        "    'recall': make_scorer(recall_score),\n",
        "    'f1': make_scorer(f1_score),\n",
        "}\n",
        "\n",
        "\n",
        "# Initialize the XGBoost classifier\n",
        "xgb_model = xgb.XGBClassifier(objective='binary:logistic', eval_metric='logloss', seed=42, use_label_encoder=False)\n",
        "\n",
        "# Perform GridSearchCV\n",
        "grid_search = GridSearchCV(estimator=xgb_model, param_grid=param_grid, scoring=scoring, refit='f1', cv=3, n_jobs=-1, verbose=2)\n",
        "grid_search.fit(X_train_resampled, y_train_resampled)\n",
        "\n",
        "\n",
        "# Get the best hyperparameters and best score\n",
        "best_params = grid_search.best_params_\n",
        "best_f1_score = grid_search.best_score_\n",
        "best_precision = grid_search.cv_results_['mean_test_precision'][grid_search.best_index_]\n",
        "best_recall = grid_search.cv_results_['mean_test_recall'][grid_search.best_index_]\n",
        "print(f\"Best Hyperparameters: {best_params}\")\n",
        "print(f\"Best F1-score: {best_f1_score}\")\n",
        "print(f\"Best Precision: {best_precision}\")\n",
        "print(f\"Best Recall: {best_recall}\")\n",
        "\n",
        "# Train the model with the best hyperparameters\n",
        "best_xgb_model = xgb.XGBClassifier(**best_params, objective='binary:logistic', eval_metric='logloss', seed=42, use_label_encoder=False)\n",
        "best_xgb_model.fit(X_train_resampled, y_train_resampled)\n",
        "\n",
        "\n",
        "# Predict probabilities on the test set\n",
        "y_pred_proba = best_xgb_model.predict_proba(X_test)[:, 1]\n",
        "\n",
        "\n",
        "#Find the optimal threshold\n",
        "precision, recall, thresholds = precision_recall_curve(y_test, y_pred_proba)\n",
        "f1_scores = 2 * (precision * recall) / (precision + recall)\n",
        "optimal_threshold = thresholds[np.argmax(f1_scores)]\n",
        "\n",
        "\n",
        "# Make predictions with the optimal threshold\n",
        "y_pred_binary = (y_pred_proba >= optimal_threshold).astype(int)\n",
        "\n",
        "# Evaluate with the optimal threshold\n",
        "accuracy = accuracy_score(y_test, y_pred_binary)\n",
        "roc_auc = roc_auc_score(y_test, y_pred_proba)\n",
        "print(f\"Accuracy: {accuracy}\")\n",
        "print(f\"ROC-AUC Score: {roc_auc}\")\n",
        "print(\"Classification Report:\")\n",
        "print(classification_report(y_test, y_pred_binary))\n",
        "print(\"Confusion Matrix:\")\n",
        "print(confusion_matrix(y_test, y_pred_binary))"
      ],
      "metadata": {
        "id": "CCyswpgGXPyZ"
      },
      "execution_count": null,
      "outputs": []
    },
    {
      "cell_type": "markdown",
      "source": [
        "#### Xgboost with some tuned parameters"
      ],
      "metadata": {
        "id": "pJVbo0RQQOjt"
      }
    },
    {
      "cell_type": "code",
      "source": [
        "import xgboost as xgb\n",
        "from sklearn.metrics import accuracy_score, classification_report, roc_auc_score, confusion_matrix\n",
        "from sklearn.model_selection import train_test_split\n",
        "from sklearn.metrics import precision_recall_curve\n",
        "from imblearn.over_sampling import SMOTE\n",
        "import numpy as np\n",
        "\n",
        "# Resample training data using SMOTE\n",
        "smote = SMOTE(random_state=42)\n",
        "X_train_resampled, y_train_resampled = smote.fit_resample(X_train, y_train)\n",
        "\n",
        "feature_names = X_train_resampled.columns.tolist()\n",
        "\n",
        "# Split for early stopping\n",
        "X_train_split, X_val, y_train_split, y_val = train_test_split(X_train_resampled, y_train_resampled, test_size=0.2, random_state=42)\n",
        "\n",
        "dtrain = xgb.DMatrix(X_train_split, label=y_train_split, feature_names=feature_names)\n",
        "dval = xgb.DMatrix(X_val, label=y_val, feature_names=feature_names)\n",
        "dtest = xgb.DMatrix(X_test, label=y_test, feature_names=feature_names)\n",
        "\n",
        "params = {\n",
        "    'objective': 'binary:logistic',\n",
        "    'eval_metric': 'logloss',\n",
        "    'max_depth': 6,\n",
        "    'eta': 0.03,  # Lower learning rate\n",
        "    'subsample': 0.85,  # Slightly reduced for better generalization\n",
        "    'colsample_bytree': 0.85,\n",
        "    'scale_pos_weight': 3.3,  # Fine-tuned\n",
        "    'lambda': 2,  # Added L2 regularization\n",
        "    'alpha': 0.5,  # Added L1 regularization\n",
        "    'nthread': -1,\n",
        "    'seed': 42,\n",
        "    'gamma': 0.5,\n",
        "}\n",
        "\n",
        "# Train with early stopping\n",
        "watchlist = [(dtrain, 'train'), (dval, 'validation')]\n",
        "model = xgb.train(params, dtrain, num_boost_round=2000, evals=watchlist,\n",
        "                  early_stopping_rounds=50, verbose_eval=10)\n",
        "\n",
        "# Predictions\n",
        "y_pred_proba = model.predict(dtest)\n",
        "\n",
        "# Threshold tuning\n",
        "precision, recall, thresholds = precision_recall_curve(y_test, y_pred_proba)\n",
        "f1_scores = 2 * (precision * recall) / (precision + recall)\n",
        "# optimal_threshold = thresholds[np.argmax(f1_scores)]\n",
        "\n",
        "y_pred_binary = (y_pred_proba > 0.3).astype(int)\n",
        "\n",
        "# Evaluate\n",
        "accuracy = accuracy_score(y_test, y_pred_binary)\n",
        "roc_auc = roc_auc_score(y_test, y_pred_proba)\n",
        "print(f\"Accuracy: {accuracy}\")\n",
        "print(f\"ROC-AUC Score: {roc_auc}\")\n",
        "print(\"Classification Report:\")\n",
        "print(classification_report(y_test, y_pred_binary))\n",
        "print(\"Confusion Matrix:\")\n",
        "print(confusion_matrix(y_test, y_pred_binary))\n"
      ],
      "metadata": {
        "id": "WZulZ9fKfMvO",
        "colab": {
          "base_uri": "https://localhost:8080/"
        },
        "outputId": "168bf656-555e-4829-d0c4-8de4452f4783"
      },
      "execution_count": null,
      "outputs": [
        {
          "output_type": "stream",
          "name": "stdout",
          "text": [
            "[0]\ttrain-logloss:0.80026\tvalidation-logloss:0.80400\n",
            "[10]\ttrain-logloss:0.61131\tvalidation-logloss:0.61404\n",
            "[20]\ttrain-logloss:0.50886\tvalidation-logloss:0.51180\n",
            "[30]\ttrain-logloss:0.44492\tvalidation-logloss:0.44877\n",
            "[40]\ttrain-logloss:0.40094\tvalidation-logloss:0.40548\n",
            "[50]\ttrain-logloss:0.36818\tvalidation-logloss:0.37354\n",
            "[60]\ttrain-logloss:0.34421\tvalidation-logloss:0.35069\n",
            "[70]\ttrain-logloss:0.32462\tvalidation-logloss:0.33230\n",
            "[80]\ttrain-logloss:0.30887\tvalidation-logloss:0.31786\n",
            "[90]\ttrain-logloss:0.29604\tvalidation-logloss:0.30631\n",
            "[100]\ttrain-logloss:0.28514\tvalidation-logloss:0.29687\n",
            "[110]\ttrain-logloss:0.27575\tvalidation-logloss:0.28936\n",
            "[120]\ttrain-logloss:0.26734\tvalidation-logloss:0.28219\n",
            "[130]\ttrain-logloss:0.26031\tvalidation-logloss:0.27652\n",
            "[140]\ttrain-logloss:0.25314\tvalidation-logloss:0.27087\n",
            "[150]\ttrain-logloss:0.24699\tvalidation-logloss:0.26601\n",
            "[160]\ttrain-logloss:0.24159\tvalidation-logloss:0.26220\n",
            "[170]\ttrain-logloss:0.23683\tvalidation-logloss:0.25876\n",
            "[180]\ttrain-logloss:0.23194\tvalidation-logloss:0.25548\n",
            "[190]\ttrain-logloss:0.22726\tvalidation-logloss:0.25238\n",
            "[200]\ttrain-logloss:0.22346\tvalidation-logloss:0.25016\n",
            "[210]\ttrain-logloss:0.21950\tvalidation-logloss:0.24753\n",
            "[220]\ttrain-logloss:0.21564\tvalidation-logloss:0.24537\n",
            "[230]\ttrain-logloss:0.21228\tvalidation-logloss:0.24379\n",
            "[240]\ttrain-logloss:0.20920\tvalidation-logloss:0.24240\n",
            "[250]\ttrain-logloss:0.20615\tvalidation-logloss:0.24078\n",
            "[260]\ttrain-logloss:0.20326\tvalidation-logloss:0.23928\n",
            "[270]\ttrain-logloss:0.20065\tvalidation-logloss:0.23815\n",
            "[280]\ttrain-logloss:0.19813\tvalidation-logloss:0.23709\n",
            "[290]\ttrain-logloss:0.19586\tvalidation-logloss:0.23621\n",
            "[300]\ttrain-logloss:0.19345\tvalidation-logloss:0.23511\n",
            "[310]\ttrain-logloss:0.19101\tvalidation-logloss:0.23407\n",
            "[320]\ttrain-logloss:0.18842\tvalidation-logloss:0.23296\n",
            "[330]\ttrain-logloss:0.18625\tvalidation-logloss:0.23208\n",
            "[340]\ttrain-logloss:0.18395\tvalidation-logloss:0.23129\n",
            "[350]\ttrain-logloss:0.18191\tvalidation-logloss:0.23051\n",
            "[360]\ttrain-logloss:0.17974\tvalidation-logloss:0.22970\n",
            "[370]\ttrain-logloss:0.17767\tvalidation-logloss:0.22889\n",
            "[380]\ttrain-logloss:0.17571\tvalidation-logloss:0.22822\n",
            "[390]\ttrain-logloss:0.17359\tvalidation-logloss:0.22749\n",
            "[400]\ttrain-logloss:0.17172\tvalidation-logloss:0.22686\n",
            "[410]\ttrain-logloss:0.16978\tvalidation-logloss:0.22618\n",
            "[420]\ttrain-logloss:0.16769\tvalidation-logloss:0.22552\n",
            "[430]\ttrain-logloss:0.16589\tvalidation-logloss:0.22491\n",
            "[440]\ttrain-logloss:0.16392\tvalidation-logloss:0.22425\n",
            "[450]\ttrain-logloss:0.16202\tvalidation-logloss:0.22362\n",
            "[460]\ttrain-logloss:0.16044\tvalidation-logloss:0.22324\n",
            "[470]\ttrain-logloss:0.15882\tvalidation-logloss:0.22286\n",
            "[480]\ttrain-logloss:0.15722\tvalidation-logloss:0.22243\n",
            "[490]\ttrain-logloss:0.15550\tvalidation-logloss:0.22177\n",
            "[500]\ttrain-logloss:0.15388\tvalidation-logloss:0.22125\n",
            "[510]\ttrain-logloss:0.15248\tvalidation-logloss:0.22083\n",
            "[520]\ttrain-logloss:0.15098\tvalidation-logloss:0.22036\n",
            "[530]\ttrain-logloss:0.14952\tvalidation-logloss:0.21999\n",
            "[540]\ttrain-logloss:0.14807\tvalidation-logloss:0.21954\n",
            "[550]\ttrain-logloss:0.14653\tvalidation-logloss:0.21902\n",
            "[560]\ttrain-logloss:0.14508\tvalidation-logloss:0.21857\n",
            "[570]\ttrain-logloss:0.14366\tvalidation-logloss:0.21816\n",
            "[580]\ttrain-logloss:0.14220\tvalidation-logloss:0.21787\n",
            "[590]\ttrain-logloss:0.14063\tvalidation-logloss:0.21745\n",
            "[600]\ttrain-logloss:0.13911\tvalidation-logloss:0.21707\n",
            "[610]\ttrain-logloss:0.13785\tvalidation-logloss:0.21682\n",
            "[620]\ttrain-logloss:0.13648\tvalidation-logloss:0.21641\n",
            "[630]\ttrain-logloss:0.13522\tvalidation-logloss:0.21609\n",
            "[640]\ttrain-logloss:0.13387\tvalidation-logloss:0.21585\n",
            "[650]\ttrain-logloss:0.13229\tvalidation-logloss:0.21551\n",
            "[660]\ttrain-logloss:0.13115\tvalidation-logloss:0.21516\n",
            "[670]\ttrain-logloss:0.12989\tvalidation-logloss:0.21488\n",
            "[680]\ttrain-logloss:0.12860\tvalidation-logloss:0.21457\n",
            "[690]\ttrain-logloss:0.12716\tvalidation-logloss:0.21414\n",
            "[700]\ttrain-logloss:0.12599\tvalidation-logloss:0.21389\n",
            "[710]\ttrain-logloss:0.12459\tvalidation-logloss:0.21362\n",
            "[720]\ttrain-logloss:0.12342\tvalidation-logloss:0.21328\n",
            "[730]\ttrain-logloss:0.12223\tvalidation-logloss:0.21295\n",
            "[740]\ttrain-logloss:0.12112\tvalidation-logloss:0.21273\n",
            "[750]\ttrain-logloss:0.11992\tvalidation-logloss:0.21248\n",
            "[760]\ttrain-logloss:0.11889\tvalidation-logloss:0.21233\n",
            "[770]\ttrain-logloss:0.11793\tvalidation-logloss:0.21215\n",
            "[780]\ttrain-logloss:0.11670\tvalidation-logloss:0.21178\n",
            "[790]\ttrain-logloss:0.11545\tvalidation-logloss:0.21132\n",
            "[800]\ttrain-logloss:0.11458\tvalidation-logloss:0.21102\n",
            "[810]\ttrain-logloss:0.11363\tvalidation-logloss:0.21080\n",
            "[820]\ttrain-logloss:0.11274\tvalidation-logloss:0.21067\n",
            "[830]\ttrain-logloss:0.11159\tvalidation-logloss:0.21035\n",
            "[840]\ttrain-logloss:0.11064\tvalidation-logloss:0.21009\n",
            "[850]\ttrain-logloss:0.10952\tvalidation-logloss:0.20974\n",
            "[860]\ttrain-logloss:0.10850\tvalidation-logloss:0.20956\n",
            "[870]\ttrain-logloss:0.10737\tvalidation-logloss:0.20934\n",
            "[880]\ttrain-logloss:0.10625\tvalidation-logloss:0.20914\n",
            "[890]\ttrain-logloss:0.10530\tvalidation-logloss:0.20900\n",
            "[900]\ttrain-logloss:0.10437\tvalidation-logloss:0.20871\n",
            "[910]\ttrain-logloss:0.10364\tvalidation-logloss:0.20861\n",
            "[920]\ttrain-logloss:0.10260\tvalidation-logloss:0.20839\n",
            "[930]\ttrain-logloss:0.10160\tvalidation-logloss:0.20817\n",
            "[940]\ttrain-logloss:0.10055\tvalidation-logloss:0.20799\n",
            "[950]\ttrain-logloss:0.09965\tvalidation-logloss:0.20784\n",
            "[960]\ttrain-logloss:0.09857\tvalidation-logloss:0.20767\n",
            "[970]\ttrain-logloss:0.09761\tvalidation-logloss:0.20757\n",
            "[980]\ttrain-logloss:0.09681\tvalidation-logloss:0.20756\n",
            "[990]\ttrain-logloss:0.09591\tvalidation-logloss:0.20739\n",
            "[1000]\ttrain-logloss:0.09496\tvalidation-logloss:0.20718\n",
            "[1010]\ttrain-logloss:0.09405\tvalidation-logloss:0.20702\n",
            "[1020]\ttrain-logloss:0.09322\tvalidation-logloss:0.20694\n",
            "[1030]\ttrain-logloss:0.09243\tvalidation-logloss:0.20678\n",
            "[1040]\ttrain-logloss:0.09145\tvalidation-logloss:0.20674\n",
            "[1050]\ttrain-logloss:0.09064\tvalidation-logloss:0.20673\n",
            "[1060]\ttrain-logloss:0.08984\tvalidation-logloss:0.20661\n",
            "[1070]\ttrain-logloss:0.08901\tvalidation-logloss:0.20635\n",
            "[1080]\ttrain-logloss:0.08827\tvalidation-logloss:0.20630\n",
            "[1090]\ttrain-logloss:0.08745\tvalidation-logloss:0.20624\n",
            "[1100]\ttrain-logloss:0.08668\tvalidation-logloss:0.20613\n",
            "[1110]\ttrain-logloss:0.08584\tvalidation-logloss:0.20602\n",
            "[1120]\ttrain-logloss:0.08500\tvalidation-logloss:0.20582\n",
            "[1130]\ttrain-logloss:0.08438\tvalidation-logloss:0.20580\n",
            "[1140]\ttrain-logloss:0.08357\tvalidation-logloss:0.20568\n",
            "[1150]\ttrain-logloss:0.08262\tvalidation-logloss:0.20548\n",
            "[1160]\ttrain-logloss:0.08181\tvalidation-logloss:0.20535\n",
            "[1170]\ttrain-logloss:0.08108\tvalidation-logloss:0.20530\n",
            "[1180]\ttrain-logloss:0.08027\tvalidation-logloss:0.20509\n",
            "[1190]\ttrain-logloss:0.07949\tvalidation-logloss:0.20500\n",
            "[1200]\ttrain-logloss:0.07876\tvalidation-logloss:0.20477\n",
            "[1210]\ttrain-logloss:0.07796\tvalidation-logloss:0.20464\n",
            "[1220]\ttrain-logloss:0.07723\tvalidation-logloss:0.20448\n",
            "[1230]\ttrain-logloss:0.07663\tvalidation-logloss:0.20443\n",
            "[1240]\ttrain-logloss:0.07591\tvalidation-logloss:0.20423\n",
            "[1250]\ttrain-logloss:0.07523\tvalidation-logloss:0.20409\n",
            "[1260]\ttrain-logloss:0.07446\tvalidation-logloss:0.20400\n",
            "[1270]\ttrain-logloss:0.07387\tvalidation-logloss:0.20396\n",
            "[1280]\ttrain-logloss:0.07318\tvalidation-logloss:0.20395\n",
            "[1290]\ttrain-logloss:0.07256\tvalidation-logloss:0.20390\n",
            "[1300]\ttrain-logloss:0.07189\tvalidation-logloss:0.20374\n",
            "[1310]\ttrain-logloss:0.07117\tvalidation-logloss:0.20369\n",
            "[1320]\ttrain-logloss:0.07053\tvalidation-logloss:0.20365\n",
            "[1330]\ttrain-logloss:0.06995\tvalidation-logloss:0.20356\n",
            "[1340]\ttrain-logloss:0.06936\tvalidation-logloss:0.20354\n",
            "[1350]\ttrain-logloss:0.06877\tvalidation-logloss:0.20349\n",
            "[1360]\ttrain-logloss:0.06821\tvalidation-logloss:0.20334\n",
            "[1370]\ttrain-logloss:0.06755\tvalidation-logloss:0.20320\n",
            "[1380]\ttrain-logloss:0.06695\tvalidation-logloss:0.20313\n",
            "[1390]\ttrain-logloss:0.06639\tvalidation-logloss:0.20310\n",
            "[1400]\ttrain-logloss:0.06576\tvalidation-logloss:0.20299\n",
            "[1410]\ttrain-logloss:0.06522\tvalidation-logloss:0.20285\n",
            "[1420]\ttrain-logloss:0.06466\tvalidation-logloss:0.20285\n",
            "[1430]\ttrain-logloss:0.06415\tvalidation-logloss:0.20273\n",
            "[1440]\ttrain-logloss:0.06353\tvalidation-logloss:0.20262\n",
            "[1450]\ttrain-logloss:0.06296\tvalidation-logloss:0.20262\n",
            "[1460]\ttrain-logloss:0.06241\tvalidation-logloss:0.20260\n",
            "[1470]\ttrain-logloss:0.06189\tvalidation-logloss:0.20238\n",
            "[1480]\ttrain-logloss:0.06133\tvalidation-logloss:0.20227\n",
            "[1490]\ttrain-logloss:0.06079\tvalidation-logloss:0.20214\n",
            "[1500]\ttrain-logloss:0.06033\tvalidation-logloss:0.20220\n",
            "[1510]\ttrain-logloss:0.05984\tvalidation-logloss:0.20214\n",
            "[1520]\ttrain-logloss:0.05931\tvalidation-logloss:0.20211\n",
            "[1530]\ttrain-logloss:0.05880\tvalidation-logloss:0.20198\n",
            "[1540]\ttrain-logloss:0.05834\tvalidation-logloss:0.20200\n",
            "[1550]\ttrain-logloss:0.05789\tvalidation-logloss:0.20199\n",
            "[1560]\ttrain-logloss:0.05739\tvalidation-logloss:0.20196\n",
            "[1570]\ttrain-logloss:0.05689\tvalidation-logloss:0.20198\n",
            "[1580]\ttrain-logloss:0.05642\tvalidation-logloss:0.20198\n",
            "[1590]\ttrain-logloss:0.05587\tvalidation-logloss:0.20196\n",
            "[1600]\ttrain-logloss:0.05539\tvalidation-logloss:0.20194\n",
            "[1610]\ttrain-logloss:0.05489\tvalidation-logloss:0.20196\n",
            "[1615]\ttrain-logloss:0.05463\tvalidation-logloss:0.20196\n",
            "Accuracy: 0.8226520835216488\n",
            "ROC-AUC Score: 0.8869053151335623\n",
            "Classification Report:\n",
            "              precision    recall  f1-score   support\n",
            "\n",
            "           0       0.92      0.84      0.88      8349\n",
            "           1       0.61      0.78      0.68      2714\n",
            "\n",
            "    accuracy                           0.82     11063\n",
            "   macro avg       0.76      0.81      0.78     11063\n",
            "weighted avg       0.84      0.82      0.83     11063\n",
            "\n",
            "Confusion Matrix:\n",
            "[[6982 1367]\n",
            " [ 595 2119]]\n"
          ]
        }
      ]
    },
    {
      "cell_type": "code",
      "source": [],
      "metadata": {
        "id": "nLlOnDLn84b7"
      },
      "execution_count": null,
      "outputs": []
    },
    {
      "cell_type": "markdown",
      "source": [
        "#### XGBoost with StratifiedKFold"
      ],
      "metadata": {
        "id": "-ui-AW4C84yC"
      }
    },
    {
      "cell_type": "code",
      "source": [],
      "metadata": {
        "id": "96txjz_m_Sx6"
      },
      "execution_count": null,
      "outputs": []
    },
    {
      "cell_type": "code",
      "source": [
        "from sklearn.model_selection import StratifiedKFold\n",
        "from sklearn.metrics import roc_auc_score, accuracy_score, classification_report, confusion_matrix\n",
        "import xgboost as xgb\n",
        "\n",
        "# Assuming X_train, y_train, and X_test, y_test are defined as in your code\n",
        "\n",
        "# Define the number of folds for stratified k-fold\n",
        "n_splits = 5\n",
        "\n",
        "# Initialize StratifiedKFold\n",
        "skf = StratifiedKFold(n_splits=n_splits, shuffle=True, random_state=42)\n",
        "\n",
        "# Initialize lists to store metrics for each fold\n",
        "accuracy_scores = []\n",
        "amex_metric_scores = []\n",
        "roc_auc_scores = []\n",
        "classification_reports = []\n",
        "confusion_matrices = []\n",
        "\n",
        "# Loop through each fold\n",
        "for fold, (train_index, val_index) in enumerate(skf.split(X_train, y_train)):\n",
        "    print(f\"Fold {fold + 1}\")\n",
        "    X_train_fold, X_val_fold = X_train.iloc[train_index], X_train.iloc[val_index]\n",
        "    y_train_fold, y_val_fold = y_train.iloc[train_index], y_train.iloc[val_index]\n",
        "\n",
        "    # Create DMatrix for each fold, ensuring consistent feature names\n",
        "    feature_names = X_train_fold.columns.tolist()  # Get feature names from training fold\n",
        "\n",
        "    dtrain_fold = xgb.DMatrix(X_train_fold, label=y_train_fold, feature_names=feature_names)\n",
        "    dval_fold = xgb.DMatrix(X_val_fold, label=y_val_fold, feature_names=feature_names)\n",
        "    dtest = xgb.DMatrix(X_test, label=y_test, feature_names=feature_names)  # Use consistent feature names for dtest\n",
        "\n",
        "\n",
        "    # Define parameters for XGBoost to address underfitting\n",
        "    params = {\n",
        "        'objective': 'binary:logistic',\n",
        "        'eval_metric': 'logloss',\n",
        "        'max_depth': 6,\n",
        "        'eta': 0.03,  # Lower learning rate\n",
        "        'subsample': 0.85,  # Slightly reduced for better generalization\n",
        "        'colsample_bytree': 0.85,\n",
        "        'scale_pos_weight': 3.3,  # Fine-tuned\n",
        "        'lambda': 2,  # Added L2 regularization\n",
        "        'alpha': 0.5,  # Added L1 regularization\n",
        "        'nthread': -1,\n",
        "        'seed': 42,\n",
        "        'gamma': 0.5,\n",
        "    }\n",
        "    model = xgb.train(params, dtrain_fold, num_boost_round=100) # adjust num_boost_round\n",
        "\n",
        "\n",
        "    # Predict on validation and test sets\n",
        "    y_pred_val = model.predict(dval_fold)\n",
        "    y_pred_test = model.predict(dtest)\n",
        "    y_pred_test_binary = (y_pred_test > 0.3).astype(int) # Adjust the threshold if necessary\n",
        "\n",
        "\n",
        "    # Calculate metrics\n",
        "    accuracy = accuracy_score(y_test, y_pred_test_binary)\n",
        "    amex_metric_value = amex_metric(pd.DataFrame(y_test, columns=['target']), pd.DataFrame(y_pred_test, columns=['prediction']))\n",
        "    roc_auc = roc_auc_score(y_test, y_pred_test)\n",
        "\n",
        "    accuracy_scores.append(accuracy)\n",
        "    amex_metric_scores.append(amex_metric_value)\n",
        "    roc_auc_scores.append(roc_auc)\n",
        "    classification_reports.append(classification_report(y_test, y_pred_test_binary))\n",
        "    confusion_matrices.append(confusion_matrix(y_test, y_pred_test_binary))\n",
        "\n",
        "    print(f\"Fold {fold + 1} - Accuracy: {accuracy}, ROC-AUC: {roc_auc}\")\n",
        "    print(f\"Fold {fold + 1} - Classification Report:\\n{classification_report(y_test, y_pred_test_binary)}\")\n",
        "\n",
        "\n",
        "# Print average metrics across all folds\n",
        "print(f\"\\nAverage Accuracy: {np.mean(accuracy_scores)}\")\n",
        "print(f\"Average ROC-AUC: {np.mean(roc_auc_scores)}\")\n",
        "print(f\"Average Classification Report:\\n{classification_report(y_test, y_pred_test_binary)}\")"
      ],
      "metadata": {
        "colab": {
          "base_uri": "https://localhost:8080/"
        },
        "id": "D0idzSfChQcA",
        "outputId": "fe4564b2-58f0-4ee3-9c2f-b67dda78e36d"
      },
      "execution_count": null,
      "outputs": [
        {
          "output_type": "stream",
          "name": "stdout",
          "text": [
            "Fold 1\n",
            "Fold 1 - Accuracy: 0.6178251830425744, ROC-AUC: 0.8987472233115523\n",
            "Fold 1 - Classification Report:\n",
            "              precision    recall  f1-score   support\n",
            "\n",
            "           0       0.99      0.50      0.66      8349\n",
            "           1       0.39      0.98      0.56      2714\n",
            "\n",
            "    accuracy                           0.62     11063\n",
            "   macro avg       0.69      0.74      0.61     11063\n",
            "weighted avg       0.84      0.62      0.64     11063\n",
            "\n",
            "Fold 2\n",
            "Fold 2 - Accuracy: 0.6558799602277863, ROC-AUC: 0.9043105961529244\n",
            "Fold 2 - Classification Report:\n",
            "              precision    recall  f1-score   support\n",
            "\n",
            "           0       0.99      0.55      0.71      8349\n",
            "           1       0.41      0.98      0.58      2714\n",
            "\n",
            "    accuracy                           0.66     11063\n",
            "   macro avg       0.70      0.77      0.65     11063\n",
            "weighted avg       0.85      0.66      0.68     11063\n",
            "\n",
            "Fold 3\n",
            "Fold 3 - Accuracy: 0.702431528518485, ROC-AUC: 0.9045281458919132\n",
            "Fold 3 - Classification Report:\n",
            "              precision    recall  f1-score   support\n",
            "\n",
            "           0       0.99      0.61      0.76      8349\n",
            "           1       0.45      0.97      0.62      2714\n",
            "\n",
            "    accuracy                           0.70     11063\n",
            "   macro avg       0.72      0.79      0.69     11063\n",
            "weighted avg       0.85      0.70      0.72     11063\n",
            "\n",
            "Fold 4\n",
            "Fold 4 - Accuracy: 0.6470216035433427, ROC-AUC: 0.9037498743335264\n",
            "Fold 4 - Classification Report:\n",
            "              precision    recall  f1-score   support\n",
            "\n",
            "           0       0.99      0.54      0.70      8349\n",
            "           1       0.41      0.98      0.58      2714\n",
            "\n",
            "    accuracy                           0.65     11063\n",
            "   macro avg       0.70      0.76      0.64     11063\n",
            "weighted avg       0.85      0.65      0.67     11063\n",
            "\n",
            "Fold 5\n",
            "Fold 5 - Accuracy: 0.6478351260959957, ROC-AUC: 0.9052667205256181\n",
            "Fold 5 - Classification Report:\n",
            "              precision    recall  f1-score   support\n",
            "\n",
            "           0       0.99      0.54      0.70      8349\n",
            "           1       0.41      0.98      0.58      2714\n",
            "\n",
            "    accuracy                           0.65     11063\n",
            "   macro avg       0.70      0.76      0.64     11063\n",
            "weighted avg       0.85      0.65      0.67     11063\n",
            "\n",
            "\n",
            "Average Accuracy: 0.6541986802856368\n",
            "Average ROC-AUC: 0.9033205120431068\n",
            "Average Classification Report:\n",
            "              precision    recall  f1-score   support\n",
            "\n",
            "           0       0.99      0.54      0.70      8349\n",
            "           1       0.41      0.98      0.58      2714\n",
            "\n",
            "    accuracy                           0.65     11063\n",
            "   macro avg       0.70      0.76      0.64     11063\n",
            "weighted avg       0.85      0.65      0.67     11063\n",
            "\n"
          ]
        }
      ]
    },
    {
      "cell_type": "markdown",
      "source": [
        "#### Observations:-\n",
        "\n",
        "- We can see that random forest is giving the best accuracy.\n",
        "\n",
        "- After applying k fold cross vaidation on Logistic Regression we can see that the accuracy has reached closer to Random Forest Classifier.\n",
        "\n",
        "- Overall we can say that Random Forest is giving far better results.\n",
        "\n",
        "- The superiority of Random Forest suggests that the data may have non-linear relationships that Random Forest, with its tree-based structure, is better able to capture."
      ],
      "metadata": {
        "id": "5hVuDnJgQG4C"
      }
    },
    {
      "cell_type": "markdown",
      "source": [
        "#### Future Steps :-\n",
        "\n",
        "- More intutive and descriptive EDA\n",
        "- Methods like LSTM, ANN, CNN, SVM, GNN\n",
        "- We will work more on feature engineering\n",
        "- Use some reduction techniques like SVD and LDA\n",
        "- We will improve our accuracy on this dataset , once it is done, we will apply our best model to the test dataset provided by the American Express and evaluate how our model works and then try to improve the accuracy based on that.\n",
        "- Any suggestions are also welcome !!\n"
      ],
      "metadata": {
        "id": "q4qlE3YLTYrK"
      }
    },
    {
      "cell_type": "code",
      "source": [
        "# prompt: Random Model as a Baseline:\n",
        "# Accuracy: 50.1% (Random guessing)\n",
        "# Key metrics: Recall for class 1 (default) was 51%, highlighting the baseline performance.\n",
        "# The random model established a basic comparison point, showing that improvement in recall for the default class is crucial.\n",
        "# Logistic Regression (Linear Model):\n",
        "# Accuracy: 82.02%\n",
        "# ROC-AUC: 0.9166\n",
        "# Precision (0): 97%, Recall (1): 91%\n",
        "# The logistic regression model performed well with high accuracy and ROC-AUC. It focused on improving recall for the default class (1), making it a strong candidate for the task.\n",
        "# Random Forest (Bagging):\n",
        "# Accuracy: 83%\n",
        "# ROC-AUC: 0.8810\n",
        "# Precision (0): 97%, Recall (1): 91%\n",
        "# Random Forest showed excellent performance, with balanced precision and recall. It provided robust results for predicting defaults with consistent accuracy.\n",
        "# XGBoost (Boosting):\n",
        "# Accuracy: 81.2%\n",
        "# ROC-AUC: 0.8557\n",
        "# Precision (0): 86%, Recall (1): 54%\n",
        "# XGBoost, while effective, struggled with recall for class 1, indicating that further tuning is necessary to improve performance for the default class.\n",
        "# XGBoost with Tuned Hyperparameters:\n",
        "# Accuracy: 82.27%\n",
        "# ROC-AUC: 0.8869\n",
        "# Precision (0): 92%, Recall (1): 78%\n",
        "# Hyperparameter tuning improved XGBoost's performance, particularly in recall for the default class, suggesting it can be further optimized to balance precision and recall.\n",
        "# Stratified K-Fold Cross-Validation (for Random Forest and XGBoost):\n",
        "# Average Accuracy (Random Forest): 84.4%\n",
        "# Average ROC-AUC (Random Forest): 0.925\n",
        "# Average Accuracy (XGBoost): 65.4%\n",
        "# Average ROC-AUC (XGBoost): 0.903\n",
        "# Cross-validation showed that Random Forest consistently performed well, while XGBoost struggled with class imbalance, reinforcing that Random Forest is the more reliable model.\n",
        "# Graph this information to compare the accuracy of models, make it in plotly also can you graph precision and recall as well\n",
        "\n",
        "import plotly.graph_objects as go\n",
        "\n",
        "models = ['Random Model', 'Logistic Regression', 'Random Forest', 'XGBoost', 'XGBoost (Tuned)', 'Random Forest (CV)', 'XGBoost (CV)']\n",
        "accuracy = [50.1, 82.02, 83, 81.2, 82.27, 84.4, 65.4]\n",
        "roc_auc = [None, 0.9166, 0.8810, 0.8557, 0.8869, 0.925, 0.903]\n",
        "precision_0 = [None, 97, 97, 86, 92, None, None]\n",
        "recall_1 = [51, 91, 91, 54, 78, None, None]\n",
        "\n",
        "fig = go.Figure()\n",
        "\n",
        "fig.add_trace(go.Bar(\n",
        "    x=models,\n",
        "    y=accuracy,\n",
        "    name='Accuracy'\n",
        "))\n",
        "\n",
        "fig.add_trace(go.Scatter(\n",
        "    x=models,\n",
        "    y=roc_auc,\n",
        "    name='ROC-AUC',\n",
        "    yaxis='y2'  # Use a second y-axis for ROC-AUC\n",
        "))\n",
        "\n",
        "fig.update_layout(\n",
        "    title='Model Performance Comparison',\n",
        "    xaxis_title='Models',\n",
        "    yaxis=dict(title='Accuracy (%)'),\n",
        "    yaxis2=dict(title='ROC-AUC', overlaying='y', side='right')\n",
        ")\n",
        "\n",
        "fig.show()\n",
        "\n",
        "\n",
        "#Precision and Recall plot\n",
        "fig2 = go.Figure()\n",
        "\n",
        "fig2.add_trace(go.Scatter(\n",
        "    x=models,\n",
        "    y=precision_0,\n",
        "    name='Precision (Class 0)'\n",
        "))\n",
        "\n",
        "fig2.add_trace(go.Scatter(\n",
        "    x=models,\n",
        "    y=recall_1,\n",
        "    name='Recall (Class 1)'\n",
        "))\n",
        "\n",
        "fig2.update_layout(\n",
        "    title='Precision and Recall for Models',\n",
        "    xaxis_title='Models',\n",
        "    yaxis_title='Metric Value (%)',\n",
        ")\n",
        "\n",
        "fig2.show()"
      ],
      "metadata": {
        "colab": {
          "base_uri": "https://localhost:8080/",
          "height": 1000
        },
        "id": "I6AJF6Aq6zbe",
        "outputId": "6cab776d-3869-4ffb-f0f7-a7fdeb9ea547"
      },
      "execution_count": null,
      "outputs": [
        {
          "output_type": "display_data",
          "data": {
            "text/html": [
              "<html>\n",
              "<head><meta charset=\"utf-8\" /></head>\n",
              "<body>\n",
              "    <div>            <script src=\"https://cdnjs.cloudflare.com/ajax/libs/mathjax/2.7.5/MathJax.js?config=TeX-AMS-MML_SVG\"></script><script type=\"text/javascript\">if (window.MathJax && window.MathJax.Hub && window.MathJax.Hub.Config) {window.MathJax.Hub.Config({SVG: {font: \"STIX-Web\"}});}</script>                <script type=\"text/javascript\">window.PlotlyConfig = {MathJaxConfig: 'local'};</script>\n",
              "        <script charset=\"utf-8\" src=\"https://cdn.plot.ly/plotly-2.35.2.min.js\"></script>                <div id=\"c36d15ae-b2a1-4bad-b9b2-9f8389e88ee4\" class=\"plotly-graph-div\" style=\"height:525px; width:100%;\"></div>            <script type=\"text/javascript\">                                    window.PLOTLYENV=window.PLOTLYENV || {};                                    if (document.getElementById(\"c36d15ae-b2a1-4bad-b9b2-9f8389e88ee4\")) {                    Plotly.newPlot(                        \"c36d15ae-b2a1-4bad-b9b2-9f8389e88ee4\",                        [{\"name\":\"Accuracy\",\"x\":[\"Random Model\",\"Logistic Regression\",\"Random Forest\",\"XGBoost\",\"XGBoost (Tuned)\",\"Random Forest (CV)\",\"XGBoost (CV)\"],\"y\":[50.1,82.02,83,81.2,82.27,84.4,65.4],\"type\":\"bar\"},{\"name\":\"ROC-AUC\",\"x\":[\"Random Model\",\"Logistic Regression\",\"Random Forest\",\"XGBoost\",\"XGBoost (Tuned)\",\"Random Forest (CV)\",\"XGBoost (CV)\"],\"y\":[null,0.9166,0.881,0.8557,0.8869,0.925,0.903],\"yaxis\":\"y2\",\"type\":\"scatter\"}],                        {\"template\":{\"data\":{\"histogram2dcontour\":[{\"type\":\"histogram2dcontour\",\"colorbar\":{\"outlinewidth\":0,\"ticks\":\"\"},\"colorscale\":[[0.0,\"#0d0887\"],[0.1111111111111111,\"#46039f\"],[0.2222222222222222,\"#7201a8\"],[0.3333333333333333,\"#9c179e\"],[0.4444444444444444,\"#bd3786\"],[0.5555555555555556,\"#d8576b\"],[0.6666666666666666,\"#ed7953\"],[0.7777777777777778,\"#fb9f3a\"],[0.8888888888888888,\"#fdca26\"],[1.0,\"#f0f921\"]]}],\"choropleth\":[{\"type\":\"choropleth\",\"colorbar\":{\"outlinewidth\":0,\"ticks\":\"\"}}],\"histogram2d\":[{\"type\":\"histogram2d\",\"colorbar\":{\"outlinewidth\":0,\"ticks\":\"\"},\"colorscale\":[[0.0,\"#0d0887\"],[0.1111111111111111,\"#46039f\"],[0.2222222222222222,\"#7201a8\"],[0.3333333333333333,\"#9c179e\"],[0.4444444444444444,\"#bd3786\"],[0.5555555555555556,\"#d8576b\"],[0.6666666666666666,\"#ed7953\"],[0.7777777777777778,\"#fb9f3a\"],[0.8888888888888888,\"#fdca26\"],[1.0,\"#f0f921\"]]}],\"heatmap\":[{\"type\":\"heatmap\",\"colorbar\":{\"outlinewidth\":0,\"ticks\":\"\"},\"colorscale\":[[0.0,\"#0d0887\"],[0.1111111111111111,\"#46039f\"],[0.2222222222222222,\"#7201a8\"],[0.3333333333333333,\"#9c179e\"],[0.4444444444444444,\"#bd3786\"],[0.5555555555555556,\"#d8576b\"],[0.6666666666666666,\"#ed7953\"],[0.7777777777777778,\"#fb9f3a\"],[0.8888888888888888,\"#fdca26\"],[1.0,\"#f0f921\"]]}],\"heatmapgl\":[{\"type\":\"heatmapgl\",\"colorbar\":{\"outlinewidth\":0,\"ticks\":\"\"},\"colorscale\":[[0.0,\"#0d0887\"],[0.1111111111111111,\"#46039f\"],[0.2222222222222222,\"#7201a8\"],[0.3333333333333333,\"#9c179e\"],[0.4444444444444444,\"#bd3786\"],[0.5555555555555556,\"#d8576b\"],[0.6666666666666666,\"#ed7953\"],[0.7777777777777778,\"#fb9f3a\"],[0.8888888888888888,\"#fdca26\"],[1.0,\"#f0f921\"]]}],\"contourcarpet\":[{\"type\":\"contourcarpet\",\"colorbar\":{\"outlinewidth\":0,\"ticks\":\"\"}}],\"contour\":[{\"type\":\"contour\",\"colorbar\":{\"outlinewidth\":0,\"ticks\":\"\"},\"colorscale\":[[0.0,\"#0d0887\"],[0.1111111111111111,\"#46039f\"],[0.2222222222222222,\"#7201a8\"],[0.3333333333333333,\"#9c179e\"],[0.4444444444444444,\"#bd3786\"],[0.5555555555555556,\"#d8576b\"],[0.6666666666666666,\"#ed7953\"],[0.7777777777777778,\"#fb9f3a\"],[0.8888888888888888,\"#fdca26\"],[1.0,\"#f0f921\"]]}],\"surface\":[{\"type\":\"surface\",\"colorbar\":{\"outlinewidth\":0,\"ticks\":\"\"},\"colorscale\":[[0.0,\"#0d0887\"],[0.1111111111111111,\"#46039f\"],[0.2222222222222222,\"#7201a8\"],[0.3333333333333333,\"#9c179e\"],[0.4444444444444444,\"#bd3786\"],[0.5555555555555556,\"#d8576b\"],[0.6666666666666666,\"#ed7953\"],[0.7777777777777778,\"#fb9f3a\"],[0.8888888888888888,\"#fdca26\"],[1.0,\"#f0f921\"]]}],\"mesh3d\":[{\"type\":\"mesh3d\",\"colorbar\":{\"outlinewidth\":0,\"ticks\":\"\"}}],\"scatter\":[{\"fillpattern\":{\"fillmode\":\"overlay\",\"size\":10,\"solidity\":0.2},\"type\":\"scatter\"}],\"parcoords\":[{\"type\":\"parcoords\",\"line\":{\"colorbar\":{\"outlinewidth\":0,\"ticks\":\"\"}}}],\"scatterpolargl\":[{\"type\":\"scatterpolargl\",\"marker\":{\"colorbar\":{\"outlinewidth\":0,\"ticks\":\"\"}}}],\"bar\":[{\"error_x\":{\"color\":\"#2a3f5f\"},\"error_y\":{\"color\":\"#2a3f5f\"},\"marker\":{\"line\":{\"color\":\"#E5ECF6\",\"width\":0.5},\"pattern\":{\"fillmode\":\"overlay\",\"size\":10,\"solidity\":0.2}},\"type\":\"bar\"}],\"scattergeo\":[{\"type\":\"scattergeo\",\"marker\":{\"colorbar\":{\"outlinewidth\":0,\"ticks\":\"\"}}}],\"scatterpolar\":[{\"type\":\"scatterpolar\",\"marker\":{\"colorbar\":{\"outlinewidth\":0,\"ticks\":\"\"}}}],\"histogram\":[{\"marker\":{\"pattern\":{\"fillmode\":\"overlay\",\"size\":10,\"solidity\":0.2}},\"type\":\"histogram\"}],\"scattergl\":[{\"type\":\"scattergl\",\"marker\":{\"colorbar\":{\"outlinewidth\":0,\"ticks\":\"\"}}}],\"scatter3d\":[{\"type\":\"scatter3d\",\"line\":{\"colorbar\":{\"outlinewidth\":0,\"ticks\":\"\"}},\"marker\":{\"colorbar\":{\"outlinewidth\":0,\"ticks\":\"\"}}}],\"scattermapbox\":[{\"type\":\"scattermapbox\",\"marker\":{\"colorbar\":{\"outlinewidth\":0,\"ticks\":\"\"}}}],\"scatterternary\":[{\"type\":\"scatterternary\",\"marker\":{\"colorbar\":{\"outlinewidth\":0,\"ticks\":\"\"}}}],\"scattercarpet\":[{\"type\":\"scattercarpet\",\"marker\":{\"colorbar\":{\"outlinewidth\":0,\"ticks\":\"\"}}}],\"carpet\":[{\"aaxis\":{\"endlinecolor\":\"#2a3f5f\",\"gridcolor\":\"white\",\"linecolor\":\"white\",\"minorgridcolor\":\"white\",\"startlinecolor\":\"#2a3f5f\"},\"baxis\":{\"endlinecolor\":\"#2a3f5f\",\"gridcolor\":\"white\",\"linecolor\":\"white\",\"minorgridcolor\":\"white\",\"startlinecolor\":\"#2a3f5f\"},\"type\":\"carpet\"}],\"table\":[{\"cells\":{\"fill\":{\"color\":\"#EBF0F8\"},\"line\":{\"color\":\"white\"}},\"header\":{\"fill\":{\"color\":\"#C8D4E3\"},\"line\":{\"color\":\"white\"}},\"type\":\"table\"}],\"barpolar\":[{\"marker\":{\"line\":{\"color\":\"#E5ECF6\",\"width\":0.5},\"pattern\":{\"fillmode\":\"overlay\",\"size\":10,\"solidity\":0.2}},\"type\":\"barpolar\"}],\"pie\":[{\"automargin\":true,\"type\":\"pie\"}]},\"layout\":{\"autotypenumbers\":\"strict\",\"colorway\":[\"#636efa\",\"#EF553B\",\"#00cc96\",\"#ab63fa\",\"#FFA15A\",\"#19d3f3\",\"#FF6692\",\"#B6E880\",\"#FF97FF\",\"#FECB52\"],\"font\":{\"color\":\"#2a3f5f\"},\"hovermode\":\"closest\",\"hoverlabel\":{\"align\":\"left\"},\"paper_bgcolor\":\"white\",\"plot_bgcolor\":\"#E5ECF6\",\"polar\":{\"bgcolor\":\"#E5ECF6\",\"angularaxis\":{\"gridcolor\":\"white\",\"linecolor\":\"white\",\"ticks\":\"\"},\"radialaxis\":{\"gridcolor\":\"white\",\"linecolor\":\"white\",\"ticks\":\"\"}},\"ternary\":{\"bgcolor\":\"#E5ECF6\",\"aaxis\":{\"gridcolor\":\"white\",\"linecolor\":\"white\",\"ticks\":\"\"},\"baxis\":{\"gridcolor\":\"white\",\"linecolor\":\"white\",\"ticks\":\"\"},\"caxis\":{\"gridcolor\":\"white\",\"linecolor\":\"white\",\"ticks\":\"\"}},\"coloraxis\":{\"colorbar\":{\"outlinewidth\":0,\"ticks\":\"\"}},\"colorscale\":{\"sequential\":[[0.0,\"#0d0887\"],[0.1111111111111111,\"#46039f\"],[0.2222222222222222,\"#7201a8\"],[0.3333333333333333,\"#9c179e\"],[0.4444444444444444,\"#bd3786\"],[0.5555555555555556,\"#d8576b\"],[0.6666666666666666,\"#ed7953\"],[0.7777777777777778,\"#fb9f3a\"],[0.8888888888888888,\"#fdca26\"],[1.0,\"#f0f921\"]],\"sequentialminus\":[[0.0,\"#0d0887\"],[0.1111111111111111,\"#46039f\"],[0.2222222222222222,\"#7201a8\"],[0.3333333333333333,\"#9c179e\"],[0.4444444444444444,\"#bd3786\"],[0.5555555555555556,\"#d8576b\"],[0.6666666666666666,\"#ed7953\"],[0.7777777777777778,\"#fb9f3a\"],[0.8888888888888888,\"#fdca26\"],[1.0,\"#f0f921\"]],\"diverging\":[[0,\"#8e0152\"],[0.1,\"#c51b7d\"],[0.2,\"#de77ae\"],[0.3,\"#f1b6da\"],[0.4,\"#fde0ef\"],[0.5,\"#f7f7f7\"],[0.6,\"#e6f5d0\"],[0.7,\"#b8e186\"],[0.8,\"#7fbc41\"],[0.9,\"#4d9221\"],[1,\"#276419\"]]},\"xaxis\":{\"gridcolor\":\"white\",\"linecolor\":\"white\",\"ticks\":\"\",\"title\":{\"standoff\":15},\"zerolinecolor\":\"white\",\"automargin\":true,\"zerolinewidth\":2},\"yaxis\":{\"gridcolor\":\"white\",\"linecolor\":\"white\",\"ticks\":\"\",\"title\":{\"standoff\":15},\"zerolinecolor\":\"white\",\"automargin\":true,\"zerolinewidth\":2},\"scene\":{\"xaxis\":{\"backgroundcolor\":\"#E5ECF6\",\"gridcolor\":\"white\",\"linecolor\":\"white\",\"showbackground\":true,\"ticks\":\"\",\"zerolinecolor\":\"white\",\"gridwidth\":2},\"yaxis\":{\"backgroundcolor\":\"#E5ECF6\",\"gridcolor\":\"white\",\"linecolor\":\"white\",\"showbackground\":true,\"ticks\":\"\",\"zerolinecolor\":\"white\",\"gridwidth\":2},\"zaxis\":{\"backgroundcolor\":\"#E5ECF6\",\"gridcolor\":\"white\",\"linecolor\":\"white\",\"showbackground\":true,\"ticks\":\"\",\"zerolinecolor\":\"white\",\"gridwidth\":2}},\"shapedefaults\":{\"line\":{\"color\":\"#2a3f5f\"}},\"annotationdefaults\":{\"arrowcolor\":\"#2a3f5f\",\"arrowhead\":0,\"arrowwidth\":1},\"geo\":{\"bgcolor\":\"white\",\"landcolor\":\"#E5ECF6\",\"subunitcolor\":\"white\",\"showland\":true,\"showlakes\":true,\"lakecolor\":\"white\"},\"title\":{\"x\":0.05},\"mapbox\":{\"style\":\"light\"}}},\"yaxis2\":{\"title\":{\"text\":\"ROC-AUC\"},\"overlaying\":\"y\",\"side\":\"right\"},\"title\":{\"text\":\"Model Performance Comparison\"},\"xaxis\":{\"title\":{\"text\":\"Models\"}},\"yaxis\":{\"title\":{\"text\":\"Accuracy (%)\"}}},                        {\"responsive\": true}                    ).then(function(){\n",
              "                            \n",
              "var gd = document.getElementById('c36d15ae-b2a1-4bad-b9b2-9f8389e88ee4');\n",
              "var x = new MutationObserver(function (mutations, observer) {{\n",
              "        var display = window.getComputedStyle(gd).display;\n",
              "        if (!display || display === 'none') {{\n",
              "            console.log([gd, 'removed!']);\n",
              "            Plotly.purge(gd);\n",
              "            observer.disconnect();\n",
              "        }}\n",
              "}});\n",
              "\n",
              "// Listen for the removal of the full notebook cells\n",
              "var notebookContainer = gd.closest('#notebook-container');\n",
              "if (notebookContainer) {{\n",
              "    x.observe(notebookContainer, {childList: true});\n",
              "}}\n",
              "\n",
              "// Listen for the clearing of the current output cell\n",
              "var outputEl = gd.closest('.output');\n",
              "if (outputEl) {{\n",
              "    x.observe(outputEl, {childList: true});\n",
              "}}\n",
              "\n",
              "                        })                };                            </script>        </div>\n",
              "</body>\n",
              "</html>"
            ]
          },
          "metadata": {}
        },
        {
          "output_type": "display_data",
          "data": {
            "text/html": [
              "<html>\n",
              "<head><meta charset=\"utf-8\" /></head>\n",
              "<body>\n",
              "    <div>            <script src=\"https://cdnjs.cloudflare.com/ajax/libs/mathjax/2.7.5/MathJax.js?config=TeX-AMS-MML_SVG\"></script><script type=\"text/javascript\">if (window.MathJax && window.MathJax.Hub && window.MathJax.Hub.Config) {window.MathJax.Hub.Config({SVG: {font: \"STIX-Web\"}});}</script>                <script type=\"text/javascript\">window.PlotlyConfig = {MathJaxConfig: 'local'};</script>\n",
              "        <script charset=\"utf-8\" src=\"https://cdn.plot.ly/plotly-2.35.2.min.js\"></script>                <div id=\"2735bb04-047b-4578-be21-86663a93402c\" class=\"plotly-graph-div\" style=\"height:525px; width:100%;\"></div>            <script type=\"text/javascript\">                                    window.PLOTLYENV=window.PLOTLYENV || {};                                    if (document.getElementById(\"2735bb04-047b-4578-be21-86663a93402c\")) {                    Plotly.newPlot(                        \"2735bb04-047b-4578-be21-86663a93402c\",                        [{\"name\":\"Precision (Class 0)\",\"x\":[\"Random Model\",\"Logistic Regression\",\"Random Forest\",\"XGBoost\",\"XGBoost (Tuned)\",\"Random Forest (CV)\",\"XGBoost (CV)\"],\"y\":[null,97,97,86,92,null,null],\"type\":\"scatter\"},{\"name\":\"Recall (Class 1)\",\"x\":[\"Random Model\",\"Logistic Regression\",\"Random Forest\",\"XGBoost\",\"XGBoost (Tuned)\",\"Random Forest (CV)\",\"XGBoost (CV)\"],\"y\":[51,91,91,54,78,null,null],\"type\":\"scatter\"}],                        {\"template\":{\"data\":{\"histogram2dcontour\":[{\"type\":\"histogram2dcontour\",\"colorbar\":{\"outlinewidth\":0,\"ticks\":\"\"},\"colorscale\":[[0.0,\"#0d0887\"],[0.1111111111111111,\"#46039f\"],[0.2222222222222222,\"#7201a8\"],[0.3333333333333333,\"#9c179e\"],[0.4444444444444444,\"#bd3786\"],[0.5555555555555556,\"#d8576b\"],[0.6666666666666666,\"#ed7953\"],[0.7777777777777778,\"#fb9f3a\"],[0.8888888888888888,\"#fdca26\"],[1.0,\"#f0f921\"]]}],\"choropleth\":[{\"type\":\"choropleth\",\"colorbar\":{\"outlinewidth\":0,\"ticks\":\"\"}}],\"histogram2d\":[{\"type\":\"histogram2d\",\"colorbar\":{\"outlinewidth\":0,\"ticks\":\"\"},\"colorscale\":[[0.0,\"#0d0887\"],[0.1111111111111111,\"#46039f\"],[0.2222222222222222,\"#7201a8\"],[0.3333333333333333,\"#9c179e\"],[0.4444444444444444,\"#bd3786\"],[0.5555555555555556,\"#d8576b\"],[0.6666666666666666,\"#ed7953\"],[0.7777777777777778,\"#fb9f3a\"],[0.8888888888888888,\"#fdca26\"],[1.0,\"#f0f921\"]]}],\"heatmap\":[{\"type\":\"heatmap\",\"colorbar\":{\"outlinewidth\":0,\"ticks\":\"\"},\"colorscale\":[[0.0,\"#0d0887\"],[0.1111111111111111,\"#46039f\"],[0.2222222222222222,\"#7201a8\"],[0.3333333333333333,\"#9c179e\"],[0.4444444444444444,\"#bd3786\"],[0.5555555555555556,\"#d8576b\"],[0.6666666666666666,\"#ed7953\"],[0.7777777777777778,\"#fb9f3a\"],[0.8888888888888888,\"#fdca26\"],[1.0,\"#f0f921\"]]}],\"heatmapgl\":[{\"type\":\"heatmapgl\",\"colorbar\":{\"outlinewidth\":0,\"ticks\":\"\"},\"colorscale\":[[0.0,\"#0d0887\"],[0.1111111111111111,\"#46039f\"],[0.2222222222222222,\"#7201a8\"],[0.3333333333333333,\"#9c179e\"],[0.4444444444444444,\"#bd3786\"],[0.5555555555555556,\"#d8576b\"],[0.6666666666666666,\"#ed7953\"],[0.7777777777777778,\"#fb9f3a\"],[0.8888888888888888,\"#fdca26\"],[1.0,\"#f0f921\"]]}],\"contourcarpet\":[{\"type\":\"contourcarpet\",\"colorbar\":{\"outlinewidth\":0,\"ticks\":\"\"}}],\"contour\":[{\"type\":\"contour\",\"colorbar\":{\"outlinewidth\":0,\"ticks\":\"\"},\"colorscale\":[[0.0,\"#0d0887\"],[0.1111111111111111,\"#46039f\"],[0.2222222222222222,\"#7201a8\"],[0.3333333333333333,\"#9c179e\"],[0.4444444444444444,\"#bd3786\"],[0.5555555555555556,\"#d8576b\"],[0.6666666666666666,\"#ed7953\"],[0.7777777777777778,\"#fb9f3a\"],[0.8888888888888888,\"#fdca26\"],[1.0,\"#f0f921\"]]}],\"surface\":[{\"type\":\"surface\",\"colorbar\":{\"outlinewidth\":0,\"ticks\":\"\"},\"colorscale\":[[0.0,\"#0d0887\"],[0.1111111111111111,\"#46039f\"],[0.2222222222222222,\"#7201a8\"],[0.3333333333333333,\"#9c179e\"],[0.4444444444444444,\"#bd3786\"],[0.5555555555555556,\"#d8576b\"],[0.6666666666666666,\"#ed7953\"],[0.7777777777777778,\"#fb9f3a\"],[0.8888888888888888,\"#fdca26\"],[1.0,\"#f0f921\"]]}],\"mesh3d\":[{\"type\":\"mesh3d\",\"colorbar\":{\"outlinewidth\":0,\"ticks\":\"\"}}],\"scatter\":[{\"fillpattern\":{\"fillmode\":\"overlay\",\"size\":10,\"solidity\":0.2},\"type\":\"scatter\"}],\"parcoords\":[{\"type\":\"parcoords\",\"line\":{\"colorbar\":{\"outlinewidth\":0,\"ticks\":\"\"}}}],\"scatterpolargl\":[{\"type\":\"scatterpolargl\",\"marker\":{\"colorbar\":{\"outlinewidth\":0,\"ticks\":\"\"}}}],\"bar\":[{\"error_x\":{\"color\":\"#2a3f5f\"},\"error_y\":{\"color\":\"#2a3f5f\"},\"marker\":{\"line\":{\"color\":\"#E5ECF6\",\"width\":0.5},\"pattern\":{\"fillmode\":\"overlay\",\"size\":10,\"solidity\":0.2}},\"type\":\"bar\"}],\"scattergeo\":[{\"type\":\"scattergeo\",\"marker\":{\"colorbar\":{\"outlinewidth\":0,\"ticks\":\"\"}}}],\"scatterpolar\":[{\"type\":\"scatterpolar\",\"marker\":{\"colorbar\":{\"outlinewidth\":0,\"ticks\":\"\"}}}],\"histogram\":[{\"marker\":{\"pattern\":{\"fillmode\":\"overlay\",\"size\":10,\"solidity\":0.2}},\"type\":\"histogram\"}],\"scattergl\":[{\"type\":\"scattergl\",\"marker\":{\"colorbar\":{\"outlinewidth\":0,\"ticks\":\"\"}}}],\"scatter3d\":[{\"type\":\"scatter3d\",\"line\":{\"colorbar\":{\"outlinewidth\":0,\"ticks\":\"\"}},\"marker\":{\"colorbar\":{\"outlinewidth\":0,\"ticks\":\"\"}}}],\"scattermapbox\":[{\"type\":\"scattermapbox\",\"marker\":{\"colorbar\":{\"outlinewidth\":0,\"ticks\":\"\"}}}],\"scatterternary\":[{\"type\":\"scatterternary\",\"marker\":{\"colorbar\":{\"outlinewidth\":0,\"ticks\":\"\"}}}],\"scattercarpet\":[{\"type\":\"scattercarpet\",\"marker\":{\"colorbar\":{\"outlinewidth\":0,\"ticks\":\"\"}}}],\"carpet\":[{\"aaxis\":{\"endlinecolor\":\"#2a3f5f\",\"gridcolor\":\"white\",\"linecolor\":\"white\",\"minorgridcolor\":\"white\",\"startlinecolor\":\"#2a3f5f\"},\"baxis\":{\"endlinecolor\":\"#2a3f5f\",\"gridcolor\":\"white\",\"linecolor\":\"white\",\"minorgridcolor\":\"white\",\"startlinecolor\":\"#2a3f5f\"},\"type\":\"carpet\"}],\"table\":[{\"cells\":{\"fill\":{\"color\":\"#EBF0F8\"},\"line\":{\"color\":\"white\"}},\"header\":{\"fill\":{\"color\":\"#C8D4E3\"},\"line\":{\"color\":\"white\"}},\"type\":\"table\"}],\"barpolar\":[{\"marker\":{\"line\":{\"color\":\"#E5ECF6\",\"width\":0.5},\"pattern\":{\"fillmode\":\"overlay\",\"size\":10,\"solidity\":0.2}},\"type\":\"barpolar\"}],\"pie\":[{\"automargin\":true,\"type\":\"pie\"}]},\"layout\":{\"autotypenumbers\":\"strict\",\"colorway\":[\"#636efa\",\"#EF553B\",\"#00cc96\",\"#ab63fa\",\"#FFA15A\",\"#19d3f3\",\"#FF6692\",\"#B6E880\",\"#FF97FF\",\"#FECB52\"],\"font\":{\"color\":\"#2a3f5f\"},\"hovermode\":\"closest\",\"hoverlabel\":{\"align\":\"left\"},\"paper_bgcolor\":\"white\",\"plot_bgcolor\":\"#E5ECF6\",\"polar\":{\"bgcolor\":\"#E5ECF6\",\"angularaxis\":{\"gridcolor\":\"white\",\"linecolor\":\"white\",\"ticks\":\"\"},\"radialaxis\":{\"gridcolor\":\"white\",\"linecolor\":\"white\",\"ticks\":\"\"}},\"ternary\":{\"bgcolor\":\"#E5ECF6\",\"aaxis\":{\"gridcolor\":\"white\",\"linecolor\":\"white\",\"ticks\":\"\"},\"baxis\":{\"gridcolor\":\"white\",\"linecolor\":\"white\",\"ticks\":\"\"},\"caxis\":{\"gridcolor\":\"white\",\"linecolor\":\"white\",\"ticks\":\"\"}},\"coloraxis\":{\"colorbar\":{\"outlinewidth\":0,\"ticks\":\"\"}},\"colorscale\":{\"sequential\":[[0.0,\"#0d0887\"],[0.1111111111111111,\"#46039f\"],[0.2222222222222222,\"#7201a8\"],[0.3333333333333333,\"#9c179e\"],[0.4444444444444444,\"#bd3786\"],[0.5555555555555556,\"#d8576b\"],[0.6666666666666666,\"#ed7953\"],[0.7777777777777778,\"#fb9f3a\"],[0.8888888888888888,\"#fdca26\"],[1.0,\"#f0f921\"]],\"sequentialminus\":[[0.0,\"#0d0887\"],[0.1111111111111111,\"#46039f\"],[0.2222222222222222,\"#7201a8\"],[0.3333333333333333,\"#9c179e\"],[0.4444444444444444,\"#bd3786\"],[0.5555555555555556,\"#d8576b\"],[0.6666666666666666,\"#ed7953\"],[0.7777777777777778,\"#fb9f3a\"],[0.8888888888888888,\"#fdca26\"],[1.0,\"#f0f921\"]],\"diverging\":[[0,\"#8e0152\"],[0.1,\"#c51b7d\"],[0.2,\"#de77ae\"],[0.3,\"#f1b6da\"],[0.4,\"#fde0ef\"],[0.5,\"#f7f7f7\"],[0.6,\"#e6f5d0\"],[0.7,\"#b8e186\"],[0.8,\"#7fbc41\"],[0.9,\"#4d9221\"],[1,\"#276419\"]]},\"xaxis\":{\"gridcolor\":\"white\",\"linecolor\":\"white\",\"ticks\":\"\",\"title\":{\"standoff\":15},\"zerolinecolor\":\"white\",\"automargin\":true,\"zerolinewidth\":2},\"yaxis\":{\"gridcolor\":\"white\",\"linecolor\":\"white\",\"ticks\":\"\",\"title\":{\"standoff\":15},\"zerolinecolor\":\"white\",\"automargin\":true,\"zerolinewidth\":2},\"scene\":{\"xaxis\":{\"backgroundcolor\":\"#E5ECF6\",\"gridcolor\":\"white\",\"linecolor\":\"white\",\"showbackground\":true,\"ticks\":\"\",\"zerolinecolor\":\"white\",\"gridwidth\":2},\"yaxis\":{\"backgroundcolor\":\"#E5ECF6\",\"gridcolor\":\"white\",\"linecolor\":\"white\",\"showbackground\":true,\"ticks\":\"\",\"zerolinecolor\":\"white\",\"gridwidth\":2},\"zaxis\":{\"backgroundcolor\":\"#E5ECF6\",\"gridcolor\":\"white\",\"linecolor\":\"white\",\"showbackground\":true,\"ticks\":\"\",\"zerolinecolor\":\"white\",\"gridwidth\":2}},\"shapedefaults\":{\"line\":{\"color\":\"#2a3f5f\"}},\"annotationdefaults\":{\"arrowcolor\":\"#2a3f5f\",\"arrowhead\":0,\"arrowwidth\":1},\"geo\":{\"bgcolor\":\"white\",\"landcolor\":\"#E5ECF6\",\"subunitcolor\":\"white\",\"showland\":true,\"showlakes\":true,\"lakecolor\":\"white\"},\"title\":{\"x\":0.05},\"mapbox\":{\"style\":\"light\"}}},\"title\":{\"text\":\"Precision and Recall for Models\"},\"xaxis\":{\"title\":{\"text\":\"Models\"}},\"yaxis\":{\"title\":{\"text\":\"Metric Value (%)\"}}},                        {\"responsive\": true}                    ).then(function(){\n",
              "                            \n",
              "var gd = document.getElementById('2735bb04-047b-4578-be21-86663a93402c');\n",
              "var x = new MutationObserver(function (mutations, observer) {{\n",
              "        var display = window.getComputedStyle(gd).display;\n",
              "        if (!display || display === 'none') {{\n",
              "            console.log([gd, 'removed!']);\n",
              "            Plotly.purge(gd);\n",
              "            observer.disconnect();\n",
              "        }}\n",
              "}});\n",
              "\n",
              "// Listen for the removal of the full notebook cells\n",
              "var notebookContainer = gd.closest('#notebook-container');\n",
              "if (notebookContainer) {{\n",
              "    x.observe(notebookContainer, {childList: true});\n",
              "}}\n",
              "\n",
              "// Listen for the clearing of the current output cell\n",
              "var outputEl = gd.closest('.output');\n",
              "if (outputEl) {{\n",
              "    x.observe(outputEl, {childList: true});\n",
              "}}\n",
              "\n",
              "                        })                };                            </script>        </div>\n",
              "</body>\n",
              "</html>"
            ]
          },
          "metadata": {}
        }
      ]
    },
    {
      "cell_type": "code",
      "source": [
        "import plotly.graph_objects as go\n",
        "from plotly.subplots import make_subplots # Import make_subplots\n",
        "\n",
        "# Sample data (replace with your actual data)\n",
        "models = ['Logistic Regression', 'SVM', 'Random Forest', 'Random Forest (CV)', 'XGBoost', 'XGBoost (Tuned)', 'XGBoost (CV)']\n",
        "accuracy = [82.02, 82.0, 83, 84.4, 81.2, 82.27, 65.4]  # Example accuracy values\n",
        "precision = [0.97, 0.95, 0.97, 0.96, 0.86, 0.92, 0.85]  # Example precision values\n",
        "recall = [0.91, 0.88, 0.91, 0.93, 0.54, 0.78, 0.45]  # Example recall values\n",
        "\n",
        "\n",
        "# Create subplots\n",
        "fig = make_subplots(rows=1, cols=3, subplot_titles=('Accuracy', 'Precision', 'Recall'))\n",
        "\n",
        "# Add traces for accuracy\n",
        "fig.add_trace(go.Bar(x=models, y=accuracy, name='Accuracy'), row=1, col=1)\n",
        "\n",
        "# Add traces for precision\n",
        "fig.add_trace(go.Bar(x=models, y=precision, name='Precision'), row=1, col=2)\n",
        "\n",
        "# Add traces for recall\n",
        "fig.add_trace(go.Bar(x=models, y=recall, name='Recall'), row=1, col=3)\n",
        "\n",
        "\n",
        "# Update layout\n",
        "fig.update_layout(height=500, width=1200, title_text=\"Model Evaluation Metrics\")\n",
        "\n",
        "# Show the plot\n",
        "fig.show()"
      ],
      "metadata": {
        "id": "rAUVltKr6zdv",
        "colab": {
          "base_uri": "https://localhost:8080/",
          "height": 537
        },
        "outputId": "d552a20c-e692-41ef-f26e-c55efa5d7eac"
      },
      "execution_count": null,
      "outputs": [
        {
          "output_type": "display_data",
          "data": {
            "text/html": [
              "<html>\n",
              "<head><meta charset=\"utf-8\" /></head>\n",
              "<body>\n",
              "    <div>            <script src=\"https://cdnjs.cloudflare.com/ajax/libs/mathjax/2.7.5/MathJax.js?config=TeX-AMS-MML_SVG\"></script><script type=\"text/javascript\">if (window.MathJax && window.MathJax.Hub && window.MathJax.Hub.Config) {window.MathJax.Hub.Config({SVG: {font: \"STIX-Web\"}});}</script>                <script type=\"text/javascript\">window.PlotlyConfig = {MathJaxConfig: 'local'};</script>\n",
              "        <script charset=\"utf-8\" src=\"https://cdn.plot.ly/plotly-2.35.2.min.js\"></script>                <div id=\"1e93a96a-cc82-4d81-8329-375fb06c63ae\" class=\"plotly-graph-div\" style=\"height:500px; width:1200px;\"></div>            <script type=\"text/javascript\">                                    window.PLOTLYENV=window.PLOTLYENV || {};                                    if (document.getElementById(\"1e93a96a-cc82-4d81-8329-375fb06c63ae\")) {                    Plotly.newPlot(                        \"1e93a96a-cc82-4d81-8329-375fb06c63ae\",                        [{\"name\":\"Accuracy\",\"x\":[\"Logistic Regression\",\"SVM\",\"Random Forest\",\"Random Forest (CV)\",\"XGBoost\",\"XGBoost (Tuned)\",\"XGBoost (CV)\"],\"y\":[82.02,82.0,83,84.4,81.2,82.27,65.4],\"type\":\"bar\",\"xaxis\":\"x\",\"yaxis\":\"y\"},{\"name\":\"Precision\",\"x\":[\"Logistic Regression\",\"SVM\",\"Random Forest\",\"Random Forest (CV)\",\"XGBoost\",\"XGBoost (Tuned)\",\"XGBoost (CV)\"],\"y\":[0.97,0.95,0.97,0.96,0.86,0.92,0.85],\"type\":\"bar\",\"xaxis\":\"x2\",\"yaxis\":\"y2\"},{\"name\":\"Recall\",\"x\":[\"Logistic Regression\",\"SVM\",\"Random Forest\",\"Random Forest (CV)\",\"XGBoost\",\"XGBoost (Tuned)\",\"XGBoost (CV)\"],\"y\":[0.91,0.88,0.91,0.93,0.54,0.78,0.45],\"type\":\"bar\",\"xaxis\":\"x3\",\"yaxis\":\"y3\"}],                        {\"template\":{\"data\":{\"histogram2dcontour\":[{\"type\":\"histogram2dcontour\",\"colorbar\":{\"outlinewidth\":0,\"ticks\":\"\"},\"colorscale\":[[0.0,\"#0d0887\"],[0.1111111111111111,\"#46039f\"],[0.2222222222222222,\"#7201a8\"],[0.3333333333333333,\"#9c179e\"],[0.4444444444444444,\"#bd3786\"],[0.5555555555555556,\"#d8576b\"],[0.6666666666666666,\"#ed7953\"],[0.7777777777777778,\"#fb9f3a\"],[0.8888888888888888,\"#fdca26\"],[1.0,\"#f0f921\"]]}],\"choropleth\":[{\"type\":\"choropleth\",\"colorbar\":{\"outlinewidth\":0,\"ticks\":\"\"}}],\"histogram2d\":[{\"type\":\"histogram2d\",\"colorbar\":{\"outlinewidth\":0,\"ticks\":\"\"},\"colorscale\":[[0.0,\"#0d0887\"],[0.1111111111111111,\"#46039f\"],[0.2222222222222222,\"#7201a8\"],[0.3333333333333333,\"#9c179e\"],[0.4444444444444444,\"#bd3786\"],[0.5555555555555556,\"#d8576b\"],[0.6666666666666666,\"#ed7953\"],[0.7777777777777778,\"#fb9f3a\"],[0.8888888888888888,\"#fdca26\"],[1.0,\"#f0f921\"]]}],\"heatmap\":[{\"type\":\"heatmap\",\"colorbar\":{\"outlinewidth\":0,\"ticks\":\"\"},\"colorscale\":[[0.0,\"#0d0887\"],[0.1111111111111111,\"#46039f\"],[0.2222222222222222,\"#7201a8\"],[0.3333333333333333,\"#9c179e\"],[0.4444444444444444,\"#bd3786\"],[0.5555555555555556,\"#d8576b\"],[0.6666666666666666,\"#ed7953\"],[0.7777777777777778,\"#fb9f3a\"],[0.8888888888888888,\"#fdca26\"],[1.0,\"#f0f921\"]]}],\"heatmapgl\":[{\"type\":\"heatmapgl\",\"colorbar\":{\"outlinewidth\":0,\"ticks\":\"\"},\"colorscale\":[[0.0,\"#0d0887\"],[0.1111111111111111,\"#46039f\"],[0.2222222222222222,\"#7201a8\"],[0.3333333333333333,\"#9c179e\"],[0.4444444444444444,\"#bd3786\"],[0.5555555555555556,\"#d8576b\"],[0.6666666666666666,\"#ed7953\"],[0.7777777777777778,\"#fb9f3a\"],[0.8888888888888888,\"#fdca26\"],[1.0,\"#f0f921\"]]}],\"contourcarpet\":[{\"type\":\"contourcarpet\",\"colorbar\":{\"outlinewidth\":0,\"ticks\":\"\"}}],\"contour\":[{\"type\":\"contour\",\"colorbar\":{\"outlinewidth\":0,\"ticks\":\"\"},\"colorscale\":[[0.0,\"#0d0887\"],[0.1111111111111111,\"#46039f\"],[0.2222222222222222,\"#7201a8\"],[0.3333333333333333,\"#9c179e\"],[0.4444444444444444,\"#bd3786\"],[0.5555555555555556,\"#d8576b\"],[0.6666666666666666,\"#ed7953\"],[0.7777777777777778,\"#fb9f3a\"],[0.8888888888888888,\"#fdca26\"],[1.0,\"#f0f921\"]]}],\"surface\":[{\"type\":\"surface\",\"colorbar\":{\"outlinewidth\":0,\"ticks\":\"\"},\"colorscale\":[[0.0,\"#0d0887\"],[0.1111111111111111,\"#46039f\"],[0.2222222222222222,\"#7201a8\"],[0.3333333333333333,\"#9c179e\"],[0.4444444444444444,\"#bd3786\"],[0.5555555555555556,\"#d8576b\"],[0.6666666666666666,\"#ed7953\"],[0.7777777777777778,\"#fb9f3a\"],[0.8888888888888888,\"#fdca26\"],[1.0,\"#f0f921\"]]}],\"mesh3d\":[{\"type\":\"mesh3d\",\"colorbar\":{\"outlinewidth\":0,\"ticks\":\"\"}}],\"scatter\":[{\"fillpattern\":{\"fillmode\":\"overlay\",\"size\":10,\"solidity\":0.2},\"type\":\"scatter\"}],\"parcoords\":[{\"type\":\"parcoords\",\"line\":{\"colorbar\":{\"outlinewidth\":0,\"ticks\":\"\"}}}],\"scatterpolargl\":[{\"type\":\"scatterpolargl\",\"marker\":{\"colorbar\":{\"outlinewidth\":0,\"ticks\":\"\"}}}],\"bar\":[{\"error_x\":{\"color\":\"#2a3f5f\"},\"error_y\":{\"color\":\"#2a3f5f\"},\"marker\":{\"line\":{\"color\":\"#E5ECF6\",\"width\":0.5},\"pattern\":{\"fillmode\":\"overlay\",\"size\":10,\"solidity\":0.2}},\"type\":\"bar\"}],\"scattergeo\":[{\"type\":\"scattergeo\",\"marker\":{\"colorbar\":{\"outlinewidth\":0,\"ticks\":\"\"}}}],\"scatterpolar\":[{\"type\":\"scatterpolar\",\"marker\":{\"colorbar\":{\"outlinewidth\":0,\"ticks\":\"\"}}}],\"histogram\":[{\"marker\":{\"pattern\":{\"fillmode\":\"overlay\",\"size\":10,\"solidity\":0.2}},\"type\":\"histogram\"}],\"scattergl\":[{\"type\":\"scattergl\",\"marker\":{\"colorbar\":{\"outlinewidth\":0,\"ticks\":\"\"}}}],\"scatter3d\":[{\"type\":\"scatter3d\",\"line\":{\"colorbar\":{\"outlinewidth\":0,\"ticks\":\"\"}},\"marker\":{\"colorbar\":{\"outlinewidth\":0,\"ticks\":\"\"}}}],\"scattermapbox\":[{\"type\":\"scattermapbox\",\"marker\":{\"colorbar\":{\"outlinewidth\":0,\"ticks\":\"\"}}}],\"scatterternary\":[{\"type\":\"scatterternary\",\"marker\":{\"colorbar\":{\"outlinewidth\":0,\"ticks\":\"\"}}}],\"scattercarpet\":[{\"type\":\"scattercarpet\",\"marker\":{\"colorbar\":{\"outlinewidth\":0,\"ticks\":\"\"}}}],\"carpet\":[{\"aaxis\":{\"endlinecolor\":\"#2a3f5f\",\"gridcolor\":\"white\",\"linecolor\":\"white\",\"minorgridcolor\":\"white\",\"startlinecolor\":\"#2a3f5f\"},\"baxis\":{\"endlinecolor\":\"#2a3f5f\",\"gridcolor\":\"white\",\"linecolor\":\"white\",\"minorgridcolor\":\"white\",\"startlinecolor\":\"#2a3f5f\"},\"type\":\"carpet\"}],\"table\":[{\"cells\":{\"fill\":{\"color\":\"#EBF0F8\"},\"line\":{\"color\":\"white\"}},\"header\":{\"fill\":{\"color\":\"#C8D4E3\"},\"line\":{\"color\":\"white\"}},\"type\":\"table\"}],\"barpolar\":[{\"marker\":{\"line\":{\"color\":\"#E5ECF6\",\"width\":0.5},\"pattern\":{\"fillmode\":\"overlay\",\"size\":10,\"solidity\":0.2}},\"type\":\"barpolar\"}],\"pie\":[{\"automargin\":true,\"type\":\"pie\"}]},\"layout\":{\"autotypenumbers\":\"strict\",\"colorway\":[\"#636efa\",\"#EF553B\",\"#00cc96\",\"#ab63fa\",\"#FFA15A\",\"#19d3f3\",\"#FF6692\",\"#B6E880\",\"#FF97FF\",\"#FECB52\"],\"font\":{\"color\":\"#2a3f5f\"},\"hovermode\":\"closest\",\"hoverlabel\":{\"align\":\"left\"},\"paper_bgcolor\":\"white\",\"plot_bgcolor\":\"#E5ECF6\",\"polar\":{\"bgcolor\":\"#E5ECF6\",\"angularaxis\":{\"gridcolor\":\"white\",\"linecolor\":\"white\",\"ticks\":\"\"},\"radialaxis\":{\"gridcolor\":\"white\",\"linecolor\":\"white\",\"ticks\":\"\"}},\"ternary\":{\"bgcolor\":\"#E5ECF6\",\"aaxis\":{\"gridcolor\":\"white\",\"linecolor\":\"white\",\"ticks\":\"\"},\"baxis\":{\"gridcolor\":\"white\",\"linecolor\":\"white\",\"ticks\":\"\"},\"caxis\":{\"gridcolor\":\"white\",\"linecolor\":\"white\",\"ticks\":\"\"}},\"coloraxis\":{\"colorbar\":{\"outlinewidth\":0,\"ticks\":\"\"}},\"colorscale\":{\"sequential\":[[0.0,\"#0d0887\"],[0.1111111111111111,\"#46039f\"],[0.2222222222222222,\"#7201a8\"],[0.3333333333333333,\"#9c179e\"],[0.4444444444444444,\"#bd3786\"],[0.5555555555555556,\"#d8576b\"],[0.6666666666666666,\"#ed7953\"],[0.7777777777777778,\"#fb9f3a\"],[0.8888888888888888,\"#fdca26\"],[1.0,\"#f0f921\"]],\"sequentialminus\":[[0.0,\"#0d0887\"],[0.1111111111111111,\"#46039f\"],[0.2222222222222222,\"#7201a8\"],[0.3333333333333333,\"#9c179e\"],[0.4444444444444444,\"#bd3786\"],[0.5555555555555556,\"#d8576b\"],[0.6666666666666666,\"#ed7953\"],[0.7777777777777778,\"#fb9f3a\"],[0.8888888888888888,\"#fdca26\"],[1.0,\"#f0f921\"]],\"diverging\":[[0,\"#8e0152\"],[0.1,\"#c51b7d\"],[0.2,\"#de77ae\"],[0.3,\"#f1b6da\"],[0.4,\"#fde0ef\"],[0.5,\"#f7f7f7\"],[0.6,\"#e6f5d0\"],[0.7,\"#b8e186\"],[0.8,\"#7fbc41\"],[0.9,\"#4d9221\"],[1,\"#276419\"]]},\"xaxis\":{\"gridcolor\":\"white\",\"linecolor\":\"white\",\"ticks\":\"\",\"title\":{\"standoff\":15},\"zerolinecolor\":\"white\",\"automargin\":true,\"zerolinewidth\":2},\"yaxis\":{\"gridcolor\":\"white\",\"linecolor\":\"white\",\"ticks\":\"\",\"title\":{\"standoff\":15},\"zerolinecolor\":\"white\",\"automargin\":true,\"zerolinewidth\":2},\"scene\":{\"xaxis\":{\"backgroundcolor\":\"#E5ECF6\",\"gridcolor\":\"white\",\"linecolor\":\"white\",\"showbackground\":true,\"ticks\":\"\",\"zerolinecolor\":\"white\",\"gridwidth\":2},\"yaxis\":{\"backgroundcolor\":\"#E5ECF6\",\"gridcolor\":\"white\",\"linecolor\":\"white\",\"showbackground\":true,\"ticks\":\"\",\"zerolinecolor\":\"white\",\"gridwidth\":2},\"zaxis\":{\"backgroundcolor\":\"#E5ECF6\",\"gridcolor\":\"white\",\"linecolor\":\"white\",\"showbackground\":true,\"ticks\":\"\",\"zerolinecolor\":\"white\",\"gridwidth\":2}},\"shapedefaults\":{\"line\":{\"color\":\"#2a3f5f\"}},\"annotationdefaults\":{\"arrowcolor\":\"#2a3f5f\",\"arrowhead\":0,\"arrowwidth\":1},\"geo\":{\"bgcolor\":\"white\",\"landcolor\":\"#E5ECF6\",\"subunitcolor\":\"white\",\"showland\":true,\"showlakes\":true,\"lakecolor\":\"white\"},\"title\":{\"x\":0.05},\"mapbox\":{\"style\":\"light\"}}},\"xaxis\":{\"anchor\":\"y\",\"domain\":[0.0,0.2888888888888889]},\"yaxis\":{\"anchor\":\"x\",\"domain\":[0.0,1.0]},\"xaxis2\":{\"anchor\":\"y2\",\"domain\":[0.35555555555555557,0.6444444444444445]},\"yaxis2\":{\"anchor\":\"x2\",\"domain\":[0.0,1.0]},\"xaxis3\":{\"anchor\":\"y3\",\"domain\":[0.7111111111111111,1.0]},\"yaxis3\":{\"anchor\":\"x3\",\"domain\":[0.0,1.0]},\"annotations\":[{\"font\":{\"size\":16},\"showarrow\":false,\"text\":\"Accuracy\",\"x\":0.14444444444444446,\"xanchor\":\"center\",\"xref\":\"paper\",\"y\":1.0,\"yanchor\":\"bottom\",\"yref\":\"paper\"},{\"font\":{\"size\":16},\"showarrow\":false,\"text\":\"Precision\",\"x\":0.5,\"xanchor\":\"center\",\"xref\":\"paper\",\"y\":1.0,\"yanchor\":\"bottom\",\"yref\":\"paper\"},{\"font\":{\"size\":16},\"showarrow\":false,\"text\":\"Recall\",\"x\":0.8555555555555556,\"xanchor\":\"center\",\"xref\":\"paper\",\"y\":1.0,\"yanchor\":\"bottom\",\"yref\":\"paper\"}],\"title\":{\"text\":\"Model Evaluation Metrics\"},\"height\":500,\"width\":1200},                        {\"responsive\": true}                    ).then(function(){\n",
              "                            \n",
              "var gd = document.getElementById('1e93a96a-cc82-4d81-8329-375fb06c63ae');\n",
              "var x = new MutationObserver(function (mutations, observer) {{\n",
              "        var display = window.getComputedStyle(gd).display;\n",
              "        if (!display || display === 'none') {{\n",
              "            console.log([gd, 'removed!']);\n",
              "            Plotly.purge(gd);\n",
              "            observer.disconnect();\n",
              "        }}\n",
              "}});\n",
              "\n",
              "// Listen for the removal of the full notebook cells\n",
              "var notebookContainer = gd.closest('#notebook-container');\n",
              "if (notebookContainer) {{\n",
              "    x.observe(notebookContainer, {childList: true});\n",
              "}}\n",
              "\n",
              "// Listen for the clearing of the current output cell\n",
              "var outputEl = gd.closest('.output');\n",
              "if (outputEl) {{\n",
              "    x.observe(outputEl, {childList: true});\n",
              "}}\n",
              "\n",
              "                        })                };                            </script>        </div>\n",
              "</body>\n",
              "</html>"
            ]
          },
          "metadata": {}
        }
      ]
    },
    {
      "cell_type": "code",
      "source": [],
      "metadata": {
        "id": "3S8A29Kz6zgX"
      },
      "execution_count": null,
      "outputs": []
    },
    {
      "cell_type": "code",
      "source": [
        "import plotly.graph_objects as go\n",
        "\n",
        "# Metrics data without SVM\n",
        "models = ['Random', 'Logistic Regression', 'Random Forest',\n",
        "          'RF Stratified KFold', 'XGBoost', 'XGBoost Tuned', 'XGBoost Stratified KFold']\n",
        "\n",
        "accuracy = [0.5010, 0.8202, 0.8300, 0.8441, 0.8123, 0.8227, 0.6542]\n",
        "precision_class_1 = [0.25, 0.59, 0.60, 0.60, 0.64, 0.61, 0.41]\n",
        "recall_class_1 = [0.51, 0.91, 0.91, 0.91, 0.54, 0.78, 0.98]\n",
        "roc_auc = [0.5031, 0.9166, 0.8810, 0.9251, 0.8557, 0.8869, 0.9033]\n",
        "\n",
        "# Create subplots\n",
        "from plotly.subplots import make_subplots\n",
        "\n",
        "fig = make_subplots(\n",
        "    rows=2, cols=2,\n",
        "    subplot_titles=(\"Accuracy\", \"Precision (Class 1)\", \"Recall (Class 1)\", \"ROC-AUC\")\n",
        ")\n",
        "\n",
        "# Accuracy Plot\n",
        "fig.add_trace(\n",
        "    go.Bar(x=models, y=accuracy, name=\"Accuracy\", marker_color='skyblue'),\n",
        "    row=1, col=1\n",
        ")\n",
        "\n",
        "# Precision (Class 1) Plot\n",
        "fig.add_trace(\n",
        "    go.Bar(x=models, y=precision_class_1, name=\"Precision (Class 1)\", marker_color='lightgreen'),\n",
        "    row=1, col=2\n",
        ")\n",
        "\n",
        "# Recall (Class 1) Plot\n",
        "fig.add_trace(\n",
        "    go.Bar(x=models, y=recall_class_1, name=\"Recall (Class 1)\", marker_color='salmon'),\n",
        "    row=2, col=1\n",
        ")\n",
        "\n",
        "# ROC-AUC Plot\n",
        "fig.add_trace(\n",
        "    go.Bar(x=models, y=roc_auc, name=\"ROC-AUC\", marker_color='orange'),\n",
        "    row=2, col=2\n",
        ")\n",
        "\n",
        "# Update layout\n",
        "fig.update_layout(\n",
        "    height=800, width=1000, title_text=\"Model Performance Metrics\",\n",
        "    showlegend=False\n",
        ")\n",
        "\n",
        "# Update x-axis labels for readability\n",
        "fig.update_xaxes(tickangle=45)\n",
        "\n",
        "# Show the plot\n",
        "fig.show()\n"
      ],
      "metadata": {
        "colab": {
          "base_uri": "https://localhost:8080/",
          "height": 817
        },
        "id": "6DFXpkkhBfLN",
        "outputId": "05f08d32-4dd1-4c87-d050-c67cddb8e11e"
      },
      "execution_count": null,
      "outputs": [
        {
          "output_type": "display_data",
          "data": {
            "text/html": [
              "<html>\n",
              "<head><meta charset=\"utf-8\" /></head>\n",
              "<body>\n",
              "    <div>            <script src=\"https://cdnjs.cloudflare.com/ajax/libs/mathjax/2.7.5/MathJax.js?config=TeX-AMS-MML_SVG\"></script><script type=\"text/javascript\">if (window.MathJax && window.MathJax.Hub && window.MathJax.Hub.Config) {window.MathJax.Hub.Config({SVG: {font: \"STIX-Web\"}});}</script>                <script type=\"text/javascript\">window.PlotlyConfig = {MathJaxConfig: 'local'};</script>\n",
              "        <script charset=\"utf-8\" src=\"https://cdn.plot.ly/plotly-2.35.2.min.js\"></script>                <div id=\"c336d375-c400-4eae-8cb7-e3475fad7b6e\" class=\"plotly-graph-div\" style=\"height:800px; width:1000px;\"></div>            <script type=\"text/javascript\">                                    window.PLOTLYENV=window.PLOTLYENV || {};                                    if (document.getElementById(\"c336d375-c400-4eae-8cb7-e3475fad7b6e\")) {                    Plotly.newPlot(                        \"c336d375-c400-4eae-8cb7-e3475fad7b6e\",                        [{\"marker\":{\"color\":\"skyblue\"},\"name\":\"Accuracy\",\"x\":[\"Random\",\"Logistic Regression\",\"Random Forest\",\"RF Stratified KFold\",\"XGBoost\",\"XGBoost Tuned\",\"XGBoost Stratified KFold\"],\"y\":[0.501,0.8202,0.83,0.8441,0.8123,0.8227,0.6542],\"type\":\"bar\",\"xaxis\":\"x\",\"yaxis\":\"y\"},{\"marker\":{\"color\":\"lightgreen\"},\"name\":\"Precision (Class 1)\",\"x\":[\"Random\",\"Logistic Regression\",\"Random Forest\",\"RF Stratified KFold\",\"XGBoost\",\"XGBoost Tuned\",\"XGBoost Stratified KFold\"],\"y\":[0.25,0.59,0.6,0.6,0.64,0.61,0.41],\"type\":\"bar\",\"xaxis\":\"x2\",\"yaxis\":\"y2\"},{\"marker\":{\"color\":\"salmon\"},\"name\":\"Recall (Class 1)\",\"x\":[\"Random\",\"Logistic Regression\",\"Random Forest\",\"RF Stratified KFold\",\"XGBoost\",\"XGBoost Tuned\",\"XGBoost Stratified KFold\"],\"y\":[0.51,0.91,0.91,0.91,0.54,0.78,0.98],\"type\":\"bar\",\"xaxis\":\"x3\",\"yaxis\":\"y3\"},{\"marker\":{\"color\":\"orange\"},\"name\":\"ROC-AUC\",\"x\":[\"Random\",\"Logistic Regression\",\"Random Forest\",\"RF Stratified KFold\",\"XGBoost\",\"XGBoost Tuned\",\"XGBoost Stratified KFold\"],\"y\":[0.5031,0.9166,0.881,0.9251,0.8557,0.8869,0.9033],\"type\":\"bar\",\"xaxis\":\"x4\",\"yaxis\":\"y4\"}],                        {\"template\":{\"data\":{\"histogram2dcontour\":[{\"type\":\"histogram2dcontour\",\"colorbar\":{\"outlinewidth\":0,\"ticks\":\"\"},\"colorscale\":[[0.0,\"#0d0887\"],[0.1111111111111111,\"#46039f\"],[0.2222222222222222,\"#7201a8\"],[0.3333333333333333,\"#9c179e\"],[0.4444444444444444,\"#bd3786\"],[0.5555555555555556,\"#d8576b\"],[0.6666666666666666,\"#ed7953\"],[0.7777777777777778,\"#fb9f3a\"],[0.8888888888888888,\"#fdca26\"],[1.0,\"#f0f921\"]]}],\"choropleth\":[{\"type\":\"choropleth\",\"colorbar\":{\"outlinewidth\":0,\"ticks\":\"\"}}],\"histogram2d\":[{\"type\":\"histogram2d\",\"colorbar\":{\"outlinewidth\":0,\"ticks\":\"\"},\"colorscale\":[[0.0,\"#0d0887\"],[0.1111111111111111,\"#46039f\"],[0.2222222222222222,\"#7201a8\"],[0.3333333333333333,\"#9c179e\"],[0.4444444444444444,\"#bd3786\"],[0.5555555555555556,\"#d8576b\"],[0.6666666666666666,\"#ed7953\"],[0.7777777777777778,\"#fb9f3a\"],[0.8888888888888888,\"#fdca26\"],[1.0,\"#f0f921\"]]}],\"heatmap\":[{\"type\":\"heatmap\",\"colorbar\":{\"outlinewidth\":0,\"ticks\":\"\"},\"colorscale\":[[0.0,\"#0d0887\"],[0.1111111111111111,\"#46039f\"],[0.2222222222222222,\"#7201a8\"],[0.3333333333333333,\"#9c179e\"],[0.4444444444444444,\"#bd3786\"],[0.5555555555555556,\"#d8576b\"],[0.6666666666666666,\"#ed7953\"],[0.7777777777777778,\"#fb9f3a\"],[0.8888888888888888,\"#fdca26\"],[1.0,\"#f0f921\"]]}],\"heatmapgl\":[{\"type\":\"heatmapgl\",\"colorbar\":{\"outlinewidth\":0,\"ticks\":\"\"},\"colorscale\":[[0.0,\"#0d0887\"],[0.1111111111111111,\"#46039f\"],[0.2222222222222222,\"#7201a8\"],[0.3333333333333333,\"#9c179e\"],[0.4444444444444444,\"#bd3786\"],[0.5555555555555556,\"#d8576b\"],[0.6666666666666666,\"#ed7953\"],[0.7777777777777778,\"#fb9f3a\"],[0.8888888888888888,\"#fdca26\"],[1.0,\"#f0f921\"]]}],\"contourcarpet\":[{\"type\":\"contourcarpet\",\"colorbar\":{\"outlinewidth\":0,\"ticks\":\"\"}}],\"contour\":[{\"type\":\"contour\",\"colorbar\":{\"outlinewidth\":0,\"ticks\":\"\"},\"colorscale\":[[0.0,\"#0d0887\"],[0.1111111111111111,\"#46039f\"],[0.2222222222222222,\"#7201a8\"],[0.3333333333333333,\"#9c179e\"],[0.4444444444444444,\"#bd3786\"],[0.5555555555555556,\"#d8576b\"],[0.6666666666666666,\"#ed7953\"],[0.7777777777777778,\"#fb9f3a\"],[0.8888888888888888,\"#fdca26\"],[1.0,\"#f0f921\"]]}],\"surface\":[{\"type\":\"surface\",\"colorbar\":{\"outlinewidth\":0,\"ticks\":\"\"},\"colorscale\":[[0.0,\"#0d0887\"],[0.1111111111111111,\"#46039f\"],[0.2222222222222222,\"#7201a8\"],[0.3333333333333333,\"#9c179e\"],[0.4444444444444444,\"#bd3786\"],[0.5555555555555556,\"#d8576b\"],[0.6666666666666666,\"#ed7953\"],[0.7777777777777778,\"#fb9f3a\"],[0.8888888888888888,\"#fdca26\"],[1.0,\"#f0f921\"]]}],\"mesh3d\":[{\"type\":\"mesh3d\",\"colorbar\":{\"outlinewidth\":0,\"ticks\":\"\"}}],\"scatter\":[{\"fillpattern\":{\"fillmode\":\"overlay\",\"size\":10,\"solidity\":0.2},\"type\":\"scatter\"}],\"parcoords\":[{\"type\":\"parcoords\",\"line\":{\"colorbar\":{\"outlinewidth\":0,\"ticks\":\"\"}}}],\"scatterpolargl\":[{\"type\":\"scatterpolargl\",\"marker\":{\"colorbar\":{\"outlinewidth\":0,\"ticks\":\"\"}}}],\"bar\":[{\"error_x\":{\"color\":\"#2a3f5f\"},\"error_y\":{\"color\":\"#2a3f5f\"},\"marker\":{\"line\":{\"color\":\"#E5ECF6\",\"width\":0.5},\"pattern\":{\"fillmode\":\"overlay\",\"size\":10,\"solidity\":0.2}},\"type\":\"bar\"}],\"scattergeo\":[{\"type\":\"scattergeo\",\"marker\":{\"colorbar\":{\"outlinewidth\":0,\"ticks\":\"\"}}}],\"scatterpolar\":[{\"type\":\"scatterpolar\",\"marker\":{\"colorbar\":{\"outlinewidth\":0,\"ticks\":\"\"}}}],\"histogram\":[{\"marker\":{\"pattern\":{\"fillmode\":\"overlay\",\"size\":10,\"solidity\":0.2}},\"type\":\"histogram\"}],\"scattergl\":[{\"type\":\"scattergl\",\"marker\":{\"colorbar\":{\"outlinewidth\":0,\"ticks\":\"\"}}}],\"scatter3d\":[{\"type\":\"scatter3d\",\"line\":{\"colorbar\":{\"outlinewidth\":0,\"ticks\":\"\"}},\"marker\":{\"colorbar\":{\"outlinewidth\":0,\"ticks\":\"\"}}}],\"scattermapbox\":[{\"type\":\"scattermapbox\",\"marker\":{\"colorbar\":{\"outlinewidth\":0,\"ticks\":\"\"}}}],\"scatterternary\":[{\"type\":\"scatterternary\",\"marker\":{\"colorbar\":{\"outlinewidth\":0,\"ticks\":\"\"}}}],\"scattercarpet\":[{\"type\":\"scattercarpet\",\"marker\":{\"colorbar\":{\"outlinewidth\":0,\"ticks\":\"\"}}}],\"carpet\":[{\"aaxis\":{\"endlinecolor\":\"#2a3f5f\",\"gridcolor\":\"white\",\"linecolor\":\"white\",\"minorgridcolor\":\"white\",\"startlinecolor\":\"#2a3f5f\"},\"baxis\":{\"endlinecolor\":\"#2a3f5f\",\"gridcolor\":\"white\",\"linecolor\":\"white\",\"minorgridcolor\":\"white\",\"startlinecolor\":\"#2a3f5f\"},\"type\":\"carpet\"}],\"table\":[{\"cells\":{\"fill\":{\"color\":\"#EBF0F8\"},\"line\":{\"color\":\"white\"}},\"header\":{\"fill\":{\"color\":\"#C8D4E3\"},\"line\":{\"color\":\"white\"}},\"type\":\"table\"}],\"barpolar\":[{\"marker\":{\"line\":{\"color\":\"#E5ECF6\",\"width\":0.5},\"pattern\":{\"fillmode\":\"overlay\",\"size\":10,\"solidity\":0.2}},\"type\":\"barpolar\"}],\"pie\":[{\"automargin\":true,\"type\":\"pie\"}]},\"layout\":{\"autotypenumbers\":\"strict\",\"colorway\":[\"#636efa\",\"#EF553B\",\"#00cc96\",\"#ab63fa\",\"#FFA15A\",\"#19d3f3\",\"#FF6692\",\"#B6E880\",\"#FF97FF\",\"#FECB52\"],\"font\":{\"color\":\"#2a3f5f\"},\"hovermode\":\"closest\",\"hoverlabel\":{\"align\":\"left\"},\"paper_bgcolor\":\"white\",\"plot_bgcolor\":\"#E5ECF6\",\"polar\":{\"bgcolor\":\"#E5ECF6\",\"angularaxis\":{\"gridcolor\":\"white\",\"linecolor\":\"white\",\"ticks\":\"\"},\"radialaxis\":{\"gridcolor\":\"white\",\"linecolor\":\"white\",\"ticks\":\"\"}},\"ternary\":{\"bgcolor\":\"#E5ECF6\",\"aaxis\":{\"gridcolor\":\"white\",\"linecolor\":\"white\",\"ticks\":\"\"},\"baxis\":{\"gridcolor\":\"white\",\"linecolor\":\"white\",\"ticks\":\"\"},\"caxis\":{\"gridcolor\":\"white\",\"linecolor\":\"white\",\"ticks\":\"\"}},\"coloraxis\":{\"colorbar\":{\"outlinewidth\":0,\"ticks\":\"\"}},\"colorscale\":{\"sequential\":[[0.0,\"#0d0887\"],[0.1111111111111111,\"#46039f\"],[0.2222222222222222,\"#7201a8\"],[0.3333333333333333,\"#9c179e\"],[0.4444444444444444,\"#bd3786\"],[0.5555555555555556,\"#d8576b\"],[0.6666666666666666,\"#ed7953\"],[0.7777777777777778,\"#fb9f3a\"],[0.8888888888888888,\"#fdca26\"],[1.0,\"#f0f921\"]],\"sequentialminus\":[[0.0,\"#0d0887\"],[0.1111111111111111,\"#46039f\"],[0.2222222222222222,\"#7201a8\"],[0.3333333333333333,\"#9c179e\"],[0.4444444444444444,\"#bd3786\"],[0.5555555555555556,\"#d8576b\"],[0.6666666666666666,\"#ed7953\"],[0.7777777777777778,\"#fb9f3a\"],[0.8888888888888888,\"#fdca26\"],[1.0,\"#f0f921\"]],\"diverging\":[[0,\"#8e0152\"],[0.1,\"#c51b7d\"],[0.2,\"#de77ae\"],[0.3,\"#f1b6da\"],[0.4,\"#fde0ef\"],[0.5,\"#f7f7f7\"],[0.6,\"#e6f5d0\"],[0.7,\"#b8e186\"],[0.8,\"#7fbc41\"],[0.9,\"#4d9221\"],[1,\"#276419\"]]},\"xaxis\":{\"gridcolor\":\"white\",\"linecolor\":\"white\",\"ticks\":\"\",\"title\":{\"standoff\":15},\"zerolinecolor\":\"white\",\"automargin\":true,\"zerolinewidth\":2},\"yaxis\":{\"gridcolor\":\"white\",\"linecolor\":\"white\",\"ticks\":\"\",\"title\":{\"standoff\":15},\"zerolinecolor\":\"white\",\"automargin\":true,\"zerolinewidth\":2},\"scene\":{\"xaxis\":{\"backgroundcolor\":\"#E5ECF6\",\"gridcolor\":\"white\",\"linecolor\":\"white\",\"showbackground\":true,\"ticks\":\"\",\"zerolinecolor\":\"white\",\"gridwidth\":2},\"yaxis\":{\"backgroundcolor\":\"#E5ECF6\",\"gridcolor\":\"white\",\"linecolor\":\"white\",\"showbackground\":true,\"ticks\":\"\",\"zerolinecolor\":\"white\",\"gridwidth\":2},\"zaxis\":{\"backgroundcolor\":\"#E5ECF6\",\"gridcolor\":\"white\",\"linecolor\":\"white\",\"showbackground\":true,\"ticks\":\"\",\"zerolinecolor\":\"white\",\"gridwidth\":2}},\"shapedefaults\":{\"line\":{\"color\":\"#2a3f5f\"}},\"annotationdefaults\":{\"arrowcolor\":\"#2a3f5f\",\"arrowhead\":0,\"arrowwidth\":1},\"geo\":{\"bgcolor\":\"white\",\"landcolor\":\"#E5ECF6\",\"subunitcolor\":\"white\",\"showland\":true,\"showlakes\":true,\"lakecolor\":\"white\"},\"title\":{\"x\":0.05},\"mapbox\":{\"style\":\"light\"}}},\"xaxis\":{\"anchor\":\"y\",\"domain\":[0.0,0.45],\"tickangle\":45},\"yaxis\":{\"anchor\":\"x\",\"domain\":[0.625,1.0]},\"xaxis2\":{\"anchor\":\"y2\",\"domain\":[0.55,1.0],\"tickangle\":45},\"yaxis2\":{\"anchor\":\"x2\",\"domain\":[0.625,1.0]},\"xaxis3\":{\"anchor\":\"y3\",\"domain\":[0.0,0.45],\"tickangle\":45},\"yaxis3\":{\"anchor\":\"x3\",\"domain\":[0.0,0.375]},\"xaxis4\":{\"anchor\":\"y4\",\"domain\":[0.55,1.0],\"tickangle\":45},\"yaxis4\":{\"anchor\":\"x4\",\"domain\":[0.0,0.375]},\"annotations\":[{\"font\":{\"size\":16},\"showarrow\":false,\"text\":\"Accuracy\",\"x\":0.225,\"xanchor\":\"center\",\"xref\":\"paper\",\"y\":1.0,\"yanchor\":\"bottom\",\"yref\":\"paper\"},{\"font\":{\"size\":16},\"showarrow\":false,\"text\":\"Precision (Class 1)\",\"x\":0.775,\"xanchor\":\"center\",\"xref\":\"paper\",\"y\":1.0,\"yanchor\":\"bottom\",\"yref\":\"paper\"},{\"font\":{\"size\":16},\"showarrow\":false,\"text\":\"Recall (Class 1)\",\"x\":0.225,\"xanchor\":\"center\",\"xref\":\"paper\",\"y\":0.375,\"yanchor\":\"bottom\",\"yref\":\"paper\"},{\"font\":{\"size\":16},\"showarrow\":false,\"text\":\"ROC-AUC\",\"x\":0.775,\"xanchor\":\"center\",\"xref\":\"paper\",\"y\":0.375,\"yanchor\":\"bottom\",\"yref\":\"paper\"}],\"title\":{\"text\":\"Model Performance Metrics\"},\"height\":800,\"width\":1000,\"showlegend\":false},                        {\"responsive\": true}                    ).then(function(){\n",
              "                            \n",
              "var gd = document.getElementById('c336d375-c400-4eae-8cb7-e3475fad7b6e');\n",
              "var x = new MutationObserver(function (mutations, observer) {{\n",
              "        var display = window.getComputedStyle(gd).display;\n",
              "        if (!display || display === 'none') {{\n",
              "            console.log([gd, 'removed!']);\n",
              "            Plotly.purge(gd);\n",
              "            observer.disconnect();\n",
              "        }}\n",
              "}});\n",
              "\n",
              "// Listen for the removal of the full notebook cells\n",
              "var notebookContainer = gd.closest('#notebook-container');\n",
              "if (notebookContainer) {{\n",
              "    x.observe(notebookContainer, {childList: true});\n",
              "}}\n",
              "\n",
              "// Listen for the clearing of the current output cell\n",
              "var outputEl = gd.closest('.output');\n",
              "if (outputEl) {{\n",
              "    x.observe(outputEl, {childList: true});\n",
              "}}\n",
              "\n",
              "                        })                };                            </script>        </div>\n",
              "</body>\n",
              "</html>"
            ]
          },
          "metadata": {}
        }
      ]
    },
    {
      "cell_type": "code",
      "source": [],
      "metadata": {
        "id": "DZ_YoscXDqTQ"
      },
      "execution_count": null,
      "outputs": []
    },
    {
      "cell_type": "markdown",
      "source": [
        "%% 5️⃣ Define the Multivariate Normal Distribution\n",
        "%\n",
        "% Each digit class \\( k \\) follows a **Multivariate Normal Distribution**:\n",
        "%\n",
        "% $$ p(x) = \\frac{1}{(2\\pi)^{D/2} |\\Sigma_k|^{1/2}} \\exp \\left( -\\frac{1}{2} (x - \\mu_k)^T \\Sigma_k^{-1} (x - \\mu_k) \\right) $$\n",
        "%\n",
        "% **Where:**\n",
        "%\n",
        "% - **\\( x \\) → The 256-dimensional pixel vector** of an image.\n",
        "% - **\\( $mu_k $) → The mean vector (computed earlier).\n",
        "% - **\\( $\\Sigma_k\\ $) → The covariance matrix (computed earlier).\n",
        "% - **\\( D = 256 \\) → Since \\( 16 \\times 16 = 256 \\) pixels.\n",
        "%\n",
        "% ---\n",
        "%\n",
        "%% Computational Cost of Estimating Multivariate Normal Distributions\n",
        "%\n",
        "% ### ** Computational Complexity Breakdown**\n",
        "%\n",
        "% **1️ Computing Sample Mean**\n",
        "% - Each class has **1100 images of size 256**.\n",
        "% - **Computational Cost:**  \n",
        "%\n",
        "% $$ O(ND) = O(1100 \\times 256) $$\n",
        "%\n",
        "% ---\n",
        "%\n",
        "% **2 Computing Sample Covariance Matrix**\n",
        "% - We compute a **\\( 256 \\times 256 \\) covariance matrix** per digit.\n",
        "% - **Computational Cost:**  \n",
        "%\n",
        "% $$ O(ND^2) = O(1100 \\times 256^2) $$  \n",
        "% *This dominates runtime due to large matrix calculations.*\n",
        "%\n",
        "% ---\n",
        "%\n",
        "% **3 Computing Multivariate Gaussian Density**\n",
        "% - **Computing determinant** $ |\\Sigma|: O(D^3)$\n",
        "% - **Computing inverse** $ Sigma^{-1} : ( O(D^3)$\n",
        "% - **Final density computation**: $ O(D^2)$\n",
        "%\n",
        "\n",
        "%\n",
        "% 🔥 **Total Complexity (Per Digit Class)**\n",
        "%\n",
        "% $$ O(ND^2 + D^3) = O(1100 \\times 256^2 + 256^3) $$\n",
        "\n",
        "\n",
        "![image.png](data:image/png;base64,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)\n"
      ],
      "metadata": {
        "id": "N_QN36jHjni7"
      }
    }
  ],
  "metadata": {
    "colab": {
      "provenance": [],
      "include_colab_link": true
    },
    "kernelspec": {
      "display_name": "Python 3",
      "name": "python3"
    },
    "language_info": {
      "name": "python"
    }
  },
  "nbformat": 4,
  "nbformat_minor": 0
}